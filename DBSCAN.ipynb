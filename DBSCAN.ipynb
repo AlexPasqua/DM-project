{
 "cells": [
  {
   "cell_type": "markdown",
   "metadata": {
    "collapsed": true,
    "pycharm": {
     "name": "#%% md\n"
    }
   },
   "source": [
    "# Density-based clustering"
   ]
  },
  {
   "cell_type": "code",
   "execution_count": 242,
   "metadata": {
    "pycharm": {
     "name": "#%%\n"
    }
   },
   "outputs": [],
   "source": [
    "import pandas as pd\n",
    "import numpy as np\n",
    "import matplotlib.pyplot as plt\n",
    "from sklearn.cluster import DBSCAN\n",
    "import seaborn as sns\n",
    "from tqdm.notebook import tqdm"
   ]
  },
  {
   "cell_type": "code",
   "execution_count": 243,
   "metadata": {
    "pycharm": {
     "name": "#%%\n"
    }
   },
   "outputs": [],
   "source": [
    "# read customer dataframe\n",
    "df = pd.read_csv('datasets/customer_dataframe.csv', sep='\\t', index_col=0)"
   ]
  },
  {
   "cell_type": "markdown",
   "source": [
    "Perform some dimensionality reduction by picking only the main attributes\n",
    "for describing a customer's shopping behaviour"
   ],
   "metadata": {
    "collapsed": false,
    "pycharm": {
     "name": "#%% md\n"
    }
   }
  },
  {
   "cell_type": "code",
   "execution_count": 244,
   "outputs": [
    {
     "name": "stdout",
     "output_type": "stream",
     "text": [
      "<class 'pandas.core.frame.DataFrame'>\n",
      "Int64Index: 4333 entries, 17850 to 12713\n",
      "Data columns (total 4 columns):\n",
      " #   Column         Non-Null Count  Dtype  \n",
      "---  ------         --------------  -----  \n",
      " 0   TProd          4333 non-null   int64  \n",
      " 1   MeanProdOrder  4333 non-null   float64\n",
      " 2   MeanSaleOrder  4333 non-null   float64\n",
      " 3   MeanPSale      4333 non-null   float64\n",
      "dtypes: float64(3), int64(1)\n",
      "memory usage: 169.3 KB\n"
     ]
    }
   ],
   "source": [
    "df_reduct = df[['TProd', 'MeanProdOrder', 'MeanSaleOrder', 'MeanPSale']]\n",
    "df_reduct.info()"
   ],
   "metadata": {
    "collapsed": false,
    "pycharm": {
     "name": "#%%\n"
    }
   }
  },
  {
   "cell_type": "code",
   "execution_count": 245,
   "metadata": {
    "pycharm": {
     "name": "#%%\n"
    }
   },
   "outputs": [
    {
     "data": {
      "text/plain": "               TProd  MeanProdOrder  MeanSaleOrder    MeanPSale\ncount    4333.000000    4333.000000    4333.000000  4333.000000\nmean     1129.535657     201.104614     327.882896     3.492819\nstd      4692.695935     274.590134     395.336014     8.997404\nmin         0.000000       0.000000      -0.000000     0.122000\n25%       157.000000      80.500000     155.050000     2.160000\n50%       370.000000     140.167000     241.900000     2.834000\n75%       971.000000     237.750000     371.560000     3.712000\nmax    196556.000000    7824.000000    9904.875000   434.650000",
      "text/html": "<div>\n<style scoped>\n    .dataframe tbody tr th:only-of-type {\n        vertical-align: middle;\n    }\n\n    .dataframe tbody tr th {\n        vertical-align: top;\n    }\n\n    .dataframe thead th {\n        text-align: right;\n    }\n</style>\n<table border=\"1\" class=\"dataframe\">\n  <thead>\n    <tr style=\"text-align: right;\">\n      <th></th>\n      <th>TProd</th>\n      <th>MeanProdOrder</th>\n      <th>MeanSaleOrder</th>\n      <th>MeanPSale</th>\n    </tr>\n  </thead>\n  <tbody>\n    <tr>\n      <th>count</th>\n      <td>4333.000000</td>\n      <td>4333.000000</td>\n      <td>4333.000000</td>\n      <td>4333.000000</td>\n    </tr>\n    <tr>\n      <th>mean</th>\n      <td>1129.535657</td>\n      <td>201.104614</td>\n      <td>327.882896</td>\n      <td>3.492819</td>\n    </tr>\n    <tr>\n      <th>std</th>\n      <td>4692.695935</td>\n      <td>274.590134</td>\n      <td>395.336014</td>\n      <td>8.997404</td>\n    </tr>\n    <tr>\n      <th>min</th>\n      <td>0.000000</td>\n      <td>0.000000</td>\n      <td>-0.000000</td>\n      <td>0.122000</td>\n    </tr>\n    <tr>\n      <th>25%</th>\n      <td>157.000000</td>\n      <td>80.500000</td>\n      <td>155.050000</td>\n      <td>2.160000</td>\n    </tr>\n    <tr>\n      <th>50%</th>\n      <td>370.000000</td>\n      <td>140.167000</td>\n      <td>241.900000</td>\n      <td>2.834000</td>\n    </tr>\n    <tr>\n      <th>75%</th>\n      <td>971.000000</td>\n      <td>237.750000</td>\n      <td>371.560000</td>\n      <td>3.712000</td>\n    </tr>\n    <tr>\n      <th>max</th>\n      <td>196556.000000</td>\n      <td>7824.000000</td>\n      <td>9904.875000</td>\n      <td>434.650000</td>\n    </tr>\n  </tbody>\n</table>\n</div>"
     },
     "execution_count": 245,
     "metadata": {},
     "output_type": "execute_result"
    }
   ],
   "source": [
    "df_reduct.describe()"
   ]
  },
  {
   "cell_type": "code",
   "execution_count": 246,
   "metadata": {
    "pycharm": {
     "name": "#%%\n"
    }
   },
   "outputs": [
    {
     "data": {
      "text/plain": "<AxesSubplot:>"
     },
     "execution_count": 246,
     "metadata": {},
     "output_type": "execute_result"
    },
    {
     "data": {
      "text/plain": "<Figure size 432x288 with 1 Axes>",
      "image/png": "[encoded data removed]"
     },
     "metadata": {
      "needs_background": "light"
     },
     "output_type": "display_data"
    }
   ],
   "source": [
    "df_reduct.boxplot(list(df_reduct.columns), rot=90)"
   ]
  },
  {
   "cell_type": "markdown",
   "metadata": {
    "pycharm": {
     "name": "#%% md\n"
    }
   },
   "source": [
    "## Preprocessing - Normalization"
   ]
  },
  {
   "cell_type": "code",
   "execution_count": 247,
   "metadata": {
    "pycharm": {
     "name": "#%%\n"
    }
   },
   "outputs": [],
   "source": [
    "# standard normalization: remove mean and scale to unit variance\n",
    "from sklearn.preprocessing import StandardScaler\n",
    "scaler = StandardScaler()\n",
    "df_norm = scaler.fit_transform(df_reduct.values)\n",
    "df_norm = pd.DataFrame(df_norm, columns=df_reduct.columns)"
   ]
  },
  {
   "cell_type": "code",
   "execution_count": 248,
   "metadata": {
    "pycharm": {
     "name": "#%%\n"
    }
   },
   "outputs": [
    {
     "data": {
      "text/plain": "              TProd  MeanProdOrder  MeanSaleOrder     MeanPSale\ncount  4.333000e+03   4.333000e+03   4.333000e+03  4.333000e+03\nmean   1.311872e-17   3.279680e-17  -5.493464e-17  4.181592e-17\nstd    1.000115e+00   1.000115e+00   1.000115e+00  1.000115e+00\nmin   -2.407286e-01  -7.324656e-01  -8.294735e-01 -3.746867e-01\n25%   -2.072685e-01  -4.392675e-01  -4.372302e-01 -1.481508e-01\n50%   -1.618735e-01  -2.219477e-01  -2.175183e-01 -7.323169e-02\n75%   -3.378739e-02   1.334703e-01   1.104937e-01  2.436327e-02\nmax    4.164962e+01   2.776420e+01   2.422774e+01  4.792570e+01",
      "text/html": "<div>\n<style scoped>\n    .dataframe tbody tr th:only-of-type {\n        vertical-align: middle;\n    }\n\n    .dataframe tbody tr th {\n        vertical-align: top;\n    }\n\n    .dataframe thead th {\n        text-align: right;\n    }\n</style>\n<table border=\"1\" class=\"dataframe\">\n  <thead>\n    <tr style=\"text-align: right;\">\n      <th></th>\n      <th>TProd</th>\n      <th>MeanProdOrder</th>\n      <th>MeanSaleOrder</th>\n      <th>MeanPSale</th>\n    </tr>\n  </thead>\n  <tbody>\n    <tr>\n      <th>count</th>\n      <td>4.333000e+03</td>\n      <td>4.333000e+03</td>\n      <td>4.333000e+03</td>\n      <td>4.333000e+03</td>\n    </tr>\n    <tr>\n      <th>mean</th>\n      <td>1.311872e-17</td>\n      <td>3.279680e-17</td>\n      <td>-5.493464e-17</td>\n      <td>4.181592e-17</td>\n    </tr>\n    <tr>\n      <th>std</th>\n      <td>1.000115e+00</td>\n      <td>1.000115e+00</td>\n      <td>1.000115e+00</td>\n      <td>1.000115e+00</td>\n    </tr>\n    <tr>\n      <th>min</th>\n      <td>-2.407286e-01</td>\n      <td>-7.324656e-01</td>\n      <td>-8.294735e-01</td>\n      <td>-3.746867e-01</td>\n    </tr>\n    <tr>\n      <th>25%</th>\n      <td>-2.072685e-01</td>\n      <td>-4.392675e-01</td>\n      <td>-4.372302e-01</td>\n      <td>-1.481508e-01</td>\n    </tr>\n    <tr>\n      <th>50%</th>\n      <td>-1.618735e-01</td>\n      <td>-2.219477e-01</td>\n      <td>-2.175183e-01</td>\n      <td>-7.323169e-02</td>\n    </tr>\n    <tr>\n      <th>75%</th>\n      <td>-3.378739e-02</td>\n      <td>1.334703e-01</td>\n      <td>1.104937e-01</td>\n      <td>2.436327e-02</td>\n    </tr>\n    <tr>\n      <th>max</th>\n      <td>4.164962e+01</td>\n      <td>2.776420e+01</td>\n      <td>2.422774e+01</td>\n      <td>4.792570e+01</td>\n    </tr>\n  </tbody>\n</table>\n</div>"
     },
     "execution_count": 248,
     "metadata": {},
     "output_type": "execute_result"
    }
   ],
   "source": [
    "df_norm.describe()"
   ]
  },
  {
   "cell_type": "code",
   "execution_count": 249,
   "metadata": {
    "pycharm": {
     "name": "#%%\n"
    }
   },
   "outputs": [
    {
     "data": {
      "text/plain": "<AxesSubplot:>"
     },
     "execution_count": 249,
     "metadata": {},
     "output_type": "execute_result"
    },
    {
     "data": {
      "text/plain": "<Figure size 432x288 with 1 Axes>",
      "image/png": "[encoded data removed]"
     },
     "metadata": {
      "needs_background": "light"
     },
     "output_type": "display_data"
    }
   ],
   "source": [
    "df_norm.boxplot(list(df_norm.columns), rot=90)"
   ]
  },
  {
   "cell_type": "markdown",
   "metadata": {
    "pycharm": {
     "name": "#%% md\n"
    }
   },
   "source": [
    "## DBSCAN"
   ]
  },
  {
   "cell_type": "code",
   "execution_count": 250,
   "metadata": {
    "pycharm": {
     "name": "#%%\n"
    }
   },
   "outputs": [
    {
     "data": {
      "text/plain": "'\\n# single dbscan\\ndbscan = DBSCAN(eps=0.75, min_samples=5)\\ndbscan.fit(df_norm)\\nnp.unique(dbscan.labels_, return_counts=True)\\n\\nprint(f\"Number of clusters: {len(np.unique(dbscan.labels_[dbscan.labels_ >= 0], return_counts=True)[0])}\")\\nif -1 in dbscan.labels_:\\n    print(f\"Number of classified data points: {sum(np.unique(dbscan.labels_, return_counts=True)[1][1 : ])}\")\\n    print(f\"Number of NON-classified (noisy) data points: {np.unique(dbscan.labels_, return_counts=True)[1][0]}\")\\n'"
     },
     "execution_count": 250,
     "metadata": {},
     "output_type": "execute_result"
    }
   ],
   "source": [
    "\"\"\"\n",
    "# single dbscan\n",
    "dbscan = DBSCAN(eps=0.75, min_samples=5)\n",
    "dbscan.fit(df_norm)\n",
    "np.unique(dbscan.labels_, return_counts=True)\n",
    "\n",
    "print(f\"Number of clusters: {len(np.unique(dbscan.labels_[dbscan.labels_ >= 0], return_counts=True)[0])}\")\n",
    "if -1 in dbscan.labels_:\n",
    "    print(f\"Number of classified data points: {sum(np.unique(dbscan.labels_, return_counts=True)[1][1 : ])}\")\n",
    "    print(f\"Number of NON-classified (noisy) data points: {np.unique(dbscan.labels_, return_counts=True)[1][0]}\")\n",
    "\"\"\""
   ]
  },
  {
   "cell_type": "code",
   "execution_count": 251,
   "metadata": {
    "pycharm": {
     "name": "#%%\n"
    }
   },
   "outputs": [],
   "source": [
    "from scipy.spatial.distance import pdist, squareform\n",
    "dist = pdist(X=df_norm, metric='euclidean')  #pair-wise distance: how every record is far from all others\n",
    "dist = squareform(dist) #distance matrix given the vector dist"
   ]
  },
  {
   "cell_type": "code",
   "execution_count": 252,
   "metadata": {
    "pycharm": {
     "name": "#%%\n"
    }
   },
   "outputs": [],
   "source": [
    "k = 5\n",
    "kth_distances = list()\n",
    "# for every row of the distance matrix...\n",
    "for d in dist:\n",
    "    # argsort returns the indexes that would sort d\n",
    "    # Pick k-th elem = k-th nn of i-th record ( for i in range(len(df_norm)) )\n",
    "    index_kth_distance = np.argsort(d)[k]\n",
    "    # kth_distances will be as long as the number of records in the dataframe\n",
    "    # Each elem of kth_distance will be the distance of the i-th record from its k-th nn\n",
    "    kth_distances.append(d[index_kth_distance])"
   ]
  },
  {
   "cell_type": "code",
   "execution_count": 253,
   "metadata": {
    "pycharm": {
     "name": "#%%\n"
    }
   },
   "outputs": [
    {
     "data": {
      "text/plain": "<Figure size 432x288 with 1 Axes>",
      "image/png": "[encoded data removed]"
     },
     "metadata": {
      "needs_background": "light"
     },
     "output_type": "display_data"
    },
    {
     "name": "stdout",
     "output_type": "stream",
     "text": [
      "Elbow of 5th-NN distances plot: x = 4000 --> eps = 0.25683869925326774\n"
     ]
    }
   ],
   "source": [
    "plt.figure(num=1)\n",
    "plt.plot(range(0, len(kth_distances)), sorted(kth_distances))\n",
    "plt.ylabel(f'{k}th-NN distance (eps)')\n",
    "plt.xlabel('sorted distances')\n",
    "plt.tick_params(axis='both', which='major')\n",
    "plt.grid()\n",
    "elb = 4000\n",
    "plt.axvline(x=elb, color='red', linestyle='-')\n",
    "plt.axhline(y=sorted(kth_distances)[elb], color='red', linestyle='-')\n",
    "plt.show()\n",
    "print(f\"Elbow of {k}th-NN distances plot: x = {elb} --> eps = {sorted(kth_distances)[elb]}\")"
   ]
  },
  {
   "cell_type": "markdown",
   "metadata": {
    "pycharm": {
     "name": "#%% md\n"
    }
   },
   "source": [
    "### Grid search for _eps_ and <i>min_samples</i>"
   ]
  },
  {
   "cell_type": "code",
   "execution_count": 254,
   "metadata": {
    "pycharm": {
     "name": "#%%\n"
    }
   },
   "outputs": [],
   "source": [
    "from sklearn.neighbors import NearestNeighbors\n",
    "\n",
    "# func to get metrics to evaluate the clustering done with certain eps and min_samples\n",
    "def get_metrics(eps, ms, dataset, iter_):\n",
    "\n",
    "    # Fitting\n",
    "    dbscan = DBSCAN(eps=eps, min_samples=ms)\n",
    "    dbscan.fit(dataset)\n",
    "\n",
    "    # Mean Noise Point Distance metric\n",
    "    noise_indices = (dbscan.labels_ == -1)  #list of booleans\n",
    "    if True in noise_indices:\n",
    "        nbrs = NearestNeighbors(n_neighbors = 5).fit(dataset)\n",
    "        distances, _ = nbrs.kneighbors(dataset)   #returns indices of and distances to the neighbors of each point\n",
    "        noise_distances = distances[noise_indices, 1 : ]\n",
    "        noise_mean_distance = round(noise_distances.mean(), 3)\n",
    "    else:\n",
    "        noise_mean_distance = None\n",
    "\n",
    "    # Number of found Clusters metric\n",
    "    number_of_clusters = len(np.unique(dbscan.labels_[dbscan.labels_ >= 0]))\n",
    "\n",
    "    # Log\n",
    "    print(\"%3d | Tested with eps = %3s and min_samples = %3s | %5s\\t%4s\" % (iter_, eps, ms, str(noise_mean_distance), number_of_clusters))\n",
    "\n",
    "    return noise_mean_distance, number_of_clusters"
   ]
  },
  {
   "cell_type": "code",
   "execution_count": 255,
   "metadata": {
    "pycharm": {
     "name": "#%%\n"
    }
   },
   "outputs": [
    {
     "name": "stdout",
     "output_type": "stream",
     "text": [
      "Grid search parameters:\n",
      "eps: [0.01, 0.06, 0.11, 0.16, 0.21, 0.26, 0.31, 0.36, 0.41, 0.46, 0.51, 0.56, 0.61, 0.66, 0.71, 0.76, 0.81, 0.86, 0.91, 0.96, 1.01, 1.06, 1.11, 1.16, 1.21, 1.26, 1.31, 1.36, 1.41, 1.46, 1.51, 1.56, 1.61, 1.66, 1.71, 1.76, 1.81, 1.86, 1.91, 1.96, 2.01, 2.06, 2.11, 2.16, 2.21, 2.26, 2.31, 2.36, 2.41, 2.46, 2.51, 2.56, 2.61, 2.66, 2.71, 2.76, 2.81, 2.86, 2.91, 2.96, 3.01, 3.06, 3.11, 3.16, 3.21, 3.26, 3.31, 3.36, 3.41, 3.46, 3.51, 3.56, 3.61, 3.66, 3.71, 3.76, 3.81, 3.86, 3.91, 3.96, 4.01, 4.06, 4.11, 4.16, 4.21, 4.26, 4.31, 4.36, 4.41, 4.46, 4.51, 4.56, 4.61, 4.66, 4.71, 4.76, 4.81, 4.86, 4.91, 4.96]\n",
      "min_samples: [3, 5, 7, 9, 11]\n"
     ]
    }
   ],
   "source": [
    "# Lists for the params to test in the grid search\n",
    "gs_eps_list = [round(eps, 2) for eps in np.arange(0.01, 5, 0.05)]\n",
    "gs_ms_list = range(3, 12, 2)\n",
    "\n",
    "print(\"Grid search parameters:\")\n",
    "print(\"eps:\", gs_eps_list)\n",
    "print(\"min_samples:\", list(gs_ms_list))"
   ]
  },
  {
   "cell_type": "markdown",
   "metadata": {
    "pycharm": {
     "name": "#%% md\n"
    }
   },
   "source": [
    "Dataframes to contain the results of the grid search"
   ]
  },
  {
   "cell_type": "code",
   "execution_count": 256,
   "metadata": {
    "pycharm": {
     "name": "#%%\n"
    }
   },
   "outputs": [],
   "source": [
    "# Dataframe for the metric on the avg distance of the noise points from the K nearest ones\n",
    "results_noise = pd.DataFrame(\n",
    "    data = np.zeros((len(gs_eps_list),len(gs_ms_list))), # Empty dataframe\n",
    "    columns = gs_ms_list,\n",
    "    index = gs_eps_list\n",
    ")\n",
    "\n",
    "# Dataframe for the metric on the number of clusters\n",
    "results_clusters = pd.DataFrame(\n",
    "    data = np.zeros((len(gs_eps_list),len(gs_ms_list))), # Empty dataframe\n",
    "    columns = gs_ms_list,\n",
    "    index = gs_eps_list\n",
    ")"
   ]
  },
  {
   "cell_type": "markdown",
   "metadata": {
    "pycharm": {
     "name": "#%% md\n"
    }
   },
   "source": [
    "Grid search cycle:"
   ]
  },
  {
   "cell_type": "code",
   "execution_count": 257,
   "metadata": {
    "pycharm": {
     "name": "#%%\n"
    }
   },
   "outputs": [
    {
     "name": "stdout",
     "output_type": "stream",
     "text": [
      "ITER| INFO                                        |  DIST    # CLUSTERS\n",
      "-------------------------------------------------------------------------\n",
      "  1 | Tested with eps = 0.01 and min_samples =   3 | 0.144\t   6\n",
      "  2 | Tested with eps = 0.01 and min_samples =   5 | 0.143\t   0\n",
      "  3 | Tested with eps = 0.01 and min_samples =   7 | 0.143\t   0\n",
      "  4 | Tested with eps = 0.01 and min_samples =   9 | 0.143\t   0\n",
      "  5 | Tested with eps = 0.01 and min_samples =  11 | 0.143\t   0\n",
      "  6 | Tested with eps = 0.06 and min_samples =   3 | 0.303\t  69\n",
      "  7 | Tested with eps = 0.06 and min_samples =   5 | 0.258\t  24\n",
      "  8 | Tested with eps = 0.06 and min_samples =   7 | 0.232\t  11\n",
      "  9 | Tested with eps = 0.06 and min_samples =   9 | 0.217\t   6\n",
      " 10 | Tested with eps = 0.06 and min_samples =  11 | 0.205\t   6\n",
      " 11 | Tested with eps = 0.11 and min_samples =   3 | 0.604\t  33\n",
      " 12 | Tested with eps = 0.11 and min_samples =   5 |  0.51\t  10\n",
      " 13 | Tested with eps = 0.11 and min_samples =   7 | 0.446\t   5\n",
      " 14 | Tested with eps = 0.11 and min_samples =   9 | 0.419\t   3\n",
      " 15 | Tested with eps = 0.11 and min_samples =  11 | 0.391\t   4\n",
      " 16 | Tested with eps = 0.16 and min_samples =   3 | 0.987\t  17\n",
      " 17 | Tested with eps = 0.16 and min_samples =   5 | 0.814\t   9\n",
      " 18 | Tested with eps = 0.16 and min_samples =   7 |  0.69\t   6\n",
      " 19 | Tested with eps = 0.16 and min_samples =   9 | 0.632\t   2\n",
      " 20 | Tested with eps = 0.16 and min_samples =  11 | 0.592\t   2\n",
      " 21 | Tested with eps = 0.21 and min_samples =   3 | 1.271\t   9\n",
      " 22 | Tested with eps = 0.21 and min_samples =   5 | 1.111\t   5\n",
      " 23 | Tested with eps = 0.21 and min_samples =   7 | 0.994\t   2\n",
      " 24 | Tested with eps = 0.21 and min_samples =   9 | 0.912\t   2\n",
      " 25 | Tested with eps = 0.21 and min_samples =  11 | 0.842\t   3\n",
      " 26 | Tested with eps = 0.26 and min_samples =   3 | 1.566\t   5\n",
      " 27 | Tested with eps = 0.26 and min_samples =   5 |  1.38\t   4\n",
      " 28 | Tested with eps = 0.26 and min_samples =   7 | 1.253\t   3\n",
      " 29 | Tested with eps = 0.26 and min_samples =   9 | 1.184\t   2\n",
      " 30 | Tested with eps = 0.26 and min_samples =  11 | 1.094\t   2\n",
      " 31 | Tested with eps = 0.31 and min_samples =   3 | 1.763\t   1\n",
      " 32 | Tested with eps = 0.31 and min_samples =   5 | 1.615\t   4\n",
      " 33 | Tested with eps = 0.31 and min_samples =   7 | 1.498\t   2\n",
      " 34 | Tested with eps = 0.31 and min_samples =   9 | 1.411\t   2\n",
      " 35 | Tested with eps = 0.31 and min_samples =  11 | 1.284\t   1\n",
      " 36 | Tested with eps = 0.36 and min_samples =   3 |  1.94\t   2\n",
      " 37 | Tested with eps = 0.36 and min_samples =   5 | 1.802\t   2\n",
      " 38 | Tested with eps = 0.36 and min_samples =   7 |  1.68\t   2\n",
      " 39 | Tested with eps = 0.36 and min_samples =   9 | 1.534\t   1\n",
      " 40 | Tested with eps = 0.36 and min_samples =  11 | 1.495\t   1\n",
      " 41 | Tested with eps = 0.41 and min_samples =   3 |  2.29\t   7\n",
      " 42 | Tested with eps = 0.41 and min_samples =   5 | 1.981\t   1\n",
      " 43 | Tested with eps = 0.41 and min_samples =   7 |  1.85\t   1\n",
      " 44 | Tested with eps = 0.41 and min_samples =   9 | 1.825\t   1\n",
      "\n"
     ]
    },
    {
     "data": {
      "text/plain": "HBox(children=(HTML(value='Proceeding of grid search'), FloatProgress(value=0.0), HTML(value='')))",
      "application/vnd.jupyter.widget-view+json": {
       "version_major": 2,
       "version_minor": 0,
       "model_id": "c2db97fa4af94caabe89f68162895ee3"
      }
     },
     "metadata": {},
     "output_type": "display_data"
    },
    {
     "ename": "KeyboardInterrupt",
     "evalue": "",
     "output_type": "error",
     "traceback": [
      "\u001B[1;31m---------------------------------------------------------------------------\u001B[0m",
      "\u001B[1;31mKeyboardInterrupt\u001B[0m                         Traceback (most recent call last)",
      "\u001B[1;32m<ipython-input-257-5f7cd21b47b5>\u001B[0m in \u001B[0;36m<module>\u001B[1;34m\u001B[0m\n\u001B[0;32m     10\u001B[0m \u001B[1;33m\u001B[0m\u001B[0m\n\u001B[0;32m     11\u001B[0m         \u001B[1;31m# Compute metrics\u001B[0m\u001B[1;33m\u001B[0m\u001B[1;33m\u001B[0m\u001B[1;33m\u001B[0m\u001B[0m\n\u001B[1;32m---> 12\u001B[1;33m         \u001B[0mnoise_metric\u001B[0m\u001B[1;33m,\u001B[0m \u001B[0mclusters_metric\u001B[0m \u001B[1;33m=\u001B[0m \u001B[0mget_metrics\u001B[0m\u001B[1;33m(\u001B[0m\u001B[0meps\u001B[0m\u001B[1;33m,\u001B[0m \u001B[0mms\u001B[0m\u001B[1;33m,\u001B[0m \u001B[0mdf_norm\u001B[0m\u001B[1;33m,\u001B[0m \u001B[0mi\u001B[0m\u001B[1;33m)\u001B[0m\u001B[1;33m\u001B[0m\u001B[1;33m\u001B[0m\u001B[0m\n\u001B[0m\u001B[0;32m     13\u001B[0m \u001B[1;33m\u001B[0m\u001B[0m\n\u001B[0;32m     14\u001B[0m         \u001B[1;31m# Insert results in the apposite dataframes\u001B[0m\u001B[1;33m\u001B[0m\u001B[1;33m\u001B[0m\u001B[1;33m\u001B[0m\u001B[0m\n",
      "\u001B[1;32m<ipython-input-254-42905d7630b4>\u001B[0m in \u001B[0;36mget_metrics\u001B[1;34m(eps, ms, dataset, iter_)\u001B[0m\n\u001B[0;32m     12\u001B[0m     \u001B[1;32mif\u001B[0m \u001B[1;32mTrue\u001B[0m \u001B[1;32min\u001B[0m \u001B[0mnoise_indices\u001B[0m\u001B[1;33m:\u001B[0m\u001B[1;33m\u001B[0m\u001B[1;33m\u001B[0m\u001B[0m\n\u001B[0;32m     13\u001B[0m         \u001B[0mnbrs\u001B[0m \u001B[1;33m=\u001B[0m \u001B[0mNearestNeighbors\u001B[0m\u001B[1;33m(\u001B[0m\u001B[0mn_neighbors\u001B[0m \u001B[1;33m=\u001B[0m \u001B[1;36m5\u001B[0m\u001B[1;33m)\u001B[0m\u001B[1;33m.\u001B[0m\u001B[0mfit\u001B[0m\u001B[1;33m(\u001B[0m\u001B[0mdataset\u001B[0m\u001B[1;33m)\u001B[0m\u001B[1;33m\u001B[0m\u001B[1;33m\u001B[0m\u001B[0m\n\u001B[1;32m---> 14\u001B[1;33m         \u001B[0mdistances\u001B[0m\u001B[1;33m,\u001B[0m \u001B[0m_\u001B[0m \u001B[1;33m=\u001B[0m \u001B[0mnbrs\u001B[0m\u001B[1;33m.\u001B[0m\u001B[0mkneighbors\u001B[0m\u001B[1;33m(\u001B[0m\u001B[0mdataset\u001B[0m\u001B[1;33m)\u001B[0m   \u001B[1;31m#returns indices of and distances to the neighbors of each point\u001B[0m\u001B[1;33m\u001B[0m\u001B[1;33m\u001B[0m\u001B[0m\n\u001B[0m\u001B[0;32m     15\u001B[0m         \u001B[0mnoise_distances\u001B[0m \u001B[1;33m=\u001B[0m \u001B[0mdistances\u001B[0m\u001B[1;33m[\u001B[0m\u001B[0mnoise_indices\u001B[0m\u001B[1;33m,\u001B[0m \u001B[1;36m1\u001B[0m \u001B[1;33m:\u001B[0m \u001B[1;33m]\u001B[0m\u001B[1;33m\u001B[0m\u001B[1;33m\u001B[0m\u001B[0m\n\u001B[0;32m     16\u001B[0m         \u001B[0mnoise_mean_distance\u001B[0m \u001B[1;33m=\u001B[0m \u001B[0mround\u001B[0m\u001B[1;33m(\u001B[0m\u001B[0mnoise_distances\u001B[0m\u001B[1;33m.\u001B[0m\u001B[0mmean\u001B[0m\u001B[1;33m(\u001B[0m\u001B[1;33m)\u001B[0m\u001B[1;33m,\u001B[0m \u001B[1;36m3\u001B[0m\u001B[1;33m)\u001B[0m\u001B[1;33m\u001B[0m\u001B[1;33m\u001B[0m\u001B[0m\n",
      "\u001B[1;32md:\\dm-project\\venv\\lib\\site-packages\\sklearn\\neighbors\\_base.py\u001B[0m in \u001B[0;36mkneighbors\u001B[1;34m(self, X, n_neighbors, return_distance)\u001B[0m\n\u001B[0;32m    604\u001B[0m                 \u001B[0mX\u001B[0m \u001B[1;33m=\u001B[0m \u001B[0m_check_precomputed\u001B[0m\u001B[1;33m(\u001B[0m\u001B[0mX\u001B[0m\u001B[1;33m)\u001B[0m\u001B[1;33m\u001B[0m\u001B[1;33m\u001B[0m\u001B[0m\n\u001B[0;32m    605\u001B[0m             \u001B[1;32melse\u001B[0m\u001B[1;33m:\u001B[0m\u001B[1;33m\u001B[0m\u001B[1;33m\u001B[0m\u001B[0m\n\u001B[1;32m--> 606\u001B[1;33m                 \u001B[0mX\u001B[0m \u001B[1;33m=\u001B[0m \u001B[0mcheck_array\u001B[0m\u001B[1;33m(\u001B[0m\u001B[0mX\u001B[0m\u001B[1;33m,\u001B[0m \u001B[0maccept_sparse\u001B[0m\u001B[1;33m=\u001B[0m\u001B[1;34m'csr'\u001B[0m\u001B[1;33m)\u001B[0m\u001B[1;33m\u001B[0m\u001B[1;33m\u001B[0m\u001B[0m\n\u001B[0m\u001B[0;32m    607\u001B[0m         \u001B[1;32melse\u001B[0m\u001B[1;33m:\u001B[0m\u001B[1;33m\u001B[0m\u001B[1;33m\u001B[0m\u001B[0m\n\u001B[0;32m    608\u001B[0m             \u001B[0mquery_is_train\u001B[0m \u001B[1;33m=\u001B[0m \u001B[1;32mTrue\u001B[0m\u001B[1;33m\u001B[0m\u001B[1;33m\u001B[0m\u001B[0m\n",
      "\u001B[1;32md:\\dm-project\\venv\\lib\\site-packages\\sklearn\\utils\\validation.py\u001B[0m in \u001B[0;36minner_f\u001B[1;34m(*args, **kwargs)\u001B[0m\n\u001B[0;32m     70\u001B[0m                           FutureWarning)\n\u001B[0;32m     71\u001B[0m         \u001B[0mkwargs\u001B[0m\u001B[1;33m.\u001B[0m\u001B[0mupdate\u001B[0m\u001B[1;33m(\u001B[0m\u001B[1;33m{\u001B[0m\u001B[0mk\u001B[0m\u001B[1;33m:\u001B[0m \u001B[0marg\u001B[0m \u001B[1;32mfor\u001B[0m \u001B[0mk\u001B[0m\u001B[1;33m,\u001B[0m \u001B[0marg\u001B[0m \u001B[1;32min\u001B[0m \u001B[0mzip\u001B[0m\u001B[1;33m(\u001B[0m\u001B[0msig\u001B[0m\u001B[1;33m.\u001B[0m\u001B[0mparameters\u001B[0m\u001B[1;33m,\u001B[0m \u001B[0margs\u001B[0m\u001B[1;33m)\u001B[0m\u001B[1;33m}\u001B[0m\u001B[1;33m)\u001B[0m\u001B[1;33m\u001B[0m\u001B[1;33m\u001B[0m\u001B[0m\n\u001B[1;32m---> 72\u001B[1;33m         \u001B[1;32mreturn\u001B[0m \u001B[0mf\u001B[0m\u001B[1;33m(\u001B[0m\u001B[1;33m**\u001B[0m\u001B[0mkwargs\u001B[0m\u001B[1;33m)\u001B[0m\u001B[1;33m\u001B[0m\u001B[1;33m\u001B[0m\u001B[0m\n\u001B[0m\u001B[0;32m     73\u001B[0m     \u001B[1;32mreturn\u001B[0m \u001B[0minner_f\u001B[0m\u001B[1;33m\u001B[0m\u001B[1;33m\u001B[0m\u001B[0m\n\u001B[0;32m     74\u001B[0m \u001B[1;33m\u001B[0m\u001B[0m\n",
      "\u001B[1;32md:\\dm-project\\venv\\lib\\site-packages\\sklearn\\utils\\validation.py\u001B[0m in \u001B[0;36mcheck_array\u001B[1;34m(array, accept_sparse, accept_large_sparse, dtype, order, copy, force_all_finite, ensure_2d, allow_nd, ensure_min_samples, ensure_min_features, estimator)\u001B[0m\n\u001B[0;32m    642\u001B[0m \u001B[1;33m\u001B[0m\u001B[0m\n\u001B[0;32m    643\u001B[0m         \u001B[1;32mif\u001B[0m \u001B[0mforce_all_finite\u001B[0m\u001B[1;33m:\u001B[0m\u001B[1;33m\u001B[0m\u001B[1;33m\u001B[0m\u001B[0m\n\u001B[1;32m--> 644\u001B[1;33m             _assert_all_finite(array,\n\u001B[0m\u001B[0;32m    645\u001B[0m                                allow_nan=force_all_finite == 'allow-nan')\n\u001B[0;32m    646\u001B[0m \u001B[1;33m\u001B[0m\u001B[0m\n",
      "\u001B[1;32md:\\dm-project\\venv\\lib\\site-packages\\sklearn\\utils\\validation.py\u001B[0m in \u001B[0;36m_assert_all_finite\u001B[1;34m(X, allow_nan, msg_dtype)\u001B[0m\n\u001B[0;32m     87\u001B[0m     \u001B[1;31m# safely to reduce dtype induced overflows.\u001B[0m\u001B[1;33m\u001B[0m\u001B[1;33m\u001B[0m\u001B[1;33m\u001B[0m\u001B[0m\n\u001B[0;32m     88\u001B[0m     \u001B[0mis_float\u001B[0m \u001B[1;33m=\u001B[0m \u001B[0mX\u001B[0m\u001B[1;33m.\u001B[0m\u001B[0mdtype\u001B[0m\u001B[1;33m.\u001B[0m\u001B[0mkind\u001B[0m \u001B[1;32min\u001B[0m \u001B[1;34m'fc'\u001B[0m\u001B[1;33m\u001B[0m\u001B[1;33m\u001B[0m\u001B[0m\n\u001B[1;32m---> 89\u001B[1;33m     \u001B[1;32mif\u001B[0m \u001B[0mis_float\u001B[0m \u001B[1;32mand\u001B[0m \u001B[1;33m(\u001B[0m\u001B[0mnp\u001B[0m\u001B[1;33m.\u001B[0m\u001B[0misfinite\u001B[0m\u001B[1;33m(\u001B[0m\u001B[0m_safe_accumulator_op\u001B[0m\u001B[1;33m(\u001B[0m\u001B[0mnp\u001B[0m\u001B[1;33m.\u001B[0m\u001B[0msum\u001B[0m\u001B[1;33m,\u001B[0m \u001B[0mX\u001B[0m\u001B[1;33m)\u001B[0m\u001B[1;33m)\u001B[0m\u001B[1;33m)\u001B[0m\u001B[1;33m:\u001B[0m\u001B[1;33m\u001B[0m\u001B[1;33m\u001B[0m\u001B[0m\n\u001B[0m\u001B[0;32m     90\u001B[0m         \u001B[1;32mpass\u001B[0m\u001B[1;33m\u001B[0m\u001B[1;33m\u001B[0m\u001B[0m\n\u001B[0;32m     91\u001B[0m     \u001B[1;32melif\u001B[0m \u001B[0mis_float\u001B[0m\u001B[1;33m:\u001B[0m\u001B[1;33m\u001B[0m\u001B[1;33m\u001B[0m\u001B[0m\n",
      "\u001B[1;32md:\\dm-project\\venv\\lib\\site-packages\\sklearn\\utils\\extmath.py\u001B[0m in \u001B[0;36m_safe_accumulator_op\u001B[1;34m(op, x, *args, **kwargs)\u001B[0m\n\u001B[0;32m    709\u001B[0m         \u001B[0mresult\u001B[0m \u001B[1;33m=\u001B[0m \u001B[0mop\u001B[0m\u001B[1;33m(\u001B[0m\u001B[0mx\u001B[0m\u001B[1;33m,\u001B[0m \u001B[1;33m*\u001B[0m\u001B[0margs\u001B[0m\u001B[1;33m,\u001B[0m \u001B[1;33m**\u001B[0m\u001B[0mkwargs\u001B[0m\u001B[1;33m,\u001B[0m \u001B[0mdtype\u001B[0m\u001B[1;33m=\u001B[0m\u001B[0mnp\u001B[0m\u001B[1;33m.\u001B[0m\u001B[0mfloat64\u001B[0m\u001B[1;33m)\u001B[0m\u001B[1;33m\u001B[0m\u001B[1;33m\u001B[0m\u001B[0m\n\u001B[0;32m    710\u001B[0m     \u001B[1;32melse\u001B[0m\u001B[1;33m:\u001B[0m\u001B[1;33m\u001B[0m\u001B[1;33m\u001B[0m\u001B[0m\n\u001B[1;32m--> 711\u001B[1;33m         \u001B[0mresult\u001B[0m \u001B[1;33m=\u001B[0m \u001B[0mop\u001B[0m\u001B[1;33m(\u001B[0m\u001B[0mx\u001B[0m\u001B[1;33m,\u001B[0m \u001B[1;33m*\u001B[0m\u001B[0margs\u001B[0m\u001B[1;33m,\u001B[0m \u001B[1;33m**\u001B[0m\u001B[0mkwargs\u001B[0m\u001B[1;33m)\u001B[0m\u001B[1;33m\u001B[0m\u001B[1;33m\u001B[0m\u001B[0m\n\u001B[0m\u001B[0;32m    712\u001B[0m     \u001B[1;32mreturn\u001B[0m \u001B[0mresult\u001B[0m\u001B[1;33m\u001B[0m\u001B[1;33m\u001B[0m\u001B[0m\n\u001B[0;32m    713\u001B[0m \u001B[1;33m\u001B[0m\u001B[0m\n",
      "\u001B[1;32m<__array_function__ internals>\u001B[0m in \u001B[0;36msum\u001B[1;34m(*args, **kwargs)\u001B[0m\n",
      "\u001B[1;32md:\\dm-project\\venv\\lib\\site-packages\\numpy\\core\\fromnumeric.py\u001B[0m in \u001B[0;36msum\u001B[1;34m(a, axis, dtype, out, keepdims, initial, where)\u001B[0m\n\u001B[0;32m   2239\u001B[0m         \u001B[1;32mreturn\u001B[0m \u001B[0mres\u001B[0m\u001B[1;33m\u001B[0m\u001B[1;33m\u001B[0m\u001B[0m\n\u001B[0;32m   2240\u001B[0m \u001B[1;33m\u001B[0m\u001B[0m\n\u001B[1;32m-> 2241\u001B[1;33m     return _wrapreduction(a, np.add, 'sum', axis, dtype, out, keepdims=keepdims,\n\u001B[0m\u001B[0;32m   2242\u001B[0m                           initial=initial, where=where)\n\u001B[0;32m   2243\u001B[0m \u001B[1;33m\u001B[0m\u001B[0m\n",
      "\u001B[1;32md:\\dm-project\\venv\\lib\\site-packages\\numpy\\core\\fromnumeric.py\u001B[0m in \u001B[0;36m_wrapreduction\u001B[1;34m(obj, ufunc, method, axis, dtype, out, **kwargs)\u001B[0m\n\u001B[0;32m     85\u001B[0m                 \u001B[1;32mreturn\u001B[0m \u001B[0mreduction\u001B[0m\u001B[1;33m(\u001B[0m\u001B[0maxis\u001B[0m\u001B[1;33m=\u001B[0m\u001B[0maxis\u001B[0m\u001B[1;33m,\u001B[0m \u001B[0mout\u001B[0m\u001B[1;33m=\u001B[0m\u001B[0mout\u001B[0m\u001B[1;33m,\u001B[0m \u001B[1;33m**\u001B[0m\u001B[0mpasskwargs\u001B[0m\u001B[1;33m)\u001B[0m\u001B[1;33m\u001B[0m\u001B[1;33m\u001B[0m\u001B[0m\n\u001B[0;32m     86\u001B[0m \u001B[1;33m\u001B[0m\u001B[0m\n\u001B[1;32m---> 87\u001B[1;33m     \u001B[1;32mreturn\u001B[0m \u001B[0mufunc\u001B[0m\u001B[1;33m.\u001B[0m\u001B[0mreduce\u001B[0m\u001B[1;33m(\u001B[0m\u001B[0mobj\u001B[0m\u001B[1;33m,\u001B[0m \u001B[0maxis\u001B[0m\u001B[1;33m,\u001B[0m \u001B[0mdtype\u001B[0m\u001B[1;33m,\u001B[0m \u001B[0mout\u001B[0m\u001B[1;33m,\u001B[0m \u001B[1;33m**\u001B[0m\u001B[0mpasskwargs\u001B[0m\u001B[1;33m)\u001B[0m\u001B[1;33m\u001B[0m\u001B[1;33m\u001B[0m\u001B[0m\n\u001B[0m\u001B[0;32m     88\u001B[0m \u001B[1;33m\u001B[0m\u001B[0m\n\u001B[0;32m     89\u001B[0m \u001B[1;33m\u001B[0m\u001B[0m\n",
      "\u001B[1;31mKeyboardInterrupt\u001B[0m: "
     ]
    }
   ],
   "source": [
    "# Grid search cycle\n",
    "i = 0\n",
    "\n",
    "print(\"ITER| INFO%s |  DIST    # CLUSTERS\" % (' '*39))\n",
    "print(\"-\"*73)\n",
    "\n",
    "for eps in tqdm(gs_eps_list, total=len(gs_eps_list), desc='Proceeding of grid search'):\n",
    "    for ms in gs_ms_list:\n",
    "        i += 1\n",
    "\n",
    "        # Compute metrics\n",
    "        noise_metric, clusters_metric = get_metrics(eps, ms, df_norm, i)\n",
    "\n",
    "        # Insert results in the apposite dataframes\n",
    "        results_noise.loc[eps, ms] = noise_metric\n",
    "        results_clusters.loc[eps, ms] = clusters_metric"
   ]
  },
  {
   "cell_type": "code",
   "execution_count": null,
   "outputs": [],
   "source": [
    "fig, (ax1, ax2) = plt.subplots(1, 2, figsize=(16,8))\n",
    "sns.heatmap(results_noise, annot = True, ax = ax1, cbar = False).set_title(\"Mean Noise Points Distance\")\n",
    "sns.heatmap(results_clusters, annot = True, ax = ax2, cbar = False).set_title(\"Number of clusters\")\n",
    "ax1.set_xlabel(\"min_samples\")\n",
    "ax2.set_xlabel(\"min_samples\")\n",
    "ax1.set_ylabel(\"epsilon\")\n",
    "ax2.set_ylabel(\"epsilon\")\n",
    "plt.show()\n"
   ],
   "metadata": {
    "collapsed": false,
    "pycharm": {
     "name": "#%%\n"
    }
   }
  }
 ],
 "metadata": {
  "kernelspec": {
   "display_name": "Python 3",
   "language": "python",
   "name": "python3"
  },
  "language_info": {
   "codemirror_mode": {
    "name": "ipython",
    "version": 3
   },
   "file_extension": ".py",
   "mimetype": "text/x-python",
   "name": "python",
   "nbconvert_exporter": "python",
   "pygments_lexer": "ipython3",
   "version": "3.8.6"
  }
 },
 "nbformat": 4,
 "nbformat_minor": 1
}