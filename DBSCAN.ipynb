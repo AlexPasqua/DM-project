{
 "cells": [
  {
   "cell_type": "markdown",
   "metadata": {
    "collapsed": true,
    "pycharm": {
     "name": "#%% md\n"
    }
   },
   "source": [
    "# Density-based clustering"
   ]
  },
  {
   "cell_type": "code",
   "execution_count": 167,
   "metadata": {
    "pycharm": {
     "name": "#%%\n"
    }
   },
   "outputs": [],
   "source": [
    "import pandas as pd\n",
    "import numpy as np\n",
    "import matplotlib.pyplot as plt\n",
    "import matplotlib.axes as axes\n",
    "from sklearn.cluster import DBSCAN\n",
    "import seaborn as sns\n",
    "from tqdm.notebook import tqdm"
   ]
  },
  {
   "cell_type": "code",
   "execution_count": 71,
   "metadata": {
    "pycharm": {
     "name": "#%%\n"
    }
   },
   "outputs": [],
   "source": [
    "# read customer dataframe\n",
    "df = pd.read_csv('datasets/customer_dataframe.csv', sep='\\t', index_col=0)"
   ]
  },
  {
   "cell_type": "markdown",
   "source": [
    "Perform some dimensionality reduction by picking only the main attributes\n",
    "for describing a customer's shopping behaviour"
   ],
   "metadata": {
    "collapsed": false,
    "pycharm": {
     "name": "#%% md\n"
    }
   }
  },
  {
   "cell_type": "code",
   "execution_count": 72,
   "outputs": [
    {
     "name": "stdout",
     "output_type": "stream",
     "text": [
      "<class 'pandas.core.frame.DataFrame'>\n",
      "Int64Index: 4333 entries, 17850 to 12713\n",
      "Data columns (total 4 columns):\n",
      " #   Column         Non-Null Count  Dtype  \n",
      "---  ------         --------------  -----  \n",
      " 0   TProd          4333 non-null   int64  \n",
      " 1   MeanProdOrder  4333 non-null   float64\n",
      " 2   MeanSaleOrder  4333 non-null   float64\n",
      " 3   MeanPSale      4333 non-null   float64\n",
      "dtypes: float64(3), int64(1)\n",
      "memory usage: 169.3 KB\n"
     ]
    }
   ],
   "source": [
    "df_reduct = df[['TProd', 'MeanProdOrder', 'MeanSaleOrder', 'MeanPSale']]\n",
    "df_reduct.info()"
   ],
   "metadata": {
    "collapsed": false,
    "pycharm": {
     "name": "#%%\n"
    }
   }
  },
  {
   "cell_type": "code",
   "execution_count": 73,
   "metadata": {
    "pycharm": {
     "name": "#%%\n"
    }
   },
   "outputs": [
    {
     "data": {
      "text/plain": "               TProd  MeanProdOrder  MeanSaleOrder    MeanPSale\ncount    4333.000000    4333.000000    4333.000000  4333.000000\nmean     1129.535657     201.104614     327.882896     3.492819\nstd      4692.695935     274.590134     395.336014     8.997404\nmin         0.000000       0.000000      -0.000000     0.122000\n25%       157.000000      80.500000     155.050000     2.160000\n50%       370.000000     140.167000     241.900000     2.834000\n75%       971.000000     237.750000     371.560000     3.712000\nmax    196556.000000    7824.000000    9904.875000   434.650000",
      "text/html": "<div>\n<style scoped>\n    .dataframe tbody tr th:only-of-type {\n        vertical-align: middle;\n    }\n\n    .dataframe tbody tr th {\n        vertical-align: top;\n    }\n\n    .dataframe thead th {\n        text-align: right;\n    }\n</style>\n<table border=\"1\" class=\"dataframe\">\n  <thead>\n    <tr style=\"text-align: right;\">\n      <th></th>\n      <th>TProd</th>\n      <th>MeanProdOrder</th>\n      <th>MeanSaleOrder</th>\n      <th>MeanPSale</th>\n    </tr>\n  </thead>\n  <tbody>\n    <tr>\n      <th>count</th>\n      <td>4333.000000</td>\n      <td>4333.000000</td>\n      <td>4333.000000</td>\n      <td>4333.000000</td>\n    </tr>\n    <tr>\n      <th>mean</th>\n      <td>1129.535657</td>\n      <td>201.104614</td>\n      <td>327.882896</td>\n      <td>3.492819</td>\n    </tr>\n    <tr>\n      <th>std</th>\n      <td>4692.695935</td>\n      <td>274.590134</td>\n      <td>395.336014</td>\n      <td>8.997404</td>\n    </tr>\n    <tr>\n      <th>min</th>\n      <td>0.000000</td>\n      <td>0.000000</td>\n      <td>-0.000000</td>\n      <td>0.122000</td>\n    </tr>\n    <tr>\n      <th>25%</th>\n      <td>157.000000</td>\n      <td>80.500000</td>\n      <td>155.050000</td>\n      <td>2.160000</td>\n    </tr>\n    <tr>\n      <th>50%</th>\n      <td>370.000000</td>\n      <td>140.167000</td>\n      <td>241.900000</td>\n      <td>2.834000</td>\n    </tr>\n    <tr>\n      <th>75%</th>\n      <td>971.000000</td>\n      <td>237.750000</td>\n      <td>371.560000</td>\n      <td>3.712000</td>\n    </tr>\n    <tr>\n      <th>max</th>\n      <td>196556.000000</td>\n      <td>7824.000000</td>\n      <td>9904.875000</td>\n      <td>434.650000</td>\n    </tr>\n  </tbody>\n</table>\n</div>"
     },
     "execution_count": 73,
     "metadata": {},
     "output_type": "execute_result"
    }
   ],
   "source": [
    "df_reduct.describe()"
   ]
  },
  {
   "cell_type": "code",
   "execution_count": 74,
   "metadata": {
    "pycharm": {
     "name": "#%%\n"
    }
   },
   "outputs": [
    {
     "data": {
      "text/plain": "<AxesSubplot:>"
     },
     "execution_count": 74,
     "metadata": {},
     "output_type": "execute_result"
    },
    {
     "data": {
      "text/plain": "<Figure size 432x288 with 1 Axes>",
      "image/png": "[encoded data removed]"
     },
     "metadata": {
      "needs_background": "light"
     },
     "output_type": "display_data"
    }
   ],
   "source": [
    "df_reduct.boxplot(list(df_reduct.columns), rot=90)"
   ]
  },
  {
   "cell_type": "markdown",
   "metadata": {
    "pycharm": {
     "name": "#%% md\n"
    }
   },
   "source": [
    "## Preprocessing - Normalization"
   ]
  },
  {
   "cell_type": "code",
   "execution_count": 75,
   "metadata": {
    "pycharm": {
     "name": "#%%\n"
    }
   },
   "outputs": [],
   "source": [
    "# standard normalization: remove mean and scale to unit variance\n",
    "from sklearn.preprocessing import StandardScaler\n",
    "scaler = StandardScaler()\n",
    "df_norm = scaler.fit_transform(df_reduct.values)\n",
    "df_norm = pd.DataFrame(df_norm, columns=df_reduct.columns)"
   ]
  },
  {
   "cell_type": "code",
   "execution_count": 76,
   "metadata": {
    "pycharm": {
     "name": "#%%\n"
    }
   },
   "outputs": [
    {
     "data": {
      "text/plain": "              TProd  MeanProdOrder  MeanSaleOrder     MeanPSale\ncount  4.333000e+03   4.333000e+03   4.333000e+03  4.333000e+03\nmean   1.311872e-17   3.279680e-17  -5.493464e-17  4.181592e-17\nstd    1.000115e+00   1.000115e+00   1.000115e+00  1.000115e+00\nmin   -2.407286e-01  -7.324656e-01  -8.294735e-01 -3.746867e-01\n25%   -2.072685e-01  -4.392675e-01  -4.372302e-01 -1.481508e-01\n50%   -1.618735e-01  -2.219477e-01  -2.175183e-01 -7.323169e-02\n75%   -3.378739e-02   1.334703e-01   1.104937e-01  2.436327e-02\nmax    4.164962e+01   2.776420e+01   2.422774e+01  4.792570e+01",
      "text/html": "<div>\n<style scoped>\n    .dataframe tbody tr th:only-of-type {\n        vertical-align: middle;\n    }\n\n    .dataframe tbody tr th {\n        vertical-align: top;\n    }\n\n    .dataframe thead th {\n        text-align: right;\n    }\n</style>\n<table border=\"1\" class=\"dataframe\">\n  <thead>\n    <tr style=\"text-align: right;\">\n      <th></th>\n      <th>TProd</th>\n      <th>MeanProdOrder</th>\n      <th>MeanSaleOrder</th>\n      <th>MeanPSale</th>\n    </tr>\n  </thead>\n  <tbody>\n    <tr>\n      <th>count</th>\n      <td>4.333000e+03</td>\n      <td>4.333000e+03</td>\n      <td>4.333000e+03</td>\n      <td>4.333000e+03</td>\n    </tr>\n    <tr>\n      <th>mean</th>\n      <td>1.311872e-17</td>\n      <td>3.279680e-17</td>\n      <td>-5.493464e-17</td>\n      <td>4.181592e-17</td>\n    </tr>\n    <tr>\n      <th>std</th>\n      <td>1.000115e+00</td>\n      <td>1.000115e+00</td>\n      <td>1.000115e+00</td>\n      <td>1.000115e+00</td>\n    </tr>\n    <tr>\n      <th>min</th>\n      <td>-2.407286e-01</td>\n      <td>-7.324656e-01</td>\n      <td>-8.294735e-01</td>\n      <td>-3.746867e-01</td>\n    </tr>\n    <tr>\n      <th>25%</th>\n      <td>-2.072685e-01</td>\n      <td>-4.392675e-01</td>\n      <td>-4.372302e-01</td>\n      <td>-1.481508e-01</td>\n    </tr>\n    <tr>\n      <th>50%</th>\n      <td>-1.618735e-01</td>\n      <td>-2.219477e-01</td>\n      <td>-2.175183e-01</td>\n      <td>-7.323169e-02</td>\n    </tr>\n    <tr>\n      <th>75%</th>\n      <td>-3.378739e-02</td>\n      <td>1.334703e-01</td>\n      <td>1.104937e-01</td>\n      <td>2.436327e-02</td>\n    </tr>\n    <tr>\n      <th>max</th>\n      <td>4.164962e+01</td>\n      <td>2.776420e+01</td>\n      <td>2.422774e+01</td>\n      <td>4.792570e+01</td>\n    </tr>\n  </tbody>\n</table>\n</div>"
     },
     "execution_count": 76,
     "metadata": {},
     "output_type": "execute_result"
    }
   ],
   "source": [
    "df_norm.describe()"
   ]
  },
  {
   "cell_type": "code",
   "execution_count": 77,
   "metadata": {
    "pycharm": {
     "name": "#%%\n"
    }
   },
   "outputs": [
    {
     "data": {
      "text/plain": "<AxesSubplot:>"
     },
     "execution_count": 77,
     "metadata": {},
     "output_type": "execute_result"
    },
    {
     "data": {
      "text/plain": "<Figure size 432x288 with 1 Axes>",
      "image/png": "[encoded data removed]"
     },
     "metadata": {
      "needs_background": "light"
     },
     "output_type": "display_data"
    }
   ],
   "source": [
    "df_norm.boxplot(list(df_norm.columns), rot=90)"
   ]
  },
  {
   "cell_type": "markdown",
   "metadata": {
    "pycharm": {
     "name": "#%% md\n"
    }
   },
   "source": [
    "## DBSCAN"
   ]
  },
  {
   "cell_type": "markdown",
   "source": [
    "### Approach 1:"
   ],
   "metadata": {
    "collapsed": false,
    "pycharm": {
     "name": "#%% md\n"
    }
   }
  },
  {
   "cell_type": "code",
   "execution_count": 158,
   "metadata": {
    "pycharm": {
     "name": "#%%\n"
    }
   },
   "outputs": [],
   "source": [
    "from scipy.spatial.distance import pdist, squareform\n",
    "dist = pdist(X=df_norm, metric='euclidean')  #pair-wise distance: how every record is far from all others\n",
    "dist = squareform(dist) #distance matrix given the vector dist"
   ]
  },
  {
   "cell_type": "code",
   "execution_count": 159,
   "metadata": {
    "pycharm": {
     "name": "#%%\n"
    }
   },
   "outputs": [],
   "source": [
    "kmin = 3\n",
    "kmax = 30\n",
    "kth_distances = {}\n",
    "for k in range(kmin, kmax + 1): kth_distances[k] = list()   # initialize k lists\n",
    "\n",
    "# for every row of the distance matrix...\n",
    "for d in dist:\n",
    "    # argsort returns the indexes that would sort d\n",
    "    indexes_to_sort_d = np.argsort(d)\n",
    "    for k in range(kmin, kmax + 1):\n",
    "        # append to kth_distances[k] the value in d that corresponds\n",
    "        # to the distance of the i-th point (record) from its k-th nn.\n",
    "        # it's like: kth_distances[k].append(sorted_d[k])), but we get \"sorted_d[k]\" by d[indexes_to_sort_d[k]]\n",
    "        kth_distances[k].append(d[ indexes_to_sort_d[ k ] ])"
   ]
  },
  {
   "cell_type": "markdown",
   "source": [
    "Plot, for every value of k in [kmin, kmax], the sorted distances"
   ],
   "metadata": {
    "collapsed": false,
    "pycharm": {
     "name": "#%% md\n"
    }
   }
  },
  {
   "cell_type": "code",
   "execution_count": 160,
   "outputs": [
    {
     "data": {
      "text/plain": "<Figure size 432x288 with 1 Axes>",
      "image/png": "[encoded data removed]"
     },
     "metadata": {
      "needs_background": "light"
     },
     "output_type": "display_data"
    }
   ],
   "source": [
    "for k in kth_distances.keys():\n",
    "    plt.plot(range(0, len(kth_distances[k])), sorted(kth_distances[k]))\n",
    "\n",
    "plt.ylabel('k-th nn distances (eps)')\n",
    "plt.xlabel('indexes of the list of the sorted pairwise distances')\n",
    "plt.xticks(rotation=-45)\n",
    "plt.tick_params(axis='both', which='major')\n",
    "plt.grid()\n",
    "plt.show()"
   ],
   "metadata": {
    "collapsed": false,
    "pycharm": {
     "name": "#%%\n"
    }
   }
  },
  {
   "cell_type": "markdown",
   "source": [
    "Same plot with the median value of [kmin, kmax] for every x because the plot seems uniform for every k.<br>\n",
    "Just to have a cleaner view of the plot"
   ],
   "metadata": {
    "collapsed": false,
    "pycharm": {
     "name": "#%% md\n"
    }
   }
  },
  {
   "cell_type": "code",
   "execution_count": 161,
   "outputs": [
    {
     "data": {
      "text/plain": "HBox(children=(HTML(value=''), FloatProgress(value=0.0, max=4333.0), HTML(value='')))",
      "application/vnd.jupyter.widget-view+json": {
       "version_major": 2,
       "version_minor": 0,
       "model_id": "fd6b95c3f3d54988bc7c634ee201e702"
      }
     },
     "metadata": {},
     "output_type": "display_data"
    },
    {
     "name": "stdout",
     "output_type": "stream",
     "text": [
      "\n"
     ]
    }
   ],
   "source": [
    "kmedian = list()\n",
    "for i in tqdm(range(len(kth_distances[kmin])), total=len(kth_distances[kmin])):\n",
    "    aux = list()\n",
    "    for k in kth_distances.keys(): aux.append(sorted(kth_distances[k])[i])\n",
    "    kmedian.append(np.median(aux))"
   ],
   "metadata": {
    "collapsed": false,
    "pycharm": {
     "name": "#%%\n"
    }
   }
  },
  {
   "cell_type": "code",
   "execution_count": 194,
   "outputs": [
    {
     "data": {
      "text/plain": "<Figure size 432x288 with 1 Axes>",
      "image/png": "[encoded data removed]"
     },
     "metadata": {
      "needs_background": "light"
     },
     "output_type": "display_data"
    }
   ],
   "source": [
    "plt.plot(range(0,len(kth_distances[kmin])), kmedian) #kmedian already sorted\n",
    "plt.ylabel('median of the k-th nn distances (eps)')\n",
    "plt.xlabel('indexes of the list of the sorted pairwise distances')\n",
    "\n",
    "xticks = []\n",
    "for i in range(0, 4001, 1000): xticks.append(i)\n",
    "for i in range(4000, len(kth_distances[kmin]), 100): xticks.append(i)\n",
    "plt.xticks(xticks, rotation=-90)\n",
    "plt.tick_params(axis='both', which='major')\n",
    "plt.grid()\n",
    "plt.show()"
   ],
   "metadata": {
    "collapsed": false,
    "pycharm": {
     "name": "#%%\n"
    }
   }
  },
  {
   "cell_type": "code",
   "execution_count": 192,
   "metadata": {
    "pycharm": {
     "name": "#%%\n"
    }
   },
   "outputs": [
    {
     "ename": "IndexError",
     "evalue": "list index out of range",
     "output_type": "error",
     "traceback": [
      "\u001B[1;31m---------------------------------------------------------------------------\u001B[0m",
      "\u001B[1;31mIndexError\u001B[0m                                Traceback (most recent call last)",
      "\u001B[1;32m<ipython-input-192-337fa696f5c1>\u001B[0m in \u001B[0;36m<module>\u001B[1;34m\u001B[0m\n\u001B[0;32m      7\u001B[0m \u001B[0melb\u001B[0m \u001B[1;33m=\u001B[0m \u001B[1;36m4000\u001B[0m\u001B[1;33m\u001B[0m\u001B[1;33m\u001B[0m\u001B[0m\n\u001B[0;32m      8\u001B[0m \u001B[0mplt\u001B[0m\u001B[1;33m.\u001B[0m\u001B[0maxvline\u001B[0m\u001B[1;33m(\u001B[0m\u001B[0mx\u001B[0m\u001B[1;33m=\u001B[0m\u001B[0melb\u001B[0m\u001B[1;33m,\u001B[0m \u001B[0mcolor\u001B[0m\u001B[1;33m=\u001B[0m\u001B[1;34m'red'\u001B[0m\u001B[1;33m,\u001B[0m \u001B[0mlinestyle\u001B[0m\u001B[1;33m=\u001B[0m\u001B[1;34m'-'\u001B[0m\u001B[1;33m)\u001B[0m\u001B[1;33m\u001B[0m\u001B[1;33m\u001B[0m\u001B[0m\n\u001B[1;32m----> 9\u001B[1;33m \u001B[0mplt\u001B[0m\u001B[1;33m.\u001B[0m\u001B[0maxhline\u001B[0m\u001B[1;33m(\u001B[0m\u001B[0my\u001B[0m\u001B[1;33m=\u001B[0m\u001B[0msorted\u001B[0m\u001B[1;33m(\u001B[0m\u001B[0mkth_distances\u001B[0m\u001B[1;33m)\u001B[0m\u001B[1;33m[\u001B[0m\u001B[0melb\u001B[0m\u001B[1;33m]\u001B[0m\u001B[1;33m,\u001B[0m \u001B[0mcolor\u001B[0m\u001B[1;33m=\u001B[0m\u001B[1;34m'red'\u001B[0m\u001B[1;33m,\u001B[0m \u001B[0mlinestyle\u001B[0m\u001B[1;33m=\u001B[0m\u001B[1;34m'-'\u001B[0m\u001B[1;33m)\u001B[0m\u001B[1;33m\u001B[0m\u001B[1;33m\u001B[0m\u001B[0m\n\u001B[0m\u001B[0;32m     10\u001B[0m \u001B[0mplt\u001B[0m\u001B[1;33m.\u001B[0m\u001B[0mshow\u001B[0m\u001B[1;33m(\u001B[0m\u001B[1;33m)\u001B[0m\u001B[1;33m\u001B[0m\u001B[1;33m\u001B[0m\u001B[0m\n\u001B[0;32m     11\u001B[0m \u001B[0mprint\u001B[0m\u001B[1;33m(\u001B[0m\u001B[1;34mf\"Elbow of {k}th-NN distances plot: x = {elb} --> eps = {sorted(kth_distances)[elb]}\"\u001B[0m\u001B[1;33m)\u001B[0m\u001B[1;33m\u001B[0m\u001B[1;33m\u001B[0m\u001B[0m\n",
      "\u001B[1;31mIndexError\u001B[0m: list index out of range"
     ]
    },
    {
     "data": {
      "text/plain": "<Figure size 432x288 with 1 Axes>",
      "image/png": "[encoded data removed]"
     },
     "metadata": {
      "needs_background": "light"
     },
     "output_type": "display_data"
    }
   ],
   "source": [
    "plt.figure(num=1)\n",
    "plt.plot(range(0, len(kth_distances)), sorted(kth_distances))\n",
    "plt.ylabel(f'{k}th-NN distance (eps)')\n",
    "plt.xlabel('sorted distances')\n",
    "plt.tick_params(axis='both', which='major')\n",
    "plt.grid()\n",
    "elb = 4000\n",
    "plt.axvline(x=elb, color='red', linestyle='-')\n",
    "plt.axhline(y=sorted(kth_distances)[elb], color='red', linestyle='-')\n",
    "plt.show()\n",
    "print(f\"Elbow of {k}th-NN distances plot: x = {elb} --> eps = {sorted(kth_distances)[elb]}\")"
   ]
  },
  {
   "cell_type": "markdown",
   "metadata": {
    "pycharm": {
     "name": "#%% md\n"
    }
   },
   "source": [
    "### Approach 2:\n",
    "### Grid search for _eps_ and <i>min_samples</i>"
   ]
  },
  {
   "cell_type": "code",
   "execution_count": 65,
   "metadata": {
    "pycharm": {
     "name": "#%%\n"
    }
   },
   "outputs": [],
   "source": [
    "from sklearn.neighbors import NearestNeighbors\n",
    "\n",
    "# func to get metrics to evaluate the clustering done with certain eps and min_samples\n",
    "def get_metrics(eps, ms, dataset, iter_):\n",
    "\n",
    "    # Fitting\n",
    "    dbscan = DBSCAN(eps=eps, min_samples=ms)\n",
    "    dbscan.fit(dataset)\n",
    "\n",
    "    # Mean Noise Point Distance metric\n",
    "    noise_indices = (dbscan.labels_ == -1)  #list of booleans\n",
    "    if True in noise_indices:\n",
    "        nbrs = NearestNeighbors(n_neighbors = 5).fit(dataset)\n",
    "        distances, _ = nbrs.kneighbors(dataset)   #returns indices of and distances to the neighbors of each point\n",
    "        noise_distances = distances[noise_indices, 1 : ]\n",
    "        noise_mean_distance = round(noise_distances.mean(), 3)\n",
    "    else:\n",
    "        noise_mean_distance = None\n",
    "\n",
    "    # Number of found Clusters metric\n",
    "    number_of_clusters = len(np.unique(dbscan.labels_[dbscan.labels_ >= 0]))\n",
    "\n",
    "    # Log\n",
    "    print(\"%3d | Tested with eps = %3s and min_samples = %3s | %5s\\t%4s\" % (iter_, eps, ms, str(noise_mean_distance), number_of_clusters))\n",
    "\n",
    "    return noise_mean_distance, number_of_clusters"
   ]
  },
  {
   "cell_type": "code",
   "execution_count": 66,
   "metadata": {
    "pycharm": {
     "name": "#%%\n"
    }
   },
   "outputs": [
    {
     "name": "stdout",
     "output_type": "stream",
     "text": [
      "Grid search parameters:\n",
      "eps: [0.05, 0.1, 0.15, 0.2, 0.25, 0.3, 0.35, 1.5, 2.0, 2.5]\n",
      "min_samples: [3, 6, 9, 12, 15]\n"
     ]
    }
   ],
   "source": [
    "# Lists for the params to test in the grid search\n",
    "gs_eps_list = []\n",
    "for eps in np.arange(0.05, 0.40, 0.05): gs_eps_list.append(round(eps, 2))\n",
    "for eps in np.arange(1.5, 3., 0.5): gs_eps_list.append(round(eps, 2))\n",
    "gs_ms_list = range(3, 16, 3)\n",
    "\n",
    "print(\"Grid search parameters:\")\n",
    "print(\"eps:\", gs_eps_list)\n",
    "print(\"min_samples:\", list(gs_ms_list))"
   ]
  },
  {
   "cell_type": "markdown",
   "metadata": {
    "pycharm": {
     "name": "#%% md\n"
    }
   },
   "source": [
    "Dataframes to contain the results of the grid search"
   ]
  },
  {
   "cell_type": "code",
   "execution_count": 67,
   "metadata": {
    "pycharm": {
     "name": "#%%\n"
    }
   },
   "outputs": [],
   "source": [
    "# Dataframe for the metric on the avg distance of the noise points from the K nearest ones\n",
    "results_noise = pd.DataFrame(\n",
    "    data = np.zeros((len(gs_eps_list),len(gs_ms_list))), # Empty dataframe\n",
    "    columns = gs_ms_list,\n",
    "    index = gs_eps_list\n",
    ")\n",
    "\n",
    "# Dataframe for the metric on the number of clusters\n",
    "results_clusters = pd.DataFrame(\n",
    "    data = np.zeros((len(gs_eps_list),len(gs_ms_list))), # Empty dataframe\n",
    "    columns = gs_ms_list,\n",
    "    index = gs_eps_list\n",
    ")"
   ]
  },
  {
   "cell_type": "markdown",
   "metadata": {
    "pycharm": {
     "name": "#%% md\n"
    }
   },
   "source": [
    "Grid search cycle:"
   ]
  },
  {
   "cell_type": "code",
   "execution_count": 68,
   "metadata": {
    "pycharm": {
     "name": "#%%\n"
    }
   },
   "outputs": [
    {
     "name": "stdout",
     "output_type": "stream",
     "text": [
      "ITER| INFO                                        |  DIST    # CLUSTERS\n",
      "-------------------------------------------------------------------------\n",
      "  1 | Tested with eps = 0.05 and min_samples =   3 | 0.258\t  94\n",
      "  2 | Tested with eps = 0.05 and min_samples =   6 | 0.207\t  25\n",
      "  3 | Tested with eps = 0.05 and min_samples =   9 | 0.184\t   8\n",
      "  4 | Tested with eps = 0.05 and min_samples =  12 | 0.175\t   4\n",
      "  5 | Tested with eps = 0.05 and min_samples =  15 | 0.168\t   3\n",
      "  6 | Tested with eps = 0.1 and min_samples =   3 | 0.536\t  42\n",
      "  7 | Tested with eps = 0.1 and min_samples =   6 |  0.42\t  10\n",
      "  8 | Tested with eps = 0.1 and min_samples =   9 | 0.367\t   2\n",
      "  9 | Tested with eps = 0.1 and min_samples =  12 | 0.341\t   2\n",
      " 10 | Tested with eps = 0.1 and min_samples =  15 | 0.325\t   2\n",
      " 11 | Tested with eps = 0.15 and min_samples =   3 | 0.913\t  19\n",
      " 12 | Tested with eps = 0.15 and min_samples =   6 | 0.683\t   6\n",
      " 13 | Tested with eps = 0.15 and min_samples =   9 | 0.592\t   4\n",
      " 14 | Tested with eps = 0.15 and min_samples =  12 | 0.545\t   2\n",
      " 15 | Tested with eps = 0.15 and min_samples =  15 | 0.517\t   1\n",
      " 16 | Tested with eps = 0.2 and min_samples =   3 | 1.221\t  11\n",
      " 17 | Tested with eps = 0.2 and min_samples =   6 | 1.012\t   2\n",
      " 18 | Tested with eps = 0.2 and min_samples =   9 | 0.858\t   3\n",
      " 19 | Tested with eps = 0.2 and min_samples =  12 | 0.765\t   2\n",
      " 20 | Tested with eps = 0.2 and min_samples =  15 | 0.692\t   1\n",
      " 21 | Tested with eps = 0.25 and min_samples =   3 | 1.514\t   8\n",
      " 22 | Tested with eps = 0.25 and min_samples =   6 |  1.27\t   4\n",
      " 23 | Tested with eps = 0.25 and min_samples =   9 | 1.141\t   4\n",
      " 24 | Tested with eps = 0.25 and min_samples =  12 |  1.05\t   1\n",
      " 25 | Tested with eps = 0.25 and min_samples =  15 | 0.962\t   1\n",
      " 26 | Tested with eps = 0.3 and min_samples =   3 | 1.756\t   2\n",
      " 27 | Tested with eps = 0.3 and min_samples =   6 | 1.509\t   3\n",
      " 28 | Tested with eps = 0.3 and min_samples =   9 | 1.366\t   2\n",
      " 29 | Tested with eps = 0.3 and min_samples =  12 | 1.251\t   1\n",
      " 30 | Tested with eps = 0.3 and min_samples =  15 | 1.175\t   1\n",
      " 31 | Tested with eps = 0.35 and min_samples =   3 | 1.903\t   2\n",
      " 32 | Tested with eps = 0.35 and min_samples =   6 | 1.674\t   2\n",
      " 33 | Tested with eps = 0.35 and min_samples =   9 | 1.512\t   1\n",
      " 34 | Tested with eps = 0.35 and min_samples =  12 | 1.403\t   1\n",
      " 35 | Tested with eps = 0.35 and min_samples =  15 | 1.314\t   1\n",
      " 36 | Tested with eps = 1.5 and min_samples =   3 | 5.706\t   5\n",
      " 37 | Tested with eps = 1.5 and min_samples =   6 |  4.41\t   2\n",
      " 38 | Tested with eps = 1.5 and min_samples =   9 | 4.056\t   1\n",
      " 39 | Tested with eps = 1.5 and min_samples =  12 | 3.932\t   1\n",
      " 40 | Tested with eps = 1.5 and min_samples =  15 | 3.815\t   1\n",
      " 41 | Tested with eps = 2.0 and min_samples =   3 | 7.199\t   5\n",
      " 42 | Tested with eps = 2.0 and min_samples =   6 | 5.227\t   1\n",
      " 43 | Tested with eps = 2.0 and min_samples =   9 | 5.064\t   1\n",
      " 44 | Tested with eps = 2.0 and min_samples =  12 | 4.554\t   1\n",
      " 45 | Tested with eps = 2.0 and min_samples =  15 | 4.448\t   1\n",
      " 46 | Tested with eps = 2.5 and min_samples =   3 | 8.901\t   4\n",
      " 47 | Tested with eps = 2.5 and min_samples =   6 | 5.962\t   1\n",
      " 48 | Tested with eps = 2.5 and min_samples =   9 |  5.51\t   1\n",
      " 49 | Tested with eps = 2.5 and min_samples =  12 | 5.248\t   1\n",
      " 50 | Tested with eps = 2.5 and min_samples =  15 | 5.248\t   1\n",
      "\n"
     ]
    },
    {
     "data": {
      "text/plain": "HBox(children=(HTML(value='Proceeding of grid search'), FloatProgress(value=0.0, max=10.0), HTML(value='')))",
      "application/vnd.jupyter.widget-view+json": {
       "version_major": 2,
       "version_minor": 0,
       "model_id": "e93725a47ff1440a9731d1756d1ed6d4"
      }
     },
     "metadata": {},
     "output_type": "display_data"
    }
   ],
   "source": [
    "# Grid search cycle\n",
    "i = 0\n",
    "\n",
    "print(\"ITER| INFO%s |  DIST    # CLUSTERS\" % (' '*39))\n",
    "print(\"-\"*73)\n",
    "\n",
    "for eps in tqdm(gs_eps_list, total=len(gs_eps_list), desc='Proceeding of grid search'):\n",
    "    for ms in gs_ms_list:\n",
    "        i += 1\n",
    "\n",
    "        # Compute metrics\n",
    "        noise_metric, clusters_metric = get_metrics(eps, ms, df_norm, i)\n",
    "\n",
    "        # Insert results in the apposite dataframes\n",
    "        results_noise.loc[eps, ms] = noise_metric\n",
    "        results_clusters.loc[eps, ms] = clusters_metric"
   ]
  },
  {
   "cell_type": "code",
   "execution_count": 69,
   "outputs": [
    {
     "data": {
      "text/plain": "<Figure size 1152x576 with 2 Axes>",
      "image/png": "[encoded data removed]"
     },
     "metadata": {
      "needs_background": "light"
     },
     "output_type": "display_data"
    }
   ],
   "source": [
    "fig, (ax1, ax2) = plt.subplots(1, 2, figsize=(16,8))\n",
    "sns.heatmap(results_noise, annot = True, ax = ax1, cbar = False).set_title(\"Mean Noise Points Distance\")\n",
    "sns.heatmap(results_clusters, annot = True, ax = ax2, cbar = False).set_title(\"Number of clusters\")\n",
    "ax1.set_xlabel(\"min_samples\")\n",
    "ax2.set_xlabel(\"min_samples\")\n",
    "ax1.set_ylabel(\"epsilon\")\n",
    "ax2.set_ylabel(\"epsilon\")\n",
    "plt.show()\n"
   ],
   "metadata": {
    "collapsed": false,
    "pycharm": {
     "name": "#%%\n"
    }
   }
  }
 ],
 "metadata": {
  "kernelspec": {
   "display_name": "Python 3",
   "language": "python",
   "name": "python3"
  },
  "language_info": {
   "codemirror_mode": {
    "name": "ipython",
    "version": 3
   },
   "file_extension": ".py",
   "mimetype": "text/x-python",
   "name": "python",
   "nbconvert_exporter": "python",
   "pygments_lexer": "ipython3",
   "version": "3.8.6"
  }
 },
 "nbformat": 4,
 "nbformat_minor": 1
}