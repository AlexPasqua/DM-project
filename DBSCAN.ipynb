{
 "cells": [
  {
   "cell_type": "markdown",
   "metadata": {
    "collapsed": true,
    "pycharm": {
     "name": "#%% md\n"
    }
   },
   "source": [
    "# DBSCAN"
   ]
  },
  {
   "cell_type": "code",
   "execution_count": 1,
   "outputs": [],
   "source": [
    "import pandas as pd\n",
    "import numpy as np\n",
    "import matplotlib.pyplot as plt"
   ],
   "metadata": {
    "collapsed": false,
    "pycharm": {
     "name": "#%%\n"
    }
   }
  },
  {
   "cell_type": "code",
   "execution_count": 2,
   "outputs": [
    {
     "data": {
      "text/plain": "            TProd  DProd  MaxPO  MinPO  MeanProdOrder    TSale  MinPSale  \\\nCustomerID                                                                 \n17850        1702     21    141     12      48.628571  5317.89      6.36   \n13047        1355    105    309      3      84.687500  3089.10      6.64   \n12583        4978    114    714    100     292.823529  6629.34      6.80   \n13748         439     24    208      8      87.800000   948.25      9.36   \n15100          58      1     32     16       9.666667   635.10    175.20   \n\n            MaxPSale  MeanSaleOrder  TRProd  MeanPSale  TOrder  SETSaleQta  \\\nCustomerID                                                                   \n17850         107.25     151.939714      31   3.960370      34    4.137478   \n13047          68.00     193.068750      35   3.926082       9    5.420969   \n12583         132.80     389.961176      50   2.140474      15    5.803909   \n13748         204.00     189.650000       0   3.996429       5    4.080050   \n15100         350.40     105.850000      22  10.950000       3    2.251629   \n\n            SESaleQtaOrder  \nCustomerID                  \n17850             3.186426  \n13047             3.875000  \n12583             4.087463  \n13748             2.321928  \n15100             2.251629  ",
      "text/html": "<div>\n<style scoped>\n    .dataframe tbody tr th:only-of-type {\n        vertical-align: middle;\n    }\n\n    .dataframe tbody tr th {\n        vertical-align: top;\n    }\n\n    .dataframe thead th {\n        text-align: right;\n    }\n</style>\n<table border=\"1\" class=\"dataframe\">\n  <thead>\n    <tr style=\"text-align: right;\">\n      <th></th>\n      <th>TProd</th>\n      <th>DProd</th>\n      <th>MaxPO</th>\n      <th>MinPO</th>\n      <th>MeanProdOrder</th>\n      <th>TSale</th>\n      <th>MinPSale</th>\n      <th>MaxPSale</th>\n      <th>MeanSaleOrder</th>\n      <th>TRProd</th>\n      <th>MeanPSale</th>\n      <th>TOrder</th>\n      <th>SETSaleQta</th>\n      <th>SESaleQtaOrder</th>\n    </tr>\n    <tr>\n      <th>CustomerID</th>\n      <th></th>\n      <th></th>\n      <th></th>\n      <th></th>\n      <th></th>\n      <th></th>\n      <th></th>\n      <th></th>\n      <th></th>\n      <th></th>\n      <th></th>\n      <th></th>\n      <th></th>\n      <th></th>\n    </tr>\n  </thead>\n  <tbody>\n    <tr>\n      <th>17850</th>\n      <td>1702</td>\n      <td>21</td>\n      <td>141</td>\n      <td>12</td>\n      <td>48.628571</td>\n      <td>5317.89</td>\n      <td>6.36</td>\n      <td>107.25</td>\n      <td>151.939714</td>\n      <td>31</td>\n      <td>3.960370</td>\n      <td>34</td>\n      <td>4.137478</td>\n      <td>3.186426</td>\n    </tr>\n    <tr>\n      <th>13047</th>\n      <td>1355</td>\n      <td>105</td>\n      <td>309</td>\n      <td>3</td>\n      <td>84.687500</td>\n      <td>3089.10</td>\n      <td>6.64</td>\n      <td>68.00</td>\n      <td>193.068750</td>\n      <td>35</td>\n      <td>3.926082</td>\n      <td>9</td>\n      <td>5.420969</td>\n      <td>3.875000</td>\n    </tr>\n    <tr>\n      <th>12583</th>\n      <td>4978</td>\n      <td>114</td>\n      <td>714</td>\n      <td>100</td>\n      <td>292.823529</td>\n      <td>6629.34</td>\n      <td>6.80</td>\n      <td>132.80</td>\n      <td>389.961176</td>\n      <td>50</td>\n      <td>2.140474</td>\n      <td>15</td>\n      <td>5.803909</td>\n      <td>4.087463</td>\n    </tr>\n    <tr>\n      <th>13748</th>\n      <td>439</td>\n      <td>24</td>\n      <td>208</td>\n      <td>8</td>\n      <td>87.800000</td>\n      <td>948.25</td>\n      <td>9.36</td>\n      <td>204.00</td>\n      <td>189.650000</td>\n      <td>0</td>\n      <td>3.996429</td>\n      <td>5</td>\n      <td>4.080050</td>\n      <td>2.321928</td>\n    </tr>\n    <tr>\n      <th>15100</th>\n      <td>58</td>\n      <td>1</td>\n      <td>32</td>\n      <td>16</td>\n      <td>9.666667</td>\n      <td>635.10</td>\n      <td>175.20</td>\n      <td>350.40</td>\n      <td>105.850000</td>\n      <td>22</td>\n      <td>10.950000</td>\n      <td>3</td>\n      <td>2.251629</td>\n      <td>2.251629</td>\n    </tr>\n  </tbody>\n</table>\n</div>"
     },
     "execution_count": 2,
     "metadata": {},
     "output_type": "execute_result"
    }
   ],
   "source": [
    "# read customer dataframe\n",
    "df = pd.read_csv('customer_dataframe.csv', sep='\\t', index_col=0)\n",
    "df.head()"
   ],
   "metadata": {
    "collapsed": false,
    "pycharm": {
     "name": "#%%\n"
    }
   }
  },
  {
   "cell_type": "code",
   "execution_count": 3,
   "outputs": [
    {
     "name": "stdout",
     "output_type": "stream",
     "text": [
      "<class 'pandas.core.frame.DataFrame'>\n",
      "Int64Index: 4333 entries, 17850 to 12713\n",
      "Data columns (total 14 columns):\n",
      " #   Column          Non-Null Count  Dtype  \n",
      "---  ------          --------------  -----  \n",
      " 0   TProd           4333 non-null   int64  \n",
      " 1   DProd           4333 non-null   int64  \n",
      " 2   MaxPO           4333 non-null   int64  \n",
      " 3   MinPO           4333 non-null   int64  \n",
      " 4   MeanProdOrder   4333 non-null   float64\n",
      " 5   TSale           4333 non-null   float64\n",
      " 6   MinPSale        4333 non-null   float64\n",
      " 7   MaxPSale        4333 non-null   float64\n",
      " 8   MeanSaleOrder   4333 non-null   float64\n",
      " 9   TRProd          4333 non-null   int64  \n",
      " 10  MeanPSale       4333 non-null   float64\n",
      " 11  TOrder          4333 non-null   int64  \n",
      " 12  SETSaleQta      4333 non-null   float64\n",
      " 13  SESaleQtaOrder  4333 non-null   float64\n",
      "dtypes: float64(8), int64(6)\n",
      "memory usage: 507.8 KB\n"
     ]
    }
   ],
   "source": [
    "df.info()"
   ],
   "metadata": {
    "collapsed": false,
    "pycharm": {
     "name": "#%%\n"
    }
   }
  },
  {
   "cell_type": "markdown",
   "source": [
    "## Preprocessing - Normalization"
   ],
   "metadata": {
    "collapsed": false,
    "pycharm": {
     "name": "#%% md\n"
    }
   }
  },
  {
   "cell_type": "code",
   "execution_count": 4,
   "outputs": [],
   "source": [
    "# standard normalization: remove mean and scale to unit variance\n",
    "from sklearn.preprocessing import StandardScaler\n",
    "scaler = StandardScaler()\n",
    "df_norm = scaler.fit_transform(df.values)"
   ],
   "metadata": {
    "collapsed": false,
    "pycharm": {
     "name": "#%%\n"
    }
   }
  },
  {
   "cell_type": "markdown",
   "source": [
    "## DBSCAN"
   ],
   "metadata": {
    "collapsed": false,
    "pycharm": {
     "name": "#%% md\n"
    }
   }
  },
  {
   "cell_type": "code",
   "execution_count": 5,
   "outputs": [
    {
     "data": {
      "text/plain": "(array([-1,  0,  1,  2,  3,  4,  5,  6,  7], dtype=int64),\n array([3758,  368,   42,  104,   16,   11,   11,   11,   12], dtype=int64))"
     },
     "execution_count": 5,
     "metadata": {},
     "output_type": "execute_result"
    }
   ],
   "source": [
    "# dbscan\n",
    "from sklearn.cluster import DBSCAN\n",
    "dbscan = DBSCAN(eps=0.2, min_samples=10)\n",
    "dbscan.fit(df_norm)\n",
    "np.unique(dbscan.labels_, return_counts=True)"
   ],
   "metadata": {
    "collapsed": false,
    "pycharm": {
     "name": "#%%\n"
    }
   }
  },
  {
   "cell_type": "code",
   "execution_count": 6,
   "outputs": [],
   "source": [
    "from scipy.spatial.distance import pdist, squareform\n",
    "dist = pdist(df_norm, 'euclidean') #pair wise distance\n",
    "dist = squareform(dist) #distance matrix given the vector dist"
   ],
   "metadata": {
    "collapsed": false,
    "pycharm": {
     "name": "#%%\n"
    }
   }
  },
  {
   "cell_type": "code",
   "execution_count": 7,
   "outputs": [],
   "source": [
    "k = 5\n",
    "kth_distances = list()\n",
    "for d in dist:\n",
    "    index_kth_distance = np.argsort(d)[k]\n",
    "    kth_distances.append(d[index_kth_distance])"
   ],
   "metadata": {
    "collapsed": false,
    "pycharm": {
     "name": "#%%\n"
    }
   }
  },
  {
   "cell_type": "code",
   "execution_count": 8,
   "outputs": [
    {
     "data": {
      "text/plain": "<Figure size 432x288 with 1 Axes>",
      "image/png": "[encoded data removed]"
     },
     "metadata": {
      "needs_background": "light"
     },
     "output_type": "display_data"
    }
   ],
   "source": [
    "plt.plot(range(0, len(kth_distances)), sorted(kth_distances))\n",
    "plt.ylabel('dist from %sth neighbor' % k, fontsize=18)\n",
    "plt.xlabel('sorted distances', fontsize=18)\n",
    "plt.tick_params(axis='both', which='major', labelsize=22)\n",
    "plt.show()\n"
   ],
   "metadata": {
    "collapsed": false,
    "pycharm": {
     "name": "#%%\n"
    }
   }
  }
 ],
 "metadata": {
  "kernelspec": {
   "display_name": "Python 3",
   "language": "python",
   "name": "python3"
  },
  "language_info": {
   "codemirror_mode": {
    "name": "ipython",
    "version": 2
   },
   "file_extension": ".py",
   "mimetype": "text/x-python",
   "name": "python",
   "nbconvert_exporter": "python",
   "pygments_lexer": "ipython2",
   "version": "2.7.6"
  }
 },
 "nbformat": 4,
 "nbformat_minor": 0
}