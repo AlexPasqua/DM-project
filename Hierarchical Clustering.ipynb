{
 "cells": [
  {
   "cell_type": "code",
   "execution_count": 1,
   "metadata": {},
   "outputs": [],
   "source": [
    "import pandas as pd\n",
    "import matplotlib.pyplot as plt\n",
    "\n",
    "from sklearn.preprocessing import MinMaxScaler\n",
    "\n",
    "from scipy.stats import mode\n",
    "from scipy.spatial.distance import pdist\n",
    "from scipy.cluster.hierarchy import linkage, dendrogram, fcluster\n",
    "from sklearn.metrics import silhouette_score"
   ]
  },
  {
   "cell_type": "code",
   "execution_count": 2,
   "metadata": {},
   "outputs": [
    {
     "data": {
      "text/html": [
       "<div>\n",
       "<style scoped>\n",
       "    .dataframe tbody tr th:only-of-type {\n",
       "        vertical-align: middle;\n",
       "    }\n",
       "\n",
       "    .dataframe tbody tr th {\n",
       "        vertical-align: top;\n",
       "    }\n",
       "\n",
       "    .dataframe thead th {\n",
       "        text-align: right;\n",
       "    }\n",
       "</style>\n",
       "<table border=\"1\" class=\"dataframe\">\n",
       "  <thead>\n",
       "    <tr style=\"text-align: right;\">\n",
       "      <th></th>\n",
       "      <th>TProd</th>\n",
       "      <th>DProd</th>\n",
       "      <th>MaxPO</th>\n",
       "      <th>MinPO</th>\n",
       "      <th>MeanProdOrder</th>\n",
       "      <th>TSale</th>\n",
       "      <th>MinPSale</th>\n",
       "      <th>MaxPSale</th>\n",
       "      <th>MeanSaleOrder</th>\n",
       "      <th>TRProd</th>\n",
       "      <th>MeanPSale</th>\n",
       "      <th>TOrder</th>\n",
       "      <th>SETSaleQta</th>\n",
       "      <th>SESaleQtaOrder</th>\n",
       "    </tr>\n",
       "    <tr>\n",
       "      <th>CustomerID</th>\n",
       "      <th></th>\n",
       "      <th></th>\n",
       "      <th></th>\n",
       "      <th></th>\n",
       "      <th></th>\n",
       "      <th></th>\n",
       "      <th></th>\n",
       "      <th></th>\n",
       "      <th></th>\n",
       "      <th></th>\n",
       "      <th></th>\n",
       "      <th></th>\n",
       "      <th></th>\n",
       "      <th></th>\n",
       "    </tr>\n",
       "  </thead>\n",
       "  <tbody>\n",
       "    <tr>\n",
       "      <th>17850</th>\n",
       "      <td>1702</td>\n",
       "      <td>21</td>\n",
       "      <td>141</td>\n",
       "      <td>12</td>\n",
       "      <td>48.628571</td>\n",
       "      <td>5317.89</td>\n",
       "      <td>6.36</td>\n",
       "      <td>107.25</td>\n",
       "      <td>151.939714</td>\n",
       "      <td>8</td>\n",
       "      <td>3.960370</td>\n",
       "      <td>34</td>\n",
       "      <td>4.137478</td>\n",
       "      <td>3.186426</td>\n",
       "    </tr>\n",
       "    <tr>\n",
       "      <th>13047</th>\n",
       "      <td>1355</td>\n",
       "      <td>105</td>\n",
       "      <td>309</td>\n",
       "      <td>3</td>\n",
       "      <td>84.687500</td>\n",
       "      <td>3089.10</td>\n",
       "      <td>6.64</td>\n",
       "      <td>68.00</td>\n",
       "      <td>193.068750</td>\n",
       "      <td>23</td>\n",
       "      <td>3.926082</td>\n",
       "      <td>9</td>\n",
       "      <td>5.420969</td>\n",
       "      <td>3.875000</td>\n",
       "    </tr>\n",
       "    <tr>\n",
       "      <th>12583</th>\n",
       "      <td>4978</td>\n",
       "      <td>114</td>\n",
       "      <td>714</td>\n",
       "      <td>100</td>\n",
       "      <td>292.823529</td>\n",
       "      <td>6629.34</td>\n",
       "      <td>6.80</td>\n",
       "      <td>132.80</td>\n",
       "      <td>389.961176</td>\n",
       "      <td>3</td>\n",
       "      <td>2.140474</td>\n",
       "      <td>15</td>\n",
       "      <td>5.803909</td>\n",
       "      <td>4.087463</td>\n",
       "    </tr>\n",
       "    <tr>\n",
       "      <th>13748</th>\n",
       "      <td>439</td>\n",
       "      <td>24</td>\n",
       "      <td>208</td>\n",
       "      <td>8</td>\n",
       "      <td>87.800000</td>\n",
       "      <td>948.25</td>\n",
       "      <td>9.36</td>\n",
       "      <td>204.00</td>\n",
       "      <td>189.650000</td>\n",
       "      <td>0</td>\n",
       "      <td>3.996429</td>\n",
       "      <td>5</td>\n",
       "      <td>4.080050</td>\n",
       "      <td>2.321928</td>\n",
       "    </tr>\n",
       "    <tr>\n",
       "      <th>15100</th>\n",
       "      <td>58</td>\n",
       "      <td>1</td>\n",
       "      <td>32</td>\n",
       "      <td>16</td>\n",
       "      <td>9.666667</td>\n",
       "      <td>635.10</td>\n",
       "      <td>175.20</td>\n",
       "      <td>350.40</td>\n",
       "      <td>105.850000</td>\n",
       "      <td>3</td>\n",
       "      <td>10.950000</td>\n",
       "      <td>3</td>\n",
       "      <td>2.251629</td>\n",
       "      <td>2.251629</td>\n",
       "    </tr>\n",
       "  </tbody>\n",
       "</table>\n",
       "</div>"
      ],
      "text/plain": [
       "            TProd  DProd  MaxPO  MinPO  MeanProdOrder    TSale  MinPSale  \\\n",
       "CustomerID                                                                 \n",
       "17850        1702     21    141     12      48.628571  5317.89      6.36   \n",
       "13047        1355    105    309      3      84.687500  3089.10      6.64   \n",
       "12583        4978    114    714    100     292.823529  6629.34      6.80   \n",
       "13748         439     24    208      8      87.800000   948.25      9.36   \n",
       "15100          58      1     32     16       9.666667   635.10    175.20   \n",
       "\n",
       "            MaxPSale  MeanSaleOrder  TRProd  MeanPSale  TOrder  SETSaleQta  \\\n",
       "CustomerID                                                                   \n",
       "17850         107.25     151.939714       8   3.960370      34    4.137478   \n",
       "13047          68.00     193.068750      23   3.926082       9    5.420969   \n",
       "12583         132.80     389.961176       3   2.140474      15    5.803909   \n",
       "13748         204.00     189.650000       0   3.996429       5    4.080050   \n",
       "15100         350.40     105.850000       3  10.950000       3    2.251629   \n",
       "\n",
       "            SESaleQtaOrder  \n",
       "CustomerID                  \n",
       "17850             3.186426  \n",
       "13047             3.875000  \n",
       "12583             4.087463  \n",
       "13748             2.321928  \n",
       "15100             2.251629  "
      ]
     },
     "execution_count": 2,
     "metadata": {},
     "output_type": "execute_result"
    }
   ],
   "source": [
    "df = pd.read_csv(\"customer_dataframe.csv\", sep=\"\\t\", index_col=0)\n",
    "df.head()"
   ]
  },
  {
   "cell_type": "code",
   "execution_count": 3,
   "metadata": {},
   "outputs": [
    {
     "name": "stdout",
     "output_type": "stream",
     "text": [
      "<class 'pandas.core.frame.DataFrame'>\n",
      "Int64Index: 4333 entries, 17850 to 12713\n",
      "Data columns (total 14 columns):\n",
      " #   Column          Non-Null Count  Dtype  \n",
      "---  ------          --------------  -----  \n",
      " 0   TProd           4333 non-null   int64  \n",
      " 1   DProd           4333 non-null   int64  \n",
      " 2   MaxPO           4333 non-null   int64  \n",
      " 3   MinPO           4333 non-null   int64  \n",
      " 4   MeanProdOrder   4333 non-null   float64\n",
      " 5   TSale           4333 non-null   float64\n",
      " 6   MinPSale        4333 non-null   float64\n",
      " 7   MaxPSale        4333 non-null   float64\n",
      " 8   MeanSaleOrder   4333 non-null   float64\n",
      " 9   TRProd          4333 non-null   int64  \n",
      " 10  MeanPSale       4333 non-null   float64\n",
      " 11  TOrder          4333 non-null   int64  \n",
      " 12  SETSaleQta      4333 non-null   float64\n",
      " 13  SESaleQtaOrder  4333 non-null   float64\n",
      "dtypes: float64(8), int64(6)\n",
      "memory usage: 507.8 KB\n"
     ]
    }
   ],
   "source": [
    "df.info()"
   ]
  },
  {
   "cell_type": "code",
   "execution_count": 4,
   "metadata": {},
   "outputs": [],
   "source": [
    "scaler = MinMaxScaler()\n",
    "X = scaler.fit_transform(df.values)"
   ]
  },
  {
   "cell_type": "code",
   "execution_count": 5,
   "metadata": {
    "scrolled": false
   },
   "outputs": [
    {
     "data": {
      "text/plain": [
       "array([[8.65910987e-03, 1.12044818e-02, 9.30356194e-03, 1.40611019e-03,\n",
       "        6.21530821e-03, 1.90898484e-02, 1.63172699e-03, 2.70989149e-03,\n",
       "        1.53398922e-02, 3.77358491e-02, 8.83228419e-03, 1.60975610e-01,\n",
       "        5.14826537e-01, 4.04447643e-01],\n",
       "       [6.89370968e-03, 5.82633053e-02, 2.04678363e-02, 2.55656398e-04,\n",
       "        1.08240670e-02, 1.10890693e-02, 1.70424819e-03, 1.70266383e-03,\n",
       "        1.94922955e-02, 1.08490566e-01, 8.75337435e-03, 3.90243902e-02,\n",
       "        6.74531264e-01, 4.91847191e-01]])"
      ]
     },
     "execution_count": 5,
     "metadata": {},
     "output_type": "execute_result"
    }
   ],
   "source": [
    "X[:2]"
   ]
  },
  {
   "cell_type": "code",
   "execution_count": 6,
   "metadata": {},
   "outputs": [],
   "source": [
    "def count_cluster_elements(data, threshold, criterion='distance'):\n",
    "    count = {}\n",
    "    clusters = fcluster(data, threshold, criterion)\n",
    "    for c in clusters:\n",
    "        count[c] = count[c]+1 if c in count else 1\n",
    "    return count, clusters"
   ]
  },
  {
   "cell_type": "code",
   "execution_count": 7,
   "metadata": {},
   "outputs": [],
   "source": [
    "methods_silhouette = {}"
   ]
  },
  {
   "cell_type": "code",
   "execution_count": 8,
   "metadata": {},
   "outputs": [],
   "source": [
    "# Complete - Euclidean"
   ]
  },
  {
   "cell_type": "code",
   "execution_count": 9,
   "metadata": {
    "scrolled": false
   },
   "outputs": [
    {
     "data": {
      "text/plain": [
       "Text(0.5, 1.0, 'Complete - Euclidean')"
      ]
     },
     "execution_count": 9,
     "metadata": {},
     "output_type": "execute_result"
    },
    {
     "data": {
      "image/png": "[encoded data removed]",
      "text/plain": [
       "<Figure size 432x288 with 1 Axes>"
      ]
     },
     "metadata": {
      "needs_background": "light"
     },
     "output_type": "display_data"
    }
   ],
   "source": [
    "data_dist = pdist(X, metric='euclidean')\n",
    "data_link = linkage(data_dist, method='complete', metric='euclidean')\n",
    "threshold_value = 1.85\n",
    "res = dendrogram(data_link, color_threshold=threshold_value, truncate_mode='lastp')\n",
    "plt.tick_params(labelbottom=False)\n",
    "plt.title(\"Complete - Euclidean\")"
   ]
  },
  {
   "cell_type": "code",
   "execution_count": 10,
   "metadata": {},
   "outputs": [
    {
     "name": "stdout",
     "output_type": "stream",
     "text": [
      "Clusters: 5\n",
      "[2882, 1441, 5, 4, 1]\n"
     ]
    }
   ],
   "source": [
    "conta, clusters = count_cluster_elements(data_link, threshold_value)\n",
    "print(\"Clusters:\", len(conta.keys()))\n",
    "print(list(reversed(sorted(conta.values()))))"
   ]
  },
  {
   "cell_type": "code",
   "execution_count": 11,
   "metadata": {},
   "outputs": [
    {
     "data": {
      "text/plain": [
       "0.4011972344772239"
      ]
     },
     "execution_count": 11,
     "metadata": {},
     "output_type": "execute_result"
    }
   ],
   "source": [
    "score = silhouette_score(X, clusters)\n",
    "methods_silhouette[\"complete\"] = round(score, 2)\n",
    "score"
   ]
  },
  {
   "cell_type": "code",
   "execution_count": 12,
   "metadata": {},
   "outputs": [],
   "source": [
    "# Single - Euclidean"
   ]
  },
  {
   "cell_type": "code",
   "execution_count": 13,
   "metadata": {},
   "outputs": [
    {
     "data": {
      "text/plain": [
       "Text(0.5, 1.0, 'Single - Euclidean')"
      ]
     },
     "execution_count": 13,
     "metadata": {},
     "output_type": "execute_result"
    },
    {
     "data": {
      "image/png": "[encoded data removed]",
      "text/plain": [
       "<Figure size 432x288 with 1 Axes>"
      ]
     },
     "metadata": {
      "needs_background": "light"
     },
     "output_type": "display_data"
    }
   ],
   "source": [
    "data_dist = pdist(X, metric='euclidean')\n",
    "data_link = linkage(data_dist, method='single', metric='euclidean')\n",
    "threshold_value = 0.7\n",
    "res = dendrogram(data_link, color_threshold=threshold_value, truncate_mode='lastp')\n",
    "plt.tick_params(labelbottom=False)\n",
    "plt.title(\"Single - Euclidean\")"
   ]
  },
  {
   "cell_type": "code",
   "execution_count": 14,
   "metadata": {},
   "outputs": [
    {
     "name": "stdout",
     "output_type": "stream",
     "text": [
      "Clusters: 5\n",
      "[4329, 1, 1, 1, 1]\n"
     ]
    }
   ],
   "source": [
    "conta, clusters = count_cluster_elements(data_link, threshold_value)\n",
    "print(\"Clusters:\", len(conta.keys()))\n",
    "print(list(reversed(sorted(conta.values()))))"
   ]
  },
  {
   "cell_type": "code",
   "execution_count": 15,
   "metadata": {},
   "outputs": [
    {
     "data": {
      "text/plain": [
       "0.7973799465176711"
      ]
     },
     "execution_count": 15,
     "metadata": {},
     "output_type": "execute_result"
    }
   ],
   "source": [
    "score = silhouette_score(X, clusters)\n",
    "methods_silhouette[\"single\"] = round(score, 2)\n",
    "score"
   ]
  },
  {
   "cell_type": "code",
   "execution_count": 16,
   "metadata": {},
   "outputs": [],
   "source": [
    "# Avereage - Euclidean"
   ]
  },
  {
   "cell_type": "code",
   "execution_count": 17,
   "metadata": {
    "scrolled": true
   },
   "outputs": [
    {
     "data": {
      "text/plain": [
       "Text(0.5, 1.0, 'Average - Euclidean')"
      ]
     },
     "execution_count": 17,
     "metadata": {},
     "output_type": "execute_result"
    },
    {
     "data": {
      "image/png": "[encoded data removed]",
      "text/plain": [
       "<Figure size 432x288 with 1 Axes>"
      ]
     },
     "metadata": {
      "needs_background": "light"
     },
     "output_type": "display_data"
    }
   ],
   "source": [
    "data_dist = pdist(X, metric='euclidean')\n",
    "data_link = linkage(data_dist, method='average', metric='euclidean')\n",
    "threshold_value = 1.25\n",
    "res = dendrogram(data_link, color_threshold=threshold_value, truncate_mode='lastp')\n",
    "plt.tick_params(labelbottom=False)\n",
    "plt.title(\"Average - Euclidean\")"
   ]
  },
  {
   "cell_type": "code",
   "execution_count": 18,
   "metadata": {},
   "outputs": [
    {
     "name": "stdout",
     "output_type": "stream",
     "text": [
      "Clusters: 5\n",
      "[4324, 6, 1, 1, 1]\n"
     ]
    }
   ],
   "source": [
    "conta, clusters = count_cluster_elements(data_link, threshold_value)\n",
    "print(\"Clusters:\", len(conta.keys()))\n",
    "print(list(reversed(sorted(conta.values()))))"
   ]
  },
  {
   "cell_type": "code",
   "execution_count": 19,
   "metadata": {},
   "outputs": [
    {
     "data": {
      "text/plain": [
       "0.7502529824079992"
      ]
     },
     "execution_count": 19,
     "metadata": {},
     "output_type": "execute_result"
    }
   ],
   "source": [
    "score = silhouette_score(X, clusters)\n",
    "methods_silhouette[\"average\"] = round(score, 2)\n",
    "score"
   ]
  },
  {
   "cell_type": "code",
   "execution_count": 20,
   "metadata": {},
   "outputs": [],
   "source": [
    "# Ward - Euclidean"
   ]
  },
  {
   "cell_type": "code",
   "execution_count": 21,
   "metadata": {},
   "outputs": [
    {
     "data": {
      "text/plain": [
       "Text(0.5, 1.0, 'Ward - Euclidean')"
      ]
     },
     "execution_count": 21,
     "metadata": {},
     "output_type": "execute_result"
    },
    {
     "data": {
      "image/png": "[encoded data removed]",
      "text/plain": [
       "<Figure size 432x288 with 1 Axes>"
      ]
     },
     "metadata": {
      "needs_background": "light"
     },
     "output_type": "display_data"
    }
   ],
   "source": [
    "data_dist = pdist(X, metric='euclidean')\n",
    "data_link = linkage(data_dist, method='ward', metric='euclidean')\n",
    "threshold_value = 6.0\n",
    "res = dendrogram(data_link, color_threshold=threshold_value, truncate_mode='lastp')\n",
    "plt.tick_params(labelbottom=False)\n",
    "plt.title(\"Ward - Euclidean\")"
   ]
  },
  {
   "cell_type": "code",
   "execution_count": 22,
   "metadata": {},
   "outputs": [
    {
     "name": "stdout",
     "output_type": "stream",
     "text": [
      "Clusters: 4\n",
      "[1510, 1416, 877, 530]\n"
     ]
    }
   ],
   "source": [
    "conta, clusters = count_cluster_elements(data_link, threshold_value)\n",
    "print(\"Clusters:\", len(conta.keys()))\n",
    "print(list(reversed(sorted(conta.values()))))"
   ]
  },
  {
   "cell_type": "code",
   "execution_count": 23,
   "metadata": {},
   "outputs": [
    {
     "data": {
      "text/plain": [
       "0.28443189714992223"
      ]
     },
     "execution_count": 23,
     "metadata": {},
     "output_type": "execute_result"
    }
   ],
   "source": [
    "score = silhouette_score(X, clusters)\n",
    "methods_silhouette[\"ward\"] = round(score, 2)\n",
    "score"
   ]
  },
  {
   "cell_type": "code",
   "execution_count": 24,
   "metadata": {},
   "outputs": [],
   "source": [
    "# ----------------------------------------------"
   ]
  },
  {
   "cell_type": "code",
   "execution_count": 25,
   "metadata": {},
   "outputs": [
    {
     "data": {
      "text/plain": [
       "{'complete': 0.4, 'single': 0.8, 'average': 0.75, 'ward': 0.28}"
      ]
     },
     "execution_count": 25,
     "metadata": {},
     "output_type": "execute_result"
    }
   ],
   "source": [
    "methods_silhouette"
   ]
  }
 ],
 "metadata": {
  "kernelspec": {
   "display_name": "Python 3",
   "language": "python",
   "name": "python3"
  },
  "language_info": {
   "codemirror_mode": {
    "name": "ipython",
    "version": 3
   },
   "file_extension": ".py",
   "mimetype": "text/x-python",
   "name": "python",
   "nbconvert_exporter": "python",
   "pygments_lexer": "ipython3",
   "version": "3.8.4"
  }
 },
 "nbformat": 4,
 "nbformat_minor": 4
}
