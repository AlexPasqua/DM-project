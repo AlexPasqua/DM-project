{
 "cells": [
  {
   "cell_type": "code",
   "execution_count": 1,
   "metadata": {},
   "outputs": [],
   "source": [
    "import pandas as pd\n",
    "import matplotlib.pyplot as plt\n",
    "import numpy as np\n",
    "from tqdm.notebook import tqdm\n",
    "from tqdm import trange\n",
    "\n",
    "from sklearn.preprocessing import MinMaxScaler\n",
    "\n",
    "from scipy.stats import mode\n",
    "from scipy.spatial.distance import pdist\n",
    "from scipy.cluster.hierarchy import linkage, dendrogram, fcluster\n",
    "from sklearn.metrics import silhouette_score"
   ]
  },
  {
   "cell_type": "code",
   "execution_count": 2,
   "metadata": {
    "scrolled": true
   },
   "outputs": [
    {
     "data": {
      "text/html": [
       "<div>\n",
       "<style scoped>\n",
       "    .dataframe tbody tr th:only-of-type {\n",
       "        vertical-align: middle;\n",
       "    }\n",
       "\n",
       "    .dataframe tbody tr th {\n",
       "        vertical-align: top;\n",
       "    }\n",
       "\n",
       "    .dataframe thead th {\n",
       "        text-align: right;\n",
       "    }\n",
       "</style>\n",
       "<table border=\"1\" class=\"dataframe\">\n",
       "  <thead>\n",
       "    <tr style=\"text-align: right;\">\n",
       "      <th></th>\n",
       "      <th>TProd</th>\n",
       "      <th>DProd</th>\n",
       "      <th>MaxPO</th>\n",
       "      <th>MinPO</th>\n",
       "      <th>MeanProdOrder</th>\n",
       "      <th>TSale</th>\n",
       "      <th>MinPSale</th>\n",
       "      <th>MaxPSale</th>\n",
       "      <th>MeanSaleOrder</th>\n",
       "      <th>TRProd</th>\n",
       "      <th>MeanPSale</th>\n",
       "      <th>TOrder</th>\n",
       "      <th>SETSaleQta</th>\n",
       "      <th>SESaleQtaOrder</th>\n",
       "    </tr>\n",
       "    <tr>\n",
       "      <th>CustomerID</th>\n",
       "      <th></th>\n",
       "      <th></th>\n",
       "      <th></th>\n",
       "      <th></th>\n",
       "      <th></th>\n",
       "      <th></th>\n",
       "      <th></th>\n",
       "      <th></th>\n",
       "      <th></th>\n",
       "      <th></th>\n",
       "      <th></th>\n",
       "      <th></th>\n",
       "      <th></th>\n",
       "      <th></th>\n",
       "    </tr>\n",
       "  </thead>\n",
       "  <tbody>\n",
       "    <tr>\n",
       "      <th>17850</th>\n",
       "      <td>1702</td>\n",
       "      <td>21</td>\n",
       "      <td>141</td>\n",
       "      <td>12</td>\n",
       "      <td>48.628571</td>\n",
       "      <td>5317.89</td>\n",
       "      <td>6.36</td>\n",
       "      <td>107.25</td>\n",
       "      <td>151.939714</td>\n",
       "      <td>8</td>\n",
       "      <td>3.960370</td>\n",
       "      <td>34</td>\n",
       "      <td>4.137478</td>\n",
       "      <td>3.186426</td>\n",
       "    </tr>\n",
       "    <tr>\n",
       "      <th>13047</th>\n",
       "      <td>1355</td>\n",
       "      <td>105</td>\n",
       "      <td>309</td>\n",
       "      <td>3</td>\n",
       "      <td>84.687500</td>\n",
       "      <td>3089.10</td>\n",
       "      <td>6.64</td>\n",
       "      <td>68.00</td>\n",
       "      <td>193.068750</td>\n",
       "      <td>23</td>\n",
       "      <td>3.926082</td>\n",
       "      <td>9</td>\n",
       "      <td>5.420969</td>\n",
       "      <td>3.875000</td>\n",
       "    </tr>\n",
       "    <tr>\n",
       "      <th>12583</th>\n",
       "      <td>4978</td>\n",
       "      <td>114</td>\n",
       "      <td>714</td>\n",
       "      <td>100</td>\n",
       "      <td>292.823529</td>\n",
       "      <td>6629.34</td>\n",
       "      <td>6.80</td>\n",
       "      <td>132.80</td>\n",
       "      <td>389.961176</td>\n",
       "      <td>3</td>\n",
       "      <td>2.140474</td>\n",
       "      <td>15</td>\n",
       "      <td>5.803909</td>\n",
       "      <td>4.087463</td>\n",
       "    </tr>\n",
       "    <tr>\n",
       "      <th>13748</th>\n",
       "      <td>439</td>\n",
       "      <td>24</td>\n",
       "      <td>208</td>\n",
       "      <td>8</td>\n",
       "      <td>87.800000</td>\n",
       "      <td>948.25</td>\n",
       "      <td>9.36</td>\n",
       "      <td>204.00</td>\n",
       "      <td>189.650000</td>\n",
       "      <td>0</td>\n",
       "      <td>3.996429</td>\n",
       "      <td>5</td>\n",
       "      <td>4.080050</td>\n",
       "      <td>2.321928</td>\n",
       "    </tr>\n",
       "    <tr>\n",
       "      <th>15100</th>\n",
       "      <td>58</td>\n",
       "      <td>1</td>\n",
       "      <td>32</td>\n",
       "      <td>16</td>\n",
       "      <td>9.666667</td>\n",
       "      <td>635.10</td>\n",
       "      <td>175.20</td>\n",
       "      <td>350.40</td>\n",
       "      <td>105.850000</td>\n",
       "      <td>3</td>\n",
       "      <td>10.950000</td>\n",
       "      <td>3</td>\n",
       "      <td>2.251629</td>\n",
       "      <td>2.251629</td>\n",
       "    </tr>\n",
       "  </tbody>\n",
       "</table>\n",
       "</div>"
      ],
      "text/plain": [
       "            TProd  DProd  MaxPO  MinPO  MeanProdOrder    TSale  MinPSale  \\\n",
       "CustomerID                                                                 \n",
       "17850        1702     21    141     12      48.628571  5317.89      6.36   \n",
       "13047        1355    105    309      3      84.687500  3089.10      6.64   \n",
       "12583        4978    114    714    100     292.823529  6629.34      6.80   \n",
       "13748         439     24    208      8      87.800000   948.25      9.36   \n",
       "15100          58      1     32     16       9.666667   635.10    175.20   \n",
       "\n",
       "            MaxPSale  MeanSaleOrder  TRProd  MeanPSale  TOrder  SETSaleQta  \\\n",
       "CustomerID                                                                   \n",
       "17850         107.25     151.939714       8   3.960370      34    4.137478   \n",
       "13047          68.00     193.068750      23   3.926082       9    5.420969   \n",
       "12583         132.80     389.961176       3   2.140474      15    5.803909   \n",
       "13748         204.00     189.650000       0   3.996429       5    4.080050   \n",
       "15100         350.40     105.850000       3  10.950000       3    2.251629   \n",
       "\n",
       "            SESaleQtaOrder  \n",
       "CustomerID                  \n",
       "17850             3.186426  \n",
       "13047             3.875000  \n",
       "12583             4.087463  \n",
       "13748             2.321928  \n",
       "15100             2.251629  "
      ]
     },
     "execution_count": 2,
     "metadata": {},
     "output_type": "execute_result"
    }
   ],
   "source": [
    "df = pd.read_csv(\"customer_dataframe.csv\", sep=\"\\t\", index_col=0)\n",
    "df.head()"
   ]
  },
  {
   "cell_type": "code",
   "execution_count": 3,
   "metadata": {
    "scrolled": false
   },
   "outputs": [
    {
     "name": "stdout",
     "output_type": "stream",
     "text": [
      "<class 'pandas.core.frame.DataFrame'>\n",
      "Int64Index: 4333 entries, 17850 to 12713\n",
      "Data columns (total 4 columns):\n",
      " #   Column         Non-Null Count  Dtype  \n",
      "---  ------         --------------  -----  \n",
      " 0   TProd          4333 non-null   int64  \n",
      " 1   MeanProdOrder  4333 non-null   float64\n",
      " 2   MeanSaleOrder  4333 non-null   float64\n",
      " 3   MeanPSale      4333 non-null   float64\n",
      "dtypes: float64(3), int64(1)\n",
      "memory usage: 169.3 KB\n"
     ]
    }
   ],
   "source": [
    "df = df[['TProd', 'MeanProdOrder', 'MeanSaleOrder', 'MeanPSale']]\n",
    "df.info()"
   ]
  },
  {
   "cell_type": "code",
   "execution_count": 4,
   "metadata": {
    "scrolled": false
   },
   "outputs": [
    {
     "data": {
      "text/html": [
       "<div>\n",
       "<style scoped>\n",
       "    .dataframe tbody tr th:only-of-type {\n",
       "        vertical-align: middle;\n",
       "    }\n",
       "\n",
       "    .dataframe tbody tr th {\n",
       "        vertical-align: top;\n",
       "    }\n",
       "\n",
       "    .dataframe thead th {\n",
       "        text-align: right;\n",
       "    }\n",
       "</style>\n",
       "<table border=\"1\" class=\"dataframe\">\n",
       "  <thead>\n",
       "    <tr style=\"text-align: right;\">\n",
       "      <th></th>\n",
       "      <th>TProd</th>\n",
       "      <th>MeanProdOrder</th>\n",
       "      <th>MeanSaleOrder</th>\n",
       "      <th>MeanPSale</th>\n",
       "    </tr>\n",
       "  </thead>\n",
       "  <tbody>\n",
       "    <tr>\n",
       "      <th>count</th>\n",
       "      <td>4333.000000</td>\n",
       "      <td>4333.000000</td>\n",
       "      <td>4.333000e+03</td>\n",
       "      <td>4333.000000</td>\n",
       "    </tr>\n",
       "    <tr>\n",
       "      <th>mean</th>\n",
       "      <td>1129.535657</td>\n",
       "      <td>201.104617</td>\n",
       "      <td>3.278829e+02</td>\n",
       "      <td>3.492818</td>\n",
       "    </tr>\n",
       "    <tr>\n",
       "      <th>std</th>\n",
       "      <td>4692.695935</td>\n",
       "      <td>274.590135</td>\n",
       "      <td>3.953360e+02</td>\n",
       "      <td>8.997407</td>\n",
       "    </tr>\n",
       "    <tr>\n",
       "      <th>min</th>\n",
       "      <td>0.000000</td>\n",
       "      <td>0.000000</td>\n",
       "      <td>-3.410605e-13</td>\n",
       "      <td>0.122500</td>\n",
       "    </tr>\n",
       "    <tr>\n",
       "      <th>25%</th>\n",
       "      <td>157.000000</td>\n",
       "      <td>80.500000</td>\n",
       "      <td>1.550500e+02</td>\n",
       "      <td>2.160408</td>\n",
       "    </tr>\n",
       "    <tr>\n",
       "      <th>50%</th>\n",
       "      <td>370.000000</td>\n",
       "      <td>140.166667</td>\n",
       "      <td>2.419000e+02</td>\n",
       "      <td>2.833571</td>\n",
       "    </tr>\n",
       "    <tr>\n",
       "      <th>75%</th>\n",
       "      <td>971.000000</td>\n",
       "      <td>237.750000</td>\n",
       "      <td>3.715600e+02</td>\n",
       "      <td>3.711818</td>\n",
       "    </tr>\n",
       "    <tr>\n",
       "      <th>max</th>\n",
       "      <td>196556.000000</td>\n",
       "      <td>7824.000000</td>\n",
       "      <td>9.904875e+03</td>\n",
       "      <td>434.650000</td>\n",
       "    </tr>\n",
       "  </tbody>\n",
       "</table>\n",
       "</div>"
      ],
      "text/plain": [
       "               TProd  MeanProdOrder  MeanSaleOrder    MeanPSale\n",
       "count    4333.000000    4333.000000   4.333000e+03  4333.000000\n",
       "mean     1129.535657     201.104617   3.278829e+02     3.492818\n",
       "std      4692.695935     274.590135   3.953360e+02     8.997407\n",
       "min         0.000000       0.000000  -3.410605e-13     0.122500\n",
       "25%       157.000000      80.500000   1.550500e+02     2.160408\n",
       "50%       370.000000     140.166667   2.419000e+02     2.833571\n",
       "75%       971.000000     237.750000   3.715600e+02     3.711818\n",
       "max    196556.000000    7824.000000   9.904875e+03   434.650000"
      ]
     },
     "execution_count": 4,
     "metadata": {},
     "output_type": "execute_result"
    }
   ],
   "source": [
    "df.describe()"
   ]
  },
  {
   "cell_type": "code",
   "execution_count": 5,
   "metadata": {},
   "outputs": [],
   "source": [
    "scaler = MinMaxScaler()\n",
    "X = scaler.fit_transform(df.values)"
   ]
  },
  {
   "cell_type": "code",
   "execution_count": 6,
   "metadata": {
    "scrolled": false
   },
   "outputs": [
    {
     "data": {
      "text/plain": [
       "array([[0.00865911, 0.00621531, 0.01533989, 0.00883228],\n",
       "       [0.00689371, 0.01082407, 0.0194923 , 0.00875337]])"
      ]
     },
     "execution_count": 6,
     "metadata": {},
     "output_type": "execute_result"
    }
   ],
   "source": [
    "X[:2]"
   ]
  },
  {
   "cell_type": "code",
   "execution_count": 7,
   "metadata": {},
   "outputs": [],
   "source": [
    "# from the hierarchical clustering defined by the given linkage matrix and threshold return the cluster topology\n",
    "def count_cluster_elements(data, threshold, criterion='distance'):\n",
    "    count = {}\n",
    "    clusters = fcluster(data, threshold, criterion)\n",
    "    for c in clusters:\n",
    "        count[c] = count[c]+1 if c in count else 1\n",
    "    return count, clusters"
   ]
  },
  {
   "cell_type": "code",
   "execution_count": 8,
   "metadata": {
    "scrolled": false
   },
   "outputs": [],
   "source": [
    "# from flat clusters returns dictionary of dataframes representing the cluster\n",
    "def get_dataframe(complete_df, flat_cluster):\n",
    "    distinct_clusters = list(set(flat_cluster))\n",
    "    sorted(distinct_clusters)\n",
    "    cluster_index = {c:[] for c in distinct_clusters} \n",
    "    for i in range(len(flat_cluster)):\n",
    "        cluster_index[flat_cluster[i]].append(i)\n",
    "    clusters_df = {}\n",
    "    indexes = df.index\n",
    "    for c in distinct_clusters:\n",
    "        elem = cluster_index[c]\n",
    "        clusters_df[c] = df[df.index.isin([indexes[i] for i in elem])]\n",
    "    return clusters_df"
   ]
  },
  {
   "cell_type": "code",
   "execution_count": 9,
   "metadata": {},
   "outputs": [
    {
     "name": "stdout",
     "output_type": "stream",
     "text": [
      "Int64Index([17850, 13047, 12583, 13748, 15100, 15291, 14688, 17809, 15311,\n",
      "            14527,\n",
      "            ...\n",
      "            16000, 15195, 14087, 14204, 15471, 13436, 15520, 13298, 14569,\n",
      "            12713],\n",
      "           dtype='int64', name='CustomerID', length=4333)\n",
      "[13047, 12583, 13748]\n"
     ]
    }
   ],
   "source": [
    "print(df.index)\n",
    "l = [1,2,3]\n",
    "print([df.index[i] for i in l])"
   ]
  },
  {
   "cell_type": "code",
   "execution_count": 10,
   "metadata": {},
   "outputs": [],
   "source": [
    "methods_silhouette = {}"
   ]
  },
  {
   "cell_type": "code",
   "execution_count": 11,
   "metadata": {},
   "outputs": [],
   "source": [
    "# Complete - Euclidean"
   ]
  },
  {
   "cell_type": "code",
   "execution_count": 12,
   "metadata": {
    "scrolled": false
   },
   "outputs": [
    {
     "data": {
      "text/plain": [
       "Text(0.5, 1.0, 'Complete - Euclidean')"
      ]
     },
     "execution_count": 12,
     "metadata": {},
     "output_type": "execute_result"
    },
    {
     "data": {
      "image/png": "[encoded data removed]",
      "text/plain": [
       "<Figure size 432x288 with 1 Axes>"
      ]
     },
     "metadata": {
      "needs_background": "light"
     },
     "output_type": "display_data"
    }
   ],
   "source": [
    "data_dist = pdist(X, metric='euclidean')\n",
    "data_link = linkage(data_dist, method='complete', metric='euclidean')\n",
    "threshold_value = 1.0\n",
    "res = dendrogram(data_link, color_threshold=threshold_value, truncate_mode='lastp')\n",
    "plt.tick_params(labelbottom=False)\n",
    "plt.title(\"Complete - Euclidean\")"
   ]
  },
  {
   "cell_type": "code",
   "execution_count": 13,
   "metadata": {},
   "outputs": [
    {
     "name": "stdout",
     "output_type": "stream",
     "text": [
      "Clusters: 4\n",
      "[4311, 20, 1, 1]\n"
     ]
    }
   ],
   "source": [
    "conta, clusters = count_cluster_elements(data_link, threshold_value)\n",
    "print(\"Clusters:\", len(conta.keys()))\n",
    "print(list(reversed(sorted(conta.values()))))"
   ]
  },
  {
   "cell_type": "code",
   "execution_count": 14,
   "metadata": {},
   "outputs": [
    {
     "data": {
      "text/plain": [
       "0.9229675769358433"
      ]
     },
     "execution_count": 14,
     "metadata": {},
     "output_type": "execute_result"
    }
   ],
   "source": [
    "score = silhouette_score(X, clusters)\n",
    "methods_silhouette[\"complete\"] = round(score, 2)\n",
    "score"
   ]
  },
  {
   "cell_type": "code",
   "execution_count": 15,
   "metadata": {
    "scrolled": true
   },
   "outputs": [
    {
     "name": "stdout",
     "output_type": "stream",
     "text": [
      "\n",
      "*********** Cluster 1 - 4311 ***********\n",
      "\n",
      "              TProd  MeanProdOrder  MeanSaleOrder    MeanPSale\n",
      "count   4311.000000    4311.000000   4.311000e+03  4311.000000\n",
      "mean    1017.035259     189.215011   3.082864e+02     3.396494\n",
      "std     3121.819065     186.630854   2.573804e+02     6.181522\n",
      "min        0.000000       0.000000  -3.410605e-13     0.122500\n",
      "25%      156.000000      80.323529   1.547067e+02     2.160673\n",
      "50%      368.000000     140.000000   2.407292e+02     2.833318\n",
      "75%      954.000000     235.266667   3.678648e+02     3.711157\n",
      "max    76969.000000    2160.333333   2.661240e+03   295.000000\n",
      "\n",
      "*********** Cluster 2 - 20 ***********\n",
      "\n",
      "              TProd  MeanProdOrder  MeanSaleOrder  MeanPSale\n",
      "count     20.000000      20.000000      20.000000  20.000000\n",
      "mean   15661.100000    2650.449559    3901.219784   2.747467\n",
      "std    23975.809471    1619.823533    1276.855822   1.636387\n",
      "min     1404.000000     899.500000    1152.000000   0.400000\n",
      "25%     2870.000000    1398.100000    3185.402206   0.823611\n",
      "50%     4290.000000    2553.750000    3961.782500   2.948124\n",
      "75%    13528.750000    3072.520833    4442.382500   3.746585\n",
      "max    76946.000000    7824.000000    6212.725000   5.730696\n",
      "\n",
      "*********** Cluster 3 - 1 ***********\n",
      "\n",
      "          TProd  MeanProdOrder  MeanSaleOrder  MeanPSale\n",
      "count       1.0       1.000000       1.000000   1.000000\n",
      "mean   196556.0    2656.148649    3764.481351   2.493688\n",
      "std         NaN            NaN            NaN        NaN\n",
      "min    196556.0    2656.148649    3764.481351   2.493688\n",
      "25%    196556.0    2656.148649    3764.481351   2.493688\n",
      "50%    196556.0    2656.148649    3764.481351   2.493688\n",
      "75%    196556.0    2656.148649    3764.481351   2.493688\n",
      "max    196556.0    2656.148649    3764.481351   2.493688\n",
      "\n",
      "*********** Cluster 4 - 1 ***********\n",
      "\n",
      "       TProd  MeanProdOrder  MeanSaleOrder  MeanPSale\n",
      "count    1.0           1.00          1.000       1.00\n",
      "mean    61.0          15.25       9904.875     434.65\n",
      "std      NaN            NaN            NaN        NaN\n",
      "min     61.0          15.25       9904.875     434.65\n",
      "25%     61.0          15.25       9904.875     434.65\n",
      "50%     61.0          15.25       9904.875     434.65\n",
      "75%     61.0          15.25       9904.875     434.65\n",
      "max     61.0          15.25       9904.875     434.65\n"
     ]
    }
   ],
   "source": [
    "cdf = get_dataframe(df, clusters)\n",
    "for cluster, cluster_df in cdf.items():\n",
    "    print(f\"\\n*********** Cluster {cluster} - {len(cluster_df)} ***********\\n\")\n",
    "    print(cluster_df.describe())"
   ]
  },
  {
   "cell_type": "code",
   "execution_count": 16,
   "metadata": {},
   "outputs": [],
   "source": [
    "# Single - Euclidean"
   ]
  },
  {
   "cell_type": "code",
   "execution_count": 17,
   "metadata": {},
   "outputs": [
    {
     "data": {
      "text/plain": [
       "Text(0.5, 1.0, 'Single - Euclidean')"
      ]
     },
     "execution_count": 17,
     "metadata": {},
     "output_type": "execute_result"
    },
    {
     "data": {
      "image/png": "[encoded data removed]",
      "text/plain": [
       "<Figure size 432x288 with 1 Axes>"
      ]
     },
     "metadata": {
      "needs_background": "light"
     },
     "output_type": "display_data"
    }
   ],
   "source": [
    "data_dist = pdist(X, metric='euclidean')\n",
    "data_link = linkage(data_dist, method='single', metric='euclidean')\n",
    "threshold_value = 0.2\n",
    "res = dendrogram(data_link, color_threshold=threshold_value, truncate_mode='lastp')\n",
    "plt.tick_params(labelbottom=False)\n",
    "plt.title(\"Single - Euclidean\")"
   ]
  },
  {
   "cell_type": "code",
   "execution_count": 18,
   "metadata": {},
   "outputs": [
    {
     "name": "stdout",
     "output_type": "stream",
     "text": [
      "Clusters: 6\n",
      "[4328, 1, 1, 1, 1, 1]\n"
     ]
    }
   ],
   "source": [
    "conta, clusters = count_cluster_elements(data_link, threshold_value)\n",
    "print(\"Clusters:\", len(conta.keys()))\n",
    "print(list(reversed(sorted(conta.values()))))"
   ]
  },
  {
   "cell_type": "code",
   "execution_count": 19,
   "metadata": {},
   "outputs": [
    {
     "data": {
      "text/plain": [
       "0.9350227443788646"
      ]
     },
     "execution_count": 19,
     "metadata": {},
     "output_type": "execute_result"
    }
   ],
   "source": [
    "score = silhouette_score(X, clusters)\n",
    "methods_silhouette[\"single\"] = round(score, 2)\n",
    "score"
   ]
  },
  {
   "cell_type": "code",
   "execution_count": 20,
   "metadata": {},
   "outputs": [
    {
     "name": "stdout",
     "output_type": "stream",
     "text": [
      "\n",
      "*********** Cluster 1 - 4328 ***********\n",
      "\n",
      "              TProd  MeanProdOrder  MeanSaleOrder    MeanPSale\n",
      "count   4328.000000    4328.000000   4.328000e+03  4328.000000\n",
      "mean    1065.824630     198.170938   3.228479e+02     3.326944\n",
      "std     3446.318084     241.975050   3.513807e+02     4.291449\n",
      "min        0.000000       0.000000  -3.410605e-13     0.122500\n",
      "25%      157.000000      80.500000   1.549875e+02     2.160095\n",
      "50%      370.000000     140.098039   2.415750e+02     2.834058\n",
      "75%      970.250000     237.500000   3.710838e+02     3.710827\n",
      "max    76969.000000    4300.000000   6.212725e+03   125.000000\n",
      "\n",
      "*********** Cluster 2 - 1 ***********\n",
      "\n",
      "         TProd  MeanProdOrder  MeanSaleOrder  MeanPSale\n",
      "count      1.0       1.000000       1.000000   1.000000\n",
      "mean   76946.0    3206.083333    5151.590833   2.450323\n",
      "std        NaN            NaN            NaN        NaN\n",
      "min    76946.0    3206.083333    5151.590833   2.450323\n",
      "25%    76946.0    3206.083333    5151.590833   2.450323\n",
      "50%    76946.0    3206.083333    5151.590833   2.450323\n",
      "75%    76946.0    3206.083333    5151.590833   2.450323\n",
      "max    76946.0    3206.083333    5151.590833   2.450323\n",
      "\n",
      "*********** Cluster 3 - 1 ***********\n",
      "\n",
      "       TProd  MeanProdOrder  MeanSaleOrder  MeanPSale\n",
      "count    1.0            1.0            1.0        1.0\n",
      "mean     2.0            1.0          295.0      295.0\n",
      "std      NaN            NaN            NaN        NaN\n",
      "min      2.0            1.0          295.0      295.0\n",
      "25%      2.0            1.0          295.0      295.0\n",
      "50%      2.0            1.0          295.0      295.0\n",
      "75%      2.0            1.0          295.0      295.0\n",
      "max      2.0            1.0          295.0      295.0\n",
      "\n",
      "*********** Cluster 4 - 1 ***********\n",
      "\n",
      "        TProd  MeanProdOrder  MeanSaleOrder  MeanPSale\n",
      "count     1.0            1.0           1.00   1.000000\n",
      "mean   7824.0         7824.0        4314.72   0.771875\n",
      "std       NaN            NaN            NaN        NaN\n",
      "min    7824.0         7824.0        4314.72   0.771875\n",
      "25%    7824.0         7824.0        4314.72   0.771875\n",
      "50%    7824.0         7824.0        4314.72   0.771875\n",
      "75%    7824.0         7824.0        4314.72   0.771875\n",
      "max    7824.0         7824.0        4314.72   0.771875\n",
      "\n",
      "*********** Cluster 5 - 1 ***********\n",
      "\n",
      "          TProd  MeanProdOrder  MeanSaleOrder  MeanPSale\n",
      "count       1.0       1.000000       1.000000   1.000000\n",
      "mean   196556.0    2656.148649    3764.481351   2.493688\n",
      "std         NaN            NaN            NaN        NaN\n",
      "min    196556.0    2656.148649    3764.481351   2.493688\n",
      "25%    196556.0    2656.148649    3764.481351   2.493688\n",
      "50%    196556.0    2656.148649    3764.481351   2.493688\n",
      "75%    196556.0    2656.148649    3764.481351   2.493688\n",
      "max    196556.0    2656.148649    3764.481351   2.493688\n",
      "\n",
      "*********** Cluster 6 - 1 ***********\n",
      "\n",
      "       TProd  MeanProdOrder  MeanSaleOrder  MeanPSale\n",
      "count    1.0           1.00          1.000       1.00\n",
      "mean    61.0          15.25       9904.875     434.65\n",
      "std      NaN            NaN            NaN        NaN\n",
      "min     61.0          15.25       9904.875     434.65\n",
      "25%     61.0          15.25       9904.875     434.65\n",
      "50%     61.0          15.25       9904.875     434.65\n",
      "75%     61.0          15.25       9904.875     434.65\n",
      "max     61.0          15.25       9904.875     434.65\n"
     ]
    }
   ],
   "source": [
    "cdf = get_dataframe(df, clusters)\n",
    "for cluster, cluster_df in cdf.items():\n",
    "    print(f\"\\n*********** Cluster {cluster} - {len(cluster_df)} ***********\\n\")\n",
    "    print(cluster_df.describe())"
   ]
  },
  {
   "cell_type": "code",
   "execution_count": 21,
   "metadata": {},
   "outputs": [],
   "source": [
    "# Avereage - Euclidean"
   ]
  },
  {
   "cell_type": "code",
   "execution_count": 22,
   "metadata": {
    "scrolled": false
   },
   "outputs": [
    {
     "data": {
      "text/plain": [
       "Text(0.5, 1.0, 'Average - Euclidean')"
      ]
     },
     "execution_count": 22,
     "metadata": {},
     "output_type": "execute_result"
    },
    {
     "data": {
      "image/png": "[encoded data removed]",
      "text/plain": [
       "<Figure size 432x288 with 1 Axes>"
      ]
     },
     "metadata": {
      "needs_background": "light"
     },
     "output_type": "display_data"
    }
   ],
   "source": [
    "data_dist = pdist(X, metric='euclidean')\n",
    "data_link = linkage(data_dist, method='average', metric='euclidean')\n",
    "threshold_value = 0.5\n",
    "res = dendrogram(data_link, color_threshold=threshold_value, truncate_mode='lastp')\n",
    "plt.tick_params(labelbottom=False)\n",
    "plt.title(\"Average - Euclidean\")"
   ]
  },
  {
   "cell_type": "code",
   "execution_count": 23,
   "metadata": {},
   "outputs": [
    {
     "name": "stdout",
     "output_type": "stream",
     "text": [
      "Clusters: 5\n",
      "[4329, 1, 1, 1, 1]\n"
     ]
    }
   ],
   "source": [
    "conta, clusters = count_cluster_elements(data_link, threshold_value)\n",
    "print(\"Clusters:\", len(conta.keys()))\n",
    "print(list(reversed(sorted(conta.values()))))"
   ]
  },
  {
   "cell_type": "code",
   "execution_count": 24,
   "metadata": {},
   "outputs": [
    {
     "data": {
      "text/plain": [
       "0.9377330199523292"
      ]
     },
     "execution_count": 24,
     "metadata": {},
     "output_type": "execute_result"
    }
   ],
   "source": [
    "score = silhouette_score(X, clusters)\n",
    "methods_silhouette[\"average\"] = round(score, 2)\n",
    "score"
   ]
  },
  {
   "cell_type": "code",
   "execution_count": 25,
   "metadata": {},
   "outputs": [
    {
     "name": "stdout",
     "output_type": "stream",
     "text": [
      "\n",
      "*********** Cluster 1 - 4329 ***********\n",
      "\n",
      "              TProd  MeanProdOrder  MeanSaleOrder    MeanPSale\n",
      "count   4329.000000    4329.000000   4.329000e+03  4329.000000\n",
      "mean    1083.352968     198.865767   3.239634e+02     3.326741\n",
      "std     3633.788306     246.228308   3.589235e+02     4.290973\n",
      "min        0.000000       0.000000  -3.410605e-13     0.122500\n",
      "25%      157.000000      80.500000   1.550000e+02     2.160408\n",
      "50%      370.000000     140.166667   2.416200e+02     2.833571\n",
      "75%      971.000000     237.500000   3.712900e+02     3.710496\n",
      "max    76969.000000    4300.000000   6.212725e+03   125.000000\n",
      "\n",
      "*********** Cluster 2 - 1 ***********\n",
      "\n",
      "       TProd  MeanProdOrder  MeanSaleOrder  MeanPSale\n",
      "count    1.0            1.0            1.0        1.0\n",
      "mean     2.0            1.0          295.0      295.0\n",
      "std      NaN            NaN            NaN        NaN\n",
      "min      2.0            1.0          295.0      295.0\n",
      "25%      2.0            1.0          295.0      295.0\n",
      "50%      2.0            1.0          295.0      295.0\n",
      "75%      2.0            1.0          295.0      295.0\n",
      "max      2.0            1.0          295.0      295.0\n",
      "\n",
      "*********** Cluster 3 - 1 ***********\n",
      "\n",
      "        TProd  MeanProdOrder  MeanSaleOrder  MeanPSale\n",
      "count     1.0            1.0           1.00   1.000000\n",
      "mean   7824.0         7824.0        4314.72   0.771875\n",
      "std       NaN            NaN            NaN        NaN\n",
      "min    7824.0         7824.0        4314.72   0.771875\n",
      "25%    7824.0         7824.0        4314.72   0.771875\n",
      "50%    7824.0         7824.0        4314.72   0.771875\n",
      "75%    7824.0         7824.0        4314.72   0.771875\n",
      "max    7824.0         7824.0        4314.72   0.771875\n",
      "\n",
      "*********** Cluster 4 - 1 ***********\n",
      "\n",
      "          TProd  MeanProdOrder  MeanSaleOrder  MeanPSale\n",
      "count       1.0       1.000000       1.000000   1.000000\n",
      "mean   196556.0    2656.148649    3764.481351   2.493688\n",
      "std         NaN            NaN            NaN        NaN\n",
      "min    196556.0    2656.148649    3764.481351   2.493688\n",
      "25%    196556.0    2656.148649    3764.481351   2.493688\n",
      "50%    196556.0    2656.148649    3764.481351   2.493688\n",
      "75%    196556.0    2656.148649    3764.481351   2.493688\n",
      "max    196556.0    2656.148649    3764.481351   2.493688\n",
      "\n",
      "*********** Cluster 5 - 1 ***********\n",
      "\n",
      "       TProd  MeanProdOrder  MeanSaleOrder  MeanPSale\n",
      "count    1.0           1.00          1.000       1.00\n",
      "mean    61.0          15.25       9904.875     434.65\n",
      "std      NaN            NaN            NaN        NaN\n",
      "min     61.0          15.25       9904.875     434.65\n",
      "25%     61.0          15.25       9904.875     434.65\n",
      "50%     61.0          15.25       9904.875     434.65\n",
      "75%     61.0          15.25       9904.875     434.65\n",
      "max     61.0          15.25       9904.875     434.65\n"
     ]
    }
   ],
   "source": [
    "cdf = get_dataframe(df, clusters)\n",
    "for cluster, cluster_df in cdf.items():\n",
    "    print(f\"\\n*********** Cluster {cluster} - {len(cluster_df)} ***********\\n\")\n",
    "    print(cluster_df.describe())"
   ]
  },
  {
   "cell_type": "code",
   "execution_count": 26,
   "metadata": {},
   "outputs": [],
   "source": [
    "# Ward - Euclidean"
   ]
  },
  {
   "cell_type": "code",
   "execution_count": 27,
   "metadata": {},
   "outputs": [
    {
     "data": {
      "text/plain": [
       "Text(0.5, 1.0, 'Ward - Euclidean')"
      ]
     },
     "execution_count": 27,
     "metadata": {},
     "output_type": "execute_result"
    },
    {
     "data": {
      "image/png": "[encoded data removed]",
      "text/plain": [
       "<Figure size 432x288 with 1 Axes>"
      ]
     },
     "metadata": {
      "needs_background": "light"
     },
     "output_type": "display_data"
    }
   ],
   "source": [
    "data_dist = pdist(X, metric='euclidean')\n",
    "data_link = linkage(data_dist, method='ward', metric='euclidean')\n",
    "threshold_value = 2.0\n",
    "res = dendrogram(data_link, color_threshold=threshold_value, truncate_mode='lastp')\n",
    "plt.tick_params(labelbottom=False)\n",
    "plt.title(\"Ward - Euclidean\")"
   ]
  },
  {
   "cell_type": "code",
   "execution_count": 28,
   "metadata": {},
   "outputs": [
    {
     "name": "stdout",
     "output_type": "stream",
     "text": [
      "Clusters: 3\n",
      "[3853, 458, 22]\n"
     ]
    }
   ],
   "source": [
    "conta, clusters = count_cluster_elements(data_link, threshold_value)\n",
    "print(\"Clusters:\", len(conta.keys()))\n",
    "print(list(reversed(sorted(conta.values()))))"
   ]
  },
  {
   "cell_type": "code",
   "execution_count": 29,
   "metadata": {},
   "outputs": [
    {
     "data": {
      "text/plain": [
       "0.6717132834211728"
      ]
     },
     "execution_count": 29,
     "metadata": {},
     "output_type": "execute_result"
    }
   ],
   "source": [
    "score = silhouette_score(X, clusters)\n",
    "methods_silhouette[\"ward\"] = round(score, 2)\n",
    "score"
   ]
  },
  {
   "cell_type": "code",
   "execution_count": 30,
   "metadata": {
    "scrolled": true
   },
   "outputs": [
    {
     "name": "stdout",
     "output_type": "stream",
     "text": [
      "\n",
      "*********** Cluster 1 - 22 ***********\n",
      "\n",
      "               TProd  MeanProdOrder  MeanSaleOrder   MeanPSale\n",
      "count      22.000000      22.000000      22.000000   22.000000\n",
      "mean    23174.500000    2530.926810    4167.897820   22.367865\n",
      "std     45064.161334    1640.016861    1765.743476   92.097676\n",
      "min        61.000000      15.250000    1152.000000    0.400000\n",
      "25%      2762.000000    1386.300000    3302.466607    1.192149\n",
      "50%      4290.000000    2553.750000    3961.782500    2.948124\n",
      "75%     15400.250000    3002.000000    4593.587500    3.998686\n",
      "max    196556.000000    7824.000000    9904.875000  434.650000\n",
      "\n",
      "*********** Cluster 2 - 3853 ***********\n",
      "\n",
      "              TProd  MeanProdOrder  MeanSaleOrder    MeanPSale\n",
      "count   3853.000000    3853.000000   3.853000e+03  3853.000000\n",
      "mean     725.892551     144.078622   2.429232e+02     3.475627\n",
      "std     1289.913466      91.391011   1.250883e+02     6.521402\n",
      "min        0.000000       0.000000  -3.410605e-13     0.290000\n",
      "25%      141.000000      75.000000   1.471500e+02     2.179762\n",
      "50%      316.000000     126.333333   2.216750e+02     2.855245\n",
      "75%      799.000000     198.000000   3.248100e+02     3.750000\n",
      "max    23619.000000     847.272727   7.722509e+02   295.000000\n",
      "\n",
      "*********** Cluster 3 - 458 ***********\n",
      "\n",
      "              TProd  MeanProdOrder  MeanSaleOrder   MeanPSale\n",
      "count    458.000000     458.000000     458.000000  458.000000\n",
      "mean    3466.320961     568.932281     858.164998    2.730776\n",
      "std     8435.728108     310.509905     392.202013    1.185945\n",
      "min      190.000000     190.000000     150.390000    0.122500\n",
      "25%      604.750000     365.662500     616.052500    2.002260\n",
      "50%     1225.500000     485.500000     737.633214    2.665900\n",
      "75%     2416.000000     637.333333    1002.270000    3.347131\n",
      "max    76969.000000    2160.333333    2661.240000    8.991622\n"
     ]
    }
   ],
   "source": [
    "cdf = get_dataframe(df, clusters)\n",
    "for cluster, cluster_df in cdf.items():\n",
    "    print(f\"\\n*********** Cluster {cluster} - {len(cluster_df)} ***********\\n\")\n",
    "    print(cluster_df.describe())"
   ]
  },
  {
   "cell_type": "code",
   "execution_count": 31,
   "metadata": {},
   "outputs": [],
   "source": [
    "# ----------------------------------------------"
   ]
  },
  {
   "cell_type": "code",
   "execution_count": 32,
   "metadata": {
    "scrolled": true
   },
   "outputs": [
    {
     "data": {
      "text/plain": [
       "{'complete': 0.92, 'single': 0.94, 'average': 0.94, 'ward': 0.67}"
      ]
     },
     "execution_count": 32,
     "metadata": {},
     "output_type": "execute_result"
    }
   ],
   "source": [
    "methods_silhouette"
   ]
  },
  {
   "cell_type": "code",
   "execution_count": 33,
   "metadata": {},
   "outputs": [],
   "source": [
    "# ----------------------------------------------"
   ]
  },
  {
   "cell_type": "code",
   "execution_count": 34,
   "metadata": {},
   "outputs": [],
   "source": [
    "from sklearn.cluster import AgglomerativeClustering\n",
    "connectivity=None"
   ]
  },
  {
   "cell_type": "code",
   "execution_count": 35,
   "metadata": {},
   "outputs": [
    {
     "name": "stdout",
     "output_type": "stream",
     "text": [
      "Numero Cluster:  2\n",
      "Cluster {0: 4332, 1: 1}\n",
      "Silhouette Score 0.9687137829416765\n",
      "\n",
      "Numero Cluster:  3\n",
      "Cluster {0: 21, 1: 1, 2: 4311}\n",
      "Silhouette Score 0.9265553584280075\n",
      "\n",
      "Numero Cluster:  4\n",
      "Cluster {0: 20, 1: 1, 2: 4311, 3: 1}\n",
      "Silhouette Score 0.9229675769358433\n",
      "\n",
      "Numero Cluster:  5\n",
      "Cluster {0: 4311, 1: 1, 2: 19, 3: 1, 4: 1}\n",
      "Silhouette Score 0.9187429850123897\n",
      "\n",
      "Numero Cluster:  6\n",
      "Cluster {0: 19, 1: 1, 2: 4310, 3: 1, 4: 1, 5: 1}\n",
      "Silhouette Score 0.918838578386998\n",
      "\n",
      "Numero Cluster:  7\n",
      "Cluster {0: 4310, 1: 1, 2: 14, 3: 1, 4: 1, 5: 1, 6: 5}\n",
      "Silhouette Score 0.9170025727458544\n",
      "\n",
      "Numero Cluster:  8\n",
      "Cluster {0: 14, 1: 9, 2: 4301, 3: 1, 4: 1, 5: 1, 6: 5, 7: 1}\n",
      "Silhouette Score 0.8136578497215359\n",
      "\n",
      "Numero Cluster:  9\n",
      "Cluster {0: 4301, 1: 3, 2: 11, 3: 9, 4: 1, 5: 1, 6: 5, 7: 1, 8: 1}\n",
      "Silhouette Score 0.8137407392112684\n",
      "\n"
     ]
    }
   ],
   "source": [
    "for i in range(2, 10):\n",
    "    complete = AgglomerativeClustering(n_clusters=i, linkage='complete', affinity='euclidean', connectivity=connectivity)\n",
    "    complete.fit(X)\n",
    "    hist, bins = np.histogram(complete.labels_, bins=range(0, len(set(complete.labels_)) + 1))\n",
    "    \n",
    "    print('Numero Cluster: ', i)\n",
    "    print('Cluster', dict(zip(bins, hist)))\n",
    "    print('Silhouette Score', silhouette_score(X, complete.labels_))\n",
    "    print()"
   ]
  },
  {
   "cell_type": "code",
   "execution_count": 36,
   "metadata": {},
   "outputs": [
    {
     "name": "stdout",
     "output_type": "stream",
     "text": [
      "Numero Cluster:  2\n",
      "Cluster {0: 4332, 1: 1}\n",
      "Silhouette Score 0.9687137829416765\n",
      "\n",
      "Numero Cluster:  3\n",
      "Cluster {0: 4331, 1: 1, 2: 1}\n",
      "Silhouette Score 0.960429757293594\n",
      "\n",
      "Numero Cluster:  4\n",
      "Cluster {0: 4330, 1: 1, 2: 1, 3: 1}\n",
      "Silhouette Score 0.9579502641337838\n",
      "\n",
      "Numero Cluster:  5\n",
      "Cluster {0: 4329, 1: 1, 2: 1, 3: 1, 4: 1}\n",
      "Silhouette Score 0.9377330199523292\n",
      "\n",
      "Numero Cluster:  6\n",
      "Cluster {0: 4328, 1: 1, 2: 1, 3: 1, 4: 1, 5: 1}\n",
      "Silhouette Score 0.9350227443788646\n",
      "\n",
      "Numero Cluster:  7\n",
      "Cluster {0: 4326, 1: 1, 2: 2, 3: 1, 4: 1, 5: 1, 6: 1}\n",
      "Silhouette Score 0.9172175945517642\n",
      "\n",
      "Numero Cluster:  8\n",
      "Cluster {0: 4323, 1: 3, 2: 2, 3: 1, 4: 1, 5: 1, 6: 1, 7: 1}\n",
      "Silhouette Score 0.9178362855983728\n",
      "\n",
      "Numero Cluster:  9\n",
      "Cluster {0: 4321, 1: 3, 2: 2, 3: 2, 4: 1, 5: 1, 6: 1, 7: 1, 8: 1}\n",
      "Silhouette Score 0.9187295072770915\n",
      "\n"
     ]
    }
   ],
   "source": [
    "for i in range(2, 10):\n",
    "    complete = AgglomerativeClustering(n_clusters=i, linkage='single', affinity='euclidean', connectivity=connectivity)\n",
    "    complete.fit(X)\n",
    "    hist, bins = np.histogram(complete.labels_, bins=range(0, len(set(complete.labels_)) + 1))\n",
    "    \n",
    "    print('Numero Cluster: ', i)\n",
    "    print('Cluster', dict(zip(bins, hist)))\n",
    "    print('Silhouette Score', silhouette_score(X, complete.labels_))\n",
    "    print()"
   ]
  },
  {
   "cell_type": "code",
   "execution_count": 37,
   "metadata": {},
   "outputs": [
    {
     "name": "stdout",
     "output_type": "stream",
     "text": [
      "Numero Cluster:  2\n",
      "Cluster {0: 4332, 1: 1}\n",
      "Silhouette Score 0.9687137829416765\n",
      "\n",
      "Numero Cluster:  3\n",
      "Cluster {0: 4331, 1: 1, 2: 1}\n",
      "Silhouette Score 0.960429757293594\n",
      "\n",
      "Numero Cluster:  4\n",
      "Cluster {0: 4330, 1: 1, 2: 1, 3: 1}\n",
      "Silhouette Score 0.9579502641337838\n",
      "\n",
      "Numero Cluster:  5\n",
      "Cluster {0: 4329, 1: 1, 2: 1, 3: 1, 4: 1}\n",
      "Silhouette Score 0.9377330199523292\n",
      "\n",
      "Numero Cluster:  6\n",
      "Cluster {0: 17, 1: 1, 2: 4312, 3: 1, 4: 1, 5: 1}\n",
      "Silhouette Score 0.9177588801279704\n",
      "\n",
      "Numero Cluster:  7\n",
      "Cluster {0: 4312, 1: 1, 2: 16, 3: 1, 4: 1, 5: 1, 6: 1}\n",
      "Silhouette Score 0.914921340236521\n",
      "\n",
      "Numero Cluster:  8\n",
      "Cluster {0: 16, 1: 4304, 2: 8, 3: 1, 4: 1, 5: 1, 6: 1, 7: 1}\n",
      "Silhouette Score 0.9019714256894722\n",
      "\n",
      "Numero Cluster:  9\n",
      "Cluster {0: 8, 1: 5, 2: 11, 3: 4304, 4: 1, 5: 1, 6: 1, 7: 1, 8: 1}\n",
      "Silhouette Score 0.9020339996735516\n",
      "\n"
     ]
    }
   ],
   "source": [
    "for i in range(2, 10):\n",
    "    complete = AgglomerativeClustering(n_clusters=i, linkage='average', affinity='euclidean', connectivity=connectivity)\n",
    "    complete.fit(X)\n",
    "    hist, bins = np.histogram(complete.labels_, bins=range(0, len(set(complete.labels_)) + 1))\n",
    "    \n",
    "    print('Numero Cluster: ', i)\n",
    "    print('Cluster', dict(zip(bins, hist)))\n",
    "    print('Silhouette Score', silhouette_score(X, complete.labels_))\n",
    "    print()"
   ]
  },
  {
   "cell_type": "code",
   "execution_count": 38,
   "metadata": {},
   "outputs": [
    {
     "name": "stdout",
     "output_type": "stream",
     "text": [
      "Numero Cluster:  2\n",
      "Cluster {0: 4311, 1: 22}\n",
      "Silhouette Score 0.9308882898037164\n",
      "\n",
      "Numero Cluster:  3\n",
      "Cluster {0: 22, 1: 458, 2: 3853}\n",
      "Silhouette Score 0.6717132834211728\n",
      "\n",
      "Numero Cluster:  4\n",
      "Cluster {0: 21, 1: 458, 2: 3853, 3: 1}\n",
      "Silhouette Score 0.6721012326936315\n",
      "\n",
      "Numero Cluster:  5\n",
      "Cluster {0: 458, 1: 20, 2: 3853, 3: 1, 4: 1}\n",
      "Silhouette Score 0.672383777419555\n",
      "\n",
      "Numero Cluster:  6\n",
      "Cluster {0: 3853, 1: 20, 2: 96, 3: 1, 4: 1, 5: 362}\n",
      "Silhouette Score 0.596162922765729\n",
      "\n",
      "Numero Cluster:  7\n",
      "Cluster {0: 20, 1: 1930, 2: 96, 3: 1, 4: 1, 5: 362, 6: 1923}\n",
      "Silhouette Score 0.3893081515525163\n",
      "\n",
      "Numero Cluster:  8\n",
      "Cluster {0: 1930, 1: 6, 2: 96, 3: 14, 4: 1, 5: 362, 6: 1923, 7: 1}\n",
      "Silhouette Score 0.3899324193272519\n",
      "\n",
      "Numero Cluster:  9\n",
      "Cluster {0: 96, 1: 6, 2: 10, 3: 14, 4: 1, 5: 362, 6: 1923, 7: 1, 8: 1920}\n",
      "Silhouette Score 0.395690358733548\n",
      "\n"
     ]
    }
   ],
   "source": [
    "for i in range(2, 10):\n",
    "    complete = AgglomerativeClustering(n_clusters=i, linkage='ward', affinity='euclidean', connectivity=connectivity)\n",
    "    complete.fit(X)\n",
    "    hist, bins = np.histogram(complete.labels_, bins=range(0, len(set(complete.labels_)) + 1))\n",
    "    \n",
    "    print('Numero Cluster: ', i)\n",
    "    print('Cluster', dict(zip(bins, hist)))\n",
    "    print('Silhouette Score', silhouette_score(X, complete.labels_))\n",
    "    print()"
   ]
  }
 ],
 "metadata": {
  "kernelspec": {
   "display_name": "Python 3",
   "language": "python",
   "name": "python3"
  },
  "language_info": {
   "codemirror_mode": {
    "name": "ipython",
    "version": 3
   },
   "file_extension": ".py",
   "mimetype": "text/x-python",
   "name": "python",
   "nbconvert_exporter": "python",
   "pygments_lexer": "ipython3",
   "version": "3.8.4"
  }
 },
 "nbformat": 4,
 "nbformat_minor": 4
}
