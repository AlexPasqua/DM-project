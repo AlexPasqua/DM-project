{
 "cells": [
  {
   "cell_type": "code",
   "execution_count": 1,
   "metadata": {},
   "outputs": [],
   "source": [
    " import pandas as pd\n",
    "import matplotlib.pyplot as plt\n",
    "import numpy as np\n",
    "from tqdm.notebook import tqdm\n",
    "from tqdm import trange\n",
    "\n",
    "from sklearn.preprocessing import MinMaxScaler\n",
    "\n",
    "from scipy.stats import mode\n",
    "from scipy.spatial.distance import pdist\n",
    "from scipy.cluster.hierarchy import linkage, dendrogram, fcluster\n",
    "from sklearn.metrics import silhouette_score"
   ]
  },
  {
   "cell_type": "code",
   "execution_count": 2,
   "metadata": {
    "scrolled": true
   },
   "outputs": [
    {
     "data": {
      "text/html": [
       "<div>\n",
       "<style scoped>\n",
       "    .dataframe tbody tr th:only-of-type {\n",
       "        vertical-align: middle;\n",
       "    }\n",
       "\n",
       "    .dataframe tbody tr th {\n",
       "        vertical-align: top;\n",
       "    }\n",
       "\n",
       "    .dataframe thead th {\n",
       "        text-align: right;\n",
       "    }\n",
       "</style>\n",
       "<table border=\"1\" class=\"dataframe\">\n",
       "  <thead>\n",
       "    <tr style=\"text-align: right;\">\n",
       "      <th></th>\n",
       "      <th>TProd</th>\n",
       "      <th>DProd</th>\n",
       "      <th>MaxPO</th>\n",
       "      <th>MinPO</th>\n",
       "      <th>MeanProdOrder</th>\n",
       "      <th>TSale</th>\n",
       "      <th>MinPSale</th>\n",
       "      <th>MaxPSale</th>\n",
       "      <th>MeanSaleOrder</th>\n",
       "      <th>TRProd</th>\n",
       "      <th>MeanPSale</th>\n",
       "      <th>TOrder</th>\n",
       "      <th>SETSaleQta</th>\n",
       "      <th>SESaleQtaOrder</th>\n",
       "    </tr>\n",
       "    <tr>\n",
       "      <th>CustomerID</th>\n",
       "      <th></th>\n",
       "      <th></th>\n",
       "      <th></th>\n",
       "      <th></th>\n",
       "      <th></th>\n",
       "      <th></th>\n",
       "      <th></th>\n",
       "      <th></th>\n",
       "      <th></th>\n",
       "      <th></th>\n",
       "      <th></th>\n",
       "      <th></th>\n",
       "      <th></th>\n",
       "      <th></th>\n",
       "    </tr>\n",
       "  </thead>\n",
       "  <tbody>\n",
       "    <tr>\n",
       "      <th>17850</th>\n",
       "      <td>1702</td>\n",
       "      <td>21</td>\n",
       "      <td>141</td>\n",
       "      <td>12</td>\n",
       "      <td>48.629</td>\n",
       "      <td>5317.89</td>\n",
       "      <td>6.36</td>\n",
       "      <td>107.25</td>\n",
       "      <td>151.940</td>\n",
       "      <td>31</td>\n",
       "      <td>3.960</td>\n",
       "      <td>34</td>\n",
       "      <td>4.137</td>\n",
       "      <td>3.186</td>\n",
       "    </tr>\n",
       "    <tr>\n",
       "      <th>13047</th>\n",
       "      <td>1355</td>\n",
       "      <td>105</td>\n",
       "      <td>309</td>\n",
       "      <td>3</td>\n",
       "      <td>84.688</td>\n",
       "      <td>3089.10</td>\n",
       "      <td>6.64</td>\n",
       "      <td>68.00</td>\n",
       "      <td>193.069</td>\n",
       "      <td>35</td>\n",
       "      <td>3.926</td>\n",
       "      <td>9</td>\n",
       "      <td>5.421</td>\n",
       "      <td>3.875</td>\n",
       "    </tr>\n",
       "    <tr>\n",
       "      <th>12583</th>\n",
       "      <td>4978</td>\n",
       "      <td>114</td>\n",
       "      <td>714</td>\n",
       "      <td>100</td>\n",
       "      <td>292.824</td>\n",
       "      <td>6629.34</td>\n",
       "      <td>6.80</td>\n",
       "      <td>132.80</td>\n",
       "      <td>389.961</td>\n",
       "      <td>50</td>\n",
       "      <td>2.140</td>\n",
       "      <td>15</td>\n",
       "      <td>5.804</td>\n",
       "      <td>4.087</td>\n",
       "    </tr>\n",
       "    <tr>\n",
       "      <th>13748</th>\n",
       "      <td>439</td>\n",
       "      <td>24</td>\n",
       "      <td>208</td>\n",
       "      <td>8</td>\n",
       "      <td>87.800</td>\n",
       "      <td>948.25</td>\n",
       "      <td>9.36</td>\n",
       "      <td>204.00</td>\n",
       "      <td>189.650</td>\n",
       "      <td>0</td>\n",
       "      <td>3.996</td>\n",
       "      <td>5</td>\n",
       "      <td>4.080</td>\n",
       "      <td>2.322</td>\n",
       "    </tr>\n",
       "    <tr>\n",
       "      <th>15100</th>\n",
       "      <td>58</td>\n",
       "      <td>1</td>\n",
       "      <td>32</td>\n",
       "      <td>16</td>\n",
       "      <td>9.667</td>\n",
       "      <td>635.10</td>\n",
       "      <td>175.20</td>\n",
       "      <td>350.40</td>\n",
       "      <td>105.850</td>\n",
       "      <td>22</td>\n",
       "      <td>10.950</td>\n",
       "      <td>3</td>\n",
       "      <td>2.252</td>\n",
       "      <td>2.252</td>\n",
       "    </tr>\n",
       "  </tbody>\n",
       "</table>\n",
       "</div>"
      ],
      "text/plain": [
       "            TProd  DProd  MaxPO  MinPO  MeanProdOrder    TSale  MinPSale  \\\n",
       "CustomerID                                                                 \n",
       "17850        1702     21    141     12         48.629  5317.89      6.36   \n",
       "13047        1355    105    309      3         84.688  3089.10      6.64   \n",
       "12583        4978    114    714    100        292.824  6629.34      6.80   \n",
       "13748         439     24    208      8         87.800   948.25      9.36   \n",
       "15100          58      1     32     16          9.667   635.10    175.20   \n",
       "\n",
       "            MaxPSale  MeanSaleOrder  TRProd  MeanPSale  TOrder  SETSaleQta  \\\n",
       "CustomerID                                                                   \n",
       "17850         107.25        151.940      31      3.960      34       4.137   \n",
       "13047          68.00        193.069      35      3.926       9       5.421   \n",
       "12583         132.80        389.961      50      2.140      15       5.804   \n",
       "13748         204.00        189.650       0      3.996       5       4.080   \n",
       "15100         350.40        105.850      22     10.950       3       2.252   \n",
       "\n",
       "            SESaleQtaOrder  \n",
       "CustomerID                  \n",
       "17850                3.186  \n",
       "13047                3.875  \n",
       "12583                4.087  \n",
       "13748                2.322  \n",
       "15100                2.252  "
      ]
     },
     "execution_count": 2,
     "metadata": {},
     "output_type": "execute_result"
    }
   ],
   "source": [
    "df = pd.read_csv(\"datasets/customer_dataframe.csv\", sep=\"\\t\", index_col=0)\n",
    "df.head()"
   ]
  },
  {
   "cell_type": "code",
   "execution_count": 3,
   "metadata": {
    "scrolled": false
   },
   "outputs": [
    {
     "name": "stdout",
     "output_type": "stream",
     "text": [
      "<class 'pandas.core.frame.DataFrame'>\n",
      "Int64Index: 4333 entries, 17850 to 12713\n",
      "Data columns (total 4 columns):\n",
      " #   Column         Non-Null Count  Dtype  \n",
      "---  ------         --------------  -----  \n",
      " 0   TProd          4333 non-null   int64  \n",
      " 1   MeanProdOrder  4333 non-null   float64\n",
      " 2   MeanSaleOrder  4333 non-null   float64\n",
      " 3   MeanPSale      4333 non-null   float64\n",
      "dtypes: float64(3), int64(1)\n",
      "memory usage: 169.3 KB\n"
     ]
    }
   ],
   "source": [
    "df_aux = df[['TProd', 'MeanProdOrder', 'MeanSaleOrder', 'MeanPSale']]\n",
    "df_aux.info()"
   ]
  },
  {
   "cell_type": "code",
   "execution_count": 4,
   "metadata": {
    "scrolled": true
   },
   "outputs": [
    {
     "data": {
      "text/html": [
       "<div>\n",
       "<style scoped>\n",
       "    .dataframe tbody tr th:only-of-type {\n",
       "        vertical-align: middle;\n",
       "    }\n",
       "\n",
       "    .dataframe tbody tr th {\n",
       "        vertical-align: top;\n",
       "    }\n",
       "\n",
       "    .dataframe thead th {\n",
       "        text-align: right;\n",
       "    }\n",
       "</style>\n",
       "<table border=\"1\" class=\"dataframe\">\n",
       "  <thead>\n",
       "    <tr style=\"text-align: right;\">\n",
       "      <th></th>\n",
       "      <th>TProd</th>\n",
       "      <th>MeanProdOrder</th>\n",
       "      <th>MeanSaleOrder</th>\n",
       "      <th>MeanPSale</th>\n",
       "    </tr>\n",
       "  </thead>\n",
       "  <tbody>\n",
       "    <tr>\n",
       "      <th>count</th>\n",
       "      <td>4333.000000</td>\n",
       "      <td>4333.000000</td>\n",
       "      <td>4333.000000</td>\n",
       "      <td>4333.000000</td>\n",
       "    </tr>\n",
       "    <tr>\n",
       "      <th>mean</th>\n",
       "      <td>1129.535657</td>\n",
       "      <td>201.104614</td>\n",
       "      <td>327.882896</td>\n",
       "      <td>3.492819</td>\n",
       "    </tr>\n",
       "    <tr>\n",
       "      <th>std</th>\n",
       "      <td>4692.695935</td>\n",
       "      <td>274.590134</td>\n",
       "      <td>395.336014</td>\n",
       "      <td>8.997404</td>\n",
       "    </tr>\n",
       "    <tr>\n",
       "      <th>min</th>\n",
       "      <td>0.000000</td>\n",
       "      <td>0.000000</td>\n",
       "      <td>-0.000000</td>\n",
       "      <td>0.122000</td>\n",
       "    </tr>\n",
       "    <tr>\n",
       "      <th>25%</th>\n",
       "      <td>157.000000</td>\n",
       "      <td>80.500000</td>\n",
       "      <td>155.050000</td>\n",
       "      <td>2.160000</td>\n",
       "    </tr>\n",
       "    <tr>\n",
       "      <th>50%</th>\n",
       "      <td>370.000000</td>\n",
       "      <td>140.167000</td>\n",
       "      <td>241.900000</td>\n",
       "      <td>2.834000</td>\n",
       "    </tr>\n",
       "    <tr>\n",
       "      <th>75%</th>\n",
       "      <td>971.000000</td>\n",
       "      <td>237.750000</td>\n",
       "      <td>371.560000</td>\n",
       "      <td>3.712000</td>\n",
       "    </tr>\n",
       "    <tr>\n",
       "      <th>max</th>\n",
       "      <td>196556.000000</td>\n",
       "      <td>7824.000000</td>\n",
       "      <td>9904.875000</td>\n",
       "      <td>434.650000</td>\n",
       "    </tr>\n",
       "  </tbody>\n",
       "</table>\n",
       "</div>"
      ],
      "text/plain": [
       "               TProd  MeanProdOrder  MeanSaleOrder    MeanPSale\n",
       "count    4333.000000    4333.000000    4333.000000  4333.000000\n",
       "mean     1129.535657     201.104614     327.882896     3.492819\n",
       "std      4692.695935     274.590134     395.336014     8.997404\n",
       "min         0.000000       0.000000      -0.000000     0.122000\n",
       "25%       157.000000      80.500000     155.050000     2.160000\n",
       "50%       370.000000     140.167000     241.900000     2.834000\n",
       "75%       971.000000     237.750000     371.560000     3.712000\n",
       "max    196556.000000    7824.000000    9904.875000   434.650000"
      ]
     },
     "execution_count": 4,
     "metadata": {},
     "output_type": "execute_result"
    }
   ],
   "source": [
    "df_aux.describe()"
   ]
  },
  {
   "cell_type": "code",
   "execution_count": 5,
   "metadata": {},
   "outputs": [],
   "source": [
    "scaler = MinMaxScaler()\n",
    "X = scaler.fit_transform(df_aux.values)"
   ]
  },
  {
   "cell_type": "code",
   "execution_count": 6,
   "metadata": {
    "scrolled": false
   },
   "outputs": [
    {
     "data": {
      "text/plain": [
       "array([[0.00865911, 0.00621536, 0.01533992, 0.00883257],\n",
       "       [0.00689371, 0.01082413, 0.01949232, 0.00875433]])"
      ]
     },
     "execution_count": 6,
     "metadata": {},
     "output_type": "execute_result"
    }
   ],
   "source": [
    "X[:2]"
   ]
  },
  {
   "cell_type": "code",
   "execution_count": 7,
   "metadata": {},
   "outputs": [],
   "source": [
    "# from the hierarchical clustering defined by the given linkage matrix and threshold return the cluster topology\n",
    "def count_cluster_elements(data, threshold, criterion='distance'):\n",
    "    count = {}\n",
    "    clusters = fcluster(data, threshold, criterion)\n",
    "    for c in clusters:\n",
    "        count[c] = count[c]+1 if c in count else 1\n",
    "    return count, clusters"
   ]
  },
  {
   "cell_type": "code",
   "execution_count": 8,
   "metadata": {
    "scrolled": false
   },
   "outputs": [],
   "source": [
    "# from flat clusters returns dictionary of dataframes representing the cluster\n",
    "def get_dataframe(complete_df, flat_cluster):\n",
    "    distinct_clusters = list(set(flat_cluster))\n",
    "    sorted(distinct_clusters)\n",
    "    cluster_index = {c:[] for c in distinct_clusters} \n",
    "    for i in range(len(flat_cluster)):\n",
    "        cluster_index[flat_cluster[i]].append(i)\n",
    "    clusters_df = {}\n",
    "    indexes = df.index\n",
    "    for c in distinct_clusters:\n",
    "        elem = cluster_index[c]\n",
    "        clusters_df[c] = df[df.index.isin([indexes[i] for i in elem])]\n",
    "    return clusters_df"
   ]
  },
  {
   "cell_type": "code",
   "execution_count": 9,
   "metadata": {},
   "outputs": [],
   "source": [
    "methods_silhouette = {}"
   ]
  },
  {
   "cell_type": "code",
   "execution_count": 10,
   "metadata": {},
   "outputs": [],
   "source": [
    "# Complete - Euclidean"
   ]
  },
  {
   "cell_type": "code",
   "execution_count": 11,
   "metadata": {
    "scrolled": false
   },
   "outputs": [
    {
     "data": {
      "text/plain": [
       "Text(0.5, 1.0, 'Complete - Euclidean')"
      ]
     },
     "execution_count": 11,
     "metadata": {},
     "output_type": "execute_result"
    },
    {
     "data": {
      "image/png": "[encoded data removed]",
      "text/plain": [
       "<Figure size 432x288 with 1 Axes>"
      ]
     },
     "metadata": {
      "needs_background": "light"
     },
     "output_type": "display_data"
    }
   ],
   "source": [
    "data_dist = pdist(X, metric='euclidean')\n",
    "data_link = linkage(data_dist, method='complete', metric='euclidean')\n",
    "threshold_value = 1.0\n",
    "res = dendrogram(data_link, color_threshold=threshold_value, truncate_mode='lastp')\n",
    "plt.tick_params(labelbottom=False)\n",
    "plt.title(\"Complete - Euclidean\")"
   ]
  },
  {
   "cell_type": "code",
   "execution_count": 12,
   "metadata": {},
   "outputs": [
    {
     "name": "stdout",
     "output_type": "stream",
     "text": [
      "Clusters: 4\n",
      "[4311, 20, 1, 1]\n"
     ]
    }
   ],
   "source": [
    "conta, clusters = count_cluster_elements(data_link, threshold_value)\n",
    "print(\"Clusters:\", len(conta.keys()))\n",
    "print(list(reversed(sorted(conta.values()))))"
   ]
  },
  {
   "cell_type": "code",
   "execution_count": 13,
   "metadata": {},
   "outputs": [
    {
     "data": {
      "text/plain": [
       "0.9229675968079302"
      ]
     },
     "execution_count": 13,
     "metadata": {},
     "output_type": "execute_result"
    }
   ],
   "source": [
    "score = silhouette_score(X, clusters)\n",
    "methods_silhouette[\"complete\"] = round(score, 2)\n",
    "score"
   ]
  },
  {
   "cell_type": "code",
   "execution_count": 14,
   "metadata": {
    "scrolled": false
   },
   "outputs": [
    {
     "name": "stdout",
     "output_type": "stream",
     "text": [
      "*********** Cluster 1 - 4311 ***********\n",
      "*********** Cluster 2 - 20 ***********\n",
      "*********** Cluster 3 - 1 ***********\n",
      "*********** Cluster 4 - 1 ***********\n"
     ]
    }
   ],
   "source": [
    "cdf = get_dataframe(df, clusters)\n",
    "for cluster, cluster_df in cdf.items():\n",
    "    print(f\"*********** Cluster {cluster} - {len(cluster_df)} ***********\")\n",
    "    #print(cluster_df.describe())"
   ]
  },
  {
   "cell_type": "code",
   "execution_count": 15,
   "metadata": {
    "scrolled": false
   },
   "outputs": [
    {
     "data": {
      "image/png": "[encoded data removed]",
      "text/plain": [
       "<Figure size 1080x1080 with 12 Axes>"
      ]
     },
     "metadata": {
      "needs_background": "light"
     },
     "output_type": "display_data"
    }
   ],
   "source": [
    "attr = df_aux.columns\n",
    "clusters = [i for i in cdf]\n",
    "fig, axs = plt.subplots(len(attr),3,figsize=(15,15))\n",
    "for attr_index in range(len(attr)):\n",
    "    mean_values = []\n",
    "    max_values = []\n",
    "    min_values = []\n",
    "    for _, cluster_df in cdf.items():\n",
    "        mean_values.append(cluster_df.describe()[attr[attr_index]][1])\n",
    "        max_values.append(cluster_df.describe()[attr[attr_index]][7])\n",
    "        min_values.append(cluster_df.describe()[attr[attr_index]][3])\n",
    "    axs[attr_index][0].bar(clusters, mean_values)\n",
    "    axs[attr_index][0].set_title(f\"{attr[attr_index]} - Mean\")\n",
    "    axs[attr_index][1].bar(clusters, max_values)\n",
    "    axs[attr_index][1].set_title(f\"{attr[attr_index]} - Max\")\n",
    "    axs[attr_index][2].bar(clusters, min_values)\n",
    "    axs[attr_index][2].set_title(f\"{attr[attr_index]} - Min\")"
   ]
  },
  {
   "cell_type": "code",
   "execution_count": 16,
   "metadata": {},
   "outputs": [],
   "source": [
    "# Single - Euclidean"
   ]
  },
  {
   "cell_type": "code",
   "execution_count": 17,
   "metadata": {},
   "outputs": [
    {
     "data": {
      "text/plain": [
       "Text(0.5, 1.0, 'Single - Euclidean')"
      ]
     },
     "execution_count": 17,
     "metadata": {},
     "output_type": "execute_result"
    },
    {
     "data": {
      "image/png": "[encoded data removed]",
      "text/plain": [
       "<Figure size 432x288 with 1 Axes>"
      ]
     },
     "metadata": {
      "needs_background": "light"
     },
     "output_type": "display_data"
    }
   ],
   "source": [
    "data_dist = pdist(X, metric='euclidean')\n",
    "data_link = linkage(data_dist, method='single', metric='euclidean')\n",
    "threshold_value = 0.2\n",
    "res = dendrogram(data_link, color_threshold=threshold_value, truncate_mode='lastp')\n",
    "plt.tick_params(labelbottom=False)\n",
    "plt.title(\"Single - Euclidean\")"
   ]
  },
  {
   "cell_type": "code",
   "execution_count": 18,
   "metadata": {},
   "outputs": [
    {
     "name": "stdout",
     "output_type": "stream",
     "text": [
      "Clusters: 6\n",
      "[4328, 1, 1, 1, 1, 1]\n"
     ]
    }
   ],
   "source": [
    "conta, clusters = count_cluster_elements(data_link, threshold_value)\n",
    "print(\"Clusters:\", len(conta.keys()))\n",
    "print(list(reversed(sorted(conta.values()))))"
   ]
  },
  {
   "cell_type": "code",
   "execution_count": 19,
   "metadata": {},
   "outputs": [
    {
     "data": {
      "text/plain": [
       "0.9350227049491753"
      ]
     },
     "execution_count": 19,
     "metadata": {},
     "output_type": "execute_result"
    }
   ],
   "source": [
    "score = silhouette_score(X, clusters)\n",
    "methods_silhouette[\"single\"] = round(score, 2)\n",
    "score"
   ]
  },
  {
   "cell_type": "code",
   "execution_count": 20,
   "metadata": {},
   "outputs": [
    {
     "name": "stdout",
     "output_type": "stream",
     "text": [
      "*********** Cluster 1 - 4328 ***********\n",
      "*********** Cluster 2 - 1 ***********\n",
      "*********** Cluster 3 - 1 ***********\n",
      "*********** Cluster 4 - 1 ***********\n",
      "*********** Cluster 5 - 1 ***********\n",
      "*********** Cluster 6 - 1 ***********\n"
     ]
    }
   ],
   "source": [
    "cdf = get_dataframe(df, clusters)\n",
    "for cluster, cluster_df in cdf.items():\n",
    "    print(f\"*********** Cluster {cluster} - {len(cluster_df)} ***********\")\n",
    "    #print(cluster_df.describe())"
   ]
  },
  {
   "cell_type": "code",
   "execution_count": 21,
   "metadata": {},
   "outputs": [
    {
     "data": {
      "image/png": "[encoded data removed]",
      "text/plain": [
       "<Figure size 1080x1080 with 12 Axes>"
      ]
     },
     "metadata": {
      "needs_background": "light"
     },
     "output_type": "display_data"
    }
   ],
   "source": [
    "attr = ['TProd', 'MeanProdOrder', 'MeanSaleOrder', 'MeanPSale']\n",
    "clusters = [i for i in cdf]\n",
    "fig, axs = plt.subplots(len(attr),3,figsize=(15,15))\n",
    "for attr_index in range(len(attr)):\n",
    "    mean_values = []\n",
    "    max_values = []\n",
    "    min_values = []\n",
    "    for _, cluster_df in cdf.items():\n",
    "        mean_values.append(cluster_df.describe()[attr[attr_index]][1])\n",
    "        max_values.append(cluster_df.describe()[attr[attr_index]][7])\n",
    "        min_values.append(cluster_df.describe()[attr[attr_index]][3])\n",
    "    axs[attr_index][0].bar(clusters, mean_values)\n",
    "    axs[attr_index][0].set_title(f\"{attr[attr_index]} - Mean\")\n",
    "    axs[attr_index][1].bar(clusters, max_values)\n",
    "    axs[attr_index][1].set_title(f\"{attr[attr_index]} - Max\")\n",
    "    axs[attr_index][2].bar(clusters, min_values)\n",
    "    axs[attr_index][2].set_title(f\"{attr[attr_index]} - Min\")"
   ]
  },
  {
   "cell_type": "code",
   "execution_count": 22,
   "metadata": {},
   "outputs": [],
   "source": [
    "# Avereage - Euclidean"
   ]
  },
  {
   "cell_type": "code",
   "execution_count": 23,
   "metadata": {
    "scrolled": false
   },
   "outputs": [
    {
     "data": {
      "text/plain": [
       "Text(0.5, 1.0, 'Average - Euclidean')"
      ]
     },
     "execution_count": 23,
     "metadata": {},
     "output_type": "execute_result"
    },
    {
     "data": {
      "image/png": "[encoded data removed]",
      "text/plain": [
       "<Figure size 432x288 with 1 Axes>"
      ]
     },
     "metadata": {
      "needs_background": "light"
     },
     "output_type": "display_data"
    }
   ],
   "source": [
    "data_dist = pdist(X, metric='euclidean')\n",
    "data_link = linkage(data_dist, method='average', metric='euclidean')\n",
    "threshold_value = 0.5\n",
    "res = dendrogram(data_link, color_threshold=threshold_value, truncate_mode='lastp')\n",
    "plt.tick_params(labelbottom=False)\n",
    "plt.title(\"Average - Euclidean\")"
   ]
  },
  {
   "cell_type": "code",
   "execution_count": 24,
   "metadata": {},
   "outputs": [
    {
     "name": "stdout",
     "output_type": "stream",
     "text": [
      "Clusters: 6\n",
      "[4312, 17, 1, 1, 1, 1]\n"
     ]
    }
   ],
   "source": [
    "conta, clusters = count_cluster_elements(data_link, threshold_value)\n",
    "print(\"Clusters:\", len(conta.keys()))\n",
    "print(list(reversed(sorted(conta.values()))))"
   ]
  },
  {
   "cell_type": "code",
   "execution_count": 25,
   "metadata": {},
   "outputs": [
    {
     "data": {
      "text/plain": [
       "0.9206974421486209"
      ]
     },
     "execution_count": 25,
     "metadata": {},
     "output_type": "execute_result"
    }
   ],
   "source": [
    "score = silhouette_score(X, clusters)\n",
    "methods_silhouette[\"average\"] = round(score, 2)\n",
    "score"
   ]
  },
  {
   "cell_type": "code",
   "execution_count": 26,
   "metadata": {
    "scrolled": true
   },
   "outputs": [
    {
     "name": "stdout",
     "output_type": "stream",
     "text": [
      "*********** Cluster 1 - 4312 ***********\n",
      "*********** Cluster 2 - 17 ***********\n",
      "*********** Cluster 3 - 1 ***********\n",
      "*********** Cluster 4 - 1 ***********\n",
      "*********** Cluster 5 - 1 ***********\n",
      "*********** Cluster 6 - 1 ***********\n"
     ]
    }
   ],
   "source": [
    "cdf = get_dataframe(df, clusters)\n",
    "for cluster, cluster_df in cdf.items():\n",
    "    print(f\"*********** Cluster {cluster} - {len(cluster_df)} ***********\")\n",
    "    #print(cluster_df.describe())"
   ]
  },
  {
   "cell_type": "code",
   "execution_count": 27,
   "metadata": {},
   "outputs": [
    {
     "data": {
      "image/png": "[encoded data removed]",
      "text/plain": [
       "<Figure size 1080x1080 with 12 Axes>"
      ]
     },
     "metadata": {
      "needs_background": "light"
     },
     "output_type": "display_data"
    }
   ],
   "source": [
    "attr = ['TProd', 'MeanProdOrder', 'MeanSaleOrder', 'MeanPSale']\n",
    "clusters = [i for i in cdf]\n",
    "fig, axs = plt.subplots(len(attr),3,figsize=(15,15))\n",
    "for attr_index in range(len(attr)):\n",
    "    mean_values = []\n",
    "    max_values = []\n",
    "    min_values = []\n",
    "    for _, cluster_df in cdf.items():\n",
    "        mean_values.append(cluster_df.describe()[attr[attr_index]][1])\n",
    "        max_values.append(cluster_df.describe()[attr[attr_index]][7])\n",
    "        min_values.append(cluster_df.describe()[attr[attr_index]][3])\n",
    "    axs[attr_index][0].bar(clusters, mean_values)\n",
    "    axs[attr_index][0].set_title(f\"{attr[attr_index]} - Mean\")\n",
    "    axs[attr_index][1].bar(clusters, max_values)\n",
    "    axs[attr_index][1].set_title(f\"{attr[attr_index]} - Max\")\n",
    "    axs[attr_index][2].bar(clusters, min_values)\n",
    "    axs[attr_index][2].set_title(f\"{attr[attr_index]} - Min\")"
   ]
  },
  {
   "cell_type": "code",
   "execution_count": 28,
   "metadata": {},
   "outputs": [],
   "source": [
    "# Ward - Euclidean"
   ]
  },
  {
   "cell_type": "code",
   "execution_count": 29,
   "metadata": {},
   "outputs": [
    {
     "data": {
      "text/plain": [
       "Text(0.5, 1.0, 'Ward - Euclidean')"
      ]
     },
     "execution_count": 29,
     "metadata": {},
     "output_type": "execute_result"
    },
    {
     "data": {
      "image/png": "[encoded data removed]",
      "text/plain": [
       "<Figure size 432x288 with 1 Axes>"
      ]
     },
     "metadata": {
      "needs_background": "light"
     },
     "output_type": "display_data"
    }
   ],
   "source": [
    "data_dist = pdist(X, metric='euclidean')\n",
    "data_link = linkage(data_dist, method='ward', metric='euclidean')\n",
    "threshold_value = 2.0\n",
    "res = dendrogram(data_link, color_threshold=threshold_value, truncate_mode='lastp')\n",
    "plt.tick_params(labelbottom=False)\n",
    "plt.title(\"Ward - Euclidean\")"
   ]
  },
  {
   "cell_type": "code",
   "execution_count": 30,
   "metadata": {},
   "outputs": [
    {
     "name": "stdout",
     "output_type": "stream",
     "text": [
      "Clusters: 3\n",
      "[3853, 458, 22]\n"
     ]
    }
   ],
   "source": [
    "conta, clusters = count_cluster_elements(data_link, threshold_value)\n",
    "print(\"Clusters:\", len(conta.keys()))\n",
    "print(list(reversed(sorted(conta.values()))))"
   ]
  },
  {
   "cell_type": "code",
   "execution_count": 31,
   "metadata": {},
   "outputs": [
    {
     "data": {
      "text/plain": [
       "0.6717133967267056"
      ]
     },
     "execution_count": 31,
     "metadata": {},
     "output_type": "execute_result"
    }
   ],
   "source": [
    "score = silhouette_score(X, clusters)\n",
    "methods_silhouette[\"ward\"] = round(score, 2)\n",
    "score"
   ]
  },
  {
   "cell_type": "code",
   "execution_count": 32,
   "metadata": {
    "scrolled": false
   },
   "outputs": [
    {
     "name": "stdout",
     "output_type": "stream",
     "text": [
      "*********** Cluster 1 - 22 ***********\n",
      "*********** Cluster 2 - 3853 ***********\n",
      "*********** Cluster 3 - 458 ***********\n"
     ]
    }
   ],
   "source": [
    "cdf = get_dataframe(df, clusters)\n",
    "for cluster, cluster_df in cdf.items():\n",
    "    print(f\"*********** Cluster {cluster} - {len(cluster_df)} ***********\")\n",
    "    #print(cluster_df.describe())"
   ]
  },
  {
   "cell_type": "code",
   "execution_count": 46,
   "metadata": {
    "scrolled": false
   },
   "outputs": [
    {
     "data": {
      "image/png": "[encoded data removed]",
      "text/plain": [
       "<Figure size 1080x1080 with 12 Axes>"
      ]
     },
     "metadata": {
      "needs_background": "light"
     },
     "output_type": "display_data"
    }
   ],
   "source": [
    "attr = ['TProd', 'MeanProdOrder', 'MeanSaleOrder', 'MeanPSale']\n",
    "clusters = [i for i in cdf]\n",
    "fig, axs = plt.subplots(len(attr),3,figsize=(15,15))\n",
    "for attr_index in range(len(attr)):\n",
    "    mean_values = []\n",
    "    max_values = []\n",
    "    min_values = []\n",
    "    for _, cluster_df in cdf.items():\n",
    "        mean_values.append(cluster_df.describe()[attr[attr_index]][1])\n",
    "        max_values.append(cluster_df.describe()[attr[attr_index]][7])\n",
    "        min_values.append(cluster_df.describe()[attr[attr_index]][3])\n",
    "    axs[attr_index][0].bar(clusters, mean_values)\n",
    "    axs[attr_index][0].set_title(f\"{attr[attr_index]} - Mean\")\n",
    "    axs[attr_index][1].bar(clusters, max_values)\n",
    "    axs[attr_index][1].set_title(f\"{attr[attr_index]} - Max\")\n",
    "    axs[attr_index][2].bar(clusters, min_values)\n",
    "    axs[attr_index][2].set_title(f\"{attr[attr_index]} - Min\")"
   ]
  },
  {
   "cell_type": "code",
   "execution_count": 34,
   "metadata": {},
   "outputs": [],
   "source": [
    "# ----------------------------------------------"
   ]
  },
  {
   "cell_type": "code",
   "execution_count": 35,
   "metadata": {
    "scrolled": true
   },
   "outputs": [
    {
     "data": {
      "text/plain": [
       "{'complete': 0.92, 'single': 0.94, 'average': 0.92, 'ward': 0.67}"
      ]
     },
     "execution_count": 35,
     "metadata": {},
     "output_type": "execute_result"
    }
   ],
   "source": [
    "methods_silhouette"
   ]
  },
  {
   "cell_type": "code",
   "execution_count": 36,
   "metadata": {},
   "outputs": [],
   "source": [
    "# ----------------------------------------------"
   ]
  },
  {
   "cell_type": "code",
   "execution_count": 37,
   "metadata": {},
   "outputs": [],
   "source": [
    "from sklearn.cluster import AgglomerativeClustering\n",
    "connectivity=None"
   ]
  },
  {
   "cell_type": "code",
   "execution_count": 38,
   "metadata": {},
   "outputs": [
    {
     "name": "stdout",
     "output_type": "stream",
     "text": [
      "Numero Cluster:  2\n",
      "Cluster {0: 4332, 1: 1}\n",
      "Silhouette Score 0.9687137721422231\n",
      "\n",
      "Numero Cluster:  3\n",
      "Cluster {0: 21, 1: 1, 2: 4311}\n",
      "Silhouette Score 0.9265553774017546\n",
      "\n",
      "Numero Cluster:  4\n",
      "Cluster {0: 20, 1: 1, 2: 4311, 3: 1}\n",
      "Silhouette Score 0.9229675968079302\n",
      "\n",
      "Numero Cluster:  5\n",
      "Cluster {0: 4311, 1: 1, 2: 19, 3: 1, 4: 1}\n",
      "Silhouette Score 0.9187430059077543\n",
      "\n",
      "Numero Cluster:  6\n",
      "Cluster {0: 19, 1: 1, 2: 4310, 3: 1, 4: 1, 5: 1}\n",
      "Silhouette Score 0.9188385985788512\n",
      "\n",
      "Numero Cluster:  7\n",
      "Cluster {0: 4310, 1: 1, 2: 14, 3: 1, 4: 1, 5: 1, 6: 5}\n",
      "Silhouette Score 0.9170025935200273\n",
      "\n",
      "Numero Cluster:  8\n",
      "Cluster {0: 14, 1: 9, 2: 4301, 3: 1, 4: 1, 5: 1, 6: 5, 7: 1}\n",
      "Silhouette Score 0.813657594677613\n",
      "\n",
      "Numero Cluster:  9\n",
      "Cluster {0: 4301, 1: 3, 2: 11, 3: 9, 4: 1, 5: 1, 6: 5, 7: 1, 8: 1}\n",
      "Silhouette Score 0.8137404851058346\n",
      "\n"
     ]
    }
   ],
   "source": [
    "for i in range(2, 10):\n",
    "    complete = AgglomerativeClustering(n_clusters=i, linkage='complete', affinity='euclidean', connectivity=connectivity)\n",
    "    complete.fit(X)\n",
    "    hist, bins = np.histogram(complete.labels_, bins=range(0, len(set(complete.labels_)) + 1))\n",
    "    \n",
    "    print('Numero Cluster: ', i)\n",
    "    print('Cluster', dict(zip(bins, hist)))\n",
    "    print('Silhouette Score', silhouette_score(X, complete.labels_))\n",
    "    print()"
   ]
  },
  {
   "cell_type": "code",
   "execution_count": 39,
   "metadata": {},
   "outputs": [
    {
     "name": "stdout",
     "output_type": "stream",
     "text": [
      "Numero Cluster:  2\n",
      "Cluster {0: 4332, 1: 1}\n",
      "Silhouette Score 0.9687137721422231\n",
      "\n",
      "Numero Cluster:  3\n",
      "Cluster {0: 4331, 1: 1, 2: 1}\n",
      "Silhouette Score 0.9604297674001191\n",
      "\n",
      "Numero Cluster:  4\n",
      "Cluster {0: 4330, 1: 1, 2: 1, 3: 1}\n",
      "Silhouette Score 0.9579502745851489\n",
      "\n",
      "Numero Cluster:  5\n",
      "Cluster {0: 4329, 1: 1, 2: 1, 3: 1, 4: 1}\n",
      "Silhouette Score 0.9377329705254488\n",
      "\n",
      "Numero Cluster:  6\n",
      "Cluster {0: 4328, 1: 1, 2: 1, 3: 1, 4: 1, 5: 1}\n",
      "Silhouette Score 0.9350227049491753\n",
      "\n",
      "Numero Cluster:  7\n",
      "Cluster {0: 4326, 1: 1, 2: 2, 3: 1, 4: 1, 5: 1, 6: 1}\n",
      "Silhouette Score 0.9172176178710767\n",
      "\n",
      "Numero Cluster:  8\n",
      "Cluster {0: 4323, 1: 3, 2: 2, 3: 1, 4: 1, 5: 1, 6: 1, 7: 1}\n",
      "Silhouette Score 0.9178363087388205\n",
      "\n",
      "Numero Cluster:  9\n",
      "Cluster {0: 4321, 1: 3, 2: 2, 3: 2, 4: 1, 5: 1, 6: 1, 7: 1, 8: 1}\n",
      "Silhouette Score 0.9187295304199423\n",
      "\n"
     ]
    }
   ],
   "source": [
    "for i in range(2, 10):\n",
    "    complete = AgglomerativeClustering(n_clusters=i, linkage='single', affinity='euclidean', connectivity=connectivity)\n",
    "    complete.fit(X)\n",
    "    hist, bins = np.histogram(complete.labels_, bins=range(0, len(set(complete.labels_)) + 1))\n",
    "    \n",
    "    print('Numero Cluster: ', i)\n",
    "    print('Cluster', dict(zip(bins, hist)))\n",
    "    print('Silhouette Score', silhouette_score(X, complete.labels_))\n",
    "    print()"
   ]
  },
  {
   "cell_type": "code",
   "execution_count": 40,
   "metadata": {},
   "outputs": [
    {
     "name": "stdout",
     "output_type": "stream",
     "text": [
      "Numero Cluster:  2\n",
      "Cluster {0: 4332, 1: 1}\n",
      "Silhouette Score 0.9687137721422231\n",
      "\n",
      "Numero Cluster:  3\n",
      "Cluster {0: 4331, 1: 1, 2: 1}\n",
      "Silhouette Score 0.9604297674001191\n",
      "\n",
      "Numero Cluster:  4\n",
      "Cluster {0: 4330, 1: 1, 2: 1, 3: 1}\n",
      "Silhouette Score 0.9579502745851489\n",
      "\n",
      "Numero Cluster:  5\n",
      "Cluster {0: 4329, 1: 1, 2: 1, 3: 1, 4: 1}\n",
      "Silhouette Score 0.9377329705254488\n",
      "\n",
      "Numero Cluster:  6\n",
      "Cluster {0: 17, 1: 1, 2: 4312, 3: 1, 4: 1, 5: 1}\n",
      "Silhouette Score 0.9206974421486209\n",
      "\n",
      "Numero Cluster:  7\n",
      "Cluster {0: 4312, 1: 1, 2: 14, 3: 1, 4: 1, 5: 1, 6: 3}\n",
      "Silhouette Score 0.917659219682286\n",
      "\n",
      "Numero Cluster:  8\n",
      "Cluster {0: 14, 1: 1, 2: 4311, 3: 1, 4: 1, 5: 1, 6: 3, 7: 1}\n",
      "Silhouette Score 0.8985963963948641\n",
      "\n",
      "Numero Cluster:  9\n",
      "Cluster {0: 4311, 1: 3, 2: 3, 3: 1, 4: 1, 5: 1, 6: 11, 7: 1, 8: 1}\n",
      "Silhouette Score 0.898256903355965\n",
      "\n"
     ]
    }
   ],
   "source": [
    "for i in range(2, 10):\n",
    "    complete = AgglomerativeClustering(n_clusters=i, linkage='average', affinity='euclidean', connectivity=connectivity)\n",
    "    complete.fit(X)\n",
    "    hist, bins = np.histogram(complete.labels_, bins=range(0, len(set(complete.labels_)) + 1))\n",
    "    \n",
    "    print('Numero Cluster: ', i)\n",
    "    print('Cluster', dict(zip(bins, hist)))\n",
    "    print('Silhouette Score', silhouette_score(X, complete.labels_))\n",
    "    print()"
   ]
  },
  {
   "cell_type": "code",
   "execution_count": 41,
   "metadata": {},
   "outputs": [
    {
     "name": "stdout",
     "output_type": "stream",
     "text": [
      "Numero Cluster:  2\n",
      "Cluster {0: 4311, 1: 22}\n",
      "Silhouette Score 0.9308883038332841\n",
      "\n",
      "Numero Cluster:  3\n",
      "Cluster {0: 22, 1: 458, 2: 3853}\n",
      "Silhouette Score 0.6717133967267056\n",
      "\n",
      "Numero Cluster:  4\n",
      "Cluster {0: 21, 1: 458, 2: 3853, 3: 1}\n",
      "Silhouette Score 0.6721013455064441\n",
      "\n",
      "Numero Cluster:  5\n",
      "Cluster {0: 458, 1: 20, 2: 3853, 3: 1, 4: 1}\n",
      "Silhouette Score 0.672383890211012\n",
      "\n",
      "Numero Cluster:  6\n",
      "Cluster {0: 3853, 1: 20, 2: 96, 3: 1, 4: 1, 5: 362}\n",
      "Silhouette Score 0.5961630754857788\n",
      "\n",
      "Numero Cluster:  7\n",
      "Cluster {0: 20, 1: 1930, 2: 96, 3: 1, 4: 1, 5: 362, 6: 1923}\n",
      "Silhouette Score 0.38930851224708113\n",
      "\n",
      "Numero Cluster:  8\n",
      "Cluster {0: 1930, 1: 6, 2: 96, 3: 14, 4: 1, 5: 362, 6: 1923, 7: 1}\n",
      "Silhouette Score 0.3899327800455814\n",
      "\n",
      "Numero Cluster:  9\n",
      "Cluster {0: 96, 1: 6, 2: 10, 3: 14, 4: 1, 5: 362, 6: 1923, 7: 1, 8: 1920}\n",
      "Silhouette Score 0.39569070662443645\n",
      "\n"
     ]
    }
   ],
   "source": [
    "for i in range(2, 10):\n",
    "    complete = AgglomerativeClustering(n_clusters=i, linkage='ward', affinity='euclidean', connectivity=connectivity)\n",
    "    complete.fit(X)\n",
    "    hist, bins = np.histogram(complete.labels_, bins=range(0, len(set(complete.labels_)) + 1))\n",
    "    \n",
    "    print('Numero Cluster: ', i)\n",
    "    print('Cluster', dict(zip(bins, hist)))\n",
    "    print('Silhouette Score', silhouette_score(X, complete.labels_))\n",
    "    print()"
   ]
  }
 ],
 "metadata": {
  "kernelspec": {
   "display_name": "Python 3",
   "language": "python",
   "name": "python3"
  },
  "language_info": {
   "codemirror_mode": {
    "name": "ipython",
    "version": 3
   },
   "file_extension": ".py",
   "mimetype": "text/x-python",
   "name": "python",
   "nbconvert_exporter": "python",
   "pygments_lexer": "ipython3",
   "version": "3.8.4"
  }
 },
 "nbformat": 4,
 "nbformat_minor": 4
}