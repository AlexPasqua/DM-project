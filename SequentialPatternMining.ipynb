{
 "cells": [
  {
   "cell_type": "code",
   "execution_count": 1,
   "metadata": {},
   "outputs": [],
   "source": [
    "import math\n",
    "import numpy as np\n",
    "import pandas as pd\n",
    "import scipy.stats as stats\n",
    "import matplotlib.pyplot as plt\n",
    "from tqdm.notebook import tqdm"
   ]
  },
  {
   "cell_type": "code",
   "execution_count": 2,
   "metadata": {},
   "outputs": [
    {
     "data": {
      "text/html": [
       "<div>\n",
       "<style scoped>\n",
       "    .dataframe tbody tr th:only-of-type {\n",
       "        vertical-align: middle;\n",
       "    }\n",
       "\n",
       "    .dataframe tbody tr th {\n",
       "        vertical-align: top;\n",
       "    }\n",
       "\n",
       "    .dataframe thead th {\n",
       "        text-align: right;\n",
       "    }\n",
       "</style>\n",
       "<table border=\"1\" class=\"dataframe\">\n",
       "  <thead>\n",
       "    <tr style=\"text-align: right;\">\n",
       "      <th></th>\n",
       "      <th>BasketID</th>\n",
       "      <th>BasketDate</th>\n",
       "      <th>Sale</th>\n",
       "      <th>CustomerID</th>\n",
       "      <th>CustomerCountry</th>\n",
       "      <th>ProdID</th>\n",
       "      <th>ProdDescr</th>\n",
       "      <th>Qta</th>\n",
       "    </tr>\n",
       "  </thead>\n",
       "  <tbody>\n",
       "    <tr>\n",
       "      <th>0</th>\n",
       "      <td>536365</td>\n",
       "      <td>2010-12-01 08:26:00</td>\n",
       "      <td>2.55</td>\n",
       "      <td>17850</td>\n",
       "      <td>United Kingdom</td>\n",
       "      <td>85123A</td>\n",
       "      <td>WHITE HANGING HEART T-LIGHT HOLDER</td>\n",
       "      <td>6</td>\n",
       "    </tr>\n",
       "    <tr>\n",
       "      <th>1</th>\n",
       "      <td>536365</td>\n",
       "      <td>2010-12-01 08:26:00</td>\n",
       "      <td>3.39</td>\n",
       "      <td>17850</td>\n",
       "      <td>United Kingdom</td>\n",
       "      <td>71053</td>\n",
       "      <td>WHITE METAL LANTERN</td>\n",
       "      <td>6</td>\n",
       "    </tr>\n",
       "    <tr>\n",
       "      <th>2</th>\n",
       "      <td>536365</td>\n",
       "      <td>2010-12-01 08:26:00</td>\n",
       "      <td>2.75</td>\n",
       "      <td>17850</td>\n",
       "      <td>United Kingdom</td>\n",
       "      <td>84406B</td>\n",
       "      <td>CREAM CUPID HEARTS COAT HANGER</td>\n",
       "      <td>8</td>\n",
       "    </tr>\n",
       "    <tr>\n",
       "      <th>3</th>\n",
       "      <td>536365</td>\n",
       "      <td>2010-12-01 08:26:00</td>\n",
       "      <td>3.39</td>\n",
       "      <td>17850</td>\n",
       "      <td>United Kingdom</td>\n",
       "      <td>84029G</td>\n",
       "      <td>KNITTED UNION FLAG HOT WATER BOTTLE</td>\n",
       "      <td>6</td>\n",
       "    </tr>\n",
       "    <tr>\n",
       "      <th>4</th>\n",
       "      <td>536365</td>\n",
       "      <td>2010-12-01 08:26:00</td>\n",
       "      <td>3.39</td>\n",
       "      <td>17850</td>\n",
       "      <td>United Kingdom</td>\n",
       "      <td>84029E</td>\n",
       "      <td>RED WOOLLY HOTTIE WHITE HEART.</td>\n",
       "      <td>6</td>\n",
       "    </tr>\n",
       "  </tbody>\n",
       "</table>\n",
       "</div>"
      ],
      "text/plain": [
       "  BasketID           BasketDate  Sale  CustomerID CustomerCountry  ProdID  \\\n",
       "0   536365  2010-12-01 08:26:00  2.55       17850  United Kingdom  85123A   \n",
       "1   536365  2010-12-01 08:26:00  3.39       17850  United Kingdom   71053   \n",
       "2   536365  2010-12-01 08:26:00  2.75       17850  United Kingdom  84406B   \n",
       "3   536365  2010-12-01 08:26:00  3.39       17850  United Kingdom  84029G   \n",
       "4   536365  2010-12-01 08:26:00  3.39       17850  United Kingdom  84029E   \n",
       "\n",
       "                             ProdDescr  Qta  \n",
       "0   WHITE HANGING HEART T-LIGHT HOLDER    6  \n",
       "1                  WHITE METAL LANTERN    6  \n",
       "2       CREAM CUPID HEARTS COAT HANGER    8  \n",
       "3  KNITTED UNION FLAG HOT WATER BOTTLE    6  \n",
       "4       RED WOOLLY HOTTIE WHITE HEART.    6  "
      ]
     },
     "execution_count": 2,
     "metadata": {},
     "output_type": "execute_result"
    }
   ],
   "source": [
    "# load dataframe\n",
    "df = pd.read_csv('datasets/cleaned_dataframe.csv', sep='\\t', index_col=0)\n",
    "df.head()"
   ]
  },
  {
   "cell_type": "code",
   "execution_count": 18,
   "metadata": {},
   "outputs": [
    {
     "name": "stdout",
     "output_type": "stream",
     "text": [
      "['2010-12-01 16:57:00' '2010-12-01 16:58:00']\n",
      "['2011-01-05 13:40:00' '2011-01-05 13:41:00']\n",
      "['2011-01-19 16:18:00' '2011-01-19 16:19:00']\n",
      "['2011-01-20 10:47:00' '2011-01-20 10:48:00']\n",
      "['2011-01-21 15:56:00' '2011-01-21 15:57:00']\n",
      "['2011-01-23 13:33:00' '2011-01-23 13:34:00']\n",
      "['2011-01-26 12:35:00' '2011-01-26 12:36:00']\n",
      "['2011-02-01 11:19:00' '2011-02-01 11:20:00']\n",
      "['2011-02-04 10:31:00' '2011-02-04 10:32:00']\n",
      "['2011-02-11 16:19:00' '2011-02-11 16:20:00']\n",
      "['2011-02-22 15:09:00' '2011-02-22 15:10:00']\n",
      "['2011-02-24 17:50:00' '2011-02-24 17:51:00']\n",
      "['2011-03-02 17:32:00' '2011-03-02 17:33:00']\n",
      "['2011-03-03 16:25:00' '2011-03-03 16:26:00']\n",
      "['2011-03-18 12:55:00' '2011-03-18 12:56:00']\n",
      "['2011-03-24 14:55:00' '2011-03-24 14:56:00']\n",
      "['2011-04-07 11:59:00' '2011-04-07 12:00:00']\n",
      "['2011-04-17 12:37:00' '2011-04-17 12:38:00']\n",
      "['2011-04-17 14:05:00' '2011-04-17 14:06:00']\n",
      "['2011-04-19 16:30:00' '2011-04-19 16:31:00']\n",
      "['2011-05-15 15:13:00' '2011-05-15 15:14:00']\n",
      "['2011-05-16 14:52:00' '2011-05-16 14:53:00']\n",
      "['2011-05-17 16:48:00' '2011-05-17 16:49:00']\n",
      "['2011-05-22 15:11:00' '2011-05-22 15:12:00']\n",
      "['2011-06-26 11:58:00' '2011-06-26 11:59:00']\n",
      "['2011-08-03 09:06:00' '2011-08-03 09:07:00']\n",
      "['2011-08-15 10:53:00' '2011-08-15 10:54:00']\n",
      "['2011-09-18 15:32:00' '2011-09-18 15:33:00']\n",
      "['2011-10-19 10:03:00' '2011-10-19 10:04:00']\n",
      "['2011-11-13 15:05:00' '2011-11-13 15:06:00']\n",
      "['2011-11-24 15:02:00' '2011-11-24 15:03:00']\n"
     ]
    }
   ],
   "source": [
    "# check if there exist orders with different BasketDate in same order\n",
    "dfp = df.loc[df['CustomerID'] > -1000,['BasketID','BasketDate']]\n",
    "for basket in dfp['BasketID'].unique():\n",
    "    dfp2 = dfp[df['BasketID'] == basket]['BasketDate'].unique()\n",
    "    if len(dfp2) > 1:\n",
    "        print(dfp2)"
   ]
  },
  {
   "cell_type": "code",
   "execution_count": 35,
   "metadata": {},
   "outputs": [],
   "source": [
    "# Therefore we can drop information about hour, minute and seconds to keep a bigger granularity for indexing the transactions\n",
    "df['BasketDate'] = pd.to_datetime(df[\"BasketDate\"], dayfirst=True)\n",
    "df['BasketDate'] = df['BasketDate'].dt.date"
   ]
  },
  {
   "cell_type": "markdown",
   "metadata": {},
   "source": [
    "#### Easy to notice that orders are always made on same day (differ at max by one minute intraorder)"
   ]
  },
  {
   "cell_type": "code",
   "execution_count": 7,
   "metadata": {},
   "outputs": [
    {
     "data": {
      "application/vnd.jupyter.widget-view+json": {
       "model_id": "84ec9bbd9b2a49b990c262ce6c7d07c3",
       "version_major": 2,
       "version_minor": 0
      },
      "text/plain": [
       "HBox(children=(HTML(value='Iterating over customers'), FloatProgress(value=0.0, max=4333.0), HTML(value='')))"
      ]
     },
     "metadata": {},
     "output_type": "display_data"
    },
    {
     "name": "stdout",
     "output_type": "stream",
     "text": [
      "\n"
     ]
    }
   ],
   "source": [
    "cust_trans = {}\n",
    "for customer in tqdm(df['CustomerID'].unique(), total=len(df['CustomerID'].unique()), desc=\"Iterating over customers\"):\n",
    "    cust_trans_list = []\n",
    "    cust_df = df.loc[df['CustomerID'] == customer,['BasketID', 'ProdID']]\n",
    "    for basket in cust_df['BasketID'].unique():\n",
    "        prod_list = cust_df[cust_df['BasketID'] == basket]['ProdID'].unique() #REMINDER FOR MYSELF: IS IT CORRECT TO MAINTAIN IN A TRANSACTION ONLY UNIQUE PRODIDS, NO REPETITIONS? FROM WHAT I SEE THIS SEEMS TO BE THE CASE BUT TRY TO SEARCH FOR CONFIRMATION\n",
    "        cust_trans_list.append(prod_list)\n",
    "    cust_trans[customer] = cust_trans_list\n"
   ]
  }
 ],
 "metadata": {
  "kernelspec": {
   "display_name": "Python 3",
   "language": "python",
   "name": "python3"
  },
  "language_info": {
   "codemirror_mode": {
    "name": "ipython",
    "version": 3
   },
   "file_extension": ".py",
   "mimetype": "text/x-python",
   "name": "python",
   "nbconvert_exporter": "python",
   "pygments_lexer": "ipython3",
   "version": "3.8.6"
  }
 },
 "nbformat": 4,
 "nbformat_minor": 4
}
