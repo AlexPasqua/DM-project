{
 "cells": [
  {
   "cell_type": "code",
   "execution_count": 41,
   "metadata": {},
   "outputs": [],
   "source": [
    "import math\n",
    "import numpy as np\n",
    "import pandas as pd\n",
    "import scipy.stats as stats\n",
    "import matplotlib.pyplot as plt\n",
    "from tqdm.notebook import tqdm\n",
    "from collections import OrderedDict"
   ]
  },
  {
   "cell_type": "code",
   "execution_count": 42,
   "metadata": {},
   "outputs": [
    {
     "data": {
      "text/html": [
       "<div>\n",
       "<style scoped>\n",
       "    .dataframe tbody tr th:only-of-type {\n",
       "        vertical-align: middle;\n",
       "    }\n",
       "\n",
       "    .dataframe tbody tr th {\n",
       "        vertical-align: top;\n",
       "    }\n",
       "\n",
       "    .dataframe thead th {\n",
       "        text-align: right;\n",
       "    }\n",
       "</style>\n",
       "<table border=\"1\" class=\"dataframe\">\n",
       "  <thead>\n",
       "    <tr style=\"text-align: right;\">\n",
       "      <th></th>\n",
       "      <th>BasketID</th>\n",
       "      <th>BasketDate</th>\n",
       "      <th>Sale</th>\n",
       "      <th>CustomerID</th>\n",
       "      <th>CustomerCountry</th>\n",
       "      <th>ProdID</th>\n",
       "      <th>ProdDescr</th>\n",
       "      <th>Qta</th>\n",
       "    </tr>\n",
       "  </thead>\n",
       "  <tbody>\n",
       "    <tr>\n",
       "      <th>0</th>\n",
       "      <td>536365</td>\n",
       "      <td>2010-12-01 08:26:00</td>\n",
       "      <td>2.55</td>\n",
       "      <td>17850</td>\n",
       "      <td>United Kingdom</td>\n",
       "      <td>85123A</td>\n",
       "      <td>WHITE HANGING HEART T-LIGHT HOLDER</td>\n",
       "      <td>6</td>\n",
       "    </tr>\n",
       "    <tr>\n",
       "      <th>1</th>\n",
       "      <td>536365</td>\n",
       "      <td>2010-12-01 08:26:00</td>\n",
       "      <td>3.39</td>\n",
       "      <td>17850</td>\n",
       "      <td>United Kingdom</td>\n",
       "      <td>71053</td>\n",
       "      <td>WHITE METAL LANTERN</td>\n",
       "      <td>6</td>\n",
       "    </tr>\n",
       "    <tr>\n",
       "      <th>2</th>\n",
       "      <td>536365</td>\n",
       "      <td>2010-12-01 08:26:00</td>\n",
       "      <td>2.75</td>\n",
       "      <td>17850</td>\n",
       "      <td>United Kingdom</td>\n",
       "      <td>84406B</td>\n",
       "      <td>CREAM CUPID HEARTS COAT HANGER</td>\n",
       "      <td>8</td>\n",
       "    </tr>\n",
       "    <tr>\n",
       "      <th>3</th>\n",
       "      <td>536365</td>\n",
       "      <td>2010-12-01 08:26:00</td>\n",
       "      <td>3.39</td>\n",
       "      <td>17850</td>\n",
       "      <td>United Kingdom</td>\n",
       "      <td>84029G</td>\n",
       "      <td>KNITTED UNION FLAG HOT WATER BOTTLE</td>\n",
       "      <td>6</td>\n",
       "    </tr>\n",
       "    <tr>\n",
       "      <th>4</th>\n",
       "      <td>536365</td>\n",
       "      <td>2010-12-01 08:26:00</td>\n",
       "      <td>3.39</td>\n",
       "      <td>17850</td>\n",
       "      <td>United Kingdom</td>\n",
       "      <td>84029E</td>\n",
       "      <td>RED WOOLLY HOTTIE WHITE HEART.</td>\n",
       "      <td>6</td>\n",
       "    </tr>\n",
       "  </tbody>\n",
       "</table>\n",
       "</div>"
      ],
      "text/plain": [
       "  BasketID           BasketDate  Sale  CustomerID CustomerCountry  ProdID  \\\n",
       "0   536365  2010-12-01 08:26:00  2.55       17850  United Kingdom  85123A   \n",
       "1   536365  2010-12-01 08:26:00  3.39       17850  United Kingdom   71053   \n",
       "2   536365  2010-12-01 08:26:00  2.75       17850  United Kingdom  84406B   \n",
       "3   536365  2010-12-01 08:26:00  3.39       17850  United Kingdom  84029G   \n",
       "4   536365  2010-12-01 08:26:00  3.39       17850  United Kingdom  84029E   \n",
       "\n",
       "                             ProdDescr  Qta  \n",
       "0   WHITE HANGING HEART T-LIGHT HOLDER    6  \n",
       "1                  WHITE METAL LANTERN    6  \n",
       "2       CREAM CUPID HEARTS COAT HANGER    8  \n",
       "3  KNITTED UNION FLAG HOT WATER BOTTLE    6  \n",
       "4       RED WOOLLY HOTTIE WHITE HEART.    6  "
      ]
     },
     "execution_count": 42,
     "metadata": {},
     "output_type": "execute_result"
    }
   ],
   "source": [
    "# load dataframe\n",
    "df = pd.read_csv('datasets/cleaned_dataframe.csv', sep='\\t', index_col=0)\n",
    "df.head()"
   ]
  },
  {
   "cell_type": "code",
   "execution_count": 60,
   "metadata": {},
   "outputs": [],
   "source": [
    "# utility to transform list of dicts into list of lists of transactions, given a particular customer\n",
    "def getCustomerTransactions(cust_trans,customer):\n",
    "    cust_dict_list = cust_trans[customer]\n",
    "    cust_trans_list = list()\n",
    "    for _,v in cust_dict_list.items():\n",
    "        cust_trans_list.append(v)\n",
    "    return cust_trans_list\n",
    "    "
   ]
  },
  {
   "cell_type": "code",
   "execution_count": 44,
   "metadata": {},
   "outputs": [],
   "source": [
    "df['BasketDate'] = pd.to_datetime(df[\"BasketDate\"], dayfirst=True)"
   ]
  },
  {
   "cell_type": "markdown",
   "metadata": {},
   "source": [
    "#### It is easy to notice that orders are always made on same day (differ at max by one minute intraorder)"
   ]
  },
  {
   "cell_type": "code",
   "execution_count": 45,
   "metadata": {},
   "outputs": [
    {
     "data": {
      "application/vnd.jupyter.widget-view+json": {
       "model_id": "ff20d4fba60340bf8ac2a1a7ec0bcaad",
       "version_major": 2,
       "version_minor": 0
      },
      "text/plain": [
       "HBox(children=(HTML(value='Iterating over customers'), FloatProgress(value=0.0, max=4333.0), HTML(value='')))"
      ]
     },
     "metadata": {},
     "output_type": "display_data"
    },
    {
     "name": "stdout",
     "output_type": "stream",
     "text": [
      "\n"
     ]
    },
    {
     "data": {
      "text/plain": [
       "'\\nfor a simpler version\\n\"{customer: [[transaction1][transaction2]]}\"\\ncust_trans = {}\\nfor customer in tqdm(df[\\'CustomerID\\'].unique(), total=len(df[\\'CustomerID\\'].unique()), desc=\"Iterating over customers\"):\\n    cust_trans_list = []\\n    cust_df = df.loc[df[\\'CustomerID\\'] == customer,[\\'BasketID\\', \\'ProdID\\']]\\n    for basket in cust_df[\\'BasketID\\'].unique():\\n        prod_list = cust_df[cust_df[\\'BasketID\\'] == basket][\\'ProdID\\'].unique() #REMINDER FOR MYSELF: IS IT CORRECT TO MAINTAIN IN A TRANSACTION ONLY UNIQUE PRODIDS, NO REPETITIONS? FROM WHAT I SEE THIS SEEMS TO BE THE CASE BUT TRY TO SEARCH FOR CONFIRMATION\\n        cust_trans_list.append(prod_list)\\n    cust_trans[customer] = cust_trans_list\\n    \\n'"
      ]
     },
     "execution_count": 45,
     "metadata": {},
     "output_type": "execute_result"
    }
   ],
   "source": [
    "\"{customer: {date: [[transaction1][transaction2]]}}\"\n",
    "cust_trans = {}\n",
    "for customer in tqdm(df['CustomerID'].unique(), total=len(df['CustomerID'].unique()), desc=\"Iterating over customers\"):\n",
    "    cust_trans_ord_dict = OrderedDict()\n",
    "    cust_df = df.loc[df['CustomerID'] == customer,['BasketID', 'BasketDate', 'ProdID']]\n",
    "    for basket in cust_df['BasketID'].unique():\n",
    "        prod_list = cust_df[cust_df['BasketID'] == basket]['ProdID'].unique() #REMINDER FOR MYSELF: IS IT CORRECT TO MAINTAIN IN A TRANSACTION ONLY UNIQUE PRODIDS, NO REPETITIONS? FROM WHAT I SEE THIS SEEMS TO BE THE CASE BUT TRY TO SEARCH FOR CONFIRMATION\n",
    "        date = cust_df[cust_df['BasketID'] == basket]['BasketDate'].unique()[0] #because of what said above we can take first date of order (at max we will have 2 elements differing of 1 minute)\n",
    "        cust_trans_ord_dict[date] = prod_list\n",
    "    cust_trans[customer] = cust_trans_ord_dict\n",
    "    \n",
    "\"\"\"\n",
    "for a simpler version (IF WE NEED IT)\n",
    "\"{customer: [[transaction1][transaction2]]}\"\n",
    "cust_trans = {}\n",
    "for customer in tqdm(df['CustomerID'].unique(), total=len(df['CustomerID'].unique()), desc=\"Iterating over customers\"):\n",
    "    cust_trans_list = list()\n",
    "    cust_df = df.loc[df['CustomerID'] == customer,['BasketID', 'ProdID']]\n",
    "    for basket in cust_df['BasketID'].unique():\n",
    "        prod_list = cust_df[cust_df['BasketID'] == basket]['ProdID'].unique() #REMINDER FOR MYSELF: IS IT CORRECT TO MAINTAIN IN A TRANSACTION ONLY UNIQUE PRODIDS, NO REPETITIONS? FROM WHAT I SEE THIS SEEMS TO BE THE CASE BUT TRY TO SEARCH FOR CONFIRMATION\n",
    "        cust_trans_list.append(prod_list)\n",
    "    cust_trans[customer] = cust_trans_list\n",
    "    \n",
    "\"\"\"\n"
   ]
  },
  {
   "cell_type": "code",
   "execution_count": 66,
   "metadata": {},
   "outputs": [
    {
     "data": {
      "text/plain": [
       "[array(['85123A', '71053', '84406B', '84029G', '84029E', '22752', '21730'],\n",
       "       dtype=object),\n",
       " array(['22633', '22632'], dtype=object),\n",
       " array(['22632', '22633'], dtype=object),\n",
       " array(['85123A', '71053', '84406B', '20679', '37370', '21871', '21071',\n",
       "        '21068', '82483', '82486', '82482', '82494L', '84029G', '84029E',\n",
       "        '22752', '21730'], dtype=object),\n",
       " array(['85123A', '71053', '84406B', '20679', '37370', '21871', '21071',\n",
       "        '21068', '82483', '82486', '82482', '82494L', '84029G', '84029E',\n",
       "        '22752', '21730'], dtype=object),\n",
       " array(['22632', '22633'], dtype=object),\n",
       " array(['85123A', '71053', '84406B', '15056BL', '20679', '37370', '21871',\n",
       "        '21071', '21068', '82483', '82486', '82482', '82494L', '84029G',\n",
       "        '84029E', '22752', '22803', '21730'], dtype=object),\n",
       " array(['22632', '22633'], dtype=object),\n",
       " array(['85123A', '71053', '84406B', '20679', '37370', '21871', '21071',\n",
       "        '21068', '82483', '82486', '82482', '82494L', '84029G', '84029E',\n",
       "        '22752', '22803', '21730'], dtype=object),\n",
       " array(['22632', '22633'], dtype=object),\n",
       " array(['85123A', '71053', '82483', '82486', '82482', '82494L', '22411',\n",
       "        '84029G', '84029E', '22752', '22803', '21730'], dtype=object),\n",
       " array(['22632', '22633'], dtype=object),\n",
       " array(['37370', '21871', '21071', '21068', '82483', '22411', '84029G',\n",
       "        '84029E', '21730', '22752', '85123A', '71053'], dtype=object),\n",
       " array(['22632', '22633'], dtype=object),\n",
       " array(['85123A', '71053', '84406B', '37370', '21871', '21071', '21068',\n",
       "        '82483', '82486', '82482', '82494L', '22411', '84029G', '84029E',\n",
       "        '22752', '21730'], dtype=object),\n",
       " array(['22632', '22633'], dtype=object),\n",
       " array(['22632', '22633'], dtype=object),\n",
       " array(['85123A', '71053', '84406B', '37370', '21871', '21071', '21068',\n",
       "        '82483', '82486', '82482', '82494L', '22411', '84029G', '84029E',\n",
       "        '22752', '21730'], dtype=object),\n",
       " array(['22632', '22633'], dtype=object),\n",
       " array(['85123A', '71053', '84406B', '37370', '21871', '21071', '21068',\n",
       "        '82483', '82486', '82482', '82494L', '22411', '84029G', '84029E',\n",
       "        '22752', '21730'], dtype=object),\n",
       " array(['22632', '22633'], dtype=object),\n",
       " array(['84029E', '22752', '22803', '21730', '85123A', '71053', '84406B',\n",
       "        '37370', '21871', '21071', '21068', '82483', '82486', '82482',\n",
       "        '82494L', '22411', '84029G'], dtype=object),\n",
       " array(['22632', '22633'], dtype=object),\n",
       " array(['85123A', '71053', '84406B', '37370', '21871', '21071', '21068',\n",
       "        '82483', '82486', '82482', '82494L', '22411', '84029G', '84029E',\n",
       "        '22752', '22803', '21730'], dtype=object),\n",
       " array(['22632', '22633'], dtype=object),\n",
       " array(['85123A', '71053', '84406B', '15056BL', '20679', '37370', '21871',\n",
       "        '21071', '21068', '82483', '82486', '82482', '82494L', '22411',\n",
       "        '84029G', '84029E', '22752', '22803', '21730'], dtype=object),\n",
       " array(['22632', '22633'], dtype=object),\n",
       " array(['85123A', '71053', '84406B', '15056BL', '20679', '37370', '21871',\n",
       "        '21071', '21068', '82483', '82486', '82482', '82494L', '22411',\n",
       "        '84029G', '84029E', '22752', '22803', '21730'], dtype=object),\n",
       " array(['22632', '22633'], dtype=object),\n",
       " array(['85123A', '71053', '84406B', '37370', '21871', '21071', '21068',\n",
       "        '82482', '82494L', '84029G', '84029E', '22752', '21730'],\n",
       "       dtype=object),\n",
       " array(['22633', '22632'], dtype=object),\n",
       " array(['85123A', '71053', '84406B', '15056BL', '20679', '37370', '21071',\n",
       "        '21068', '82483', '82486', '82482', '82494L', '84029G', '84029E',\n",
       "        '22752', '22803', '21730'], dtype=object),\n",
       " array(['22632', '22633'], dtype=object),\n",
       " array(['82483', '22632', '21871', '82494L', '21730', '21071'],\n",
       "       dtype=object)]"
      ]
     },
     "execution_count": 66,
     "metadata": {},
     "output_type": "execute_result"
    }
   ],
   "source": [
    "# usage example\n",
    "getCustomerTransactions(cust_trans,17850)"
   ]
  }
 ],
 "metadata": {
  "kernelspec": {
   "display_name": "Python 3",
   "language": "python",
   "name": "python3"
  },
  "language_info": {
   "codemirror_mode": {
    "name": "ipython",
    "version": 3
   },
   "file_extension": ".py",
   "mimetype": "text/x-python",
   "name": "python",
   "nbconvert_exporter": "python",
   "pygments_lexer": "ipython3",
   "version": "3.8.6"
  }
 },
 "nbformat": 4,
 "nbformat_minor": 4
}
