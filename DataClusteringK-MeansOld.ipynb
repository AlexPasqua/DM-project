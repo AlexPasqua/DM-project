{
 "cells": [
  {
   "cell_type": "code",
   "execution_count": 1,
   "metadata": {},
   "outputs": [],
   "source": [
    "import math\n",
    "import numpy as np\n",
    "import pandas as pd\n",
    "import matplotlib.pyplot as plt\n",
    "from tqdm.notebook import tqdm\n",
    "from sklearn.preprocessing import StandardScaler, MinMaxScaler\n",
    "from sklearn.cluster import KMeans\n",
    "from sklearn.metrics import silhouette_score\n",
    "from sklearn.decomposition import PCA"
   ]
  },
  {
   "cell_type": "code",
   "execution_count": 2,
   "metadata": {},
   "outputs": [
    {
     "data": {
      "text/html": [
       "<div>\n",
       "<style scoped>\n",
       "    .dataframe tbody tr th:only-of-type {\n",
       "        vertical-align: middle;\n",
       "    }\n",
       "\n",
       "    .dataframe tbody tr th {\n",
       "        vertical-align: top;\n",
       "    }\n",
       "\n",
       "    .dataframe thead th {\n",
       "        text-align: right;\n",
       "    }\n",
       "</style>\n",
       "<table border=\"1\" class=\"dataframe\">\n",
       "  <thead>\n",
       "    <tr style=\"text-align: right;\">\n",
       "      <th></th>\n",
       "      <th>TProd</th>\n",
       "      <th>DProd</th>\n",
       "      <th>MaxPO</th>\n",
       "      <th>MinPO</th>\n",
       "      <th>MeanProdOrder</th>\n",
       "      <th>TSale</th>\n",
       "      <th>MinPSale</th>\n",
       "      <th>MaxPSale</th>\n",
       "      <th>MeanSaleOrder</th>\n",
       "      <th>TRProd</th>\n",
       "      <th>MeanPSale</th>\n",
       "      <th>TOrder</th>\n",
       "      <th>SETSaleQta</th>\n",
       "      <th>SESaleQtaOrder</th>\n",
       "    </tr>\n",
       "    <tr>\n",
       "      <th>CustomerID</th>\n",
       "      <th></th>\n",
       "      <th></th>\n",
       "      <th></th>\n",
       "      <th></th>\n",
       "      <th></th>\n",
       "      <th></th>\n",
       "      <th></th>\n",
       "      <th></th>\n",
       "      <th></th>\n",
       "      <th></th>\n",
       "      <th></th>\n",
       "      <th></th>\n",
       "      <th></th>\n",
       "      <th></th>\n",
       "    </tr>\n",
       "  </thead>\n",
       "  <tbody>\n",
       "    <tr>\n",
       "      <th>17850</th>\n",
       "      <td>1702</td>\n",
       "      <td>21</td>\n",
       "      <td>141</td>\n",
       "      <td>12</td>\n",
       "      <td>48.629</td>\n",
       "      <td>5317.89</td>\n",
       "      <td>6.36</td>\n",
       "      <td>107.25</td>\n",
       "      <td>151.940</td>\n",
       "      <td>31</td>\n",
       "      <td>3.960</td>\n",
       "      <td>34</td>\n",
       "      <td>4.137</td>\n",
       "      <td>3.186</td>\n",
       "    </tr>\n",
       "    <tr>\n",
       "      <th>13047</th>\n",
       "      <td>1355</td>\n",
       "      <td>105</td>\n",
       "      <td>309</td>\n",
       "      <td>3</td>\n",
       "      <td>84.688</td>\n",
       "      <td>3089.10</td>\n",
       "      <td>6.64</td>\n",
       "      <td>68.00</td>\n",
       "      <td>193.069</td>\n",
       "      <td>35</td>\n",
       "      <td>3.926</td>\n",
       "      <td>9</td>\n",
       "      <td>5.421</td>\n",
       "      <td>3.875</td>\n",
       "    </tr>\n",
       "    <tr>\n",
       "      <th>12583</th>\n",
       "      <td>4978</td>\n",
       "      <td>114</td>\n",
       "      <td>714</td>\n",
       "      <td>100</td>\n",
       "      <td>292.824</td>\n",
       "      <td>6629.34</td>\n",
       "      <td>6.80</td>\n",
       "      <td>132.80</td>\n",
       "      <td>389.961</td>\n",
       "      <td>50</td>\n",
       "      <td>2.140</td>\n",
       "      <td>15</td>\n",
       "      <td>5.804</td>\n",
       "      <td>4.087</td>\n",
       "    </tr>\n",
       "    <tr>\n",
       "      <th>13748</th>\n",
       "      <td>439</td>\n",
       "      <td>24</td>\n",
       "      <td>208</td>\n",
       "      <td>8</td>\n",
       "      <td>87.800</td>\n",
       "      <td>948.25</td>\n",
       "      <td>9.36</td>\n",
       "      <td>204.00</td>\n",
       "      <td>189.650</td>\n",
       "      <td>0</td>\n",
       "      <td>3.996</td>\n",
       "      <td>5</td>\n",
       "      <td>4.080</td>\n",
       "      <td>2.322</td>\n",
       "    </tr>\n",
       "    <tr>\n",
       "      <th>15100</th>\n",
       "      <td>58</td>\n",
       "      <td>1</td>\n",
       "      <td>32</td>\n",
       "      <td>16</td>\n",
       "      <td>9.667</td>\n",
       "      <td>635.10</td>\n",
       "      <td>175.20</td>\n",
       "      <td>350.40</td>\n",
       "      <td>105.850</td>\n",
       "      <td>22</td>\n",
       "      <td>10.950</td>\n",
       "      <td>3</td>\n",
       "      <td>2.252</td>\n",
       "      <td>2.252</td>\n",
       "    </tr>\n",
       "  </tbody>\n",
       "</table>\n",
       "</div>"
      ],
      "text/plain": [
       "            TProd  DProd  MaxPO  MinPO  MeanProdOrder    TSale  MinPSale  \\\n",
       "CustomerID                                                                 \n",
       "17850        1702     21    141     12         48.629  5317.89      6.36   \n",
       "13047        1355    105    309      3         84.688  3089.10      6.64   \n",
       "12583        4978    114    714    100        292.824  6629.34      6.80   \n",
       "13748         439     24    208      8         87.800   948.25      9.36   \n",
       "15100          58      1     32     16          9.667   635.10    175.20   \n",
       "\n",
       "            MaxPSale  MeanSaleOrder  TRProd  MeanPSale  TOrder  SETSaleQta  \\\n",
       "CustomerID                                                                   \n",
       "17850         107.25        151.940      31      3.960      34       4.137   \n",
       "13047          68.00        193.069      35      3.926       9       5.421   \n",
       "12583         132.80        389.961      50      2.140      15       5.804   \n",
       "13748         204.00        189.650       0      3.996       5       4.080   \n",
       "15100         350.40        105.850      22     10.950       3       2.252   \n",
       "\n",
       "            SESaleQtaOrder  \n",
       "CustomerID                  \n",
       "17850                3.186  \n",
       "13047                3.875  \n",
       "12583                4.087  \n",
       "13748                2.322  \n",
       "15100                2.252  "
      ]
     },
     "execution_count": 2,
     "metadata": {},
     "output_type": "execute_result"
    }
   ],
   "source": [
    "# Starting dataset\n",
    "df = pd.read_csv('customer_dataframe.csv', sep='\\t', index_col=0)\n",
    "df.head()"
   ]
  },
  {
   "cell_type": "markdown",
   "metadata": {},
   "source": [
    "# Normalization"
   ]
  },
  {
   "cell_type": "code",
   "execution_count": 3,
   "metadata": {},
   "outputs": [],
   "source": [
    "scaler = StandardScaler()\n",
    "scaler.fit(df.to_numpy())\n",
    "df_std = scaler.transform(df.to_numpy())"
   ]
  },
  {
   "cell_type": "code",
   "execution_count": 4,
   "metadata": {
    "scrolled": true
   },
   "outputs": [],
   "source": [
    "pca = PCA(n_components=14)\n",
    "principalComponents = pca.fit_transform(df_std)\n",
    "df_pca = pd.DataFrame(data = principalComponents, columns = ['pca1','pca2','pca3','pca4','pca5','pca6','pca7','pca8','pca9','pca10','pca11','pca12','pca13','pca14'])"
   ]
  },
  {
   "cell_type": "code",
   "execution_count": 5,
   "metadata": {},
   "outputs": [
    {
     "name": "stdout",
     "output_type": "stream",
     "text": [
      "Components part: [[ 0.38207997  0.2811712   0.39521805  0.11808647  0.27577012  0.37519218\n",
      "   0.08664571  0.19419036  0.30207248  0.21673629  0.03844096  0.30678532\n",
      "   0.21389177  0.25142235]\n",
      " [-0.07795075 -0.28822192  0.13097089  0.43166618  0.3653106  -0.07331026\n",
      "   0.31459036  0.19519483  0.34138612  0.01833563  0.13375087 -0.30559801\n",
      "  -0.28401558 -0.35020484]\n",
      " [ 0.01699274 -0.09932742 -0.11269428 -0.33028501 -0.30750706  0.09713137\n",
      "   0.02664097  0.56762637  0.05360332  0.07476229  0.63760759  0.0417379\n",
      "  -0.15527944  0.01710769]\n",
      " [-0.35883139  0.2884294  -0.17917791  0.23616292  0.14366983 -0.33003718\n",
      "  -0.04418211  0.14863628  0.21624056 -0.35352986  0.27023278 -0.0313651\n",
      "   0.48300193  0.2598399 ]\n",
      " [-0.261542    0.0931644  -0.11217748  0.01625969 -0.08968283 -0.2762783\n",
      "   0.64968961 -0.00501972 -0.12430597  0.54616297 -0.08596154  0.1871204\n",
      "  -0.00212501  0.21776044]\n",
      " [-0.15162306 -0.2083163   0.15535804 -0.01736512 -0.00622419 -0.14893495\n",
      "  -0.49377951  0.08049281  0.09435952  0.64457973 -0.01876116 -0.29395032\n",
      "   0.3517438  -0.04231093]\n",
      " [-0.06170898  0.41317034 -0.17941002  0.33946833  0.04901174 -0.10667171\n",
      "  -0.35798277 -0.10682309 -0.06441702  0.24786378  0.23970843  0.42115056\n",
      "  -0.32224239 -0.34707008]\n",
      " [-0.05767498 -0.49483048  0.12013914  0.22793906  0.21402629 -0.14344201\n",
      "  -0.23699486  0.03883933 -0.24023215 -0.05198248  0.08793399  0.29478984\n",
      "  -0.27854325  0.57335451]\n",
      " [ 0.17004792  0.11756153  0.35820263 -0.06758385  0.14400982 -0.12719434\n",
      "   0.13748106 -0.4498645  -0.36965893  0.02821762  0.59001431 -0.27302585\n",
      "   0.0776619   0.00739022]\n",
      " [ 0.17320975 -0.37434052 -0.37685476  0.42662736 -0.14892362  0.35171078\n",
      "   0.12716006 -0.10617843 -0.21299679  0.05163445  0.17403473  0.13969671\n",
      "   0.45974515 -0.1526836 ]\n",
      " [-0.14114193 -0.17984725 -0.14608311 -0.15765575 -0.1053025   0.14318454\n",
      "  -0.00627074 -0.58849426  0.64630806  0.07141914  0.21875306  0.10459835\n",
      "  -0.11040027  0.17258716]\n",
      " [-0.05171257 -0.29833516  0.24617004 -0.33967037  0.17483438 -0.31156031\n",
      "   0.07044313 -0.0101121   0.05065438 -0.12900236  0.01579009  0.55750675\n",
      "   0.28530798 -0.43355933]\n",
      " [-0.6456393   0.03244134  0.50178154  0.16320602 -0.30683616  0.41443558\n",
      "   0.0197684  -0.01234732 -0.11635829 -0.10156627  0.01427804  0.08242055\n",
      "   0.00535431 -0.0796704 ]\n",
      " [-0.34928274  0.02860641 -0.30732719 -0.33712298  0.6635398   0.41931403\n",
      "  -0.01294344  0.01551008 -0.20130356  0.09316872  0.03766758 -0.03835499\n",
      "   0.00369723 -0.02137226]]\n",
      "SV part: [143.35737374 111.46194671  86.14473001  72.43882373  65.10638602\n",
      "  54.68811893  46.7743579   40.57915253  35.6940813   31.07690746\n",
      "  27.49969885  22.57547939  15.40974305  14.53521942]\n"
     ]
    }
   ],
   "source": [
    "print(\"Components part:\", pca.components_)\n",
    "print(\"SV part:\", pca.singular_values_)"
   ]
  },
  {
   "cell_type": "code",
   "execution_count": 26,
   "metadata": {},
   "outputs": [
    {
     "data": {
      "text/plain": [
       "[<matplotlib.lines.Line2D at 0x165612c3790>]"
      ]
     },
     "execution_count": 26,
     "metadata": {},
     "output_type": "execute_result"
    },
    {
     "data": {
      "image/png": "[encoded data removed]",
      "text/plain": [
       "<Figure size 432x288 with 1 Axes>"
      ]
     },
     "metadata": {
      "needs_background": "light"
     },
     "output_type": "display_data"
    }
   ],
   "source": [
    "plt.plot(range(len(pca.singular_values_)), pca.singular_values_)"
   ]
  },
  {
   "cell_type": "code",
   "execution_count": 27,
   "metadata": {},
   "outputs": [
    {
     "name": "stdout",
     "output_type": "stream",
     "text": [
      "PCA1: MaxPO -> 0.3952180482857286    -    TSale -> 0.37519217713599\n",
      "PCA1: 2 -> 0.3952180482857286    -    5 -> 0.37519217713599\n",
      "\n",
      "PCA2: MinPO -> 0.4316661849531521    -    MeanProdOrder -> 0.36531059906024355\n",
      "PCA2: 3 -> 0.4316661849531521    -    4 -> 0.36531059906024355\n",
      "\n",
      "PCA3: MeanPSale -> 0.6376075945444536    -    MeanProdOrder -> 0.30750706378736037\n",
      "PCA3: 10 -> 0.6376075945444536    -    4 -> 0.30750706378736037\n",
      "\n",
      "PCA4: SETSaleQta -> 0.4830019346904959    -    TRProd -> 0.35352985552520866\n",
      "PCA4: 12 -> 0.4830019346904959    -    9 -> 0.35352985552520866\n",
      "\n",
      "PCA5: MinPSale -> 0.6496896106466628    -    TRProd -> 0.5461629733163378\n",
      "PCA5: 6 -> 0.6496896106466628    -    9 -> 0.5461629733163378\n",
      "\n",
      "PCA6: TRProd -> 0.6445797310982895    -    SETSaleQta -> 0.3517437973013525\n",
      "PCA6: 9 -> 0.6445797310982895    -    12 -> 0.3517437973013525\n",
      "\n",
      "PCA7: TOrder -> 0.4211505584702798    -    MinPSale -> 0.35798277251174665\n",
      "PCA7: 11 -> 0.4211505584702798    -    6 -> 0.35798277251174665\n",
      "\n",
      "PCA8: SESaleQtaOrder -> 0.5733545147878452    -    TOrder -> 0.29478984464325086\n",
      "PCA8: 13 -> 0.5733545147878452    -    11 -> 0.29478984464325086\n",
      "\n",
      "PCA9: MeanPSale -> 0.5900143118695321    -    MeanSaleOrder -> 0.36965892953963714\n",
      "PCA9: 10 -> 0.5900143118695321    -    8 -> 0.36965892953963714\n",
      "\n",
      "PCA10: SETSaleQta -> 0.4597451451870819    -    TSale -> 0.35171077670744916\n",
      "PCA10: 12 -> 0.4597451451870819    -    5 -> 0.35171077670744916\n",
      "\n",
      "PCA11: MeanSaleOrder -> 0.6463080648532076    -    MeanPSale -> 0.2187530581190368\n",
      "PCA11: 8 -> 0.6463080648532076    -    10 -> 0.2187530581190368\n",
      "\n",
      "PCA12: TOrder -> 0.5575067466800987    -    SESaleQtaOrder -> 0.4335593346369403\n",
      "PCA12: 11 -> 0.5575067466800987    -    13 -> 0.4335593346369403\n",
      "\n",
      "PCA13: TProd -> 0.645639301869132    -    MaxPO -> 0.5017815441351429\n",
      "PCA13: 0 -> 0.645639301869132    -    2 -> 0.5017815441351429\n",
      "\n",
      "PCA14: MeanProdOrder -> 0.6635397966282125    -    TSale -> 0.4193140250621392\n",
      "PCA14: 4 -> 0.6635397966282125    -    5 -> 0.4193140250621392\n",
      "\n",
      "Most used in PCA creation: [2, 5, 3, 4, 10, 12, 9, 6, 11, 13, 8, 0]\n",
      "Most used in PCA creation: Index(['MaxPO', 'TSale', 'MinPO', 'MeanProdOrder', 'MeanPSale', 'SETSaleQta',\n",
      "       'TRProd', 'MinPSale', 'TOrder', 'SESaleQtaOrder', 'MeanSaleOrder',\n",
      "       'TProd'],\n",
      "      dtype='object')\n"
     ]
    }
   ],
   "source": [
    "count = 1\n",
    "most_used = list()\n",
    "for arr in pca.components_:\n",
    "    ind1 = -1\n",
    "    val1 = -1\n",
    "    ind2 = -1\n",
    "    val2 = -1\n",
    "    for i in range(0, len(arr)):\n",
    "        if abs(arr[i]) > val1:\n",
    "            ind1, val1 = i, abs(arr[i])\n",
    "        elif val2 == -1 or (abs(arr[i]) < val1 and abs(arr[i]) > val2):\n",
    "            ind2, val2 = i, abs(arr[i])\n",
    "    print(f\"PCA{count}: {df.columns[ind1]} -> {val1}    -    {df.columns[ind2]} -> {val2}\")\n",
    "    \n",
    "    print(f\"PCA{count}: {ind1} -> {val1}    -    {ind2} -> {val2}\\n\")\n",
    "    count += 1\n",
    "    \n",
    "    if ind1 not in most_used:\n",
    "        most_used.append(ind1)\n",
    "    if ind2 not in most_used:\n",
    "        most_used.append(ind2)\n",
    "        \n",
    "print(\"Most used in PCA creation:\",most_used)\n",
    "print(\"Most used in PCA creation:\",df.columns[most_used])"
   ]
  },
  {
   "cell_type": "code",
   "execution_count": 7,
   "metadata": {},
   "outputs": [],
   "source": [
    "scaler = MinMaxScaler()\n",
    "df_norm = scaler.fit_transform(df_pca.to_numpy())"
   ]
  },
  {
   "cell_type": "markdown",
   "metadata": {},
   "source": [
    "# K-MEANS USING PCA DIRECTLY (DELETE THIS)"
   ]
  },
  {
   "cell_type": "code",
   "execution_count": 8,
   "metadata": {},
   "outputs": [
    {
     "data": {
      "text/plain": [
       "KMeans(n_clusters=4, n_init=100)"
      ]
     },
     "execution_count": 8,
     "metadata": {},
     "output_type": "execute_result"
    }
   ],
   "source": [
    "kmeans = KMeans(n_clusters=4, n_init=100)\n",
    "kmeans.fit(df_norm)"
   ]
  },
  {
   "cell_type": "code",
   "execution_count": 9,
   "metadata": {},
   "outputs": [
    {
     "data": {
      "text/plain": [
       "array([0, 0, 0, ..., 1, 1, 1])"
      ]
     },
     "execution_count": 9,
     "metadata": {},
     "output_type": "execute_result"
    }
   ],
   "source": [
    "kmeans.labels_[:]"
   ]
  },
  {
   "cell_type": "code",
   "execution_count": 10,
   "metadata": {},
   "outputs": [
    {
     "data": {
      "text/plain": [
       "(array([0, 1, 2, 3]), array([1737, 2571,    7,   18], dtype=int64))"
      ]
     },
     "execution_count": 10,
     "metadata": {},
     "output_type": "execute_result"
    }
   ],
   "source": [
    "np.unique(kmeans.labels_, return_counts=True)"
   ]
  },
  {
   "cell_type": "code",
   "execution_count": 11,
   "metadata": {},
   "outputs": [
    {
     "data": {
      "text/plain": [
       "{0: 1737, 1: 2571, 2: 7, 3: 18}"
      ]
     },
     "execution_count": 11,
     "metadata": {},
     "output_type": "execute_result"
    }
   ],
   "source": [
    "hist, bins = np.histogram(kmeans.labels_, \n",
    "                          bins=range(0, len(set(kmeans.labels_)) + 1))\n",
    "dict(zip(bins, hist))"
   ]
  },
  {
   "cell_type": "code",
   "execution_count": 12,
   "metadata": {
    "scrolled": true
   },
   "outputs": [
    {
     "name": "stdout",
     "output_type": "stream",
     "text": [
      "Center num 4\n"
     ]
    },
    {
     "data": {
      "image/png": "[encoded data removed]",
      "text/plain": [
       "<Figure size 432x288 with 1 Axes>"
      ]
     },
     "metadata": {
      "needs_background": "light"
     },
     "output_type": "display_data"
    },
    {
     "data": {
      "text/plain": [
       "array([[ 8.05604096e-01, -9.03275902e-01, -5.65146348e-02,\n",
       "         4.97662280e-01,  2.16600854e-01,  8.14405883e-03,\n",
       "        -2.61015599e-01,  2.37290170e-01,  3.23941388e-02,\n",
       "        -8.08368392e-02,  3.77946761e-02, -9.19904737e-02,\n",
       "        -9.53314288e-03,  2.00472210e-03],\n",
       "       [-7.40696673e-01,  5.68441323e-01,  1.52419594e-02,\n",
       "        -2.97908569e-01, -1.66383546e-01,  4.92662304e-03,\n",
       "         1.66907071e-01, -1.54659712e-01, -2.25081225e-02,\n",
       "         4.69629241e-02, -1.70425400e-02,  6.11037480e-02,\n",
       "         4.56786409e-03, -2.00607522e-03],\n",
       "       [ 1.56478140e+01,  2.45296860e+01,  4.68755805e+00,\n",
       "         4.97295837e+00,  1.05402541e+01, -3.90418165e+00,\n",
       "        -1.59599312e+00,  1.44938815e-01, -1.83507155e-01,\n",
       "         1.43431042e+00, -2.35447082e+00, -2.87653442e-01,\n",
       "        -1.02726691e-01,  5.20141432e-01],\n",
       "       [ 2.20560241e+01, -3.64732886e+00,  1.44967668e+00,\n",
       "        -7.36286603e+00, -1.21457668e+00,  2.88839425e-02,\n",
       "         1.94500244e+00, -8.42529320e-01,  1.63289792e-01,\n",
       "         5.27996609e-01, -2.94269393e-01,  2.52788702e-01,\n",
       "         3.06670913e-01, -1.08975673e-01]])"
      ]
     },
     "execution_count": 12,
     "metadata": {},
     "output_type": "execute_result"
    }
   ],
   "source": [
    "centers = scaler.inverse_transform(kmeans.cluster_centers_)\n",
    "print(\"Center num\",len(centers))\n",
    "# plt.xlim((10,25))\n",
    "\n",
    "plt.scatter(df_pca['pca1'], df_pca['pca2'], c=kmeans.labels_, \n",
    "            s=20)\n",
    "plt.scatter(centers[:, 0], centers[:, 1], s=100, marker='*', c='r')\n",
    "plt.tick_params(axis='both', which='major', labelsize=18)\n",
    "plt.show()\n",
    "centers"
   ]
  },
  {
   "cell_type": "code",
   "execution_count": 13,
   "metadata": {},
   "outputs": [
    {
     "data": {
      "application/vnd.jupyter.widget-view+json": {
       "model_id": "485a5ed8a47e4550a300cdd921acb0e2",
       "version_major": 2,
       "version_minor": 0
      },
      "text/plain": [
       "HBox(children=(HTML(value='Iterating over possible K values'), FloatProgress(value=0.0, max=29.0), HTML(value=…"
      ]
     },
     "metadata": {},
     "output_type": "display_data"
    },
    {
     "name": "stdout",
     "output_type": "stream",
     "text": [
      "\n"
     ]
    }
   ],
   "source": [
    "sse_list = list()\n",
    "max_k = 30\n",
    "for k in tqdm(range(2, max_k + 1), total=max_k - 1, desc=\"Iterating over possible K values\"):\n",
    "    kmeans_iter = KMeans(n_clusters=k, n_init=10, max_iter=100)\n",
    "    kmeans_iter.fit(df_norm)\n",
    "    \n",
    "    sse = kmeans_iter.inertia_\n",
    "    sse_list.append(sse)"
   ]
  },
  {
   "cell_type": "code",
   "execution_count": 14,
   "metadata": {
    "scrolled": true
   },
   "outputs": [
    {
     "data": {
      "image/png": "[encoded data removed]",
      "text/plain": [
       "<Figure size 432x288 with 1 Axes>"
      ]
     },
     "metadata": {
      "needs_background": "light"
     },
     "output_type": "display_data"
    }
   ],
   "source": [
    "plt.plot(range(2, len(sse_list) + 2), sse_list)\n",
    "# plt.xlim((0,10))\n",
    "plt.ylabel('SSE', fontsize=22)\n",
    "plt.xlabel('K', fontsize=22)\n",
    "plt.tick_params(axis='both', which='major', labelsize=10)\n",
    "plt.show()"
   ]
  },
  {
   "cell_type": "markdown",
   "metadata": {},
   "source": [
    "# TRYING SOMETHING ELSE.."
   ]
  },
  {
   "cell_type": "code",
   "execution_count": 15,
   "metadata": {},
   "outputs": [
    {
     "data": {
      "text/html": [
       "<div>\n",
       "<style scoped>\n",
       "    .dataframe tbody tr th:only-of-type {\n",
       "        vertical-align: middle;\n",
       "    }\n",
       "\n",
       "    .dataframe tbody tr th {\n",
       "        vertical-align: top;\n",
       "    }\n",
       "\n",
       "    .dataframe thead th {\n",
       "        text-align: right;\n",
       "    }\n",
       "</style>\n",
       "<table border=\"1\" class=\"dataframe\">\n",
       "  <thead>\n",
       "    <tr style=\"text-align: right;\">\n",
       "      <th></th>\n",
       "      <th>TProd</th>\n",
       "      <th>MaxPO</th>\n",
       "      <th>MinPO</th>\n",
       "      <th>MeanProdOrder</th>\n",
       "      <th>TSale</th>\n",
       "      <th>MinPSale</th>\n",
       "      <th>MeanSaleOrder</th>\n",
       "      <th>TRProd</th>\n",
       "      <th>MeanPSale</th>\n",
       "      <th>TOrder</th>\n",
       "      <th>SETSaleQta</th>\n",
       "      <th>SESaleQtaOrder</th>\n",
       "    </tr>\n",
       "    <tr>\n",
       "      <th>CustomerID</th>\n",
       "      <th></th>\n",
       "      <th></th>\n",
       "      <th></th>\n",
       "      <th></th>\n",
       "      <th></th>\n",
       "      <th></th>\n",
       "      <th></th>\n",
       "      <th></th>\n",
       "      <th></th>\n",
       "      <th></th>\n",
       "      <th></th>\n",
       "      <th></th>\n",
       "    </tr>\n",
       "  </thead>\n",
       "  <tbody>\n",
       "    <tr>\n",
       "      <th>17850</th>\n",
       "      <td>1702</td>\n",
       "      <td>141</td>\n",
       "      <td>12</td>\n",
       "      <td>48.629</td>\n",
       "      <td>5317.89</td>\n",
       "      <td>6.36</td>\n",
       "      <td>151.940</td>\n",
       "      <td>31</td>\n",
       "      <td>3.960</td>\n",
       "      <td>34</td>\n",
       "      <td>4.137</td>\n",
       "      <td>3.186</td>\n",
       "    </tr>\n",
       "    <tr>\n",
       "      <th>13047</th>\n",
       "      <td>1355</td>\n",
       "      <td>309</td>\n",
       "      <td>3</td>\n",
       "      <td>84.688</td>\n",
       "      <td>3089.10</td>\n",
       "      <td>6.64</td>\n",
       "      <td>193.069</td>\n",
       "      <td>35</td>\n",
       "      <td>3.926</td>\n",
       "      <td>9</td>\n",
       "      <td>5.421</td>\n",
       "      <td>3.875</td>\n",
       "    </tr>\n",
       "    <tr>\n",
       "      <th>12583</th>\n",
       "      <td>4978</td>\n",
       "      <td>714</td>\n",
       "      <td>100</td>\n",
       "      <td>292.824</td>\n",
       "      <td>6629.34</td>\n",
       "      <td>6.80</td>\n",
       "      <td>389.961</td>\n",
       "      <td>50</td>\n",
       "      <td>2.140</td>\n",
       "      <td>15</td>\n",
       "      <td>5.804</td>\n",
       "      <td>4.087</td>\n",
       "    </tr>\n",
       "    <tr>\n",
       "      <th>13748</th>\n",
       "      <td>439</td>\n",
       "      <td>208</td>\n",
       "      <td>8</td>\n",
       "      <td>87.800</td>\n",
       "      <td>948.25</td>\n",
       "      <td>9.36</td>\n",
       "      <td>189.650</td>\n",
       "      <td>0</td>\n",
       "      <td>3.996</td>\n",
       "      <td>5</td>\n",
       "      <td>4.080</td>\n",
       "      <td>2.322</td>\n",
       "    </tr>\n",
       "    <tr>\n",
       "      <th>15100</th>\n",
       "      <td>58</td>\n",
       "      <td>32</td>\n",
       "      <td>16</td>\n",
       "      <td>9.667</td>\n",
       "      <td>635.10</td>\n",
       "      <td>175.20</td>\n",
       "      <td>105.850</td>\n",
       "      <td>22</td>\n",
       "      <td>10.950</td>\n",
       "      <td>3</td>\n",
       "      <td>2.252</td>\n",
       "      <td>2.252</td>\n",
       "    </tr>\n",
       "    <tr>\n",
       "      <th>...</th>\n",
       "      <td>...</td>\n",
       "      <td>...</td>\n",
       "      <td>...</td>\n",
       "      <td>...</td>\n",
       "      <td>...</td>\n",
       "      <td>...</td>\n",
       "      <td>...</td>\n",
       "      <td>...</td>\n",
       "      <td>...</td>\n",
       "      <td>...</td>\n",
       "      <td>...</td>\n",
       "      <td>...</td>\n",
       "    </tr>\n",
       "    <tr>\n",
       "      <th>13436</th>\n",
       "      <td>76</td>\n",
       "      <td>76</td>\n",
       "      <td>76</td>\n",
       "      <td>76.000</td>\n",
       "      <td>196.89</td>\n",
       "      <td>10.20</td>\n",
       "      <td>196.890</td>\n",
       "      <td>0</td>\n",
       "      <td>5.830</td>\n",
       "      <td>1</td>\n",
       "      <td>3.418</td>\n",
       "      <td>0.000</td>\n",
       "    </tr>\n",
       "    <tr>\n",
       "      <th>15520</th>\n",
       "      <td>314</td>\n",
       "      <td>314</td>\n",
       "      <td>314</td>\n",
       "      <td>314.000</td>\n",
       "      <td>343.50</td>\n",
       "      <td>9.48</td>\n",
       "      <td>343.500</td>\n",
       "      <td>0</td>\n",
       "      <td>1.724</td>\n",
       "      <td>1</td>\n",
       "      <td>2.997</td>\n",
       "      <td>0.000</td>\n",
       "    </tr>\n",
       "    <tr>\n",
       "      <th>13298</th>\n",
       "      <td>96</td>\n",
       "      <td>96</td>\n",
       "      <td>96</td>\n",
       "      <td>96.000</td>\n",
       "      <td>360.00</td>\n",
       "      <td>90.00</td>\n",
       "      <td>360.000</td>\n",
       "      <td>0</td>\n",
       "      <td>3.750</td>\n",
       "      <td>1</td>\n",
       "      <td>1.000</td>\n",
       "      <td>0.000</td>\n",
       "    </tr>\n",
       "    <tr>\n",
       "      <th>14569</th>\n",
       "      <td>79</td>\n",
       "      <td>79</td>\n",
       "      <td>79</td>\n",
       "      <td>79.000</td>\n",
       "      <td>227.39</td>\n",
       "      <td>1.65</td>\n",
       "      <td>227.390</td>\n",
       "      <td>0</td>\n",
       "      <td>3.920</td>\n",
       "      <td>1</td>\n",
       "      <td>3.418</td>\n",
       "      <td>0.000</td>\n",
       "    </tr>\n",
       "    <tr>\n",
       "      <th>12713</th>\n",
       "      <td>505</td>\n",
       "      <td>505</td>\n",
       "      <td>505</td>\n",
       "      <td>505.000</td>\n",
       "      <td>794.55</td>\n",
       "      <td>5.04</td>\n",
       "      <td>794.550</td>\n",
       "      <td>0</td>\n",
       "      <td>2.085</td>\n",
       "      <td>1</td>\n",
       "      <td>4.101</td>\n",
       "      <td>0.000</td>\n",
       "    </tr>\n",
       "  </tbody>\n",
       "</table>\n",
       "<p>4333 rows × 12 columns</p>\n",
       "</div>"
      ],
      "text/plain": [
       "            TProd  MaxPO  MinPO  MeanProdOrder    TSale  MinPSale  \\\n",
       "CustomerID                                                          \n",
       "17850        1702    141     12         48.629  5317.89      6.36   \n",
       "13047        1355    309      3         84.688  3089.10      6.64   \n",
       "12583        4978    714    100        292.824  6629.34      6.80   \n",
       "13748         439    208      8         87.800   948.25      9.36   \n",
       "15100          58     32     16          9.667   635.10    175.20   \n",
       "...           ...    ...    ...            ...      ...       ...   \n",
       "13436          76     76     76         76.000   196.89     10.20   \n",
       "15520         314    314    314        314.000   343.50      9.48   \n",
       "13298          96     96     96         96.000   360.00     90.00   \n",
       "14569          79     79     79         79.000   227.39      1.65   \n",
       "12713         505    505    505        505.000   794.55      5.04   \n",
       "\n",
       "            MeanSaleOrder  TRProd  MeanPSale  TOrder  SETSaleQta  \\\n",
       "CustomerID                                                         \n",
       "17850             151.940      31      3.960      34       4.137   \n",
       "13047             193.069      35      3.926       9       5.421   \n",
       "12583             389.961      50      2.140      15       5.804   \n",
       "13748             189.650       0      3.996       5       4.080   \n",
       "15100             105.850      22     10.950       3       2.252   \n",
       "...                   ...     ...        ...     ...         ...   \n",
       "13436             196.890       0      5.830       1       3.418   \n",
       "15520             343.500       0      1.724       1       2.997   \n",
       "13298             360.000       0      3.750       1       1.000   \n",
       "14569             227.390       0      3.920       1       3.418   \n",
       "12713             794.550       0      2.085       1       4.101   \n",
       "\n",
       "            SESaleQtaOrder  \n",
       "CustomerID                  \n",
       "17850                3.186  \n",
       "13047                3.875  \n",
       "12583                4.087  \n",
       "13748                2.322  \n",
       "15100                2.252  \n",
       "...                    ...  \n",
       "13436                0.000  \n",
       "15520                0.000  \n",
       "13298                0.000  \n",
       "14569                0.000  \n",
       "12713                0.000  \n",
       "\n",
       "[4333 rows x 12 columns]"
      ]
     },
     "execution_count": 15,
     "metadata": {},
     "output_type": "execute_result"
    }
   ],
   "source": [
    "df2 = df.copy()\n",
    "df2.drop(columns = list(set(df2.columns) - set(df2.columns[most_used])))"
   ]
  },
  {
   "cell_type": "code",
   "execution_count": 16,
   "metadata": {},
   "outputs": [],
   "source": [
    "scaler = MinMaxScaler()\n",
    "df2_norm = scaler.fit_transform(df2.to_numpy())"
   ]
  },
  {
   "cell_type": "code",
   "execution_count": 17,
   "metadata": {},
   "outputs": [
    {
     "data": {
      "application/vnd.jupyter.widget-view+json": {
       "model_id": "5bfd7bc0f59c4ba885d4307ef8ffab67",
       "version_major": 2,
       "version_minor": 0
      },
      "text/plain": [
       "HBox(children=(HTML(value='Iterating over possible K values'), FloatProgress(value=0.0, max=29.0), HTML(value=…"
      ]
     },
     "metadata": {},
     "output_type": "display_data"
    },
    {
     "name": "stdout",
     "output_type": "stream",
     "text": [
      "\n"
     ]
    }
   ],
   "source": [
    "sse_list = list()\n",
    "max_k = 30\n",
    "for k in tqdm(range(2, max_k + 1), total=max_k - 1, desc=\"Iterating over possible K values\"):\n",
    "    kmeans_iter = KMeans(n_clusters=k, n_init=10, max_iter=100)\n",
    "    kmeans_iter.fit(df2_norm)\n",
    "    \n",
    "    sse = kmeans_iter.inertia_\n",
    "    sse_list.append(sse)"
   ]
  },
  {
   "cell_type": "code",
   "execution_count": 18,
   "metadata": {},
   "outputs": [
    {
     "data": {
      "image/png": "[encoded data removed]",
      "text/plain": [
       "<Figure size 432x288 with 1 Axes>"
      ]
     },
     "metadata": {
      "needs_background": "light"
     },
     "output_type": "display_data"
    }
   ],
   "source": [
    "plt.plot(range(2, len(sse_list) + 2), sse_list)\n",
    "plt.xlim((0,10))\n",
    "plt.ylabel('SSE', fontsize=22)\n",
    "plt.xlabel('K', fontsize=22)\n",
    "plt.tick_params(axis='both', which='major', labelsize=10)\n",
    "plt.show()"
   ]
  },
  {
   "cell_type": "code",
   "execution_count": 19,
   "metadata": {},
   "outputs": [
    {
     "name": "stdout",
     "output_type": "stream",
     "text": [
      "<class 'pandas.core.frame.DataFrame'>\n",
      "Int64Index: 4333 entries, 17850 to 12713\n",
      "Data columns (total 14 columns):\n",
      " #   Column          Non-Null Count  Dtype  \n",
      "---  ------          --------------  -----  \n",
      " 0   TProd           4333 non-null   int64  \n",
      " 1   DProd           4333 non-null   int64  \n",
      " 2   MaxPO           4333 non-null   int64  \n",
      " 3   MinPO           4333 non-null   int64  \n",
      " 4   MeanProdOrder   4333 non-null   float64\n",
      " 5   TSale           4333 non-null   float64\n",
      " 6   MinPSale        4333 non-null   float64\n",
      " 7   MaxPSale        4333 non-null   float64\n",
      " 8   MeanSaleOrder   4333 non-null   float64\n",
      " 9   TRProd          4333 non-null   int64  \n",
      " 10  MeanPSale       4333 non-null   float64\n",
      " 11  TOrder          4333 non-null   int64  \n",
      " 12  SETSaleQta      4333 non-null   float64\n",
      " 13  SESaleQtaOrder  4333 non-null   float64\n",
      "dtypes: float64(8), int64(6)\n",
      "memory usage: 507.8 KB\n"
     ]
    }
   ],
   "source": [
    "df2.info()"
   ]
  },
  {
   "cell_type": "code",
   "execution_count": 20,
   "metadata": {},
   "outputs": [
    {
     "data": {
      "text/plain": [
       "KMeans(n_clusters=5, n_init=100)"
      ]
     },
     "execution_count": 20,
     "metadata": {},
     "output_type": "execute_result"
    }
   ],
   "source": [
    "kmeans2 = KMeans(n_clusters=5, n_init=100)\n",
    "kmeans2.fit(df2_norm)"
   ]
  },
  {
   "cell_type": "code",
   "execution_count": 21,
   "metadata": {},
   "outputs": [
    {
     "data": {
      "text/plain": [
       "(array([0, 1, 2, 3, 4]), array([1468, 1509,  700,  635,   21], dtype=int64))"
      ]
     },
     "execution_count": 21,
     "metadata": {},
     "output_type": "execute_result"
    }
   ],
   "source": [
    "np.unique(kmeans2.labels_, return_counts=True)"
   ]
  },
  {
   "cell_type": "code",
   "execution_count": 22,
   "metadata": {},
   "outputs": [
    {
     "data": {
      "text/plain": [
       "{0: 1468, 1: 1509, 2: 700, 3: 635, 4: 21}"
      ]
     },
     "execution_count": 22,
     "metadata": {},
     "output_type": "execute_result"
    }
   ],
   "source": [
    "hist, bins = np.histogram(kmeans2.labels_, \n",
    "                          bins=range(0, len(set(kmeans2.labels_)) + 1))\n",
    "dict(zip(bins, hist))"
   ]
  },
  {
   "cell_type": "code",
   "execution_count": 23,
   "metadata": {},
   "outputs": [
    {
     "name": "stdout",
     "output_type": "stream",
     "text": [
      "Center num 5\n"
     ]
    },
    {
     "data": {
      "image/png": "[encoded data removed]",
      "text/plain": [
       "<Figure size 432x288 with 1 Axes>"
      ]
     },
     "metadata": {
      "needs_background": "light"
     },
     "output_type": "display_data"
    },
    {
     "data": {
      "text/plain": [
       "array([[3.00597411e+02, 2.79741144e+01, 2.57363760e+02, 2.07354223e+02,\n",
       "        2.17503004e+02, 4.83317507e+02, 6.92920300e+00, 6.46405177e+01,\n",
       "        3.50183280e+02, 2.38215259e+00, 3.15966621e+00, 1.36784741e+00,\n",
       "        3.77040599e+00, 4.50657357e-01],\n",
       "       [8.03483422e+02, 6.66545093e+01, 3.64055040e+02, 1.22293103e+02,\n",
       "        1.91893003e+02, 1.30974904e+03, 5.07443634e+00, 9.15644032e+01,\n",
       "        3.11926362e+02, 1.01173740e+01, 3.12913196e+00, 3.75132626e+00,\n",
       "        4.68997546e+00, 1.99379377e+00],\n",
       "       [2.90461286e+03, 1.56111429e+02, 5.92904286e+02, 5.35300000e+01,\n",
       "        2.02571919e+02, 4.96830771e+03, 3.46384286e+00, 1.76075286e+02,\n",
       "        3.44650410e+02, 5.18485714e+01, 3.01775429e+00, 1.21842857e+01,\n",
       "        5.58550000e+00, 3.64986143e+00],\n",
       "       [2.39188679e+02, 6.35534591e+00, 1.78908805e+02, 1.38191824e+02,\n",
       "        1.53756777e+02, 3.85242940e+02, 6.03151258e+01, 1.97469670e+02,\n",
       "        2.38887226e+02, 3.21069182e+00, 5.66869811e+00, 1.36949686e+00,\n",
       "        1.73481604e+00, 3.24295597e-01],\n",
       "       [5.02854762e+04, 5.40333333e+02, 6.36609524e+03, 1.11523810e+02,\n",
       "        1.10131348e+03, 8.97292876e+04, 1.37115714e+02, 2.32233762e+03,\n",
       "        2.05119119e+03, 1.68285714e+03, 2.83542857e+00, 6.37142857e+01,\n",
       "        6.56242857e+00, 5.64261905e+00]])"
      ]
     },
     "execution_count": 23,
     "metadata": {},
     "output_type": "execute_result"
    }
   ],
   "source": [
    "centers = scaler.inverse_transform(kmeans2.cluster_centers_)\n",
    "print(\"Center num\",len(centers))\n",
    "plt.xlim((0,3000))\n",
    "plt.ylim((0,3000))\n",
    "\n",
    "plt.scatter(df2['TProd'], df2['TSale'], c=kmeans2.labels_, \n",
    "            s=10)\n",
    "plt.scatter(centers[:, 0], centers[:, 5], s=100, marker='*', c='r')\n",
    "plt.tick_params(axis='both', which='major', labelsize=18)\n",
    "plt.show()\n",
    "centers"
   ]
  },
  {
   "cell_type": "code",
   "execution_count": 24,
   "metadata": {},
   "outputs": [
    {
     "data": {
      "image/png": "[encoded data removed]",
      "text/plain": [
       "<Figure size 576x288 with 1 Axes>"
      ]
     },
     "metadata": {
      "needs_background": "light"
     },
     "output_type": "display_data"
    }
   ],
   "source": [
    "plt.figure(figsize=(8, 4))\n",
    "for i in range(0, len(centers)):\n",
    "    plt.plot(centers[i], marker='o', label='Cluster %s' % i)\n",
    "plt.tick_params(axis='both', which='major', labelsize=22)\n",
    "plt.xticks(range(0, len(df2.columns)), df2.columns, fontsize=5)\n",
    "plt.legend(fontsize=20)\n",
    "plt.show()"
   ]
  }
 ],
 "metadata": {
  "kernelspec": {
   "display_name": "Python 3",
   "language": "python",
   "name": "python3"
  },
  "language_info": {
   "codemirror_mode": {
    "name": "ipython",
    "version": 3
   },
   "file_extension": ".py",
   "mimetype": "text/x-python",
   "name": "python",
   "nbconvert_exporter": "python",
   "pygments_lexer": "ipython3",
   "version": "3.8.3"
  }
 },
 "nbformat": 4,
 "nbformat_minor": 4
}
