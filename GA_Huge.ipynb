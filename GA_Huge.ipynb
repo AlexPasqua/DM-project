{
 "cells": [
  {
   "cell_type": "code",
   "execution_count": 1,
   "metadata": {},
   "outputs": [],
   "source": [
    "import pandas as pd\n",
    "import matplotlib.pyplot as plt\n",
    "import numpy as np\n",
    "from tqdm.notebook import tqdm\n",
    "from tqdm import trange\n",
    "from sklearn.preprocessing import MinMaxScaler, StandardScaler\n",
    "from sklearn.metrics import silhouette_score\n",
    "from pyclustering.cluster.ga import genetic_algorithm, ga_observer, ga_visualizer\n",
    "from pyclustering.cluster import cluster_visualizer, cluster_visualizer_multidim"
   ]
  },
  {
   "cell_type": "code",
   "execution_count": 2,
   "metadata": {},
   "outputs": [],
   "source": [
    "df = pd.read_csv(\"customer_dataframe.csv\", sep=\"\\t\", index_col=0)\n",
    "df_aux = df[['TProd', 'MeanProdOrder', 'MeanSaleOrder', 'MeanPSale']]\n",
    "scaler = MinMaxScaler()\n",
    "X = scaler.fit_transform(df_aux.values)"
   ]
  },
  {
   "cell_type": "code",
   "execution_count": 3,
   "metadata": {},
   "outputs": [],
   "source": [
    "def ga_cluster(sample, nc, cc, pc, mg):\n",
    "    observer_instance = ga_observer(True, True, True)\n",
    "    ga_instance = genetic_algorithm(data=sample, count_clusters=nc, chromosome_count=cc, population_count=pc,count_mutation_gens=mg,observer=observer_instance)\n",
    "    ga_instance.process()\n",
    "    clusters = ga_instance.get_clusters()\n",
    "    print([len(c) for c in clusters])    \n",
    "    clusters_df = {}\n",
    "    indexes = df.index\n",
    "    for i in range(len(clusters)):\n",
    "        clusters_df[i] = df[df.index.isin([indexes[i] for i in clusters[i]])]\n",
    "    attr = df_aux.columns\n",
    "    mean_values_to_plot= {a:[] for a in attr}\n",
    "    to_plot = [[x[1],x[2]] for x in sample]\n",
    "    for attr_index in range(len(attr)):\n",
    "        mean_values = []\n",
    "        for _, cluster_df in clusters_df.items():\n",
    "            mean_values.append(cluster_df.describe()[attr[attr_index]][1])\n",
    "        mean_values_to_plot[attr[attr_index]] = mean_values\n",
    "    ga_visualizer.show_clusters(to_plot, observer_instance)\n",
    "    \n",
    "    return mean_values_to_plot, clusters\n",
    "\n",
    "def calc_silhouette(data, clusters):\n",
    "    cust_clust = {}\n",
    "    for i in range(len(clusters)):\n",
    "        for customer in clusters[i]:\n",
    "            cust_clust[customer] = i\n",
    "    clustering = []\n",
    "    for cust in sorted(cust_clust):\n",
    "        clustering.append(cust_clust[cust])\n",
    "    print(\"Silhouette score: \", silhouette_score(data, clustering))\n",
    "    return clustering"
   ]
  },
  {
   "cell_type": "code",
   "execution_count": null,
   "metadata": {},
   "outputs": [],
   "source": [
    "nc = 4\n",
    "pc = 500\n",
    "cc = 100\n",
    "mg = 5\n",
    "mv, cl = ga_cluster(X, nc, cc, pc, mg)\n",
    "means.append(mv)\n",
    "calc_silhouette(X, cl)"
   ]
  }
 ],
 "metadata": {
  "kernelspec": {
   "display_name": "Python 3",
   "language": "python",
   "name": "python3"
  },
  "language_info": {
   "codemirror_mode": {
    "name": "ipython",
    "version": 3
   },
   "file_extension": ".py",
   "mimetype": "text/x-python",
   "name": "python",
   "nbconvert_exporter": "python",
   "pygments_lexer": "ipython3",
   "version": "3.8.4"
  }
 },
 "nbformat": 4,
 "nbformat_minor": 4
}
