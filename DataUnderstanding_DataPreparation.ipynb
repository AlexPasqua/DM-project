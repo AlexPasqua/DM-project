{
 "cells": [
  {
   "cell_type": "markdown",
   "metadata": {
    "pycharm": {
     "name": "#%% md\n"
    }
   },
   "source": [
    "# Data Understanding and Data Preparation"
   ]
  },
  {
   "cell_type": "code",
   "execution_count": 1,
   "metadata": {},
   "outputs": [],
   "source": [
    "import math\n",
    "import numpy as np\n",
    "import pandas as pd\n",
    "import scipy.stats as stats\n",
    "import matplotlib.pyplot as plt\n",
    "from tqdm.notebook import tqdm"
   ]
  },
  {
   "cell_type": "code",
   "execution_count": 2,
   "metadata": {},
   "outputs": [
    {
     "name": "stdout",
     "output_type": "stream",
     "text": [
      "  BasketID      BasketDate  Sale  CustomerID CustomerCountry  ProdID  \\\n",
      "0   536365  01/12/10 08:26  2,55     17850.0  United Kingdom  85123A   \n",
      "1   536365  01/12/10 08:26  3,39     17850.0  United Kingdom   71053   \n",
      "2   536365  01/12/10 08:26  2,75     17850.0  United Kingdom  84406B   \n",
      "3   536365  01/12/10 08:26  3,39     17850.0  United Kingdom  84029G   \n",
      "4   536365  01/12/10 08:26  3,39     17850.0  United Kingdom  84029E   \n",
      "\n",
      "                             ProdDescr  Qta  \n",
      "0   WHITE HANGING HEART T-LIGHT HOLDER    6  \n",
      "1                  WHITE METAL LANTERN    6  \n",
      "2       CREAM CUPID HEARTS COAT HANGER    8  \n",
      "3  KNITTED UNION FLAG HOT WATER BOTTLE    6  \n",
      "4       RED WOOLLY HOTTIE WHITE HEART.    6  \n"
     ]
    }
   ],
   "source": [
    "df = pd.read_csv('customer_supermarket.csv', sep='\\t', index_col=0)\n",
    "df.drop_duplicates(inplace=True)\n",
    "print(df.head())"
   ]
  },
  {
   "cell_type": "code",
   "execution_count": 3,
   "metadata": {},
   "outputs": [],
   "source": [
    "### Types checking and basic statistics"
   ]
  },
  {
   "cell_type": "code",
   "execution_count": 4,
   "metadata": {
    "pycharm": {
     "name": "#%%\n"
    }
   },
   "outputs": [
    {
     "name": "stdout",
     "output_type": "stream",
     "text": [
      "<class 'pandas.core.frame.DataFrame'>\n",
      "Int64Index: 466678 entries, 0 to 541909\n",
      "Data columns (total 8 columns):\n",
      " #   Column           Non-Null Count   Dtype  \n",
      "---  ------           --------------   -----  \n",
      " 0   BasketID         466678 non-null  object \n",
      " 1   BasketDate       466678 non-null  object \n",
      " 2   Sale             466678 non-null  object \n",
      " 3   CustomerID       401605 non-null  float64\n",
      " 4   CustomerCountry  466678 non-null  object \n",
      " 5   ProdID           466678 non-null  object \n",
      " 6   ProdDescr        465925 non-null  object \n",
      " 7   Qta              466678 non-null  int64  \n",
      "dtypes: float64(1), int64(1), object(6)\n",
      "memory usage: 32.0+ MB\n"
     ]
    }
   ],
   "source": [
    "df.info()"
   ]
  },
  {
   "cell_type": "code",
   "execution_count": 5,
   "metadata": {
    "pycharm": {
     "name": "#%%\n"
    }
   },
   "outputs": [
    {
     "data": {
      "text/plain": [
       "BasketID           False\n",
       "BasketDate         False\n",
       "Sale               False\n",
       "CustomerID          True\n",
       "CustomerCountry    False\n",
       "ProdID             False\n",
       "ProdDescr           True\n",
       "Qta                False\n",
       "dtype: bool"
      ]
     },
     "execution_count": 5,
     "metadata": {},
     "output_type": "execute_result"
    }
   ],
   "source": [
    "df.isnull().any()"
   ]
  },
  {
   "cell_type": "code",
   "execution_count": 6,
   "metadata": {},
   "outputs": [
    {
     "data": {
      "text/html": [
       "<div>\n",
       "<style scoped>\n",
       "    .dataframe tbody tr th:only-of-type {\n",
       "        vertical-align: middle;\n",
       "    }\n",
       "\n",
       "    .dataframe tbody tr th {\n",
       "        vertical-align: top;\n",
       "    }\n",
       "\n",
       "    .dataframe thead th {\n",
       "        text-align: right;\n",
       "    }\n",
       "</style>\n",
       "<table border=\"1\" class=\"dataframe\">\n",
       "  <thead>\n",
       "    <tr style=\"text-align: right;\">\n",
       "      <th></th>\n",
       "      <th>CustomerID</th>\n",
       "      <th>Qta</th>\n",
       "    </tr>\n",
       "  </thead>\n",
       "  <tbody>\n",
       "    <tr>\n",
       "      <th>count</th>\n",
       "      <td>401605.000000</td>\n",
       "      <td>466678.000000</td>\n",
       "    </tr>\n",
       "    <tr>\n",
       "      <th>mean</th>\n",
       "      <td>15281.154341</td>\n",
       "      <td>10.806528</td>\n",
       "    </tr>\n",
       "    <tr>\n",
       "      <th>std</th>\n",
       "      <td>1714.008869</td>\n",
       "      <td>232.627771</td>\n",
       "    </tr>\n",
       "    <tr>\n",
       "      <th>min</th>\n",
       "      <td>12346.000000</td>\n",
       "      <td>-80995.000000</td>\n",
       "    </tr>\n",
       "    <tr>\n",
       "      <th>25%</th>\n",
       "      <td>13939.000000</td>\n",
       "      <td>2.000000</td>\n",
       "    </tr>\n",
       "    <tr>\n",
       "      <th>50%</th>\n",
       "      <td>15145.000000</td>\n",
       "      <td>4.000000</td>\n",
       "    </tr>\n",
       "    <tr>\n",
       "      <th>75%</th>\n",
       "      <td>16784.000000</td>\n",
       "      <td>12.000000</td>\n",
       "    </tr>\n",
       "    <tr>\n",
       "      <th>max</th>\n",
       "      <td>18287.000000</td>\n",
       "      <td>80995.000000</td>\n",
       "    </tr>\n",
       "  </tbody>\n",
       "</table>\n",
       "</div>"
      ],
      "text/plain": [
       "          CustomerID            Qta\n",
       "count  401605.000000  466678.000000\n",
       "mean    15281.154341      10.806528\n",
       "std      1714.008869     232.627771\n",
       "min     12346.000000  -80995.000000\n",
       "25%     13939.000000       2.000000\n",
       "50%     15145.000000       4.000000\n",
       "75%     16784.000000      12.000000\n",
       "max     18287.000000   80995.000000"
      ]
     },
     "execution_count": 6,
     "metadata": {},
     "output_type": "execute_result"
    }
   ],
   "source": [
    "df.describe()"
   ]
  },
  {
   "cell_type": "markdown",
   "metadata": {
    "pycharm": {
     "name": "#%% md\n"
    }
   },
   "source": [
    "### Fixing _Sale_:\n",
    "* Check if any element of _Sale_ contains letters / drop rows containing letters in _Sale_\n",
    "* Replace commas with dots\n",
    "* Cast the field into float"
   ]
  },
  {
   "cell_type": "code",
   "execution_count": 7,
   "metadata": {},
   "outputs": [],
   "source": [
    "# OPTION 1: Check if 'Sale' contains any letter\n",
    "import re\n",
    "for elem in df['Sale']:\n",
    "    if re.match(elem, r'[a-zA-Z]*'):\n",
    "        print(elem)"
   ]
  },
  {
   "cell_type": "code",
   "execution_count": 8,
   "metadata": {
    "pycharm": {
     "name": "#%%\n"
    },
    "scrolled": true
   },
   "outputs": [
    {
     "data": {
      "text/html": [
       "<div>\n",
       "<style scoped>\n",
       "    .dataframe tbody tr th:only-of-type {\n",
       "        vertical-align: middle;\n",
       "    }\n",
       "\n",
       "    .dataframe tbody tr th {\n",
       "        vertical-align: top;\n",
       "    }\n",
       "\n",
       "    .dataframe thead th {\n",
       "        text-align: right;\n",
       "    }\n",
       "</style>\n",
       "<table border=\"1\" class=\"dataframe\">\n",
       "  <thead>\n",
       "    <tr style=\"text-align: right;\">\n",
       "      <th></th>\n",
       "      <th>BasketID</th>\n",
       "      <th>BasketDate</th>\n",
       "      <th>Sale</th>\n",
       "      <th>CustomerID</th>\n",
       "      <th>CustomerCountry</th>\n",
       "      <th>ProdID</th>\n",
       "      <th>ProdDescr</th>\n",
       "      <th>Qta</th>\n",
       "    </tr>\n",
       "  </thead>\n",
       "  <tbody>\n",
       "    <tr>\n",
       "      <th>0</th>\n",
       "      <td>536365</td>\n",
       "      <td>01/12/10 08:26</td>\n",
       "      <td>2,55</td>\n",
       "      <td>17850.0</td>\n",
       "      <td>United Kingdom</td>\n",
       "      <td>85123A</td>\n",
       "      <td>WHITE HANGING HEART T-LIGHT HOLDER</td>\n",
       "      <td>6</td>\n",
       "    </tr>\n",
       "    <tr>\n",
       "      <th>1</th>\n",
       "      <td>536365</td>\n",
       "      <td>01/12/10 08:26</td>\n",
       "      <td>3,39</td>\n",
       "      <td>17850.0</td>\n",
       "      <td>United Kingdom</td>\n",
       "      <td>71053</td>\n",
       "      <td>WHITE METAL LANTERN</td>\n",
       "      <td>6</td>\n",
       "    </tr>\n",
       "    <tr>\n",
       "      <th>2</th>\n",
       "      <td>536365</td>\n",
       "      <td>01/12/10 08:26</td>\n",
       "      <td>2,75</td>\n",
       "      <td>17850.0</td>\n",
       "      <td>United Kingdom</td>\n",
       "      <td>84406B</td>\n",
       "      <td>CREAM CUPID HEARTS COAT HANGER</td>\n",
       "      <td>8</td>\n",
       "    </tr>\n",
       "    <tr>\n",
       "      <th>3</th>\n",
       "      <td>536365</td>\n",
       "      <td>01/12/10 08:26</td>\n",
       "      <td>3,39</td>\n",
       "      <td>17850.0</td>\n",
       "      <td>United Kingdom</td>\n",
       "      <td>84029G</td>\n",
       "      <td>KNITTED UNION FLAG HOT WATER BOTTLE</td>\n",
       "      <td>6</td>\n",
       "    </tr>\n",
       "    <tr>\n",
       "      <th>4</th>\n",
       "      <td>536365</td>\n",
       "      <td>01/12/10 08:26</td>\n",
       "      <td>3,39</td>\n",
       "      <td>17850.0</td>\n",
       "      <td>United Kingdom</td>\n",
       "      <td>84029E</td>\n",
       "      <td>RED WOOLLY HOTTIE WHITE HEART.</td>\n",
       "      <td>6</td>\n",
       "    </tr>\n",
       "    <tr>\n",
       "      <th>...</th>\n",
       "      <td>...</td>\n",
       "      <td>...</td>\n",
       "      <td>...</td>\n",
       "      <td>...</td>\n",
       "      <td>...</td>\n",
       "      <td>...</td>\n",
       "      <td>...</td>\n",
       "      <td>...</td>\n",
       "    </tr>\n",
       "    <tr>\n",
       "      <th>541905</th>\n",
       "      <td>581587</td>\n",
       "      <td>09/12/11 12:50</td>\n",
       "      <td>2,1</td>\n",
       "      <td>12680.0</td>\n",
       "      <td>France</td>\n",
       "      <td>22899</td>\n",
       "      <td>CHILDREN'S APRON DOLLY GIRL</td>\n",
       "      <td>6</td>\n",
       "    </tr>\n",
       "    <tr>\n",
       "      <th>541906</th>\n",
       "      <td>581587</td>\n",
       "      <td>09/12/11 12:50</td>\n",
       "      <td>4,15</td>\n",
       "      <td>12680.0</td>\n",
       "      <td>France</td>\n",
       "      <td>23254</td>\n",
       "      <td>CHILDRENS CUTLERY DOLLY GIRL</td>\n",
       "      <td>4</td>\n",
       "    </tr>\n",
       "    <tr>\n",
       "      <th>541907</th>\n",
       "      <td>581587</td>\n",
       "      <td>09/12/11 12:50</td>\n",
       "      <td>4,15</td>\n",
       "      <td>12680.0</td>\n",
       "      <td>France</td>\n",
       "      <td>23255</td>\n",
       "      <td>CHILDRENS CUTLERY CIRCUS PARADE</td>\n",
       "      <td>4</td>\n",
       "    </tr>\n",
       "    <tr>\n",
       "      <th>541908</th>\n",
       "      <td>581587</td>\n",
       "      <td>09/12/11 12:50</td>\n",
       "      <td>4,95</td>\n",
       "      <td>12680.0</td>\n",
       "      <td>France</td>\n",
       "      <td>22138</td>\n",
       "      <td>BAKING SET 9 PIECE RETROSPOT</td>\n",
       "      <td>3</td>\n",
       "    </tr>\n",
       "    <tr>\n",
       "      <th>541909</th>\n",
       "      <td>581587</td>\n",
       "      <td>09/12/11 12:50</td>\n",
       "      <td>18</td>\n",
       "      <td>12680.0</td>\n",
       "      <td>France</td>\n",
       "      <td>POST</td>\n",
       "      <td>POSTAGE</td>\n",
       "      <td>1</td>\n",
       "    </tr>\n",
       "  </tbody>\n",
       "</table>\n",
       "<p>466678 rows × 8 columns</p>\n",
       "</div>"
      ],
      "text/plain": [
       "       BasketID      BasketDate  Sale  CustomerID CustomerCountry  ProdID  \\\n",
       "0        536365  01/12/10 08:26  2,55     17850.0  United Kingdom  85123A   \n",
       "1        536365  01/12/10 08:26  3,39     17850.0  United Kingdom   71053   \n",
       "2        536365  01/12/10 08:26  2,75     17850.0  United Kingdom  84406B   \n",
       "3        536365  01/12/10 08:26  3,39     17850.0  United Kingdom  84029G   \n",
       "4        536365  01/12/10 08:26  3,39     17850.0  United Kingdom  84029E   \n",
       "...         ...             ...   ...         ...             ...     ...   \n",
       "541905   581587  09/12/11 12:50   2,1     12680.0          France   22899   \n",
       "541906   581587  09/12/11 12:50  4,15     12680.0          France   23254   \n",
       "541907   581587  09/12/11 12:50  4,15     12680.0          France   23255   \n",
       "541908   581587  09/12/11 12:50  4,95     12680.0          France   22138   \n",
       "541909   581587  09/12/11 12:50    18     12680.0          France    POST   \n",
       "\n",
       "                                  ProdDescr  Qta  \n",
       "0        WHITE HANGING HEART T-LIGHT HOLDER    6  \n",
       "1                       WHITE METAL LANTERN    6  \n",
       "2            CREAM CUPID HEARTS COAT HANGER    8  \n",
       "3       KNITTED UNION FLAG HOT WATER BOTTLE    6  \n",
       "4            RED WOOLLY HOTTIE WHITE HEART.    6  \n",
       "...                                     ...  ...  \n",
       "541905         CHILDREN'S APRON DOLLY GIRL     6  \n",
       "541906        CHILDRENS CUTLERY DOLLY GIRL     4  \n",
       "541907      CHILDRENS CUTLERY CIRCUS PARADE    4  \n",
       "541908        BAKING SET 9 PIECE RETROSPOT     3  \n",
       "541909                              POSTAGE    1  \n",
       "\n",
       "[466678 rows x 8 columns]"
      ]
     },
     "execution_count": 8,
     "metadata": {},
     "output_type": "execute_result"
    }
   ],
   "source": [
    "# OPTION 2: directly drop rows containing letters in the 'Sale' filed\n",
    "df.drop(df[ df['Sale'].str.contains(r'[a-zA-Z]') ].index)"
   ]
  },
  {
   "cell_type": "markdown",
   "metadata": {
    "pycharm": {
     "name": "#%% md\n"
    }
   },
   "source": [
    "The attribute _Sale_ does not contain any null value or letters, only numbers.<br>\n",
    "We need now to substitute commas with dots and cast the field into float"
   ]
  },
  {
   "cell_type": "code",
   "execution_count": 9,
   "metadata": {
    "pycharm": {
     "name": "#%%\n"
    }
   },
   "outputs": [
    {
     "name": "stdout",
     "output_type": "stream",
     "text": [
      "Changed commas into dots\n",
      "Changed type from str to float64\n",
      "\n",
      "<class 'pandas.core.frame.DataFrame'>\n",
      "Int64Index: 465394 entries, 0 to 541909\n",
      "Data columns (total 8 columns):\n",
      " #   Column           Non-Null Count   Dtype  \n",
      "---  ------           --------------   -----  \n",
      " 0   BasketID         465394 non-null  object \n",
      " 1   BasketDate       465394 non-null  object \n",
      " 2   Sale             465394 non-null  float64\n",
      " 3   CustomerID       401561 non-null  float64\n",
      " 4   CustomerCountry  465394 non-null  object \n",
      " 5   ProdID           465394 non-null  object \n",
      " 6   ProdDescr        465394 non-null  object \n",
      " 7   Qta              465394 non-null  int64  \n",
      "dtypes: float64(2), int64(1), object(5)\n",
      "memory usage: 32.0+ MB\n"
     ]
    }
   ],
   "source": [
    "# Replace commas with dots and make 'Sale' a float\n",
    "df['Sale'].replace(to_replace=r'(\\d+),(\\d*)', value=r'\\1.\\2', regex=True, inplace=True)\n",
    "df['Sale'] = df['Sale'].astype(float)\n",
    "print('Changed commas into dots')\n",
    "print('Changed type from str to float64\\n')\n",
    "# drop all rows where sale is zero (free stuf not allowed)\n",
    "df.drop(df[df['Sale'] < 0.01].index, inplace=True)\n",
    "df.info()"
   ]
  },
  {
   "cell_type": "markdown",
   "metadata": {},
   "source": [
    "# Trying new stuff"
   ]
  },
  {
   "cell_type": "code",
   "execution_count": 33,
   "metadata": {},
   "outputs": [
    {
     "data": {
      "text/plain": [
       "{'whiskers': [<matplotlib.lines.Line2D at 0x26aaa119100>,\n",
       "  <matplotlib.lines.Line2D at 0x26aaa119be0>],\n",
       " 'caps': [<matplotlib.lines.Line2D at 0x26aaa119fd0>,\n",
       "  <matplotlib.lines.Line2D at 0x26aaa12bf70>],\n",
       " 'boxes': [<matplotlib.lines.Line2D at 0x26aa83d75e0>],\n",
       " 'medians': [<matplotlib.lines.Line2D at 0x26ab80160d0>],\n",
       " 'fliers': [<matplotlib.lines.Line2D at 0x26aaaa8c190>],\n",
       " 'means': []}"
      ]
     },
     "execution_count": 33,
     "metadata": {},
     "output_type": "execute_result"
    },
    {
     "data": {
      "image/png": "[encoded data removed]",
      "text/plain": [
       "<Figure size 1080x360 with 2 Axes>"
      ]
     },
     "metadata": {
      "needs_background": "light"
     },
     "output_type": "display_data"
    }
   ],
   "source": [
    "f, ax = plt.subplots(1,2,figsize=(15, 5))\n",
    "f.suptitle('Attribute boxplots')\n",
    "\n",
    "ax[0].boxplot(df[df.columns[2]], labels = [df.columns[2]])\n",
    "ax[1].boxplot(df[df.columns[7]], labels = [df.columns[7]])\n",
    "    "
   ]
  },
  {
   "cell_type": "code",
   "execution_count": 31,
   "metadata": {},
   "outputs": [
    {
     "data": {
      "text/html": [
       "<div>\n",
       "<style scoped>\n",
       "    .dataframe tbody tr th:only-of-type {\n",
       "        vertical-align: middle;\n",
       "    }\n",
       "\n",
       "    .dataframe tbody tr th {\n",
       "        vertical-align: top;\n",
       "    }\n",
       "\n",
       "    .dataframe thead th {\n",
       "        text-align: right;\n",
       "    }\n",
       "</style>\n",
       "<table border=\"1\" class=\"dataframe\">\n",
       "  <thead>\n",
       "    <tr style=\"text-align: right;\">\n",
       "      <th></th>\n",
       "      <th>BasketID</th>\n",
       "      <th>BasketDate</th>\n",
       "      <th>Sale</th>\n",
       "      <th>CustomerID</th>\n",
       "      <th>CustomerCountry</th>\n",
       "      <th>ProdID</th>\n",
       "      <th>ProdDescr</th>\n",
       "      <th>Qta</th>\n",
       "    </tr>\n",
       "  </thead>\n",
       "  <tbody>\n",
       "    <tr>\n",
       "      <th>222681</th>\n",
       "      <td>C556445</td>\n",
       "      <td>10/06/11 15:31</td>\n",
       "      <td>38970.0</td>\n",
       "      <td>15098</td>\n",
       "      <td>United Kingdom</td>\n",
       "      <td>M</td>\n",
       "      <td>Manual</td>\n",
       "      <td>-1</td>\n",
       "    </tr>\n",
       "  </tbody>\n",
       "</table>\n",
       "</div>"
      ],
      "text/plain": [
       "       BasketID      BasketDate     Sale  CustomerID CustomerCountry ProdID  \\\n",
       "222681  C556445  10/06/11 15:31  38970.0       15098  United Kingdom      M   \n",
       "\n",
       "       ProdDescr  Qta  \n",
       "222681    Manual   -1  "
      ]
     },
     "execution_count": 31,
     "metadata": {},
     "output_type": "execute_result"
    }
   ],
   "source": [
    "df[df['Sale'] > 10000]"
   ]
  },
  {
   "cell_type": "code",
   "execution_count": 22,
   "metadata": {},
   "outputs": [
    {
     "data": {
      "text/html": [
       "<div>\n",
       "<style scoped>\n",
       "    .dataframe tbody tr th:only-of-type {\n",
       "        vertical-align: middle;\n",
       "    }\n",
       "\n",
       "    .dataframe tbody tr th {\n",
       "        vertical-align: top;\n",
       "    }\n",
       "\n",
       "    .dataframe thead th {\n",
       "        text-align: right;\n",
       "    }\n",
       "</style>\n",
       "<table border=\"1\" class=\"dataframe\">\n",
       "  <thead>\n",
       "    <tr style=\"text-align: right;\">\n",
       "      <th></th>\n",
       "      <th>BasketID</th>\n",
       "      <th>BasketDate</th>\n",
       "      <th>Sale</th>\n",
       "      <th>CustomerID</th>\n",
       "      <th>CustomerCountry</th>\n",
       "      <th>ProdID</th>\n",
       "      <th>ProdDescr</th>\n",
       "      <th>Qta</th>\n",
       "    </tr>\n",
       "  </thead>\n",
       "  <tbody>\n",
       "    <tr>\n",
       "      <th>4268</th>\n",
       "      <td>C536757</td>\n",
       "      <td>02/12/10 14:23</td>\n",
       "      <td>0.03</td>\n",
       "      <td>15838.0</td>\n",
       "      <td>United Kingdom</td>\n",
       "      <td>84347</td>\n",
       "      <td>ROTATING SILVER ANGELS T-LIGHT HLDR</td>\n",
       "      <td>-9360</td>\n",
       "    </tr>\n",
       "    <tr>\n",
       "      <th>61619</th>\n",
       "      <td>541431</td>\n",
       "      <td>18/01/11 10:01</td>\n",
       "      <td>1.04</td>\n",
       "      <td>12346.0</td>\n",
       "      <td>United Kingdom</td>\n",
       "      <td>23166</td>\n",
       "      <td>MEDIUM CERAMIC TOP STORAGE JAR</td>\n",
       "      <td>74215</td>\n",
       "    </tr>\n",
       "    <tr>\n",
       "      <th>61624</th>\n",
       "      <td>C541433</td>\n",
       "      <td>18/01/11 10:17</td>\n",
       "      <td>1.04</td>\n",
       "      <td>12346.0</td>\n",
       "      <td>United Kingdom</td>\n",
       "      <td>23166</td>\n",
       "      <td>MEDIUM CERAMIC TOP STORAGE JAR</td>\n",
       "      <td>-74215</td>\n",
       "    </tr>\n",
       "    <tr>\n",
       "      <th>540421</th>\n",
       "      <td>581483</td>\n",
       "      <td>09/12/11 09:15</td>\n",
       "      <td>2.08</td>\n",
       "      <td>16446.0</td>\n",
       "      <td>United Kingdom</td>\n",
       "      <td>23843</td>\n",
       "      <td>PAPER CRAFT , LITTLE BIRDIE</td>\n",
       "      <td>80995</td>\n",
       "    </tr>\n",
       "    <tr>\n",
       "      <th>540422</th>\n",
       "      <td>C581484</td>\n",
       "      <td>09/12/11 09:27</td>\n",
       "      <td>2.08</td>\n",
       "      <td>16446.0</td>\n",
       "      <td>United Kingdom</td>\n",
       "      <td>23843</td>\n",
       "      <td>PAPER CRAFT , LITTLE BIRDIE</td>\n",
       "      <td>-80995</td>\n",
       "    </tr>\n",
       "  </tbody>\n",
       "</table>\n",
       "</div>"
      ],
      "text/plain": [
       "       BasketID      BasketDate  Sale  CustomerID CustomerCountry ProdID  \\\n",
       "4268    C536757  02/12/10 14:23  0.03     15838.0  United Kingdom  84347   \n",
       "61619    541431  18/01/11 10:01  1.04     12346.0  United Kingdom  23166   \n",
       "61624   C541433  18/01/11 10:17  1.04     12346.0  United Kingdom  23166   \n",
       "540421   581483  09/12/11 09:15  2.08     16446.0  United Kingdom  23843   \n",
       "540422  C581484  09/12/11 09:27  2.08     16446.0  United Kingdom  23843   \n",
       "\n",
       "                                  ProdDescr    Qta  \n",
       "4268    ROTATING SILVER ANGELS T-LIGHT HLDR  -9360  \n",
       "61619        MEDIUM CERAMIC TOP STORAGE JAR  74215  \n",
       "61624        MEDIUM CERAMIC TOP STORAGE JAR -74215  \n",
       "540421          PAPER CRAFT , LITTLE BIRDIE  80995  \n",
       "540422          PAPER CRAFT , LITTLE BIRDIE -80995  "
      ]
     },
     "execution_count": 22,
     "metadata": {},
     "output_type": "execute_result"
    }
   ],
   "source": [
    "df[abs(df['Qta']) > 5000]"
   ]
  },
  {
   "cell_type": "code",
   "execution_count": 23,
   "metadata": {},
   "outputs": [
    {
     "data": {
      "text/html": [
       "<div>\n",
       "<style scoped>\n",
       "    .dataframe tbody tr th:only-of-type {\n",
       "        vertical-align: middle;\n",
       "    }\n",
       "\n",
       "    .dataframe tbody tr th {\n",
       "        vertical-align: top;\n",
       "    }\n",
       "\n",
       "    .dataframe thead th {\n",
       "        text-align: right;\n",
       "    }\n",
       "</style>\n",
       "<table border=\"1\" class=\"dataframe\">\n",
       "  <thead>\n",
       "    <tr style=\"text-align: right;\">\n",
       "      <th></th>\n",
       "      <th>BasketID</th>\n",
       "      <th>BasketDate</th>\n",
       "      <th>Sale</th>\n",
       "      <th>CustomerID</th>\n",
       "      <th>CustomerCountry</th>\n",
       "      <th>ProdID</th>\n",
       "      <th>ProdDescr</th>\n",
       "      <th>Qta</th>\n",
       "    </tr>\n",
       "  </thead>\n",
       "  <tbody>\n",
       "    <tr>\n",
       "      <th>4268</th>\n",
       "      <td>C536757</td>\n",
       "      <td>02/12/10 14:23</td>\n",
       "      <td>0.03</td>\n",
       "      <td>15838.0</td>\n",
       "      <td>United Kingdom</td>\n",
       "      <td>84347</td>\n",
       "      <td>ROTATING SILVER ANGELS T-LIGHT HLDR</td>\n",
       "      <td>-9360</td>\n",
       "    </tr>\n",
       "    <tr>\n",
       "      <th>14269</th>\n",
       "      <td>537476</td>\n",
       "      <td>07/12/10 11:26</td>\n",
       "      <td>1.85</td>\n",
       "      <td>15838.0</td>\n",
       "      <td>United Kingdom</td>\n",
       "      <td>22379</td>\n",
       "      <td>RECYCLING BAG RETROSPOT</td>\n",
       "      <td>150</td>\n",
       "    </tr>\n",
       "    <tr>\n",
       "      <th>14270</th>\n",
       "      <td>537476</td>\n",
       "      <td>07/12/10 11:26</td>\n",
       "      <td>1.85</td>\n",
       "      <td>15838.0</td>\n",
       "      <td>United Kingdom</td>\n",
       "      <td>22381</td>\n",
       "      <td>TOY TIDY PINK POLKADOT</td>\n",
       "      <td>100</td>\n",
       "    </tr>\n",
       "    <tr>\n",
       "      <th>14271</th>\n",
       "      <td>537476</td>\n",
       "      <td>07/12/10 11:26</td>\n",
       "      <td>1.65</td>\n",
       "      <td>15838.0</td>\n",
       "      <td>United Kingdom</td>\n",
       "      <td>85099B</td>\n",
       "      <td>JUMBO BAG RED RETROSPOT</td>\n",
       "      <td>300</td>\n",
       "    </tr>\n",
       "    <tr>\n",
       "      <th>79207</th>\n",
       "      <td>542921</td>\n",
       "      <td>02/02/11 07:58</td>\n",
       "      <td>1.85</td>\n",
       "      <td>15838.0</td>\n",
       "      <td>United Kingdom</td>\n",
       "      <td>22379</td>\n",
       "      <td>RECYCLING BAG RETROSPOT</td>\n",
       "      <td>100</td>\n",
       "    </tr>\n",
       "    <tr>\n",
       "      <th>...</th>\n",
       "      <td>...</td>\n",
       "      <td>...</td>\n",
       "      <td>...</td>\n",
       "      <td>...</td>\n",
       "      <td>...</td>\n",
       "      <td>...</td>\n",
       "      <td>...</td>\n",
       "      <td>...</td>\n",
       "    </tr>\n",
       "    <tr>\n",
       "      <th>506975</th>\n",
       "      <td>579163</td>\n",
       "      <td>28/11/11 13:59</td>\n",
       "      <td>1.79</td>\n",
       "      <td>15838.0</td>\n",
       "      <td>United Kingdom</td>\n",
       "      <td>22865</td>\n",
       "      <td>HAND WARMER OWL DESIGN</td>\n",
       "      <td>96</td>\n",
       "    </tr>\n",
       "    <tr>\n",
       "      <th>506976</th>\n",
       "      <td>579163</td>\n",
       "      <td>28/11/11 13:59</td>\n",
       "      <td>1.79</td>\n",
       "      <td>15838.0</td>\n",
       "      <td>United Kingdom</td>\n",
       "      <td>22633</td>\n",
       "      <td>HAND WARMER UNION JACK</td>\n",
       "      <td>96</td>\n",
       "    </tr>\n",
       "    <tr>\n",
       "      <th>506977</th>\n",
       "      <td>579163</td>\n",
       "      <td>28/11/11 13:59</td>\n",
       "      <td>1.45</td>\n",
       "      <td>15838.0</td>\n",
       "      <td>United Kingdom</td>\n",
       "      <td>22759</td>\n",
       "      <td>SET OF 3 NOTEBOOKS IN PARCEL</td>\n",
       "      <td>144</td>\n",
       "    </tr>\n",
       "    <tr>\n",
       "      <th>506978</th>\n",
       "      <td>579164</td>\n",
       "      <td>28/11/11 14:00</td>\n",
       "      <td>1.85</td>\n",
       "      <td>15838.0</td>\n",
       "      <td>United Kingdom</td>\n",
       "      <td>22866</td>\n",
       "      <td>HAND WARMER SCOTTY DOG DESIGN</td>\n",
       "      <td>96</td>\n",
       "    </tr>\n",
       "    <tr>\n",
       "      <th>506979</th>\n",
       "      <td>579164</td>\n",
       "      <td>28/11/11 14:00</td>\n",
       "      <td>1.79</td>\n",
       "      <td>15838.0</td>\n",
       "      <td>United Kingdom</td>\n",
       "      <td>22865</td>\n",
       "      <td>HAND WARMER OWL DESIGN</td>\n",
       "      <td>36</td>\n",
       "    </tr>\n",
       "  </tbody>\n",
       "</table>\n",
       "<p>169 rows × 8 columns</p>\n",
       "</div>"
      ],
      "text/plain": [
       "       BasketID      BasketDate  Sale  CustomerID CustomerCountry  ProdID  \\\n",
       "4268    C536757  02/12/10 14:23  0.03     15838.0  United Kingdom   84347   \n",
       "14269    537476  07/12/10 11:26  1.85     15838.0  United Kingdom   22379   \n",
       "14270    537476  07/12/10 11:26  1.85     15838.0  United Kingdom   22381   \n",
       "14271    537476  07/12/10 11:26  1.65     15838.0  United Kingdom  85099B   \n",
       "79207    542921  02/02/11 07:58  1.85     15838.0  United Kingdom   22379   \n",
       "...         ...             ...   ...         ...             ...     ...   \n",
       "506975   579163  28/11/11 13:59  1.79     15838.0  United Kingdom   22865   \n",
       "506976   579163  28/11/11 13:59  1.79     15838.0  United Kingdom   22633   \n",
       "506977   579163  28/11/11 13:59  1.45     15838.0  United Kingdom   22759   \n",
       "506978   579164  28/11/11 14:00  1.85     15838.0  United Kingdom   22866   \n",
       "506979   579164  28/11/11 14:00  1.79     15838.0  United Kingdom   22865   \n",
       "\n",
       "                                  ProdDescr   Qta  \n",
       "4268    ROTATING SILVER ANGELS T-LIGHT HLDR -9360  \n",
       "14269              RECYCLING BAG RETROSPOT    150  \n",
       "14270                TOY TIDY PINK POLKADOT   100  \n",
       "14271               JUMBO BAG RED RETROSPOT   300  \n",
       "79207              RECYCLING BAG RETROSPOT    100  \n",
       "...                                     ...   ...  \n",
       "506975               HAND WARMER OWL DESIGN    96  \n",
       "506976               HAND WARMER UNION JACK    96  \n",
       "506977         SET OF 3 NOTEBOOKS IN PARCEL   144  \n",
       "506978        HAND WARMER SCOTTY DOG DESIGN    96  \n",
       "506979               HAND WARMER OWL DESIGN    36  \n",
       "\n",
       "[169 rows x 8 columns]"
      ]
     },
     "execution_count": 23,
     "metadata": {},
     "output_type": "execute_result"
    }
   ],
   "source": [
    "df[abs(df['CustomerID']) == 15838.0]"
   ]
  },
  {
   "cell_type": "markdown",
   "metadata": {
    "pycharm": {
     "name": "#%% md\n"
    }
   },
   "source": [
    "There are some clear outliers, let's see if we can improve the situation by cleaning other attributes first..."
   ]
  },
  {
   "cell_type": "markdown",
   "metadata": {
    "pycharm": {
     "name": "#%% md\n"
    }
   },
   "source": [
    "### Analyzing _Qta_:\n",
    "* Check rows with **negative** quantity:"
   ]
  },
  {
   "cell_type": "code",
   "execution_count": 24,
   "metadata": {
    "pycharm": {
     "name": "#%%\n"
    }
   },
   "outputs": [
    {
     "data": {
      "application/vnd.jupyter.widget-view+json": {
       "model_id": "d20d2e4e485e480ebccf5f74cfce8753",
       "version_major": 2,
       "version_minor": 0
      },
      "text/plain": [
       "HBox(children=(HTML(value='Iterating over negative Qta rows'), FloatProgress(value=0.0, max=9051.0), HTML(valu…"
      ]
     },
     "metadata": {},
     "output_type": "display_data"
    },
    {
     "name": "stdout",
     "output_type": "stream",
     "text": [
      "\n",
      "Number of rows with negative Qta:  9051\n",
      "Number of rows with negative Qta and a normal BaskedID:  0\n",
      "Number of rows with negative Qta and an empty/null/'?' ProdDescr:  0\n",
      "Number of rows with negative Qta and a null/nan/empty CustomerID:  179\n"
     ]
    }
   ],
   "source": [
    "# Check rows with negative quantity\n",
    "bid_normal = 0  # counter of rows with normal BasketID (but negative Qta)\n",
    "proddescr_null = 0  # counter of rows with a empty or null or '?' ProdDescr\n",
    "cid_null = 0    # counter of rows with a null/nan/empty CustomerID\n",
    "neg_df = df[df['Qta'] < 0]\n",
    "\n",
    "for index, row in tqdm(neg_df.iterrows(), total=len(neg_df), desc=\"Iterating over negative Qta rows\"):\n",
    "    bid_normal += 1 if (not 'C' in row['BasketID'] and not 'A' in row['BasketID']) else 0\n",
    "    proddescr_null += 1 if row['ProdDescr'] in ('','?') else 0\n",
    "    cid_null += 1 if pd.isna(row['CustomerID']) else 0\n",
    "\n",
    "print(\"Number of rows with negative Qta: \", len(df[df['Qta'] < 0]))\n",
    "print(\"Number of rows with negative Qta and a normal BaskedID: \", bid_normal)\n",
    "print(\"Number of rows with negative Qta and an empty/null/'?' ProdDescr: \", proddescr_null)\n",
    "print(\"Number of rows with negative Qta and a null/nan/empty CustomerID: \", cid_null)"
   ]
  },
  {
   "cell_type": "markdown",
   "metadata": {
    "pycharm": {
     "name": "#%% md\n"
    }
   },
   "source": [
    "### Analyzing _CustomerID_:\n",
    "* Check for how many orders it's not possible to find a _CustomerID_\n",
    "* Remove entries with no retrievable _CustomerID_\n",
    "* Make _CustomerID_ of type **int**"
   ]
  },
  {
   "cell_type": "code",
   "execution_count": 25,
   "metadata": {
    "pycharm": {
     "name": "#%%\n"
    }
   },
   "outputs": [
    {
     "data": {
      "application/vnd.jupyter.widget-view+json": {
       "model_id": "baf5e64193664d01b8daee9d668aede5",
       "version_major": 2,
       "version_minor": 0
      },
      "text/plain": [
       "HBox(children=(HTML(value='Checking rows with no CustomerID'), FloatProgress(value=0.0, max=465394.0), HTML(va…"
      ]
     },
     "metadata": {},
     "output_type": "display_data"
    },
    {
     "name": "stdout",
     "output_type": "stream",
     "text": [
      "\n",
      "Number of distinct orders:  23562\n",
      "Number of orders without CustomerID:  1376\n"
     ]
    }
   ],
   "source": [
    "\"\"\"\n",
    "Check for which BaskedIDs it's not possible to find a CustomerID:\n",
    "    - if a CustomerID is NaN, but there exist a row with the same BaskedID and CustomerID != Nan, then we have a customer for that order.\n",
    "\n",
    "We produce a dictionary with BaskedIDs as keys and boolean values:\n",
    "    - if there's a customer for that BaskedID, it's True, otherwise it's False\n",
    "\"\"\"\n",
    "\n",
    "#print(\"Checking rows with no CustomerID...\")\n",
    "orders_have_customer = dict(zip(\n",
    "    df['BasketID'].unique(),    # keys\n",
    "    [False] * len(df['BasketID'].unique()))  # values (initially False for every key)\n",
    ")\n",
    "\n",
    "for index, row in tqdm(df.iterrows(), total=len(df), desc=\"Checking rows with no CustomerID\"):\n",
    "    if not pd.isna(row['CustomerID']):\n",
    "        orders_have_customer[row['BasketID']] = True\n",
    "\n",
    "orders_wo_cust = [] # list of orders without CustomerID\n",
    "for k, v in orders_have_customer.items():\n",
    "    if not v:\n",
    "        orders_wo_cust.append(k)\n",
    "\n",
    "del orders_have_customer\n",
    "print(\"Number of distinct orders: \", len(df['BasketID'].unique()))\n",
    "print(\"Number of orders without CustomerID: \", len(orders_wo_cust))"
   ]
  },
  {
   "cell_type": "code",
   "execution_count": 26,
   "metadata": {
    "pycharm": {
     "name": "#%%\n"
    }
   },
   "outputs": [
    {
     "name": "stdout",
     "output_type": "stream",
     "text": [
      "The dataframe contains now 401561 rows\n",
      "Remaining entries with a NaN CustomerID: 0\n"
     ]
    }
   ],
   "source": [
    "# Delete from dataframe records belonging to orders without customer\n",
    "df = df[~df['BasketID'].isin(orders_wo_cust)]\n",
    "del orders_wo_cust\n",
    "print(f\"The dataframe contains now {len(df)} rows\")\n",
    "print(f\"Remaining entries with a NaN CustomerID: {len(df[pd.isna(df['CustomerID'])])}\")"
   ]
  },
  {
   "cell_type": "code",
   "execution_count": 27,
   "metadata": {
    "pycharm": {
     "name": "#%%\n"
    }
   },
   "outputs": [
    {
     "name": "stdout",
     "output_type": "stream",
     "text": [
      "Number of CustomerIDs with decimal part != 0:  0\n"
     ]
    }
   ],
   "source": [
    "# Check if the decimal part is always 0\n",
    "count_decpart_nonzero = 0\n",
    "for elem in df['CustomerID']:\n",
    "    if elem % 1.0 != 0.0 and not pd.isnull(elem):\n",
    "        count_decpart_nonzero += 1\n",
    "print('Number of CustomerIDs with decimal part != 0: ', count_decpart_nonzero)"
   ]
  },
  {
   "cell_type": "code",
   "execution_count": 28,
   "metadata": {
    "pycharm": {
     "name": "#%%\n"
    }
   },
   "outputs": [
    {
     "data": {
      "text/plain": [
       "BasketID            object\n",
       "BasketDate          object\n",
       "Sale               float64\n",
       "CustomerID           int32\n",
       "CustomerCountry     object\n",
       "ProdID              object\n",
       "ProdDescr           object\n",
       "Qta                  int64\n",
       "dtype: object"
      ]
     },
     "execution_count": 28,
     "metadata": {},
     "output_type": "execute_result"
    }
   ],
   "source": [
    "# Make 'CustomerID' of type int\n",
    "if count_decpart_nonzero == 0:\n",
    "    df = df.astype({'CustomerID': int})\n",
    "\n",
    "df.dtypes"
   ]
  },
  {
   "cell_type": "markdown",
   "metadata": {
    "pycharm": {
     "name": "#%% md\n"
    }
   },
   "source": [
    "Let's perform again the analysis on Qta we did before analysing CustomerID:"
   ]
  },
  {
   "cell_type": "code",
   "execution_count": 29,
   "metadata": {
    "pycharm": {
     "name": "#%%\n"
    }
   },
   "outputs": [
    {
     "data": {
      "application/vnd.jupyter.widget-view+json": {
       "model_id": "8bf4fa73ea21414b812c6e1a8633388c",
       "version_major": 2,
       "version_minor": 0
      },
      "text/plain": [
       "HBox(children=(HTML(value='Iterating over negative Qta rows'), FloatProgress(value=0.0, max=8872.0), HTML(valu…"
      ]
     },
     "metadata": {},
     "output_type": "display_data"
    },
    {
     "name": "stdout",
     "output_type": "stream",
     "text": [
      "\n",
      "Number of rows with negative Qta:  8872\n",
      "Number of rows with negative Qta and a normal BaskedID:  0\n",
      "Number of rows with negative Qta and an empty/null/'?' ProdDescr:  0\n",
      "Number of rows with negative Qta and a null/nan/empty CustomerID:  0\n"
     ]
    }
   ],
   "source": [
    "# Check rows with negative quantity\n",
    "bid_normal = 0  # counter of rows with normal BasketID (but negative Qta)\n",
    "proddescr_null = 0  # counter of rows with a empty or null or '?' ProdDescr\n",
    "cid_null = 0    # counter of rows with a null/nan/empty CustomerID\n",
    "neg_df = df[df['Qta'] < 0]\n",
    "\n",
    "for index, row in tqdm(neg_df.iterrows(), total=len(neg_df), desc=\"Iterating over negative Qta rows\"):\n",
    "    bid_normal += 1 if (not 'C' in row['BasketID'] and not 'A' in row['BasketID']) else 0\n",
    "    proddescr_null += 1 if row['ProdDescr'] in ('','?') else 0\n",
    "    cid_null += 1 if pd.isna(row['CustomerID']) else 0\n",
    "\n",
    "print(\"Number of rows with negative Qta: \", len(df[df['Qta'] < 0]))\n",
    "print(\"Number of rows with negative Qta and a normal BaskedID: \", bid_normal)\n",
    "print(\"Number of rows with negative Qta and an empty/null/'?' ProdDescr: \", proddescr_null)\n",
    "print(\"Number of rows with negative Qta and a null/nan/empty CustomerID: \", cid_null)"
   ]
  },
  {
   "cell_type": "markdown",
   "metadata": {
    "pycharm": {
     "name": "#%% md\n"
    }
   },
   "source": [
    "This shows that every row of the orders with a NaN _CustomerID_ had also\n",
    "anomalous values of _BasketID_ and _ProdDescr_"
   ]
  },
  {
   "cell_type": "code",
   "execution_count": 32,
   "metadata": {
    "pycharm": {
     "name": "#%%\n"
    }
   },
   "outputs": [
    {
     "data": {
      "application/vnd.jupyter.widget-view+json": {
       "model_id": "2efbb00c3b1a414ca79890f3df794205",
       "version_major": 2,
       "version_minor": 0
      },
      "text/plain": [
       "HBox(children=(HTML(value='Iterating over negative Qta rows'), FloatProgress(value=0.0, max=8872.0), HTML(valu…"
      ]
     },
     "metadata": {},
     "output_type": "display_data"
    },
    {
     "name": "stdout",
     "output_type": "stream",
     "text": [
      "\n",
      "All negative entries have a corresponding positive one:  False\n",
      "The negative entries which are not matched are:  947\n",
      "The negative entries which are matched are:  7925\n",
      "The legal negative entries are:  7831\n"
     ]
    }
   ],
   "source": [
    "all_paired = True\n",
    "count_pairs = count_legal_pairs = count_not_paired = 0\n",
    "for index, row in tqdm(df[df['Qta'] < 0].iterrows(), total=len(df[df['Qta'] < 0]), desc='Iterating over negative Qta rows'):\n",
    "    found = False\n",
    "    df_aux = df[df['CustomerID'] == row['CustomerID']]\n",
    "    df_aux = df_aux[df_aux['ProdID'] == row['ProdID']]\n",
    "    df_aux = df_aux[df_aux['Qta'] > 0]\n",
    "    if len(df_aux) > 0:\n",
    "        found = True\n",
    "        count_pairs += 1\n",
    "        for i, r in df_aux.iterrows():\n",
    "            if r['Qta'] >= abs(row['Qta']):\n",
    "                count_legal_pairs += 1\n",
    "                break\n",
    "\n",
    "    if not found:\n",
    "        all_paired = False\n",
    "        count_not_paired += 1\n",
    "\n",
    "del df_aux\n",
    "\n",
    "print(\"All negative entries have a corresponding positive one: \", all_paired)\n",
    "print(\"The negative entries which are not matched are: \", count_not_paired)\n",
    "print(\"The negative entries which are matched are: \", count_pairs)\n",
    "assert(len(df[df['Qta'] < 0]) == count_not_paired + count_pairs)\n",
    "print(\"The legal negative entries are: \", count_legal_pairs)"
   ]
  },
  {
   "cell_type": "markdown",
   "metadata": {
    "pycharm": {
     "name": "#%% md\n"
    }
   },
   "source": [
    "#### Further checks on entries with a negative quantity:<br>\n",
    "* We assume them to be returned products, but we need to check that every \"negative\" product\n",
    "has a corresponding \"positive\" one. Moreover it's necessary to be sure that the |(quantity * price)| of a\n",
    "returned product is <= of (quantity * price) of a corresponding bought one."
   ]
  },
  {
   "cell_type": "markdown",
   "metadata": {},
   "source": [
    "* We noticed some of these entries have 'Discount' as product description (ProdID = 'D'), <br>\n",
    "we want to keep these since we assume they represent relevant information about discounts which customers got duringtheir shopping."
   ]
  },
  {
   "cell_type": "code",
   "execution_count": null,
   "metadata": {
    "pycharm": {
     "name": "#%%\n"
    }
   },
   "outputs": [],
   "source": [
    "# Initialize variables to analyze correctness of negative Qta rows\n",
    "# Dictionaries indexed by tuple (CustomerID, ProdID, Sale), value is Qta (or (Qta, list(indexes)) )\n",
    "pos_quant_tot = {}\n",
    "neg_quant_tot = {}\n",
    "\n",
    "for index, row in tqdm(df.iterrows(), total=len(df), desc=\"Iterating over dataset\"):\n",
    "    if row['Qta'] > 0:\n",
    "        if (row['CustomerID'], row['ProdID'], row['Sale']) not in pos_quant_tot.keys():\n",
    "            pos_quant_tot[(row['CustomerID'], row['ProdID'], row['Sale'])] = row['Qta']\n",
    "        else:\n",
    "            pos_quant_tot[(row['CustomerID'], row['ProdID'], row['Sale'])] += row['Qta']\n",
    "\n",
    "    elif row['ProdID'] != 'D':  # exclude 'Discount' rows from those dictionaries --> they won't be dropped from df\n",
    "        if (row['CustomerID'], row['ProdID'], row['Sale']) not in neg_quant_tot.keys():\n",
    "            l = [index]\n",
    "            neg_quant_tot[(row['CustomerID'], row['ProdID'], row['Sale'])] = (-1*row['Qta'], l)\n",
    "        else:\n",
    "            prev = neg_quant_tot[(row['CustomerID'], row['ProdID'], row['Sale'])]\n",
    "            prev[1].append(index)\n",
    "            neg_quant_tot[(row['CustomerID'], row['ProdID'], row['Sale'])] = (prev[0]-row['Qta'], prev[1])\n",
    "\n",
    "positive_elements = set(pos_quant_tot.keys())\n",
    "negative_elements = set(neg_quant_tot.keys())"
   ]
  },
  {
   "cell_type": "code",
   "execution_count": null,
   "metadata": {
    "pycharm": {
     "name": "#%%\n"
    }
   },
   "outputs": [],
   "source": [
    "# drop negative Qta rows that are not matched with positive ones\n",
    "not_valid = negative_elements - (positive_elements & negative_elements)\n",
    "indexes_todelete = []\n",
    "for key in not_valid:\n",
    "    for x in neg_quant_tot[key][1]:\n",
    "        indexes_todelete.append(x)\n",
    "df.drop(indexes_todelete, inplace=True)"
   ]
  },
  {
   "cell_type": "code",
   "execution_count": null,
   "metadata": {
    "pycharm": {
     "name": "#%%\n"
    }
   },
   "outputs": [],
   "source": [
    "# drop negative Qta rows that are invalid neg_qta > pos_qta\n",
    "indexes_todelete = []\n",
    "for key in positive_elements & negative_elements:\n",
    "    if pos_quant_tot[key] < neg_quant_tot[key][0]:\n",
    "            for x in neg_quant_tot[key][1]:\n",
    "                indexes_todelete.append(x)\n",
    "df.drop(indexes_todelete, inplace=True)"
   ]
  },
  {
   "cell_type": "code",
   "execution_count": null,
   "metadata": {
    "pycharm": {
     "name": "#%%\n"
    },
    "scrolled": true
   },
   "outputs": [],
   "source": [
    "df.info()"
   ]
  },
  {
   "cell_type": "markdown",
   "metadata": {},
   "source": [
    "## Outliers analysis"
   ]
  },
  {
   "cell_type": "markdown",
   "metadata": {},
   "source": [
    "### _Sale_'s values range:"
   ]
  },
  {
   "cell_type": "code",
   "execution_count": null,
   "metadata": {
    "pycharm": {
     "name": "#%%\n"
    }
   },
   "outputs": [],
   "source": [
    "df.boxplot(column=['Sale'])"
   ]
  },
  {
   "cell_type": "code",
   "execution_count": null,
   "metadata": {},
   "outputs": [],
   "source": [
    "print(f\"Total number of rows: {len(df['Sale'])}\")\n",
    "print(f\"Number of rows with a value of 'Sale' > 3000: {len(df[df['Sale'] > 3000])}\")\n",
    "print(f\"Number of rows with a value of 'Sale' > 4000: {len(df[df['Sale'] > 4000])}\")\n",
    "print(f\"Number of rows with a value of 'Sale' > 8000: {len(df[df['Sale'] > 8000])}\")"
   ]
  },
  {
   "cell_type": "code",
   "execution_count": null,
   "metadata": {
    "scrolled": true
   },
   "outputs": [],
   "source": [
    "# Only 9 entries over 400K --> we drop this rows and replot the boxplot\n",
    "df.drop(df[df['Sale'] > 3000].index, inplace=True)\n",
    "df.boxplot(column=['Sale'])"
   ]
  },
  {
   "cell_type": "markdown",
   "metadata": {
    "pycharm": {
     "name": "#%% md\n"
    }
   },
   "source": [
    "### _Qta_'s values ranges:"
   ]
  },
  {
   "cell_type": "code",
   "execution_count": null,
   "metadata": {
    "pycharm": {
     "name": "#%%\n"
    }
   },
   "outputs": [],
   "source": [
    "df.boxplot(column=['Qta'])\n",
    "limit = 10000\n",
    "print(f\"Number of rows with a value of 'Qta' > 10000: {len(df[df['Qta'] > limit])}\")\n",
    "print(f\"Number of rows with a value of 'Qta' < -10000: {len(df[df['Qta'] < -limit])}\")"
   ]
  },
  {
   "cell_type": "code",
   "execution_count": null,
   "metadata": {
    "pycharm": {
     "name": "#%%\n"
    }
   },
   "outputs": [],
   "source": [
    "# print anomalous rows\n",
    "print('Rows with a quantity value grater than 60000 or less than -60000:\\n')\n",
    "for index, row in df[(df['Qta'] > limit) | (df['Qta'] < -limit)].iterrows():\n",
    "    print(row, '\\n')"
   ]
  },
  {
   "cell_type": "markdown",
   "metadata": {
    "pycharm": {
     "name": "#%% md\n"
    }
   },
   "source": [
    "For each of the 2 rows with a _Qta_ grater than 60000 there's a row with exactly\n",
    "the opposite value of _Qta_ and the same _CustomerID_, _ProdID_ and _ProdDescr_.<br>\n",
    "Even though they \"eliminate each other\", we drop them because we consider them outliers"
   ]
  },
  {
   "cell_type": "code",
   "execution_count": null,
   "metadata": {},
   "outputs": [],
   "source": [
    "df.drop(df[(df['Qta'] < -limit) | (df['Qta'] > limit)].index, inplace=True)\n",
    "df.boxplot(column=['Qta'])"
   ]
  },
  {
   "cell_type": "markdown",
   "metadata": {},
   "source": [
    "# Suspect product IDs analysis"
   ]
  },
  {
   "cell_type": "markdown",
   "metadata": {},
   "source": [
    "### Analyzing Sale we can still see a well defined outlier-like region where Sale > 1000"
   ]
  },
  {
   "cell_type": "code",
   "execution_count": null,
   "metadata": {},
   "outputs": [],
   "source": [
    "df.boxplot(column=['Sale'])\n",
    "\n",
    "print(f\"Total number of rows: {len(df['Sale'])}\")\n",
    "print(f\"Number of rows with a value of 'Sale' > 1000: {len(df[df['Sale'] > 1000])}\")\n",
    "print(f\"Number of rows with a value of 'Sale' > 2000: {len(df[df['Sale'] > 2000])}\")\n"
   ]
  },
  {
   "cell_type": "code",
   "execution_count": null,
   "metadata": {
    "scrolled": false
   },
   "outputs": [],
   "source": [
    "df[df['Sale'] > 1000]"
   ]
  },
  {
   "cell_type": "markdown",
   "metadata": {},
   "source": [
    "### We notice this outliers-like values have some particular values in ProdID: M and DOT\n",
    "#### And we become curious about the presence of these particular ProdIDs.."
   ]
  },
  {
   "cell_type": "code",
   "execution_count": null,
   "metadata": {},
   "outputs": [],
   "source": [
    "print(\"NON numerical ProdIDs:\", df[df['ProdID'].str.contains(r'^\\D*$', regex=True)]['ProdID'].unique())"
   ]
  },
  {
   "cell_type": "markdown",
   "metadata": {},
   "source": [
    "## ProdID = BANK CHARGES"
   ]
  },
  {
   "cell_type": "code",
   "execution_count": null,
   "metadata": {},
   "outputs": [],
   "source": [
    "print(\"Number of rows with 'ProdID' = 'BANK CHARGES':\", len(df[df['ProdID'] == 'BANK CHARGES']))\n",
    "df[df['ProdID'] == 'BANK CHARGES'].boxplot(column = ['Sale','Qta'])"
   ]
  },
  {
   "cell_type": "markdown",
   "metadata": {},
   "source": [
    "We assume these entries represent some kind of bank payment that may not be strictly correlated to our customer sale analysis.<br>\n",
    "Therefore we decide to DROP these entries."
   ]
  },
  {
   "cell_type": "code",
   "execution_count": null,
   "metadata": {},
   "outputs": [],
   "source": [
    "df.drop(df[df['ProdID'] == 'BANK CHARGES'].index, inplace=True)"
   ]
  },
  {
   "cell_type": "markdown",
   "metadata": {},
   "source": [
    "## ProdID = DISCOUNT"
   ]
  },
  {
   "cell_type": "markdown",
   "metadata": {},
   "source": [
    "We already noticed and discussed about these entries before, we assume the obvious interpretation:<br>\n",
    "These entries regard discounts on some shopping-related sale about a certain customer. This means it is a relevant set of entries.<br>\n",
    "Therefore we decide to KEEP these entries."
   ]
  },
  {
   "cell_type": "markdown",
   "metadata": {},
   "source": [
    "## ProdID = DOT"
   ]
  },
  {
   "cell_type": "code",
   "execution_count": null,
   "metadata": {},
   "outputs": [],
   "source": [
    "print(\"Number of rows with 'ProdID' = 'DOT':\", len(df[df['ProdID'] == 'DOT']))\n",
    "print(\"Product description of these entries:\", df[df['ProdID'] == 'DOT']['ProdDescr'].unique())\n",
    "df[df['ProdID'] == 'DOT'].boxplot(column = ['Sale','Qta'])"
   ]
  },
  {
   "cell_type": "code",
   "execution_count": null,
   "metadata": {
    "scrolled": true
   },
   "outputs": [],
   "source": [
    "df[df['ProdID'] == 'DOT'].describe()"
   ]
  },
  {
   "cell_type": "markdown",
   "metadata": {},
   "source": [
    "We assume these entries have something to do with postage payments (because of their ProdDescr) and so they are not relevant for our customer sale analysis.<br>\n",
    "Furthermore, by taking a look at the statistics, we can see how these entries have an outlier-like behaviour.\n",
    "Therefore we decide to DROP these entries."
   ]
  },
  {
   "cell_type": "code",
   "execution_count": null,
   "metadata": {},
   "outputs": [],
   "source": [
    "df.drop(df[df['ProdID'] == 'DOT'].index, inplace=True)"
   ]
  },
  {
   "cell_type": "markdown",
   "metadata": {},
   "source": [
    "## ProdID = POST"
   ]
  },
  {
   "cell_type": "code",
   "execution_count": null,
   "metadata": {
    "scrolled": true
   },
   "outputs": [],
   "source": [
    "print(\"Number of rows with 'ProdID' = 'POST':\", len(df[df['ProdID'] == 'POST']))\n",
    "print(\"Product description of these entries:\", df[df['ProdID'] == 'POST']['ProdDescr'].unique())\n",
    "df[df['ProdID'] == 'POST'].boxplot(column = ['Sale','Qta'])"
   ]
  },
  {
   "cell_type": "code",
   "execution_count": null,
   "metadata": {},
   "outputs": [],
   "source": [
    "df[df['ProdID'] == 'POST'].describe()"
   ]
  },
  {
   "cell_type": "markdown",
   "metadata": {},
   "source": [
    "Even though these entries have a more \"normal\" behaviour with respect to the entries having ProdID = 'DOT',<br>\n",
    "we assume these entries ALSO have something to do with postage payments (again because of their ProdDescr) and so they are not relevant for our customer sale analysis.<br>\n",
    "Therefore we decide to DROP these entries too."
   ]
  },
  {
   "cell_type": "code",
   "execution_count": null,
   "metadata": {},
   "outputs": [],
   "source": [
    "df.drop(df[df['ProdID'] == 'POST'].index, inplace=True)"
   ]
  },
  {
   "cell_type": "markdown",
   "metadata": {},
   "source": [
    "# ProdID = M\n",
    "\n"
   ]
  },
  {
   "cell_type": "code",
   "execution_count": null,
   "metadata": {
    "scrolled": true
   },
   "outputs": [],
   "source": [
    "print(\"Number of rows with 'ProdID' = 'M':\", len(df[df['ProdID'] == 'M']))\n",
    "print(\"Product description of these entries:\", df[df['ProdID'] == 'M']['ProdDescr'].unique())\n",
    "df[df['ProdID'] == 'M'].boxplot(column = ['Sale','Qta'])"
   ]
  },
  {
   "cell_type": "code",
   "execution_count": null,
   "metadata": {},
   "outputs": [],
   "source": [
    "df[df['ProdID'] == 'M'].describe()"
   ]
  },
  {
   "cell_type": "markdown",
   "metadata": {},
   "source": [
    "Since these entries have all ProdDescr = 'Manual' we assume these entries are describing payments due/received about manual works.<br>\n",
    "Unfortunately we do not have any more information which can further caracterize these entries, they could be referring to a huge plethora of manual topics which may regard (or not) our customer sale analysis.<br>\n",
    "Therefore we decide to DROP these entries."
   ]
  },
  {
   "cell_type": "code",
   "execution_count": null,
   "metadata": {},
   "outputs": [],
   "source": [
    "df.drop(df[df['ProdID'] == 'M'].index, inplace=True)"
   ]
  },
  {
   "cell_type": "markdown",
   "metadata": {},
   "source": [
    "### After analyzing all suspect ProdIDs we take a look at Sale again"
   ]
  },
  {
   "cell_type": "code",
   "execution_count": null,
   "metadata": {
    "scrolled": false
   },
   "outputs": [],
   "source": [
    "df.boxplot(column=['Sale'])\n",
    "df[df['Sale'] > 1000]"
   ]
  },
  {
   "cell_type": "markdown",
   "metadata": {},
   "source": [
    "We now have a much cleaner result, only value being 'abnormal' is a Discount value, which we already decided to maintain.<br>\n",
    "Finally we proceed to:"
   ]
  },
  {
   "cell_type": "markdown",
   "metadata": {
    "pycharm": {
     "name": "#%% md\n"
    }
   },
   "source": [
    "**Save cleaned dataframe in a csv**"
   ]
  },
  {
   "cell_type": "code",
   "execution_count": null,
   "metadata": {
    "pycharm": {
     "name": "#%%\n"
    }
   },
   "outputs": [],
   "source": [
    "path = 'cleaned_dataframe.csv'\n",
    "df.to_csv(path, sep='\\t')\n",
    "print(f\"Cleaned dataframe saved to '{path}'\")"
   ]
  }
 ],
 "metadata": {
  "kernelspec": {
   "display_name": "Python 3",
   "language": "python",
   "name": "python3"
  },
  "language_info": {
   "codemirror_mode": {
    "name": "ipython",
    "version": 3
   },
   "file_extension": ".py",
   "mimetype": "text/x-python",
   "name": "python",
   "nbconvert_exporter": "python",
   "pygments_lexer": "ipython3",
   "version": "3.8.3"
  }
 },
 "nbformat": 4,
 "nbformat_minor": 4
}
