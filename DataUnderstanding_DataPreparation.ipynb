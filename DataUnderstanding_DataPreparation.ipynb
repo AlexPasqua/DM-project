{
 "cells": [
  {
   "cell_type": "markdown",
   "metadata": {
    "pycharm": {
     "name": "#%% md\n"
    }
   },
   "source": [
    "# Data Understanding and Data Preparation"
   ]
  },
  {
   "cell_type": "code",
   "execution_count": 1,
   "metadata": {},
   "outputs": [],
   "source": [
    "import math\n",
    "import numpy as np\n",
    "import pandas as pd\n",
    "import scipy.stats as stats\n",
    "import matplotlib.pyplot as plt\n",
    "from tqdm.notebook import tqdm"
   ]
  },
  {
   "cell_type": "code",
   "execution_count": 2,
   "metadata": {},
   "outputs": [
    {
     "name": "stdout",
     "output_type": "stream",
     "text": [
      "  BasketID      BasketDate  Sale  CustomerID CustomerCountry  ProdID  \\\n",
      "0   536365  01/12/10 08:26  2,55     17850.0  United Kingdom  85123A   \n",
      "1   536365  01/12/10 08:26  3,39     17850.0  United Kingdom   71053   \n",
      "2   536365  01/12/10 08:26  2,75     17850.0  United Kingdom  84406B   \n",
      "3   536365  01/12/10 08:26  3,39     17850.0  United Kingdom  84029G   \n",
      "4   536365  01/12/10 08:26  3,39     17850.0  United Kingdom  84029E   \n",
      "\n",
      "                             ProdDescr  Qta  \n",
      "0   WHITE HANGING HEART T-LIGHT HOLDER    6  \n",
      "1                  WHITE METAL LANTERN    6  \n",
      "2       CREAM CUPID HEARTS COAT HANGER    8  \n",
      "3  KNITTED UNION FLAG HOT WATER BOTTLE    6  \n",
      "4       RED WOOLLY HOTTIE WHITE HEART.    6  \n"
     ]
    }
   ],
   "source": [
    "df = pd.read_csv('customer_supermarket.csv', sep='\\t', index_col=0)\n",
    "df.drop_duplicates(inplace=True)\n",
    "print(df.head())"
   ]
  },
  {
   "cell_type": "code",
   "execution_count": 3,
   "metadata": {},
   "outputs": [],
   "source": [
    "### Types checking and basic statistics"
   ]
  },
  {
   "cell_type": "code",
   "execution_count": 4,
   "metadata": {
    "pycharm": {
     "name": "#%%\n"
    }
   },
   "outputs": [
    {
     "name": "stdout",
     "output_type": "stream",
     "text": [
      "<class 'pandas.core.frame.DataFrame'>\n",
      "Int64Index: 466678 entries, 0 to 541909\n",
      "Data columns (total 8 columns):\n",
      " #   Column           Non-Null Count   Dtype  \n",
      "---  ------           --------------   -----  \n",
      " 0   BasketID         466678 non-null  object \n",
      " 1   BasketDate       466678 non-null  object \n",
      " 2   Sale             466678 non-null  object \n",
      " 3   CustomerID       401605 non-null  float64\n",
      " 4   CustomerCountry  466678 non-null  object \n",
      " 5   ProdID           466678 non-null  object \n",
      " 6   ProdDescr        465925 non-null  object \n",
      " 7   Qta              466678 non-null  int64  \n",
      "dtypes: float64(1), int64(1), object(6)\n",
      "memory usage: 32.0+ MB\n"
     ]
    }
   ],
   "source": [
    "df.info()"
   ]
  },
  {
   "cell_type": "code",
   "execution_count": 5,
   "metadata": {
    "pycharm": {
     "name": "#%%\n"
    }
   },
   "outputs": [
    {
     "data": {
      "text/plain": [
       "BasketID           False\n",
       "BasketDate         False\n",
       "Sale               False\n",
       "CustomerID          True\n",
       "CustomerCountry    False\n",
       "ProdID             False\n",
       "ProdDescr           True\n",
       "Qta                False\n",
       "dtype: bool"
      ]
     },
     "execution_count": 5,
     "metadata": {},
     "output_type": "execute_result"
    }
   ],
   "source": [
    "df.isnull().any()"
   ]
  },
  {
   "cell_type": "code",
   "execution_count": 6,
   "metadata": {},
   "outputs": [
    {
     "data": {
      "text/html": [
       "<div>\n",
       "<style scoped>\n",
       "    .dataframe tbody tr th:only-of-type {\n",
       "        vertical-align: middle;\n",
       "    }\n",
       "\n",
       "    .dataframe tbody tr th {\n",
       "        vertical-align: top;\n",
       "    }\n",
       "\n",
       "    .dataframe thead th {\n",
       "        text-align: right;\n",
       "    }\n",
       "</style>\n",
       "<table border=\"1\" class=\"dataframe\">\n",
       "  <thead>\n",
       "    <tr style=\"text-align: right;\">\n",
       "      <th></th>\n",
       "      <th>CustomerID</th>\n",
       "      <th>Qta</th>\n",
       "    </tr>\n",
       "  </thead>\n",
       "  <tbody>\n",
       "    <tr>\n",
       "      <th>count</th>\n",
       "      <td>401605.000000</td>\n",
       "      <td>466678.000000</td>\n",
       "    </tr>\n",
       "    <tr>\n",
       "      <th>mean</th>\n",
       "      <td>15281.154341</td>\n",
       "      <td>10.806528</td>\n",
       "    </tr>\n",
       "    <tr>\n",
       "      <th>std</th>\n",
       "      <td>1714.008869</td>\n",
       "      <td>232.627771</td>\n",
       "    </tr>\n",
       "    <tr>\n",
       "      <th>min</th>\n",
       "      <td>12346.000000</td>\n",
       "      <td>-80995.000000</td>\n",
       "    </tr>\n",
       "    <tr>\n",
       "      <th>25%</th>\n",
       "      <td>13939.000000</td>\n",
       "      <td>2.000000</td>\n",
       "    </tr>\n",
       "    <tr>\n",
       "      <th>50%</th>\n",
       "      <td>15145.000000</td>\n",
       "      <td>4.000000</td>\n",
       "    </tr>\n",
       "    <tr>\n",
       "      <th>75%</th>\n",
       "      <td>16784.000000</td>\n",
       "      <td>12.000000</td>\n",
       "    </tr>\n",
       "    <tr>\n",
       "      <th>max</th>\n",
       "      <td>18287.000000</td>\n",
       "      <td>80995.000000</td>\n",
       "    </tr>\n",
       "  </tbody>\n",
       "</table>\n",
       "</div>"
      ],
      "text/plain": [
       "          CustomerID            Qta\n",
       "count  401605.000000  466678.000000\n",
       "mean    15281.154341      10.806528\n",
       "std      1714.008869     232.627771\n",
       "min     12346.000000  -80995.000000\n",
       "25%     13939.000000       2.000000\n",
       "50%     15145.000000       4.000000\n",
       "75%     16784.000000      12.000000\n",
       "max     18287.000000   80995.000000"
      ]
     },
     "execution_count": 6,
     "metadata": {},
     "output_type": "execute_result"
    }
   ],
   "source": [
    "df.describe()"
   ]
  },
  {
   "cell_type": "markdown",
   "metadata": {
    "pycharm": {
     "name": "#%% md\n"
    }
   },
   "source": [
    "### Fixing _Sale_:\n",
    "* Check if any element of _Sale_ contains letters / drop rows containing letters in _Sale_\n",
    "* Replace commas with dots\n",
    "* Cast the field into float"
   ]
  },
  {
   "cell_type": "code",
   "execution_count": 7,
   "metadata": {},
   "outputs": [],
   "source": [
    "# OPTION 1: Check if 'Sale' contains any letter\n",
    "import re\n",
    "for elem in df['Sale']:\n",
    "    if re.match(elem, r'[a-zA-Z]*'):\n",
    "        print(elem)"
   ]
  },
  {
   "cell_type": "code",
   "execution_count": 8,
   "metadata": {
    "pycharm": {
     "name": "#%%\n"
    }
   },
   "outputs": [
    {
     "data": {
      "text/html": [
       "<div>\n",
       "<style scoped>\n",
       "    .dataframe tbody tr th:only-of-type {\n",
       "        vertical-align: middle;\n",
       "    }\n",
       "\n",
       "    .dataframe tbody tr th {\n",
       "        vertical-align: top;\n",
       "    }\n",
       "\n",
       "    .dataframe thead th {\n",
       "        text-align: right;\n",
       "    }\n",
       "</style>\n",
       "<table border=\"1\" class=\"dataframe\">\n",
       "  <thead>\n",
       "    <tr style=\"text-align: right;\">\n",
       "      <th></th>\n",
       "      <th>BasketID</th>\n",
       "      <th>BasketDate</th>\n",
       "      <th>Sale</th>\n",
       "      <th>CustomerID</th>\n",
       "      <th>CustomerCountry</th>\n",
       "      <th>ProdID</th>\n",
       "      <th>ProdDescr</th>\n",
       "      <th>Qta</th>\n",
       "    </tr>\n",
       "  </thead>\n",
       "  <tbody>\n",
       "    <tr>\n",
       "      <th>0</th>\n",
       "      <td>536365</td>\n",
       "      <td>01/12/10 08:26</td>\n",
       "      <td>2,55</td>\n",
       "      <td>17850.0</td>\n",
       "      <td>United Kingdom</td>\n",
       "      <td>85123A</td>\n",
       "      <td>WHITE HANGING HEART T-LIGHT HOLDER</td>\n",
       "      <td>6</td>\n",
       "    </tr>\n",
       "    <tr>\n",
       "      <th>1</th>\n",
       "      <td>536365</td>\n",
       "      <td>01/12/10 08:26</td>\n",
       "      <td>3,39</td>\n",
       "      <td>17850.0</td>\n",
       "      <td>United Kingdom</td>\n",
       "      <td>71053</td>\n",
       "      <td>WHITE METAL LANTERN</td>\n",
       "      <td>6</td>\n",
       "    </tr>\n",
       "    <tr>\n",
       "      <th>2</th>\n",
       "      <td>536365</td>\n",
       "      <td>01/12/10 08:26</td>\n",
       "      <td>2,75</td>\n",
       "      <td>17850.0</td>\n",
       "      <td>United Kingdom</td>\n",
       "      <td>84406B</td>\n",
       "      <td>CREAM CUPID HEARTS COAT HANGER</td>\n",
       "      <td>8</td>\n",
       "    </tr>\n",
       "    <tr>\n",
       "      <th>3</th>\n",
       "      <td>536365</td>\n",
       "      <td>01/12/10 08:26</td>\n",
       "      <td>3,39</td>\n",
       "      <td>17850.0</td>\n",
       "      <td>United Kingdom</td>\n",
       "      <td>84029G</td>\n",
       "      <td>KNITTED UNION FLAG HOT WATER BOTTLE</td>\n",
       "      <td>6</td>\n",
       "    </tr>\n",
       "    <tr>\n",
       "      <th>4</th>\n",
       "      <td>536365</td>\n",
       "      <td>01/12/10 08:26</td>\n",
       "      <td>3,39</td>\n",
       "      <td>17850.0</td>\n",
       "      <td>United Kingdom</td>\n",
       "      <td>84029E</td>\n",
       "      <td>RED WOOLLY HOTTIE WHITE HEART.</td>\n",
       "      <td>6</td>\n",
       "    </tr>\n",
       "    <tr>\n",
       "      <th>...</th>\n",
       "      <td>...</td>\n",
       "      <td>...</td>\n",
       "      <td>...</td>\n",
       "      <td>...</td>\n",
       "      <td>...</td>\n",
       "      <td>...</td>\n",
       "      <td>...</td>\n",
       "      <td>...</td>\n",
       "    </tr>\n",
       "    <tr>\n",
       "      <th>541905</th>\n",
       "      <td>581587</td>\n",
       "      <td>09/12/11 12:50</td>\n",
       "      <td>2,1</td>\n",
       "      <td>12680.0</td>\n",
       "      <td>France</td>\n",
       "      <td>22899</td>\n",
       "      <td>CHILDREN'S APRON DOLLY GIRL</td>\n",
       "      <td>6</td>\n",
       "    </tr>\n",
       "    <tr>\n",
       "      <th>541906</th>\n",
       "      <td>581587</td>\n",
       "      <td>09/12/11 12:50</td>\n",
       "      <td>4,15</td>\n",
       "      <td>12680.0</td>\n",
       "      <td>France</td>\n",
       "      <td>23254</td>\n",
       "      <td>CHILDRENS CUTLERY DOLLY GIRL</td>\n",
       "      <td>4</td>\n",
       "    </tr>\n",
       "    <tr>\n",
       "      <th>541907</th>\n",
       "      <td>581587</td>\n",
       "      <td>09/12/11 12:50</td>\n",
       "      <td>4,15</td>\n",
       "      <td>12680.0</td>\n",
       "      <td>France</td>\n",
       "      <td>23255</td>\n",
       "      <td>CHILDRENS CUTLERY CIRCUS PARADE</td>\n",
       "      <td>4</td>\n",
       "    </tr>\n",
       "    <tr>\n",
       "      <th>541908</th>\n",
       "      <td>581587</td>\n",
       "      <td>09/12/11 12:50</td>\n",
       "      <td>4,95</td>\n",
       "      <td>12680.0</td>\n",
       "      <td>France</td>\n",
       "      <td>22138</td>\n",
       "      <td>BAKING SET 9 PIECE RETROSPOT</td>\n",
       "      <td>3</td>\n",
       "    </tr>\n",
       "    <tr>\n",
       "      <th>541909</th>\n",
       "      <td>581587</td>\n",
       "      <td>09/12/11 12:50</td>\n",
       "      <td>18</td>\n",
       "      <td>12680.0</td>\n",
       "      <td>France</td>\n",
       "      <td>POST</td>\n",
       "      <td>POSTAGE</td>\n",
       "      <td>1</td>\n",
       "    </tr>\n",
       "  </tbody>\n",
       "</table>\n",
       "<p>466678 rows × 8 columns</p>\n",
       "</div>"
      ],
      "text/plain": [
       "       BasketID      BasketDate  Sale  CustomerID CustomerCountry  ProdID  \\\n",
       "0        536365  01/12/10 08:26  2,55     17850.0  United Kingdom  85123A   \n",
       "1        536365  01/12/10 08:26  3,39     17850.0  United Kingdom   71053   \n",
       "2        536365  01/12/10 08:26  2,75     17850.0  United Kingdom  84406B   \n",
       "3        536365  01/12/10 08:26  3,39     17850.0  United Kingdom  84029G   \n",
       "4        536365  01/12/10 08:26  3,39     17850.0  United Kingdom  84029E   \n",
       "...         ...             ...   ...         ...             ...     ...   \n",
       "541905   581587  09/12/11 12:50   2,1     12680.0          France   22899   \n",
       "541906   581587  09/12/11 12:50  4,15     12680.0          France   23254   \n",
       "541907   581587  09/12/11 12:50  4,15     12680.0          France   23255   \n",
       "541908   581587  09/12/11 12:50  4,95     12680.0          France   22138   \n",
       "541909   581587  09/12/11 12:50    18     12680.0          France    POST   \n",
       "\n",
       "                                  ProdDescr  Qta  \n",
       "0        WHITE HANGING HEART T-LIGHT HOLDER    6  \n",
       "1                       WHITE METAL LANTERN    6  \n",
       "2            CREAM CUPID HEARTS COAT HANGER    8  \n",
       "3       KNITTED UNION FLAG HOT WATER BOTTLE    6  \n",
       "4            RED WOOLLY HOTTIE WHITE HEART.    6  \n",
       "...                                     ...  ...  \n",
       "541905         CHILDREN'S APRON DOLLY GIRL     6  \n",
       "541906        CHILDRENS CUTLERY DOLLY GIRL     4  \n",
       "541907      CHILDRENS CUTLERY CIRCUS PARADE    4  \n",
       "541908        BAKING SET 9 PIECE RETROSPOT     3  \n",
       "541909                              POSTAGE    1  \n",
       "\n",
       "[466678 rows x 8 columns]"
      ]
     },
     "execution_count": 8,
     "metadata": {},
     "output_type": "execute_result"
    }
   ],
   "source": [
    "# OPTION 2: directly drop rows containing letters in the 'Sale' filed\n",
    "df.drop(df[ df['Sale'].str.contains(r'[a-zA-Z]') ].index)"
   ]
  },
  {
   "cell_type": "markdown",
   "metadata": {
    "pycharm": {
     "name": "#%% md\n"
    }
   },
   "source": [
    "The attribute _Sale_ does not contain any null value or letters, only numbers.<br>\n",
    "We need now to substitute commas with dots and cast the field into float"
   ]
  },
  {
   "cell_type": "code",
   "execution_count": 9,
   "metadata": {
    "pycharm": {
     "name": "#%%\n"
    }
   },
   "outputs": [
    {
     "name": "stdout",
     "output_type": "stream",
     "text": [
      "Changed commas into dots\n",
      "Changed type from str to float64\n",
      "\n",
      "<class 'pandas.core.frame.DataFrame'>\n",
      "Int64Index: 465394 entries, 0 to 541909\n",
      "Data columns (total 8 columns):\n",
      " #   Column           Non-Null Count   Dtype  \n",
      "---  ------           --------------   -----  \n",
      " 0   BasketID         465394 non-null  object \n",
      " 1   BasketDate       465394 non-null  object \n",
      " 2   Sale             465394 non-null  float64\n",
      " 3   CustomerID       401561 non-null  float64\n",
      " 4   CustomerCountry  465394 non-null  object \n",
      " 5   ProdID           465394 non-null  object \n",
      " 6   ProdDescr        465394 non-null  object \n",
      " 7   Qta              465394 non-null  int64  \n",
      "dtypes: float64(2), int64(1), object(5)\n",
      "memory usage: 32.0+ MB\n"
     ]
    }
   ],
   "source": [
    "# Replace commas with dots and make 'Sale' a float\n",
    "df['Sale'].replace(to_replace=r'(\\d+),(\\d*)', value=r'\\1.\\2', regex=True, inplace=True)\n",
    "df['Sale'] = df['Sale'].astype(float)\n",
    "print('Changed commas into dots')\n",
    "print('Changed type from str to float64\\n')\n",
    "# drop all rows where sale is zero (free stuf not allowed)\n",
    "df.drop(df[df['Sale'] < 0.01].index, inplace=True)\n",
    "df.info()"
   ]
  },
  {
   "cell_type": "markdown",
   "metadata": {
    "pycharm": {
     "name": "#%% md\n"
    }
   },
   "source": [
    "Check value ranges of _Sale_'s items"
   ]
  },
  {
   "cell_type": "code",
   "execution_count": 10,
   "metadata": {
    "pycharm": {
     "name": "#%%\n"
    }
   },
   "outputs": [
    {
     "name": "stdout",
     "output_type": "stream",
     "text": [
      "Sale's value ranges:\n",
      "TOT :  465394\n",
      " < 0:  0\n",
      " > 100:  634\n",
      " > 1000:  84\n"
     ]
    },
    {
     "data": {
      "text/plain": [
       "<AxesSubplot:>"
      ]
     },
     "execution_count": 10,
     "metadata": {},
     "output_type": "execute_result"
    },
    {
     "data": {
      "image/png": "[encoded data removed]",
      "text/plain": [
       "<Figure size 432x288 with 1 Axes>"
      ]
     },
     "metadata": {
      "needs_background": "light"
     },
     "output_type": "display_data"
    }
   ],
   "source": [
    "# Check value ranges of Sale's items\n",
    "print(\"Sale's value ranges:\")\n",
    "print(\"TOT : \", len(df['Sale']))\n",
    "print(\" < 0: \", len(df[df['Sale'] < 0]))\n",
    "print(\" > 100: \", len(df[df['Sale'] > 100]))\n",
    "print(\" > 1000: \", len(df[df['Sale'] > 1000]))\n",
    "df.boxplot(column=['Sale'])"
   ]
  },
  {
   "cell_type": "markdown",
   "metadata": {
    "pycharm": {
     "name": "#%% md\n"
    }
   },
   "source": [
    "There are some clear outliers, let's see if we can improve the situation by cleaning other attributes first..."
   ]
  },
  {
   "cell_type": "markdown",
   "metadata": {
    "pycharm": {
     "name": "#%% md\n"
    }
   },
   "source": [
    "### Analyzing _Qta_:\n",
    "* Check rows with **negative** quantity:"
   ]
  },
  {
   "cell_type": "code",
   "execution_count": 11,
   "metadata": {
    "pycharm": {
     "name": "#%%\n"
    }
   },
   "outputs": [
    {
     "data": {
      "application/vnd.jupyter.widget-view+json": {
       "model_id": "2c4cffe7b52f4751b0371e179f725e7e",
       "version_major": 2,
       "version_minor": 0
      },
      "text/plain": [
       "HBox(children=(HTML(value='Iterating over negative Qta rows'), FloatProgress(value=0.0, max=9051.0), HTML(valu…"
      ]
     },
     "metadata": {},
     "output_type": "display_data"
    },
    {
     "name": "stdout",
     "output_type": "stream",
     "text": [
      "\n",
      "Number of rows with negative Qta:  9051\n",
      "Number of rows with negative Qta and a normal BaskedID:  0\n",
      "Number of rows with negative Qta and an empty/null/'?' ProdDescr:  0\n",
      "Number of rows with negative Qta and a null/nan/empty CustomerID:  179\n"
     ]
    }
   ],
   "source": [
    "# Check rows with negative quantity\n",
    "bid_normal = 0  # counter of rows with normal BasketID (but negative Qta)\n",
    "proddescr_null = 0  # counter of rows with a empty or null or '?' ProdDescr\n",
    "cid_null = 0    # counter of rows with a null/nan/empty CustomerID\n",
    "neg_df = df[df['Qta'] < 0]\n",
    "\n",
    "for index, row in tqdm(neg_df.iterrows(), total=len(neg_df), desc=\"Iterating over negative Qta rows\"):\n",
    "    bid_normal += 1 if (not 'C' in row['BasketID'] and not 'A' in row['BasketID']) else 0\n",
    "    proddescr_null += 1 if row['ProdDescr'] in ('','?') else 0\n",
    "    cid_null += 1 if pd.isna(row['CustomerID']) else 0\n",
    "\n",
    "print(\"Number of rows with negative Qta: \", len(df[df['Qta'] < 0]))\n",
    "print(\"Number of rows with negative Qta and a normal BaskedID: \", bid_normal)\n",
    "print(\"Number of rows with negative Qta and an empty/null/'?' ProdDescr: \", proddescr_null)\n",
    "print(\"Number of rows with negative Qta and a null/nan/empty CustomerID: \", cid_null)"
   ]
  },
  {
   "cell_type": "markdown",
   "metadata": {
    "pycharm": {
     "name": "#%% md\n"
    }
   },
   "source": [
    "### Analyzing _CustomerID_:\n",
    "* Check for how many orders it's not possible to find a _CustomerID_\n",
    "* Remove entries with no retrievable _CustomerID_\n",
    "* Make _CustomerID_ of type **int**"
   ]
  },
  {
   "cell_type": "code",
   "execution_count": 12,
   "metadata": {
    "pycharm": {
     "name": "#%%\n"
    }
   },
   "outputs": [
    {
     "data": {
      "application/vnd.jupyter.widget-view+json": {
       "model_id": "7dec1cca3b8b425f9f192186109a64a5",
       "version_major": 2,
       "version_minor": 0
      },
      "text/plain": [
       "HBox(children=(HTML(value='Checking rows with no CustomerID'), FloatProgress(value=0.0, max=465394.0), HTML(va…"
      ]
     },
     "metadata": {},
     "output_type": "display_data"
    },
    {
     "name": "stdout",
     "output_type": "stream",
     "text": [
      "\n",
      "Number of distinct orders:  23562\n",
      "Number of orders without CustomerID:  1376\n"
     ]
    }
   ],
   "source": [
    "\"\"\"\n",
    "Check for which BaskedIDs it's not possible to find a CustomerID:\n",
    "    - if a CustomerID is NaN, but there exist a row with the same BaskedID and CustomerID != Nan, then we have a customer for that order.\n",
    "\n",
    "We produce a dictionary with BaskedIDs as keys and boolean values:\n",
    "    - if there's a customer for that BaskedID, it's True, otherwise it's False\n",
    "\"\"\"\n",
    "\n",
    "#print(\"Checking rows with no CustomerID...\")\n",
    "orders_have_customer = dict(zip(\n",
    "    df['BasketID'].unique(),    # keys\n",
    "    [False] * len(df['BasketID'].unique()))  # values (initially False for every key)\n",
    ")\n",
    "\n",
    "for index, row in tqdm(df.iterrows(), total=len(df), desc=\"Checking rows with no CustomerID\"):\n",
    "    if not pd.isna(row['CustomerID']):\n",
    "        orders_have_customer[row['BasketID']] = True\n",
    "\n",
    "orders_wo_cust = [] # list of orders without CustomerID\n",
    "for k, v in orders_have_customer.items():\n",
    "    if not v:\n",
    "        orders_wo_cust.append(k)\n",
    "\n",
    "del orders_have_customer\n",
    "print(\"Number of distinct orders: \", len(df['BasketID'].unique()))\n",
    "print(\"Number of orders without CustomerID: \", len(orders_wo_cust))"
   ]
  },
  {
   "cell_type": "code",
   "execution_count": 13,
   "metadata": {
    "pycharm": {
     "name": "#%%\n"
    }
   },
   "outputs": [
    {
     "name": "stdout",
     "output_type": "stream",
     "text": [
      "The dataframe contains now 401561 rows\n",
      "Remaining entries with a NaN CustomerID: 0\n"
     ]
    }
   ],
   "source": [
    "# Delete from dataframe records belonging to orders without customer\n",
    "df = df[~df['BasketID'].isin(orders_wo_cust)]\n",
    "del orders_wo_cust\n",
    "print(f\"The dataframe contains now {len(df)} rows\")\n",
    "print(f\"Remaining entries with a NaN CustomerID: {len(df[pd.isna(df['CustomerID'])])}\")"
   ]
  },
  {
   "cell_type": "code",
   "execution_count": 14,
   "metadata": {
    "pycharm": {
     "name": "#%%\n"
    }
   },
   "outputs": [
    {
     "name": "stdout",
     "output_type": "stream",
     "text": [
      "Number of CustomerIDs with decimal part != 0:  0\n"
     ]
    }
   ],
   "source": [
    "# check if the decimal part is always 0\n",
    "count_decpart_nonzero = 0\n",
    "for elem in df['CustomerID']:\n",
    "    if elem % 1.0 != 0.0 and not pd.isnull(elem):\n",
    "        count_decpart_nonzero += 1\n",
    "print('Number of CustomerIDs with decimal part != 0: ', count_decpart_nonzero)"
   ]
  },
  {
   "cell_type": "code",
   "execution_count": 15,
   "metadata": {
    "pycharm": {
     "name": "#%%\n"
    }
   },
   "outputs": [
    {
     "data": {
      "text/plain": [
       "BasketID            object\n",
       "BasketDate          object\n",
       "Sale               float64\n",
       "CustomerID           int32\n",
       "CustomerCountry     object\n",
       "ProdID              object\n",
       "ProdDescr           object\n",
       "Qta                  int64\n",
       "dtype: object"
      ]
     },
     "execution_count": 15,
     "metadata": {},
     "output_type": "execute_result"
    }
   ],
   "source": [
    "# Make 'CustomerID' of type int\n",
    "if count_decpart_nonzero == 0:\n",
    "    df = df.astype({'CustomerID': int})\n",
    "\n",
    "df.dtypes"
   ]
  },
  {
   "cell_type": "markdown",
   "metadata": {
    "pycharm": {
     "name": "#%% md\n"
    }
   },
   "source": [
    "Let's perform again the analysis on Qta we did before analysing CustomerID:"
   ]
  },
  {
   "cell_type": "code",
   "execution_count": 16,
   "metadata": {
    "pycharm": {
     "name": "#%%\n"
    }
   },
   "outputs": [
    {
     "data": {
      "application/vnd.jupyter.widget-view+json": {
       "model_id": "c116da227af64c2ab2c7c40491e00d2f",
       "version_major": 2,
       "version_minor": 0
      },
      "text/plain": [
       "HBox(children=(HTML(value='Iterating over negative Qta rows'), FloatProgress(value=0.0, max=8872.0), HTML(valu…"
      ]
     },
     "metadata": {},
     "output_type": "display_data"
    },
    {
     "name": "stdout",
     "output_type": "stream",
     "text": [
      "\n",
      "Number of rows with negative Qta:  8872\n",
      "Number of rows with negative Qta and a normal BaskedID:  0\n",
      "Number of rows with negative Qta and an empty/null/'?' ProdDescr:  0\n",
      "Number of rows with negative Qta and a null/nan/empty CustomerID:  0\n"
     ]
    }
   ],
   "source": [
    "# Check rows with negative quantity\n",
    "bid_normal = 0  # counter of rows with normal BasketID (but negative Qta)\n",
    "proddescr_null = 0  # counter of rows with a empty or null or '?' ProdDescr\n",
    "cid_null = 0    # counter of rows with a null/nan/empty CustomerID\n",
    "neg_df = df[df['Qta'] < 0]\n",
    "\n",
    "for index, row in tqdm(neg_df.iterrows(), total=len(neg_df), desc=\"Iterating over negative Qta rows\"):\n",
    "    bid_normal += 1 if (not 'C' in row['BasketID'] and not 'A' in row['BasketID']) else 0\n",
    "    proddescr_null += 1 if row['ProdDescr'] in ('','?') else 0\n",
    "    cid_null += 1 if pd.isna(row['CustomerID']) else 0\n",
    "\n",
    "print(\"Number of rows with negative Qta: \", len(df[df['Qta'] < 0]))\n",
    "print(\"Number of rows with negative Qta and a normal BaskedID: \", bid_normal)\n",
    "print(\"Number of rows with negative Qta and an empty/null/'?' ProdDescr: \", proddescr_null)\n",
    "print(\"Number of rows with negative Qta and a null/nan/empty CustomerID: \", cid_null)"
   ]
  },
  {
   "cell_type": "markdown",
   "metadata": {
    "pycharm": {
     "name": "#%% md\n"
    }
   },
   "source": [
    "This shows that every row of the orders with a NaN _CustomerID_ had also\n",
    "anomalous values of _BasketID_ and _ProdDescr_"
   ]
  },
  {
   "cell_type": "code",
   "execution_count": 33,
   "metadata": {
    "pycharm": {
     "name": "#%%\n"
    }
   },
   "outputs": [
    {
     "data": {
      "text/plain": "HBox(children=(HTML(value='Iterating over negative Qta rows'), FloatProgress(value=0.0, max=7558.0), HTML(valu…",
      "application/vnd.jupyter.widget-view+json": {
       "version_major": 2,
       "version_minor": 0,
       "model_id": "b3da12d77d4948ea82b44ca88efb2ff7"
      }
     },
     "metadata": {},
     "output_type": "display_data"
    },
    {
     "name": "stdout",
     "output_type": "stream",
     "text": [
      "\n"
     ]
    },
    {
     "ename": "KeyboardInterrupt",
     "evalue": "",
     "output_type": "error",
     "traceback": [
      "\u001B[1;31m---------------------------------------------------------------------------\u001B[0m",
      "\u001B[1;31mKeyboardInterrupt\u001B[0m                         Traceback (most recent call last)",
      "\u001B[1;32m<ipython-input-33-39539ba37292>\u001B[0m in \u001B[0;36m<module>\u001B[1;34m\u001B[0m\n\u001B[0;32m      3\u001B[0m \u001B[1;32mfor\u001B[0m \u001B[0mindex\u001B[0m\u001B[1;33m,\u001B[0m \u001B[0mrow\u001B[0m \u001B[1;32min\u001B[0m \u001B[0mtqdm\u001B[0m\u001B[1;33m(\u001B[0m\u001B[0mdf\u001B[0m\u001B[1;33m[\u001B[0m\u001B[0mdf\u001B[0m\u001B[1;33m[\u001B[0m\u001B[1;34m'Qta'\u001B[0m\u001B[1;33m]\u001B[0m \u001B[1;33m<\u001B[0m \u001B[1;36m0\u001B[0m\u001B[1;33m]\u001B[0m\u001B[1;33m.\u001B[0m\u001B[0miterrows\u001B[0m\u001B[1;33m(\u001B[0m\u001B[1;33m)\u001B[0m\u001B[1;33m,\u001B[0m \u001B[0mtotal\u001B[0m\u001B[1;33m=\u001B[0m\u001B[0mlen\u001B[0m\u001B[1;33m(\u001B[0m\u001B[0mdf\u001B[0m\u001B[1;33m[\u001B[0m\u001B[0mdf\u001B[0m\u001B[1;33m[\u001B[0m\u001B[1;34m'Qta'\u001B[0m\u001B[1;33m]\u001B[0m \u001B[1;33m<\u001B[0m \u001B[1;36m0\u001B[0m\u001B[1;33m]\u001B[0m\u001B[1;33m)\u001B[0m\u001B[1;33m,\u001B[0m \u001B[0mdesc\u001B[0m\u001B[1;33m=\u001B[0m\u001B[1;34m'Iterating over negative Qta rows'\u001B[0m\u001B[1;33m)\u001B[0m\u001B[1;33m:\u001B[0m\u001B[1;33m\u001B[0m\u001B[1;33m\u001B[0m\u001B[0m\n\u001B[0;32m      4\u001B[0m     \u001B[0mfound\u001B[0m \u001B[1;33m=\u001B[0m \u001B[1;32mFalse\u001B[0m\u001B[1;33m\u001B[0m\u001B[1;33m\u001B[0m\u001B[0m\n\u001B[1;32m----> 5\u001B[1;33m     \u001B[0mdf_aux\u001B[0m \u001B[1;33m=\u001B[0m \u001B[0mdf\u001B[0m\u001B[1;33m[\u001B[0m\u001B[0mdf\u001B[0m\u001B[1;33m[\u001B[0m\u001B[1;34m'CustomerID'\u001B[0m\u001B[1;33m]\u001B[0m \u001B[1;33m==\u001B[0m \u001B[0mrow\u001B[0m\u001B[1;33m[\u001B[0m\u001B[1;34m'CustomerID'\u001B[0m\u001B[1;33m]\u001B[0m\u001B[1;33m]\u001B[0m\u001B[1;33m\u001B[0m\u001B[1;33m\u001B[0m\u001B[0m\n\u001B[0m\u001B[0;32m      6\u001B[0m     \u001B[0mdf_aux\u001B[0m \u001B[1;33m=\u001B[0m \u001B[0mdf_aux\u001B[0m\u001B[1;33m[\u001B[0m\u001B[0mdf_aux\u001B[0m\u001B[1;33m[\u001B[0m\u001B[1;34m'ProdID'\u001B[0m\u001B[1;33m]\u001B[0m \u001B[1;33m==\u001B[0m \u001B[0mrow\u001B[0m\u001B[1;33m[\u001B[0m\u001B[1;34m'ProdID'\u001B[0m\u001B[1;33m]\u001B[0m\u001B[1;33m]\u001B[0m\u001B[1;33m\u001B[0m\u001B[1;33m\u001B[0m\u001B[0m\n\u001B[0;32m      7\u001B[0m     \u001B[0mdf_aux\u001B[0m \u001B[1;33m=\u001B[0m \u001B[0mdf_aux\u001B[0m\u001B[1;33m[\u001B[0m\u001B[0mdf_aux\u001B[0m\u001B[1;33m[\u001B[0m\u001B[1;34m'Qta'\u001B[0m\u001B[1;33m]\u001B[0m \u001B[1;33m>\u001B[0m \u001B[1;36m0\u001B[0m\u001B[1;33m]\u001B[0m\u001B[1;33m\u001B[0m\u001B[1;33m\u001B[0m\u001B[0m\n",
      "\u001B[1;32md:\\dm-project\\venv\\lib\\site-packages\\pandas\\core\\frame.py\u001B[0m in \u001B[0;36m__getitem__\u001B[1;34m(self, key)\u001B[0m\n\u001B[0;32m   2891\u001B[0m         \u001B[1;31m# Do we have a (boolean) 1d indexer?\u001B[0m\u001B[1;33m\u001B[0m\u001B[1;33m\u001B[0m\u001B[1;33m\u001B[0m\u001B[0m\n\u001B[0;32m   2892\u001B[0m         \u001B[1;32mif\u001B[0m \u001B[0mcom\u001B[0m\u001B[1;33m.\u001B[0m\u001B[0mis_bool_indexer\u001B[0m\u001B[1;33m(\u001B[0m\u001B[0mkey\u001B[0m\u001B[1;33m)\u001B[0m\u001B[1;33m:\u001B[0m\u001B[1;33m\u001B[0m\u001B[1;33m\u001B[0m\u001B[0m\n\u001B[1;32m-> 2893\u001B[1;33m             \u001B[1;32mreturn\u001B[0m \u001B[0mself\u001B[0m\u001B[1;33m.\u001B[0m\u001B[0m_getitem_bool_array\u001B[0m\u001B[1;33m(\u001B[0m\u001B[0mkey\u001B[0m\u001B[1;33m)\u001B[0m\u001B[1;33m\u001B[0m\u001B[1;33m\u001B[0m\u001B[0m\n\u001B[0m\u001B[0;32m   2894\u001B[0m \u001B[1;33m\u001B[0m\u001B[0m\n\u001B[0;32m   2895\u001B[0m         \u001B[1;31m# We are left with two options: a single key, and a collection of keys,\u001B[0m\u001B[1;33m\u001B[0m\u001B[1;33m\u001B[0m\u001B[1;33m\u001B[0m\u001B[0m\n",
      "\u001B[1;32md:\\dm-project\\venv\\lib\\site-packages\\pandas\\core\\frame.py\u001B[0m in \u001B[0;36m_getitem_bool_array\u001B[1;34m(self, key)\u001B[0m\n\u001B[0;32m   2944\u001B[0m         \u001B[1;31m# be reindexed to match DataFrame rows\u001B[0m\u001B[1;33m\u001B[0m\u001B[1;33m\u001B[0m\u001B[1;33m\u001B[0m\u001B[0m\n\u001B[0;32m   2945\u001B[0m         \u001B[0mkey\u001B[0m \u001B[1;33m=\u001B[0m \u001B[0mcheck_bool_indexer\u001B[0m\u001B[1;33m(\u001B[0m\u001B[0mself\u001B[0m\u001B[1;33m.\u001B[0m\u001B[0mindex\u001B[0m\u001B[1;33m,\u001B[0m \u001B[0mkey\u001B[0m\u001B[1;33m)\u001B[0m\u001B[1;33m\u001B[0m\u001B[1;33m\u001B[0m\u001B[0m\n\u001B[1;32m-> 2946\u001B[1;33m         \u001B[0mindexer\u001B[0m \u001B[1;33m=\u001B[0m \u001B[0mkey\u001B[0m\u001B[1;33m.\u001B[0m\u001B[0mnonzero\u001B[0m\u001B[1;33m(\u001B[0m\u001B[1;33m)\u001B[0m\u001B[1;33m[\u001B[0m\u001B[1;36m0\u001B[0m\u001B[1;33m]\u001B[0m\u001B[1;33m\u001B[0m\u001B[1;33m\u001B[0m\u001B[0m\n\u001B[0m\u001B[0;32m   2947\u001B[0m         \u001B[1;32mreturn\u001B[0m \u001B[0mself\u001B[0m\u001B[1;33m.\u001B[0m\u001B[0m_take_with_is_copy\u001B[0m\u001B[1;33m(\u001B[0m\u001B[0mindexer\u001B[0m\u001B[1;33m,\u001B[0m \u001B[0maxis\u001B[0m\u001B[1;33m=\u001B[0m\u001B[1;36m0\u001B[0m\u001B[1;33m)\u001B[0m\u001B[1;33m\u001B[0m\u001B[1;33m\u001B[0m\u001B[0m\n\u001B[0;32m   2948\u001B[0m \u001B[1;33m\u001B[0m\u001B[0m\n",
      "\u001B[1;31mKeyboardInterrupt\u001B[0m: "
     ]
    }
   ],
   "source": [
    "all_paired = True\n",
    "count_pairs = count_legal_pairs = count_not_paired = 0\n",
    "for index, row in tqdm(df[df['Qta'] < 0].iterrows(), total=len(df[df['Qta'] < 0]), desc='Iterating over negative Qta rows'):\n",
    "    found = False\n",
    "    df_aux = df[df['CustomerID'] == row['CustomerID']]\n",
    "    df_aux = df_aux[df_aux['ProdID'] == row['ProdID']]\n",
    "    df_aux = df_aux[df_aux['Qta'] > 0]\n",
    "    if len(df_aux) > 0:\n",
    "        found = True\n",
    "        count_pairs += 1\n",
    "        for i, r in df_aux.iterrows():\n",
    "            if r['Qta'] >= abs(row['Qta']):\n",
    "                count_legal_pairs += 1\n",
    "                break\n",
    "\n",
    "    if not found:\n",
    "        all_paired = False\n",
    "        count_not_paired += 1\n",
    "\n",
    "del df_aux\n",
    "\n",
    "print(\"All negative entries have a corresponding positive one: \", all_paired)\n",
    "print(\"The negative entries which are not matched are: \", count_not_paired)\n",
    "print(\"The negative entries which are matched are: \", count_pairs)\n",
    "assert(len(df[df['Qta'] < 0]) == count_not_paired + count_pairs)\n",
    "print(\"The legal negative entries are: \", count_legal_pairs)"
   ]
  },
  {
   "cell_type": "markdown",
   "metadata": {
    "pycharm": {
     "name": "#%% md\n"
    }
   },
   "source": [
    "Further checks on entries with a negative quantity.<br>\n",
    "We assume them to be returned products, but we need to check that every \"negative\" product\n",
    "has a corresponding \"positive\" one. Moreover it's necessary to be sure that the |(quantity * price)| of a\n",
    "returned product is <= of (quantity * price) of a corresponding bought one"
   ]
  },
  {
   "cell_type": "code",
   "execution_count": null,
   "metadata": {
    "pycharm": {
     "name": "#%%\n"
    }
   },
   "outputs": [
    {
     "data": {
      "application/vnd.jupyter.widget-view+json": {
       "model_id": "8fe26dd008444a5fa0d7657bda524259",
       "version_major": 2,
       "version_minor": 0
      },
      "text/plain": [
       "HBox(children=(HTML(value='Iterating over dataset'), FloatProgress(value=0.0, max=401561.0), HTML(value='')))"
      ]
     },
     "metadata": {},
     "output_type": "display_data"
    }
   ],
   "source": [
    "# Initialize variables to analyze correctness of negative Qta rows\n",
    "# Dictionaries indexed by tuple (CustomerID, ProdID, Sale), value is Qta (or (Qta, list(indexes)) )\n",
    "pos_quant_tot = {}\n",
    "neg_quant_tot = {}\n",
    "\n",
    "for index, row in tqdm(df.iterrows(), total=len(df), desc=\"Iterating over dataset\"):\n",
    "    if row['Qta'] > 0:\n",
    "        if (row['CustomerID'], row['ProdID'], row['Sale']) not in pos_quant_tot.keys():\n",
    "            pos_quant_tot[(row['CustomerID'], row['ProdID'], row['Sale'])] = row['Qta']\n",
    "        else:\n",
    "            pos_quant_tot[(row['CustomerID'], row['ProdID'], row['Sale'])] += row['Qta']\n",
    "    elif row['ProdID'] != 'D':\n",
    "        if (row['CustomerID'], row['ProdID'], row['Sale']) not in neg_quant_tot.keys():\n",
    "            l = [index]\n",
    "            neg_quant_tot[(row['CustomerID'], row['ProdID'], row['Sale'])] = (-1*row['Qta'], l)\n",
    "        else:\n",
    "            prev = neg_quant_tot[(row['CustomerID'], row['ProdID'], row['Sale'])]\n",
    "            prev[1].append(index)\n",
    "            neg_quant_tot[(row['CustomerID'], row['ProdID'], row['Sale'])] = (prev[0]-row['Qta'], prev[1])\n",
    "\n",
    "positive_elements = set(pos_quant_tot.keys())\n",
    "negative_elements = set(neg_quant_tot.keys())"
   ]
  },
  {
   "cell_type": "code",
   "execution_count": null,
   "metadata": {
    "pycharm": {
     "name": "#%%\n"
    }
   },
   "outputs": [],
   "source": [
    "# drop negative Qta rows that are not matched with positive ones\n",
    "not_valid = negative_elements - (positive_elements & negative_elements)\n",
    "indexes_todelete = []\n",
    "for key in not_valid:\n",
    "    for x in neg_quant_tot[key][1]:\n",
    "        indexes_todelete.append(x)\n",
    "df.drop(indexes_todelete, inplace=True)"
   ]
  },
  {
   "cell_type": "code",
   "execution_count": null,
   "metadata": {
    "pycharm": {
     "name": "#%%\n"
    }
   },
   "outputs": [],
   "source": [
    "# drop negative Qta rows that are invalid neg_qta > pos_qta\n",
    "indexes_todelete = []\n",
    "for key in positive_elements & negative_elements:\n",
    "    if pos_quant_tot[key] < neg_quant_tot[key][0]:\n",
    "            for x in neg_quant_tot[key][1]:\n",
    "                indexes_todelete.append(x)\n",
    "df.drop(indexes_todelete, inplace=True)"
   ]
  },
  {
   "cell_type": "code",
   "execution_count": null,
   "metadata": {
    "pycharm": {
     "name": "#%%\n"
    },
    "scrolled": true
   },
   "outputs": [],
   "source": [
    "df.info()"
   ]
  },
  {
   "cell_type": "code",
   "execution_count": null,
   "metadata": {
    "scrolled": true
   },
   "outputs": [],
   "source": [
    "# **Outliers analysis**"
   ]
  },
  {
   "cell_type": "code",
   "execution_count": null,
   "metadata": {
    "scrolled": false
   },
   "outputs": [],
   "source": [
    "df.boxplot(column=['Sale'])"
   ]
  },
  {
   "cell_type": "code",
   "execution_count": null,
   "metadata": {},
   "outputs": [],
   "source": [
    "print(len(df['Sale']))\n",
    "print(len(df[df['Sale'] > 8000]))\n",
    "print(len(df[df['Sale'] > 4000]))\n",
    "print(len(df[df['Sale'] > 3000]))"
   ]
  },
  {
   "cell_type": "code",
   "execution_count": null,
   "metadata": {
    "scrolled": true
   },
   "outputs": [],
   "source": [
    "# Only 9 entries over 400K we drop this rows and replot the boxplot\n",
    "df.drop(df[df['Sale'] > 3000].index, inplace=True)\n",
    "df.boxplot(column=['Sale'])"
   ]
  },
  {
   "cell_type": "code",
   "execution_count": null,
   "metadata": {
    "scrolled": true
   },
   "outputs": [],
   "source": [
    "df.describe()"
   ]
  },
  {
   "cell_type": "code",
   "execution_count": null,
   "metadata": {},
   "outputs": [],
   "source": [
    "df[df['BasketID'] == '537137']"
   ]
  },
  {
   "cell_type": "code",
   "execution_count": null,
   "metadata": {
    "scrolled": true
   },
   "outputs": [],
   "source": [
    "df.boxplot(column=['Qta'])"
   ]
  },
  {
   "cell_type": "code",
   "execution_count": null,
   "metadata": {
    "scrolled": true
   },
   "outputs": [],
   "source": [
    "print(len(df[df['Qta'] > 10000]))\n",
    "print(len(df[df['Qta'] < -60000]))"
   ]
  },
  {
   "cell_type": "code",
   "execution_count": null,
   "metadata": {},
   "outputs": [],
   "source": [
    "df.drop(df[(df['Qta'] < -10000) | (df['Qta'] > 10000)].index, inplace=True)\n",
    "df.boxplot(column=['Qta'])"
   ]
  },
  {
   "cell_type": "code",
   "execution_count": null,
   "metadata": {},
   "outputs": [],
   "source": [
    "len(df[df['Qta'] < 0])"
   ]
  },
  {
   "cell_type": "markdown",
   "metadata": {
    "pycharm": {
     "name": "#%% md\n"
    }
   },
   "source": [
    "**Save cleaned dataframe in a csv**"
   ]
  },
  {
   "cell_type": "code",
   "execution_count": null,
   "metadata": {
    "pycharm": {
     "name": "#%%\n"
    }
   },
   "outputs": [],
   "source": [
    "path = 'cleaned_dataframe.csv'\n",
    "df.to_csv(path, sep='\\t')\n",
    "print(f\"Cleaned dataframe saved to '{path}'\")"
   ]
  }
 ],
 "metadata": {
  "kernelspec": {
   "display_name": "Python 3",
   "language": "python",
   "name": "python3"
  },
  "language_info": {
   "codemirror_mode": {
    "name": "ipython",
    "version": 3
   },
   "file_extension": ".py",
   "mimetype": "text/x-python",
   "name": "python",
   "nbconvert_exporter": "python",
   "pygments_lexer": "ipython3",
   "version": "3.8.6"
  }
 },
 "nbformat": 4,
 "nbformat_minor": 4
}