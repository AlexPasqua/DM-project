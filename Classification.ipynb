{
 "cells": [
  {
   "cell_type": "markdown",
   "metadata": {},
   "source": [
    "# CLASSIFICATION"
   ]
  },
  {
   "cell_type": "markdown",
   "metadata": {},
   "source": [
    "### CLASSIFICATION PLAN:\n",
    "We collected the labelled data from 2 different origins:\n",
    "1. **KMeans Clustering** result (which will be called **original data**): 3 distinct classes, one of which is highly **imbalanced**\n",
    "2. **Fuzzy Kmeans Clustering** result (which will be called **fuzzy data**): 3 distinct classes, not on same magnitude but also not particularly imbalanced\n",
    "\n",
    "Different approaches will be evaluated:\n",
    "* Apply classification on original training set i.e. high imbalance in data\n",
    "* Apply classification on oversampled original training set (robust oversampling method -> SMOTE)\n",
    "* Apply classification on oversampled original training set and test set (robust oversampling method -> SMOTE)\n",
    "* Apply classification on fuzzy training set i.e. more balanced data"
   ]
  },
  {
   "cell_type": "code",
   "execution_count": 491,
   "metadata": {},
   "outputs": [],
   "source": [
    "import math\n",
    "import numpy as np\n",
    "import pandas as pd\n",
    "import matplotlib.pyplot as plt\n",
    "import pydotplus\n",
    "\n",
    "from tqdm.notebook import tqdm\n",
    "from IPython.display import Image \n",
    "from collections import Counter\n",
    "from imblearn.over_sampling import SMOTE\n",
    "from scipy.stats import randint as sp_randint\n",
    "\n",
    "from sklearn import tree, metrics\n",
    "from sklearn.model_selection import train_test_split, RandomizedSearchCV, GridSearchCV\n",
    "from sklearn.metrics import classification_report, confusion_matrix, plot_confusion_matrix, make_scorer, accuracy_score\n",
    "from sklearn.ensemble import RandomForestClassifier\n",
    "from sklearn.naive_bayes import GaussianNB\n",
    "from sklearn.neighbors import KNeighborsClassifier\n",
    "from sklearn.svm import SVC\n",
    "from sklearn.datasets import make_blobs\n",
    "from sklearn.preprocessing import MinMaxScaler\n",
    "\n",
    "from tensorflow.keras.models import Sequential\n",
    "from tensorflow.keras.layers import Dense, Dropout\n",
    "from tensorflow.python.keras.utils.np_utils import to_categorical"
   ]
  },
  {
   "cell_type": "markdown",
   "metadata": {},
   "source": [
    "***"
   ]
  },
  {
   "cell_type": "code",
   "execution_count": 492,
   "metadata": {},
   "outputs": [],
   "source": [
    "# UTILITY FUNCTIONS\n",
    "\n",
    "# transform categorical attributes in numerical \n",
    "def discretize_data(dataset, variables):\n",
    "    for variable in variables:\n",
    "        #get the unique variable's values\n",
    "        var = sorted(dataset[variable].unique())\n",
    "        \n",
    "        #generate a mapping from the variable's values to the number representation  \n",
    "        mapping = dict(zip(var, range(0, len(var) + 1)))\n",
    "\n",
    "        #add a new colum with the number representation of the variable\n",
    "        dataset[variable+'_num'] = dataset[variable].map(mapping).astype(int)\n",
    "    return dataset\n",
    "\n",
    "# pretty printing of metrics computed on test set\n",
    "def report_scores(test_label, test_pred):\n",
    "    print(classification_report(test_label, \n",
    "                            test_pred, \n",
    "                            target_names=classes, zero_division=0)) \n",
    "# (to avoid exagerated warnings) zero division = 0 makes sure that no warnings \n",
    "# are raised even if no classification on a certain class happens (and it can happen in multiple cases in this notebook)"
   ]
  },
  {
   "cell_type": "markdown",
   "metadata": {},
   "source": [
    "***"
   ]
  },
  {
   "cell_type": "markdown",
   "metadata": {},
   "source": [
    "# WORKING ON ORIGINAL DATA"
   ]
  },
  {
   "cell_type": "markdown",
   "metadata": {},
   "source": [
    "***"
   ]
  },
  {
   "cell_type": "code",
   "execution_count": 493,
   "metadata": {},
   "outputs": [
    {
     "name": "stdout",
     "output_type": "stream",
     "text": [
      "<class 'pandas.core.frame.DataFrame'>\n",
      "Int64Index: 4333 entries, 17850 to 12713\n",
      "Data columns (total 16 columns):\n",
      " #   Column          Non-Null Count  Dtype  \n",
      "---  ------          --------------  -----  \n",
      " 0   TProd           4333 non-null   int64  \n",
      " 1   DProd           4333 non-null   int64  \n",
      " 2   MeanProdOrder   4333 non-null   float64\n",
      " 3   TSale           4333 non-null   float64\n",
      " 4   MinPSale        4333 non-null   float64\n",
      " 5   MaxPSale        4333 non-null   float64\n",
      " 6   MeanSaleOrder   4333 non-null   float64\n",
      " 7   TRProd          4333 non-null   int64  \n",
      " 8   MeanPSale       4333 non-null   float64\n",
      " 9   TOrder          4333 non-null   int64  \n",
      " 10  SETSaleQta      4333 non-null   float64\n",
      " 11  SESaleQtaOrder  4333 non-null   float64\n",
      " 12  MeanTimeGap     4333 non-null   float64\n",
      " 13  MaxOrderMonth   4333 non-null   object \n",
      " 14  MaxOrderDay     4333 non-null   object \n",
      " 15  Label           4333 non-null   object \n",
      "dtypes: float64(9), int64(4), object(3)\n",
      "memory usage: 575.5+ KB\n"
     ]
    }
   ],
   "source": [
    "# Starting dataset\n",
    "df = pd.read_csv('datasets/clustered_dataframe.csv', sep='\\t', index_col=0)\n",
    "df.info()"
   ]
  },
  {
   "cell_type": "code",
   "execution_count": 494,
   "metadata": {},
   "outputs": [
    {
     "name": "stdout",
     "output_type": "stream",
     "text": [
      "Low_Spend elements in dataset: 3867\n",
      "Med_Spend elements in dataset: 440\n",
      "High_Spend elements in dataset: 26\n"
     ]
    }
   ],
   "source": [
    "# taking a look at data distribution between classes\n",
    "for label in df['Label'].unique():\n",
    "    print(label,\"elements in dataset:\",len(df[df['Label'] == label]))"
   ]
  },
  {
   "cell_type": "code",
   "execution_count": 495,
   "metadata": {},
   "outputs": [
    {
     "data": {
      "text/plain": "            TProd  DProd  MeanProdOrder   TSale  MeanSaleOrder  TRProd  \\\nCustomerID                                                               \n13436          76     12           76.0  196.89         196.89       0   \n15520         314     18          314.0  343.50         343.50       0   \n13298          96      2           96.0  360.00         360.00       0   \n14569          79     10           79.0  227.39         227.39       0   \n12713         505     37          505.0  794.55         794.55       0   \n\n            MeanPSale  TOrder  MeanTimeGap  MaxOrderMonth_num  \\\nCustomerID                                                      \n13436           5.830       1          0.0                  2   \n15520           1.724       1          0.0                  2   \n13298           3.750       1          0.0                  2   \n14569           3.920       1          0.0                  2   \n12713           2.085       1          0.0                  2   \n\n            MaxOrderDay_num  Label_num  \nCustomerID                              \n13436                     3          1  \n15520                     3          1  \n13298                     3          1  \n14569                     3          1  \n12713                     0          2  ",
      "text/html": "<div>\n<style scoped>\n    .dataframe tbody tr th:only-of-type {\n        vertical-align: middle;\n    }\n\n    .dataframe tbody tr th {\n        vertical-align: top;\n    }\n\n    .dataframe thead th {\n        text-align: right;\n    }\n</style>\n<table border=\"1\" class=\"dataframe\">\n  <thead>\n    <tr style=\"text-align: right;\">\n      <th></th>\n      <th>TProd</th>\n      <th>DProd</th>\n      <th>MeanProdOrder</th>\n      <th>TSale</th>\n      <th>MeanSaleOrder</th>\n      <th>TRProd</th>\n      <th>MeanPSale</th>\n      <th>TOrder</th>\n      <th>MeanTimeGap</th>\n      <th>MaxOrderMonth_num</th>\n      <th>MaxOrderDay_num</th>\n      <th>Label_num</th>\n    </tr>\n    <tr>\n      <th>CustomerID</th>\n      <th></th>\n      <th></th>\n      <th></th>\n      <th></th>\n      <th></th>\n      <th></th>\n      <th></th>\n      <th></th>\n      <th></th>\n      <th></th>\n      <th></th>\n      <th></th>\n    </tr>\n  </thead>\n  <tbody>\n    <tr>\n      <th>13436</th>\n      <td>76</td>\n      <td>12</td>\n      <td>76.0</td>\n      <td>196.89</td>\n      <td>196.89</td>\n      <td>0</td>\n      <td>5.830</td>\n      <td>1</td>\n      <td>0.0</td>\n      <td>2</td>\n      <td>3</td>\n      <td>1</td>\n    </tr>\n    <tr>\n      <th>15520</th>\n      <td>314</td>\n      <td>18</td>\n      <td>314.0</td>\n      <td>343.50</td>\n      <td>343.50</td>\n      <td>0</td>\n      <td>1.724</td>\n      <td>1</td>\n      <td>0.0</td>\n      <td>2</td>\n      <td>3</td>\n      <td>1</td>\n    </tr>\n    <tr>\n      <th>13298</th>\n      <td>96</td>\n      <td>2</td>\n      <td>96.0</td>\n      <td>360.00</td>\n      <td>360.00</td>\n      <td>0</td>\n      <td>3.750</td>\n      <td>1</td>\n      <td>0.0</td>\n      <td>2</td>\n      <td>3</td>\n      <td>1</td>\n    </tr>\n    <tr>\n      <th>14569</th>\n      <td>79</td>\n      <td>10</td>\n      <td>79.0</td>\n      <td>227.39</td>\n      <td>227.39</td>\n      <td>0</td>\n      <td>3.920</td>\n      <td>1</td>\n      <td>0.0</td>\n      <td>2</td>\n      <td>3</td>\n      <td>1</td>\n    </tr>\n    <tr>\n      <th>12713</th>\n      <td>505</td>\n      <td>37</td>\n      <td>505.0</td>\n      <td>794.55</td>\n      <td>794.55</td>\n      <td>0</td>\n      <td>2.085</td>\n      <td>1</td>\n      <td>0.0</td>\n      <td>2</td>\n      <td>0</td>\n      <td>2</td>\n    </tr>\n  </tbody>\n</table>\n</div>"
     },
     "execution_count": 495,
     "metadata": {},
     "output_type": "execute_result"
    }
   ],
   "source": [
    "# we only have 2 categorical attributes, discretize them and get rid of them \n",
    "# (also get rid of attributes which lead in our experiments to bad classification)\n",
    "df = discretize_data(df,['MaxOrderMonth','MaxOrderDay','Label'])\n",
    "df.drop(columns=['MaxOrderMonth','MaxOrderDay','Label'], inplace=True, errors='ignore')\n",
    "df.drop(columns=['SETSaleQta','SESaleQtaOrder','MinPSale','MaxPSale'], inplace=True, errors='ignore')\n",
    "df_class = df.copy()\n",
    "df_class.tail()"
   ]
  },
  {
   "cell_type": "code",
   "execution_count": 496,
   "metadata": {},
   "outputs": [],
   "source": [
    "# we keep true labels apart\n",
    "label = df_class.pop('Label_num')\n",
    "# we split dataset in training and test dataset. The use of stratify assures we keep correct class proportions in training and test\n",
    "train_set, test_set, train_label, test_label = train_test_split(df_class, label, stratify = label, test_size=0.30)"
   ]
  },
  {
   "cell_type": "markdown",
   "metadata": {},
   "source": [
    "***"
   ]
  },
  {
   "cell_type": "markdown",
   "metadata": {},
   "source": [
    "## CLASSIFICATION on ORIGINAL TRAINING SET"
   ]
  },
  {
   "cell_type": "markdown",
   "metadata": {},
   "source": [
    "### Decision Tree (only for illustrating the method, we apply this to make an example of high explainability in classification)"
   ]
  },
  {
   "cell_type": "code",
   "execution_count": 497,
   "metadata": {},
   "outputs": [],
   "source": [
    "# parameters based on various trial and errors\n",
    "dt = tree.DecisionTreeClassifier(criterion='gini', splitter='best', \n",
    "                                  max_depth=3, \n",
    "                                  min_samples_split=3, min_samples_leaf=8)\n",
    "dt = dt.fit(train_set, train_label)"
   ]
  },
  {
   "cell_type": "code",
   "execution_count": 498,
   "metadata": {
    "scrolled": false
   },
   "outputs": [],
   "source": [
    "# # visualization of dt\n",
    "# classes = ['High_Spend','Low_Spend','Med_Spend']\n",
    "# dot_data = tree.export_graphviz(dt, out_file=None,\n",
    "#                          feature_names=list(train_set.columns),\n",
    "#                          class_names=classes,  #in transforming to numerical this order is mapped to 0,1,2 because of lexicographical\n",
    "#                          filled=True, rounded=True)\n",
    "# graph = pydotplus.graph_from_dot_data(dot_data)\n",
    "# Image(graph.create_png())"
   ]
  },
  {
   "cell_type": "code",
   "execution_count": 499,
   "metadata": {},
   "outputs": [
    {
     "name": "stdout",
     "output_type": "stream",
     "text": [
      "Accuracy training set  0.9851632047477745\n",
      "Accuracy test set  0.9738461538461538\n",
      "Precision training set  0.984982559813209\n",
      "Recall training set  0.9851632047477745\n",
      "F1 score trainig set  0.9848693770964636\n",
      "Support training set  (array([1.        , 0.9889989 , 0.94880546]), array([0.72222222, 0.99630587, 0.9025974 ]), array([0.83870968, 0.99263894, 0.92512479]), array([  18, 2707,  308], dtype=int64))\n"
     ]
    }
   ],
   "source": [
    "# predict and evaluate results on training and test set\n",
    "train_pred_dt = dt.predict(train_set)\n",
    "test_pred_dt = dt.predict(test_set)\n",
    "\n",
    "print('Accuracy training set ', metrics.accuracy_score(train_label, train_pred_dt))\n",
    "print('Accuracy test set ', metrics.accuracy_score(test_label, test_pred_dt))\n",
    "print('Precision training set ', metrics.precision_score(train_label, train_pred_dt, average='weighted'))\n",
    "print('Recall training set ', metrics.recall_score(train_label, train_pred_dt, average='weighted'))\n",
    "print('F1 score trainig set ', metrics.f1_score(train_label, train_pred_dt, average='weighted'))\n",
    "print('Support training set ', metrics.precision_recall_fscore_support(train_label, train_pred_dt))"
   ]
  },
  {
   "cell_type": "code",
   "execution_count": 500,
   "metadata": {},
   "outputs": [
    {
     "name": "stdout",
     "output_type": "stream",
     "text": [
      "              precision    recall  f1-score   support\n",
      "\n",
      "  High_Spend       1.00      0.75      0.86         8\n",
      "   Low_Spend       0.98      0.99      0.99      1160\n",
      "   Med_Spend       0.89      0.85      0.87       132\n",
      "\n",
      "    accuracy                           0.97      1300\n",
      "   macro avg       0.96      0.86      0.90      1300\n",
      "weighted avg       0.97      0.97      0.97      1300\n",
      "\n"
     ]
    }
   ],
   "source": [
    "report_scores(test_label, test_pred_dt)"
   ]
  },
  {
   "cell_type": "code",
   "execution_count": 501,
   "metadata": {},
   "outputs": [
    {
     "data": {
      "text/plain": "<Figure size 432x288 with 2 Axes>",
      "image/png": "[encoded data removed]"
     },
     "metadata": {
      "needs_background": "light"
     },
     "output_type": "display_data"
    }
   ],
   "source": [
    "# plot confusion matrix\n",
    "plot_confusion_matrix(dt, test_set, test_label)\n",
    "plt.show() "
   ]
  },
  {
   "cell_type": "markdown",
   "metadata": {},
   "source": [
    "### Random Forest"
   ]
  },
  {
   "cell_type": "markdown",
   "metadata": {},
   "source": [
    "**First do a grid search for correct parameter setting**"
   ]
  },
  {
   "cell_type": "code",
   "execution_count": 502,
   "metadata": {},
   "outputs": [
    {
     "data": {
      "text/plain": "RandomizedSearchCV(estimator=RandomForestClassifier(n_estimators=30), n_iter=50,\n                   n_jobs=-1,\n                   param_distributions={'bootstrap': [True, False],\n                                        'criterion': ['entropy', 'gini'],\n                                        'max_depth': [3, 5, 6, 7, 8, 9, 10, 11,\n                                                      12, None],\n                                        'max_features': <scipy.stats._distn_infrastructure.rv_frozen object at 0x000001F24B845430>,\n                                        'min_samples_leaf': <scipy.stats._distn_infrastructure.rv_frozen object at 0x000001F24B8453D0>,\n                                        'min_samples_split': <scipy.stats._distn_infrastructure.rv_frozen object at 0x000001F2473B44F0>},\n                   scoring=make_scorer(accuracy_score))"
     },
     "execution_count": 502,
     "metadata": {},
     "output_type": "execute_result"
    }
   ],
   "source": [
    "# define the parameter ranges we want to try, then run the grid search\n",
    "num_estimators = 30\n",
    "param_dist = {\"max_depth\": [3,5,6,7,8,9,10,11,12,None],\n",
    "              \"max_features\": sp_randint(1, 10),\n",
    "              \"min_samples_split\": sp_randint(3, 20),\n",
    "              \"min_samples_leaf\": sp_randint(5, 20),\n",
    "              \"bootstrap\": [True, False],\n",
    "              \"criterion\": [\"entropy\", \"gini\"]}\n",
    "n_iter_search = 50\n",
    "clf = RandomForestClassifier(n_estimators=num_estimators)\n",
    "grid_search = RandomizedSearchCV(clf, param_distributions=param_dist, \n",
    "                            n_iter=n_iter_search, \n",
    "                            n_jobs=-1, \n",
    "                            scoring=make_scorer(accuracy_score))\n",
    "grid_search.fit(train_set, train_label)"
   ]
  },
  {
   "cell_type": "code",
   "execution_count": 503,
   "metadata": {},
   "outputs": [
    {
     "name": "stdout",
     "output_type": "stream",
     "text": [
      "Best setting parameters  {'bootstrap': True, 'criterion': 'entropy', 'max_depth': None, 'max_features': 4, 'min_samples_leaf': 9, 'min_samples_split': 17}\n",
      "Mean and std of this setting  0.9848337057758494 0.0033613405174658844\n"
     ]
    }
   ],
   "source": [
    "# visualize insights on best performing model individuated\n",
    "print('Best setting parameters ', grid_search.cv_results_['params'][0])\n",
    "print('Mean and std of this setting ', grid_search.cv_results_['mean_test_score'][0], \n",
    "      grid_search.cv_results_['std_test_score'][0])"
   ]
  },
  {
   "cell_type": "code",
   "execution_count": 504,
   "metadata": {},
   "outputs": [],
   "source": [
    "# set and training the specified random forest\n",
    "rf = RandomForestClassifier(n_estimators=30, \n",
    "                             criterion=grid_search.cv_results_['params'][0]['criterion'],\n",
    "                             max_features=grid_search.cv_results_['params'][0]['max_features'],\n",
    "                             max_depth=grid_search.cv_results_['params'][0]['max_depth'], \n",
    "                             min_samples_split=grid_search.cv_results_['params'][0]['min_samples_split'],\n",
    "                             min_samples_leaf=grid_search.cv_results_['params'][0]['min_samples_leaf'],\n",
    "                             bootstrap=grid_search.cv_results_['params'][0]['bootstrap']) \n",
    "rf = rf.fit(train_set, train_label)"
   ]
  },
  {
   "cell_type": "code",
   "execution_count": 505,
   "metadata": {},
   "outputs": [
    {
     "name": "stdout",
     "output_type": "stream",
     "text": [
      "              precision    recall  f1-score   support\n",
      "\n",
      "  High_Spend       1.00      0.38      0.55         8\n",
      "   Low_Spend       0.99      1.00      0.99      1160\n",
      "   Med_Spend       0.96      0.91      0.93       132\n",
      "\n",
      "    accuracy                           0.99      1300\n",
      "   macro avg       0.98      0.76      0.82      1300\n",
      "weighted avg       0.99      0.99      0.99      1300\n",
      "\n"
     ]
    }
   ],
   "source": [
    "# predict on test and visualize results\n",
    "test_pred_rf = rf.predict(test_set)\n",
    "report_scores(test_label, test_pred_rf)"
   ]
  },
  {
   "cell_type": "code",
   "execution_count": 506,
   "metadata": {},
   "outputs": [],
   "source": [
    "# # forest is composed of lots of dt, visualize one just for fun\n",
    "# dot_data = tree.export_graphviz(rf[0], out_file=None,\n",
    "#                          feature_names=list(train_set.columns),\n",
    "#                          class_names=classes,\n",
    "#                          filled=True, rounded=True)\n",
    "# graph = pydotplus.graph_from_dot_data(dot_data)\n",
    "# Image(graph.create_png())"
   ]
  },
  {
   "cell_type": "markdown",
   "metadata": {},
   "source": [
    "### Naive Bayes"
   ]
  },
  {
   "cell_type": "code",
   "execution_count": 507,
   "metadata": {},
   "outputs": [
    {
     "name": "stdout",
     "output_type": "stream",
     "text": [
      "              precision    recall  f1-score   support\n",
      "\n",
      "  High_Spend       0.58      0.88      0.70         8\n",
      "   Low_Spend       0.98      0.96      0.97      1160\n",
      "   Med_Spend       0.71      0.77      0.73       132\n",
      "\n",
      "    accuracy                           0.94      1300\n",
      "   macro avg       0.76      0.87      0.80      1300\n",
      "weighted avg       0.95      0.94      0.94      1300\n",
      "\n"
     ]
    }
   ],
   "source": [
    "# define and fit naive bayes model, predict on test and see results\n",
    "gnb = GaussianNB()\n",
    "gnb.fit(train_set, train_label)\n",
    "\n",
    "test_pred_gnb = gnb.predict(test_set)\n",
    "\n",
    "report_scores(test_label,test_pred_gnb)"
   ]
  },
  {
   "cell_type": "markdown",
   "metadata": {},
   "source": [
    "### KNN"
   ]
  },
  {
   "cell_type": "code",
   "execution_count": 508,
   "metadata": {},
   "outputs": [
    {
     "name": "stdout",
     "output_type": "stream",
     "text": [
      "              precision    recall  f1-score   support\n",
      "\n",
      "  High_Spend       1.00      0.25      0.40         8\n",
      "   Low_Spend       0.97      0.99      0.98      1160\n",
      "   Med_Spend       0.86      0.73      0.79       132\n",
      "\n",
      "    accuracy                           0.96      1300\n",
      "   macro avg       0.94      0.66      0.72      1300\n",
      "weighted avg       0.96      0.96      0.96      1300\n",
      "\n"
     ]
    }
   ],
   "source": [
    "# define and fit knn model, predict on test and see results\n",
    "knn = KNeighborsClassifier(n_neighbors=5, algorithm='ball_tree', metric='minkowski').fit(train_set, train_label)\n",
    "\n",
    "test_pred_knn = knn.predict(test_set)\n",
    "\n",
    "report_scores(test_label,test_pred_knn)"
   ]
  },
  {
   "cell_type": "markdown",
   "metadata": {},
   "source": [
    "### SVM"
   ]
  },
  {
   "cell_type": "code",
   "execution_count": 509,
   "metadata": {},
   "outputs": [
    {
     "name": "stdout",
     "output_type": "stream",
     "text": [
      "              precision    recall  f1-score   support\n",
      "\n",
      "  High_Spend       0.00      0.00      0.00         8\n",
      "   Low_Spend       0.92      1.00      0.95      1160\n",
      "   Med_Spend       0.79      0.23      0.35       132\n",
      "\n",
      "    accuracy                           0.91      1300\n",
      "   macro avg       0.57      0.41      0.44      1300\n",
      "weighted avg       0.90      0.91      0.89      1300\n",
      "\n"
     ]
    }
   ],
   "source": [
    "# define and fit svm model, predict on test and see results\n",
    "svm = SVC(kernel='sigmoid', C=0.6, gamma='scale', probability=True)\n",
    "svm.fit(train_set, train_label)\n",
    "\n",
    "test_pred_svm = svm.predict(test_set)\n",
    "\n",
    "report_scores(test_label, test_pred_svm)"
   ]
  },
  {
   "cell_type": "markdown",
   "metadata": {},
   "source": [
    "***"
   ]
  },
  {
   "cell_type": "markdown",
   "metadata": {},
   "source": [
    "## CLASSIFICATION on OVERSAMPLED TRAINING SET (SMOTE)"
   ]
  },
  {
   "cell_type": "markdown",
   "metadata": {},
   "source": [
    "**SMOTE** is a different stratification method which applies oversampling to the classes. The difference between this method and the basic oversampling stands in the generation of new data:\n",
    "* in the basic oversampling, original data is simply copied to create exact (but additional) new data\n",
    "* in SMOTE oversampling, original data is used to create new data which copies the old one adding a [0,1] **perturbation**, hence generating truly new data"
   ]
  },
  {
   "cell_type": "code",
   "execution_count": 510,
   "metadata": {},
   "outputs": [],
   "source": [
    "# create oversampled data\n",
    "strat = {1: Counter(train_label)[1], 2: Counter(train_label)[2], 0: Counter(train_label)[2] }\n",
    "smote = SMOTE(\n",
    "    sampling_strategy=strat,    # resample all classes but the majority one\n",
    "    k_neighbors=5\n",
    ")\n",
    "\n",
    "train_set_smote, train_label_smote = smote.fit_resample(train_set, train_label)"
   ]
  },
  {
   "cell_type": "code",
   "execution_count": 511,
   "metadata": {},
   "outputs": [
    {
     "data": {
      "text/plain": "Counter({1: 2707, 2: 308, 0: 308})"
     },
     "execution_count": 511,
     "metadata": {},
     "output_type": "execute_result"
    }
   ],
   "source": [
    "# visualize data distribution\n",
    "Counter(train_label_smote)"
   ]
  },
  {
   "cell_type": "markdown",
   "metadata": {},
   "source": [
    "### Random Forest"
   ]
  },
  {
   "cell_type": "markdown",
   "metadata": {},
   "source": [
    "Try grid search again, on this more **balanced** dataset"
   ]
  },
  {
   "cell_type": "code",
   "execution_count": 512,
   "metadata": {},
   "outputs": [
    {
     "data": {
      "text/plain": "RandomizedSearchCV(estimator=RandomForestClassifier(n_estimators=30), n_iter=50,\n                   n_jobs=-1,\n                   param_distributions={'bootstrap': [True, False],\n                                        'criterion': ['entropy', 'gini'],\n                                        'max_depth': [3, 5, 6, 7, 8, 9, 10, 11,\n                                                      12, None],\n                                        'max_features': <scipy.stats._distn_infrastructure.rv_frozen object at 0x000001F24B845430>,\n                                        'min_samples_leaf': <scipy.stats._distn_infrastructure.rv_frozen object at 0x000001F24B8453D0>,\n                                        'min_samples_split': <scipy.stats._distn_infrastructure.rv_frozen object at 0x000001F2473B44F0>},\n                   scoring=make_scorer(accuracy_score))"
     },
     "execution_count": 512,
     "metadata": {},
     "output_type": "execute_result"
    }
   ],
   "source": [
    "# define and run the grid search\n",
    "clf_smote = RandomForestClassifier(n_estimators=num_estimators)\n",
    "grid_search_smote = RandomizedSearchCV(clf_smote, param_distributions=param_dist, \n",
    "                            n_iter=n_iter_search, \n",
    "                            n_jobs=-1, \n",
    "                            scoring=make_scorer(accuracy_score))\n",
    "grid_search_smote.fit(train_set_smote, train_label_smote)"
   ]
  },
  {
   "cell_type": "code",
   "execution_count": 513,
   "metadata": {},
   "outputs": [
    {
     "name": "stdout",
     "output_type": "stream",
     "text": [
      "Best setting parameters  {'bootstrap': False, 'criterion': 'gini', 'max_depth': 6, 'max_features': 2, 'min_samples_leaf': 16, 'min_samples_split': 10}\n",
      "Mean and std of this setting  0.9846485188875803 0.006899290905951737\n"
     ]
    }
   ],
   "source": [
    "# visualize insights on best performing model individuated\n",
    "print('Best setting parameters ', grid_search_smote.cv_results_['params'][0])\n",
    "print('Mean and std of this setting ', grid_search_smote.cv_results_['mean_test_score'][0], \n",
    "      grid_search_smote.cv_results_['std_test_score'][0])"
   ]
  },
  {
   "cell_type": "code",
   "execution_count": 514,
   "metadata": {},
   "outputs": [],
   "source": [
    "# set and training the specified random forest\n",
    "rf_smote = RandomForestClassifier(n_estimators=num_estimators, \n",
    "                             criterion=grid_search_smote.cv_results_['params'][0]['criterion'],\n",
    "                             max_features=grid_search_smote.cv_results_['params'][0]['max_features'],\n",
    "                             max_depth=grid_search_smote.cv_results_['params'][0]['max_depth'], \n",
    "                             min_samples_split=grid_search_smote.cv_results_['params'][0]['min_samples_split'],\n",
    "                             min_samples_leaf=grid_search_smote.cv_results_['params'][0]['min_samples_leaf'],\n",
    "                             bootstrap=grid_search_smote.cv_results_['params'][0]['bootstrap'])\n",
    "rf_smote = rf_smote.fit(train_set_smote, train_label_smote)"
   ]
  },
  {
   "cell_type": "code",
   "execution_count": 515,
   "metadata": {},
   "outputs": [
    {
     "name": "stdout",
     "output_type": "stream",
     "text": [
      "              precision    recall  f1-score   support\n",
      "\n",
      "  High_Spend       0.60      0.75      0.67         8\n",
      "   Low_Spend       0.99      1.00      0.99      1160\n",
      "   Med_Spend       0.95      0.86      0.90       132\n",
      "\n",
      "    accuracy                           0.98      1300\n",
      "   macro avg       0.85      0.87      0.85      1300\n",
      "weighted avg       0.98      0.98      0.98      1300\n",
      "\n"
     ]
    }
   ],
   "source": [
    "# predict on test and visualize results\n",
    "test_pred_rf = rf_smote.predict(test_set)\n",
    "report_scores(test_label, test_pred_rf)"
   ]
  },
  {
   "cell_type": "markdown",
   "metadata": {},
   "source": [
    "### Naive Bayes"
   ]
  },
  {
   "cell_type": "code",
   "execution_count": 516,
   "metadata": {},
   "outputs": [
    {
     "name": "stdout",
     "output_type": "stream",
     "text": [
      "              precision    recall  f1-score   support\n",
      "\n",
      "  High_Spend       0.50      0.88      0.64         8\n",
      "   Low_Spend       0.98      0.96      0.97      1160\n",
      "   Med_Spend       0.70      0.74      0.72       132\n",
      "\n",
      "    accuracy                           0.94      1300\n",
      "   macro avg       0.72      0.86      0.77      1300\n",
      "weighted avg       0.94      0.94      0.94      1300\n",
      "\n"
     ]
    }
   ],
   "source": [
    "# define and fit naive bayes model, predict on test and see results\n",
    "gnb = GaussianNB()\n",
    "gnb.fit(train_set_smote, train_label_smote)\n",
    "\n",
    "test_pred_gnb = gnb.predict(test_set)\n",
    "\n",
    "report_scores(test_label,test_pred_gnb)"
   ]
  },
  {
   "cell_type": "markdown",
   "metadata": {},
   "source": [
    "### KNN"
   ]
  },
  {
   "cell_type": "code",
   "execution_count": 517,
   "metadata": {},
   "outputs": [
    {
     "name": "stdout",
     "output_type": "stream",
     "text": [
      "              precision    recall  f1-score   support\n",
      "\n",
      "  High_Spend       0.62      1.00      0.76         8\n",
      "   Low_Spend       0.97      0.99      0.98      1160\n",
      "   Med_Spend       0.92      0.70      0.79       132\n",
      "\n",
      "    accuracy                           0.96      1300\n",
      "   macro avg       0.84      0.90      0.85      1300\n",
      "weighted avg       0.96      0.96      0.96      1300\n",
      "\n"
     ]
    }
   ],
   "source": [
    "# define and fit knn model, predict on test and see results\n",
    "knn = KNeighborsClassifier(n_neighbors=5, algorithm='ball_tree', metric='minkowski').fit(train_set_smote, train_label_smote)\n",
    "\n",
    "test_pred_knn = knn.predict(test_set)\n",
    "\n",
    "report_scores(test_label,test_pred_knn)"
   ]
  },
  {
   "cell_type": "markdown",
   "metadata": {},
   "source": [
    "### SVM"
   ]
  },
  {
   "cell_type": "code",
   "execution_count": 518,
   "metadata": {},
   "outputs": [
    {
     "name": "stdout",
     "output_type": "stream",
     "text": [
      "              precision    recall  f1-score   support\n",
      "\n",
      "  High_Spend       0.05      0.62      0.09         8\n",
      "   Low_Spend       0.92      0.95      0.93      1160\n",
      "   Med_Spend       1.00      0.01      0.02       132\n",
      "\n",
      "    accuracy                           0.85      1300\n",
      "   macro avg       0.66      0.53      0.35      1300\n",
      "weighted avg       0.92      0.85      0.83      1300\n",
      "\n"
     ]
    }
   ],
   "source": [
    "# define and fit svm model, predict on test and see results\n",
    "svm = SVC(kernel='sigmoid', C=0.6, gamma='scale', probability=True)\n",
    "svm.fit(train_set_smote, train_label_smote)\n",
    "\n",
    "test_pred_svm = svm.predict(test_set)\n",
    "\n",
    "report_scores(test_label, test_pred_svm)"
   ]
  },
  {
   "cell_type": "markdown",
   "metadata": {},
   "source": [
    "***"
   ]
  },
  {
   "cell_type": "markdown",
   "metadata": {},
   "source": [
    "## CLASSIFICATION on OVERSAMPLED TRAINING SET and TEST SET (SMOTE)"
   ]
  },
  {
   "cell_type": "code",
   "execution_count": 519,
   "metadata": {},
   "outputs": [
    {
     "data": {
      "text/plain": "Counter({1: 1160, 2: 132, 0: 132})"
     },
     "execution_count": 519,
     "metadata": {},
     "output_type": "execute_result"
    }
   ],
   "source": [
    "# before starting classification we apply stratification to test set to have more data in less populated class\n",
    "# we do this because otherwise our test set would be populated of < 10 elements for High_Spend class, giving a susceptible evaluation  \n",
    "strat = {1: Counter(test_label)[1], 2: Counter(test_label)[2], 0: Counter(test_label)[2] }\n",
    "smote = SMOTE(\n",
    "    sampling_strategy=strat,    # resample all classes but the majority one\n",
    "    k_neighbors=5\n",
    ")\n",
    "test_set, test_label = smote.fit_resample(test_set, test_label)\n",
    "\n",
    "# visualize data distribution in TEST\n",
    "Counter(test_label)"
   ]
  },
  {
   "cell_type": "code",
   "execution_count": 520,
   "metadata": {
    "scrolled": true
   },
   "outputs": [
    {
     "data": {
      "text/plain": "<Figure size 432x288 with 1 Axes>",
      "image/png": "[encoded data removed]"
     },
     "metadata": {
      "needs_background": "light"
     },
     "output_type": "display_data"
    }
   ],
   "source": [
    "plt.scatter(test_set.iloc[:, 4].values, test_set.iloc[:, 0].values, c=test_label.values, s=25, cmap='winter');"
   ]
  },
  {
   "cell_type": "code",
   "execution_count": 521,
   "metadata": {},
   "outputs": [
    {
     "data": {
      "text/plain": "Counter({1: 2707, 2: 308, 0: 308})"
     },
     "execution_count": 521,
     "metadata": {},
     "output_type": "execute_result"
    }
   ],
   "source": [
    "# visualize data distribution in TRAINING\n",
    "Counter(train_label_smote)"
   ]
  },
  {
   "cell_type": "markdown",
   "metadata": {},
   "source": [
    "### Random Forest"
   ]
  },
  {
   "cell_type": "markdown",
   "metadata": {},
   "source": [
    "Try grid search again, on this more balanced dataset"
   ]
  },
  {
   "cell_type": "code",
   "execution_count": 522,
   "metadata": {},
   "outputs": [
    {
     "data": {
      "text/plain": "RandomizedSearchCV(estimator=RandomForestClassifier(n_estimators=30), n_iter=50,\n                   n_jobs=-1,\n                   param_distributions={'bootstrap': [True, False],\n                                        'criterion': ['entropy', 'gini'],\n                                        'max_depth': [3, 5, 6, 7, 8, 9, 10, 11,\n                                                      12, None],\n                                        'max_features': <scipy.stats._distn_infrastructure.rv_frozen object at 0x000001F24B845430>,\n                                        'min_samples_leaf': <scipy.stats._distn_infrastructure.rv_frozen object at 0x000001F24B8453D0>,\n                                        'min_samples_split': <scipy.stats._distn_infrastructure.rv_frozen object at 0x000001F2473B44F0>},\n                   scoring=make_scorer(accuracy_score))"
     },
     "execution_count": 522,
     "metadata": {},
     "output_type": "execute_result"
    }
   ],
   "source": [
    "# define and run the grid search\n",
    "clf_smote = RandomForestClassifier(n_estimators=num_estimators)\n",
    "grid_search_smote = RandomizedSearchCV(clf_smote, param_distributions=param_dist, \n",
    "                            n_iter=n_iter_search, \n",
    "                            n_jobs=-1, \n",
    "                            scoring=make_scorer(accuracy_score))\n",
    "grid_search_smote.fit(train_set_smote, train_label_smote)"
   ]
  },
  {
   "cell_type": "code",
   "execution_count": 523,
   "metadata": {},
   "outputs": [
    {
     "name": "stdout",
     "output_type": "stream",
     "text": [
      "Best setting parameters  {'bootstrap': True, 'criterion': 'entropy', 'max_depth': 10, 'max_features': 1, 'min_samples_leaf': 8, 'min_samples_split': 6}\n",
      "Mean and std of this setting  0.9771270042576321 0.004991076093744596\n"
     ]
    }
   ],
   "source": [
    "# visualize insights on best performing model individuated\n",
    "print('Best setting parameters ', grid_search_smote.cv_results_['params'][0])\n",
    "print('Mean and std of this setting ', grid_search_smote.cv_results_['mean_test_score'][0], \n",
    "      grid_search_smote.cv_results_['std_test_score'][0])"
   ]
  },
  {
   "cell_type": "code",
   "execution_count": 524,
   "metadata": {},
   "outputs": [],
   "source": [
    "# set and training the specified random forest\n",
    "rf_smote = RandomForestClassifier(n_estimators=num_estimators, \n",
    "                             criterion=grid_search_smote.cv_results_['params'][0]['criterion'],\n",
    "                             max_features=grid_search_smote.cv_results_['params'][0]['max_features'],\n",
    "                             max_depth=grid_search_smote.cv_results_['params'][0]['max_depth'], \n",
    "                             min_samples_split=grid_search_smote.cv_results_['params'][0]['min_samples_split'],\n",
    "                             min_samples_leaf=grid_search_smote.cv_results_['params'][0]['min_samples_leaf'],\n",
    "                             bootstrap=grid_search_smote.cv_results_['params'][0]['bootstrap'])\n",
    "rf_smote = rf_smote.fit(train_set_smote, train_label_smote)"
   ]
  },
  {
   "cell_type": "code",
   "execution_count": 525,
   "metadata": {},
   "outputs": [
    {
     "name": "stdout",
     "output_type": "stream",
     "text": [
      "              precision    recall  f1-score   support\n",
      "\n",
      "  High_Spend       0.97      0.69      0.81       132\n",
      "   Low_Spend       0.97      1.00      0.99      1160\n",
      "   Med_Spend       0.77      0.81      0.79       132\n",
      "\n",
      "    accuracy                           0.95      1424\n",
      "   macro avg       0.90      0.83      0.86      1424\n",
      "weighted avg       0.95      0.95      0.95      1424\n",
      "\n"
     ]
    }
   ],
   "source": [
    "# predict on test and visualize results\n",
    "test_pred_rf = rf_smote.predict(test_set)\n",
    "report_scores(test_label, test_pred_rf)"
   ]
  },
  {
   "cell_type": "markdown",
   "metadata": {},
   "source": [
    "### Naive Bayes"
   ]
  },
  {
   "cell_type": "code",
   "execution_count": 526,
   "metadata": {},
   "outputs": [
    {
     "name": "stdout",
     "output_type": "stream",
     "text": [
      "              precision    recall  f1-score   support\n",
      "\n",
      "  High_Spend       0.93      0.70      0.80       132\n",
      "   Low_Spend       0.98      0.96      0.97      1160\n",
      "   Med_Spend       0.55      0.74      0.63       132\n",
      "\n",
      "    accuracy                           0.92      1424\n",
      "   macro avg       0.82      0.80      0.80      1424\n",
      "weighted avg       0.93      0.92      0.92      1424\n",
      "\n"
     ]
    }
   ],
   "source": [
    "# define and fit naive bayes model, predict on test and see results\n",
    "gnb = GaussianNB()\n",
    "gnb.fit(train_set_smote, train_label_smote)\n",
    "\n",
    "test_pred_gnb = gnb.predict(test_set)\n",
    "\n",
    "report_scores(test_label,test_pred_gnb)"
   ]
  },
  {
   "cell_type": "markdown",
   "metadata": {},
   "source": [
    "### KNN"
   ]
  },
  {
   "cell_type": "code",
   "execution_count": 527,
   "metadata": {},
   "outputs": [
    {
     "name": "stdout",
     "output_type": "stream",
     "text": [
      "              precision    recall  f1-score   support\n",
      "\n",
      "  High_Spend       0.96      0.89      0.93       132\n",
      "   Low_Spend       0.97      0.99      0.98      1160\n",
      "   Med_Spend       0.83      0.70      0.76       132\n",
      "\n",
      "    accuracy                           0.96      1424\n",
      "   macro avg       0.92      0.86      0.89      1424\n",
      "weighted avg       0.95      0.96      0.95      1424\n",
      "\n"
     ]
    }
   ],
   "source": [
    "# define and fit knn model, predict on test and see results\n",
    "knn = KNeighborsClassifier(n_neighbors=5, algorithm='ball_tree', metric='minkowski').fit(train_set_smote, train_label_smote)\n",
    "\n",
    "test_pred_knn = knn.predict(test_set)\n",
    "\n",
    "report_scores(test_label,test_pred_knn)"
   ]
  },
  {
   "cell_type": "markdown",
   "metadata": {},
   "source": [
    "### SVM"
   ]
  },
  {
   "cell_type": "code",
   "execution_count": 528,
   "metadata": {},
   "outputs": [
    {
     "name": "stdout",
     "output_type": "stream",
     "text": [
      "              precision    recall  f1-score   support\n",
      "\n",
      "  High_Spend       0.51      0.78      0.61       132\n",
      "   Low_Spend       0.90      0.95      0.92      1160\n",
      "   Med_Spend       0.50      0.01      0.01       132\n",
      "\n",
      "    accuracy                           0.84      1424\n",
      "   macro avg       0.64      0.58      0.52      1424\n",
      "weighted avg       0.83      0.84      0.81      1424\n",
      "\n"
     ]
    }
   ],
   "source": [
    "# define and fit svm model, predict on test and see results\n",
    "svm = SVC(kernel='sigmoid', C=0.6, gamma='scale', probability=True)\n",
    "svm.fit(train_set_smote, train_label_smote)\n",
    "\n",
    "test_pred_svm = svm.predict(test_set)\n",
    "\n",
    "report_scores(test_label, test_pred_svm)"
   ]
  },
  {
   "cell_type": "markdown",
   "metadata": {},
   "source": [
    "***"
   ]
  },
  {
   "cell_type": "markdown",
   "metadata": {},
   "source": [
    "# WORKING ON FUZZY DATA"
   ]
  },
  {
   "cell_type": "code",
   "execution_count": 529,
   "metadata": {},
   "outputs": [],
   "source": [
    "# Starting dataset\n",
    "df_f = pd.read_csv('datasets/clustered_fuzzy_dataframe.csv', sep='\\t', index_col=0)"
   ]
  },
  {
   "cell_type": "code",
   "execution_count": 530,
   "metadata": {},
   "outputs": [],
   "source": [
    "# we only have 2 categorical attributes, discretize them and get rid of them \n",
    "# (also get rid of attributes which lead in our experiments to bad classification)\n",
    "df_f = discretize_data(df_f,['MaxOrderMonth','MaxOrderDay','Label'])\n",
    "df_f.drop(columns=['MaxOrderMonth','MaxOrderDay','Label'], inplace=True, errors='ignore')\n",
    "df_f.drop(columns=['SETSaleQta','SESaleQtaOrder','MinPSale','MaxPSale'], inplace=True, errors='ignore')\n",
    "df_f_class = df_f.copy()"
   ]
  },
  {
   "cell_type": "code",
   "execution_count": 531,
   "metadata": {},
   "outputs": [],
   "source": [
    "# we keep true labels apart\n",
    "label = df_f_class.pop('Label_num')\n",
    "# we split dataset in training and test dataset. The use of stratify assures we keep correct class proportions in training and test\n",
    "train_set_f, test_set_f, train_label_f, test_label_f = train_test_split(df_f_class, label, stratify = label, test_size=0.30)"
   ]
  },
  {
   "cell_type": "markdown",
   "metadata": {},
   "source": [
    "***"
   ]
  },
  {
   "cell_type": "markdown",
   "metadata": {},
   "source": [
    "### Decision Tree (only for illustrating the method, we apply this to make an example of high explainability in classification)"
   ]
  },
  {
   "cell_type": "code",
   "execution_count": 532,
   "metadata": {},
   "outputs": [],
   "source": [
    "# parameters based on various trial and errors\n",
    "dt_f = tree.DecisionTreeClassifier(criterion='gini', splitter='best', \n",
    "                                  max_depth=3, \n",
    "                                  min_samples_split=3, min_samples_leaf=8)\n",
    "dt_f = dt_f.fit(train_set_f, train_label_f)"
   ]
  },
  {
   "cell_type": "code",
   "execution_count": 533,
   "metadata": {
    "scrolled": false
   },
   "outputs": [],
   "source": [
    "# # visualization of dt\n",
    "# dot_data_f = tree.export_graphviz(dt_f, out_file=None,\n",
    "#                          feature_names=list(train_set_f.columns),\n",
    "#                          class_names=classes,  #in transforming to numerical this order is mapped to 0,1,2 because of lexicographical\n",
    "#                          filled=True, rounded=True)\n",
    "# graph = pydotplus.graph_from_dot_data(dot_data_f)\n",
    "# Image(graph.create_png())"
   ]
  },
  {
   "cell_type": "code",
   "execution_count": 534,
   "metadata": {},
   "outputs": [],
   "source": [
    "# predict on training and test set\n",
    "train_pred_dt_f = dt_f.predict(train_set_f)\n",
    "test_pred_dt_f = dt_f.predict(test_set_f)"
   ]
  },
  {
   "cell_type": "code",
   "execution_count": 535,
   "metadata": {},
   "outputs": [
    {
     "name": "stdout",
     "output_type": "stream",
     "text": [
      "              precision    recall  f1-score   support\n",
      "\n",
      "  High_Spend       1.00      0.71      0.83        49\n",
      "   Low_Spend       0.97      0.97      0.97       923\n",
      "   Med_Spend       0.89      0.92      0.91       328\n",
      "\n",
      "    accuracy                           0.95      1300\n",
      "   macro avg       0.95      0.87      0.90      1300\n",
      "weighted avg       0.95      0.95      0.95      1300\n",
      "\n"
     ]
    }
   ],
   "source": [
    "# visualize results\n",
    "report_scores(test_label_f, test_pred_dt_f)"
   ]
  },
  {
   "cell_type": "markdown",
   "metadata": {},
   "source": [
    "### Random Forest"
   ]
  },
  {
   "cell_type": "markdown",
   "metadata": {},
   "source": [
    "**Do a grid search for correct parameter setting**"
   ]
  },
  {
   "cell_type": "code",
   "execution_count": 536,
   "metadata": {},
   "outputs": [
    {
     "data": {
      "text/plain": "RandomizedSearchCV(estimator=RandomForestClassifier(n_estimators=30), n_iter=50,\n                   n_jobs=-1,\n                   param_distributions={'bootstrap': [True, False],\n                                        'criterion': ['entropy', 'gini'],\n                                        'max_depth': [3, 5, 6, 7, 8, 9, 10, 11,\n                                                      12, None],\n                                        'max_features': <scipy.stats._distn_infrastructure.rv_frozen object at 0x000001F24B845430>,\n                                        'min_samples_leaf': <scipy.stats._distn_infrastructure.rv_frozen object at 0x000001F24B8453D0>,\n                                        'min_samples_split': <scipy.stats._distn_infrastructure.rv_frozen object at 0x000001F2473B44F0>},\n                   scoring=make_scorer(accuracy_score))"
     },
     "execution_count": 536,
     "metadata": {},
     "output_type": "execute_result"
    }
   ],
   "source": [
    "# define the parameter ranges we want to try, then run the grid search\n",
    "clf_f = RandomForestClassifier(n_estimators=30)\n",
    "grid_search_f = RandomizedSearchCV(clf_f, param_distributions=param_dist, \n",
    "                            n_iter=n_iter_search, \n",
    "                            n_jobs=-1, \n",
    "                            scoring=make_scorer(accuracy_score))\n",
    "grid_search_f.fit(train_set_f, train_label_f)"
   ]
  },
  {
   "cell_type": "code",
   "execution_count": 537,
   "metadata": {},
   "outputs": [
    {
     "name": "stdout",
     "output_type": "stream",
     "text": [
      "Best setting parameters  {'bootstrap': False, 'criterion': 'gini', 'max_depth': 9, 'max_features': 9, 'min_samples_leaf': 13, 'min_samples_split': 14}\n",
      "Mean and std of this setting  0.9759304266505728 0.004252054393210451\n"
     ]
    }
   ],
   "source": [
    "# visualize insights on best performing model individuated\n",
    "print('Best setting parameters ', grid_search_f.cv_results_['params'][0])\n",
    "print('Mean and std of this setting ', grid_search_f.cv_results_['mean_test_score'][0], \n",
    "      grid_search_f.cv_results_['std_test_score'][0])"
   ]
  },
  {
   "cell_type": "code",
   "execution_count": 538,
   "metadata": {},
   "outputs": [],
   "source": [
    "# set and training the specified random forest\n",
    "rf_f = RandomForestClassifier(n_estimators=num_estimators, \n",
    "                             criterion=grid_search_f.cv_results_['params'][0]['criterion'],\n",
    "                             max_features=grid_search_f.cv_results_['params'][0]['max_features'],\n",
    "                             max_depth=grid_search_f.cv_results_['params'][0]['max_depth'], \n",
    "                             min_samples_split=grid_search_f.cv_results_['params'][0]['min_samples_split'],\n",
    "                             min_samples_leaf=grid_search_f.cv_results_['params'][0]['min_samples_leaf'],\n",
    "                             bootstrap=grid_search_f.cv_results_['params'][0]['bootstrap']) \n",
    "rf_f = rf_f.fit(train_set_f, train_label_f)"
   ]
  },
  {
   "cell_type": "code",
   "execution_count": 539,
   "metadata": {},
   "outputs": [
    {
     "name": "stdout",
     "output_type": "stream",
     "text": [
      "              precision    recall  f1-score   support\n",
      "\n",
      "  High_Spend       0.95      0.86      0.90        49\n",
      "   Low_Spend       0.98      0.99      0.99       923\n",
      "   Med_Spend       0.95      0.94      0.95       328\n",
      "\n",
      "    accuracy                           0.97      1300\n",
      "   macro avg       0.96      0.93      0.95      1300\n",
      "weighted avg       0.97      0.97      0.97      1300\n",
      "\n"
     ]
    }
   ],
   "source": [
    "# predict on test and visualize results\n",
    "test_pred_rf_f = rf_f.predict(test_set_f)\n",
    "report_scores(test_label_f, test_pred_rf_f)"
   ]
  },
  {
   "cell_type": "code",
   "execution_count": 540,
   "metadata": {},
   "outputs": [],
   "source": [
    "# # forest is composed of lots of dt, visualize one just for fun\n",
    "# dot_data_f = tree.export_graphviz(rf_f[0], out_file=None,\n",
    "#                          feature_names=list(train_set_f.columns),\n",
    "#                          class_names=classes,\n",
    "#                          filled=True, rounded=True)\n",
    "# graph = pydotplus.graph_from_dot_data(dot_data_f)\n",
    "# Image(graph.create_png())"
   ]
  },
  {
   "cell_type": "markdown",
   "metadata": {},
   "source": [
    "### Naive Bayes"
   ]
  },
  {
   "cell_type": "code",
   "execution_count": 541,
   "metadata": {},
   "outputs": [
    {
     "name": "stdout",
     "output_type": "stream",
     "text": [
      "              precision    recall  f1-score   support\n",
      "\n",
      "  High_Spend       0.77      0.76      0.76        49\n",
      "   Low_Spend       0.92      0.97      0.94       923\n",
      "   Med_Spend       0.87      0.75      0.81       328\n",
      "\n",
      "    accuracy                           0.91      1300\n",
      "   macro avg       0.85      0.83      0.84      1300\n",
      "weighted avg       0.90      0.91      0.90      1300\n",
      "\n"
     ]
    }
   ],
   "source": [
    "# define and fit naive bayes model, predict on test and see results\n",
    "gnb = GaussianNB()\n",
    "gnb.fit(train_set_f, train_label_f)\n",
    "\n",
    "test_pred_gnb = gnb.predict(test_set_f)\n",
    "\n",
    "report_scores(test_label_f,test_pred_gnb)"
   ]
  },
  {
   "cell_type": "markdown",
   "metadata": {},
   "source": [
    "### KNN"
   ]
  },
  {
   "cell_type": "code",
   "execution_count": 542,
   "metadata": {},
   "outputs": [
    {
     "name": "stdout",
     "output_type": "stream",
     "text": [
      "              precision    recall  f1-score   support\n",
      "\n",
      "  High_Spend       0.89      0.69      0.78        49\n",
      "   Low_Spend       0.96      0.98      0.97       923\n",
      "   Med_Spend       0.90      0.89      0.90       328\n",
      "\n",
      "    accuracy                           0.95      1300\n",
      "   macro avg       0.92      0.86      0.88      1300\n",
      "weighted avg       0.95      0.95      0.95      1300\n",
      "\n"
     ]
    }
   ],
   "source": [
    "# define and fit knn model, predict on test and see results\n",
    "knn = KNeighborsClassifier(n_neighbors=5, algorithm='ball_tree', metric='minkowski').fit(train_set_f, train_label_f)\n",
    "\n",
    "test_pred_knn = knn.predict(test_set_f)\n",
    "\n",
    "report_scores(test_label_f,test_pred_knn)"
   ]
  },
  {
   "cell_type": "markdown",
   "metadata": {},
   "source": [
    "### SVM"
   ]
  },
  {
   "cell_type": "code",
   "execution_count": 543,
   "metadata": {},
   "outputs": [
    {
     "name": "stdout",
     "output_type": "stream",
     "text": [
      "              precision    recall  f1-score   support\n",
      "\n",
      "  High_Spend       1.00      0.10      0.19        49\n",
      "   Low_Spend       0.78      0.84      0.81       923\n",
      "   Med_Spend       0.43      0.40      0.42       328\n",
      "\n",
      "    accuracy                           0.70      1300\n",
      "   macro avg       0.74      0.45      0.47      1300\n",
      "weighted avg       0.70      0.70      0.69      1300\n",
      "\n"
     ]
    }
   ],
   "source": [
    "# define and fit svm model, predict on test and see results\n",
    "svm = SVC(kernel='sigmoid', C=0.6, gamma='scale', probability=True)\n",
    "svm.fit(train_set_f, train_label_f)\n",
    "\n",
    "test_pred_svm_f = svm.predict(test_set_f)\n",
    "\n",
    "report_scores(test_label_f, test_pred_svm_f)"
   ]
  },
  {
   "cell_type": "markdown",
   "metadata": {},
   "source": [
    "***"
   ]
  },
  {
   "cell_type": "markdown",
   "metadata": {},
   "source": [
    "# Classification with Neural Network"
   ]
  },
  {
   "cell_type": "markdown",
   "metadata": {},
   "source": [
    "### Preliminary functions\n",
    "The following functions are useful in many sections of this notebook, therefore they\n",
    "are put here at the beginning"
   ]
  },
  {
   "cell_type": "markdown",
   "metadata": {
    "pycharm": {
     "name": "#%% md\n"
    }
   },
   "source": [
    "Function to normalize the dataset:"
   ]
  },
  {
   "cell_type": "code",
   "execution_count": 544,
   "metadata": {
    "pycharm": {
     "name": "#%%\n"
    }
   },
   "outputs": [],
   "source": [
    "def normalize_dataset(df):\n",
    "    cols = df.columns\n",
    "    scaler = MinMaxScaler()\n",
    "    df = scaler.fit_transform(df.values)\n",
    "    df = pd.DataFrame(df, columns=cols)\n",
    "    return df"
   ]
  },
  {
   "cell_type": "markdown",
   "metadata": {
    "pycharm": {
     "name": "#%% md\n"
    }
   },
   "source": [
    "Function to print the dataset's composition:"
   ]
  },
  {
   "cell_type": "code",
   "execution_count": 545,
   "metadata": {
    "pycharm": {
     "name": "#%%\n"
    }
   },
   "outputs": [],
   "source": [
    "def print_dataset_composition(train_set, train_labels, test_set, test_labels):\n",
    "    assert(len(train_set) == len(train_labels))\n",
    "    assert(len(test_set) == len(test_labels))\n",
    "    print(f\"{len(train_labels)} training samples:\")\n",
    "    print(f\"\\t- {len(train_labels[train_labels == 0])} samples for the class High_Spend\")\n",
    "    print(f\"\\t- {len(train_labels[train_labels == 1])} samples for the class Low_Spend\")\n",
    "    print(f\"\\t- {len(train_labels[train_labels == 2])} samples for the class Med_Spend\")\n",
    "    print(f\"\\n{len(test_labels)} test samples:\")\n",
    "    print(f\"\\t- {len(test_labels[test_labels == 0])} samples for the class High_Spend\")\n",
    "    print(f\"\\t- {len(test_labels[test_labels == 1])} samples for the class Low_Spend\")\n",
    "    print(f\"\\t- {len(test_labels[test_labels == 2])} samples for the class Med_Spend\")"
   ]
  },
  {
   "cell_type": "markdown",
   "metadata": {},
   "source": [
    "Function to create the NN model:"
   ]
  },
  {
   "cell_type": "code",
   "execution_count": 546,
   "metadata": {
    "pycharm": {
     "name": "#%%\n"
    }
   },
   "outputs": [],
   "source": [
    "# Creates and returns a Keras NN model\n",
    "def create_nn(size):\n",
    "    \"\"\"\n",
    "    Characteristics:\n",
    "        * 4 fully connected layers\n",
    "            * the first 3 have 32 units\n",
    "            * the last one has as many units as the number of classes, thus 3\n",
    "\n",
    "        * activation function:\n",
    "            * ReLU for the first 3 layers\n",
    "            * Softmax for the output layer\n",
    "\n",
    "        * Dropout of 0.2 is applied after every layer\n",
    "    \"\"\"\n",
    "    model = Sequential()\n",
    "    model.add(Dense(32, activation='relu', input_shape=(1,size)))\n",
    "    model.add(Dropout(0.2))\n",
    "    model.add(Dense(32, activation='relu'))\n",
    "    model.add(Dropout(0.2))\n",
    "    model.add(Dense(32, activation='relu'))\n",
    "    model.add(Dropout(0.2))\n",
    "    model.add(Dense(3, activation='softmax'))\n",
    "    return model"
   ]
  },
  {
   "cell_type": "markdown",
   "metadata": {},
   "source": [
    "Function to compile and fit the NN model:"
   ]
  },
  {
   "cell_type": "code",
   "execution_count": 547,
   "metadata": {
    "pycharm": {
     "name": "#%%\n"
    }
   },
   "outputs": [],
   "source": [
    "def compile_fit(model, training_set, training_labels, epochs):\n",
    "    \"\"\"\n",
    "    Compile and fits the model\n",
    "\n",
    "    :param training_labels:\n",
    "    :param training_set:\n",
    "    :param model: Keras NN model to train\n",
    "    :return: history of training to plot the metrics\n",
    "    \"\"\"\n",
    "    model.compile(\n",
    "        loss='categorical_crossentropy',\n",
    "        optimizer='adam',\n",
    "        metrics=['accuracy']\n",
    "    )\n",
    "    print(training_labels[0])\n",
    "    hist = model.fit(\n",
    "        training_set,\n",
    "        training_labels,\n",
    "        epochs=epochs,\n",
    "        batch_size=32,\n",
    "        validation_split=0.2,\n",
    "        verbose=1\n",
    "    )\n",
    "    return hist"
   ]
  },
  {
   "cell_type": "markdown",
   "metadata": {},
   "source": [
    "Function to plot the training results:"
   ]
  },
  {
   "cell_type": "code",
   "execution_count": 548,
   "metadata": {
    "pycharm": {
     "name": "#%%\n"
    }
   },
   "outputs": [],
   "source": [
    "def plot_train_results(train_history):\n",
    "    acc = train_history.history['accuracy']\n",
    "    val_acc = train_history.history['val_accuracy']\n",
    "    loss = train_history.history['loss']\n",
    "    val_loss = train_history.history['val_loss']\n",
    "    epochs = range(1, len(acc) + 1)\n",
    "    plt.plot(epochs, acc, 'b', label='Training Accuracy')\n",
    "    plt.plot(epochs, val_acc, 'bo', label='Validation Accuracy')\n",
    "    plt.plot(epochs, loss, 'r', label='Training Loss')\n",
    "    plt.plot(epochs, val_loss, 'ro', label='Validation Loss')\n",
    "    plt.title('Training and validation Acc')\n",
    "    plt.xlabel('Epochs')\n",
    "    plt.ylabel('Accuracy & Loss')\n",
    "    plt.legend()\n",
    "    plt.grid()\n",
    "    plt.show()"
   ]
  },
  {
   "cell_type": "markdown",
   "metadata": {},
   "source": [
    "## Base dataframe\n",
    "Labels come from _K-means_ clustering algorithm"
   ]
  },
  {
   "cell_type": "code",
   "execution_count": 549,
   "metadata": {
    "pycharm": {
     "name": "#%%\n"
    }
   },
   "outputs": [
    {
     "name": "stdout",
     "output_type": "stream",
     "text": [
      "<class 'pandas.core.frame.DataFrame'>\n",
      "Int64Index: 4333 entries, 17850 to 12713\n",
      "Data columns (total 12 columns):\n",
      " #   Column             Non-Null Count  Dtype  \n",
      "---  ------             --------------  -----  \n",
      " 0   TProd              4333 non-null   int64  \n",
      " 1   DProd              4333 non-null   int64  \n",
      " 2   MeanProdOrder      4333 non-null   float64\n",
      " 3   TSale              4333 non-null   float64\n",
      " 4   MeanSaleOrder      4333 non-null   float64\n",
      " 5   TRProd             4333 non-null   int64  \n",
      " 6   MeanPSale          4333 non-null   float64\n",
      " 7   TOrder             4333 non-null   int64  \n",
      " 8   MeanTimeGap        4333 non-null   float64\n",
      " 9   MaxOrderMonth_num  4333 non-null   int32  \n",
      " 10  MaxOrderDay_num    4333 non-null   int32  \n",
      " 11  Label_num          4333 non-null   int32  \n",
      "dtypes: float64(5), int32(3), int64(4)\n",
      "memory usage: 389.3 KB\n"
     ]
    }
   ],
   "source": [
    "# Drop categorical columns and keep only the corresponding numerical ones\n",
    "df.drop(columns=['MaxOrderMonth','Label'], inplace=True, errors='ignore')\n",
    "df.info()"
   ]
  },
  {
   "cell_type": "code",
   "execution_count": 550,
   "metadata": {
    "pycharm": {
     "name": "#%%\n"
    }
   },
   "outputs": [],
   "source": [
    "# Remove the labels from the dataframe and store them in a variable (pandas.Series)\n",
    "labels = df.pop('Label_num')"
   ]
  },
  {
   "cell_type": "code",
   "execution_count": 551,
   "metadata": {
    "pycharm": {
     "name": "#%%\n"
    }
   },
   "outputs": [
    {
     "data": {
      "text/plain": "<AxesSubplot:>"
     },
     "execution_count": 551,
     "metadata": {},
     "output_type": "execute_result"
    },
    {
     "data": {
      "text/plain": "<Figure size 432x288 with 1 Axes>",
      "image/png": "[encoded data removed]"
     },
     "metadata": {
      "needs_background": "light"
     },
     "output_type": "display_data"
    }
   ],
   "source": [
    "df.boxplot(rot=90)"
   ]
  },
  {
   "cell_type": "markdown",
   "metadata": {},
   "source": [
    "Normalize the dataset"
   ]
  },
  {
   "cell_type": "code",
   "execution_count": 552,
   "metadata": {
    "pycharm": {
     "name": "#%%\n"
    }
   },
   "outputs": [
    {
     "data": {
      "text/plain": "<AxesSubplot:>"
     },
     "execution_count": 552,
     "metadata": {},
     "output_type": "execute_result"
    },
    {
     "data": {
      "text/plain": "<Figure size 432x288 with 1 Axes>",
      "image/png": "[encoded data removed]"
     },
     "metadata": {
      "needs_background": "light"
     },
     "output_type": "display_data"
    }
   ],
   "source": [
    "df = normalize_dataset(df)\n",
    "df.boxplot(rot=90)"
   ]
  },
  {
   "cell_type": "markdown",
   "metadata": {},
   "source": [
    "Divide the dataframe to create training and testing sets"
   ]
  },
  {
   "cell_type": "code",
   "execution_count": 553,
   "metadata": {
    "pycharm": {
     "name": "#%%\n"
    }
   },
   "outputs": [
    {
     "name": "stdout",
     "output_type": "stream",
     "text": [
      "3033 training samples:\n",
      "\t- 18 samples for the class High_Spend\n",
      "\t- 2707 samples for the class Low_Spend\n",
      "\t- 308 samples for the class Med_Spend\n",
      "\n",
      "1300 test samples:\n",
      "\t- 8 samples for the class High_Spend\n",
      "\t- 1160 samples for the class Low_Spend\n",
      "\t- 132 samples for the class Med_Spend\n"
     ]
    }
   ],
   "source": [
    "train_set, test_set, train_labels, test_labels = train_test_split(df, labels, stratify=labels, test_size=0.30)\n",
    "print_dataset_composition(train_set, train_labels, test_set, test_labels)"
   ]
  },
  {
   "cell_type": "code",
   "execution_count": 554,
   "metadata": {
    "pycharm": {
     "name": "#%%\n"
    }
   },
   "outputs": [],
   "source": [
    "# Encode labels with one-hot\n",
    "train_labels = to_categorical(train_labels, 3)\n",
    "test_labels = to_categorical(test_labels, 3)"
   ]
  },
  {
   "cell_type": "markdown",
   "metadata": {},
   "source": [
    "Create the Neural Network, compile it and train it"
   ]
  },
  {
   "cell_type": "code",
   "execution_count": 555,
   "metadata": {
    "pycharm": {
     "name": "#%%\n"
    }
   },
   "outputs": [
    {
     "name": "stdout",
     "output_type": "stream",
     "text": [
      "[0. 1. 0.]\n",
      "Epoch 1/20\n",
      "WARNING:tensorflow:Model was constructed with shape (None, 1, 11) for input Tensor(\"dense_26_input:0\", shape=(None, 1, 11), dtype=float32), but it was called on an input with incompatible shape (None, 11).\n",
      "WARNING:tensorflow:Model was constructed with shape (None, 1, 11) for input Tensor(\"dense_26_input:0\", shape=(None, 1, 11), dtype=float32), but it was called on an input with incompatible shape (None, 11).\n",
      "45/76 [================>.............] - ETA: 0s - loss: 0.8477 - accuracy: 0.7542\b\b\b\b\b\b\b\b\b\b\b\b\b\b\b\b\b\b\b\b\b\b\b\b\b\b\b\b\b\b\b\b\b\b\b\b\b\b\b\b\b\b\b\b\b\b\b\b\b\b\b\b\b\b\b\b\b\b\b\b\b\b\b\b\b\b\b\b\b\b\b\b\b\b\b\b\b\b\b\b\b\bWARNING:tensorflow:Model was constructed with shape (None, 1, 11) for input Tensor(\"dense_26_input:0\", shape=(None, 1, 11), dtype=float32), but it was called on an input with incompatible shape (None, 11).\n",
      "76/76 [==============================] - 0s 6ms/step - loss: 0.6994 - accuracy: 0.8100 - val_loss: 0.4140 - val_accuracy: 0.8946\n",
      "Epoch 2/20\n",
      "76/76 [==============================] - 0s 2ms/step - loss: 0.4040 - accuracy: 0.8920 - val_loss: 0.3677 - val_accuracy: 0.8946\b\b\b\b\b\b\b\b\b\b\b\b\b\b\b\b\b\b\b\b\b\b\b\b\b\b\b\b\b\b\b\b\b\b\b\b\b\b\b\b\b\b\b\b\b\b\b\b\b\b\b\b\b\b\b\b\b\b\b\b\b\b\b\b\b\b\b\b\b\b\b\b\b\b\b\b\b\b\b\b\b\b\b\b\b\b\b\b\b\b\b\b\b\b\b\b\b\b\b\b\b\b\b\b\b\b\b\b\b\b\b\b\b\b\b\b\b\b\n",
      "Epoch 3/20\n",
      "76/76 [==============================] - 0s 1ms/step - loss: 0.3731 - accuracy: 0.8920 - val_loss: 0.3378 - val_accuracy: 0.8946\b\b\b\b\b\b\b\b\b\b\b\b\b\b\b\b\b\b\b\b\b\b\b\b\b\b\b\b\b\b\b\b\b\b\b\b\b\b\b\b\b\b\b\b\b\b\b\b\b\b\b\b\b\b\b\b\b\b\b\b\b\b\b\b\b\b\b\b\b\b\b\b\b\b\b\b\b\b\b\b\b\b\b\b\b\b\b\b\b\b\b\b\b\b\b\b\b\b\b\b\b\b\b\b\b\b\b\b\b\b\b\b\b\b\b\b\b\b\n",
      "Epoch 4/20\n",
      "76/76 [==============================] - 0s 1ms/step - loss: 0.3428 - accuracy: 0.8920 - val_loss: 0.3044 - val_accuracy: 0.8946\b\b\b\b\b\b\b\b\b\b\b\b\b\b\b\b\b\b\b\b\b\b\b\b\b\b\b\b\b\b\b\b\b\b\b\b\b\b\b\b\b\b\b\b\b\b\b\b\b\b\b\b\b\b\b\b\b\b\b\b\b\b\b\b\b\b\b\b\b\b\b\b\b\b\b\b\b\b\b\b\b\b\b\b\b\b\b\b\b\b\b\b\b\b\b\b\b\b\b\b\b\b\b\b\b\b\b\b\b\b\b\b\b\b\b\b\b\b\n",
      "Epoch 5/20\n",
      "76/76 [==============================] - 0s 1ms/step - loss: 0.3185 - accuracy: 0.8920 - val_loss: 0.2767 - val_accuracy: 0.8946\b\b\b\b\b\b\b\b\b\b\b\b\b\b\b\b\b\b\b\b\b\b\b\b\b\b\b\b\b\b\b\b\b\b\b\b\b\b\b\b\b\b\b\b\b\b\b\b\b\b\b\b\b\b\b\b\b\b\b\b\b\b\b\b\b\b\b\b\b\b\b\b\b\b\b\b\b\b\b\b\b\b\b\b\b\b\b\b\b\b\b\b\b\b\b\b\b\b\b\b\b\b\b\b\b\b\b\b\b\b\b\b\b\b\b\b\b\b\n",
      "Epoch 6/20\n",
      "76/76 [==============================] - 0s 1ms/step - loss: 0.2835 - accuracy: 0.8928 - val_loss: 0.2378 - val_accuracy: 0.8979\b\b\b\b\b\b\b\b\b\b\b\b\b\b\b\b\b\b\b\b\b\b\b\b\b\b\b\b\b\b\b\b\b\b\b\b\b\b\b\b\b\b\b\b\b\b\b\b\b\b\b\b\b\b\b\b\b\b\b\b\b\b\b\b\b\b\b\b\b\b\b\b\b\b\b\b\b\b\b\b\b\b\b\b\b\b\b\b\b\b\b\b\b\b\b\b\b\b\b\b\b\b\b\b\b\b\b\b\b\b\b\b\b\b\b\b\b\b\n",
      "Epoch 7/20\n",
      "76/76 [==============================] - 0s 2ms/step - loss: 0.2446 - accuracy: 0.9027 - val_loss: 0.1914 - val_accuracy: 0.9127\b\b\b\b\b\b\b\b\b\b\b\b\b\b\b\b\b\b\b\b\b\b\b\b\b\b\b\b\b\b\b\b\b\b\b\b\b\b\b\b\b\b\b\b\b\b\b\b\b\b\b\b\b\b\b\b\b\b\b\b\b\b\b\b\b\b\b\b\b\b\b\b\b\b\b\b\b\b\b\b\b\b\b\b\b\b\b\b\b\b\b\b\b\b\b\b\b\b\b\b\b\b\b\b\b\b\b\b\b\b\b\b\b\b\b\b\b\b\n",
      "Epoch 8/20\n",
      "76/76 [==============================] - 0s 2ms/step - loss: 0.2127 - accuracy: 0.9155 - val_loss: 0.1520 - val_accuracy: 0.9374\b\b\b\b\b\b\b\b\b\b\b\b\b\b\b\b\b\b\b\b\b\b\b\b\b\b\b\b\b\b\b\b\b\b\b\b\b\b\b\b\b\b\b\b\b\b\b\b\b\b\b\b\b\b\b\b\b\b\b\b\b\b\b\b\b\b\b\b\b\b\b\b\b\b\b\b\b\b\b\b\b\b\b\b\b\b\b\b\b\b\b\b\b\b\b\b\b\b\b\b\b\b\b\b\b\b\b\b\b\b\b\b\b\b\b\b\b\b\n",
      "Epoch 9/20\n",
      "76/76 [==============================] - 0s 2ms/step - loss: 0.1806 - accuracy: 0.9308 - val_loss: 0.1229 - val_accuracy: 0.9407\b\b\b\b\b\b\b\b\b\b\b\b\b\b\b\b\b\b\b\b\b\b\b\b\b\b\b\b\b\b\b\b\b\b\b\b\b\b\b\b\b\b\b\b\b\b\b\b\b\b\b\b\b\b\b\b\b\b\b\b\b\b\b\b\b\b\b\b\b\b\b\b\b\b\b\b\b\b\b\b\b\b\b\b\b\b\b\b\b\b\b\b\b\b\b\b\b\b\b\b\b\b\b\b\b\b\b\b\b\b\b\b\b\b\b\b\b\b\n",
      "Epoch 10/20\n",
      "76/76 [==============================] - 0s 2ms/step - loss: 0.1456 - accuracy: 0.9464 - val_loss: 0.0985 - val_accuracy: 0.9588\b\b\b\b\b\b\b\b\b\b\b\b\b\b\b\b\b\b\b\b\b\b\b\b\b\b\b\b\b\b\b\b\b\b\b\b\b\b\b\b\b\b\b\b\b\b\b\b\b\b\b\b\b\b\b\b\b\b\b\b\b\b\b\b\b\b\b\b\b\b\b\b\b\b\b\b\b\b\b\b\b\b\b\b\b\b\b\b\b\b\b\b\b\b\b\b\b\b\b\b\b\b\b\b\b\b\b\b\b\b\b\b\b\b\b\b\b\b\n",
      "Epoch 11/20\n",
      "76/76 [==============================] - 0s 2ms/step - loss: 0.1252 - accuracy: 0.9538 - val_loss: 0.1085 - val_accuracy: 0.9522\b\b\b\b\b\b\b\b\b\b\b\b\b\b\b\b\b\b\b\b\b\b\b\b\b\b\b\b\b\b\b\b\b\b\b\b\b\b\b\b\b\b\b\b\b\b\b\b\b\b\b\b\b\b\b\b\b\b\b\b\b\b\b\b\b\b\b\b\b\b\b\b\b\b\b\b\b\b\b\b\b\b\b\b\b\b\b\b\b\b\b\b\b\b\b\b\b\b\b\b\b\b\b\b\b\b\b\b\b\b\b\b\b\b\b\b\b\b\n",
      "Epoch 12/20\n",
      "76/76 [==============================] - 0s 1ms/step - loss: 0.0949 - accuracy: 0.9683 - val_loss: 0.0799 - val_accuracy: 0.9654\b\b\b\b\b\b\b\b\b\b\b\b\b\b\b\b\b\b\b\b\b\b\b\b\b\b\b\b\b\b\b\b\b\b\b\b\b\b\b\b\b\b\b\b\b\b\b\b\b\b\b\b\b\b\b\b\b\b\b\b\b\b\b\b\b\b\b\b\b\b\b\b\b\b\b\b\b\b\b\b\b\b\b\b\b\b\b\b\b\b\b\b\b\b\b\b\b\b\b\b\b\b\b\b\b\b\b\b\b\b\b\b\b\b\b\b\b\b\n",
      "Epoch 13/20\n",
      "76/76 [==============================] - 0s 1ms/step - loss: 0.0992 - accuracy: 0.9604 - val_loss: 0.0659 - val_accuracy: 0.9819\b\b\b\b\b\b\b\b\b\b\b\b\b\b\b\b\b\b\b\b\b\b\b\b\b\b\b\b\b\b\b\b\b\b\b\b\b\b\b\b\b\b\b\b\b\b\b\b\b\b\b\b\b\b\b\b\b\b\b\b\b\b\b\b\b\b\b\b\b\b\b\b\b\b\b\b\b\b\b\b\b\b\b\b\b\b\b\b\b\b\b\b\b\b\b\b\b\b\b\b\b\b\b\b\b\b\b\b\b\b\b\b\b\b\b\b\b\b\n",
      "Epoch 14/20\n",
      "76/76 [==============================] - 0s 2ms/step - loss: 0.0861 - accuracy: 0.9678 - val_loss: 0.0660 - val_accuracy: 0.9703\b\b\b\b\b\b\b\b\b\b\b\b\b\b\b\b\b\b\b\b\b\b\b\b\b\b\b\b\b\b\b\b\b\b\b\b\b\b\b\b\b\b\b\b\b\b\b\b\b\b\b\b\b\b\b\b\b\b\b\b\b\b\b\b\b\b\b\b\b\b\b\b\b\b\b\b\b\b\b\b\b\b\b\b\b\b\b\b\b\b\b\b\b\b\b\b\b\b\b\b\b\b\b\b\b\b\b\b\b\b\b\b\b\b\b\b\b\b\n",
      "Epoch 15/20\n",
      "76/76 [==============================] - 0s 1ms/step - loss: 0.0750 - accuracy: 0.9707 - val_loss: 0.0516 - val_accuracy: 0.9802\b\b\b\b\b\b\b\b\b\b\b\b\b\b\b\b\b\b\b\b\b\b\b\b\b\b\b\b\b\b\b\b\b\b\b\b\b\b\b\b\b\b\b\b\b\b\b\b\b\b\b\b\b\b\b\b\b\b\b\b\b\b\b\b\b\b\b\b\b\b\b\b\b\b\b\b\b\b\b\b\b\b\b\b\b\b\b\b\b\b\b\b\b\b\b\b\b\b\b\b\b\b\b\b\b\b\b\b\b\b\b\b\b\b\b\b\b\b\n",
      "Epoch 16/20\n",
      "76/76 [==============================] - 0s 1ms/step - loss: 0.0652 - accuracy: 0.9761 - val_loss: 0.0460 - val_accuracy: 0.9852\b\b\b\b\b\b\b\b\b\b\b\b\b\b\b\b\b\b\b\b\b\b\b\b\b\b\b\b\b\b\b\b\b\b\b\b\b\b\b\b\b\b\b\b\b\b\b\b\b\b\b\b\b\b\b\b\b\b\b\b\b\b\b\b\b\b\b\b\b\b\b\b\b\b\b\b\b\b\b\b\b\b\b\b\b\b\b\b\b\b\b\b\b\b\b\b\b\b\b\b\b\b\b\b\b\b\b\b\b\b\b\b\b\b\b\b\b\b\n",
      "Epoch 17/20\n",
      "76/76 [==============================] - 0s 1ms/step - loss: 0.0682 - accuracy: 0.9757 - val_loss: 0.0455 - val_accuracy: 0.9852\b\b\b\b\b\b\b\b\b\b\b\b\b\b\b\b\b\b\b\b\b\b\b\b\b\b\b\b\b\b\b\b\b\b\b\b\b\b\b\b\b\b\b\b\b\b\b\b\b\b\b\b\b\b\b\b\b\b\b\b\b\b\b\b\b\b\b\b\b\b\b\b\b\b\b\b\b\b\b\b\b\b\b\b\b\b\b\b\b\b\b\b\b\b\b\b\b\b\b\b\b\b\b\b\b\b\b\b\b\b\b\b\b\b\b\b\b\b\n",
      "Epoch 18/20\n",
      "76/76 [==============================] - 0s 1ms/step - loss: 0.0635 - accuracy: 0.9782 - val_loss: 0.0492 - val_accuracy: 0.9835\b\b\b\b\b\b\b\b\b\b\b\b\b\b\b\b\b\b\b\b\b\b\b\b\b\b\b\b\b\b\b\b\b\b\b\b\b\b\b\b\b\b\b\b\b\b\b\b\b\b\b\b\b\b\b\b\b\b\b\b\b\b\b\b\b\b\b\b\b\b\b\b\b\b\b\b\b\b\b\b\b\b\b\b\b\b\b\b\b\b\b\b\b\b\b\b\b\b\b\b\b\b\b\b\b\b\b\b\b\b\b\b\b\b\b\b\b\b\n",
      "Epoch 19/20\n",
      "76/76 [==============================] - 0s 2ms/step - loss: 0.0528 - accuracy: 0.9794 - val_loss: 0.0545 - val_accuracy: 0.9736\b\b\b\b\b\b\b\b\b\b\b\b\b\b\b\b\b\b\b\b\b\b\b\b\b\b\b\b\b\b\b\b\b\b\b\b\b\b\b\b\b\b\b\b\b\b\b\b\b\b\b\b\b\b\b\b\b\b\b\b\b\b\b\b\b\b\b\b\b\b\b\b\b\b\b\b\b\b\b\b\b\b\b\b\b\b\b\b\b\b\b\b\b\b\b\b\b\b\b\b\b\b\b\b\b\b\b\b\b\b\b\b\b\b\b\b\b\b\n",
      "Epoch 20/20\n",
      "76/76 [==============================] - 0s 2ms/step - loss: 0.0562 - accuracy: 0.9802 - val_loss: 0.0379 - val_accuracy: 0.9868\b\b\b\b\b\b\b\b\b\b\b\b\b\b\b\b\b\b\b\b\b\b\b\b\b\b\b\b\b\b\b\b\b\b\b\b\b\b\b\b\b\b\b\b\b\b\b\b\b\b\b\b\b\b\b\b\b\b\b\b\b\b\b\b\b\b\b\b\b\b\b\b\b\b\b\b\b\b\b\b\b\b\b\b\b\b\b\b\b\b\b\b\b\b\b\b\b\b\b\b\b\b\b\b\b\b\b\b\b\b\b\b\b\b\b\b\b\b\n"
     ]
    }
   ],
   "source": [
    "nn = create_nn(len(df.columns))\n",
    "history = compile_fit(nn, train_set, train_labels, epochs=20)"
   ]
  },
  {
   "cell_type": "markdown",
   "metadata": {},
   "source": [
    "Plot the training results:"
   ]
  },
  {
   "cell_type": "code",
   "execution_count": 556,
   "metadata": {
    "pycharm": {
     "name": "#%%\n"
    }
   },
   "outputs": [
    {
     "data": {
      "text/plain": "<Figure size 432x288 with 1 Axes>",
      "image/png": "[encoded data removed]"
     },
     "metadata": {
      "needs_background": "light"
     },
     "output_type": "display_data"
    }
   ],
   "source": [
    "plot_train_results(history)"
   ]
  },
  {
   "cell_type": "markdown",
   "metadata": {},
   "source": [
    "Test the model on the test set"
   ]
  },
  {
   "cell_type": "code",
   "execution_count": 557,
   "metadata": {
    "pycharm": {
     "name": "#%%\n"
    }
   },
   "outputs": [
    {
     "name": "stdout",
     "output_type": "stream",
     "text": [
      "WARNING:tensorflow:Model was constructed with shape (None, 1, 11) for input Tensor(\"dense_26_input:0\", shape=(None, 1, 11), dtype=float32), but it was called on an input with incompatible shape (None, 11).\n",
      "              precision    recall  f1-score   support\n",
      "\n",
      "  High_Spend       1.00      0.50      0.67         8\n",
      "   Low_Spend       1.00      1.00      1.00      1160\n",
      "   Med_Spend       0.94      0.96      0.95       132\n",
      "\n",
      "   micro avg       0.99      0.99      0.99      1300\n",
      "   macro avg       0.98      0.82      0.87      1300\n",
      "weighted avg       0.99      0.99      0.99      1300\n",
      " samples avg       0.99      0.99      0.99      1300\n",
      "\n"
     ]
    }
   ],
   "source": [
    "test_predictions = nn.predict_classes(test_set)\n",
    "test_predictions = to_categorical(test_predictions, 3)\n",
    "report_scores(test_labels, test_predictions)"
   ]
  },
  {
   "cell_type": "markdown",
   "metadata": {},
   "source": [
    "## Base dataframe with SMOTE oversampling\n",
    "Labels come from _K-Means_ clustering algorithm"
   ]
  },
  {
   "cell_type": "markdown",
   "metadata": {},
   "source": [
    "### Normalize and SMOTE"
   ]
  },
  {
   "cell_type": "code",
   "execution_count": 558,
   "metadata": {
    "pycharm": {
     "name": "#%%\n"
    }
   },
   "outputs": [
    {
     "name": "stdout",
     "output_type": "stream",
     "text": [
      "\n",
      "5685 training samples:\n",
      "\t- 1895 samples for the class High_Spend\n",
      "\t- 1895 samples for the class Low_Spend\n",
      "\t- 1895 samples for the class Med_Spend\n",
      "\n",
      "2436 validation samples:\n",
      "\t- 8 samples for the class High_Spend\n",
      "\t- 1160 samples for the class Low_Spend\n",
      "\t- 132 samples for the class Med_Spend\n",
      "\n",
      "2436 test samples:\n",
      "\t- 812 samples for the class High_Spend\n",
      "\t- 812 samples for the class Low_Spend\n",
      "\t- 812 samples for the class Med_Spend\n"
     ]
    }
   ],
   "source": [
    "#Normalize the dataset\n",
    "cols = df.columns\n",
    "scaler = MinMaxScaler()\n",
    "df = scaler.fit_transform(df.values)\n",
    "df = pd.DataFrame(df, columns=cols)\n",
    "\n",
    "# Pick validation set from the complete df\n",
    "df, val_set, labels, val_labels = train_test_split(df, labels, stratify=labels, test_size=0.3)\n",
    "\n",
    "# Divide the dataframe to create training and testing sets\n",
    "train_set, test_set, train_labels, test_labels = train_test_split(df, labels, stratify=labels, test_size=0.30)\n",
    "\n",
    "# SMOTE --> balance the number of entries of each class\n",
    "smote = SMOTE(\n",
    "    sampling_strategy='not majority',    # resample all classes but the majority one\n",
    "    k_neighbors=4\n",
    ")\n",
    "train_set, train_labels = smote.fit_resample(train_set, train_labels)\n",
    "test_set, test_labels = smote.fit_resample(test_set, test_labels)\n",
    "\n",
    "assert(len(train_set) == len(train_labels))\n",
    "assert(len(val_set) == len(val_labels))\n",
    "assert(len(test_set) == len(test_labels))\n",
    "print(f\"\\n{len(train_labels)} training samples:\")\n",
    "print(f\"\\t- {len(train_labels[train_labels == 0])} samples for the class High_Spend\")\n",
    "print(f\"\\t- {len(train_labels[train_labels == 1])} samples for the class Low_Spend\")\n",
    "print(f\"\\t- {len(train_labels[train_labels == 2])} samples for the class Med_Spend\")\n",
    "print(f\"\\n{len(test_labels)} validation samples:\")\n",
    "print(f\"\\t- {len(val_labels[val_labels == 0])} samples for the class High_Spend\")\n",
    "print(f\"\\t- {len(val_labels[val_labels == 1])} samples for the class Low_Spend\")\n",
    "print(f\"\\t- {len(val_labels[val_labels == 2])} samples for the class Med_Spend\")\n",
    "print(f\"\\n{len(test_labels)} test samples:\")\n",
    "print(f\"\\t- {len(test_labels[test_labels == 0])} samples for the class High_Spend\")\n",
    "print(f\"\\t- {len(test_labels[test_labels == 1])} samples for the class Low_Spend\")\n",
    "print(f\"\\t- {len(test_labels[test_labels == 2])} samples for the class Med_Spend\")\n",
    "\n",
    "# Encode labels with one-hot\n",
    "train_labels = to_categorical(train_labels, 3)\n",
    "val_labels = to_categorical(val_labels, 3)\n",
    "test_labels = to_categorical(test_labels, 3)"
   ]
  },
  {
   "cell_type": "markdown",
   "metadata": {},
   "source": [
    "Create the Neural Network, compile it and train it"
   ]
  },
  {
   "cell_type": "code",
   "execution_count": 559,
   "metadata": {
    "pycharm": {
     "name": "#%%\n"
    }
   },
   "outputs": [
    {
     "name": "stdout",
     "output_type": "stream",
     "text": [
      "Epoch 1/27\n",
      "WARNING:tensorflow:Layer dense_30 is casting an input tensor from dtype float64 to the layer's dtype of float32, which is new behavior in TensorFlow 2.  The layer has dtype float32 because its dtype defaults to floatx.\n",
      "\n",
      "If you intended to run this layer in float32, you can safely ignore this warning. If in doubt, this warning is likely only an issue if you are porting a TensorFlow 1.X model to TensorFlow 2.\n",
      "\n",
      "To change all layers to have dtype float64 by default, call `tf.keras.backend.set_floatx('float64')`. To change just this layer, pass dtype='float64' to the layer constructor. If you are the author of this layer, you can disable autocasting by passing autocast=False to the base Layer constructor.\n",
      "\n",
      "178/178 [==============================] - 0s 2ms/step - loss: 1.0852 - accuracy: 0.3875 - val_loss: 1.0912 - val_accuracy: 0.5392\b\b\b\b\b\b\b\b\b\b\b\b\b\b\b\b\b\b\b\b\b\b\b\b\b\b\b\b\b\b\b\b\b\b\b\b\b\b\b\b\b\b\b\b\b\b\b\b\b\b\b\b\b\b\b\b\b\b\b\b\b\b\b\b\b\b\b\b\b\b\b\b\b\b\b\b\b\b\b\b\b\b\b\b\b\b\b\b\b\b\b\b\b\b\b\b\b\b\b\b\b\b\b\b\b\b\b\b\b\b\b\b\b\b\b\b\b\b\b\b\b\b\b\b\b\b\b\b\b\b\b\b\b\b\b\b\b\b\b\b\b\b\b\b\b\b\b\b\b\b\b\b\b\b\b\b\b\b\b\b\b\b\b\b\b\b\b\b\b\b\b\b\b\b\b\b\b\b\b\b\b\b\b\b\b\b\b\b\b\b\b\b\b\b\b\b\b\b\b\b\b\b\b\b\b\b\n",
      "Epoch 2/27\n",
      "178/178 [==============================] - 0s 1ms/step - loss: 0.9003 - accuracy: 0.5573 - val_loss: 0.9115 - val_accuracy: 0.8862\b\b\b\b\b\b\b\b\b\b\b\b\b\b\b\b\b\b\b\b\b\b\b\b\b\b\b\b\b\b\b\b\b\b\b\b\b\b\b\b\b\b\b\b\b\b\b\b\b\b\b\b\b\b\b\b\b\b\b\b\b\b\b\b\b\b\b\b\b\b\b\b\b\b\b\b\b\b\b\b\b\b\b\b\b\b\b\b\b\b\b\b\b\b\b\b\b\b\b\b\b\b\b\b\b\b\b\b\b\b\b\b\b\b\b\b\b\b\b\b\b\b\b\b\b\b\b\b\b\b\b\b\b\b\b\b\b\b\b\b\b\b\b\b\b\b\b\b\b\b\b\b\b\b\b\b\b\b\b\b\b\b\b\b\b\b\b\b\b\b\b\b\b\b\b\b\b\b\b\b\b\b\b\b\b\b\b\b\b\b\b\b\b\b\b\b\b\b\b\b\b\b\b\b\b\b\n",
      "Epoch 3/27\n",
      "178/178 [==============================] - 0s 1ms/step - loss: 0.7059 - accuracy: 0.6756 - val_loss: 0.7258 - val_accuracy: 0.9308\b\b\b\b\b\b\b\b\b\b\b\b\b\b\b\b\b\b\b\b\b\b\b\b\b\b\b\b\b\b\b\b\b\b\b\b\b\b\b\b\b\b\b\b\b\b\b\b\b\b\b\b\b\b\b\b\b\b\b\b\b\b\b\b\b\b\b\b\b\b\b\b\b\b\b\b\b\b\b\b\b\b\b\b\b\b\b\b\b\b\b\b\b\b\b\b\b\b\b\b\b\b\b\b\b\b\b\b\b\b\b\b\b\b\b\b\b\b\b\b\b\b\b\b\b\b\b\b\b\b\b\b\b\b\b\b\b\b\b\b\b\b\b\b\b\b\b\b\b\b\b\b\b\b\b\b\b\b\b\b\b\b\b\b\b\b\b\b\b\b\b\b\b\b\b\b\b\b\b\b\b\b\b\b\b\b\b\b\b\b\b\b\b\b\b\b\b\b\b\b\b\b\b\b\b\b\b\b\b\b\b\b\b\b\b\b\b\b\b\b\b\b\b\b\b\b\b\b\b\b\b\b\b\b\b\b\b\b\b\b\b\b\b\b\b\b\b\b\b\b\b\b\b\b\b\b\b\b\b\b\b\b\b\b\b\b\b\b\b\b\b\b\b\b\b\b\b\b\b\b\b\b\b\b\b\b\b\b\b\b\n",
      "Epoch 4/27\n",
      "178/178 [==============================] - 0s 1ms/step - loss: 0.6045 - accuracy: 0.7194 - val_loss: 0.6303 - val_accuracy: 0.9577\b\b\b\b\b\b\b\b\b\b\b\b\b\b\b\b\b\b\b\b\b\b\b\b\b\b\b\b\b\b\b\b\b\b\b\b\b\b\b\b\b\b\b\b\b\b\b\b\b\b\b\b\b\b\b\b\b\b\b\b\b\b\b\b\b\b\b\b\b\b\b\b\b\b\b\b\b\b\b\b\b\b\b\b\b\b\b\b\b\b\b\b\b\b\b\b\b\b\b\b\b\b\b\b\b\b\b\b\b\b\b\b\b\b\b\b\b\b\b\b\b\b\b\b\b\b\b\b\b\b\b\b\b\b\b\b\b\b\b\b\b\b\b\b\b\b\b\b\b\b\b\b\b\b\b\b\b\b\b\b\b\b\b\b\b\b\b\b\b\b\b\b\b\b\b\b\b\b\b\b\b\b\b\b\b\b\b\b\b\b\b\b\b\b\b\b\b\b\b\b\b\b\b\b\b\b\b\b\b\b\b\b\b\b\b\b\b\b\b\b\b\b\b\b\b\b\b\b\b\b\b\b\b\b\b\b\b\b\b\b\b\b\b\b\b\b\b\b\b\b\b\b\b\b\b\b\b\b\b\b\b\b\b\b\b\b\b\b\b\b\b\b\b\b\b\b\b\b\b\b\b\b\b\b\b\b\b\b\b\b\n",
      "Epoch 5/27\n",
      "178/178 [==============================] - 0s 1ms/step - loss: 0.5267 - accuracy: 0.7835 - val_loss: 0.5392 - val_accuracy: 0.9485\b\b\b\b\b\b\b\b\b\b\b\b\b\b\b\b\b\b\b\b\b\b\b\b\b\b\b\b\b\b\b\b\b\b\b\b\b\b\b\b\b\b\b\b\b\b\b\b\b\b\b\b\b\b\b\b\b\b\b\b\b\b\b\b\b\b\b\b\b\b\b\b\b\b\b\b\b\b\b\b\b\b\b\b\b\b\b\b\b\b\b\b\b\b\b\b\b\b\b\b\b\b\b\b\b\b\b\b\b\b\b\b\b\b\b\b\b\b\b\b\b\b\b\b\b\b\b\b\b\b\b\b\b\b\b\b\b\b\b\b\b\b\b\b\b\b\b\b\b\b\b\b\b\b\b\b\b\b\b\b\b\b\b\b\b\b\b\b\b\b\b\b\b\b\b\b\b\b\b\b\b\b\b\b\b\b\b\b\b\b\b\b\b\b\b\b\b\b\b\b\b\b\b\b\b\b\n",
      "Epoch 6/27\n",
      "178/178 [==============================] - 0s 1ms/step - loss: 0.4575 - accuracy: 0.8368 - val_loss: 0.4303 - val_accuracy: 0.9815\b\b\b\b\b\b\b\b\b\b\b\b\b\b\b\b\b\b\b\b\b\b\b\b\b\b\b\b\b\b\b\b\b\b\b\b\b\b\b\b\b\b\b\b\b\b\b\b\b\b\b\b\b\b\b\b\b\b\b\b\b\b\b\b\b\b\b\b\b\b\b\b\b\b\b\b\b\b\b\b\b\b\b\b\b\b\b\b\b\b\b\b\b\b\b\b\b\b\b\b\b\b\b\b\b\b\b\b\b\b\b\b\b\b\b\b\b\b\b\b\b\b\b\b\b\b\b\b\b\b\b\b\b\b\b\b\b\b\b\b\b\b\b\b\b\b\b\b\b\b\b\b\b\b\b\b\b\b\b\b\b\b\b\b\b\b\b\b\b\b\b\b\b\b\b\b\b\b\b\b\b\b\b\b\b\b\b\b\b\b\b\b\b\b\b\b\b\b\b\b\b\b\b\b\b\b\b\b\b\b\b\b\b\b\b\b\b\b\b\b\b\b\b\b\b\b\b\b\b\b\b\b\b\b\b\b\b\b\b\b\b\b\b\b\b\b\b\b\b\b\b\b\b\b\b\b\b\b\b\b\b\b\b\b\b\b\b\b\b\b\b\b\b\b\b\b\b\b\b\b\b\b\b\b\b\b\b\b\b\b\n",
      "Epoch 7/27\n",
      "178/178 [==============================] - 0s 1ms/step - loss: 0.4113 - accuracy: 0.8693 - val_loss: 0.4049 - val_accuracy: 0.9515\b\b\b\b\b\b\b\b\b\b\b\b\b\b\b\b\b\b\b\b\b\b\b\b\b\b\b\b\b\b\b\b\b\b\b\b\b\b\b\b\b\b\b\b\b\b\b\b\b\b\b\b\b\b\b\b\b\b\b\b\b\b\b\b\b\b\b\b\b\b\b\b\b\b\b\b\b\b\b\b\b\b\b\b\b\b\b\b\b\b\b\b\b\b\b\b\b\b\b\b\b\b\b\b\b\b\b\b\b\b\b\b\b\b\b\b\b\b\b\b\b\b\b\b\b\b\b\b\b\b\b\b\b\b\b\b\b\b\b\b\b\b\b\b\b\b\b\b\b\b\b\b\b\b\b\b\b\b\b\b\b\b\b\b\b\b\b\b\b\b\b\b\b\b\b\b\b\b\b\b\b\b\b\b\b\b\b\b\b\b\b\b\b\b\b\b\b\b\b\b\b\b\b\b\b\b\b\b\b\b\b\b\b\b\b\b\b\b\b\b\b\b\b\b\b\b\b\b\b\b\b\b\b\b\b\b\b\b\b\b\b\b\b\b\b\b\b\b\b\b\b\b\b\b\b\b\b\b\b\b\b\b\b\b\b\b\b\b\b\b\b\b\b\b\b\b\b\b\b\b\b\b\b\b\b\b\b\b\b\b\b\b\b\b\b\b\b\b\b\b\b\b\b\b\b\b\b\b\b\b\b\b\b\b\b\b\b\b\b\b\b\b\b\b\b\b\b\b\b\b\b\b\b\b\b\b\b\b\b\b\b\b\b\b\b\b\b\b\b\b\b\b\b\b\b\b\b\b\b\b\b\b\b\b\b\b\b\b\b\b\b\b\b\b\n",
      "Epoch 8/27\n",
      "178/178 [==============================] - 0s 1ms/step - loss: 0.3696 - accuracy: 0.8939 - val_loss: 0.3206 - val_accuracy: 0.9762\b\b\b\b\b\b\b\b\b\b\b\b\b\b\b\b\b\b\b\b\b\b\b\b\b\b\b\b\b\b\b\b\b\b\b\b\b\b\b\b\b\b\b\b\b\b\b\b\b\b\b\b\b\b\b\b\b\b\b\b\b\b\b\b\b\b\b\b\b\b\b\b\b\b\b\b\b\b\b\b\b\b\b\b\b\b\b\b\b\b\b\b\b\b\b\b\b\b\b\b\b\b\b\b\b\b\b\b\b\b\b\b\b\b\b\b\b\b\b\b\b\b\b\b\b\b\b\b\b\b\b\b\b\b\b\b\b\b\b\b\b\b\b\b\b\b\b\b\b\b\b\b\b\b\b\b\b\b\b\b\b\b\b\b\b\b\b\b\b\b\b\b\b\b\b\b\b\b\b\b\b\b\b\b\b\b\b\b\b\b\b\b\b\b\b\b\b\b\b\b\b\b\b\b\b\b\b\b\b\b\b\b\b\b\b\b\b\b\b\b\b\b\b\b\b\b\b\b\b\b\b\b\b\b\b\b\b\b\b\b\b\b\b\b\b\b\b\b\b\b\b\b\b\b\b\b\b\b\b\b\b\b\b\b\b\b\b\b\b\b\b\b\b\b\b\b\b\b\b\b\b\b\b\b\b\b\b\b\b\b\n",
      "Epoch 9/27\n",
      "178/178 [==============================] - 0s 1ms/step - loss: 0.3413 - accuracy: 0.8971 - val_loss: 0.2954 - val_accuracy: 0.9662\b\b\b\b\b\b\b\b\b\b\b\b\b\b\b\b\b\b\b\b\b\b\b\b\b\b\b\b\b\b\b\b\b\b\b\b\b\b\b\b\b\b\b\b\b\b\b\b\b\b\b\b\b\b\b\b\b\b\b\b\b\b\b\b\b\b\b\b\b\b\b\b\b\b\b\b\b\b\b\b\b\b\b\b\b\b\b\b\b\b\b\b\b\b\b\b\b\b\b\b\b\b\b\b\b\b\b\b\b\b\b\b\b\b\b\b\b\b\b\b\b\b\b\b\b\b\b\b\b\b\b\b\b\b\b\b\b\b\b\b\b\b\b\b\b\b\b\b\b\b\b\b\b\b\b\b\b\b\b\b\b\b\b\b\b\b\b\b\b\b\b\b\b\b\b\b\b\b\b\b\b\b\b\b\b\b\b\b\b\b\b\b\b\b\b\b\b\b\b\b\b\b\b\b\b\b\b\b\b\b\b\b\b\b\b\b\b\b\b\b\b\b\b\b\b\b\b\b\b\b\b\b\b\b\b\b\b\b\b\b\b\b\b\b\b\b\b\b\b\b\b\b\b\b\b\b\b\b\b\b\b\b\b\b\b\b\b\b\b\b\b\b\b\b\b\b\b\b\b\b\b\b\b\b\b\b\b\b\b\b\n",
      "Epoch 10/27\n",
      "178/178 [==============================] - 0s 1ms/step - loss: 0.3100 - accuracy: 0.9112 - val_loss: 0.2514 - val_accuracy: 0.9815\b\b\b\b\b\b\b\b\b\b\b\b\b\b\b\b\b\b\b\b\b\b\b\b\b\b\b\b\b\b\b\b\b\b\b\b\b\b\b\b\b\b\b\b\b\b\b\b\b\b\b\b\b\b\b\b\b\b\b\b\b\b\b\b\b\b\b\b\b\b\b\b\b\b\b\b\b\b\b\b\b\b\b\b\b\b\b\b\b\b\b\b\b\b\b\b\b\b\b\b\b\b\b\b\b\b\b\b\b\b\b\b\b\b\b\b\b\b\b\b\b\b\b\b\b\b\b\b\b\b\b\b\b\b\b\b\b\b\b\b\b\b\b\b\b\b\b\b\b\b\b\b\b\b\b\b\b\b\b\b\b\b\b\b\b\b\b\b\b\b\b\b\b\b\b\b\b\b\b\b\b\b\b\b\b\b\b\b\b\b\b\b\b\b\b\b\b\b\b\b\b\b\b\b\b\b\n",
      "Epoch 11/27\n",
      "178/178 [==============================] - 0s 1ms/step - loss: 0.2889 - accuracy: 0.9189 - val_loss: 0.2259 - val_accuracy: 0.9754\b\b\b\b\b\b\b\b\b\b\b\b\b\b\b\b\b\b\b\b\b\b\b\b\b\b\b\b\b\b\b\b\b\b\b\b\b\b\b\b\b\b\b\b\b\b\b\b\b\b\b\b\b\b\b\b\b\b\b\b\b\b\b\b\b\b\b\b\b\b\b\b\b\b\b\b\b\b\b\b\b\b\b\b\b\b\b\b\b\b\b\b\b\b\b\b\b\b\b\b\b\b\b\b\b\b\b\b\b\b\b\b\b\b\b\b\b\b\b\b\b\b\b\b\b\b\b\b\b\b\b\b\b\b\b\b\b\b\b\b\b\b\b\b\b\b\b\b\b\b\b\b\b\b\b\b\b\b\b\b\b\b\b\b\b\b\b\b\b\b\b\b\b\b\b\b\b\b\b\b\b\b\b\b\b\b\b\b\b\b\b\b\b\b\b\b\b\b\b\b\b\b\b\b\b\b\b\b\b\b\b\b\b\b\b\b\b\b\b\b\b\b\b\b\b\b\b\b\b\b\b\b\b\b\b\b\b\b\b\b\b\b\b\b\b\b\b\b\b\b\b\b\b\b\b\b\b\b\b\b\b\b\b\b\b\b\b\b\b\b\b\b\b\b\b\b\b\b\b\b\b\b\b\b\b\b\b\b\b\b\n",
      "Epoch 12/27\n",
      "178/178 [==============================] - 0s 1ms/step - loss: 0.2856 - accuracy: 0.9215 - val_loss: 0.2250 - val_accuracy: 0.9685\b\b\b\b\b\b\b\b\b\b\b\b\b\b\b\b\b\b\b\b\b\b\b\b\b\b\b\b\b\b\b\b\b\b\b\b\b\b\b\b\b\b\b\b\b\b\b\b\b\b\b\b\b\b\b\b\b\b\b\b\b\b\b\b\b\b\b\b\b\b\b\b\b\b\b\b\b\b\b\b\b\b\b\b\b\b\b\b\b\b\b\b\b\b\b\b\b\b\b\b\b\b\b\b\b\b\b\b\b\b\b\b\b\b\b\b\b\b\b\b\b\b\b\b\b\b\b\b\b\b\b\b\b\b\b\b\b\b\b\b\b\b\b\b\b\b\b\b\b\b\b\b\b\b\b\b\b\b\b\b\b\b\b\b\b\b\b\b\b\b\b\b\b\b\b\b\b\b\b\b\b\b\b\b\b\b\b\b\b\b\b\b\b\b\b\b\b\b\b\b\b\b\b\b\b\b\b\b\b\b\b\b\b\b\b\b\b\b\b\b\b\b\b\b\b\b\b\b\b\b\b\b\b\b\b\b\b\b\b\b\b\b\b\b\b\b\b\b\b\b\b\b\b\b\b\b\b\b\b\b\b\b\b\b\b\b\b\b\b\b\b\b\b\b\b\b\b\b\b\b\b\b\b\b\b\b\b\b\b\b\n",
      "Epoch 13/27\n",
      "178/178 [==============================] - 0s 1ms/step - loss: 0.2559 - accuracy: 0.9261 - val_loss: 0.1901 - val_accuracy: 0.9785\b\b\b\b\b\b\b\b\b\b\b\b\b\b\b\b\b\b\b\b\b\b\b\b\b\b\b\b\b\b\b\b\b\b\b\b\b\b\b\b\b\b\b\b\b\b\b\b\b\b\b\b\b\b\b\b\b\b\b\b\b\b\b\b\b\b\b\b\b\b\b\b\b\b\b\b\b\b\b\b\b\b\b\b\b\b\b\b\b\b\b\b\b\b\b\b\b\b\b\b\b\b\b\b\b\b\b\b\b\b\b\b\b\b\b\b\b\b\b\b\b\b\b\b\b\b\b\b\b\b\b\b\b\b\b\b\b\b\b\b\b\b\b\b\b\b\b\b\b\b\b\b\b\b\b\b\b\b\b\b\b\b\b\b\b\b\b\b\b\b\b\b\b\b\b\b\b\b\b\b\b\b\b\b\b\b\b\b\b\b\b\b\b\b\b\b\b\b\b\b\b\b\b\b\b\b\b\b\b\b\b\b\b\b\b\b\b\b\b\b\b\b\b\b\b\b\b\b\b\b\b\b\b\b\b\b\b\b\b\b\b\b\b\b\b\b\b\b\b\b\b\b\b\b\b\b\b\b\b\b\b\b\b\b\b\b\b\b\b\b\b\b\b\b\b\b\b\b\b\b\b\b\b\b\b\b\b\b\b\b\n",
      "Epoch 14/27\n",
      "178/178 [==============================] - 0s 1ms/step - loss: 0.2428 - accuracy: 0.9335 - val_loss: 0.1800 - val_accuracy: 0.9777\b\b\b\b\b\b\b\b\b\b\b\b\b\b\b\b\b\b\b\b\b\b\b\b\b\b\b\b\b\b\b\b\b\b\b\b\b\b\b\b\b\b\b\b\b\b\b\b\b\b\b\b\b\b\b\b\b\b\b\b\b\b\b\b\b\b\b\b\b\b\b\b\b\b\b\b\b\b\b\b\b\b\b\b\b\b\b\b\b\b\b\b\b\b\b\b\b\b\b\b\b\b\b\b\b\b\b\b\b\b\b\b\b\b\b\b\b\b\b\b\b\b\b\b\b\b\b\b\b\b\b\b\b\b\b\b\b\b\b\b\b\b\b\b\b\b\b\b\b\b\b\b\b\b\b\b\b\b\b\b\b\b\b\b\b\b\b\b\b\b\b\b\b\b\b\b\b\b\b\b\b\b\b\b\b\b\b\b\b\b\b\b\b\b\b\b\b\b\b\b\b\b\b\b\b\b\b\b\b\b\b\b\b\b\b\b\b\b\b\b\b\b\b\b\b\b\b\b\b\b\b\b\b\b\b\b\b\b\b\b\b\b\b\b\b\b\b\b\b\b\b\b\b\b\b\b\b\b\b\b\b\b\b\b\b\b\b\b\b\b\b\b\b\b\b\b\b\b\b\b\b\b\b\b\b\b\b\b\b\b\n",
      "Epoch 15/27\n",
      "178/178 [==============================] - 0s 1ms/step - loss: 0.2364 - accuracy: 0.9379 - val_loss: 0.1740 - val_accuracy: 0.9738\b\b\b\b\b\b\b\b\b\b\b\b\b\b\b\b\b\b\b\b\b\b\b\b\b\b\b\b\b\b\b\b\b\b\b\b\b\b\b\b\b\b\b\b\b\b\b\b\b\b\b\b\b\b\b\b\b\b\b\b\b\b\b\b\b\b\b\b\b\b\b\b\b\b\b\b\b\b\b\b\b\b\b\b\b\b\b\b\b\b\b\b\b\b\b\b\b\b\b\b\b\b\b\b\b\b\b\b\b\b\b\b\b\b\b\b\b\b\b\b\b\b\b\b\b\b\b\b\b\b\b\b\b\b\b\b\b\b\b\b\b\b\b\b\b\b\b\b\b\b\b\b\b\b\b\b\b\b\b\b\b\b\b\b\b\b\b\b\b\b\b\b\b\b\b\b\b\b\b\b\b\b\b\b\b\b\b\b\b\b\b\b\b\b\b\b\b\b\b\b\b\b\b\b\b\b\n",
      "Epoch 16/27\n",
      "178/178 [==============================] - 0s 1ms/step - loss: 0.2298 - accuracy: 0.9374 - val_loss: 0.1595 - val_accuracy: 0.9762\b\b\b\b\b\b\b\b\b\b\b\b\b\b\b\b\b\b\b\b\b\b\b\b\b\b\b\b\b\b\b\b\b\b\b\b\b\b\b\b\b\b\b\b\b\b\b\b\b\b\b\b\b\b\b\b\b\b\b\b\b\b\b\b\b\b\b\b\b\b\b\b\b\b\b\b\b\b\b\b\b\b\b\b\b\b\b\b\b\b\b\b\b\b\b\b\b\b\b\b\b\b\b\b\b\b\b\b\b\b\b\b\b\b\b\b\b\b\b\b\b\b\b\b\b\b\b\b\b\b\b\b\b\b\b\b\b\b\b\b\b\b\b\b\b\b\b\b\b\b\b\b\b\b\b\b\b\b\b\b\b\b\b\b\b\b\b\b\b\b\b\b\b\b\b\b\b\b\b\b\b\b\b\b\b\b\b\b\b\b\b\b\b\b\b\b\b\b\b\b\b\b\b\b\b\b\b\b\b\b\b\b\b\b\b\b\b\b\b\b\b\b\b\b\b\b\b\b\b\b\b\b\b\b\b\b\b\b\b\b\b\b\b\b\b\b\b\b\b\b\b\b\b\b\b\b\b\b\b\b\b\b\b\b\b\b\b\b\b\b\b\b\b\b\b\b\b\b\b\b\b\b\b\b\b\b\b\b\b\b\n",
      "Epoch 17/27\n",
      "178/178 [==============================] - 0s 1ms/step - loss: 0.2127 - accuracy: 0.9427 - val_loss: 0.1659 - val_accuracy: 0.9700\b\b\b\b\b\b\b\b\b\b\b\b\b\b\b\b\b\b\b\b\b\b\b\b\b\b\b\b\b\b\b\b\b\b\b\b\b\b\b\b\b\b\b\b\b\b\b\b\b\b\b\b\b\b\b\b\b\b\b\b\b\b\b\b\b\b\b\b\b\b\b\b\b\b\b\b\b\b\b\b\b\b\b\b\b\b\b\b\b\b\b\b\b\b\b\b\b\b\b\b\b\b\b\b\b\b\b\b\b\b\b\b\b\b\b\b\b\b\b\b\b\b\b\b\b\b\b\b\b\b\b\b\b\b\b\b\b\b\b\b\b\b\b\b\b\b\b\b\b\b\b\b\b\b\b\b\b\b\b\b\b\b\b\b\b\b\b\b\b\b\b\b\b\b\b\b\b\b\b\b\b\b\b\b\b\b\b\b\b\b\b\b\b\b\b\b\b\b\b\b\b\b\b\b\b\b\b\b\b\b\b\b\b\b\b\b\b\b\b\b\b\b\b\b\b\b\b\b\b\b\b\b\b\b\b\b\b\b\b\b\b\b\b\b\b\b\b\b\b\b\b\b\b\b\b\b\b\b\b\b\b\b\b\b\b\b\b\b\b\b\b\b\b\b\b\b\b\b\b\b\b\b\b\b\b\b\b\b\b\b\n",
      "Epoch 18/27\n",
      "178/178 [==============================] - 0s 2ms/step - loss: 0.1997 - accuracy: 0.9455 - val_loss: 0.1370 - val_accuracy: 0.9808\b\b\b\b\b\b\b\b\b\b\b\b\b\b\b\b\b\b\b\b\b\b\b\b\b\b\b\b\b\b\b\b\b\b\b\b\b\b\b\b\b\b\b\b\b\b\b\b\b\b\b\b\b\b\b\b\b\b\b\b\b\b\b\b\b\b\b\b\b\b\b\b\b\b\b\b\b\b\b\b\b\b\b\b\b\b\b\b\b\b\b\b\b\b\b\b\b\b\b\b\b\b\b\b\b\b\b\b\b\b\b\b\b\b\b\b\b\b\b\b\b\b\b\b\b\b\b\b\b\b\b\b\b\b\b\b\b\b\b\b\b\b\b\b\b\b\b\b\b\b\b\b\b\b\b\b\b\b\b\b\b\b\b\b\b\b\b\b\b\b\b\b\b\b\b\b\b\b\b\b\b\b\b\b\b\b\b\b\b\b\b\b\b\b\b\b\b\b\b\b\b\b\b\b\b\b\b\b\b\b\b\b\b\b\b\b\b\b\b\b\b\b\b\b\b\b\b\b\b\b\b\b\b\b\b\b\b\b\b\b\b\b\b\b\b\b\b\b\b\b\b\b\b\b\b\b\b\b\b\b\b\b\b\b\b\b\b\b\b\b\b\b\b\b\b\b\b\b\b\b\b\b\b\b\b\b\b\b\b\b\b\b\b\b\b\b\b\b\b\b\b\b\b\b\b\b\b\b\b\b\b\b\b\b\b\b\b\b\b\b\b\b\b\b\b\b\b\b\b\b\b\b\b\b\b\b\b\b\b\b\b\b\b\b\b\b\b\b\b\b\b\b\b\b\b\b\b\b\b\b\b\b\b\b\b\b\b\b\b\b\b\b\b\b\n",
      "Epoch 19/27\n",
      "178/178 [==============================] - 0s 1ms/step - loss: 0.2024 - accuracy: 0.9434 - val_loss: 0.1377 - val_accuracy: 0.9831\b\b\b\b\b\b\b\b\b\b\b\b\b\b\b\b\b\b\b\b\b\b\b\b\b\b\b\b\b\b\b\b\b\b\b\b\b\b\b\b\b\b\b\b\b\b\b\b\b\b\b\b\b\b\b\b\b\b\b\b\b\b\b\b\b\b\b\b\b\b\b\b\b\b\b\b\b\b\b\b\b\b\b\b\b\b\b\b\b\b\b\b\b\b\b\b\b\b\b\b\b\b\b\b\b\b\b\b\b\b\b\b\b\b\b\b\b\b\b\b\b\b\b\b\b\b\b\b\b\b\b\b\b\b\b\b\b\b\b\b\b\b\b\b\b\b\b\b\b\b\b\b\b\b\b\b\b\b\b\b\b\b\b\b\b\b\b\b\b\b\b\b\b\b\b\b\b\b\b\b\b\b\b\b\b\b\b\b\b\b\b\b\b\b\b\b\b\b\b\b\b\b\b\b\b\b\b\b\b\b\b\b\b\b\b\b\b\b\b\b\b\b\b\b\b\b\b\b\b\b\b\b\b\b\b\b\b\b\b\b\b\b\b\b\b\b\b\b\b\b\b\b\b\b\b\b\b\b\b\b\b\b\b\b\b\b\b\b\b\b\b\b\b\b\b\b\b\b\b\b\b\b\b\b\b\b\b\b\b\b\n",
      "Epoch 20/27\n",
      "178/178 [==============================] - 0s 1ms/step - loss: 0.1982 - accuracy: 0.9460 - val_loss: 0.1186 - val_accuracy: 0.9831\b\b\b\b\b\b\b\b\b\b\b\b\b\b\b\b\b\b\b\b\b\b\b\b\b\b\b\b\b\b\b\b\b\b\b\b\b\b\b\b\b\b\b\b\b\b\b\b\b\b\b\b\b\b\b\b\b\b\b\b\b\b\b\b\b\b\b\b\b\b\b\b\b\b\b\b\b\b\b\b\b\b\b\b\b\b\b\b\b\b\b\b\b\b\b\b\b\b\b\b\b\b\b\b\b\b\b\b\b\b\b\b\b\b\b\b\b\b\b\b\b\b\b\b\b\b\b\b\b\b\b\b\b\b\b\b\b\b\b\b\b\b\b\b\b\b\b\b\b\b\b\b\b\b\b\b\b\b\b\b\b\b\b\b\b\b\b\b\b\b\b\b\b\b\b\b\b\b\b\b\b\b\b\b\b\b\b\b\b\b\b\b\b\b\b\b\b\b\b\b\b\b\b\b\b\b\n",
      "Epoch 21/27\n",
      "178/178 [==============================] - 0s 1ms/step - loss: 0.1805 - accuracy: 0.9481 - val_loss: 0.1191 - val_accuracy: 0.9823\b\b\b\b\b\b\b\b\b\b\b\b\b\b\b\b\b\b\b\b\b\b\b\b\b\b\b\b\b\b\b\b\b\b\b\b\b\b\b\b\b\b\b\b\b\b\b\b\b\b\b\b\b\b\b\b\b\b\b\b\b\b\b\b\b\b\b\b\b\b\b\b\b\b\b\b\b\b\b\b\b\b\b\b\b\b\b\b\b\b\b\b\b\b\b\b\b\b\b\b\b\b\b\b\b\b\b\b\b\b\b\b\b\b\b\b\b\b\b\b\b\b\b\b\b\b\b\b\b\b\b\b\b\b\b\b\b\b\b\b\b\b\b\b\b\b\b\b\b\b\b\b\b\b\b\b\b\b\b\b\b\b\b\b\b\b\b\b\b\b\b\b\b\b\b\b\b\b\b\b\b\b\b\b\b\b\b\b\b\b\b\b\b\b\b\b\b\b\b\b\b\b\b\b\b\b\b\b\b\b\b\b\b\b\b\b\b\b\b\b\b\b\b\b\b\b\b\b\b\b\b\b\b\b\b\b\b\b\b\b\b\b\b\b\b\b\b\b\b\b\b\b\b\b\b\b\b\b\b\b\b\b\b\b\b\b\b\b\b\b\b\b\b\b\b\b\b\b\b\b\b\b\b\b\b\b\b\b\b\b\n",
      "Epoch 22/27\n",
      "178/178 [==============================] - 0s 1ms/step - loss: 0.1802 - accuracy: 0.9516 - val_loss: 0.1054 - val_accuracy: 0.9892\b\b\b\b\b\b\b\b\b\b\b\b\b\b\b\b\b\b\b\b\b\b\b\b\b\b\b\b\b\b\b\b\b\b\b\b\b\b\b\b\b\b\b\b\b\b\b\b\b\b\b\b\b\b\b\b\b\b\b\b\b\b\b\b\b\b\b\b\b\b\b\b\b\b\b\b\b\b\b\b\b\b\b\b\b\b\b\b\b\b\b\b\b\b\b\b\b\b\b\b\b\b\b\b\b\b\b\b\b\b\b\b\b\b\b\b\b\b\b\b\b\b\b\b\b\b\b\b\b\b\b\b\b\b\b\b\b\b\b\b\b\b\b\b\b\b\b\b\b\b\b\b\b\b\b\b\b\b\b\b\b\b\b\b\b\b\b\b\b\b\b\b\b\b\b\b\b\b\b\b\b\b\b\b\b\b\b\b\b\b\b\b\b\b\b\b\b\b\b\b\b\b\b\b\b\b\n",
      "Epoch 23/27\n",
      "178/178 [==============================] - 0s 1ms/step - loss: 0.1749 - accuracy: 0.9551 - val_loss: 0.0971 - val_accuracy: 0.9862\b\b\b\b\b\b\b\b\b\b\b\b\b\b\b\b\b\b\b\b\b\b\b\b\b\b\b\b\b\b\b\b\b\b\b\b\b\b\b\b\b\b\b\b\b\b\b\b\b\b\b\b\b\b\b\b\b\b\b\b\b\b\b\b\b\b\b\b\b\b\b\b\b\b\b\b\b\b\b\b\b\b\b\b\b\b\b\b\b\b\b\b\b\b\b\b\b\b\b\b\b\b\b\b\b\b\b\b\b\b\b\b\b\b\b\b\b\b\b\b\b\b\b\b\b\b\b\b\b\b\b\b\b\b\b\b\b\b\b\b\b\b\b\b\b\b\b\b\b\b\b\b\b\b\b\b\b\b\b\b\b\b\b\b\b\b\b\b\b\b\b\b\b\b\b\b\b\b\b\b\b\b\b\b\b\b\b\b\b\b\b\b\b\b\b\b\b\b\b\b\b\b\b\b\b\b\b\b\b\b\b\b\b\b\b\b\b\b\b\b\b\b\b\b\b\b\b\b\b\b\b\b\b\b\b\b\b\b\b\b\b\b\b\b\b\b\b\b\b\b\b\b\b\b\b\b\b\b\b\b\b\b\b\b\b\b\b\b\b\b\b\b\b\b\b\b\b\b\b\b\b\b\b\b\b\b\b\b\b\b\n",
      "Epoch 24/27\n",
      "178/178 [==============================] - 0s 1ms/step - loss: 0.1760 - accuracy: 0.9525 - val_loss: 0.1041 - val_accuracy: 0.9831\b\b\b\b\b\b\b\b\b\b\b\b\b\b\b\b\b\b\b\b\b\b\b\b\b\b\b\b\b\b\b\b\b\b\b\b\b\b\b\b\b\b\b\b\b\b\b\b\b\b\b\b\b\b\b\b\b\b\b\b\b\b\b\b\b\b\b\b\b\b\b\b\b\b\b\b\b\b\b\b\b\b\b\b\b\b\b\b\b\b\b\b\b\b\b\b\b\b\b\b\b\b\b\b\b\b\b\b\b\b\b\b\b\b\b\b\b\b\b\b\b\b\b\b\b\b\b\b\b\b\b\b\b\b\b\b\b\b\b\b\b\b\b\b\b\b\b\b\b\b\b\b\b\b\b\b\b\b\b\b\b\b\b\b\b\b\b\b\b\b\b\b\b\b\b\b\b\b\b\b\b\b\b\b\b\b\b\b\b\b\b\b\b\b\b\b\b\b\b\b\b\b\b\b\b\b\n",
      "Epoch 25/27\n",
      "178/178 [==============================] - 0s 2ms/step - loss: 0.1598 - accuracy: 0.9562 - val_loss: 0.1116 - val_accuracy: 0.9800\b\b\b\b\b\b\b\b\b\b\b\b\b\b\b\b\b\b\b\b\b\b\b\b\b\b\b\b\b\b\b\b\b\b\b\b\b\b\b\b\b\b\b\b\b\b\b\b\b\b\b\b\b\b\b\b\b\b\b\b\b\b\b\b\b\b\b\b\b\b\b\b\b\b\b\b\b\b\b\b\b\b\b\b\b\b\b\b\b\b\b\b\b\b\b\b\b\b\b\b\b\b\b\b\b\b\b\b\b\b\b\b\b\b\b\b\b\b\b\b\b\b\b\b\b\b\b\b\b\b\b\b\b\b\b\b\b\b\b\b\b\b\b\b\b\b\b\b\b\b\b\b\b\b\b\b\b\b\b\b\b\b\b\b\b\b\b\b\b\b\b\b\b\b\b\b\b\b\b\b\b\b\b\b\b\b\b\b\b\b\b\b\b\b\b\b\b\b\b\b\b\b\b\b\b\b\b\b\b\b\b\b\b\b\b\b\b\b\b\b\b\b\b\b\b\b\b\b\b\b\b\b\b\b\b\b\b\b\b\b\b\b\b\b\b\b\b\b\b\b\b\b\b\b\b\b\b\b\b\b\b\b\b\b\b\b\b\b\b\b\b\b\b\b\b\b\b\b\b\b\b\b\b\b\b\b\b\b\b\b\b\b\b\b\b\b\b\b\b\b\b\b\b\b\b\b\b\b\b\b\b\b\b\b\b\b\b\b\b\b\b\b\b\b\b\b\b\b\b\b\b\b\b\b\b\b\b\b\b\b\b\b\b\b\b\b\b\b\b\b\b\b\b\b\b\b\b\b\b\b\b\b\b\b\b\b\b\b\b\b\b\b\b\b\n",
      "Epoch 26/27\n",
      "178/178 [==============================] - 0s 1ms/step - loss: 0.1690 - accuracy: 0.9553 - val_loss: 0.0946 - val_accuracy: 0.9869\b\b\b\b\b\b\b\b\b\b\b\b\b\b\b\b\b\b\b\b\b\b\b\b\b\b\b\b\b\b\b\b\b\b\b\b\b\b\b\b\b\b\b\b\b\b\b\b\b\b\b\b\b\b\b\b\b\b\b\b\b\b\b\b\b\b\b\b\b\b\b\b\b\b\b\b\b\b\b\b\b\b\b\b\b\b\b\b\b\b\b\b\b\b\b\b\b\b\b\b\b\b\b\b\b\b\b\b\b\b\b\b\b\b\b\b\b\b\b\b\b\b\b\b\b\b\b\b\b\b\b\b\b\b\b\b\b\b\b\b\b\b\b\b\b\b\b\b\b\b\b\b\b\b\b\b\b\b\b\b\b\b\b\b\b\b\b\b\b\b\b\b\b\b\b\b\b\b\b\b\b\b\b\b\b\b\b\b\b\b\b\b\b\b\b\b\b\b\b\b\b\b\b\b\b\b\b\b\b\b\b\b\b\b\b\b\b\b\b\b\b\b\b\b\b\b\b\b\b\b\b\b\b\b\b\b\b\b\b\b\b\b\b\b\b\b\b\b\b\b\b\b\b\b\b\b\b\b\b\b\b\b\b\b\b\b\b\b\b\b\b\b\b\b\b\b\b\b\b\b\b\b\b\b\b\b\b\b\b\b\n",
      "Epoch 27/27\n",
      "178/178 [==============================] - 0s 1ms/step - loss: 0.1520 - accuracy: 0.9581 - val_loss: 0.0922 - val_accuracy: 0.9862\b\b\b\b\b\b\b\b\b\b\b\b\b\b\b\b\b\b\b\b\b\b\b\b\b\b\b\b\b\b\b\b\b\b\b\b\b\b\b\b\b\b\b\b\b\b\b\b\b\b\b\b\b\b\b\b\b\b\b\b\b\b\b\b\b\b\b\b\b\b\b\b\b\b\b\b\b\b\b\b\b\b\b\b\b\b\b\b\b\b\b\b\b\b\b\b\b\b\b\b\b\b\b\b\b\b\b\b\b\b\b\b\b\b\b\b\b\b\b\b\b\b\b\b\b\b\b\b\b\b\b\b\b\b\b\b\b\b\b\b\b\b\b\b\b\b\b\b\b\b\b\b\b\b\b\b\b\b\b\b\b\b\b\b\b\b\b\b\b\b\b\b\b\b\b\b\b\b\b\b\b\b\b\b\b\b\b\b\b\b\b\b\b\b\b\b\b\b\b\b\b\b\b\b\b\b\b\b\b\b\b\b\b\b\b\b\b\b\b\b\b\b\b\b\b\b\b\b\b\b\b\b\b\b\b\b\b\b\b\b\b\b\b\b\b\b\b\b\b\b\b\b\b\b\b\b\b\b\b\b\b\b\b\b\b\b\b\b\b\b\b\b\b\b\b\b\b\b\b\b\b\b\b\b\b\b\b\b\b\b\n"
     ]
    }
   ],
   "source": [
    "nn = Sequential([\n",
    "    Dense(16, activation='relu'),\n",
    "    Dropout(0.5),\n",
    "    Dense(16, activation='relu'),\n",
    "    Dropout(0.5),\n",
    "    Dense(3, activation='softmax')\n",
    "])\n",
    "\n",
    "nn.compile(\n",
    "    loss='categorical_crossentropy',\n",
    "    optimizer='adam',\n",
    "    metrics=['accuracy']\n",
    ")\n",
    "history = nn.fit(\n",
    "    train_set,\n",
    "    train_labels,\n",
    "    epochs=27,\n",
    "    batch_size=32,\n",
    "    validation_data=(val_set, val_labels),\n",
    "    verbose=1\n",
    ")"
   ]
  },
  {
   "cell_type": "markdown",
   "metadata": {},
   "source": [
    "Plot the training results:"
   ]
  },
  {
   "cell_type": "code",
   "execution_count": 560,
   "metadata": {
    "pycharm": {
     "name": "#%%\n"
    }
   },
   "outputs": [
    {
     "data": {
      "text/plain": "<Figure size 432x288 with 1 Axes>",
      "image/png": "[encoded data removed]"
     },
     "metadata": {
      "needs_background": "light"
     },
     "output_type": "display_data"
    }
   ],
   "source": [
    "plot_train_results(history)"
   ]
  },
  {
   "cell_type": "markdown",
   "metadata": {},
   "source": [
    "Test the model on the test set"
   ]
  },
  {
   "cell_type": "code",
   "execution_count": 561,
   "metadata": {
    "pycharm": {
     "name": "#%%\n"
    }
   },
   "outputs": [
    {
     "name": "stdout",
     "output_type": "stream",
     "text": [
      "              precision    recall  f1-score   support\n",
      "\n",
      "  High_Spend       1.00      1.00      1.00       812\n",
      "   Low_Spend       1.00      0.99      0.99       812\n",
      "   Med_Spend       0.99      1.00      0.99       812\n",
      "\n",
      "   micro avg       0.99      0.99      0.99      2436\n",
      "   macro avg       0.99      0.99      0.99      2436\n",
      "weighted avg       0.99      0.99      0.99      2436\n",
      " samples avg       0.99      0.99      0.99      2436\n",
      "\n"
     ]
    }
   ],
   "source": [
    "test_predictions = nn.predict_classes(test_set)\n",
    "test_predictions = to_categorical(test_predictions, 3)\n",
    "report_scores(test_labels, test_predictions)\n"
   ]
  },
  {
   "cell_type": "markdown",
   "metadata": {},
   "source": [
    "## Dataframe coming from Fuzzy C-Means\n",
    "Labels come from _Fuzzy C-Means_ clustering algorithm"
   ]
  },
  {
   "cell_type": "code",
   "execution_count": 562,
   "metadata": {
    "pycharm": {
     "name": "#%%\n"
    }
   },
   "outputs": [
    {
     "name": "stdout",
     "output_type": "stream",
     "text": [
      "3033 training samples:\n",
      "\t- 113 samples for the class High_Spend\n",
      "\t- 2155 samples for the class Low_Spend\n",
      "\t- 765 samples for the class Med_Spend\n",
      "\n",
      "1300 test samples:\n",
      "\t- 49 samples for the class High_Spend\n",
      "\t- 923 samples for the class Low_Spend\n",
      "\t- 328 samples for the class Med_Spend\n"
     ]
    }
   ],
   "source": [
    "# Remove the labels from the dataframe and store them in a variable (pandas.Series)\n",
    "labels = df_f.pop('Label_num')\n",
    "\n",
    "#Normalize the dataset\n",
    "df_f = normalize_dataset(df_f)\n",
    "\n",
    "# Divide the dataframe to create training and testing sets\n",
    "train_set, test_set, train_labels, test_labels = train_test_split(df_f, labels, stratify=labels, test_size=0.30)\n",
    "print_dataset_composition(train_set, train_labels, test_set, test_labels)\n",
    "\n",
    "# Encode labels with one-hot\n",
    "train_labels = to_categorical(train_labels, 3)\n",
    "test_labels = to_categorical(test_labels, 3)"
   ]
  },
  {
   "cell_type": "markdown",
   "metadata": {},
   "source": [
    "Create the Neural Network, compile it and train it"
   ]
  },
  {
   "cell_type": "code",
   "execution_count": 563,
   "metadata": {
    "pycharm": {
     "name": "#%%\n"
    },
    "scrolled": false
   },
   "outputs": [
    {
     "name": "stdout",
     "output_type": "stream",
     "text": [
      "[0. 1. 0.]\n",
      "Epoch 1/20\n",
      "WARNING:tensorflow:Model was constructed with shape (None, 1, 11) for input Tensor(\"dense_33_input:0\", shape=(None, 1, 11), dtype=float32), but it was called on an input with incompatible shape (None, 11).\n",
      "WARNING:tensorflow:Model was constructed with shape (None, 1, 11) for input Tensor(\"dense_33_input:0\", shape=(None, 1, 11), dtype=float32), but it was called on an input with incompatible shape (None, 11).\n",
      "45/76 [================>.............] - ETA: 0s - loss: 0.8898 - accuracy: 0.6194\b\b\b\b\b\b\b\b\b\b\b\b\b\b\b\b\b\b\b\b\b\b\b\b\b\b\b\b\b\b\b\b\b\b\b\b\b\b\b\b\b\b\b\b\b\b\b\b\b\b\b\b\b\b\b\b\b\b\b\b\b\b\b\b\b\b\b\b\b\b\b\b\b\b\b\b\b\b\b\b\b\bWARNING:tensorflow:Model was constructed with shape (None, 1, 11) for input Tensor(\"dense_33_input:0\", shape=(None, 1, 11), dtype=float32), but it was called on an input with incompatible shape (None, 11).\n",
      "76/76 [==============================] - 0s 4ms/step - loss: 0.8312 - accuracy: 0.6587 - val_loss: 0.7395 - val_accuracy: 0.6853\n",
      "Epoch 2/20\n",
      "76/76 [==============================] - 0s 2ms/step - loss: 0.7284 - accuracy: 0.7164 - val_loss: 0.7157 - val_accuracy: 0.6853\b\b\b\b\b\b\b\b\b\b\b\b\b\b\b\b\b\b\b\b\b\b\b\b\b\b\b\b\b\b\b\b\b\b\b\b\b\b\b\b\b\b\b\b\b\b\b\b\b\b\b\b\b\b\b\b\b\b\b\b\b\b\b\b\b\b\b\b\b\b\b\b\b\b\b\b\b\b\b\b\b\b\b\b\b\b\b\b\b\b\b\b\b\b\b\b\b\b\b\b\b\b\b\b\b\b\b\b\b\b\b\b\b\b\b\b\b\b\b\b\b\b\b\b\b\b\b\b\b\b\b\b\b\b\b\b\b\b\b\b\b\b\b\b\b\b\b\b\b\b\b\b\b\b\b\b\b\b\b\b\b\b\b\b\b\b\b\b\b\b\b\b\b\b\b\b\b\b\b\b\b\b\b\b\b\b\b\b\b\b\b\b\b\b\b\b\b\b\b\b\n",
      "Epoch 3/20\n",
      "76/76 [==============================] - 0s 1ms/step - loss: 0.6918 - accuracy: 0.7168 - val_loss: 0.6782 - val_accuracy: 0.6853\b\b\b\b\b\b\b\b\b\b\b\b\b\b\b\b\b\b\b\b\b\b\b\b\b\b\b\b\b\b\b\b\b\b\b\b\b\b\b\b\b\b\b\b\b\b\b\b\b\b\b\b\b\b\b\b\b\b\b\b\b\b\b\b\b\b\b\b\b\b\b\b\b\b\b\b\b\b\b\b\b\b\b\b\b\b\b\b\b\b\b\b\b\b\b\b\b\b\b\b\b\b\b\b\b\b\b\b\b\b\b\b\b\b\b\b\b\b\n",
      "Epoch 4/20\n",
      "76/76 [==============================] - 0s 2ms/step - loss: 0.6484 - accuracy: 0.7168 - val_loss: 0.6335 - val_accuracy: 0.6853\b\b\b\b\b\b\b\b\b\b\b\b\b\b\b\b\b\b\b\b\b\b\b\b\b\b\b\b\b\b\b\b\b\b\b\b\b\b\b\b\b\b\b\b\b\b\b\b\b\b\b\b\b\b\b\b\b\b\b\b\b\b\b\b\b\b\b\b\b\b\b\b\b\b\b\b\b\b\b\b\b\b\b\b\b\b\b\b\b\b\b\b\b\b\b\b\b\b\b\b\b\b\b\b\b\b\b\b\b\b\b\b\b\b\b\b\b\b\n",
      "Epoch 5/20\n",
      "76/76 [==============================] - 0s 2ms/step - loss: 0.6022 - accuracy: 0.7205 - val_loss: 0.5589 - val_accuracy: 0.6936\b\b\b\b\b\b\b\b\b\b\b\b\b\b\b\b\b\b\b\b\b\b\b\b\b\b\b\b\b\b\b\b\b\b\b\b\b\b\b\b\b\b\b\b\b\b\b\b\b\b\b\b\b\b\b\b\b\b\b\b\b\b\b\b\b\b\b\b\b\b\b\b\b\b\b\b\b\b\b\b\b\b\b\b\b\b\b\b\b\b\b\b\b\b\b\b\b\b\b\b\b\b\b\b\b\b\b\b\b\b\b\b\b\b\b\b\b\b\b\b\b\b\b\b\b\b\b\b\b\b\b\b\b\b\b\b\b\b\b\b\b\b\b\b\b\b\b\b\b\b\b\b\b\b\b\b\b\b\b\b\b\b\b\b\b\b\b\b\b\b\b\b\b\b\b\b\b\b\b\b\b\b\b\b\b\b\b\b\b\b\b\b\b\b\b\b\b\b\b\b\n",
      "Epoch 6/20\n",
      "76/76 [==============================] - 0s 1ms/step - loss: 0.5388 - accuracy: 0.7543 - val_loss: 0.4808 - val_accuracy: 0.7430\b\b\b\b\b\b\b\b\b\b\b\b\b\b\b\b\b\b\b\b\b\b\b\b\b\b\b\b\b\b\b\b\b\b\b\b\b\b\b\b\b\b\b\b\b\b\b\b\b\b\b\b\b\b\b\b\b\b\b\b\b\b\b\b\b\b\b\b\b\b\b\b\b\b\b\b\b\b\b\b\b\b\b\b\b\b\b\b\b\b\b\b\b\b\b\b\b\b\b\b\b\b\b\b\b\b\b\b\b\b\b\b\b\b\b\b\b\b\n",
      "Epoch 7/20\n",
      "76/76 [==============================] - 0s 2ms/step - loss: 0.4600 - accuracy: 0.7984 - val_loss: 0.3812 - val_accuracy: 0.8155\b\b\b\b\b\b\b\b\b\b\b\b\b\b\b\b\b\b\b\b\b\b\b\b\b\b\b\b\b\b\b\b\b\b\b\b\b\b\b\b\b\b\b\b\b\b\b\b\b\b\b\b\b\b\b\b\b\b\b\b\b\b\b\b\b\b\b\b\b\b\b\b\b\b\b\b\b\b\b\b\b\b\b\b\b\b\b\b\b\b\b\b\b\b\b\b\b\b\b\b\b\b\b\b\b\b\b\b\b\b\b\b\b\b\b\b\b\b\n",
      "Epoch 8/20\n",
      "76/76 [==============================] - 0s 2ms/step - loss: 0.3905 - accuracy: 0.8442 - val_loss: 0.2991 - val_accuracy: 0.8797\b\b\b\b\b\b\b\b\b\b\b\b\b\b\b\b\b\b\b\b\b\b\b\b\b\b\b\b\b\b\b\b\b\b\b\b\b\b\b\b\b\b\b\b\b\b\b\b\b\b\b\b\b\b\b\b\b\b\b\b\b\b\b\b\b\b\b\b\b\b\b\b\b\b\b\b\b\b\b\b\b\b\b\b\b\b\b\b\b\b\b\b\b\b\b\b\b\b\b\b\b\b\b\b\b\b\b\b\b\b\b\b\b\b\b\b\b\b\b\b\b\b\b\b\b\b\b\b\b\b\b\b\b\b\b\b\b\b\b\b\b\b\b\b\b\b\b\b\b\b\b\b\b\b\b\b\b\b\b\b\b\b\b\b\b\b\b\b\b\b\b\b\b\b\b\b\b\b\b\b\b\b\b\b\b\b\b\b\b\b\b\b\b\b\b\b\b\b\b\b\n",
      "Epoch 9/20\n",
      "76/76 [==============================] - 0s 2ms/step - loss: 0.3380 - accuracy: 0.8648 - val_loss: 0.2476 - val_accuracy: 0.9127\b\b\b\b\b\b\b\b\b\b\b\b\b\b\b\b\b\b\b\b\b\b\b\b\b\b\b\b\b\b\b\b\b\b\b\b\b\b\b\b\b\b\b\b\b\b\b\b\b\b\b\b\b\b\b\b\b\b\b\b\b\b\b\b\b\b\b\b\b\b\b\b\b\b\b\b\b\b\b\b\b\b\b\b\b\b\b\b\b\b\b\b\b\b\b\b\b\b\b\b\b\b\b\b\b\b\b\b\b\b\b\b\b\b\b\b\b\b\b\b\b\b\b\b\b\b\b\b\b\b\b\b\b\b\b\b\b\b\b\b\b\b\b\b\b\b\b\b\b\b\b\b\b\b\b\b\b\b\b\b\b\b\b\b\b\b\b\b\b\b\b\b\b\b\b\b\b\b\b\b\b\b\b\b\b\b\b\b\b\b\b\b\b\b\b\b\b\b\b\b\n",
      "Epoch 10/20\n",
      "76/76 [==============================] - 0s 1ms/step - loss: 0.2816 - accuracy: 0.8899 - val_loss: 0.2260 - val_accuracy: 0.8863\b\b\b\b\b\b\b\b\b\b\b\b\b\b\b\b\b\b\b\b\b\b\b\b\b\b\b\b\b\b\b\b\b\b\b\b\b\b\b\b\b\b\b\b\b\b\b\b\b\b\b\b\b\b\b\b\b\b\b\b\b\b\b\b\b\b\b\b\b\b\b\b\b\b\b\b\b\b\b\b\b\b\b\b\b\b\b\b\b\b\b\b\b\b\b\b\b\b\b\b\b\b\b\b\b\b\b\b\b\b\b\b\b\b\b\b\b\b\n",
      "Epoch 11/20\n",
      "76/76 [==============================] - 0s 2ms/step - loss: 0.2601 - accuracy: 0.8965 - val_loss: 0.1790 - val_accuracy: 0.9423\b\b\b\b\b\b\b\b\b\b\b\b\b\b\b\b\b\b\b\b\b\b\b\b\b\b\b\b\b\b\b\b\b\b\b\b\b\b\b\b\b\b\b\b\b\b\b\b\b\b\b\b\b\b\b\b\b\b\b\b\b\b\b\b\b\b\b\b\b\b\b\b\b\b\b\b\b\b\b\b\b\b\b\b\b\b\b\b\b\b\b\b\b\b\b\b\b\b\b\b\b\b\b\b\b\b\b\b\b\b\b\b\b\b\b\b\b\b\b\b\b\b\b\b\b\b\b\b\b\b\b\b\b\b\b\b\b\b\b\b\b\b\b\b\b\b\b\b\b\b\b\b\b\b\b\b\b\b\b\b\b\b\b\b\b\b\b\b\b\b\b\b\b\b\b\b\b\b\b\b\b\b\b\b\b\b\b\b\b\b\b\b\b\b\b\b\b\b\b\b\n",
      "Epoch 12/20\n",
      "76/76 [==============================] - 0s 2ms/step - loss: 0.2301 - accuracy: 0.9134 - val_loss: 0.1607 - val_accuracy: 0.9390\b\b\b\b\b\b\b\b\b\b\b\b\b\b\b\b\b\b\b\b\b\b\b\b\b\b\b\b\b\b\b\b\b\b\b\b\b\b\b\b\b\b\b\b\b\b\b\b\b\b\b\b\b\b\b\b\b\b\b\b\b\b\b\b\b\b\b\b\b\b\b\b\b\b\b\b\b\b\b\b\b\b\b\b\b\b\b\b\b\b\b\b\b\b\b\b\b\b\b\b\b\b\b\b\b\b\b\b\b\b\b\b\b\b\b\b\b\b\b\b\b\b\b\b\b\b\b\b\b\b\b\b\b\b\b\b\b\b\b\b\b\b\b\b\b\b\b\b\b\b\b\b\b\b\b\b\b\b\b\b\b\b\b\b\b\b\b\b\b\b\b\b\b\b\b\b\b\b\b\b\b\b\b\b\b\b\b\b\b\b\b\b\b\b\b\b\b\b\b\b\n",
      "Epoch 13/20\n",
      "76/76 [==============================] - 0s 1ms/step - loss: 0.1938 - accuracy: 0.9242 - val_loss: 0.1451 - val_accuracy: 0.9489\b\b\b\b\b\b\b\b\b\b\b\b\b\b\b\b\b\b\b\b\b\b\b\b\b\b\b\b\b\b\b\b\b\b\b\b\b\b\b\b\b\b\b\b\b\b\b\b\b\b\b\b\b\b\b\b\b\b\b\b\b\b\b\b\b\b\b\b\b\b\b\b\b\b\b\b\b\b\b\b\b\b\b\b\b\b\b\b\b\b\b\b\b\b\b\b\b\b\b\b\b\b\b\b\b\b\b\b\b\b\b\b\b\b\b\b\b\b\n",
      "Epoch 14/20\n",
      "76/76 [==============================] - 0s 2ms/step - loss: 0.1695 - accuracy: 0.9336 - val_loss: 0.1120 - val_accuracy: 0.9654\b\b\b\b\b\b\b\b\b\b\b\b\b\b\b\b\b\b\b\b\b\b\b\b\b\b\b\b\b\b\b\b\b\b\b\b\b\b\b\b\b\b\b\b\b\b\b\b\b\b\b\b\b\b\b\b\b\b\b\b\b\b\b\b\b\b\b\b\b\b\b\b\b\b\b\b\b\b\b\b\b\b\b\b\b\b\b\b\b\b\b\b\b\b\b\b\b\b\b\b\b\b\b\b\b\b\b\b\b\b\b\b\b\b\b\b\b\b\n",
      "Epoch 15/20\n",
      "76/76 [==============================] - 0s 2ms/step - loss: 0.1772 - accuracy: 0.9246 - val_loss: 0.1224 - val_accuracy: 0.9473\b\b\b\b\b\b\b\b\b\b\b\b\b\b\b\b\b\b\b\b\b\b\b\b\b\b\b\b\b\b\b\b\b\b\b\b\b\b\b\b\b\b\b\b\b\b\b\b\b\b\b\b\b\b\b\b\b\b\b\b\b\b\b\b\b\b\b\b\b\b\b\b\b\b\b\b\b\b\b\b\b\b\b\b\b\b\b\b\b\b\b\b\b\b\b\b\b\b\b\b\b\b\b\b\b\b\b\b\b\b\b\b\b\b\b\b\b\b\n",
      "Epoch 16/20\n",
      "76/76 [==============================] - 0s 2ms/step - loss: 0.1550 - accuracy: 0.9394 - val_loss: 0.1024 - val_accuracy: 0.9572\b\b\b\b\b\b\b\b\b\b\b\b\b\b\b\b\b\b\b\b\b\b\b\b\b\b\b\b\b\b\b\b\b\b\b\b\b\b\b\b\b\b\b\b\b\b\b\b\b\b\b\b\b\b\b\b\b\b\b\b\b\b\b\b\b\b\b\b\b\b\b\b\b\b\b\b\b\b\b\b\b\b\b\b\b\b\b\b\b\b\b\b\b\b\b\b\b\b\b\b\b\b\b\b\b\b\b\b\b\b\b\b\b\b\b\b\b\b\n",
      "Epoch 17/20\n",
      "76/76 [==============================] - 0s 1ms/step - loss: 0.1441 - accuracy: 0.9378 - val_loss: 0.1207 - val_accuracy: 0.9473\b\b\b\b\b\b\b\b\b\b\b\b\b\b\b\b\b\b\b\b\b\b\b\b\b\b\b\b\b\b\b\b\b\b\b\b\b\b\b\b\b\b\b\b\b\b\b\b\b\b\b\b\b\b\b\b\b\b\b\b\b\b\b\b\b\b\b\b\b\b\b\b\b\b\b\b\b\b\b\b\b\b\b\b\b\b\b\b\b\b\b\b\b\b\b\b\b\b\b\b\b\b\b\b\b\b\b\b\b\b\b\b\b\b\b\b\b\b\n",
      "Epoch 18/20\n",
      "76/76 [==============================] - 0s 1ms/step - loss: 0.1239 - accuracy: 0.9534 - val_loss: 0.1306 - val_accuracy: 0.9390\b\b\b\b\b\b\b\b\b\b\b\b\b\b\b\b\b\b\b\b\b\b\b\b\b\b\b\b\b\b\b\b\b\b\b\b\b\b\b\b\b\b\b\b\b\b\b\b\b\b\b\b\b\b\b\b\b\b\b\b\b\b\b\b\b\b\b\b\b\b\b\b\b\b\b\b\b\b\b\b\b\b\b\b\b\b\b\b\b\b\b\b\b\b\b\b\b\b\b\b\b\b\b\b\b\b\b\b\b\b\b\b\b\b\b\b\b\b\n",
      "Epoch 19/20\n",
      "76/76 [==============================] - 0s 2ms/step - loss: 0.1269 - accuracy: 0.9444 - val_loss: 0.0775 - val_accuracy: 0.9753\b\b\b\b\b\b\b\b\b\b\b\b\b\b\b\b\b\b\b\b\b\b\b\b\b\b\b\b\b\b\b\b\b\b\b\b\b\b\b\b\b\b\b\b\b\b\b\b\b\b\b\b\b\b\b\b\b\b\b\b\b\b\b\b\b\b\b\b\b\b\b\b\b\b\b\b\b\b\b\b\b\b\b\b\b\b\b\b\b\b\b\b\b\b\b\b\b\b\b\b\b\b\b\b\b\b\b\b\b\b\b\b\b\b\b\b\b\b\b\b\b\b\b\b\b\b\b\b\b\b\b\b\b\b\b\b\b\b\b\b\b\b\b\b\b\b\b\b\b\b\b\b\b\b\b\b\b\b\b\b\b\b\b\b\b\b\b\b\b\b\b\b\b\b\b\b\b\b\b\b\b\b\b\b\b\b\b\b\b\b\b\b\b\b\b\b\b\b\b\b\n",
      "Epoch 20/20\n",
      "76/76 [==============================] - 0s 2ms/step - loss: 0.1113 - accuracy: 0.9580 - val_loss: 0.0725 - val_accuracy: 0.9736\b\b\b\b\b\b\b\b\b\b\b\b\b\b\b\b\b\b\b\b\b\b\b\b\b\b\b\b\b\b\b\b\b\b\b\b\b\b\b\b\b\b\b\b\b\b\b\b\b\b\b\b\b\b\b\b\b\b\b\b\b\b\b\b\b\b\b\b\b\b\b\b\b\b\b\b\b\b\b\b\b\b\b\b\b\b\b\b\b\b\b\b\b\b\b\b\b\b\b\b\b\b\b\b\b\b\b\b\b\b\b\b\b\b\b\b\b\b\b\b\b\b\b\b\b\b\b\b\b\b\b\b\b\b\b\b\b\b\b\b\b\b\b\b\b\b\b\b\b\b\b\b\b\b\b\b\b\b\b\b\b\b\b\b\b\b\b\b\b\b\b\b\b\b\b\b\b\b\b\b\b\b\b\b\b\b\b\b\b\b\b\b\b\b\b\b\b\b\b\b\n"
     ]
    }
   ],
   "source": [
    "nn = create_nn(len(df_f.columns))\n",
    "history = compile_fit(nn, train_set, train_labels, epochs=20)"
   ]
  },
  {
   "cell_type": "markdown",
   "metadata": {},
   "source": [
    "Plot the training results:"
   ]
  },
  {
   "cell_type": "code",
   "execution_count": 564,
   "metadata": {
    "pycharm": {
     "name": "#%%\n"
    }
   },
   "outputs": [
    {
     "data": {
      "text/plain": "<Figure size 432x288 with 1 Axes>",
      "image/png": "[encoded data removed]"
     },
     "metadata": {
      "needs_background": "light"
     },
     "output_type": "display_data"
    }
   ],
   "source": [
    "plot_train_results(history)"
   ]
  },
  {
   "cell_type": "markdown",
   "metadata": {},
   "source": [
    "Test the model on the test set"
   ]
  },
  {
   "cell_type": "code",
   "execution_count": 565,
   "metadata": {
    "pycharm": {
     "name": "#%%\n"
    }
   },
   "outputs": [
    {
     "name": "stdout",
     "output_type": "stream",
     "text": [
      "WARNING:tensorflow:Model was constructed with shape (None, 1, 11) for input Tensor(\"dense_33_input:0\", shape=(None, 1, 11), dtype=float32), but it was called on an input with incompatible shape (None, 11).\n",
      "              precision    recall  f1-score   support\n",
      "\n",
      "  High_Spend       0.98      0.90      0.94        49\n",
      "   Low_Spend       0.99      1.00      0.99       923\n",
      "   Med_Spend       0.97      0.96      0.97       328\n",
      "\n",
      "   micro avg       0.98      0.98      0.98      1300\n",
      "   macro avg       0.98      0.95      0.97      1300\n",
      "weighted avg       0.98      0.98      0.98      1300\n",
      " samples avg       0.98      0.98      0.98      1300\n",
      "\n"
     ]
    }
   ],
   "source": [
    "test_predictions = nn.predict_classes(test_set)\n",
    "test_predictions = to_categorical(test_predictions, 3)\n",
    "report_scores(test_labels, test_predictions)"
   ]
  },
  {
   "cell_type": "markdown",
   "metadata": {},
   "source": [
    "# Alternative Features"
   ]
  },
  {
   "cell_type": "markdown",
   "metadata": {},
   "source": [
    "For this analysis the dataset *customer_dataframe_big.csv* will be used, since it contains all the features for the customers.\n",
    "Then, joining with the dataset created from Fuzzy K-Means we add the labeling to the various customers.   "
   ]
  },
  {
   "cell_type": "code",
   "execution_count": 566,
   "metadata": {
    "scrolled": false
   },
   "outputs": [
    {
     "name": "stdout",
     "output_type": "stream",
     "text": [
      "-------------------------\n",
      "Low_Spend 3078\n",
      "Med_Spend 1093\n",
      "High_Spend 162\n"
     ]
    }
   ],
   "source": [
    "df = pd.read_csv('datasets/clustered_fuzzy_dataframe.csv', sep='\\t', index_col=0)\n",
    "df_customer = pd.read_csv('datasets/customer_dataframe_big.csv', sep='\\t', index_col=0)\n",
    "\n",
    "df_customer.set_index(\"CustomerID\", inplace = True)\n",
    "df_customer['Label'] = df['Label']\n",
    "\n",
    "# Size of different classes in the dataset\n",
    "print(\"-------------------------\")\n",
    "for i in ['Low_Spend', 'Med_Spend', 'High_Spend']:\n",
    "    print(i, len(df_customer[df_customer['Label'] == i]))"
   ]
  },
  {
   "cell_type": "markdown",
   "metadata": {},
   "source": [
    "The target of this analysis is to use all the features that are not exploited by the clustering to assign the customers to a class."
   ]
  },
  {
   "cell_type": "code",
   "execution_count": 567,
   "metadata": {
    "scrolled": true
   },
   "outputs": [
    {
     "data": {
      "text/plain": "            OrderMonth  ProdMonth  SaleMonth  MonthPresence  MeanTimeGap  \\\nCustomerID                                                                 \n13436            0.083      6.333     16.407          0.083          0.0   \n15520            0.083     26.167     28.625          0.083          0.0   \n13298            0.083      8.000     30.000          0.083          0.0   \n14569            0.083      6.583     18.949          0.083          0.0   \n12713            0.083     42.083     66.212          0.083          0.0   \n\n            MaxOrderMonth_num  Label_num  \nCustomerID                                \n13436                       2          1  \n15520                       2          2  \n13298                       2          1  \n14569                       2          1  \n12713                       2          2  ",
      "text/html": "<div>\n<style scoped>\n    .dataframe tbody tr th:only-of-type {\n        vertical-align: middle;\n    }\n\n    .dataframe tbody tr th {\n        vertical-align: top;\n    }\n\n    .dataframe thead th {\n        text-align: right;\n    }\n</style>\n<table border=\"1\" class=\"dataframe\">\n  <thead>\n    <tr style=\"text-align: right;\">\n      <th></th>\n      <th>OrderMonth</th>\n      <th>ProdMonth</th>\n      <th>SaleMonth</th>\n      <th>MonthPresence</th>\n      <th>MeanTimeGap</th>\n      <th>MaxOrderMonth_num</th>\n      <th>Label_num</th>\n    </tr>\n    <tr>\n      <th>CustomerID</th>\n      <th></th>\n      <th></th>\n      <th></th>\n      <th></th>\n      <th></th>\n      <th></th>\n      <th></th>\n    </tr>\n  </thead>\n  <tbody>\n    <tr>\n      <th>13436</th>\n      <td>0.083</td>\n      <td>6.333</td>\n      <td>16.407</td>\n      <td>0.083</td>\n      <td>0.0</td>\n      <td>2</td>\n      <td>1</td>\n    </tr>\n    <tr>\n      <th>15520</th>\n      <td>0.083</td>\n      <td>26.167</td>\n      <td>28.625</td>\n      <td>0.083</td>\n      <td>0.0</td>\n      <td>2</td>\n      <td>2</td>\n    </tr>\n    <tr>\n      <th>13298</th>\n      <td>0.083</td>\n      <td>8.000</td>\n      <td>30.000</td>\n      <td>0.083</td>\n      <td>0.0</td>\n      <td>2</td>\n      <td>1</td>\n    </tr>\n    <tr>\n      <th>14569</th>\n      <td>0.083</td>\n      <td>6.583</td>\n      <td>18.949</td>\n      <td>0.083</td>\n      <td>0.0</td>\n      <td>2</td>\n      <td>1</td>\n    </tr>\n    <tr>\n      <th>12713</th>\n      <td>0.083</td>\n      <td>42.083</td>\n      <td>66.212</td>\n      <td>0.083</td>\n      <td>0.0</td>\n      <td>2</td>\n      <td>2</td>\n    </tr>\n  </tbody>\n</table>\n</div>"
     },
     "execution_count": 567,
     "metadata": {},
     "output_type": "execute_result"
    }
   ],
   "source": [
    "# Drop all the features that are not time dependent and not usefull to generalize the behaviour of a customer\n",
    "df_customer = discretize_data(df_customer,['MaxOrderMonth','Label'])\n",
    "df_aux = df_customer.drop(columns=['TProd', 'MaxPO', 'MinPO', 'MeanProdOrder', 'TSaleWRet', 'MinPSale', 'MaxPSale', 'MeanSaleOrder',\n",
    "                                   'MeanPSale', 'MaxOrderMonth', 'MaxOrderMonth', 'MaxOrderDay', 'Label', 'TRProd', \n",
    "                                   'SETSaleQta', 'SESaleQtaOrder', 'SEShoppingDays', 'DProd', 'TSale', 'TOrder'], errors='ignore')\n",
    "df_class = df_aux.copy()\n",
    "df_class.tail()"
   ]
  },
  {
   "cell_type": "markdown",
   "metadata": {},
   "source": [
    "# Decision Tree"
   ]
  },
  {
   "cell_type": "code",
   "execution_count": 568,
   "metadata": {},
   "outputs": [
    {
     "name": "stdout",
     "output_type": "stream",
     "text": [
      "Class HighSpend\n",
      "Training: 105\n",
      "Test: 57\n"
     ]
    }
   ],
   "source": [
    "label = df_class.pop('Label_num')\n",
    "train_set, test_set, train_label, test_label = train_test_split(df_class, label, stratify =label, test_size=0.35)\n",
    "print(f\"Class HighSpend\\nTraining: {len(train_label[train_label == 0])}\\nTest: {len(test_label[test_label == 0])}\")"
   ]
  },
  {
   "cell_type": "code",
   "execution_count": 569,
   "metadata": {
    "scrolled": false
   },
   "outputs": [],
   "source": [
    "# dt = tree.DecisionTreeClassifier(criterion='gini', splitter='best', max_depth=3, min_samples_split=17, min_samples_leaf=20)\n",
    "# dt = dt.fit(train_set, train_label)\n",
    "# classes = ['High_Spend','Low_Spend','Med_Spend']\n",
    "# dot_data = tree.export_graphviz(dt, out_file=None, feature_names=list(train_set.columns), class_names=classes, filled=True, rounded=True)\n",
    "# graph = pydotplus.graph_from_dot_data(dot_data)\n",
    "# Image(graph.create_png())"
   ]
  },
  {
   "cell_type": "code",
   "execution_count": 570,
   "metadata": {
    "scrolled": true
   },
   "outputs": [
    {
     "ename": "ValueError",
     "evalue": "Number of features of the model must match the input. Model n_features is 11 and input n_features is 6 ",
     "output_type": "error",
     "traceback": [
      "\u001B[1;31m---------------------------------------------------------------------------\u001B[0m",
      "\u001B[1;31mValueError\u001B[0m                                Traceback (most recent call last)",
      "\u001B[1;32m<ipython-input-570-7220ce02df15>\u001B[0m in \u001B[0;36m<module>\u001B[1;34m\u001B[0m\n\u001B[1;32m----> 1\u001B[1;33m \u001B[0mtrain_pred_dt\u001B[0m \u001B[1;33m=\u001B[0m \u001B[0mdt\u001B[0m\u001B[1;33m.\u001B[0m\u001B[0mpredict\u001B[0m\u001B[1;33m(\u001B[0m\u001B[0mtrain_set\u001B[0m\u001B[1;33m)\u001B[0m\u001B[1;33m\u001B[0m\u001B[1;33m\u001B[0m\u001B[0m\n\u001B[0m\u001B[0;32m      2\u001B[0m \u001B[0mtest_pred_dt\u001B[0m \u001B[1;33m=\u001B[0m \u001B[0mdt\u001B[0m\u001B[1;33m.\u001B[0m\u001B[0mpredict\u001B[0m\u001B[1;33m(\u001B[0m\u001B[0mtest_set\u001B[0m\u001B[1;33m)\u001B[0m\u001B[1;33m\u001B[0m\u001B[1;33m\u001B[0m\u001B[0m\n\u001B[0;32m      3\u001B[0m \u001B[0mreport_scores\u001B[0m\u001B[1;33m(\u001B[0m\u001B[0mtest_label\u001B[0m\u001B[1;33m,\u001B[0m \u001B[0mtest_pred_dt\u001B[0m\u001B[1;33m)\u001B[0m\u001B[1;33m\u001B[0m\u001B[1;33m\u001B[0m\u001B[0m\n\u001B[0;32m      4\u001B[0m \u001B[1;33m\u001B[0m\u001B[0m\n",
      "\u001B[1;32md:\\dm-project\\venv\\lib\\site-packages\\sklearn\\tree\\_classes.py\u001B[0m in \u001B[0;36mpredict\u001B[1;34m(self, X, check_input)\u001B[0m\n\u001B[0;32m    425\u001B[0m         \"\"\"\n\u001B[0;32m    426\u001B[0m         \u001B[0mcheck_is_fitted\u001B[0m\u001B[1;33m(\u001B[0m\u001B[0mself\u001B[0m\u001B[1;33m)\u001B[0m\u001B[1;33m\u001B[0m\u001B[1;33m\u001B[0m\u001B[0m\n\u001B[1;32m--> 427\u001B[1;33m         \u001B[0mX\u001B[0m \u001B[1;33m=\u001B[0m \u001B[0mself\u001B[0m\u001B[1;33m.\u001B[0m\u001B[0m_validate_X_predict\u001B[0m\u001B[1;33m(\u001B[0m\u001B[0mX\u001B[0m\u001B[1;33m,\u001B[0m \u001B[0mcheck_input\u001B[0m\u001B[1;33m)\u001B[0m\u001B[1;33m\u001B[0m\u001B[1;33m\u001B[0m\u001B[0m\n\u001B[0m\u001B[0;32m    428\u001B[0m         \u001B[0mproba\u001B[0m \u001B[1;33m=\u001B[0m \u001B[0mself\u001B[0m\u001B[1;33m.\u001B[0m\u001B[0mtree_\u001B[0m\u001B[1;33m.\u001B[0m\u001B[0mpredict\u001B[0m\u001B[1;33m(\u001B[0m\u001B[0mX\u001B[0m\u001B[1;33m)\u001B[0m\u001B[1;33m\u001B[0m\u001B[1;33m\u001B[0m\u001B[0m\n\u001B[0;32m    429\u001B[0m         \u001B[0mn_samples\u001B[0m \u001B[1;33m=\u001B[0m \u001B[0mX\u001B[0m\u001B[1;33m.\u001B[0m\u001B[0mshape\u001B[0m\u001B[1;33m[\u001B[0m\u001B[1;36m0\u001B[0m\u001B[1;33m]\u001B[0m\u001B[1;33m\u001B[0m\u001B[1;33m\u001B[0m\u001B[0m\n",
      "\u001B[1;32md:\\dm-project\\venv\\lib\\site-packages\\sklearn\\tree\\_classes.py\u001B[0m in \u001B[0;36m_validate_X_predict\u001B[1;34m(self, X, check_input)\u001B[0m\n\u001B[0;32m    394\u001B[0m         \u001B[0mn_features\u001B[0m \u001B[1;33m=\u001B[0m \u001B[0mX\u001B[0m\u001B[1;33m.\u001B[0m\u001B[0mshape\u001B[0m\u001B[1;33m[\u001B[0m\u001B[1;36m1\u001B[0m\u001B[1;33m]\u001B[0m\u001B[1;33m\u001B[0m\u001B[1;33m\u001B[0m\u001B[0m\n\u001B[0;32m    395\u001B[0m         \u001B[1;32mif\u001B[0m \u001B[0mself\u001B[0m\u001B[1;33m.\u001B[0m\u001B[0mn_features_\u001B[0m \u001B[1;33m!=\u001B[0m \u001B[0mn_features\u001B[0m\u001B[1;33m:\u001B[0m\u001B[1;33m\u001B[0m\u001B[1;33m\u001B[0m\u001B[0m\n\u001B[1;32m--> 396\u001B[1;33m             raise ValueError(\"Number of features of the model must \"\n\u001B[0m\u001B[0;32m    397\u001B[0m                              \u001B[1;34m\"match the input. Model n_features is %s and \"\u001B[0m\u001B[1;33m\u001B[0m\u001B[1;33m\u001B[0m\u001B[0m\n\u001B[0;32m    398\u001B[0m                              \u001B[1;34m\"input n_features is %s \"\u001B[0m\u001B[1;33m\u001B[0m\u001B[1;33m\u001B[0m\u001B[0m\n",
      "\u001B[1;31mValueError\u001B[0m: Number of features of the model must match the input. Model n_features is 11 and input n_features is 6 "
     ]
    }
   ],
   "source": [
    "train_pred_dt = dt.predict(train_set)\n",
    "test_pred_dt = dt.predict(test_set)\n",
    "report_scores(test_label, test_pred_dt)"
   ]
  },
  {
   "cell_type": "markdown",
   "metadata": {},
   "source": [
    "***"
   ]
  }
 ],
 "metadata": {
  "kernelspec": {
   "display_name": "Python 3",
   "language": "python",
   "name": "python3"
  },
  "language_info": {
   "codemirror_mode": {
    "name": "ipython",
    "version": 3
   },
   "file_extension": ".py",
   "mimetype": "text/x-python",
   "name": "python",
   "nbconvert_exporter": "python",
   "pygments_lexer": "ipython3",
   "version": "3.8.6"
  }
 },
 "nbformat": 4,
 "nbformat_minor": 4
}