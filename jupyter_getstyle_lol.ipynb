{
 "cells": [
  {
   "cell_type": "code",
   "execution_count": 1,
   "metadata": {
    "scrolled": true
   },
   "outputs": [
    {
     "name": "stdout",
     "output_type": "stream",
     "text": [
      "Collecting jupyterthemes\n",
      "  Downloading jupyterthemes-0.20.0-py2.py3-none-any.whl (7.0 MB)\n",
      "Requirement already satisfied: notebook>=5.6.0 in c:\\users\\eliak\\appdata\\local\\programs\\python\\python38-32\\lib\\site-packages (from jupyterthemes) (6.1.4)\n",
      "Requirement already satisfied: matplotlib>=1.4.3 in c:\\users\\eliak\\appdata\\local\\programs\\python\\python38-32\\lib\\site-packages (from jupyterthemes) (3.3.2)\n",
      "Requirement already satisfied: jupyter-core in c:\\users\\eliak\\appdata\\local\\programs\\python\\python38-32\\lib\\site-packages (from jupyterthemes) (4.6.3)\n",
      "Collecting lesscpy>=0.11.2\n",
      "  Downloading lesscpy-0.14.0-py2.py3-none-any.whl (46 kB)\n",
      "Requirement already satisfied: ipython>=5.4.1 in c:\\users\\eliak\\appdata\\local\\programs\\python\\python38-32\\lib\\site-packages (from jupyterthemes) (7.18.1)\n",
      "Requirement already satisfied: nbconvert in c:\\users\\eliak\\appdata\\local\\programs\\python\\python38-32\\lib\\site-packages (from notebook>=5.6.0->jupyterthemes) (6.0.6)\n",
      "Requirement already satisfied: traitlets>=4.2.1 in c:\\users\\eliak\\appdata\\local\\programs\\python\\python38-32\\lib\\site-packages (from notebook>=5.6.0->jupyterthemes) (5.0.4)\n",
      "Requirement already satisfied: Send2Trash in c:\\users\\eliak\\appdata\\local\\programs\\python\\python38-32\\lib\\site-packages (from notebook>=5.6.0->jupyterthemes) (1.5.0)\n",
      "Requirement already satisfied: ipykernel in c:\\users\\eliak\\appdata\\local\\programs\\python\\python38-32\\lib\\site-packages (from notebook>=5.6.0->jupyterthemes) (5.3.4)\n",
      "Requirement already satisfied: argon2-cffi in c:\\users\\eliak\\appdata\\local\\programs\\python\\python38-32\\lib\\site-packages (from notebook>=5.6.0->jupyterthemes) (20.1.0)\n",
      "Requirement already satisfied: pyzmq>=17 in c:\\users\\eliak\\appdata\\local\\programs\\python\\python38-32\\lib\\site-packages (from notebook>=5.6.0->jupyterthemes) (19.0.2)\n",
      "Requirement already satisfied: jinja2 in c:\\users\\eliak\\appdata\\local\\programs\\python\\python38-32\\lib\\site-packages (from notebook>=5.6.0->jupyterthemes) (2.11.2)\n",
      "Requirement already satisfied: jupyter-client>=5.3.4 in c:\\users\\eliak\\appdata\\local\\programs\\python\\python38-32\\lib\\site-packages (from notebook>=5.6.0->jupyterthemes) (6.1.7)\n",
      "Requirement already satisfied: prometheus-client in c:\\users\\eliak\\appdata\\local\\programs\\python\\python38-32\\lib\\site-packages (from notebook>=5.6.0->jupyterthemes) (0.8.0)\n",
      "Requirement already satisfied: tornado>=5.0 in c:\\users\\eliak\\appdata\\local\\programs\\python\\python38-32\\lib\\site-packages (from notebook>=5.6.0->jupyterthemes) (6.0.4)\n",
      "Requirement already satisfied: terminado>=0.8.3 in c:\\users\\eliak\\appdata\\local\\programs\\python\\python38-32\\lib\\site-packages (from notebook>=5.6.0->jupyterthemes) (0.9.1)\n",
      "Requirement already satisfied: ipython-genutils in c:\\users\\eliak\\appdata\\local\\programs\\python\\python38-32\\lib\\site-packages (from notebook>=5.6.0->jupyterthemes) (0.2.0)\n",
      "Requirement already satisfied: nbformat in c:\\users\\eliak\\appdata\\local\\programs\\python\\python38-32\\lib\\site-packages (from notebook>=5.6.0->jupyterthemes) (5.0.7)\n",
      "Requirement already satisfied: cycler>=0.10 in c:\\users\\eliak\\appdata\\local\\programs\\python\\python38-32\\lib\\site-packages (from matplotlib>=1.4.3->jupyterthemes) (0.10.0)\n",
      "Requirement already satisfied: python-dateutil>=2.1 in c:\\users\\eliak\\appdata\\local\\programs\\python\\python38-32\\lib\\site-packages (from matplotlib>=1.4.3->jupyterthemes) (2.8.1)\n",
      "Requirement already satisfied: pillow>=6.2.0 in c:\\users\\eliak\\appdata\\local\\programs\\python\\python38-32\\lib\\site-packages (from matplotlib>=1.4.3->jupyterthemes) (7.2.0)\n",
      "Requirement already satisfied: pyparsing!=2.0.4,!=2.1.2,!=2.1.6,>=2.0.3 in c:\\users\\eliak\\appdata\\local\\programs\\python\\python38-32\\lib\\site-packages (from matplotlib>=1.4.3->jupyterthemes) (2.4.7)\n",
      "Requirement already satisfied: certifi>=2020.06.20 in c:\\users\\eliak\\appdata\\local\\programs\\python\\python38-32\\lib\\site-packages (from matplotlib>=1.4.3->jupyterthemes) (2020.6.20)\n",
      "Requirement already satisfied: kiwisolver>=1.0.1 in c:\\users\\eliak\\appdata\\local\\programs\\python\\python38-32\\lib\\site-packages (from matplotlib>=1.4.3->jupyterthemes) (1.2.0)\n",
      "Requirement already satisfied: numpy>=1.15 in c:\\users\\eliak\\appdata\\local\\programs\\python\\python38-32\\lib\\site-packages (from matplotlib>=1.4.3->jupyterthemes) (1.19.1)\n",
      "Requirement already satisfied: pywin32>=1.0; sys_platform == \"win32\" in c:\\users\\eliak\\appdata\\local\\programs\\python\\python38-32\\lib\\site-packages (from jupyter-core->jupyterthemes) (228)\n",
      "Collecting ply\n",
      "  Downloading ply-3.11-py2.py3-none-any.whl (49 kB)\n",
      "Requirement already satisfied: six in c:\\users\\eliak\\appdata\\roaming\\python\\python38\\site-packages (from lesscpy>=0.11.2->jupyterthemes) (1.15.0)\n",
      "Requirement already satisfied: decorator in c:\\users\\eliak\\appdata\\local\\programs\\python\\python38-32\\lib\\site-packages (from ipython>=5.4.1->jupyterthemes) (4.4.2)\n",
      "Requirement already satisfied: prompt-toolkit!=3.0.0,!=3.0.1,<3.1.0,>=2.0.0 in c:\\users\\eliak\\appdata\\local\\programs\\python\\python38-32\\lib\\site-packages (from ipython>=5.4.1->jupyterthemes) (3.0.7)\n",
      "Requirement already satisfied: colorama; sys_platform == \"win32\" in c:\\users\\eliak\\appdata\\roaming\\python\\python38\\site-packages (from ipython>=5.4.1->jupyterthemes) (0.4.3)\n",
      "Requirement already satisfied: pygments in c:\\users\\eliak\\appdata\\local\\programs\\python\\python38-32\\lib\\site-packages (from ipython>=5.4.1->jupyterthemes) (2.7.1)\n",
      "Requirement already satisfied: jedi>=0.10 in c:\\users\\eliak\\appdata\\local\\programs\\python\\python38-32\\lib\\site-packages (from ipython>=5.4.1->jupyterthemes) (0.17.2)\n",
      "Requirement already satisfied: backcall in c:\\users\\eliak\\appdata\\local\\programs\\python\\python38-32\\lib\\site-packages (from ipython>=5.4.1->jupyterthemes) (0.2.0)\n",
      "Requirement already satisfied: pickleshare in c:\\users\\eliak\\appdata\\local\\programs\\python\\python38-32\\lib\\site-packages (from ipython>=5.4.1->jupyterthemes) (0.7.5)\n",
      "Requirement already satisfied: setuptools>=18.5 in c:\\users\\eliak\\appdata\\local\\programs\\python\\python38-32\\lib\\site-packages (from ipython>=5.4.1->jupyterthemes) (47.1.0)\n",
      "Requirement already satisfied: bleach in c:\\users\\eliak\\appdata\\local\\programs\\python\\python38-32\\lib\\site-packages (from nbconvert->notebook>=5.6.0->jupyterthemes) (3.2.1)\n",
      "Requirement already satisfied: mistune<2,>=0.8.1 in c:\\users\\eliak\\appdata\\local\\programs\\python\\python38-32\\lib\\site-packages (from nbconvert->notebook>=5.6.0->jupyterthemes) (0.8.4)\n",
      "Requirement already satisfied: pandocfilters>=1.4.1 in c:\\users\\eliak\\appdata\\local\\programs\\python\\python38-32\\lib\\site-packages (from nbconvert->notebook>=5.6.0->jupyterthemes) (1.4.2)\n",
      "Requirement already satisfied: entrypoints>=0.2.2 in c:\\users\\eliak\\appdata\\local\\programs\\python\\python38-32\\lib\\site-packages (from nbconvert->notebook>=5.6.0->jupyterthemes) (0.3)\n",
      "Requirement already satisfied: jupyterlab-pygments in c:\\users\\eliak\\appdata\\local\\programs\\python\\python38-32\\lib\\site-packages (from nbconvert->notebook>=5.6.0->jupyterthemes) (0.1.1)\n",
      "Requirement already satisfied: defusedxml in c:\\users\\eliak\\appdata\\local\\programs\\python\\python38-32\\lib\\site-packages (from nbconvert->notebook>=5.6.0->jupyterthemes) (0.6.0)\n",
      "Requirement already satisfied: nbclient<0.6.0,>=0.5.0 in c:\\users\\eliak\\appdata\\local\\programs\\python\\python38-32\\lib\\site-packages (from nbconvert->notebook>=5.6.0->jupyterthemes) (0.5.0)\n",
      "Requirement already satisfied: testpath in c:\\users\\eliak\\appdata\\local\\programs\\python\\python38-32\\lib\\site-packages (from nbconvert->notebook>=5.6.0->jupyterthemes) (0.4.4)\n",
      "Requirement already satisfied: cffi>=1.0.0 in c:\\users\\eliak\\appdata\\local\\programs\\python\\python38-32\\lib\\site-packages (from argon2-cffi->notebook>=5.6.0->jupyterthemes) (1.14.3)\n",
      "Requirement already satisfied: MarkupSafe>=0.23 in c:\\users\\eliak\\appdata\\local\\programs\\python\\python38-32\\lib\\site-packages (from jinja2->notebook>=5.6.0->jupyterthemes) (1.1.1)\n",
      "Requirement already satisfied: pywinpty>=0.5; os_name == \"nt\" in c:\\users\\eliak\\appdata\\local\\programs\\python\\python38-32\\lib\\site-packages (from terminado>=0.8.3->notebook>=5.6.0->jupyterthemes) (0.5.7)\n",
      "Requirement already satisfied: jsonschema!=2.5.0,>=2.4 in c:\\users\\eliak\\appdata\\local\\programs\\python\\python38-32\\lib\\site-packages (from nbformat->notebook>=5.6.0->jupyterthemes) (3.2.0)\n",
      "Requirement already satisfied: wcwidth in c:\\users\\eliak\\appdata\\local\\programs\\python\\python38-32\\lib\\site-packages (from prompt-toolkit!=3.0.0,!=3.0.1,<3.1.0,>=2.0.0->ipython>=5.4.1->jupyterthemes) (0.2.5)\n",
      "Requirement already satisfied: parso<0.8.0,>=0.7.0 in c:\\users\\eliak\\appdata\\local\\programs\\python\\python38-32\\lib\\site-packages (from jedi>=0.10->ipython>=5.4.1->jupyterthemes) (0.7.1)\n",
      "Requirement already satisfied: packaging in c:\\users\\eliak\\appdata\\local\\programs\\python\\python38-32\\lib\\site-packages (from bleach->nbconvert->notebook>=5.6.0->jupyterthemes) (20.4)\n",
      "Requirement already satisfied: webencodings in c:\\users\\eliak\\appdata\\local\\programs\\python\\python38-32\\lib\\site-packages (from bleach->nbconvert->notebook>=5.6.0->jupyterthemes) (0.5.1)\n",
      "Requirement already satisfied: nest-asyncio in c:\\users\\eliak\\appdata\\local\\programs\\python\\python38-32\\lib\\site-packages (from nbclient<0.6.0,>=0.5.0->nbconvert->notebook>=5.6.0->jupyterthemes) (1.4.0)\n",
      "Requirement already satisfied: async-generator in c:\\users\\eliak\\appdata\\local\\programs\\python\\python38-32\\lib\\site-packages (from nbclient<0.6.0,>=0.5.0->nbconvert->notebook>=5.6.0->jupyterthemes) (1.10)\n",
      "Requirement already satisfied: pycparser in c:\\users\\eliak\\appdata\\local\\programs\\python\\python38-32\\lib\\site-packages (from cffi>=1.0.0->argon2-cffi->notebook>=5.6.0->jupyterthemes) (2.20)\n",
      "Requirement already satisfied: pyrsistent>=0.14.0 in c:\\users\\eliak\\appdata\\local\\programs\\python\\python38-32\\lib\\site-packages (from jsonschema!=2.5.0,>=2.4->nbformat->notebook>=5.6.0->jupyterthemes) (0.17.3)\n",
      "Requirement already satisfied: attrs>=17.4.0 in c:\\users\\eliak\\appdata\\local\\programs\\python\\python38-32\\lib\\site-packages (from jsonschema!=2.5.0,>=2.4->nbformat->notebook>=5.6.0->jupyterthemes) (20.2.0)\n",
      "Installing collected packages: ply, lesscpy, jupyterthemes\n",
      "Successfully installed jupyterthemes-0.20.0 lesscpy-0.14.0 ply-3.11\n"
     ]
    }
   ],
   "source": [
    "!pip install jupyterthemes"
   ]
  },
  {
   "cell_type": "code",
   "execution_count": 2,
   "metadata": {},
   "outputs": [
    {
     "name": "stdout",
     "output_type": "stream",
     "text": [
      "Available Themes: \n",
      "   chesterish\n",
      "   grade3\n",
      "   gruvboxd\n",
      "   gruvboxl\n",
      "   monokai\n",
      "   oceans16\n",
      "   onedork\n",
      "   solarizedd\n",
      "   solarizedl\n"
     ]
    }
   ],
   "source": [
    "!jt -l"
   ]
  },
  {
   "cell_type": "code",
   "execution_count": 2,
   "metadata": {},
   "outputs": [],
   "source": [
    "!jt -t onedork -fs 95 -altp -tfs 11 -nfs 115 -cellw 88% -T"
   ]
  }
 ],
 "metadata": {
  "kernelspec": {
   "display_name": "Python 3",
   "language": "python",
   "name": "python3"
  },
  "language_info": {
   "codemirror_mode": {
    "name": "ipython",
    "version": 3
   },
   "file_extension": ".py",
   "mimetype": "text/x-python",
   "name": "python",
   "nbconvert_exporter": "python",
   "pygments_lexer": "ipython3",
   "version": "3.8.4"
  }
 },
 "nbformat": 4,
 "nbformat_minor": 4
}
