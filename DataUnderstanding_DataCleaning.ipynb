{
 "cells": [
  {
   "cell_type": "markdown",
   "metadata": {
    "pycharm": {
     "name": "#%% md\n"
    }
   },
   "source": [
    "# Data Understanding and Data Cleaning"
   ]
  },
  {
   "cell_type": "code",
   "execution_count": 39,
   "metadata": {},
   "outputs": [],
   "source": [
    "import math\n",
    "import numpy as np\n",
    "import pandas as pd\n",
    "import scipy.stats as stats\n",
    "import matplotlib.pyplot as plt"
   ]
  },
  {
   "cell_type": "code",
   "execution_count": 97,
   "metadata": {},
   "outputs": [
    {
     "name": "stdout",
     "output_type": "stream",
     "text": [
      "  BasketID      BasketDate  Sale  CustomerID CustomerCountry  ProdID  \\\n",
      "0   536365  01/12/10 08:26  2,55     17850.0  United Kingdom  85123A   \n",
      "1   536365  01/12/10 08:26  3,39     17850.0  United Kingdom   71053   \n",
      "2   536365  01/12/10 08:26  2,75     17850.0  United Kingdom  84406B   \n",
      "3   536365  01/12/10 08:26  3,39     17850.0  United Kingdom  84029G   \n",
      "4   536365  01/12/10 08:26  3,39     17850.0  United Kingdom  84029E   \n",
      "\n",
      "                             ProdDescr  Qta  \n",
      "0   WHITE HANGING HEART T-LIGHT HOLDER    6  \n",
      "1                  WHITE METAL LANTERN    6  \n",
      "2       CREAM CUPID HEARTS COAT HANGER    8  \n",
      "3  KNITTED UNION FLAG HOT WATER BOTTLE    6  \n",
      "4       RED WOOLLY HOTTIE WHITE HEART.    6  \n"
     ]
    }
   ],
   "source": [
    "df = pd.read_csv('customer_supermarket.csv', sep='\\t', index_col=0)\n",
    "df = df.drop_duplicates()\n",
    "print(df.head())"
   ]
  },
  {
   "cell_type": "markdown",
   "metadata": {
    "pycharm": {
     "name": "#%% md\n"
    }
   },
   "source": [
    "### Types checking and basic statistics"
   ]
  },
  {
   "cell_type": "code",
   "execution_count": 42,
   "metadata": {},
   "outputs": [
    {
     "data": {
      "text/plain": [
       "BasketID            object\n",
       "BasketDate          object\n",
       "Sale                object\n",
       "CustomerID         float64\n",
       "CustomerCountry     object\n",
       "ProdID              object\n",
       "ProdDescr           object\n",
       "Qta                  int64\n",
       "dtype: object"
      ]
     },
     "execution_count": 42,
     "metadata": {},
     "output_type": "execute_result"
    }
   ],
   "source": [
    "df.dtypes"
   ]
  },
  {
   "cell_type": "code",
   "execution_count": 43,
   "metadata": {
    "pycharm": {
     "name": "#%%\n"
    }
   },
   "outputs": [
    {
     "name": "stdout",
     "output_type": "stream",
     "text": [
      "<class 'pandas.core.frame.DataFrame'>\n",
      "Int64Index: 466678 entries, 0 to 541909\n",
      "Data columns (total 8 columns):\n",
      " #   Column           Non-Null Count   Dtype  \n",
      "---  ------           --------------   -----  \n",
      " 0   BasketID         466678 non-null  object \n",
      " 1   BasketDate       466678 non-null  object \n",
      " 2   Sale             466678 non-null  object \n",
      " 3   CustomerID       401605 non-null  float64\n",
      " 4   CustomerCountry  466678 non-null  object \n",
      " 5   ProdID           466678 non-null  object \n",
      " 6   ProdDescr        465925 non-null  object \n",
      " 7   Qta              466678 non-null  int64  \n",
      "dtypes: float64(1), int64(1), object(6)\n",
      "memory usage: 32.0+ MB\n"
     ]
    }
   ],
   "source": [
    "df.info()"
   ]
  },
  {
   "cell_type": "code",
   "execution_count": 44,
   "metadata": {
    "pycharm": {
     "name": "#%%\n"
    }
   },
   "outputs": [
    {
     "data": {
      "text/plain": [
       "BasketID           False\n",
       "BasketDate         False\n",
       "Sale               False\n",
       "CustomerID          True\n",
       "CustomerCountry    False\n",
       "ProdID             False\n",
       "ProdDescr           True\n",
       "Qta                False\n",
       "dtype: bool"
      ]
     },
     "execution_count": 44,
     "metadata": {},
     "output_type": "execute_result"
    }
   ],
   "source": [
    "df.isnull().any()"
   ]
  },
  {
   "cell_type": "code",
   "execution_count": 45,
   "metadata": {},
   "outputs": [
    {
     "data": {
      "text/html": [
       "<div>\n",
       "<style scoped>\n",
       "    .dataframe tbody tr th:only-of-type {\n",
       "        vertical-align: middle;\n",
       "    }\n",
       "\n",
       "    .dataframe tbody tr th {\n",
       "        vertical-align: top;\n",
       "    }\n",
       "\n",
       "    .dataframe thead th {\n",
       "        text-align: right;\n",
       "    }\n",
       "</style>\n",
       "<table border=\"1\" class=\"dataframe\">\n",
       "  <thead>\n",
       "    <tr style=\"text-align: right;\">\n",
       "      <th></th>\n",
       "      <th>CustomerID</th>\n",
       "      <th>Qta</th>\n",
       "    </tr>\n",
       "  </thead>\n",
       "  <tbody>\n",
       "    <tr>\n",
       "      <th>count</th>\n",
       "      <td>401605.000000</td>\n",
       "      <td>466678.000000</td>\n",
       "    </tr>\n",
       "    <tr>\n",
       "      <th>mean</th>\n",
       "      <td>15281.154341</td>\n",
       "      <td>10.806528</td>\n",
       "    </tr>\n",
       "    <tr>\n",
       "      <th>std</th>\n",
       "      <td>1714.008869</td>\n",
       "      <td>232.627771</td>\n",
       "    </tr>\n",
       "    <tr>\n",
       "      <th>min</th>\n",
       "      <td>12346.000000</td>\n",
       "      <td>-80995.000000</td>\n",
       "    </tr>\n",
       "    <tr>\n",
       "      <th>25%</th>\n",
       "      <td>13939.000000</td>\n",
       "      <td>2.000000</td>\n",
       "    </tr>\n",
       "    <tr>\n",
       "      <th>50%</th>\n",
       "      <td>15145.000000</td>\n",
       "      <td>4.000000</td>\n",
       "    </tr>\n",
       "    <tr>\n",
       "      <th>75%</th>\n",
       "      <td>16784.000000</td>\n",
       "      <td>12.000000</td>\n",
       "    </tr>\n",
       "    <tr>\n",
       "      <th>max</th>\n",
       "      <td>18287.000000</td>\n",
       "      <td>80995.000000</td>\n",
       "    </tr>\n",
       "  </tbody>\n",
       "</table>\n",
       "</div>"
      ],
      "text/plain": [
       "          CustomerID            Qta\n",
       "count  401605.000000  466678.000000\n",
       "mean    15281.154341      10.806528\n",
       "std      1714.008869     232.627771\n",
       "min     12346.000000  -80995.000000\n",
       "25%     13939.000000       2.000000\n",
       "50%     15145.000000       4.000000\n",
       "75%     16784.000000      12.000000\n",
       "max     18287.000000   80995.000000"
      ]
     },
     "execution_count": 45,
     "metadata": {},
     "output_type": "execute_result"
    }
   ],
   "source": [
    "df.describe()"
   ]
  },
  {
   "cell_type": "markdown",
   "metadata": {
    "pycharm": {
     "name": "#%% md\n"
    }
   },
   "source": [
    "### Fixing _Sale_:\n",
    "* Check if any element of _Sale_ contains letters / drop rows containing letters in _Sale_\n",
    "* Replace commas with dots\n",
    "* Cast the field into float"
   ]
  },
  {
   "cell_type": "code",
   "execution_count": 28,
   "metadata": {},
   "outputs": [],
   "source": [
    "# OPTION 1: Check if 'Sale' contains any letter\n",
    "import re\n",
    "for elem in df['Sale']:\n",
    "    if re.match(elem, r'[a-zA-Z]*'):\n",
    "        print(elem)"
   ]
  },
  {
   "cell_type": "code",
   "execution_count": 98,
   "metadata": {
    "pycharm": {
     "name": "#%%\n"
    }
   },
   "outputs": [
    {
     "data": {
      "text/plain": "       BasketID      BasketDate  Sale  CustomerID CustomerCountry  ProdID  \\\n0        536365  01/12/10 08:26  2,55     17850.0  United Kingdom  85123A   \n1        536365  01/12/10 08:26  3,39     17850.0  United Kingdom   71053   \n2        536365  01/12/10 08:26  2,75     17850.0  United Kingdom  84406B   \n3        536365  01/12/10 08:26  3,39     17850.0  United Kingdom  84029G   \n4        536365  01/12/10 08:26  3,39     17850.0  United Kingdom  84029E   \n...         ...             ...   ...         ...             ...     ...   \n541905   581587  09/12/11 12:50   2,1     12680.0          France   22899   \n541906   581587  09/12/11 12:50  4,15     12680.0          France   23254   \n541907   581587  09/12/11 12:50  4,15     12680.0          France   23255   \n541908   581587  09/12/11 12:50  4,95     12680.0          France   22138   \n541909   581587  09/12/11 12:50    18     12680.0          France    POST   \n\n                                  ProdDescr  Qta  \n0        WHITE HANGING HEART T-LIGHT HOLDER    6  \n1                       WHITE METAL LANTERN    6  \n2            CREAM CUPID HEARTS COAT HANGER    8  \n3       KNITTED UNION FLAG HOT WATER BOTTLE    6  \n4            RED WOOLLY HOTTIE WHITE HEART.    6  \n...                                     ...  ...  \n541905         CHILDREN'S APRON DOLLY GIRL     6  \n541906        CHILDRENS CUTLERY DOLLY GIRL     4  \n541907      CHILDRENS CUTLERY CIRCUS PARADE    4  \n541908        BAKING SET 9 PIECE RETROSPOT     3  \n541909                              POSTAGE    1  \n\n[466678 rows x 8 columns]",
      "text/html": "<div>\n<style scoped>\n    .dataframe tbody tr th:only-of-type {\n        vertical-align: middle;\n    }\n\n    .dataframe tbody tr th {\n        vertical-align: top;\n    }\n\n    .dataframe thead th {\n        text-align: right;\n    }\n</style>\n<table border=\"1\" class=\"dataframe\">\n  <thead>\n    <tr style=\"text-align: right;\">\n      <th></th>\n      <th>BasketID</th>\n      <th>BasketDate</th>\n      <th>Sale</th>\n      <th>CustomerID</th>\n      <th>CustomerCountry</th>\n      <th>ProdID</th>\n      <th>ProdDescr</th>\n      <th>Qta</th>\n    </tr>\n  </thead>\n  <tbody>\n    <tr>\n      <th>0</th>\n      <td>536365</td>\n      <td>01/12/10 08:26</td>\n      <td>2,55</td>\n      <td>17850.0</td>\n      <td>United Kingdom</td>\n      <td>85123A</td>\n      <td>WHITE HANGING HEART T-LIGHT HOLDER</td>\n      <td>6</td>\n    </tr>\n    <tr>\n      <th>1</th>\n      <td>536365</td>\n      <td>01/12/10 08:26</td>\n      <td>3,39</td>\n      <td>17850.0</td>\n      <td>United Kingdom</td>\n      <td>71053</td>\n      <td>WHITE METAL LANTERN</td>\n      <td>6</td>\n    </tr>\n    <tr>\n      <th>2</th>\n      <td>536365</td>\n      <td>01/12/10 08:26</td>\n      <td>2,75</td>\n      <td>17850.0</td>\n      <td>United Kingdom</td>\n      <td>84406B</td>\n      <td>CREAM CUPID HEARTS COAT HANGER</td>\n      <td>8</td>\n    </tr>\n    <tr>\n      <th>3</th>\n      <td>536365</td>\n      <td>01/12/10 08:26</td>\n      <td>3,39</td>\n      <td>17850.0</td>\n      <td>United Kingdom</td>\n      <td>84029G</td>\n      <td>KNITTED UNION FLAG HOT WATER BOTTLE</td>\n      <td>6</td>\n    </tr>\n    <tr>\n      <th>4</th>\n      <td>536365</td>\n      <td>01/12/10 08:26</td>\n      <td>3,39</td>\n      <td>17850.0</td>\n      <td>United Kingdom</td>\n      <td>84029E</td>\n      <td>RED WOOLLY HOTTIE WHITE HEART.</td>\n      <td>6</td>\n    </tr>\n    <tr>\n      <th>...</th>\n      <td>...</td>\n      <td>...</td>\n      <td>...</td>\n      <td>...</td>\n      <td>...</td>\n      <td>...</td>\n      <td>...</td>\n      <td>...</td>\n    </tr>\n    <tr>\n      <th>541905</th>\n      <td>581587</td>\n      <td>09/12/11 12:50</td>\n      <td>2,1</td>\n      <td>12680.0</td>\n      <td>France</td>\n      <td>22899</td>\n      <td>CHILDREN'S APRON DOLLY GIRL</td>\n      <td>6</td>\n    </tr>\n    <tr>\n      <th>541906</th>\n      <td>581587</td>\n      <td>09/12/11 12:50</td>\n      <td>4,15</td>\n      <td>12680.0</td>\n      <td>France</td>\n      <td>23254</td>\n      <td>CHILDRENS CUTLERY DOLLY GIRL</td>\n      <td>4</td>\n    </tr>\n    <tr>\n      <th>541907</th>\n      <td>581587</td>\n      <td>09/12/11 12:50</td>\n      <td>4,15</td>\n      <td>12680.0</td>\n      <td>France</td>\n      <td>23255</td>\n      <td>CHILDRENS CUTLERY CIRCUS PARADE</td>\n      <td>4</td>\n    </tr>\n    <tr>\n      <th>541908</th>\n      <td>581587</td>\n      <td>09/12/11 12:50</td>\n      <td>4,95</td>\n      <td>12680.0</td>\n      <td>France</td>\n      <td>22138</td>\n      <td>BAKING SET 9 PIECE RETROSPOT</td>\n      <td>3</td>\n    </tr>\n    <tr>\n      <th>541909</th>\n      <td>581587</td>\n      <td>09/12/11 12:50</td>\n      <td>18</td>\n      <td>12680.0</td>\n      <td>France</td>\n      <td>POST</td>\n      <td>POSTAGE</td>\n      <td>1</td>\n    </tr>\n  </tbody>\n</table>\n<p>466678 rows × 8 columns</p>\n</div>"
     },
     "execution_count": 98,
     "metadata": {},
     "output_type": "execute_result"
    }
   ],
   "source": [
    "# OPTION 2: directly drop rows containing letters in the 'Sale' filed\n",
    "df.drop(df[ df['Sale'].str.contains(r'[a-zA-Z]') ].index)"
   ]
  },
  {
   "cell_type": "markdown",
   "metadata": {
    "pycharm": {
     "name": "#%% md\n"
    }
   },
   "source": [
    "The attribute _Sale_ does not contain any null value or letters, only numbers.<br>\n",
    "We need now to substitute commas with dots and cast the field into float"
   ]
  },
  {
   "cell_type": "code",
   "execution_count": 99,
   "metadata": {
    "pycharm": {
     "name": "#%%\n"
    }
   },
   "outputs": [
    {
     "name": "stdout",
     "output_type": "stream",
     "text": [
      "Changed commas into dots\n",
      "Changed type from str to float64\n",
      "\n",
      "<class 'pandas.core.frame.DataFrame'>\n",
      "Int64Index: 466678 entries, 0 to 541909\n",
      "Data columns (total 8 columns):\n",
      " #   Column           Non-Null Count   Dtype  \n",
      "---  ------           --------------   -----  \n",
      " 0   BasketID         466678 non-null  object \n",
      " 1   BasketDate       466678 non-null  object \n",
      " 2   Sale             466678 non-null  float64\n",
      " 3   CustomerID       401605 non-null  float64\n",
      " 4   CustomerCountry  466678 non-null  object \n",
      " 5   ProdID           466678 non-null  object \n",
      " 6   ProdDescr        465925 non-null  object \n",
      " 7   Qta              466678 non-null  int64  \n",
      "dtypes: float64(2), int64(1), object(5)\n",
      "memory usage: 52.0+ MB\n"
     ]
    }
   ],
   "source": [
    "# Replace commas with dots and make 'Sale' a float\n",
    "df['Sale'].replace(to_replace=r'(\\d+),(\\d*)', value=r'\\1.\\2', regex=True, inplace=True)\n",
    "df['Sale'] = df['Sale'].astype(float)\n",
    "print('Changed commas into dots')\n",
    "print('Changed type from str to float64\\n')\n",
    "df.info()"
   ]
  },
  {
   "cell_type": "markdown",
   "metadata": {
    "pycharm": {
     "name": "#%% md\n"
    }
   },
   "source": [
    "Check value ranges of _Sale_'s items"
   ]
  },
  {
   "cell_type": "code",
   "execution_count": 100,
   "metadata": {
    "pycharm": {
     "name": "#%%\n"
    }
   },
   "outputs": [
    {
     "name": "stdout",
     "output_type": "stream",
     "text": [
      "Sale's value ranges:\n",
      "TOT :  466678\n",
      " < 0:  2\n",
      " > 100:  634\n",
      " > 1000:  84\n"
     ]
    },
    {
     "data": {
      "text/plain": "<AxesSubplot:>"
     },
     "execution_count": 100,
     "metadata": {},
     "output_type": "execute_result"
    },
    {
     "data": {
      "text/plain": "<Figure size 432x288 with 1 Axes>",
      "image/png": "[encoded data removed]"
     },
     "metadata": {
      "needs_background": "light"
     },
     "output_type": "display_data"
    }
   ],
   "source": [
    "# Check value ranges of Sale's items\n",
    "print(\"Sale's value ranges:\")\n",
    "print(\"TOT : \", len(df['Sale']))\n",
    "print(\" < 0: \", len(df[df['Sale'] < 0]))\n",
    "print(\" > 100: \", len(df[df['Sale'] > 100]))\n",
    "print(\" > 1000: \", len(df[df['Sale'] > 1000]))\n",
    "df.boxplot(column=['Sale'])"
   ]
  },
  {
   "cell_type": "markdown",
   "metadata": {
    "pycharm": {
     "name": "#%% md\n"
    }
   },
   "source": [
    "There are some clear outliers, let's see if we can improve the situation by cleaning other attributes first..."
   ]
  },
  {
   "cell_type": "markdown",
   "metadata": {
    "pycharm": {
     "name": "#%% md\n"
    }
   },
   "source": [
    "### Analyzing _Qta_:\n",
    "* Check rows with **negative** quantity:"
   ]
  },
  {
   "cell_type": "code",
   "execution_count": 101,
   "metadata": {
    "pycharm": {
     "name": "#%%\n"
    }
   },
   "outputs": [
    {
     "name": "stdout",
     "output_type": "stream",
     "text": [
      "Number of rows with negative Qta:  9719\n",
      "Number of rows with negative Qta and a normal BaskedID:  668\n",
      "Number of rows with negative Qta and an empty/null/'?' ProdDescr:  22\n",
      "Number of rows with negative Qta and a null/nan/empty CustomerID:  847\n"
     ]
    }
   ],
   "source": [
    "# Check rows with negative quantity\n",
    "bid_normal = 0  # counter of rows with normal BasketID (but negative Qta)\n",
    "proddescr_null = 0  # counter of rows with a empty or null or '?' ProdDescr\n",
    "cid_null = 0    # counter of rows with a null/nan/empty CustomerID\n",
    "\n",
    "for index, row in df[df['Qta'] < 0].iterrows():\n",
    "    bid_normal += 1 if (not 'C' in row['BasketID'] and not 'A' in row['BasketID']) else 0\n",
    "    proddescr_null += 1 if row['ProdDescr'] in ('','?') else 0\n",
    "    cid_null += 1 if pd.isna(row['CustomerID']) else 0\n",
    "\n",
    "print(\"Number of rows with negative Qta: \", len(df[df['Qta'] < 0]))\n",
    "print(\"Number of rows with negative Qta and a normal BaskedID: \", bid_normal)\n",
    "print(\"Number of rows with negative Qta and an empty/null/'?' ProdDescr: \", proddescr_null)\n",
    "print(\"Number of rows with negative Qta and a null/nan/empty CustomerID: \", cid_null)"
   ]
  },
  {
   "cell_type": "markdown",
   "metadata": {
    "pycharm": {
     "name": "#%% md\n"
    }
   },
   "source": [
    "### Analyzing _CustomerID_:\n",
    "* Check for how many orders it's not possible to find a _CustomerID_\n",
    "* Remove entries with no retrievable _CustomerID_\n",
    "* Make _CustomerID_ of type **int**"
   ]
  },
  {
   "cell_type": "code",
   "execution_count": 102,
   "metadata": {
    "pycharm": {
     "name": "#%%\n"
    }
   },
   "outputs": [
    {
     "name": "stdout",
     "output_type": "stream",
     "text": [
      "Checking rows with no CustomerID...\n",
      "Number of distinct orders:  24627\n",
      "Number of orders without CustomerID:  2437\n"
     ]
    }
   ],
   "source": [
    "\"\"\"\n",
    "Check for which BaskedIDs it's not possible to find a CustomerID:\n",
    "    - if a CustomerID is NaN, but there exist a row with the same BaskedID and CustomerID != Nan, then we have a customer for that order.\n",
    "\n",
    "We produce a dictionary with BaskedIDs as keys and boolean values:\n",
    "    - if there's a customer for that BaskedID, it's True, otherwise it's False\n",
    "\"\"\"\n",
    "\n",
    "print(\"Checking rows with no CustomerID...\")\n",
    "orders_have_customer = dict(zip(\n",
    "    df['BasketID'].unique(),    # keys\n",
    "    [False] * len(df['BasketID'].unique()))  # values (initially False for every key)\n",
    ")\n",
    "\n",
    "for index, row in df.iterrows():\n",
    "    if not pd.isna(row['CustomerID']):\n",
    "        orders_have_customer[row['BasketID']] = True\n",
    "\n",
    "orders_wo_cust = [] # list of orders without CustomerID\n",
    "for k, v in orders_have_customer.items():\n",
    "    if not v:\n",
    "        orders_wo_cust.append(k)\n",
    "\n",
    "del orders_have_customer\n",
    "print(\"Number of distinct orders: \", len(df['BasketID'].unique()))\n",
    "print(\"Number of orders without CustomerID: \", len(orders_wo_cust))"
   ]
  },
  {
   "cell_type": "code",
   "execution_count": 103,
   "metadata": {
    "pycharm": {
     "name": "#%%\n"
    }
   },
   "outputs": [
    {
     "name": "stdout",
     "output_type": "stream",
     "text": [
      "The dataframe contains now 401605 rows\n",
      "Remaining entries with a NaN CustomerID: 0\n"
     ]
    }
   ],
   "source": [
    "# Delete from dataframe records belonging to orders without customer\n",
    "df = df[~df['BasketID'].isin(orders_wo_cust)]\n",
    "del orders_wo_cust\n",
    "print(f\"The dataframe contains now {len(df)} rows\")\n",
    "print(f\"Remaining entries with a NaN CustomerID: {len(df[pd.isna(df['CustomerID'])])}\")"
   ]
  },
  {
   "cell_type": "code",
   "execution_count": 104,
   "outputs": [
    {
     "name": "stdout",
     "output_type": "stream",
     "text": [
      "Number of CustomerIDs with decimal part != 0:  0\n"
     ]
    }
   ],
   "source": [
    "# check if the decimal part is always 0\n",
    "count_decpart_nonzero = 0\n",
    "for elem in df['CustomerID']:\n",
    "    if elem % 1.0 != 0.0 and not pd.isnull(elem):\n",
    "        count_decpart_nonzero += 1\n",
    "print('Number of CustomerIDs with decimal part != 0: ', count_decpart_nonzero)"
   ],
   "metadata": {
    "collapsed": false,
    "pycharm": {
     "name": "#%%\n"
    }
   }
  },
  {
   "cell_type": "code",
   "execution_count": 108,
   "outputs": [
    {
     "name": "stdout",
     "output_type": "stream",
     "text": [
      "17850\n"
     ]
    },
    {
     "data": {
      "text/plain": "BasketID            object\nBasketDate          object\nSale               float64\nCustomerID           int32\nCustomerCountry     object\nProdID              object\nProdDescr           object\nQta                  int64\ndtype: object"
     },
     "execution_count": 108,
     "metadata": {},
     "output_type": "execute_result"
    }
   ],
   "source": [
    "# Make 'CustomerID' of type int\n",
    "if count_decpart_nonzero == 0:\n",
    "    df = df.astype({'CustomerID': int})\n",
    "\n",
    "df.dtypes"
   ],
   "metadata": {
    "collapsed": false,
    "pycharm": {
     "name": "#%%\n"
    }
   }
  },
  {
   "cell_type": "code",
   "execution_count": 92,
   "outputs": [
    {
     "name": "stdout",
     "output_type": "stream",
     "text": [
      "17850.0\n"
     ]
    }
   ],
   "source": [
    "print(df.iloc[0]['CustomerID'])"
   ],
   "metadata": {
    "collapsed": false,
    "pycharm": {
     "name": "#%%\n"
    }
   }
  },
  {
   "cell_type": "markdown",
   "metadata": {
    "pycharm": {
     "name": "#%% md\n"
    }
   },
   "source": [
    "Let's perform again the analysis on Qta we did before analysing CustomerID:"
   ]
  },
  {
   "cell_type": "code",
   "execution_count": 63,
   "metadata": {
    "pycharm": {
     "name": "#%%\n"
    }
   },
   "outputs": [
    {
     "name": "stdout",
     "output_type": "stream",
     "text": [
      "Number of rows with negative Qta:  8872\n",
      "Number of rows with negative Qta and a normal BaskedID:  0\n",
      "Number of rows with negative Qta and an empty/null/'?' ProdDescr:  0\n",
      "Number of rows with negative Qta and a null/nan/empty CustomerID:  0\n"
     ]
    }
   ],
   "source": [
    "# Check rows with negative quantity\n",
    "bid_normal = 0  # counter of rows with normal BasketID (but negative Qta)\n",
    "proddescr_null = 0  # counter of rows with a empty or null or '?' ProdDescr\n",
    "cid_null = 0    # counter of rows with a null/nan/empty CustomerID\n",
    "\n",
    "for index, row in df[df['Qta'] < 0].iterrows():\n",
    "    bid_normal += 1 if (not 'C' in row['BasketID'] and not 'A' in row['BasketID']) else 0\n",
    "    proddescr_null += 1 if row['ProdDescr'] in ('','?') else 0\n",
    "    cid_null += 1 if pd.isna(row['CustomerID']) else 0\n",
    "\n",
    "print(\"Number of rows with negative Qta: \", len(df[df['Qta'] < 0]))\n",
    "print(\"Number of rows with negative Qta and a normal BaskedID: \", bid_normal)\n",
    "print(\"Number of rows with negative Qta and an empty/null/'?' ProdDescr: \", proddescr_null)\n",
    "print(\"Number of rows with negative Qta and a null/nan/empty CustomerID: \", cid_null)"
   ]
  },
  {
   "cell_type": "markdown",
   "metadata": {
    "pycharm": {
     "name": "#%% md\n"
    }
   },
   "source": [
    "This shows that every row of the orders with a NaN _CustomerID_ had also\n",
    "anomalous values of _BasketID_ and _ProdDescr_"
   ]
  },
  {
   "cell_type": "code",
   "execution_count": 64,
   "outputs": [
    {
     "name": "stdout",
     "output_type": "stream",
     "text": [
      "All negative entries have a corresponding positive one:  False\n",
      "The negative entries which are not matched are:  947\n",
      "The negative entries which are matched are:  7925\n",
      "The legal negative entries are:  7925\n"
     ]
    }
   ],
   "source": [
    "all_paired = True\n",
    "count_pairs = count_legal_pairs = count_not_paired = 0\n",
    "for index, row in df[df['Qta'] < 0].iterrows():\n",
    "    found = False\n",
    "    df_aux = df[df['CustomerID'] == row['CustomerID']]\n",
    "    df_aux = df_aux[df_aux['ProdID'] == row['ProdID']]\n",
    "    df_aux = df_aux[df_aux['Qta'] > 0]\n",
    "    if len(df_aux) > 0:\n",
    "        found = True\n",
    "        count_pairs += 1\n",
    "        for i, r in df_aux.iterrows():\n",
    "            if r['Qta'] >= row['Qta']:\n",
    "                count_legal_pairs += 1\n",
    "                break\n",
    "\n",
    "    if not found:\n",
    "        all_paired = False\n",
    "        count_not_paired += 1\n",
    "\n",
    "del df_aux\n",
    "\n",
    "print(\"All negative entries have a corresponding positive one: \", all_paired)\n",
    "print(\"The negative entries which are not matched are: \", count_not_paired)\n",
    "print(\"The negative entries which are matched are: \", count_pairs)\n",
    "assert(len(df[df['Qta'] < 0]) == count_not_paired + count_pairs)\n",
    "print(\"The legal negative entries are: \", count_legal_pairs)"
   ],
   "metadata": {
    "collapsed": false,
    "pycharm": {
     "name": "#%%\n"
    }
   }
  },
  {
   "cell_type": "markdown",
   "source": [
    "## End of the checked and fixed part\n",
    "---"
   ],
   "metadata": {
    "collapsed": false,
    "pycharm": {
     "name": "#%% md\n"
    }
   }
  },
  {
   "cell_type": "code",
   "execution_count": 60,
   "metadata": {
    "pycharm": {
     "name": "#%%\n"
    }
   },
   "outputs": [
    {
     "name": "stdout",
     "output_type": "stream",
     "text": [
      "222681    38970.0\n",
      "Name: Sale, dtype: float64\n"
     ]
    }
   ],
   "source": [
    "# Drop one outlier (only one as demo)\n",
    "#df.drop(df[df['Sale'] > 35000].index, inplace=True)\n",
    "#df.boxplot(column=['Sale'])"
   ]
  },
  {
   "cell_type": "markdown",
   "metadata": {
    "pycharm": {
     "name": "#%% md\n"
    }
   },
   "source": [
    "Every BaskedID starting with \"C\" is associated with a negative value in the Qta attribute\n",
    "\n",
    "#### Checking 'CustomerID':\n",
    "\n",
    "* Check if NaN CustomerIDs can be associated to a valid value through their BasketID"
   ]
  },
  {
   "cell_type": "code",
   "execution_count": 7,
   "metadata": {
    "pycharm": {
     "name": "#%%\n"
    }
   },
   "outputs": [
    {
     "name": "stdout",
     "output_type": "stream",
     "text": [
      "Number of CustomerIDs with decimal part != 0:  0\n"
     ]
    }
   ],
   "source": [
    "# check if the decimal part is always 0\n",
    "counter = 0\n",
    "for elem in df['CustomerID']:\n",
    "    if elem % 1.0 != 0.0 and not pd.isnull(elem):\n",
    "        counter += 1\n",
    "print('Number of CustomerIDs with decimal part != 0: ', counter)"
   ]
  },
  {
   "cell_type": "markdown",
   "metadata": {
    "pycharm": {
     "name": "#%% md\n"
    }
   },
   "source": [
    "Substitute null CustomerIDs by the id found in a recordo with the same BasketID\n",
    "(super slow to run)"
   ]
  },
  {
   "cell_type": "code",
   "execution_count": 8,
   "metadata": {
    "pycharm": {
     "name": "#%%\n"
    }
   },
   "outputs": [
    {
     "name": "stderr",
     "output_type": "stream",
     "text": [
      "<ipython-input-8-b68daaad6656>:10: SettingWithCopyWarning: \n",
      "A value is trying to be set on a copy of a slice from a DataFrame\n",
      "\n",
      "See the caveats in the documentation: https://pandas.pydata.org/pandas-docs/stable/user_guide/indexing.html#returning-a-view-versus-a-copy\n",
      "  row['CustomerID'] = df.iloc[j]['CustomerID']\n"
     ]
    },
    {
     "ename": "KeyboardInterrupt",
     "evalue": "",
     "output_type": "error",
     "traceback": [
      "\u001B[1;31m---------------------------------------------------------------------------\u001B[0m",
      "\u001B[1;31mKeyboardInterrupt\u001B[0m                         Traceback (most recent call last)",
      "\u001B[1;32m<ipython-input-8-b68daaad6656>\u001B[0m in \u001B[0;36m<module>\u001B[1;34m\u001B[0m\n\u001B[0;32m      7\u001B[0m             \u001B[0mbasketID\u001B[0m \u001B[1;33m=\u001B[0m \u001B[0mrow\u001B[0m\u001B[1;33m[\u001B[0m\u001B[1;34m'BasketID'\u001B[0m\u001B[1;33m]\u001B[0m\u001B[1;33m\u001B[0m\u001B[1;33m\u001B[0m\u001B[0m\n\u001B[0;32m      8\u001B[0m             \u001B[1;32mfor\u001B[0m \u001B[0mj\u001B[0m \u001B[1;32min\u001B[0m \u001B[0mrange\u001B[0m\u001B[1;33m(\u001B[0m\u001B[0mmin\u001B[0m\u001B[1;33m(\u001B[0m\u001B[1;36m0\u001B[0m\u001B[1;33m,\u001B[0m \u001B[0mi\u001B[0m\u001B[1;33m-\u001B[0m\u001B[1;36m20\u001B[0m\u001B[1;33m)\u001B[0m\u001B[1;33m,\u001B[0m \u001B[0mmin\u001B[0m\u001B[1;33m(\u001B[0m\u001B[0mi\u001B[0m\u001B[1;33m+\u001B[0m\u001B[1;36m20\u001B[0m\u001B[1;33m,\u001B[0m \u001B[0mlen\u001B[0m\u001B[1;33m(\u001B[0m\u001B[0mdf\u001B[0m\u001B[1;33m)\u001B[0m\u001B[1;33m)\u001B[0m\u001B[1;33m)\u001B[0m\u001B[1;33m:\u001B[0m\u001B[1;33m\u001B[0m\u001B[1;33m\u001B[0m\u001B[0m\n\u001B[1;32m----> 9\u001B[1;33m                 \u001B[1;32mif\u001B[0m \u001B[0mdf\u001B[0m\u001B[1;33m.\u001B[0m\u001B[0miloc\u001B[0m\u001B[1;33m[\u001B[0m\u001B[0mj\u001B[0m\u001B[1;33m]\u001B[0m\u001B[1;33m[\u001B[0m\u001B[1;34m'BasketID'\u001B[0m\u001B[1;33m]\u001B[0m \u001B[1;33m==\u001B[0m \u001B[0mbasketID\u001B[0m\u001B[1;33m:\u001B[0m\u001B[1;33m\u001B[0m\u001B[1;33m\u001B[0m\u001B[0m\n\u001B[0m\u001B[0;32m     10\u001B[0m                     \u001B[0mrow\u001B[0m\u001B[1;33m[\u001B[0m\u001B[1;34m'CustomerID'\u001B[0m\u001B[1;33m]\u001B[0m \u001B[1;33m=\u001B[0m \u001B[0mdf\u001B[0m\u001B[1;33m.\u001B[0m\u001B[0miloc\u001B[0m\u001B[1;33m[\u001B[0m\u001B[0mj\u001B[0m\u001B[1;33m]\u001B[0m\u001B[1;33m[\u001B[0m\u001B[1;34m'CustomerID'\u001B[0m\u001B[1;33m]\u001B[0m\u001B[1;33m\u001B[0m\u001B[1;33m\u001B[0m\u001B[0m\n\u001B[0;32m     11\u001B[0m                     \u001B[1;32mbreak\u001B[0m\u001B[1;33m\u001B[0m\u001B[1;33m\u001B[0m\u001B[0m\n",
      "\u001B[1;32md:\\onedrive - università degli studi di verona\\università\\magistrale\\data mining\\dm-project\\venv\\lib\\site-packages\\pandas\\core\\indexing.py\u001B[0m in \u001B[0;36m__getitem__\u001B[1;34m(self, key)\u001B[0m\n\u001B[0;32m    877\u001B[0m \u001B[1;33m\u001B[0m\u001B[0m\n\u001B[0;32m    878\u001B[0m             \u001B[0mmaybe_callable\u001B[0m \u001B[1;33m=\u001B[0m \u001B[0mcom\u001B[0m\u001B[1;33m.\u001B[0m\u001B[0mapply_if_callable\u001B[0m\u001B[1;33m(\u001B[0m\u001B[0mkey\u001B[0m\u001B[1;33m,\u001B[0m \u001B[0mself\u001B[0m\u001B[1;33m.\u001B[0m\u001B[0mobj\u001B[0m\u001B[1;33m)\u001B[0m\u001B[1;33m\u001B[0m\u001B[1;33m\u001B[0m\u001B[0m\n\u001B[1;32m--> 879\u001B[1;33m             \u001B[1;32mreturn\u001B[0m \u001B[0mself\u001B[0m\u001B[1;33m.\u001B[0m\u001B[0m_getitem_axis\u001B[0m\u001B[1;33m(\u001B[0m\u001B[0mmaybe_callable\u001B[0m\u001B[1;33m,\u001B[0m \u001B[0maxis\u001B[0m\u001B[1;33m=\u001B[0m\u001B[0maxis\u001B[0m\u001B[1;33m)\u001B[0m\u001B[1;33m\u001B[0m\u001B[1;33m\u001B[0m\u001B[0m\n\u001B[0m\u001B[0;32m    880\u001B[0m \u001B[1;33m\u001B[0m\u001B[0m\n\u001B[0;32m    881\u001B[0m     \u001B[1;32mdef\u001B[0m \u001B[0m_is_scalar_access\u001B[0m\u001B[1;33m(\u001B[0m\u001B[0mself\u001B[0m\u001B[1;33m,\u001B[0m \u001B[0mkey\u001B[0m\u001B[1;33m:\u001B[0m \u001B[0mTuple\u001B[0m\u001B[1;33m)\u001B[0m\u001B[1;33m:\u001B[0m\u001B[1;33m\u001B[0m\u001B[1;33m\u001B[0m\u001B[0m\n",
      "\u001B[1;32md:\\onedrive - università degli studi di verona\\università\\magistrale\\data mining\\dm-project\\venv\\lib\\site-packages\\pandas\\core\\indexing.py\u001B[0m in \u001B[0;36m_getitem_axis\u001B[1;34m(self, key, axis)\u001B[0m\n\u001B[0;32m   1496\u001B[0m             \u001B[0mself\u001B[0m\u001B[1;33m.\u001B[0m\u001B[0m_validate_integer\u001B[0m\u001B[1;33m(\u001B[0m\u001B[0mkey\u001B[0m\u001B[1;33m,\u001B[0m \u001B[0maxis\u001B[0m\u001B[1;33m)\u001B[0m\u001B[1;33m\u001B[0m\u001B[1;33m\u001B[0m\u001B[0m\n\u001B[0;32m   1497\u001B[0m \u001B[1;33m\u001B[0m\u001B[0m\n\u001B[1;32m-> 1498\u001B[1;33m             \u001B[1;32mreturn\u001B[0m \u001B[0mself\u001B[0m\u001B[1;33m.\u001B[0m\u001B[0mobj\u001B[0m\u001B[1;33m.\u001B[0m\u001B[0m_ixs\u001B[0m\u001B[1;33m(\u001B[0m\u001B[0mkey\u001B[0m\u001B[1;33m,\u001B[0m \u001B[0maxis\u001B[0m\u001B[1;33m=\u001B[0m\u001B[0maxis\u001B[0m\u001B[1;33m)\u001B[0m\u001B[1;33m\u001B[0m\u001B[1;33m\u001B[0m\u001B[0m\n\u001B[0m\u001B[0;32m   1499\u001B[0m \u001B[1;33m\u001B[0m\u001B[0m\n\u001B[0;32m   1500\u001B[0m     \u001B[1;32mdef\u001B[0m \u001B[0m_get_slice_axis\u001B[0m\u001B[1;33m(\u001B[0m\u001B[0mself\u001B[0m\u001B[1;33m,\u001B[0m \u001B[0mslice_obj\u001B[0m\u001B[1;33m:\u001B[0m \u001B[0mslice\u001B[0m\u001B[1;33m,\u001B[0m \u001B[0maxis\u001B[0m\u001B[1;33m:\u001B[0m \u001B[0mint\u001B[0m\u001B[1;33m)\u001B[0m\u001B[1;33m:\u001B[0m\u001B[1;33m\u001B[0m\u001B[1;33m\u001B[0m\u001B[0m\n",
      "\u001B[1;32md:\\onedrive - università degli studi di verona\\università\\magistrale\\data mining\\dm-project\\venv\\lib\\site-packages\\pandas\\core\\frame.py\u001B[0m in \u001B[0;36m_ixs\u001B[1;34m(self, i, axis)\u001B[0m\n\u001B[0;32m   2827\u001B[0m         \u001B[1;31m# irow\u001B[0m\u001B[1;33m\u001B[0m\u001B[1;33m\u001B[0m\u001B[1;33m\u001B[0m\u001B[0m\n\u001B[0;32m   2828\u001B[0m         \u001B[1;32mif\u001B[0m \u001B[0maxis\u001B[0m \u001B[1;33m==\u001B[0m \u001B[1;36m0\u001B[0m\u001B[1;33m:\u001B[0m\u001B[1;33m\u001B[0m\u001B[1;33m\u001B[0m\u001B[0m\n\u001B[1;32m-> 2829\u001B[1;33m             \u001B[0mnew_values\u001B[0m \u001B[1;33m=\u001B[0m \u001B[0mself\u001B[0m\u001B[1;33m.\u001B[0m\u001B[0m_mgr\u001B[0m\u001B[1;33m.\u001B[0m\u001B[0mfast_xs\u001B[0m\u001B[1;33m(\u001B[0m\u001B[0mi\u001B[0m\u001B[1;33m)\u001B[0m\u001B[1;33m\u001B[0m\u001B[1;33m\u001B[0m\u001B[0m\n\u001B[0m\u001B[0;32m   2830\u001B[0m \u001B[1;33m\u001B[0m\u001B[0m\n\u001B[0;32m   2831\u001B[0m             \u001B[1;31m# if we are a copy, mark as such\u001B[0m\u001B[1;33m\u001B[0m\u001B[1;33m\u001B[0m\u001B[1;33m\u001B[0m\u001B[0m\n",
      "\u001B[1;32md:\\onedrive - università degli studi di verona\\università\\magistrale\\data mining\\dm-project\\venv\\lib\\site-packages\\pandas\\core\\internals\\managers.py\u001B[0m in \u001B[0;36mfast_xs\u001B[1;34m(self, loc)\u001B[0m\n\u001B[0;32m    939\u001B[0m             \u001B[1;32mreturn\u001B[0m \u001B[0mself\u001B[0m\u001B[1;33m.\u001B[0m\u001B[0mblocks\u001B[0m\u001B[1;33m[\u001B[0m\u001B[1;36m0\u001B[0m\u001B[1;33m]\u001B[0m\u001B[1;33m.\u001B[0m\u001B[0miget\u001B[0m\u001B[1;33m(\u001B[0m\u001B[1;33m(\u001B[0m\u001B[0mslice\u001B[0m\u001B[1;33m(\u001B[0m\u001B[1;32mNone\u001B[0m\u001B[1;33m)\u001B[0m\u001B[1;33m,\u001B[0m \u001B[0mloc\u001B[0m\u001B[1;33m)\u001B[0m\u001B[1;33m)\u001B[0m\u001B[1;33m\u001B[0m\u001B[1;33m\u001B[0m\u001B[0m\n\u001B[0;32m    940\u001B[0m \u001B[1;33m\u001B[0m\u001B[0m\n\u001B[1;32m--> 941\u001B[1;33m         \u001B[0mdtype\u001B[0m \u001B[1;33m=\u001B[0m \u001B[0m_interleaved_dtype\u001B[0m\u001B[1;33m(\u001B[0m\u001B[0mself\u001B[0m\u001B[1;33m.\u001B[0m\u001B[0mblocks\u001B[0m\u001B[1;33m)\u001B[0m\u001B[1;33m\u001B[0m\u001B[1;33m\u001B[0m\u001B[0m\n\u001B[0m\u001B[0;32m    942\u001B[0m \u001B[1;33m\u001B[0m\u001B[0m\n\u001B[0;32m    943\u001B[0m         \u001B[0mn\u001B[0m \u001B[1;33m=\u001B[0m \u001B[0mlen\u001B[0m\u001B[1;33m(\u001B[0m\u001B[0mself\u001B[0m\u001B[1;33m)\u001B[0m\u001B[1;33m\u001B[0m\u001B[1;33m\u001B[0m\u001B[0m\n",
      "\u001B[1;32md:\\onedrive - università degli studi di verona\\università\\magistrale\\data mining\\dm-project\\venv\\lib\\site-packages\\pandas\\core\\internals\\managers.py\u001B[0m in \u001B[0;36m_interleaved_dtype\u001B[1;34m(blocks)\u001B[0m\n\u001B[0;32m   1884\u001B[0m         \u001B[1;32mreturn\u001B[0m \u001B[1;32mNone\u001B[0m\u001B[1;33m\u001B[0m\u001B[1;33m\u001B[0m\u001B[0m\n\u001B[0;32m   1885\u001B[0m \u001B[1;33m\u001B[0m\u001B[0m\n\u001B[1;32m-> 1886\u001B[1;33m     \u001B[1;32mreturn\u001B[0m \u001B[0mfind_common_type\u001B[0m\u001B[1;33m(\u001B[0m\u001B[1;33m[\u001B[0m\u001B[0mb\u001B[0m\u001B[1;33m.\u001B[0m\u001B[0mdtype\u001B[0m \u001B[1;32mfor\u001B[0m \u001B[0mb\u001B[0m \u001B[1;32min\u001B[0m \u001B[0mblocks\u001B[0m\u001B[1;33m]\u001B[0m\u001B[1;33m)\u001B[0m\u001B[1;33m\u001B[0m\u001B[1;33m\u001B[0m\u001B[0m\n\u001B[0m\u001B[0;32m   1887\u001B[0m \u001B[1;33m\u001B[0m\u001B[0m\n\u001B[0;32m   1888\u001B[0m \u001B[1;33m\u001B[0m\u001B[0m\n",
      "\u001B[1;32md:\\onedrive - università degli studi di verona\\università\\magistrale\\data mining\\dm-project\\venv\\lib\\site-packages\\pandas\\core\\dtypes\\cast.py\u001B[0m in \u001B[0;36mfind_common_type\u001B[1;34m(types)\u001B[0m\n\u001B[0;32m   1496\u001B[0m                 \u001B[1;32mreturn\u001B[0m \u001B[0mobject\u001B[0m\u001B[1;33m\u001B[0m\u001B[1;33m\u001B[0m\u001B[0m\n\u001B[0;32m   1497\u001B[0m \u001B[1;33m\u001B[0m\u001B[0m\n\u001B[1;32m-> 1498\u001B[1;33m     \u001B[1;32mreturn\u001B[0m \u001B[0mnp\u001B[0m\u001B[1;33m.\u001B[0m\u001B[0mfind_common_type\u001B[0m\u001B[1;33m(\u001B[0m\u001B[0mtypes\u001B[0m\u001B[1;33m,\u001B[0m \u001B[1;33m[\u001B[0m\u001B[1;33m]\u001B[0m\u001B[1;33m)\u001B[0m\u001B[1;33m\u001B[0m\u001B[1;33m\u001B[0m\u001B[0m\n\u001B[0m\u001B[0;32m   1499\u001B[0m \u001B[1;33m\u001B[0m\u001B[0m\n\u001B[0;32m   1500\u001B[0m \u001B[1;33m\u001B[0m\u001B[0m\n",
      "\u001B[1;32md:\\onedrive - università degli studi di verona\\università\\magistrale\\data mining\\dm-project\\venv\\lib\\site-packages\\numpy\\core\\numerictypes.py\u001B[0m in \u001B[0;36mfind_common_type\u001B[1;34m(array_types, scalar_types)\u001B[0m\n\u001B[0;32m    622\u001B[0m     \u001B[0mscalar_types\u001B[0m \u001B[1;33m=\u001B[0m \u001B[1;33m[\u001B[0m\u001B[0mdtype\u001B[0m\u001B[1;33m(\u001B[0m\u001B[0mx\u001B[0m\u001B[1;33m)\u001B[0m \u001B[1;32mfor\u001B[0m \u001B[0mx\u001B[0m \u001B[1;32min\u001B[0m \u001B[0mscalar_types\u001B[0m\u001B[1;33m]\u001B[0m\u001B[1;33m\u001B[0m\u001B[1;33m\u001B[0m\u001B[0m\n\u001B[0;32m    623\u001B[0m \u001B[1;33m\u001B[0m\u001B[0m\n\u001B[1;32m--> 624\u001B[1;33m     \u001B[0mmaxa\u001B[0m \u001B[1;33m=\u001B[0m \u001B[0m_can_coerce_all\u001B[0m\u001B[1;33m(\u001B[0m\u001B[0marray_types\u001B[0m\u001B[1;33m)\u001B[0m\u001B[1;33m\u001B[0m\u001B[1;33m\u001B[0m\u001B[0m\n\u001B[0m\u001B[0;32m    625\u001B[0m     \u001B[0mmaxsc\u001B[0m \u001B[1;33m=\u001B[0m \u001B[0m_can_coerce_all\u001B[0m\u001B[1;33m(\u001B[0m\u001B[0mscalar_types\u001B[0m\u001B[1;33m)\u001B[0m\u001B[1;33m\u001B[0m\u001B[1;33m\u001B[0m\u001B[0m\n\u001B[0;32m    626\u001B[0m \u001B[1;33m\u001B[0m\u001B[0m\n",
      "\u001B[1;32md:\\onedrive - università degli studi di verona\\università\\magistrale\\data mining\\dm-project\\venv\\lib\\site-packages\\numpy\\core\\numerictypes.py\u001B[0m in \u001B[0;36m_can_coerce_all\u001B[1;34m(dtypelist, start)\u001B[0m\n\u001B[0;32m    555\u001B[0m         \u001B[1;32mif\u001B[0m \u001B[0mnumcoerce\u001B[0m \u001B[1;33m==\u001B[0m \u001B[0mN\u001B[0m\u001B[1;33m:\u001B[0m\u001B[1;33m\u001B[0m\u001B[1;33m\u001B[0m\u001B[0m\n\u001B[0;32m    556\u001B[0m             \u001B[1;32mreturn\u001B[0m \u001B[0mnewdtype\u001B[0m\u001B[1;33m\u001B[0m\u001B[1;33m\u001B[0m\u001B[0m\n\u001B[1;32m--> 557\u001B[1;33m         \u001B[0mthisind\u001B[0m \u001B[1;33m+=\u001B[0m \u001B[1;36m1\u001B[0m\u001B[1;33m\u001B[0m\u001B[1;33m\u001B[0m\u001B[0m\n\u001B[0m\u001B[0;32m    558\u001B[0m     \u001B[1;32mreturn\u001B[0m \u001B[1;32mNone\u001B[0m\u001B[1;33m\u001B[0m\u001B[1;33m\u001B[0m\u001B[0m\n\u001B[0;32m    559\u001B[0m \u001B[1;33m\u001B[0m\u001B[0m\n",
      "\u001B[1;31mKeyboardInterrupt\u001B[0m: "
     ]
    }
   ],
   "source": [
    "# Fixing null CustomerIDs\n",
    "bad_rows_indeces = []\n",
    "for i in range(len(df)):\n",
    "    row = df.iloc[i]\n",
    "    if pd.isnull(row['CustomerID']):\n",
    "        if not pd.isnull(row['BasketID']):\n",
    "            basketID = row['BasketID']\n",
    "            for j in range(min(0, i-10), min(i+10, len(df))):\n",
    "                if df.iloc[j]['BasketID'] == basketID:\n",
    "                    row['CustomerID'] = df.iloc[j]['CustomerID']\n",
    "                    break\n",
    "        else:\n",
    "            print(f\"\\nRow {i} is a bad row\")\n",
    "            bad_rows_indeces.append(i)\n",
    "\n",
    "print(\"For the following rows it wasn't possible to find the CustomerID: \", bad_rows_indeces)"
   ]
  },
  {
   "cell_type": "code",
   "execution_count": 6,
   "metadata": {
    "pycharm": {
     "name": "#%%\n"
    }
   },
   "outputs": [
    {
     "data": {
      "text/plain": [
       "BasketID           False\n",
       "BasketDate         False\n",
       "Sale               False\n",
       "CustomerID         False\n",
       "CustomerCountry    False\n",
       "ProdID             False\n",
       "ProdDescr          False\n",
       "Qta                False\n",
       "dtype: bool"
      ]
     },
     "execution_count": 6,
     "metadata": {},
     "output_type": "execute_result"
    }
   ],
   "source": [
    "# Drop rows with null CustomerID (if the prev method doesn't work)\n",
    "df.drop(df[~df['CustomerID'].notnull()].index, inplace=True)\n",
    "df.isnull().any()"
   ]
  },
  {
   "cell_type": "code",
   "execution_count": null,
   "metadata": {
    "pycharm": {
     "name": "#%%\n"
    }
   },
   "outputs": [],
   "source": [
    "df['CustomerID'] = df['CustomerID'].astype(int)\n",
    "df.info()"
   ]
  },
  {
   "cell_type": "markdown",
   "metadata": {},
   "source": [
    "#### Checking 'Qta':"
   ]
  },
  {
   "cell_type": "code",
   "execution_count": 25,
   "metadata": {},
   "outputs": [
    {
     "name": "stdout",
     "output_type": "stream",
     "text": [
      "Quantity values\n",
      "TOT entries:  401605\n",
      " < 0:  8872\n",
      " > 100:  4663\n",
      " > 1000:  105\n",
      "\n",
      "\n"
     ]
    }
   ],
   "source": [
    "print(\"Quantity values\")\n",
    "print(\"TOT entries: \", len(df['Qta']))\n",
    "print(\" < 0: \", len(df[df['Qta'] < 0]))\n",
    "print(\" > 100: \", len(df[df['Qta'] > 100]))\n",
    "print(\" > 1000: \", len(df[df['Qta'] > 1000]))\n",
    "print('\\n')"
   ]
  },
  {
   "cell_type": "markdown",
   "metadata": {
    "pycharm": {
     "name": "#%% md\n"
    }
   },
   "source": [
    "Most bought products with a **negative** quantity:"
   ]
  },
  {
   "cell_type": "code",
   "execution_count": 7,
   "metadata": {
    "pycharm": {
     "name": "#%%\n"
    }
   },
   "outputs": [
    {
     "data": {
      "image/png": "[encoded data removed]",
      "text/plain": [
       "<Figure size 432x288 with 1 Axes>"
      ]
     },
     "metadata": {
      "needs_background": "light"
     },
     "output_type": "display_data"
    }
   ],
   "source": [
    "df_negQta = df[df['Qta'] < 0]\n",
    "df_negQta['ProdDescr'].value_counts()[ : 15].plot(kind='bar')\n",
    "plt.xlabel('Product description')\n",
    "plt.ylabel('Number of items bought')\n",
    "plt.show()"
   ]
  },
  {
   "cell_type": "markdown",
   "metadata": {
    "pycharm": {
     "name": "#%% md\n"
    }
   },
   "source": [
    "This analysis does not show any plausible reason for a negative quantity\n",
    "\n",
    "Check how many BasketIDs associated with a negative quantity do not start with \"C\":"
   ]
  },
  {
   "cell_type": "code",
   "execution_count": 8,
   "metadata": {
    "pycharm": {
     "name": "#%%\n"
    }
   },
   "outputs": [
    {
     "name": "stdout",
     "output_type": "stream",
     "text": [
      "0 rows associated with a negative quantity have a BasketID NOT starting with 'C'\n"
     ]
    }
   ],
   "source": [
    "count = 0\n",
    "for index, row in df[df['Qta'] < 0].iterrows():\n",
    "    if row['BasketID'][0] != 'C':\n",
    "        count += 1\n",
    "print(f\"{count} rows associated with a negative quantity have a BasketID NOT starting with 'C'\")"
   ]
  },
  {
   "cell_type": "markdown",
   "metadata": {
    "pycharm": {
     "name": "#%% md\n"
    }
   },
   "source": [
    "Needed further analysis on rows having a BasketID starting with \"C\", because they also have a negative Qta"
   ]
  },
  {
   "cell_type": "markdown",
   "metadata": {
    "pycharm": {
     "name": "#%% md\n"
    }
   },
   "source": [
    "Correlation between customers' nationality and money spent on avarage:"
   ]
  },
  {
   "cell_type": "code",
   "execution_count": 56,
   "metadata": {
    "pycharm": {
     "name": "#%%\n"
    }
   },
   "outputs": [
    {
     "name": "stdout",
     "output_type": "stream",
     "text": [
      "Netherlands\n"
     ]
    },
    {
     "data": {
      "image/png": "[encoded data removed]",
      "text/plain": [
       "<Figure size 432x288 with 1 Axes>"
      ]
     },
     "metadata": {
      "needs_background": "light"
     },
     "output_type": "display_data"
    }
   ],
   "source": [
    "country_expenses = dict(\n",
    "    zip(\n",
    "        df['CustomerCountry'].values,\n",
    "        np.zeros((len(df['CustomerCountry'].values), 2))\n",
    "    )\n",
    ")\n",
    "\n",
    "for index, row in df.iterrows():\n",
    "    country_expenses[row['CustomerCountry']][0] += row['Sale'] * row['Qta']\n",
    "    country_expenses[row['CustomerCountry']][1] += 1\n",
    "\n",
    "values = []\n",
    "for k,v in country_expenses.items():\n",
    "    country_expenses[k][0] /= country_expenses[k][1]\n",
    "    values.append(country_expenses[k][0])\n",
    "\n",
    "plt.bar(country_expenses.keys(), values)\n"
   ]
  }
 ],
 "metadata": {
  "kernelspec": {
   "display_name": "Python 3",
   "language": "python",
   "name": "python3"
  },
  "language_info": {
   "codemirror_mode": {
    "name": "ipython",
    "version": 3
   },
   "file_extension": ".py",
   "mimetype": "text/x-python",
   "name": "python",
   "nbconvert_exporter": "python",
   "pygments_lexer": "ipython3",
   "version": "3.8.6"
  }
 },
 "nbformat": 4,
 "nbformat_minor": 4
}