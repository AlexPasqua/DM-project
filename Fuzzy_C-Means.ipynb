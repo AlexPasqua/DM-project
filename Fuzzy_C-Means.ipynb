{
 "cells": [
  {
   "cell_type": "code",
   "execution_count": 1,
   "metadata": {},
   "outputs": [],
   "source": [
    "import pandas as pd\n",
    "import matplotlib.pyplot as plt\n",
    "import numpy as np\n",
    "from tqdm.notebook import tqdm\n",
    "from tqdm import trange\n",
    "from sklearn.preprocessing import MinMaxScaler, StandardScaler\n",
    "from sklearn.metrics import silhouette_score"
   ]
  },
  {
   "cell_type": "code",
   "execution_count": 2,
   "metadata": {},
   "outputs": [
    {
     "data": {
      "text/html": [
       "<div>\n",
       "<style scoped>\n",
       "    .dataframe tbody tr th:only-of-type {\n",
       "        vertical-align: middle;\n",
       "    }\n",
       "\n",
       "    .dataframe tbody tr th {\n",
       "        vertical-align: top;\n",
       "    }\n",
       "\n",
       "    .dataframe thead th {\n",
       "        text-align: right;\n",
       "    }\n",
       "</style>\n",
       "<table border=\"1\" class=\"dataframe\">\n",
       "  <thead>\n",
       "    <tr style=\"text-align: right;\">\n",
       "      <th></th>\n",
       "      <th>TProd</th>\n",
       "      <th>DProd</th>\n",
       "      <th>MaxPO</th>\n",
       "      <th>MinPO</th>\n",
       "      <th>MeanProdOrder</th>\n",
       "      <th>TSale</th>\n",
       "      <th>MinPSale</th>\n",
       "      <th>MaxPSale</th>\n",
       "      <th>MeanSaleOrder</th>\n",
       "      <th>TRProd</th>\n",
       "      <th>MeanPSale</th>\n",
       "      <th>TOrder</th>\n",
       "      <th>SETSaleQta</th>\n",
       "      <th>SESaleQtaOrder</th>\n",
       "    </tr>\n",
       "    <tr>\n",
       "      <th>CustomerID</th>\n",
       "      <th></th>\n",
       "      <th></th>\n",
       "      <th></th>\n",
       "      <th></th>\n",
       "      <th></th>\n",
       "      <th></th>\n",
       "      <th></th>\n",
       "      <th></th>\n",
       "      <th></th>\n",
       "      <th></th>\n",
       "      <th></th>\n",
       "      <th></th>\n",
       "      <th></th>\n",
       "      <th></th>\n",
       "    </tr>\n",
       "  </thead>\n",
       "  <tbody>\n",
       "    <tr>\n",
       "      <th>17850</th>\n",
       "      <td>1702</td>\n",
       "      <td>21</td>\n",
       "      <td>141</td>\n",
       "      <td>12</td>\n",
       "      <td>48.629</td>\n",
       "      <td>5317.89</td>\n",
       "      <td>6.36</td>\n",
       "      <td>107.25</td>\n",
       "      <td>151.940</td>\n",
       "      <td>31</td>\n",
       "      <td>3.960</td>\n",
       "      <td>34</td>\n",
       "      <td>4.137</td>\n",
       "      <td>3.186</td>\n",
       "    </tr>\n",
       "    <tr>\n",
       "      <th>13047</th>\n",
       "      <td>1355</td>\n",
       "      <td>105</td>\n",
       "      <td>309</td>\n",
       "      <td>3</td>\n",
       "      <td>84.688</td>\n",
       "      <td>3089.10</td>\n",
       "      <td>6.64</td>\n",
       "      <td>68.00</td>\n",
       "      <td>193.069</td>\n",
       "      <td>35</td>\n",
       "      <td>3.926</td>\n",
       "      <td>9</td>\n",
       "      <td>5.421</td>\n",
       "      <td>3.875</td>\n",
       "    </tr>\n",
       "    <tr>\n",
       "      <th>12583</th>\n",
       "      <td>4978</td>\n",
       "      <td>114</td>\n",
       "      <td>714</td>\n",
       "      <td>100</td>\n",
       "      <td>292.824</td>\n",
       "      <td>6629.34</td>\n",
       "      <td>6.80</td>\n",
       "      <td>132.80</td>\n",
       "      <td>389.961</td>\n",
       "      <td>50</td>\n",
       "      <td>2.140</td>\n",
       "      <td>15</td>\n",
       "      <td>5.804</td>\n",
       "      <td>4.087</td>\n",
       "    </tr>\n",
       "    <tr>\n",
       "      <th>13748</th>\n",
       "      <td>439</td>\n",
       "      <td>24</td>\n",
       "      <td>208</td>\n",
       "      <td>8</td>\n",
       "      <td>87.800</td>\n",
       "      <td>948.25</td>\n",
       "      <td>9.36</td>\n",
       "      <td>204.00</td>\n",
       "      <td>189.650</td>\n",
       "      <td>0</td>\n",
       "      <td>3.996</td>\n",
       "      <td>5</td>\n",
       "      <td>4.080</td>\n",
       "      <td>2.322</td>\n",
       "    </tr>\n",
       "    <tr>\n",
       "      <th>15100</th>\n",
       "      <td>58</td>\n",
       "      <td>1</td>\n",
       "      <td>32</td>\n",
       "      <td>16</td>\n",
       "      <td>9.667</td>\n",
       "      <td>635.10</td>\n",
       "      <td>175.20</td>\n",
       "      <td>350.40</td>\n",
       "      <td>105.850</td>\n",
       "      <td>22</td>\n",
       "      <td>10.950</td>\n",
       "      <td>3</td>\n",
       "      <td>2.252</td>\n",
       "      <td>2.252</td>\n",
       "    </tr>\n",
       "  </tbody>\n",
       "</table>\n",
       "</div>"
      ],
      "text/plain": [
       "            TProd  DProd  MaxPO  MinPO  MeanProdOrder    TSale  MinPSale  \\\n",
       "CustomerID                                                                 \n",
       "17850        1702     21    141     12         48.629  5317.89      6.36   \n",
       "13047        1355    105    309      3         84.688  3089.10      6.64   \n",
       "12583        4978    114    714    100        292.824  6629.34      6.80   \n",
       "13748         439     24    208      8         87.800   948.25      9.36   \n",
       "15100          58      1     32     16          9.667   635.10    175.20   \n",
       "\n",
       "            MaxPSale  MeanSaleOrder  TRProd  MeanPSale  TOrder  SETSaleQta  \\\n",
       "CustomerID                                                                   \n",
       "17850         107.25        151.940      31      3.960      34       4.137   \n",
       "13047          68.00        193.069      35      3.926       9       5.421   \n",
       "12583         132.80        389.961      50      2.140      15       5.804   \n",
       "13748         204.00        189.650       0      3.996       5       4.080   \n",
       "15100         350.40        105.850      22     10.950       3       2.252   \n",
       "\n",
       "            SESaleQtaOrder  \n",
       "CustomerID                  \n",
       "17850                3.186  \n",
       "13047                3.875  \n",
       "12583                4.087  \n",
       "13748                2.322  \n",
       "15100                2.252  "
      ]
     },
     "execution_count": 2,
     "metadata": {},
     "output_type": "execute_result"
    }
   ],
   "source": [
    "df = pd.read_csv(\"customer_dataframe.csv\", sep=\"\\t\", index_col=0)\n",
    "df.head()"
   ]
  },
  {
   "cell_type": "code",
   "execution_count": 3,
   "metadata": {
    "scrolled": true
   },
   "outputs": [
    {
     "name": "stdout",
     "output_type": "stream",
     "text": [
      "<class 'pandas.core.frame.DataFrame'>\n",
      "Int64Index: 4333 entries, 17850 to 12713\n",
      "Data columns (total 4 columns):\n",
      " #   Column         Non-Null Count  Dtype  \n",
      "---  ------         --------------  -----  \n",
      " 0   MeanSaleOrder  4333 non-null   float64\n",
      " 1   TProd          4333 non-null   int64  \n",
      " 2   MeanProdOrder  4333 non-null   float64\n",
      " 3   MeanPSale      4333 non-null   float64\n",
      "dtypes: float64(3), int64(1)\n",
      "memory usage: 169.3 KB\n"
     ]
    }
   ],
   "source": [
    "df_aux = df[['MeanSaleOrder', 'TProd', 'MeanProdOrder', 'MeanPSale']]\n",
    "df_aux.info()"
   ]
  },
  {
   "cell_type": "code",
   "execution_count": 4,
   "metadata": {
    "scrolled": true
   },
   "outputs": [
    {
     "data": {
      "text/plain": [
       "array([[0.01533992, 0.00865911, 0.00621536, 0.00883257],\n",
       "       [0.01949232, 0.00689371, 0.01082413, 0.00875433],\n",
       "       [0.03937061, 0.02532612, 0.03742638, 0.00464412],\n",
       "       ...,\n",
       "       [0.03634574, 0.00048841, 0.01226994, 0.00834929],\n",
       "       [0.02295738, 0.00040192, 0.01009714, 0.00874052],\n",
       "       [0.08021807, 0.00256924, 0.06454499, 0.00451755]])"
      ]
     },
     "execution_count": 4,
     "metadata": {},
     "output_type": "execute_result"
    }
   ],
   "source": [
    "scaler = MinMaxScaler()\n",
    "X = scaler.fit_transform(df_aux.values)\n",
    "X"
   ]
  },
  {
   "cell_type": "markdown",
   "metadata": {},
   "source": [
    "# Fuzzy C-Means ALGORITHM"
   ]
  },
  {
   "cell_type": "code",
   "execution_count": 5,
   "metadata": {},
   "outputs": [],
   "source": [
    "from pyclustering.cluster import cluster_visualizer\n",
    "from pyclustering.cluster.center_initializer import kmeans_plusplus_initializer\n",
    "from pyclustering.cluster.fcm import fcm"
   ]
  },
  {
   "cell_type": "code",
   "execution_count": 6,
   "metadata": {},
   "outputs": [],
   "source": [
    "# load list of points for cluster analysis\n",
    "sample = X"
   ]
  },
  {
   "cell_type": "code",
   "execution_count": 7,
   "metadata": {
    "scrolled": false
   },
   "outputs": [
    {
     "data": {
      "image/png": "[encoded data removed]",
      "text/plain": [
       "<Figure size 432x288 with 1 Axes>"
      ]
     },
     "metadata": {
      "needs_background": "light"
     },
     "output_type": "display_data"
    },
    {
     "data": {
      "image/png": "[encoded data removed]",
      "text/plain": [
       "<Figure size 432x288 with 1 Axes>"
      ]
     },
     "execution_count": 7,
     "metadata": {},
     "output_type": "execute_result"
    }
   ],
   "source": [
    "# initialize\n",
    "initial_centers = kmeans_plusplus_initializer(sample, 4, kmeans_plusplus_initializer.FARTHEST_CENTER_CANDIDATE).initialize()\n",
    "# create instance of Fuzzy C-Means algorithm\n",
    "fcm_instance = fcm(sample, initial_centers)\n",
    "# run cluster analysis and obtain results\n",
    "fcm_instance.process()\n",
    "clusters = fcm_instance.get_clusters()\n",
    "centers = fcm_instance.get_centers()\n",
    "# visualize clustering results\n",
    "visualizer = cluster_visualizer()\n",
    "visualizer.append_clusters(clusters, [x[:2] for x in sample])\n",
    "visualizer.append_cluster([c[:2] for c in centers], marker='*', markersize=10)\n",
    "visualizer.show()"
   ]
  },
  {
   "cell_type": "code",
   "execution_count": 8,
   "metadata": {},
   "outputs": [
    {
     "data": {
      "image/png": "[encoded data removed]",
      "text/plain": [
       "<Figure size 432x288 with 1 Axes>"
      ]
     },
     "metadata": {
      "needs_background": "light"
     },
     "output_type": "display_data"
    },
    {
     "data": {
      "image/png": "[encoded data removed]",
      "text/plain": [
       "<Figure size 432x288 with 1 Axes>"
      ]
     },
     "execution_count": 8,
     "metadata": {},
     "output_type": "execute_result"
    }
   ],
   "source": [
    "# initialize\n",
    "initial_centers = kmeans_plusplus_initializer(sample, 3, kmeans_plusplus_initializer.FARTHEST_CENTER_CANDIDATE).initialize()\n",
    "# create instance of Fuzzy C-Means algorithm\n",
    "fcm_instance = fcm(sample, initial_centers)\n",
    "# run cluster analysis and obtain results\n",
    "fcm_instance.process()\n",
    "clusters = fcm_instance.get_clusters()\n",
    "centers = fcm_instance.get_centers()\n",
    "# visualize clustering results\n",
    "visualizer = cluster_visualizer()\n",
    "visualizer.append_clusters(clusters, [x[:2] for x in sample])\n",
    "visualizer.append_cluster([c[:2] for c in centers], marker='*', markersize=10)\n",
    "visualizer.show()"
   ]
  }
 ],
 "metadata": {
  "kernelspec": {
   "display_name": "Python 3",
   "language": "python",
   "name": "python3"
  },
  "language_info": {
   "codemirror_mode": {
    "name": "ipython",
    "version": 3
   },
   "file_extension": ".py",
   "mimetype": "text/x-python",
   "name": "python",
   "nbconvert_exporter": "python",
   "pygments_lexer": "ipython3",
   "version": "3.8.4"
  }
 },
 "nbformat": 4,
 "nbformat_minor": 4
}
