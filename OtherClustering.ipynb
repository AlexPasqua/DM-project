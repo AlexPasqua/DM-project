{
 "cells": [
  {
   "cell_type": "code",
   "execution_count": 1,
   "metadata": {},
   "outputs": [],
   "source": [
    "import pandas as pd\n",
    "import matplotlib.pyplot as plt\n",
    "import numpy as np\n",
    "from tqdm.notebook import tqdm\n",
    "from tqdm import trange\n",
    "from sklearn.preprocessing import MinMaxScaler, StandardScaler"
   ]
  },
  {
   "cell_type": "code",
   "execution_count": 2,
   "metadata": {},
   "outputs": [
    {
     "data": {
      "text/html": [
       "<div>\n",
       "<style scoped>\n",
       "    .dataframe tbody tr th:only-of-type {\n",
       "        vertical-align: middle;\n",
       "    }\n",
       "\n",
       "    .dataframe tbody tr th {\n",
       "        vertical-align: top;\n",
       "    }\n",
       "\n",
       "    .dataframe thead th {\n",
       "        text-align: right;\n",
       "    }\n",
       "</style>\n",
       "<table border=\"1\" class=\"dataframe\">\n",
       "  <thead>\n",
       "    <tr style=\"text-align: right;\">\n",
       "      <th></th>\n",
       "      <th>TProd</th>\n",
       "      <th>DProd</th>\n",
       "      <th>MaxPO</th>\n",
       "      <th>MinPO</th>\n",
       "      <th>MeanProdOrder</th>\n",
       "      <th>TSale</th>\n",
       "      <th>MinPSale</th>\n",
       "      <th>MaxPSale</th>\n",
       "      <th>MeanSaleOrder</th>\n",
       "      <th>TRProd</th>\n",
       "      <th>MeanPSale</th>\n",
       "      <th>TOrder</th>\n",
       "      <th>SETSaleQta</th>\n",
       "      <th>SESaleQtaOrder</th>\n",
       "    </tr>\n",
       "    <tr>\n",
       "      <th>CustomerID</th>\n",
       "      <th></th>\n",
       "      <th></th>\n",
       "      <th></th>\n",
       "      <th></th>\n",
       "      <th></th>\n",
       "      <th></th>\n",
       "      <th></th>\n",
       "      <th></th>\n",
       "      <th></th>\n",
       "      <th></th>\n",
       "      <th></th>\n",
       "      <th></th>\n",
       "      <th></th>\n",
       "      <th></th>\n",
       "    </tr>\n",
       "  </thead>\n",
       "  <tbody>\n",
       "    <tr>\n",
       "      <th>17850</th>\n",
       "      <td>1702</td>\n",
       "      <td>21</td>\n",
       "      <td>141</td>\n",
       "      <td>12</td>\n",
       "      <td>48.629</td>\n",
       "      <td>5317.89</td>\n",
       "      <td>6.36</td>\n",
       "      <td>107.25</td>\n",
       "      <td>151.940</td>\n",
       "      <td>31</td>\n",
       "      <td>3.960</td>\n",
       "      <td>34</td>\n",
       "      <td>4.137</td>\n",
       "      <td>3.186</td>\n",
       "    </tr>\n",
       "    <tr>\n",
       "      <th>13047</th>\n",
       "      <td>1355</td>\n",
       "      <td>105</td>\n",
       "      <td>309</td>\n",
       "      <td>3</td>\n",
       "      <td>84.688</td>\n",
       "      <td>3089.10</td>\n",
       "      <td>6.64</td>\n",
       "      <td>68.00</td>\n",
       "      <td>193.069</td>\n",
       "      <td>35</td>\n",
       "      <td>3.926</td>\n",
       "      <td>9</td>\n",
       "      <td>5.421</td>\n",
       "      <td>3.875</td>\n",
       "    </tr>\n",
       "    <tr>\n",
       "      <th>12583</th>\n",
       "      <td>4978</td>\n",
       "      <td>114</td>\n",
       "      <td>714</td>\n",
       "      <td>100</td>\n",
       "      <td>292.824</td>\n",
       "      <td>6629.34</td>\n",
       "      <td>6.80</td>\n",
       "      <td>132.80</td>\n",
       "      <td>389.961</td>\n",
       "      <td>50</td>\n",
       "      <td>2.140</td>\n",
       "      <td>15</td>\n",
       "      <td>5.804</td>\n",
       "      <td>4.087</td>\n",
       "    </tr>\n",
       "    <tr>\n",
       "      <th>13748</th>\n",
       "      <td>439</td>\n",
       "      <td>24</td>\n",
       "      <td>208</td>\n",
       "      <td>8</td>\n",
       "      <td>87.800</td>\n",
       "      <td>948.25</td>\n",
       "      <td>9.36</td>\n",
       "      <td>204.00</td>\n",
       "      <td>189.650</td>\n",
       "      <td>0</td>\n",
       "      <td>3.996</td>\n",
       "      <td>5</td>\n",
       "      <td>4.080</td>\n",
       "      <td>2.322</td>\n",
       "    </tr>\n",
       "    <tr>\n",
       "      <th>15100</th>\n",
       "      <td>58</td>\n",
       "      <td>1</td>\n",
       "      <td>32</td>\n",
       "      <td>16</td>\n",
       "      <td>9.667</td>\n",
       "      <td>635.10</td>\n",
       "      <td>175.20</td>\n",
       "      <td>350.40</td>\n",
       "      <td>105.850</td>\n",
       "      <td>22</td>\n",
       "      <td>10.950</td>\n",
       "      <td>3</td>\n",
       "      <td>2.252</td>\n",
       "      <td>2.252</td>\n",
       "    </tr>\n",
       "  </tbody>\n",
       "</table>\n",
       "</div>"
      ],
      "text/plain": [
       "            TProd  DProd  MaxPO  MinPO  MeanProdOrder    TSale  MinPSale  \\\n",
       "CustomerID                                                                 \n",
       "17850        1702     21    141     12         48.629  5317.89      6.36   \n",
       "13047        1355    105    309      3         84.688  3089.10      6.64   \n",
       "12583        4978    114    714    100        292.824  6629.34      6.80   \n",
       "13748         439     24    208      8         87.800   948.25      9.36   \n",
       "15100          58      1     32     16          9.667   635.10    175.20   \n",
       "\n",
       "            MaxPSale  MeanSaleOrder  TRProd  MeanPSale  TOrder  SETSaleQta  \\\n",
       "CustomerID                                                                   \n",
       "17850         107.25        151.940      31      3.960      34       4.137   \n",
       "13047          68.00        193.069      35      3.926       9       5.421   \n",
       "12583         132.80        389.961      50      2.140      15       5.804   \n",
       "13748         204.00        189.650       0      3.996       5       4.080   \n",
       "15100         350.40        105.850      22     10.950       3       2.252   \n",
       "\n",
       "            SESaleQtaOrder  \n",
       "CustomerID                  \n",
       "17850                3.186  \n",
       "13047                3.875  \n",
       "12583                4.087  \n",
       "13748                2.322  \n",
       "15100                2.252  "
      ]
     },
     "execution_count": 2,
     "metadata": {},
     "output_type": "execute_result"
    }
   ],
   "source": [
    "df = pd.read_csv(\"customer_dataframe.csv\", sep=\"\\t\", index_col=0)\n",
    "df.head()"
   ]
  },
  {
   "cell_type": "code",
   "execution_count": 3,
   "metadata": {
    "scrolled": true
   },
   "outputs": [
    {
     "name": "stdout",
     "output_type": "stream",
     "text": [
      "<class 'pandas.core.frame.DataFrame'>\n",
      "Int64Index: 4333 entries, 17850 to 12713\n",
      "Data columns (total 2 columns):\n",
      " #   Column         Non-Null Count  Dtype  \n",
      "---  ------         --------------  -----  \n",
      " 0   MeanProdOrder  4333 non-null   float64\n",
      " 1   MeanSaleOrder  4333 non-null   float64\n",
      "dtypes: float64(2)\n",
      "memory usage: 101.6 KB\n"
     ]
    }
   ],
   "source": [
    "df_aux = df[['MeanProdOrder', 'MeanSaleOrder']]\n",
    "df_aux.info()"
   ]
  },
  {
   "cell_type": "code",
   "execution_count": 4,
   "metadata": {},
   "outputs": [
    {
     "data": {
      "text/html": [
       "<div>\n",
       "<style scoped>\n",
       "    .dataframe tbody tr th:only-of-type {\n",
       "        vertical-align: middle;\n",
       "    }\n",
       "\n",
       "    .dataframe tbody tr th {\n",
       "        vertical-align: top;\n",
       "    }\n",
       "\n",
       "    .dataframe thead th {\n",
       "        text-align: right;\n",
       "    }\n",
       "</style>\n",
       "<table border=\"1\" class=\"dataframe\">\n",
       "  <thead>\n",
       "    <tr style=\"text-align: right;\">\n",
       "      <th></th>\n",
       "      <th>MeanProdOrder</th>\n",
       "      <th>MeanSaleOrder</th>\n",
       "    </tr>\n",
       "    <tr>\n",
       "      <th>CustomerID</th>\n",
       "      <th></th>\n",
       "      <th></th>\n",
       "    </tr>\n",
       "  </thead>\n",
       "  <tbody>\n",
       "    <tr>\n",
       "      <th>17850</th>\n",
       "      <td>48.629</td>\n",
       "      <td>151.940</td>\n",
       "    </tr>\n",
       "    <tr>\n",
       "      <th>13047</th>\n",
       "      <td>84.688</td>\n",
       "      <td>193.069</td>\n",
       "    </tr>\n",
       "    <tr>\n",
       "      <th>12583</th>\n",
       "      <td>292.824</td>\n",
       "      <td>389.961</td>\n",
       "    </tr>\n",
       "    <tr>\n",
       "      <th>13748</th>\n",
       "      <td>87.800</td>\n",
       "      <td>189.650</td>\n",
       "    </tr>\n",
       "    <tr>\n",
       "      <th>15100</th>\n",
       "      <td>9.667</td>\n",
       "      <td>105.850</td>\n",
       "    </tr>\n",
       "    <tr>\n",
       "      <th>...</th>\n",
       "      <td>...</td>\n",
       "      <td>...</td>\n",
       "    </tr>\n",
       "    <tr>\n",
       "      <th>13436</th>\n",
       "      <td>76.000</td>\n",
       "      <td>196.890</td>\n",
       "    </tr>\n",
       "    <tr>\n",
       "      <th>15520</th>\n",
       "      <td>314.000</td>\n",
       "      <td>343.500</td>\n",
       "    </tr>\n",
       "    <tr>\n",
       "      <th>13298</th>\n",
       "      <td>96.000</td>\n",
       "      <td>360.000</td>\n",
       "    </tr>\n",
       "    <tr>\n",
       "      <th>14569</th>\n",
       "      <td>79.000</td>\n",
       "      <td>227.390</td>\n",
       "    </tr>\n",
       "    <tr>\n",
       "      <th>12713</th>\n",
       "      <td>505.000</td>\n",
       "      <td>794.550</td>\n",
       "    </tr>\n",
       "  </tbody>\n",
       "</table>\n",
       "<p>4333 rows × 2 columns</p>\n",
       "</div>"
      ],
      "text/plain": [
       "            MeanProdOrder  MeanSaleOrder\n",
       "CustomerID                              \n",
       "17850              48.629        151.940\n",
       "13047              84.688        193.069\n",
       "12583             292.824        389.961\n",
       "13748              87.800        189.650\n",
       "15100               9.667        105.850\n",
       "...                   ...            ...\n",
       "13436              76.000        196.890\n",
       "15520             314.000        343.500\n",
       "13298              96.000        360.000\n",
       "14569              79.000        227.390\n",
       "12713             505.000        794.550\n",
       "\n",
       "[4333 rows x 2 columns]"
      ]
     },
     "execution_count": 4,
     "metadata": {},
     "output_type": "execute_result"
    }
   ],
   "source": [
    "df_aux"
   ]
  },
  {
   "cell_type": "code",
   "execution_count": 5,
   "metadata": {},
   "outputs": [
    {
     "data": {
      "text/html": [
       "<div>\n",
       "<style scoped>\n",
       "    .dataframe tbody tr th:only-of-type {\n",
       "        vertical-align: middle;\n",
       "    }\n",
       "\n",
       "    .dataframe tbody tr th {\n",
       "        vertical-align: top;\n",
       "    }\n",
       "\n",
       "    .dataframe thead th {\n",
       "        text-align: right;\n",
       "    }\n",
       "</style>\n",
       "<table border=\"1\" class=\"dataframe\">\n",
       "  <thead>\n",
       "    <tr style=\"text-align: right;\">\n",
       "      <th></th>\n",
       "      <th>MeanProdOrder</th>\n",
       "      <th>MeanSaleOrder</th>\n",
       "    </tr>\n",
       "  </thead>\n",
       "  <tbody>\n",
       "    <tr>\n",
       "      <th>count</th>\n",
       "      <td>4333.000000</td>\n",
       "      <td>4333.000000</td>\n",
       "    </tr>\n",
       "    <tr>\n",
       "      <th>mean</th>\n",
       "      <td>201.104614</td>\n",
       "      <td>327.882896</td>\n",
       "    </tr>\n",
       "    <tr>\n",
       "      <th>std</th>\n",
       "      <td>274.590134</td>\n",
       "      <td>395.336014</td>\n",
       "    </tr>\n",
       "    <tr>\n",
       "      <th>min</th>\n",
       "      <td>0.000000</td>\n",
       "      <td>-0.000000</td>\n",
       "    </tr>\n",
       "    <tr>\n",
       "      <th>25%</th>\n",
       "      <td>80.500000</td>\n",
       "      <td>155.050000</td>\n",
       "    </tr>\n",
       "    <tr>\n",
       "      <th>50%</th>\n",
       "      <td>140.167000</td>\n",
       "      <td>241.900000</td>\n",
       "    </tr>\n",
       "    <tr>\n",
       "      <th>75%</th>\n",
       "      <td>237.750000</td>\n",
       "      <td>371.560000</td>\n",
       "    </tr>\n",
       "    <tr>\n",
       "      <th>max</th>\n",
       "      <td>7824.000000</td>\n",
       "      <td>9904.875000</td>\n",
       "    </tr>\n",
       "  </tbody>\n",
       "</table>\n",
       "</div>"
      ],
      "text/plain": [
       "       MeanProdOrder  MeanSaleOrder\n",
       "count    4333.000000    4333.000000\n",
       "mean      201.104614     327.882896\n",
       "std       274.590134     395.336014\n",
       "min         0.000000      -0.000000\n",
       "25%        80.500000     155.050000\n",
       "50%       140.167000     241.900000\n",
       "75%       237.750000     371.560000\n",
       "max      7824.000000    9904.875000"
      ]
     },
     "execution_count": 5,
     "metadata": {},
     "output_type": "execute_result"
    }
   ],
   "source": [
    "df_aux.describe()"
   ]
  },
  {
   "cell_type": "code",
   "execution_count": 6,
   "metadata": {
    "scrolled": true
   },
   "outputs": [
    {
     "data": {
      "text/plain": [
       "array([[0.00621536, 0.01533992],\n",
       "       [0.01082413, 0.01949232],\n",
       "       [0.03742638, 0.03937061],\n",
       "       ...,\n",
       "       [0.01226994, 0.03634574],\n",
       "       [0.01009714, 0.02295738],\n",
       "       [0.06454499, 0.08021807]])"
      ]
     },
     "execution_count": 6,
     "metadata": {},
     "output_type": "execute_result"
    }
   ],
   "source": [
    "scaler = MinMaxScaler()\n",
    "X = scaler.fit_transform(df_aux.values)\n",
    "X"
   ]
  },
  {
   "cell_type": "markdown",
   "metadata": {},
   "source": [
    "# GENETIC ALGORITHM"
   ]
  },
  {
   "cell_type": "code",
   "execution_count": 7,
   "metadata": {},
   "outputs": [],
   "source": [
    "from pyclustering.cluster.ga import genetic_algorithm, ga_observer, ga_visualizer\n",
    "from pyclustering.cluster import cluster_visualizer"
   ]
  },
  {
   "cell_type": "code",
   "execution_count": 8,
   "metadata": {
    "scrolled": false
   },
   "outputs": [],
   "source": [
    "# # Read data for clustering\n",
    "# sample = X\n",
    "\n",
    "# # Create instance of observer that will collect all information:\n",
    "# observer_instance = ga_observer(True, True, True)\n",
    "\n",
    "# # Create genetic algorithm where observer will collect information:\n",
    "# ga_instance = genetic_algorithm(data=sample,\n",
    "#                                 count_clusters=4,\n",
    "#                                 chromosome_count=500,\n",
    "#                                 population_count=100,\n",
    "#                                 count_mutation_gens=3,\n",
    "#                                 observer=observer_instance)\n",
    "\n",
    "# # Start processing\n",
    "# ga_instance.process()\n",
    "\n",
    "# # Obtain results\n",
    "# clusters = ga_instance.get_clusters()\n",
    "\n",
    "# # Print cluster to console\n",
    "# #print(\"Amount of clusters: '%d'. Clusters: '%s'\" % (len(clusters), clusters))\n",
    "# print([len(c) for c in clusters])\n",
    "\n",
    "# # Show cluster using observer:\n",
    "# ga_visualizer.show_clusters(sample, observer_instance)"
   ]
  },
  {
   "cell_type": "code",
   "execution_count": 9,
   "metadata": {
    "scrolled": false
   },
   "outputs": [],
   "source": [
    "# clusters_df = {}\n",
    "# indexes = df.index\n",
    "# for i in range(len(clusters)):\n",
    "#     clusters_df[i] = df[df.index.isin([indexes[i] for i in clusters[i]])]"
   ]
  },
  {
   "cell_type": "code",
   "execution_count": 10,
   "metadata": {
    "scrolled": false
   },
   "outputs": [],
   "source": [
    "# attr = df_aux.columns\n",
    "# clusters = [i for i in clusters_df]\n",
    "# fig, axs = plt.subplots(len(attr),3,figsize=(15,15))\n",
    "# for attr_index in range(len(attr)):\n",
    "#     mean_values = []\n",
    "#     max_values = []\n",
    "#     min_values = []\n",
    "#     for _, cluster_df in clusters_df.items():\n",
    "#         mean_values.append(cluster_df.describe()[attr[attr_index]][1])\n",
    "#         max_values.append(cluster_df.describe()[attr[attr_index]][7])\n",
    "#         min_values.append(cluster_df.describe()[attr[attr_index]][3])\n",
    "#     axs[attr_index][0].bar(clusters, mean_values)\n",
    "#     axs[attr_index][0].set_title(f\"{attr[attr_index]} - Mean\")\n",
    "#     axs[attr_index][1].bar(clusters, max_values)\n",
    "#     axs[attr_index][1].set_title(f\"{attr[attr_index]} - Max\")\n",
    "#     axs[attr_index][2].bar(clusters, min_values)\n",
    "#     axs[attr_index][2].set_title(f\"{attr[attr_index]} - Min\")"
   ]
  },
  {
   "cell_type": "code",
   "execution_count": 11,
   "metadata": {},
   "outputs": [],
   "source": [
    "def ga_cluster(sample, nc, cc, pc, mg):\n",
    "    observer_instance = ga_observer(True, True, True)\n",
    "    ga_instance = genetic_algorithm(data=sample, count_clusters=nc, chromosome_count=cc, population_count=pc,count_mutation_gens=mg,observer=observer_instance)\n",
    "    ga_instance.process()\n",
    "    clusters = ga_instance.get_clusters()\n",
    "    print([len(c) for c in clusters])\n",
    "    ga_visualizer.show_clusters(sample, observer_instance)\n",
    "    clusters_df = {}\n",
    "    indexes = df.index\n",
    "    for i in range(len(clusters)):\n",
    "        clusters_df[i] = df[df.index.isin([indexes[i] for i in clusters[i]])]\n",
    "    attr = df_aux.columns\n",
    "    clusters = [i for i in clusters_df]\n",
    "    mean_values_to_plot= {a:[] for a in attr}\n",
    "    for attr_index in range(len(attr)):\n",
    "        mean_values = []\n",
    "        for _, cluster_df in clusters_df.items():\n",
    "            mean_values.append(cluster_df.describe()[attr[attr_index]][1])\n",
    "        mean_values_to_plot[attr[attr_index]] = mean_values\n",
    "    \n",
    "    return mean_values_to_plot"
   ]
  },
  {
   "cell_type": "code",
   "execution_count": 12,
   "metadata": {
    "scrolled": false
   },
   "outputs": [
    {
     "data": {
      "application/vnd.jupyter.widget-view+json": {
       "model_id": "217b727d041a40369a619a3affa7f9c1",
       "version_major": 2,
       "version_minor": 0
      },
      "text/plain": [
       "HBox(children=(HTML(value=''), FloatProgress(value=0.0, max=2.0), HTML(value='')))"
      ]
     },
     "metadata": {},
     "output_type": "display_data"
    },
    {
     "data": {
      "application/vnd.jupyter.widget-view+json": {
       "model_id": "e55c5e650f8c49aea5999b50b9b8d4b1",
       "version_major": 2,
       "version_minor": 0
      },
      "text/plain": [
       "HBox(children=(HTML(value=''), FloatProgress(value=0.0, max=2.0), HTML(value='')))"
      ]
     },
     "metadata": {},
     "output_type": "display_data"
    },
    {
     "data": {
      "application/vnd.jupyter.widget-view+json": {
       "model_id": "a31ac28e70be46fe8913c70533891f44",
       "version_major": 2,
       "version_minor": 0
      },
      "text/plain": [
       "HBox(children=(HTML(value=''), FloatProgress(value=0.0, max=2.0), HTML(value='')))"
      ]
     },
     "metadata": {},
     "output_type": "display_data"
    },
    {
     "name": "stdout",
     "output_type": "stream",
     "text": [
      "[1462, 1418, 1453]\n"
     ]
    },
    {
     "data": {
      "image/png": "[encoded data removed]",
      "text/plain": [
       "<Figure size 432x288 with 2 Axes>"
      ]
     },
     "metadata": {
      "needs_background": "light"
     },
     "output_type": "display_data"
    },
    {
     "name": "stdout",
     "output_type": "stream",
     "text": [
      "[1432, 1418, 1483]\n"
     ]
    },
    {
     "data": {
      "image/png": "[encoded data removed]",
      "text/plain": [
       "<Figure size 432x288 with 2 Axes>"
      ]
     },
     "metadata": {
      "needs_background": "light"
     },
     "output_type": "display_data"
    },
    {
     "name": "stdout",
     "output_type": "stream",
     "text": [
      "\n"
     ]
    },
    {
     "data": {
      "application/vnd.jupyter.widget-view+json": {
       "model_id": "0beb4beee3ac47ffa3aa1ad825f6ea63",
       "version_major": 2,
       "version_minor": 0
      },
      "text/plain": [
       "HBox(children=(HTML(value=''), FloatProgress(value=0.0, max=2.0), HTML(value='')))"
      ]
     },
     "metadata": {},
     "output_type": "display_data"
    },
    {
     "name": "stdout",
     "output_type": "stream",
     "text": [
      "\n",
      "\n",
      "\n"
     ]
    },
    {
     "ename": "MemoryError",
     "evalue": "Unable to allocate 16.5 MiB for an array with shape (1000, 4333) and data type int32",
     "output_type": "error",
     "traceback": [
      "\u001b[1;31m---------------------------------------------------------------------------\u001b[0m",
      "\u001b[1;31mMemoryError\u001b[0m                               Traceback (most recent call last)",
      "\u001b[1;32m<ipython-input-12-74cef26a2617>\u001b[0m in \u001b[0;36m<module>\u001b[1;34m\u001b[0m\n\u001b[0;32m      9\u001b[0m     \u001b[1;32mfor\u001b[0m \u001b[0mcc\u001b[0m \u001b[1;32min\u001b[0m \u001b[0mtqdm\u001b[0m\u001b[1;33m(\u001b[0m\u001b[0mcc_l\u001b[0m\u001b[1;33m,\u001b[0m \u001b[0mtotal\u001b[0m\u001b[1;33m=\u001b[0m\u001b[0mlen\u001b[0m\u001b[1;33m(\u001b[0m\u001b[0mcc_l\u001b[0m\u001b[1;33m)\u001b[0m\u001b[1;33m)\u001b[0m\u001b[1;33m:\u001b[0m\u001b[1;33m\u001b[0m\u001b[1;33m\u001b[0m\u001b[0m\n\u001b[0;32m     10\u001b[0m         \u001b[1;32mfor\u001b[0m \u001b[0mmg\u001b[0m \u001b[1;32min\u001b[0m \u001b[0mtqdm\u001b[0m\u001b[1;33m(\u001b[0m\u001b[0mmg_l\u001b[0m\u001b[1;33m,\u001b[0m \u001b[0mtotal\u001b[0m\u001b[1;33m=\u001b[0m\u001b[0mlen\u001b[0m\u001b[1;33m(\u001b[0m\u001b[0mmg_l\u001b[0m\u001b[1;33m)\u001b[0m\u001b[1;33m)\u001b[0m\u001b[1;33m:\u001b[0m\u001b[1;33m\u001b[0m\u001b[1;33m\u001b[0m\u001b[0m\n\u001b[1;32m---> 11\u001b[1;33m             \u001b[0mmeans\u001b[0m\u001b[1;33m.\u001b[0m\u001b[0mappend\u001b[0m\u001b[1;33m(\u001b[0m\u001b[0mga_cluster\u001b[0m\u001b[1;33m(\u001b[0m\u001b[0mX\u001b[0m\u001b[1;33m,\u001b[0m \u001b[0mnc\u001b[0m\u001b[1;33m,\u001b[0m \u001b[0mcc\u001b[0m\u001b[1;33m,\u001b[0m \u001b[0mpc\u001b[0m\u001b[1;33m,\u001b[0m \u001b[0mmg\u001b[0m\u001b[1;33m)\u001b[0m\u001b[1;33m)\u001b[0m\u001b[1;33m\u001b[0m\u001b[1;33m\u001b[0m\u001b[0m\n\u001b[0m",
      "\u001b[1;32m<ipython-input-11-b4eef2fe1635>\u001b[0m in \u001b[0;36mga_cluster\u001b[1;34m(sample, nc, cc, pc, mg)\u001b[0m\n\u001b[0;32m      2\u001b[0m     \u001b[0mobserver_instance\u001b[0m \u001b[1;33m=\u001b[0m \u001b[0mga_observer\u001b[0m\u001b[1;33m(\u001b[0m\u001b[1;32mTrue\u001b[0m\u001b[1;33m,\u001b[0m \u001b[1;32mTrue\u001b[0m\u001b[1;33m,\u001b[0m \u001b[1;32mTrue\u001b[0m\u001b[1;33m)\u001b[0m\u001b[1;33m\u001b[0m\u001b[1;33m\u001b[0m\u001b[0m\n\u001b[0;32m      3\u001b[0m     \u001b[0mga_instance\u001b[0m \u001b[1;33m=\u001b[0m \u001b[0mgenetic_algorithm\u001b[0m\u001b[1;33m(\u001b[0m\u001b[0mdata\u001b[0m\u001b[1;33m=\u001b[0m\u001b[0msample\u001b[0m\u001b[1;33m,\u001b[0m \u001b[0mcount_clusters\u001b[0m\u001b[1;33m=\u001b[0m\u001b[0mnc\u001b[0m\u001b[1;33m,\u001b[0m \u001b[0mchromosome_count\u001b[0m\u001b[1;33m=\u001b[0m\u001b[0mcc\u001b[0m\u001b[1;33m,\u001b[0m \u001b[0mpopulation_count\u001b[0m\u001b[1;33m=\u001b[0m\u001b[0mpc\u001b[0m\u001b[1;33m,\u001b[0m\u001b[0mcount_mutation_gens\u001b[0m\u001b[1;33m=\u001b[0m\u001b[0mmg\u001b[0m\u001b[1;33m,\u001b[0m\u001b[0mobserver\u001b[0m\u001b[1;33m=\u001b[0m\u001b[0mobserver_instance\u001b[0m\u001b[1;33m)\u001b[0m\u001b[1;33m\u001b[0m\u001b[1;33m\u001b[0m\u001b[0m\n\u001b[1;32m----> 4\u001b[1;33m     \u001b[0mga_instance\u001b[0m\u001b[1;33m.\u001b[0m\u001b[0mprocess\u001b[0m\u001b[1;33m(\u001b[0m\u001b[1;33m)\u001b[0m\u001b[1;33m\u001b[0m\u001b[1;33m\u001b[0m\u001b[0m\n\u001b[0m\u001b[0;32m      5\u001b[0m     \u001b[0mclusters\u001b[0m \u001b[1;33m=\u001b[0m \u001b[0mga_instance\u001b[0m\u001b[1;33m.\u001b[0m\u001b[0mget_clusters\u001b[0m\u001b[1;33m(\u001b[0m\u001b[1;33m)\u001b[0m\u001b[1;33m\u001b[0m\u001b[1;33m\u001b[0m\u001b[0m\n\u001b[0;32m      6\u001b[0m     \u001b[0mprint\u001b[0m\u001b[1;33m(\u001b[0m\u001b[1;33m[\u001b[0m\u001b[0mlen\u001b[0m\u001b[1;33m(\u001b[0m\u001b[0mc\u001b[0m\u001b[1;33m)\u001b[0m \u001b[1;32mfor\u001b[0m \u001b[0mc\u001b[0m \u001b[1;32min\u001b[0m \u001b[0mclusters\u001b[0m\u001b[1;33m]\u001b[0m\u001b[1;33m)\u001b[0m\u001b[1;33m\u001b[0m\u001b[1;33m\u001b[0m\u001b[0m\n",
      "\u001b[1;32mc:\\users\\eliak\\appdata\\local\\programs\\python\\python38-32\\lib\\site-packages\\pyclustering\\cluster\\ga.py\u001b[0m in \u001b[0;36mprocess\u001b[1;34m(self)\u001b[0m\n\u001b[0;32m    455\u001b[0m \u001b[1;33m\u001b[0m\u001b[0m\n\u001b[0;32m    456\u001b[0m             \u001b[1;31m# Select\u001b[0m\u001b[1;33m\u001b[0m\u001b[1;33m\u001b[0m\u001b[1;33m\u001b[0m\u001b[0m\n\u001b[1;32m--> 457\u001b[1;33m             \u001b[0mchromosomes\u001b[0m \u001b[1;33m=\u001b[0m \u001b[0mself\u001b[0m\u001b[1;33m.\u001b[0m\u001b[0m_select\u001b[0m\u001b[1;33m(\u001b[0m\u001b[0mchromosomes\u001b[0m\u001b[1;33m,\u001b[0m \u001b[0mself\u001b[0m\u001b[1;33m.\u001b[0m\u001b[0m_data\u001b[0m\u001b[1;33m,\u001b[0m \u001b[0mself\u001b[0m\u001b[1;33m.\u001b[0m\u001b[0m_count_clusters\u001b[0m\u001b[1;33m,\u001b[0m \u001b[0mself\u001b[0m\u001b[1;33m.\u001b[0m\u001b[0m_select_coeff\u001b[0m\u001b[1;33m)\u001b[0m\u001b[1;33m\u001b[0m\u001b[1;33m\u001b[0m\u001b[0m\n\u001b[0m\u001b[0;32m    458\u001b[0m \u001b[1;33m\u001b[0m\u001b[0m\n\u001b[0;32m    459\u001b[0m             \u001b[1;31m# Crossover\u001b[0m\u001b[1;33m\u001b[0m\u001b[1;33m\u001b[0m\u001b[1;33m\u001b[0m\u001b[0m\n",
      "\u001b[1;32mc:\\users\\eliak\\appdata\\local\\programs\\python\\python38-32\\lib\\site-packages\\pyclustering\\cluster\\ga.py\u001b[0m in \u001b[0;36m_select\u001b[1;34m(chromosomes, data, count_clusters, select_coeff)\u001b[0m\n\u001b[0;32m    528\u001b[0m \u001b[1;33m\u001b[0m\u001b[0m\n\u001b[0;32m    529\u001b[0m         \u001b[1;31m# Select P chromosomes with probabilities\u001b[0m\u001b[1;33m\u001b[0m\u001b[1;33m\u001b[0m\u001b[1;33m\u001b[0m\u001b[0m\n\u001b[1;32m--> 530\u001b[1;33m         \u001b[0mnew_chromosomes\u001b[0m \u001b[1;33m=\u001b[0m \u001b[0mnp\u001b[0m\u001b[1;33m.\u001b[0m\u001b[0mzeros\u001b[0m\u001b[1;33m(\u001b[0m\u001b[0mchromosomes\u001b[0m\u001b[1;33m.\u001b[0m\u001b[0mshape\u001b[0m\u001b[1;33m,\u001b[0m \u001b[0mdtype\u001b[0m\u001b[1;33m=\u001b[0m\u001b[0mnp\u001b[0m\u001b[1;33m.\u001b[0m\u001b[0mint\u001b[0m\u001b[1;33m)\u001b[0m\u001b[1;33m\u001b[0m\u001b[1;33m\u001b[0m\u001b[0m\n\u001b[0m\u001b[0;32m    531\u001b[0m \u001b[1;33m\u001b[0m\u001b[0m\n\u001b[0;32m    532\u001b[0m         \u001b[1;31m# Selecting\u001b[0m\u001b[1;33m\u001b[0m\u001b[1;33m\u001b[0m\u001b[1;33m\u001b[0m\u001b[0m\n",
      "\u001b[1;31mMemoryError\u001b[0m: Unable to allocate 16.5 MiB for an array with shape (1000, 4333) and data type int32"
     ]
    }
   ],
   "source": [
    "nc_l = [3,4]\n",
    "cc_l = [500, 1000]\n",
    "pc = 100\n",
    "mg_l = [3, 5]\n",
    "\n",
    "means = []\n",
    "\n",
    "for nc in tqdm(nc_l, total=len(nc_l)):\n",
    "    for cc in tqdm(cc_l, total=len(cc_l)):\n",
    "        for mg in tqdm(mg_l, total=len(mg_l)):\n",
    "            means.append(ga_cluster(X, nc, cc, pc, mg))"
   ]
  },
  {
   "cell_type": "code",
   "execution_count": 13,
   "metadata": {},
   "outputs": [
    {
     "data": {
      "text/plain": [
       "[{'MeanProdOrder': [202.57379822161425, 159.30880324400562, 240.4153599449415],\n",
       "  'MeanSaleOrder': [328.32981190150485,\n",
       "   275.4555007052186,\n",
       "   378.59773021335167]},\n",
       " {'MeanProdOrder': [211.2946843575419, 220.342529619182, 172.8702623061362],\n",
       "  'MeanSaleOrder': [341.0192388268157, 362.71185049365306, 281.8959089683075]}]"
      ]
     },
     "execution_count": 13,
     "metadata": {},
     "output_type": "execute_result"
    }
   ],
   "source": [
    "means"
   ]
  }
 ],
 "metadata": {
  "kernelspec": {
   "display_name": "Python 3",
   "language": "python",
   "name": "python3"
  },
  "language_info": {
   "codemirror_mode": {
    "name": "ipython",
    "version": 3
   },
   "file_extension": ".py",
   "mimetype": "text/x-python",
   "name": "python",
   "nbconvert_exporter": "python",
   "pygments_lexer": "ipython3",
   "version": "3.8.4"
  }
 },
 "nbformat": 4,
 "nbformat_minor": 4
}
