{
 "cells": [
  {
   "cell_type": "code",
   "execution_count": 1,
   "metadata": {},
   "outputs": [],
   "source": [
    "import pandas as pd\n",
    "import matplotlib.pyplot as plt\n",
    "import numpy as np\n",
    "from tqdm.notebook import tqdm\n",
    "from tqdm import trange\n",
    "from sklearn.preprocessing import MinMaxScaler, StandardScaler\n",
    "from sklearn.metrics import silhouette_score"
   ]
  },
  {
   "cell_type": "code",
   "execution_count": 2,
   "metadata": {},
   "outputs": [
    {
     "data": {
      "text/html": [
       "<div>\n",
       "<style scoped>\n",
       "    .dataframe tbody tr th:only-of-type {\n",
       "        vertical-align: middle;\n",
       "    }\n",
       "\n",
       "    .dataframe tbody tr th {\n",
       "        vertical-align: top;\n",
       "    }\n",
       "\n",
       "    .dataframe thead th {\n",
       "        text-align: right;\n",
       "    }\n",
       "</style>\n",
       "<table border=\"1\" class=\"dataframe\">\n",
       "  <thead>\n",
       "    <tr style=\"text-align: right;\">\n",
       "      <th></th>\n",
       "      <th>TProd</th>\n",
       "      <th>DProd</th>\n",
       "      <th>MaxPO</th>\n",
       "      <th>MinPO</th>\n",
       "      <th>MeanProdOrder</th>\n",
       "      <th>TSale</th>\n",
       "      <th>MinPSale</th>\n",
       "      <th>MaxPSale</th>\n",
       "      <th>MeanSaleOrder</th>\n",
       "      <th>TRProd</th>\n",
       "      <th>MeanPSale</th>\n",
       "      <th>TOrder</th>\n",
       "      <th>SETSaleQta</th>\n",
       "      <th>SESaleQtaOrder</th>\n",
       "    </tr>\n",
       "    <tr>\n",
       "      <th>CustomerID</th>\n",
       "      <th></th>\n",
       "      <th></th>\n",
       "      <th></th>\n",
       "      <th></th>\n",
       "      <th></th>\n",
       "      <th></th>\n",
       "      <th></th>\n",
       "      <th></th>\n",
       "      <th></th>\n",
       "      <th></th>\n",
       "      <th></th>\n",
       "      <th></th>\n",
       "      <th></th>\n",
       "      <th></th>\n",
       "    </tr>\n",
       "  </thead>\n",
       "  <tbody>\n",
       "    <tr>\n",
       "      <th>17850</th>\n",
       "      <td>1702</td>\n",
       "      <td>21</td>\n",
       "      <td>141</td>\n",
       "      <td>12</td>\n",
       "      <td>48.629</td>\n",
       "      <td>5317.89</td>\n",
       "      <td>6.36</td>\n",
       "      <td>107.25</td>\n",
       "      <td>151.940</td>\n",
       "      <td>31</td>\n",
       "      <td>3.960</td>\n",
       "      <td>34</td>\n",
       "      <td>4.137</td>\n",
       "      <td>3.186</td>\n",
       "    </tr>\n",
       "    <tr>\n",
       "      <th>13047</th>\n",
       "      <td>1355</td>\n",
       "      <td>105</td>\n",
       "      <td>309</td>\n",
       "      <td>3</td>\n",
       "      <td>84.688</td>\n",
       "      <td>3089.10</td>\n",
       "      <td>6.64</td>\n",
       "      <td>68.00</td>\n",
       "      <td>193.069</td>\n",
       "      <td>35</td>\n",
       "      <td>3.926</td>\n",
       "      <td>9</td>\n",
       "      <td>5.421</td>\n",
       "      <td>3.875</td>\n",
       "    </tr>\n",
       "    <tr>\n",
       "      <th>12583</th>\n",
       "      <td>4978</td>\n",
       "      <td>114</td>\n",
       "      <td>714</td>\n",
       "      <td>100</td>\n",
       "      <td>292.824</td>\n",
       "      <td>6629.34</td>\n",
       "      <td>6.80</td>\n",
       "      <td>132.80</td>\n",
       "      <td>389.961</td>\n",
       "      <td>50</td>\n",
       "      <td>2.140</td>\n",
       "      <td>15</td>\n",
       "      <td>5.804</td>\n",
       "      <td>4.087</td>\n",
       "    </tr>\n",
       "    <tr>\n",
       "      <th>13748</th>\n",
       "      <td>439</td>\n",
       "      <td>24</td>\n",
       "      <td>208</td>\n",
       "      <td>8</td>\n",
       "      <td>87.800</td>\n",
       "      <td>948.25</td>\n",
       "      <td>9.36</td>\n",
       "      <td>204.00</td>\n",
       "      <td>189.650</td>\n",
       "      <td>0</td>\n",
       "      <td>3.996</td>\n",
       "      <td>5</td>\n",
       "      <td>4.080</td>\n",
       "      <td>2.322</td>\n",
       "    </tr>\n",
       "    <tr>\n",
       "      <th>15100</th>\n",
       "      <td>58</td>\n",
       "      <td>1</td>\n",
       "      <td>32</td>\n",
       "      <td>16</td>\n",
       "      <td>9.667</td>\n",
       "      <td>635.10</td>\n",
       "      <td>175.20</td>\n",
       "      <td>350.40</td>\n",
       "      <td>105.850</td>\n",
       "      <td>22</td>\n",
       "      <td>10.950</td>\n",
       "      <td>3</td>\n",
       "      <td>2.252</td>\n",
       "      <td>2.252</td>\n",
       "    </tr>\n",
       "  </tbody>\n",
       "</table>\n",
       "</div>"
      ],
      "text/plain": [
       "            TProd  DProd  MaxPO  MinPO  MeanProdOrder    TSale  MinPSale  \\\n",
       "CustomerID                                                                 \n",
       "17850        1702     21    141     12         48.629  5317.89      6.36   \n",
       "13047        1355    105    309      3         84.688  3089.10      6.64   \n",
       "12583        4978    114    714    100        292.824  6629.34      6.80   \n",
       "13748         439     24    208      8         87.800   948.25      9.36   \n",
       "15100          58      1     32     16          9.667   635.10    175.20   \n",
       "\n",
       "            MaxPSale  MeanSaleOrder  TRProd  MeanPSale  TOrder  SETSaleQta  \\\n",
       "CustomerID                                                                   \n",
       "17850         107.25        151.940      31      3.960      34       4.137   \n",
       "13047          68.00        193.069      35      3.926       9       5.421   \n",
       "12583         132.80        389.961      50      2.140      15       5.804   \n",
       "13748         204.00        189.650       0      3.996       5       4.080   \n",
       "15100         350.40        105.850      22     10.950       3       2.252   \n",
       "\n",
       "            SESaleQtaOrder  \n",
       "CustomerID                  \n",
       "17850                3.186  \n",
       "13047                3.875  \n",
       "12583                4.087  \n",
       "13748                2.322  \n",
       "15100                2.252  "
      ]
     },
     "execution_count": 2,
     "metadata": {},
     "output_type": "execute_result"
    }
   ],
   "source": [
    "df = pd.read_csv(\"customer_dataframe.csv\", sep=\"\\t\", index_col=0)\n",
    "df.head()"
   ]
  },
  {
   "cell_type": "code",
   "execution_count": 3,
   "metadata": {
    "scrolled": true
   },
   "outputs": [
    {
     "name": "stdout",
     "output_type": "stream",
     "text": [
      "<class 'pandas.core.frame.DataFrame'>\n",
      "Int64Index: 4333 entries, 17850 to 12713\n",
      "Data columns (total 4 columns):\n",
      " #   Column         Non-Null Count  Dtype  \n",
      "---  ------         --------------  -----  \n",
      " 0   TProd          4333 non-null   int64  \n",
      " 1   MeanProdOrder  4333 non-null   float64\n",
      " 2   MeanSaleOrder  4333 non-null   float64\n",
      " 3   MeanPSale      4333 non-null   float64\n",
      "dtypes: float64(3), int64(1)\n",
      "memory usage: 169.3 KB\n"
     ]
    }
   ],
   "source": [
    "df_aux = df[['TProd', 'MeanProdOrder', 'MeanSaleOrder', 'MeanPSale']]\n",
    "df_aux.info()"
   ]
  },
  {
   "cell_type": "code",
   "execution_count": 4,
   "metadata": {},
   "outputs": [
    {
     "data": {
      "text/html": [
       "<div>\n",
       "<style scoped>\n",
       "    .dataframe tbody tr th:only-of-type {\n",
       "        vertical-align: middle;\n",
       "    }\n",
       "\n",
       "    .dataframe tbody tr th {\n",
       "        vertical-align: top;\n",
       "    }\n",
       "\n",
       "    .dataframe thead th {\n",
       "        text-align: right;\n",
       "    }\n",
       "</style>\n",
       "<table border=\"1\" class=\"dataframe\">\n",
       "  <thead>\n",
       "    <tr style=\"text-align: right;\">\n",
       "      <th></th>\n",
       "      <th>TProd</th>\n",
       "      <th>MeanProdOrder</th>\n",
       "      <th>MeanSaleOrder</th>\n",
       "      <th>MeanPSale</th>\n",
       "    </tr>\n",
       "    <tr>\n",
       "      <th>CustomerID</th>\n",
       "      <th></th>\n",
       "      <th></th>\n",
       "      <th></th>\n",
       "      <th></th>\n",
       "    </tr>\n",
       "  </thead>\n",
       "  <tbody>\n",
       "    <tr>\n",
       "      <th>17850</th>\n",
       "      <td>1702</td>\n",
       "      <td>48.629</td>\n",
       "      <td>151.940</td>\n",
       "      <td>3.960</td>\n",
       "    </tr>\n",
       "    <tr>\n",
       "      <th>13047</th>\n",
       "      <td>1355</td>\n",
       "      <td>84.688</td>\n",
       "      <td>193.069</td>\n",
       "      <td>3.926</td>\n",
       "    </tr>\n",
       "    <tr>\n",
       "      <th>12583</th>\n",
       "      <td>4978</td>\n",
       "      <td>292.824</td>\n",
       "      <td>389.961</td>\n",
       "      <td>2.140</td>\n",
       "    </tr>\n",
       "    <tr>\n",
       "      <th>13748</th>\n",
       "      <td>439</td>\n",
       "      <td>87.800</td>\n",
       "      <td>189.650</td>\n",
       "      <td>3.996</td>\n",
       "    </tr>\n",
       "    <tr>\n",
       "      <th>15100</th>\n",
       "      <td>58</td>\n",
       "      <td>9.667</td>\n",
       "      <td>105.850</td>\n",
       "      <td>10.950</td>\n",
       "    </tr>\n",
       "    <tr>\n",
       "      <th>...</th>\n",
       "      <td>...</td>\n",
       "      <td>...</td>\n",
       "      <td>...</td>\n",
       "      <td>...</td>\n",
       "    </tr>\n",
       "    <tr>\n",
       "      <th>13436</th>\n",
       "      <td>76</td>\n",
       "      <td>76.000</td>\n",
       "      <td>196.890</td>\n",
       "      <td>5.830</td>\n",
       "    </tr>\n",
       "    <tr>\n",
       "      <th>15520</th>\n",
       "      <td>314</td>\n",
       "      <td>314.000</td>\n",
       "      <td>343.500</td>\n",
       "      <td>1.724</td>\n",
       "    </tr>\n",
       "    <tr>\n",
       "      <th>13298</th>\n",
       "      <td>96</td>\n",
       "      <td>96.000</td>\n",
       "      <td>360.000</td>\n",
       "      <td>3.750</td>\n",
       "    </tr>\n",
       "    <tr>\n",
       "      <th>14569</th>\n",
       "      <td>79</td>\n",
       "      <td>79.000</td>\n",
       "      <td>227.390</td>\n",
       "      <td>3.920</td>\n",
       "    </tr>\n",
       "    <tr>\n",
       "      <th>12713</th>\n",
       "      <td>505</td>\n",
       "      <td>505.000</td>\n",
       "      <td>794.550</td>\n",
       "      <td>2.085</td>\n",
       "    </tr>\n",
       "  </tbody>\n",
       "</table>\n",
       "<p>4333 rows × 4 columns</p>\n",
       "</div>"
      ],
      "text/plain": [
       "            TProd  MeanProdOrder  MeanSaleOrder  MeanPSale\n",
       "CustomerID                                                \n",
       "17850        1702         48.629        151.940      3.960\n",
       "13047        1355         84.688        193.069      3.926\n",
       "12583        4978        292.824        389.961      2.140\n",
       "13748         439         87.800        189.650      3.996\n",
       "15100          58          9.667        105.850     10.950\n",
       "...           ...            ...            ...        ...\n",
       "13436          76         76.000        196.890      5.830\n",
       "15520         314        314.000        343.500      1.724\n",
       "13298          96         96.000        360.000      3.750\n",
       "14569          79         79.000        227.390      3.920\n",
       "12713         505        505.000        794.550      2.085\n",
       "\n",
       "[4333 rows x 4 columns]"
      ]
     },
     "execution_count": 4,
     "metadata": {},
     "output_type": "execute_result"
    }
   ],
   "source": [
    "df_aux"
   ]
  },
  {
   "cell_type": "code",
   "execution_count": 5,
   "metadata": {},
   "outputs": [
    {
     "data": {
      "text/html": [
       "<div>\n",
       "<style scoped>\n",
       "    .dataframe tbody tr th:only-of-type {\n",
       "        vertical-align: middle;\n",
       "    }\n",
       "\n",
       "    .dataframe tbody tr th {\n",
       "        vertical-align: top;\n",
       "    }\n",
       "\n",
       "    .dataframe thead th {\n",
       "        text-align: right;\n",
       "    }\n",
       "</style>\n",
       "<table border=\"1\" class=\"dataframe\">\n",
       "  <thead>\n",
       "    <tr style=\"text-align: right;\">\n",
       "      <th></th>\n",
       "      <th>TProd</th>\n",
       "      <th>MeanProdOrder</th>\n",
       "      <th>MeanSaleOrder</th>\n",
       "      <th>MeanPSale</th>\n",
       "    </tr>\n",
       "  </thead>\n",
       "  <tbody>\n",
       "    <tr>\n",
       "      <th>count</th>\n",
       "      <td>4333.000000</td>\n",
       "      <td>4333.000000</td>\n",
       "      <td>4333.000000</td>\n",
       "      <td>4333.000000</td>\n",
       "    </tr>\n",
       "    <tr>\n",
       "      <th>mean</th>\n",
       "      <td>1129.535657</td>\n",
       "      <td>201.104614</td>\n",
       "      <td>327.882896</td>\n",
       "      <td>3.492819</td>\n",
       "    </tr>\n",
       "    <tr>\n",
       "      <th>std</th>\n",
       "      <td>4692.695935</td>\n",
       "      <td>274.590134</td>\n",
       "      <td>395.336014</td>\n",
       "      <td>8.997404</td>\n",
       "    </tr>\n",
       "    <tr>\n",
       "      <th>min</th>\n",
       "      <td>0.000000</td>\n",
       "      <td>0.000000</td>\n",
       "      <td>-0.000000</td>\n",
       "      <td>0.122000</td>\n",
       "    </tr>\n",
       "    <tr>\n",
       "      <th>25%</th>\n",
       "      <td>157.000000</td>\n",
       "      <td>80.500000</td>\n",
       "      <td>155.050000</td>\n",
       "      <td>2.160000</td>\n",
       "    </tr>\n",
       "    <tr>\n",
       "      <th>50%</th>\n",
       "      <td>370.000000</td>\n",
       "      <td>140.167000</td>\n",
       "      <td>241.900000</td>\n",
       "      <td>2.834000</td>\n",
       "    </tr>\n",
       "    <tr>\n",
       "      <th>75%</th>\n",
       "      <td>971.000000</td>\n",
       "      <td>237.750000</td>\n",
       "      <td>371.560000</td>\n",
       "      <td>3.712000</td>\n",
       "    </tr>\n",
       "    <tr>\n",
       "      <th>max</th>\n",
       "      <td>196556.000000</td>\n",
       "      <td>7824.000000</td>\n",
       "      <td>9904.875000</td>\n",
       "      <td>434.650000</td>\n",
       "    </tr>\n",
       "  </tbody>\n",
       "</table>\n",
       "</div>"
      ],
      "text/plain": [
       "               TProd  MeanProdOrder  MeanSaleOrder    MeanPSale\n",
       "count    4333.000000    4333.000000    4333.000000  4333.000000\n",
       "mean     1129.535657     201.104614     327.882896     3.492819\n",
       "std      4692.695935     274.590134     395.336014     8.997404\n",
       "min         0.000000       0.000000      -0.000000     0.122000\n",
       "25%       157.000000      80.500000     155.050000     2.160000\n",
       "50%       370.000000     140.167000     241.900000     2.834000\n",
       "75%       971.000000     237.750000     371.560000     3.712000\n",
       "max    196556.000000    7824.000000    9904.875000   434.650000"
      ]
     },
     "execution_count": 5,
     "metadata": {},
     "output_type": "execute_result"
    }
   ],
   "source": [
    "df_aux.describe()"
   ]
  },
  {
   "cell_type": "code",
   "execution_count": 6,
   "metadata": {
    "scrolled": true
   },
   "outputs": [
    {
     "data": {
      "text/plain": [
       "array([[0.00865911, 0.00621536, 0.01533992, 0.00883257],\n",
       "       [0.00689371, 0.01082413, 0.01949232, 0.00875433],\n",
       "       [0.02532612, 0.03742638, 0.03937061, 0.00464412],\n",
       "       ...,\n",
       "       [0.00048841, 0.01226994, 0.03634574, 0.00834929],\n",
       "       [0.00040192, 0.01009714, 0.02295738, 0.00874052],\n",
       "       [0.00256924, 0.06454499, 0.08021807, 0.00451755]])"
      ]
     },
     "execution_count": 6,
     "metadata": {},
     "output_type": "execute_result"
    }
   ],
   "source": [
    "scaler = MinMaxScaler()\n",
    "X = scaler.fit_transform(df_aux.values)\n",
    "X"
   ]
  },
  {
   "cell_type": "markdown",
   "metadata": {},
   "source": [
    "# GENETIC ALGORITHM"
   ]
  },
  {
   "cell_type": "code",
   "execution_count": 7,
   "metadata": {},
   "outputs": [],
   "source": [
    "from pyclustering.cluster.ga import genetic_algorithm, ga_observer, ga_visualizer\n",
    "from pyclustering.cluster import cluster_visualizer, cluster_visualizer_multidim"
   ]
  },
  {
   "cell_type": "code",
   "execution_count": 8,
   "metadata": {
    "scrolled": false
   },
   "outputs": [],
   "source": [
    "# # Read data for clustering\n",
    "# sample = X\n",
    "\n",
    "# # Create instance of observer that will collect all information:\n",
    "# observer_instance = ga_observer(True, True, True)\n",
    "\n",
    "# # Create genetic algorithm where observer will collect information:\n",
    "# ga_instance = genetic_algorithm(data=sample,\n",
    "#                                 count_clusters=3,\n",
    "#                                 chromosome_count=100,\n",
    "#                                 population_count=10,\n",
    "#                                 count_mutation_gens=1,\n",
    "#                                 observer=observer_instance)\n",
    "\n",
    "# # Start processing\n",
    "# ga_instance.process()\n",
    "\n",
    "# # Obtain results\n",
    "# clusters = ga_instance.get_clusters()\n",
    "\n",
    "# # Print cluster to console\n",
    "# #print(\"Amount of clusters: '%d'. Clusters: '%s'\" % (len(clusters), clusters))\n",
    "# print([len(c) for c in clusters])\n",
    "# print(clusters)\n",
    "# print(\"Silhouette score: \", silhouette_score(X, clusters))\n",
    "\n",
    "# # Show cluster using observer:\n",
    "# ga_visualizer.show_clusters(sample, observer_instance)"
   ]
  },
  {
   "cell_type": "code",
   "execution_count": 9,
   "metadata": {
    "scrolled": false
   },
   "outputs": [],
   "source": [
    "# clusters_df = {}\n",
    "# indexes = df.index\n",
    "# for i in range(len(clusters)):\n",
    "#     clusters_df[i] = df[df.index.isin([indexes[i] for i in clusters[i]])]"
   ]
  },
  {
   "cell_type": "code",
   "execution_count": 10,
   "metadata": {
    "scrolled": false
   },
   "outputs": [],
   "source": [
    "# attr = df_aux.columns\n",
    "# clusters = [i for i in clusters_df]\n",
    "# fig, axs = plt.subplots(len(attr),3,figsize=(15,15))\n",
    "# for attr_index in range(len(attr)):\n",
    "#     mean_values = []\n",
    "#     max_values = []\n",
    "#     min_values = []\n",
    "#     for _, cluster_df in clusters_df.items():\n",
    "#         mean_values.append(cluster_df.describe()[attr[attr_index]][1])\n",
    "#         max_values.append(cluster_df.describe()[attr[attr_index]][7])\n",
    "#         min_values.append(cluster_df.describe()[attr[attr_index]][3])\n",
    "#     axs[attr_index][0].bar(clusters, mean_values)\n",
    "#     axs[attr_index][0].set_title(f\"{attr[attr_index]} - Mean\")\n",
    "#     axs[attr_index][1].bar(clusters, max_values)\n",
    "#     axs[attr_index][1].set_title(f\"{attr[attr_index]} - Max\")\n",
    "#     axs[attr_index][2].bar(clusters, min_values)\n",
    "#     axs[attr_index][2].set_title(f\"{attr[attr_index]} - Min\")"
   ]
  },
  {
   "cell_type": "code",
   "execution_count": 11,
   "metadata": {},
   "outputs": [],
   "source": [
    "def ga_cluster(sample, nc, cc, pc, mg):\n",
    "    observer_instance = ga_observer(True, True, True)\n",
    "    ga_instance = genetic_algorithm(data=sample, count_clusters=nc, chromosome_count=cc, population_count=pc,count_mutation_gens=mg,observer=observer_instance)\n",
    "    ga_instance.process()\n",
    "    clusters = ga_instance.get_clusters()\n",
    "    print([len(c) for c in clusters])    \n",
    "    clusters_df = {}\n",
    "    indexes = df.index\n",
    "    for i in range(len(clusters)):\n",
    "        clusters_df[i] = df[df.index.isin([indexes[i] for i in clusters[i]])]\n",
    "    attr = df_aux.columns\n",
    "    mean_values_to_plot= {a:[] for a in attr}\n",
    "    to_plot = [[x[1],x[2]] for x in sample]\n",
    "    for attr_index in range(len(attr)):\n",
    "        mean_values = []\n",
    "        for _, cluster_df in clusters_df.items():\n",
    "            mean_values.append(cluster_df.describe()[attr[attr_index]][1])\n",
    "        mean_values_to_plot[attr[attr_index]] = mean_values\n",
    "    ga_visualizer.show_clusters(to_plot, observer_instance)\n",
    "    \n",
    "    return mean_values_to_plot, clusters"
   ]
  },
  {
   "cell_type": "code",
   "execution_count": 12,
   "metadata": {},
   "outputs": [],
   "source": [
    "def calc_silhouette(data, clusters):\n",
    "    cust_clust = {}\n",
    "    for i in range(len(clusters)):\n",
    "        for customer in clusters[i]:\n",
    "            cust_clust[customer] = i\n",
    "    clustering = []\n",
    "    for cust in sorted(cust_clust):\n",
    "        clustering.append(cust_clust[cust])\n",
    "    print(\"Silhouette score: \", silhouette_score(data, clustering))\n",
    "    return clustering"
   ]
  },
  {
   "cell_type": "code",
   "execution_count": 14,
   "metadata": {
    "scrolled": false
   },
   "outputs": [
    {
     "name": "stdout",
     "output_type": "stream",
     "text": [
      "[1465, 1406, 1462]\n"
     ]
    },
    {
     "data": {
      "image/png": "[encoded data removed]",
      "text/plain": [
       "<Figure size 432x288 with 2 Axes>"
      ]
     },
     "metadata": {
      "needs_background": "light"
     },
     "output_type": "display_data"
    },
    {
     "name": "stdout",
     "output_type": "stream",
     "text": [
      "Silhouette score:  -0.025481881033576088\n",
      "[1447, 1423, 1463]\n"
     ]
    },
    {
     "data": {
      "image/png": "[encoded data removed]",
      "text/plain": [
       "<Figure size 432x288 with 2 Axes>"
      ]
     },
     "metadata": {
      "needs_background": "light"
     },
     "output_type": "display_data"
    },
    {
     "name": "stdout",
     "output_type": "stream",
     "text": [
      "Silhouette score:  -0.02809932851131061\n",
      "[1421, 1440, 1472]\n"
     ]
    },
    {
     "data": {
      "image/png": "[encoded data removed]",
      "text/plain": [
       "<Figure size 432x288 with 2 Axes>"
      ]
     },
     "metadata": {
      "needs_background": "light"
     },
     "output_type": "display_data"
    },
    {
     "name": "stdout",
     "output_type": "stream",
     "text": [
      "Silhouette score:  -0.033884845274314575\n",
      "[1471, 1458, 1404]\n"
     ]
    },
    {
     "data": {
      "image/png": "[encoded data removed]",
      "text/plain": [
       "<Figure size 432x288 with 2 Axes>"
      ]
     },
     "metadata": {
      "needs_background": "light"
     },
     "output_type": "display_data"
    },
    {
     "name": "stdout",
     "output_type": "stream",
     "text": [
      "Silhouette score:  -0.029873023241784417\n"
     ]
    }
   ],
   "source": [
    "nc = 3\n",
    "pc = 75\n",
    "cc_l = [100, 200]\n",
    "mg_l = [1, 3]\n",
    "means = []\n",
    "for cc in cc_l:\n",
    "    for mg in mg_l:\n",
    "        mv, cl = ga_cluster(X, nc, cc, pc, mg)\n",
    "        means.append(mv)\n",
    "        calc_silhouette(X, cl)"
   ]
  },
  {
   "cell_type": "code",
   "execution_count": 15,
   "metadata": {},
   "outputs": [
    {
     "data": {
      "text/plain": [
       "[{'TProd': [1149.6341296928329, 1232.423186344239, 1010.4493844049248],\n",
       "  'MeanProdOrder': [205.19793105802052,\n",
       "   211.78469985775249,\n",
       "   186.73189945280438],\n",
       "  'MeanSaleOrder': [343.7515604095563, 332.33261877667144, 307.70238645690836],\n",
       "  'MeanPSale': [3.4180170648464165, 3.4968022759601705, 3.563943912448701]},\n",
       " {'TProd': [1082.6316516931583, 1146.5467322557977, 1159.3807245386192],\n",
       "  'MeanProdOrder': [210.63497442985488,\n",
       "   191.34722136331692,\n",
       "   201.16909774436093],\n",
       "  'MeanSaleOrder': [345.28191292328955, 305.4618559381588, 332.4821859193438],\n",
       "  'MeanPSale': [3.6541838286109187, 3.464117357695011, 3.3611360218728645]},\n",
       " {'TProd': [1077.4862772695285, 1196.0444444444445, 1114.71875],\n",
       "  'MeanProdOrder': [188.16710767065447,\n",
       "   217.14381388888884,\n",
       "   197.90335733695653],\n",
       "  'MeanSaleOrder': [305.4155869106263, 355.42977847222215, 322.62374796195655],\n",
       "  'MeanPSale': [3.704225897255454, 3.372543055555556, 3.406398097826087]},\n",
       " {'TProd': [949.4017675050985, 1349.3765432098764, 1089.9693732193732],\n",
       "  'MeanProdOrder': [182.83536777702244, 207.0513978052126, 214.07017806267808],\n",
       "  'MeanSaleOrder': [299.1856913664174, 332.52036831275717, 353.13371652421654],\n",
       "  'MeanPSale': [3.617857919782461, 3.5047016460905347, 3.349473646723647]}]"
      ]
     },
     "execution_count": 15,
     "metadata": {},
     "output_type": "execute_result"
    }
   ],
   "source": [
    "means"
   ]
  }
 ],
 "metadata": {
  "kernelspec": {
   "display_name": "Python 3",
   "language": "python",
   "name": "python3"
  },
  "language_info": {
   "codemirror_mode": {
    "name": "ipython",
    "version": 3
   },
   "file_extension": ".py",
   "mimetype": "text/x-python",
   "name": "python",
   "nbconvert_exporter": "python",
   "pygments_lexer": "ipython3",
   "version": "3.8.4"
  }
 },
 "nbformat": 4,
 "nbformat_minor": 4
}
