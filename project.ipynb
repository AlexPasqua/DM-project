{
 "cells": [
  {
   "cell_type": "code",
   "execution_count": 1,
   "metadata": {},
   "outputs": [],
   "source": [
    "# EP, NG, AP\n",
    "import math\n",
    "import numpy as np\n",
    "import pandas as pd\n",
    "import scipy.stats as stats\n",
    "import matplotlib.pyplot as plt"
   ]
  },
  {
   "cell_type": "code",
   "execution_count": 2,
   "metadata": {},
   "outputs": [],
   "source": [
    "df = pd.read_csv('customer_supermarket.csv', sep='\\t', index_col=0)"
   ]
  },
  {
   "cell_type": "code",
   "execution_count": 3,
   "metadata": {},
   "outputs": [
    {
     "name": "stdout",
     "output_type": "stream",
     "text": [
      "  BasketID      BasketDate  Sale  CustomerID CustomerCountry  ProdID  \\\n",
      "0   536365  01/12/10 08:26  2,55     17850.0  United Kingdom  85123A   \n",
      "1   536365  01/12/10 08:26  3,39     17850.0  United Kingdom   71053   \n",
      "2   536365  01/12/10 08:26  2,75     17850.0  United Kingdom  84406B   \n",
      "3   536365  01/12/10 08:26  3,39     17850.0  United Kingdom  84029G   \n",
      "4   536365  01/12/10 08:26  3,39     17850.0  United Kingdom  84029E   \n",
      "\n",
      "                             ProdDescr  Qta  \n",
      "0   WHITE HANGING HEART T-LIGHT HOLDER    6  \n",
      "1                  WHITE METAL LANTERN    6  \n",
      "2       CREAM CUPID HEARTS COAT HANGER    8  \n",
      "3  KNITTED UNION FLAG HOT WATER BOTTLE    6  \n",
      "4       RED WOOLLY HOTTIE WHITE HEART.    6  \n"
     ]
    }
   ],
   "source": [
    "print(df.head())"
   ]
  },
  {
   "cell_type": "markdown",
   "source": [
    "### Types checking and basic statistics"
   ],
   "metadata": {
    "collapsed": false,
    "pycharm": {
     "name": "#%% md\n"
    }
   }
  },
  {
   "cell_type": "code",
   "execution_count": 4,
   "metadata": {},
   "outputs": [
    {
     "data": {
      "text/plain": "BasketID            object\nBasketDate          object\nSale                object\nCustomerID         float64\nCustomerCountry     object\nProdID              object\nProdDescr           object\nQta                  int64\ndtype: object"
     },
     "execution_count": 4,
     "metadata": {},
     "output_type": "execute_result"
    }
   ],
   "source": [
    "df.dtypes"
   ]
  },
  {
   "cell_type": "code",
   "execution_count": 5,
   "metadata": {},
   "outputs": [
    {
     "name": "stdout",
     "output_type": "stream",
     "text": [
      "<class 'pandas.core.frame.DataFrame'>\n",
      "Int64Index: 471910 entries, 0 to 541909\n",
      "Data columns (total 8 columns):\n",
      " #   Column           Non-Null Count   Dtype  \n",
      "---  ------           --------------   -----  \n",
      " 0   BasketID         471910 non-null  object \n",
      " 1   BasketDate       471910 non-null  object \n",
      " 2   Sale             471910 non-null  object \n",
      " 3   CustomerID       406830 non-null  float64\n",
      " 4   CustomerCountry  471910 non-null  object \n",
      " 5   ProdID           471910 non-null  object \n",
      " 6   ProdDescr        471157 non-null  object \n",
      " 7   Qta              471910 non-null  int64  \n",
      "dtypes: float64(1), int64(1), object(6)\n",
      "memory usage: 32.4+ MB\n"
     ]
    }
   ],
   "source": [
    "df.info()"
   ]
  },
  {
   "cell_type": "code",
   "execution_count": 8,
   "outputs": [
    {
     "data": {
      "text/plain": "BasketID           False\nBasketDate         False\nSale               False\nCustomerID          True\nCustomerCountry    False\nProdID             False\nProdDescr           True\nQta                False\ndtype: bool"
     },
     "execution_count": 8,
     "metadata": {},
     "output_type": "execute_result"
    }
   ],
   "source": [
    "df.isnull().any()"
   ],
   "metadata": {
    "collapsed": false,
    "pycharm": {
     "name": "#%%\n"
    }
   }
  },
  {
   "cell_type": "code",
   "execution_count": 7,
   "metadata": {},
   "outputs": [
    {
     "data": {
      "text/plain": "          CustomerID            Qta\ncount  406830.000000  471910.000000\nmean    15287.684160      10.716533\nstd      1713.603074     231.355136\nmin     12346.000000  -80995.000000\n25%     13953.000000       1.000000\n50%     15152.000000       4.000000\n75%     16791.000000      12.000000\nmax     18287.000000   80995.000000",
      "text/html": "<div>\n<style scoped>\n    .dataframe tbody tr th:only-of-type {\n        vertical-align: middle;\n    }\n\n    .dataframe tbody tr th {\n        vertical-align: top;\n    }\n\n    .dataframe thead th {\n        text-align: right;\n    }\n</style>\n<table border=\"1\" class=\"dataframe\">\n  <thead>\n    <tr style=\"text-align: right;\">\n      <th></th>\n      <th>CustomerID</th>\n      <th>Qta</th>\n    </tr>\n  </thead>\n  <tbody>\n    <tr>\n      <th>count</th>\n      <td>406830.000000</td>\n      <td>471910.000000</td>\n    </tr>\n    <tr>\n      <th>mean</th>\n      <td>15287.684160</td>\n      <td>10.716533</td>\n    </tr>\n    <tr>\n      <th>std</th>\n      <td>1713.603074</td>\n      <td>231.355136</td>\n    </tr>\n    <tr>\n      <th>min</th>\n      <td>12346.000000</td>\n      <td>-80995.000000</td>\n    </tr>\n    <tr>\n      <th>25%</th>\n      <td>13953.000000</td>\n      <td>1.000000</td>\n    </tr>\n    <tr>\n      <th>50%</th>\n      <td>15152.000000</td>\n      <td>4.000000</td>\n    </tr>\n    <tr>\n      <th>75%</th>\n      <td>16791.000000</td>\n      <td>12.000000</td>\n    </tr>\n    <tr>\n      <th>max</th>\n      <td>18287.000000</td>\n      <td>80995.000000</td>\n    </tr>\n  </tbody>\n</table>\n</div>"
     },
     "execution_count": 7,
     "metadata": {},
     "output_type": "execute_result"
    }
   ],
   "source": [
    "df.describe()"
   ]
  },
  {
   "cell_type": "markdown",
   "source": [
    "#### Fixing 'Sale':\n",
    "* Replace commas with dots\n",
    "* Cast it into a float field\n",
    "\n",
    "Check if any element of 'Sale' contains letters"
   ],
   "metadata": {
    "collapsed": false,
    "pycharm": {
     "name": "#%% md\n"
    }
   }
  },
  {
   "cell_type": "code",
   "execution_count": 15,
   "metadata": {},
   "outputs": [],
   "source": [
    "import string\n",
    "for elem in df['Sale']:\n",
    "    for c in elem:\n",
    "        if c in string.ascii_letters:\n",
    "            print(elem)\n",
    "            break"
   ]
  },
  {
   "cell_type": "markdown",
   "source": [
    "The attribute 'Sale' does not contain any null value or letters, only numbers,\n",
    "but we need to substitute commas with dots and cast the filed into float"
   ],
   "metadata": {
    "collapsed": false,
    "pycharm": {
     "name": "#%% md\n"
    }
   }
  },
  {
   "cell_type": "code",
   "execution_count": 21,
   "outputs": [
    {
     "name": "stdout",
     "output_type": "stream",
     "text": [
      "Changed commas into dots:\n",
      "0    2.55\n",
      "1    3.39\n",
      "2    2.75\n",
      "3    3.39\n",
      "4    3.39\n",
      "Name: Sale, dtype: float64\n",
      "\n",
      "Changed type into float64\n",
      "<class 'pandas.core.frame.DataFrame'>\n",
      "Int64Index: 471910 entries, 0 to 541909\n",
      "Data columns (total 8 columns):\n",
      " #   Column           Non-Null Count   Dtype  \n",
      "---  ------           --------------   -----  \n",
      " 0   BasketID         471910 non-null  object \n",
      " 1   BasketDate       471910 non-null  object \n",
      " 2   Sale             471910 non-null  float64\n",
      " 3   CustomerID       406830 non-null  float64\n",
      " 4   CustomerCountry  471910 non-null  object \n",
      " 5   ProdID           471910 non-null  object \n",
      " 6   ProdDescr        471157 non-null  object \n",
      " 7   Qta              471910 non-null  int64  \n",
      "dtypes: float64(2), int64(1), object(5)\n",
      "memory usage: 32.4+ MB\n"
     ]
    }
   ],
   "source": [
    "df['Sale'].replace(to_replace=r'(\\d+),(\\d*)', value=r'\\1.\\2', regex=True, inplace=True)\n",
    "print('Changed commas into dots:')\n",
    "print(df['Sale'][0 : 5])\n",
    "df['Sale'] = df['Sale'].astype(float)\n",
    "print('\\nChanged type into float64:')\n",
    "df.info()"
   ],
   "metadata": {
    "collapsed": false,
    "pycharm": {
     "name": "#%%\n"
    }
   }
  },
  {
   "cell_type": "code",
   "execution_count": 55,
   "metadata": {},
   "outputs": [
    {
     "name": "stdout",
     "output_type": "stream",
     "text": [
      "Quantity values\n",
      "TOT :  471910\n",
      " < 0:  9752\n",
      " > 100:  4814\n",
      " > 1000:  110\n"
     ]
    }
   ],
   "source": [
    "print(\"Quantity values\")\n",
    "print(\"TOT : \", len(df['Qta']))\n",
    "print(\" < 0: \", len(df[df['Qta'] < 0]))\n",
    "print(\" > 100: \", len(df[df['Qta'] > 100]))\n",
    "print(\" > 1000: \", len(df[df['Qta'] > 1000]))"
   ]
  },
  {
   "cell_type": "code",
   "execution_count": 56,
   "metadata": {},
   "outputs": [
    {
     "name": "stdout",
     "output_type": "stream",
     "text": [
      "Sale values\n",
      "TOT :  471910\n",
      " < 0:  2\n",
      " > 100:  634\n",
      " > 1000:  84\n"
     ]
    }
   ],
   "source": [
    "print(\"Sale values\")\n",
    "print(\"TOT : \", len(df['Sale']))\n",
    "print(\" < 0: \", len(df[df['Sale'] < 0]))\n",
    "print(\" > 100: \", len(df[df['Sale'] > 100]))\n",
    "print(\" > 1000: \", len(df[df['Sale'] > 1000]))"
   ]
  },
  {
   "cell_type": "code",
   "execution_count": 57,
   "metadata": {},
   "outputs": [
    {
     "data": {
      "text/plain": [
       "United Kingdom          426261\n",
       "Germany                   9495\n",
       "France                    8525\n",
       "EIRE                      7824\n",
       "Spain                     2533\n",
       "Netherlands               2371\n",
       "Belgium                   2069\n",
       "Switzerland               1932\n",
       "Portugal                  1495\n",
       "Australia                 1259\n",
       "Norway                    1086\n",
       "Italy                      803\n",
       "Channel Islands            758\n",
       "Finland                    695\n",
       "Cyprus                     622\n",
       "Sweden                     462\n",
       "Austria                    401\n",
       "Denmark                    389\n",
       "Japan                      358\n",
       "Poland                     341\n",
       "Unspecified                340\n",
       "USA                        291\n",
       "Israel                     269\n",
       "Singapore                  229\n",
       "Iceland                    182\n",
       "Canada                     151\n",
       "Greece                     146\n",
       "Hong Kong                  138\n",
       "Malta                      127\n",
       "United Arab Emirates        68\n",
       "European Community          61\n",
       "RSA                         58\n",
       "Lebanon                     45\n",
       "Lithuania                   35\n",
       "Brazil                      32\n",
       "Czech Republic              30\n",
       "Bahrain                     19\n",
       "Saudi Arabia                10\n",
       "Name: CustomerCountry, dtype: int64"
      ]
     },
     "execution_count": 57,
     "metadata": {},
     "output_type": "execute_result"
    }
   ],
   "source": [
    "df['CustomerCountry'].value_counts()"
   ]
  }
 ],
 "metadata": {
  "kernelspec": {
   "display_name": "Python 3",
   "language": "python",
   "name": "python3"
  },
  "language_info": {
   "codemirror_mode": {
    "name": "ipython",
    "version": 3
   },
   "file_extension": ".py",
   "mimetype": "text/x-python",
   "name": "python",
   "nbconvert_exporter": "python",
   "pygments_lexer": "ipython3",
   "version": "3.8.4"
  }
 },
 "nbformat": 4,
 "nbformat_minor": 4
}