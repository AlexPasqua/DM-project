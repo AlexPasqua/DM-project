{
 "cells": [
  {
   "cell_type": "code",
   "execution_count": 1,
   "metadata": {},
   "outputs": [],
   "source": [
    "import math\n",
    "import numpy as np\n",
    "import pandas as pd\n",
    "import scipy.stats as stats\n",
    "import matplotlib.pyplot as plt"
   ]
  },
  {
   "cell_type": "code",
   "execution_count": 2,
   "metadata": {},
   "outputs": [],
   "source": [
    "# Starting dataset\n",
    "df = pd.read_csv('customer_supermarket.csv', sep='\\t', index_col=0)"
   ]
  },
  {
   "cell_type": "code",
   "execution_count": 3,
   "metadata": {},
   "outputs": [],
   "source": [
    "# Handle NAN CustomerID rows\n",
    "df.drop(df[~df['CustomerID'].notnull()].index, inplace=True)"
   ]
  },
  {
   "cell_type": "code",
   "execution_count": 4,
   "metadata": {},
   "outputs": [],
   "source": [
    "# Set Sale to have the correct type\n",
    "df['Sale'].replace(to_replace=r'(\\d+),(\\d*)', value=r'\\1.\\2', regex=True, inplace=True)\n",
    "df['Sale'] = df['Sale'].astype(float)"
   ]
  },
  {
   "cell_type": "code",
   "execution_count": 5,
   "metadata": {},
   "outputs": [],
   "source": [
    "# Clean CustomerID from trailing '.0'\n",
    "df['CustomerID'] = df['CustomerID'].astype(str)\n",
    "df['CustomerID'].replace(to_replace=r'(\\d+)\\.(?:\\d*)?', value=r'\\1', regex=True, inplace=True)"
   ]
  },
  {
   "cell_type": "code",
   "execution_count": 6,
   "metadata": {},
   "outputs": [],
   "source": [
    "# Initialize variables to analyze correctness of negative Qta rows\n",
    "pos_quant_tot = {}\n",
    "neg_quant_tot = {}\n",
    "for index, row in df.iterrows():\n",
    "    if row['Qta'] > 0:\n",
    "        if (row['CustomerID'], row['ProdID'], row['Sale']) not in pos_quant_tot.keys():\n",
    "            pos_quant_tot[(row['CustomerID'], row['ProdID'], row['Sale'])] = row['Qta']\n",
    "        else:\n",
    "            pos_quant_tot[(row['CustomerID'], row['ProdID'], row['Sale'])] += row['Qta']\n",
    "    else:\n",
    "        if (row['CustomerID'], row['ProdID'], row['Sale']) not in neg_quant_tot.keys():\n",
    "            l = [index]\n",
    "            neg_quant_tot[(row['CustomerID'], row['ProdID'], row['Sale'])] = (-1*row['Qta'], l)\n",
    "        else:\n",
    "            prev = neg_quant_tot[(row['CustomerID'], row['ProdID'], row['Sale'])] \n",
    "            prev[1].append(index)\n",
    "            neg_quant_tot[(row['CustomerID'], row['ProdID'], row['Sale'])] = (prev[0]-row['Qta'], prev[1])\n",
    "positive_elements = set(pos_quant_tot.keys())\n",
    "negative_elements = set(neg_quant_tot.keys())"
   ]
  },
  {
   "cell_type": "code",
   "execution_count": 7,
   "metadata": {
    "scrolled": true
   },
   "outputs": [],
   "source": [
    "# drop negative Qta rows that are not matched with positive ones\n",
    "not_valid = negative_elements - (positive_elements & negative_elements)\n",
    "indexes_todelete = []\n",
    "for key in not_valid:\n",
    "    for x in neg_quant_tot[key][1]:\n",
    "        indexes_todelete.append(x)\n",
    "df.drop(indexes_todelete, inplace=True)"
   ]
  },
  {
   "cell_type": "code",
   "execution_count": 8,
   "metadata": {},
   "outputs": [],
   "source": [
    "# drop negative Qta rows that are invalid neg_qta > pos_qta\n",
    "indexes_todelete = []\n",
    "for key in positive_elements & negative_elements:\n",
    "    if pos_quant_tot[key] < neg_quant_tot[key][0]:\n",
    "            for x in neg_quant_tot[key][1]:\n",
    "                indexes_todelete.append(x)\n",
    "df.drop(indexes_todelete, inplace=True)"
   ]
  },
  {
   "cell_type": "code",
   "execution_count": 9,
   "metadata": {
    "scrolled": true
   },
   "outputs": [
    {
     "name": "stdout",
     "output_type": "stream",
     "text": [
      "<class 'pandas.core.frame.DataFrame'>\n",
      "Int64Index: 405448 entries, 0 to 541909\n",
      "Data columns (total 8 columns):\n",
      " #   Column           Non-Null Count   Dtype  \n",
      "---  ------           --------------   -----  \n",
      " 0   BasketID         405448 non-null  object \n",
      " 1   BasketDate       405448 non-null  object \n",
      " 2   Sale             405448 non-null  float64\n",
      " 3   CustomerID       405448 non-null  object \n",
      " 4   CustomerCountry  405448 non-null  object \n",
      " 5   ProdID           405448 non-null  object \n",
      " 6   ProdDescr        405448 non-null  object \n",
      " 7   Qta              405448 non-null  int64  \n",
      "dtypes: float64(1), int64(1), object(6)\n",
      "memory usage: 18.6+ MB\n"
     ]
    }
   ],
   "source": [
    "df.info()"
   ]
  },
  {
   "cell_type": "code",
   "execution_count": 10,
   "metadata": {},
   "outputs": [],
   "source": [
    "# Create the dataframe for customers\n",
    "data = pd.core.frame.DataFrame({'CustomerID' : df['CustomerID'].unique()})"
   ]
  },
  {
   "cell_type": "code",
   "execution_count": 11,
   "metadata": {},
   "outputs": [],
   "source": [
    "unique_products = []\n",
    "for customer in df[\"CustomerID\"].unique():\n",
    "    unique_products.append(len(df.loc[df[\"CustomerID\"] == customer, [\"ProdID\"]][\"ProdID\"].unique()))"
   ]
  },
  {
   "cell_type": "code",
   "execution_count": 12,
   "metadata": {},
   "outputs": [],
   "source": [
    "# I: the total number of items purchased by a customer during the period of observation\n",
    "data['I'] = 0"
   ]
  },
  {
   "cell_type": "code",
   "execution_count": 13,
   "metadata": {},
   "outputs": [],
   "source": [
    "# Iu: the number of distinct items bought by a customer in the period of observation.\n",
    "data[\"Unique_Products\"] = unique_products"
   ]
  },
  {
   "cell_type": "code",
   "execution_count": 14,
   "metadata": {},
   "outputs": [],
   "source": [
    "# Imax: the maximum number of items purchased by a customer during a shopping session\n",
    "data['Imax'] = 0"
   ]
  },
  {
   "cell_type": "code",
   "execution_count": 15,
   "metadata": {},
   "outputs": [],
   "source": [
    "# E: the Shannon entropy on the purchasing behaviour of the customer\n",
    "data['E'] = 0"
   ]
  },
  {
   "cell_type": "code",
   "execution_count": 16,
   "metadata": {},
   "outputs": [],
   "source": [
    "# ProdPerOrderMean: mean number of items purchased by a customer during a shopping session"
   ]
  },
  {
   "cell_type": "code",
   "execution_count": 17,
   "metadata": {},
   "outputs": [],
   "source": [
    "# SaleTot: total amount spent during the period of observation"
   ]
  },
  {
   "cell_type": "code",
   "execution_count": 18,
   "metadata": {},
   "outputs": [],
   "source": [
    "# SaleTotWithoutReturn: total amount spent without negative quantity during the period of observation"
   ]
  },
  {
   "cell_type": "code",
   "execution_count": 19,
   "metadata": {},
   "outputs": [],
   "source": [
    "# SaleMin: min amout spent during the shopping session"
   ]
  },
  {
   "cell_type": "code",
   "execution_count": 20,
   "metadata": {},
   "outputs": [],
   "source": [
    "# SaleMeanPerOrder: mean amount spent for each order during the period of observation"
   ]
  },
  {
   "cell_type": "code",
   "execution_count": 21,
   "metadata": {},
   "outputs": [],
   "source": [
    "# NumRetProd: number of returned products in the period of observation"
   ]
  },
  {
   "cell_type": "code",
   "execution_count": 22,
   "metadata": {},
   "outputs": [],
   "source": [
    "# NumDistRetProd: number of distinct returned products in the period of observation"
   ]
  },
  {
   "cell_type": "code",
   "execution_count": 23,
   "metadata": {},
   "outputs": [],
   "source": [
    "# MeanProdCostInOrder: mean cost of the products in the order"
   ]
  },
  {
   "cell_type": "code",
   "execution_count": 24,
   "metadata": {},
   "outputs": [],
   "source": [
    "# OrderPerMonth"
   ]
  },
  {
   "cell_type": "code",
   "execution_count": 25,
   "metadata": {},
   "outputs": [],
   "source": [
    "# ProductPerMonth"
   ]
  },
  {
   "cell_type": "code",
   "execution_count": 26,
   "metadata": {},
   "outputs": [],
   "source": [
    "# PrizePerMonth"
   ]
  },
  {
   "cell_type": "code",
   "execution_count": 27,
   "metadata": {},
   "outputs": [],
   "source": [
    "# OrderPerTrimester"
   ]
  },
  {
   "cell_type": "code",
   "execution_count": 28,
   "metadata": {},
   "outputs": [],
   "source": [
    "# ProductPerTrimester"
   ]
  },
  {
   "cell_type": "code",
   "execution_count": 29,
   "metadata": {},
   "outputs": [],
   "source": [
    "# PrizePerTrimester"
   ]
  },
  {
   "cell_type": "code",
   "execution_count": 30,
   "metadata": {},
   "outputs": [],
   "source": [
    "# OrderPerTrimester 2-3"
   ]
  },
  {
   "cell_type": "code",
   "execution_count": 31,
   "metadata": {},
   "outputs": [],
   "source": [
    "# ProductPerTrimester 2-3"
   ]
  },
  {
   "cell_type": "code",
   "execution_count": 32,
   "metadata": {},
   "outputs": [],
   "source": [
    "# PrizePerTrimester 2-3"
   ]
  },
  {
   "cell_type": "code",
   "execution_count": 33,
   "metadata": {},
   "outputs": [],
   "source": [
    "# CustomerCounty : value from original dataframe\n",
    "#data['CustomerCountry'] = ''\n",
    "#data = data.join(pd.core.frame.DataFrame({'CustomerID':df['CustomerID'], 'CustomerCountry':df['CustomerCountry']}).drop_duplicates().set_index('CustomerID'), on='CustomerID')\n",
    "\n",
    "#tmp = pd.core.frame.DataFrame({'CustomerID':df['CustomerID'], 'CustomerCountry':df['CustomerCountry']}).drop_duplicates()\n",
    "#tmp['CustomerID'].value_counts()[0:8]\n",
    "# 4372 distinct customers - 4380 elements in tmp\n",
    "# 8 customers have two different nationalities\n",
    "\n",
    "# Find entries with multiple nationality\n",
    "#counts = tmp['CustomerID'].value_counts().items()\n",
    "#count_dict = {x[0]:x[1] for x in counts}\n",
    "#for _, row in tmp.sort_values(by=['CustomerID']).iterrows():\n",
    "#    if count_dict[row['CustomerID']] > 1:\n",
    "#        print(f\"{row['CustomerID']}-{row['CustomerCountry']}\")"
   ]
  },
  {
   "cell_type": "code",
   "execution_count": 34,
   "metadata": {
    "scrolled": true
   },
   "outputs": [
    {
     "data": {
      "text/html": [
       "<div>\n",
       "<style scoped>\n",
       "    .dataframe tbody tr th:only-of-type {\n",
       "        vertical-align: middle;\n",
       "    }\n",
       "\n",
       "    .dataframe tbody tr th {\n",
       "        vertical-align: top;\n",
       "    }\n",
       "\n",
       "    .dataframe thead th {\n",
       "        text-align: right;\n",
       "    }\n",
       "</style>\n",
       "<table border=\"1\" class=\"dataframe\">\n",
       "  <thead>\n",
       "    <tr style=\"text-align: right;\">\n",
       "      <th></th>\n",
       "      <th>CustomerID</th>\n",
       "      <th>I</th>\n",
       "      <th>Unique_Products</th>\n",
       "      <th>Imax</th>\n",
       "      <th>E</th>\n",
       "    </tr>\n",
       "  </thead>\n",
       "  <tbody>\n",
       "    <tr>\n",
       "      <th>0</th>\n",
       "      <td>17850</td>\n",
       "      <td>0</td>\n",
       "      <td>21</td>\n",
       "      <td>0</td>\n",
       "      <td>0</td>\n",
       "    </tr>\n",
       "    <tr>\n",
       "      <th>1</th>\n",
       "      <td>13047</td>\n",
       "      <td>0</td>\n",
       "      <td>106</td>\n",
       "      <td>0</td>\n",
       "      <td>0</td>\n",
       "    </tr>\n",
       "    <tr>\n",
       "      <th>2</th>\n",
       "      <td>12583</td>\n",
       "      <td>0</td>\n",
       "      <td>115</td>\n",
       "      <td>0</td>\n",
       "      <td>0</td>\n",
       "    </tr>\n",
       "    <tr>\n",
       "      <th>3</th>\n",
       "      <td>13748</td>\n",
       "      <td>0</td>\n",
       "      <td>24</td>\n",
       "      <td>0</td>\n",
       "      <td>0</td>\n",
       "    </tr>\n",
       "    <tr>\n",
       "      <th>4</th>\n",
       "      <td>15100</td>\n",
       "      <td>0</td>\n",
       "      <td>1</td>\n",
       "      <td>0</td>\n",
       "      <td>0</td>\n",
       "    </tr>\n",
       "    <tr>\n",
       "      <th>...</th>\n",
       "      <td>...</td>\n",
       "      <td>...</td>\n",
       "      <td>...</td>\n",
       "      <td>...</td>\n",
       "      <td>...</td>\n",
       "    </tr>\n",
       "    <tr>\n",
       "      <th>4334</th>\n",
       "      <td>13436</td>\n",
       "      <td>0</td>\n",
       "      <td>12</td>\n",
       "      <td>0</td>\n",
       "      <td>0</td>\n",
       "    </tr>\n",
       "    <tr>\n",
       "      <th>4335</th>\n",
       "      <td>15520</td>\n",
       "      <td>0</td>\n",
       "      <td>18</td>\n",
       "      <td>0</td>\n",
       "      <td>0</td>\n",
       "    </tr>\n",
       "    <tr>\n",
       "      <th>4336</th>\n",
       "      <td>13298</td>\n",
       "      <td>0</td>\n",
       "      <td>2</td>\n",
       "      <td>0</td>\n",
       "      <td>0</td>\n",
       "    </tr>\n",
       "    <tr>\n",
       "      <th>4337</th>\n",
       "      <td>14569</td>\n",
       "      <td>0</td>\n",
       "      <td>10</td>\n",
       "      <td>0</td>\n",
       "      <td>0</td>\n",
       "    </tr>\n",
       "    <tr>\n",
       "      <th>4338</th>\n",
       "      <td>12713</td>\n",
       "      <td>0</td>\n",
       "      <td>38</td>\n",
       "      <td>0</td>\n",
       "      <td>0</td>\n",
       "    </tr>\n",
       "  </tbody>\n",
       "</table>\n",
       "<p>4339 rows × 5 columns</p>\n",
       "</div>"
      ],
      "text/plain": [
       "     CustomerID  I  Unique_Products  Imax  E\n",
       "0         17850  0               21     0  0\n",
       "1         13047  0              106     0  0\n",
       "2         12583  0              115     0  0\n",
       "3         13748  0               24     0  0\n",
       "4         15100  0                1     0  0\n",
       "...         ... ..              ...   ... ..\n",
       "4334      13436  0               12     0  0\n",
       "4335      15520  0               18     0  0\n",
       "4336      13298  0                2     0  0\n",
       "4337      14569  0               10     0  0\n",
       "4338      12713  0               38     0  0\n",
       "\n",
       "[4339 rows x 5 columns]"
      ]
     },
     "execution_count": 34,
     "metadata": {},
     "output_type": "execute_result"
    }
   ],
   "source": [
    "data"
   ]
  }
 ],
 "metadata": {
  "kernelspec": {
   "display_name": "Python 3",
   "language": "python",
   "name": "python3"
  },
  "language_info": {
   "codemirror_mode": {
    "name": "ipython",
    "version": 3
   },
   "file_extension": ".py",
   "mimetype": "text/x-python",
   "name": "python",
   "nbconvert_exporter": "python",
   "pygments_lexer": "ipython3",
   "version": "3.8.4"
  }
 },
 "nbformat": 4,
 "nbformat_minor": 4
}
