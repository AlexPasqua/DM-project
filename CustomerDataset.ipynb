{
 "cells": [
  {
   "cell_type": "code",
   "execution_count": 1,
   "metadata": {},
   "outputs": [],
   "source": [
    "import math\n",
    "import numpy as np\n",
    "import pandas as pd\n",
    "import scipy.stats as stats\n",
    "import matplotlib.pyplot as plt\n",
    "from tqdm.notebook import tqdm\n",
    "import statistics as stat"
   ]
  },
  {
   "cell_type": "code",
   "execution_count": 2,
   "metadata": {},
   "outputs": [],
   "source": [
    "# Starting dataset\n",
    "df = pd.read_csv('cleaned_dataframe.csv', sep='\\t', index_col=0)"
   ]
  },
  {
   "cell_type": "code",
   "execution_count": 3,
   "metadata": {
    "pycharm": {
     "name": "#%%\n"
    }
   },
   "outputs": [
    {
     "data": {
      "text/html": [
       "<div>\n",
       "<style scoped>\n",
       "    .dataframe tbody tr th:only-of-type {\n",
       "        vertical-align: middle;\n",
       "    }\n",
       "\n",
       "    .dataframe tbody tr th {\n",
       "        vertical-align: top;\n",
       "    }\n",
       "\n",
       "    .dataframe thead th {\n",
       "        text-align: right;\n",
       "    }\n",
       "</style>\n",
       "<table border=\"1\" class=\"dataframe\">\n",
       "  <thead>\n",
       "    <tr style=\"text-align: right;\">\n",
       "      <th></th>\n",
       "      <th>BasketID</th>\n",
       "      <th>BasketDate</th>\n",
       "      <th>Sale</th>\n",
       "      <th>CustomerID</th>\n",
       "      <th>CustomerCountry</th>\n",
       "      <th>ProdID</th>\n",
       "      <th>ProdDescr</th>\n",
       "      <th>Qta</th>\n",
       "    </tr>\n",
       "  </thead>\n",
       "  <tbody>\n",
       "    <tr>\n",
       "      <th>0</th>\n",
       "      <td>536365</td>\n",
       "      <td>01/12/10 08:26</td>\n",
       "      <td>2.55</td>\n",
       "      <td>17850</td>\n",
       "      <td>United Kingdom</td>\n",
       "      <td>85123A</td>\n",
       "      <td>WHITE HANGING HEART T-LIGHT HOLDER</td>\n",
       "      <td>6</td>\n",
       "    </tr>\n",
       "    <tr>\n",
       "      <th>1</th>\n",
       "      <td>536365</td>\n",
       "      <td>01/12/10 08:26</td>\n",
       "      <td>3.39</td>\n",
       "      <td>17850</td>\n",
       "      <td>United Kingdom</td>\n",
       "      <td>71053</td>\n",
       "      <td>WHITE METAL LANTERN</td>\n",
       "      <td>6</td>\n",
       "    </tr>\n",
       "    <tr>\n",
       "      <th>2</th>\n",
       "      <td>536365</td>\n",
       "      <td>01/12/10 08:26</td>\n",
       "      <td>2.75</td>\n",
       "      <td>17850</td>\n",
       "      <td>United Kingdom</td>\n",
       "      <td>84406B</td>\n",
       "      <td>CREAM CUPID HEARTS COAT HANGER</td>\n",
       "      <td>8</td>\n",
       "    </tr>\n",
       "    <tr>\n",
       "      <th>3</th>\n",
       "      <td>536365</td>\n",
       "      <td>01/12/10 08:26</td>\n",
       "      <td>3.39</td>\n",
       "      <td>17850</td>\n",
       "      <td>United Kingdom</td>\n",
       "      <td>84029G</td>\n",
       "      <td>KNITTED UNION FLAG HOT WATER BOTTLE</td>\n",
       "      <td>6</td>\n",
       "    </tr>\n",
       "    <tr>\n",
       "      <th>4</th>\n",
       "      <td>536365</td>\n",
       "      <td>01/12/10 08:26</td>\n",
       "      <td>3.39</td>\n",
       "      <td>17850</td>\n",
       "      <td>United Kingdom</td>\n",
       "      <td>84029E</td>\n",
       "      <td>RED WOOLLY HOTTIE WHITE HEART.</td>\n",
       "      <td>6</td>\n",
       "    </tr>\n",
       "  </tbody>\n",
       "</table>\n",
       "</div>"
      ],
      "text/plain": [
       "  BasketID      BasketDate  Sale  CustomerID CustomerCountry  ProdID  \\\n",
       "0   536365  01/12/10 08:26  2.55       17850  United Kingdom  85123A   \n",
       "1   536365  01/12/10 08:26  3.39       17850  United Kingdom   71053   \n",
       "2   536365  01/12/10 08:26  2.75       17850  United Kingdom  84406B   \n",
       "3   536365  01/12/10 08:26  3.39       17850  United Kingdom  84029G   \n",
       "4   536365  01/12/10 08:26  3.39       17850  United Kingdom  84029E   \n",
       "\n",
       "                             ProdDescr  Qta  \n",
       "0   WHITE HANGING HEART T-LIGHT HOLDER    6  \n",
       "1                  WHITE METAL LANTERN    6  \n",
       "2       CREAM CUPID HEARTS COAT HANGER    8  \n",
       "3  KNITTED UNION FLAG HOT WATER BOTTLE    6  \n",
       "4       RED WOOLLY HOTTIE WHITE HEART.    6  "
      ]
     },
     "execution_count": 3,
     "metadata": {},
     "output_type": "execute_result"
    }
   ],
   "source": [
    "df.head()"
   ]
  },
  {
   "cell_type": "code",
   "execution_count": 4,
   "metadata": {
    "scrolled": true
   },
   "outputs": [
    {
     "name": "stdout",
     "output_type": "stream",
     "text": [
      "<class 'pandas.core.frame.DataFrame'>\n",
      "Int64Index: 400220 entries, 0 to 541909\n",
      "Data columns (total 8 columns):\n",
      " #   Column           Non-Null Count   Dtype  \n",
      "---  ------           --------------   -----  \n",
      " 0   BasketID         400220 non-null  object \n",
      " 1   BasketDate       400220 non-null  object \n",
      " 2   Sale             400220 non-null  float64\n",
      " 3   CustomerID       400220 non-null  int64  \n",
      " 4   CustomerCountry  400220 non-null  object \n",
      " 5   ProdID           400220 non-null  object \n",
      " 6   ProdDescr        400220 non-null  object \n",
      " 7   Qta              400220 non-null  int64  \n",
      "dtypes: float64(1), int64(2), object(5)\n",
      "memory usage: 19.8+ MB\n"
     ]
    }
   ],
   "source": [
    "df.info()"
   ]
  },
  {
   "cell_type": "code",
   "execution_count": 5,
   "metadata": {},
   "outputs": [
    {
     "name": "stdout",
     "output_type": "stream",
     "text": [
      "Number of unique customers:  4339\n"
     ]
    }
   ],
   "source": [
    "# Create the dataframe for customers\n",
    "data = pd.core.frame.DataFrame({'CustomerID' : df['CustomerID'].unique()})\n",
    "print(\"Number of unique customers: \", len(data))"
   ]
  },
  {
   "cell_type": "code",
   "execution_count": 6,
   "metadata": {},
   "outputs": [],
   "source": [
    "# TProd - handle negative Qta\n",
    "# TSale - handle negativa Qta\n",
    "\n",
    "# otptimize code, iteration over same object multiple times"
   ]
  },
  {
   "cell_type": "code",
   "execution_count": 7,
   "metadata": {},
   "outputs": [
    {
     "data": {
      "text/plain": [
       "50.5"
      ]
     },
     "execution_count": 7,
     "metadata": {},
     "output_type": "execute_result"
    }
   ],
   "source": [
    "stat.fmean([x for x in range(1,101)])"
   ]
  },
  {
   "cell_type": "code",
   "execution_count": 8,
   "metadata": {
    "pycharm": {
     "name": "#%%\n"
    },
    "scrolled": true
   },
   "outputs": [
    {
     "data": {
      "application/vnd.jupyter.widget-view+json": {
       "model_id": "371fdd52a72045e39ce93653998a474a",
       "version_major": 2,
       "version_minor": 0
      },
      "text/plain": [
       "HBox(children=(HTML(value='Iterating over customers'), FloatProgress(value=0.0, max=4339.0), HTML(value='')))"
      ]
     },
     "metadata": {},
     "output_type": "display_data"
    },
    {
     "name": "stdout",
     "output_type": "stream",
     "text": [
      "\n"
     ]
    }
   ],
   "source": [
    "unique_products = []\n",
    "unique_products_ret = []\n",
    "total_products = []\n",
    "total_sale = []\n",
    "total_sale_wret = []\n",
    "total_returned = []\n",
    "min_spent = []\n",
    "max_spent = []\n",
    "total_orders = []\n",
    "mean_prod_sale = []\n",
    "for customer in tqdm(df['CustomerID'].unique(), total=len(data), desc=\"Iterating over customers\"):\n",
    "    unique_products.append(len(df.loc[df['CustomerID'] == customer, ['ProdID']].drop_duplicates()))\n",
    "    unique_products_ret.append(len(df.loc[(df['CustomerID'] == customer) & (df['Qta'] < 0), ['ProdID']].drop_duplicates()))\n",
    "    total_orders.append(len(df.loc[(df['CustomerID'] == customer) & (df['Qta'] > 0), ['BasketID']].drop_duplicates()))\n",
    "    \n",
    "    total_products.append(sum(x for x in df.loc[df['CustomerID'] == customer, ['Qta']]['Qta']))\n",
    "    total_returned.append(sum(1 for x in df.loc[df['CustomerID'] == customer, ['Qta']]['Qta'] if x<0))\n",
    "    \n",
    "    total_sale.append(sum(r['Qta']*r['Sale'] for _, r in df.loc[df['CustomerID'] == customer, ['Qta', 'Sale']].iterrows()))\n",
    "    total_sale_wret.append(sum(r['Qta']*r['Sale'] for _, r in df.loc[df['CustomerID'] == customer, ['Qta', 'Sale']].iterrows() if r['Qta']>0))\n",
    "    min_spent.append(min(r['Qta']*r['Sale'] for _, r in df.loc[df['CustomerID'] == customer, ['Qta', 'Sale']].iterrows() if r['Qta'] > 0))\n",
    "    max_spent.append(max(r['Qta']*r['Sale'] for _, r in df.loc[df['CustomerID'] == customer, ['Qta', 'Sale']].iterrows() if r['Qta'] > 0))\n",
    "    mean_prod_sale.append(stat.fmean(r['Sale'] for _, r in df.loc[df['CustomerID'] == customer, ['Qta', 'Sale']].iterrows() if r['Qta'] > 0))"
   ]
  },
  {
   "cell_type": "code",
   "execution_count": 9,
   "metadata": {},
   "outputs": [],
   "source": [
    "# I: the total number of items purchased by a customer during the period of observation.\n",
    "data['TProd'] = total_products"
   ]
  },
  {
   "cell_type": "code",
   "execution_count": 10,
   "metadata": {},
   "outputs": [],
   "source": [
    "# Iu: the number of distinct items bought by a customer in the period of observation.\n",
    "data['DProd'] = unique_products"
   ]
  },
  {
   "cell_type": "code",
   "execution_count": 11,
   "metadata": {},
   "outputs": [],
   "source": [
    "# Imax: the maximum number of items purchased by a customer during a shopping session"
   ]
  },
  {
   "cell_type": "code",
   "execution_count": 12,
   "metadata": {},
   "outputs": [],
   "source": [
    "# E: the Shannon entropy on the purchasing behaviour of the customer"
   ]
  },
  {
   "cell_type": "code",
   "execution_count": 13,
   "metadata": {},
   "outputs": [],
   "source": [
    "# ProdPerOrderMean: mean number of items purchased by a customer during a shopping session"
   ]
  },
  {
   "cell_type": "code",
   "execution_count": 14,
   "metadata": {},
   "outputs": [],
   "source": [
    "# SaleTot: total amount spent during the period of observation\n",
    "data['TSale'] = total_sale"
   ]
  },
  {
   "cell_type": "code",
   "execution_count": 15,
   "metadata": {},
   "outputs": [],
   "source": [
    "# SaleTotWithoutReturn: total amount spent without negative quantity during the period of observation\n",
    "data['TSaleWRet'] = total_sale_wret"
   ]
  },
  {
   "cell_type": "code",
   "execution_count": 16,
   "metadata": {},
   "outputs": [],
   "source": [
    "# SaleMin: min amount spent during the shopping session\n",
    "data['MinSale'] = min_spent"
   ]
  },
  {
   "cell_type": "code",
   "execution_count": 17,
   "metadata": {},
   "outputs": [],
   "source": [
    "# SaleMax: max amount spent during the shopping session\n",
    "data['MaxSale'] = max_spent"
   ]
  },
  {
   "cell_type": "code",
   "execution_count": 18,
   "metadata": {},
   "outputs": [],
   "source": [
    "# SaleMeanPerOrder: mean amount spent for each order during the period of observation"
   ]
  },
  {
   "cell_type": "code",
   "execution_count": 19,
   "metadata": {},
   "outputs": [],
   "source": [
    "# NumRetProd: number of returned products in the period of observation\n",
    "data['TRProd'] = total_returned"
   ]
  },
  {
   "cell_type": "code",
   "execution_count": 20,
   "metadata": {},
   "outputs": [],
   "source": [
    "# NumDistRetProd: number of distinct returned products in the period of observation\n",
    "data['TRDProd'] = unique_products_ret"
   ]
  },
  {
   "cell_type": "code",
   "execution_count": 21,
   "metadata": {},
   "outputs": [],
   "source": [
    "# MeanProdCostInOrder: mean cost of the products in the orders\n",
    "data['MeanProdSale'] = mean_prod_sale"
   ]
  },
  {
   "cell_type": "code",
   "execution_count": 22,
   "metadata": {},
   "outputs": [],
   "source": [
    "# NumberOfOrders: total number of orders made by customer\n",
    "data['TOrder'] = total_orders"
   ]
  },
  {
   "cell_type": "code",
   "execution_count": 23,
   "metadata": {},
   "outputs": [],
   "source": [
    "# OrderPerMonth"
   ]
  },
  {
   "cell_type": "code",
   "execution_count": 24,
   "metadata": {},
   "outputs": [],
   "source": [
    "# ProductPerMonth"
   ]
  },
  {
   "cell_type": "code",
   "execution_count": 25,
   "metadata": {},
   "outputs": [],
   "source": [
    "# PrizePerMonth"
   ]
  },
  {
   "cell_type": "code",
   "execution_count": 26,
   "metadata": {},
   "outputs": [],
   "source": [
    "# OrderPerTrimester"
   ]
  },
  {
   "cell_type": "code",
   "execution_count": 27,
   "metadata": {},
   "outputs": [],
   "source": [
    "# ProductPerTrimester"
   ]
  },
  {
   "cell_type": "code",
   "execution_count": 28,
   "metadata": {},
   "outputs": [],
   "source": [
    "# PrizePerTrimester"
   ]
  },
  {
   "cell_type": "code",
   "execution_count": 29,
   "metadata": {},
   "outputs": [],
   "source": [
    "# OrderPerTrimester 2-3"
   ]
  },
  {
   "cell_type": "code",
   "execution_count": 30,
   "metadata": {},
   "outputs": [],
   "source": [
    "# ProductPerTrimester 2-3"
   ]
  },
  {
   "cell_type": "code",
   "execution_count": 31,
   "metadata": {},
   "outputs": [],
   "source": [
    "# PrizePerTrimester 2-3"
   ]
  },
  {
   "cell_type": "code",
   "execution_count": 32,
   "metadata": {},
   "outputs": [],
   "source": [
    "# CustomerCounty : value from original dataframe\n",
    "#data['CustomerCountry'] = ''\n",
    "#data = data.join(pd.core.frame.DataFrame({'CustomerID':df['CustomerID'], 'CustomerCountry':df['CustomerCountry']}).drop_duplicates().set_index('CustomerID'), on='CustomerID')\n",
    "\n",
    "#tmp = pd.core.frame.DataFrame({'CustomerID':df['CustomerID'], 'CustomerCountry':df['CustomerCountry']}).drop_duplicates()\n",
    "#tmp['CustomerID'].value_counts()[0:8]\n",
    "# 4372 distinct customers - 4380 elements in tmp\n",
    "# 8 customers have two different nationalities\n",
    "\n",
    "# Find entries with multiple nationality\n",
    "#counts = tmp['CustomerID'].value_counts().items()\n",
    "#count_dict = {x[0]:x[1] for x in counts}\n",
    "#for _, row in tmp.sort_values(by=['CustomerID']).iterrows():\n",
    "#    if count_dict[row['CustomerID']] > 1:\n",
    "#        print(f\"{row['CustomerID']}-{row['CustomerCountry']}\")"
   ]
  },
  {
   "cell_type": "code",
   "execution_count": 33,
   "metadata": {
    "scrolled": false
   },
   "outputs": [
    {
     "data": {
      "text/html": [
       "<div>\n",
       "<style scoped>\n",
       "    .dataframe tbody tr th:only-of-type {\n",
       "        vertical-align: middle;\n",
       "    }\n",
       "\n",
       "    .dataframe tbody tr th {\n",
       "        vertical-align: top;\n",
       "    }\n",
       "\n",
       "    .dataframe thead th {\n",
       "        text-align: right;\n",
       "    }\n",
       "</style>\n",
       "<table border=\"1\" class=\"dataframe\">\n",
       "  <thead>\n",
       "    <tr style=\"text-align: right;\">\n",
       "      <th></th>\n",
       "      <th>CustomerID</th>\n",
       "      <th>TProd</th>\n",
       "      <th>DProd</th>\n",
       "      <th>TSale</th>\n",
       "      <th>TSaleWRet</th>\n",
       "      <th>MinSale</th>\n",
       "      <th>MaxSale</th>\n",
       "      <th>TRProd</th>\n",
       "      <th>TRDProd</th>\n",
       "      <th>MeanProdSale</th>\n",
       "      <th>TOrder</th>\n",
       "    </tr>\n",
       "  </thead>\n",
       "  <tbody>\n",
       "    <tr>\n",
       "      <th>0</th>\n",
       "      <td>17850</td>\n",
       "      <td>1702</td>\n",
       "      <td>21</td>\n",
       "      <td>5317.89</td>\n",
       "      <td>5391.21</td>\n",
       "      <td>6.36</td>\n",
       "      <td>107.25</td>\n",
       "      <td>8</td>\n",
       "      <td>6</td>\n",
       "      <td>3.960370</td>\n",
       "      <td>34</td>\n",
       "    </tr>\n",
       "    <tr>\n",
       "      <th>1</th>\n",
       "      <td>13047</td>\n",
       "      <td>1356</td>\n",
       "      <td>106</td>\n",
       "      <td>3094.05</td>\n",
       "      <td>3237.54</td>\n",
       "      <td>4.95</td>\n",
       "      <td>68.00</td>\n",
       "      <td>23</td>\n",
       "      <td>20</td>\n",
       "      <td>3.932035</td>\n",
       "      <td>10</td>\n",
       "    </tr>\n",
       "    <tr>\n",
       "      <th>2</th>\n",
       "      <td>12583</td>\n",
       "      <td>5009</td>\n",
       "      <td>115</td>\n",
       "      <td>7187.34</td>\n",
       "      <td>7281.38</td>\n",
       "      <td>6.80</td>\n",
       "      <td>132.80</td>\n",
       "      <td>4</td>\n",
       "      <td>4</td>\n",
       "      <td>3.103603</td>\n",
       "      <td>15</td>\n",
       "    </tr>\n",
       "    <tr>\n",
       "      <th>3</th>\n",
       "      <td>13748</td>\n",
       "      <td>439</td>\n",
       "      <td>24</td>\n",
       "      <td>948.25</td>\n",
       "      <td>948.25</td>\n",
       "      <td>9.36</td>\n",
       "      <td>204.00</td>\n",
       "      <td>0</td>\n",
       "      <td>0</td>\n",
       "      <td>3.996429</td>\n",
       "      <td>5</td>\n",
       "    </tr>\n",
       "    <tr>\n",
       "      <th>4</th>\n",
       "      <td>15100</td>\n",
       "      <td>58</td>\n",
       "      <td>1</td>\n",
       "      <td>635.10</td>\n",
       "      <td>876.00</td>\n",
       "      <td>175.20</td>\n",
       "      <td>350.40</td>\n",
       "      <td>3</td>\n",
       "      <td>1</td>\n",
       "      <td>10.950000</td>\n",
       "      <td>3</td>\n",
       "    </tr>\n",
       "    <tr>\n",
       "      <th>...</th>\n",
       "      <td>...</td>\n",
       "      <td>...</td>\n",
       "      <td>...</td>\n",
       "      <td>...</td>\n",
       "      <td>...</td>\n",
       "      <td>...</td>\n",
       "      <td>...</td>\n",
       "      <td>...</td>\n",
       "      <td>...</td>\n",
       "      <td>...</td>\n",
       "      <td>...</td>\n",
       "    </tr>\n",
       "    <tr>\n",
       "      <th>4334</th>\n",
       "      <td>13436</td>\n",
       "      <td>76</td>\n",
       "      <td>12</td>\n",
       "      <td>196.89</td>\n",
       "      <td>196.89</td>\n",
       "      <td>10.20</td>\n",
       "      <td>25.50</td>\n",
       "      <td>0</td>\n",
       "      <td>0</td>\n",
       "      <td>5.830000</td>\n",
       "      <td>1</td>\n",
       "    </tr>\n",
       "    <tr>\n",
       "      <th>4335</th>\n",
       "      <td>15520</td>\n",
       "      <td>314</td>\n",
       "      <td>18</td>\n",
       "      <td>343.50</td>\n",
       "      <td>343.50</td>\n",
       "      <td>9.48</td>\n",
       "      <td>34.68</td>\n",
       "      <td>0</td>\n",
       "      <td>0</td>\n",
       "      <td>1.724444</td>\n",
       "      <td>1</td>\n",
       "    </tr>\n",
       "    <tr>\n",
       "      <th>4336</th>\n",
       "      <td>13298</td>\n",
       "      <td>96</td>\n",
       "      <td>2</td>\n",
       "      <td>360.00</td>\n",
       "      <td>360.00</td>\n",
       "      <td>90.00</td>\n",
       "      <td>270.00</td>\n",
       "      <td>0</td>\n",
       "      <td>0</td>\n",
       "      <td>3.750000</td>\n",
       "      <td>1</td>\n",
       "    </tr>\n",
       "    <tr>\n",
       "      <th>4337</th>\n",
       "      <td>14569</td>\n",
       "      <td>79</td>\n",
       "      <td>10</td>\n",
       "      <td>227.39</td>\n",
       "      <td>227.39</td>\n",
       "      <td>1.65</td>\n",
       "      <td>122.40</td>\n",
       "      <td>0</td>\n",
       "      <td>0</td>\n",
       "      <td>3.920000</td>\n",
       "      <td>1</td>\n",
       "    </tr>\n",
       "    <tr>\n",
       "      <th>4338</th>\n",
       "      <td>12713</td>\n",
       "      <td>508</td>\n",
       "      <td>38</td>\n",
       "      <td>848.55</td>\n",
       "      <td>848.55</td>\n",
       "      <td>5.04</td>\n",
       "      <td>71.70</td>\n",
       "      <td>0</td>\n",
       "      <td>0</td>\n",
       "      <td>2.503421</td>\n",
       "      <td>1</td>\n",
       "    </tr>\n",
       "  </tbody>\n",
       "</table>\n",
       "<p>4339 rows × 11 columns</p>\n",
       "</div>"
      ],
      "text/plain": [
       "      CustomerID  TProd  DProd    TSale  TSaleWRet  MinSale  MaxSale  TRProd  \\\n",
       "0          17850   1702     21  5317.89    5391.21     6.36   107.25       8   \n",
       "1          13047   1356    106  3094.05    3237.54     4.95    68.00      23   \n",
       "2          12583   5009    115  7187.34    7281.38     6.80   132.80       4   \n",
       "3          13748    439     24   948.25     948.25     9.36   204.00       0   \n",
       "4          15100     58      1   635.10     876.00   175.20   350.40       3   \n",
       "...          ...    ...    ...      ...        ...      ...      ...     ...   \n",
       "4334       13436     76     12   196.89     196.89    10.20    25.50       0   \n",
       "4335       15520    314     18   343.50     343.50     9.48    34.68       0   \n",
       "4336       13298     96      2   360.00     360.00    90.00   270.00       0   \n",
       "4337       14569     79     10   227.39     227.39     1.65   122.40       0   \n",
       "4338       12713    508     38   848.55     848.55     5.04    71.70       0   \n",
       "\n",
       "      TRDProd  MeanProdSale  TOrder  \n",
       "0           6      3.960370      34  \n",
       "1          20      3.932035      10  \n",
       "2           4      3.103603      15  \n",
       "3           0      3.996429       5  \n",
       "4           1     10.950000       3  \n",
       "...       ...           ...     ...  \n",
       "4334        0      5.830000       1  \n",
       "4335        0      1.724444       1  \n",
       "4336        0      3.750000       1  \n",
       "4337        0      3.920000       1  \n",
       "4338        0      2.503421       1  \n",
       "\n",
       "[4339 rows x 11 columns]"
      ]
     },
     "execution_count": 33,
     "metadata": {},
     "output_type": "execute_result"
    }
   ],
   "source": [
    "data"
   ]
  }
 ],
 "metadata": {
  "kernelspec": {
   "display_name": "Python 3",
   "language": "python",
   "name": "python3"
  },
  "language_info": {
   "codemirror_mode": {
    "name": "ipython",
    "version": 3
   },
   "file_extension": ".py",
   "mimetype": "text/x-python",
   "name": "python",
   "nbconvert_exporter": "python",
   "pygments_lexer": "ipython3",
   "version": "3.8.4"
  }
 },
 "nbformat": 4,
 "nbformat_minor": 4
}
