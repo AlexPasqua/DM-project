{
 "cells": [
  {
   "cell_type": "code",
   "execution_count": 1,
   "metadata": {},
   "outputs": [],
   "source": [
    "import math\n",
    "import numpy as np\n",
    "import pandas as pd\n",
    "import scipy.stats as stats\n",
    "import matplotlib.pyplot as plt\n",
    "from tqdm.notebook import tqdm\n",
    "import statistics as stat\n",
    "import seaborn as sns"
   ]
  },
  {
   "cell_type": "code",
   "execution_count": 2,
   "metadata": {},
   "outputs": [],
   "source": [
    "# Starting dataset\n",
    "df = pd.read_csv('cleaned_dataframe.csv', sep='\\t', index_col=0)"
   ]
  },
  {
   "cell_type": "code",
   "execution_count": null,
   "metadata": {
    "pycharm": {
     "name": "#%%\n"
    }
   },
   "outputs": [],
   "source": [
    "df.head()"
   ]
  },
  {
   "cell_type": "code",
   "execution_count": null,
   "metadata": {
    "scrolled": true
   },
   "outputs": [],
   "source": [
    "df.info()"
   ]
  },
  {
   "cell_type": "code",
   "execution_count": 3,
   "metadata": {},
   "outputs": [
    {
     "name": "stdout",
     "output_type": "stream",
     "text": [
      "Number of unique customers:  4339\n",
      "Number of unique customers:  4339\n"
     ]
    }
   ],
   "source": [
    "# Create the dataframe for customers\n",
    "data = pd.core.frame.DataFrame({'CustomerID' : df['CustomerID'].unique()})\n",
    "print(\"Number of unique customers: \", len(data))"
   ]
  },
  {
   "cell_type": "code",
   "execution_count": 6,
   "metadata": {},
   "outputs": [
    {
     "name": "stdout",
     "output_type": "stream",
     "text": [
      "<class 'pandas.core.frame.DataFrame'>\n",
      "Int64Index: 400288 entries, 0 to 541909\n",
      "Data columns (total 8 columns):\n",
      " #   Column           Non-Null Count   Dtype  \n",
      "---  ------           --------------   -----  \n",
      " 0   BasketID         400288 non-null  object \n",
      " 1   BasketDate       400288 non-null  object \n",
      " 2   Sale             400288 non-null  float64\n",
      " 3   CustomerID       400288 non-null  int64  \n",
      " 4   CustomerCountry  400288 non-null  object \n",
      " 5   ProdID           400288 non-null  object \n",
      " 6   ProdDescr        400288 non-null  object \n",
      " 7   Qta              400288 non-null  int64  \n",
      "dtypes: float64(1), int64(2), object(5)\n",
      "memory usage: 27.5+ MB\n",
      "<class 'pandas.core.frame.DataFrame'>\n",
      "Int64Index: 400288 entries, 0 to 541909\n",
      "Data columns (total 8 columns):\n",
      " #   Column           Non-Null Count   Dtype  \n",
      "---  ------           --------------   -----  \n",
      " 0   BasketID         400288 non-null  object \n",
      " 1   BasketDate       400288 non-null  object \n",
      " 2   Sale             400288 non-null  float64\n",
      " 3   CustomerID       400288 non-null  int64  \n",
      " 4   CustomerCountry  400288 non-null  object \n",
      " 5   ProdID           400288 non-null  object \n",
      " 6   ProdDescr        400288 non-null  object \n",
      " 7   Qta              400288 non-null  int64  \n",
      "dtypes: float64(1), int64(2), object(5)\n",
      "memory usage: 27.5+ MB\n"
     ]
    }
   ],
   "source": [
    "# Handle Discount"
   ]
  },
  {
   "cell_type": "code",
   "execution_count": 34,
   "metadata": {
    "scrolled": true
   },
   "outputs": [
    {
     "data": {
      "application/vnd.jupyter.widget-view+json": {
       "model_id": "4a7e37ad41714c1e8718e649102f2ceb",
       "version_major": 2,
       "version_minor": 0
      },
      "text/plain": [
       "HBox(children=(HTML(value='Iterating over customers'), FloatProgress(value=0.0, max=4339.0), HTML(value='')))"
      ]
     },
     "metadata": {},
     "output_type": "display_data"
    },
    {
     "data": {
      "application/vnd.jupyter.widget-view+json": {
       "model_id": "4a7e37ad41714c1e8718e649102f2ceb",
       "version_major": 2,
       "version_minor": 0
      },
      "text/plain": [
       "HBox(children=(HTML(value='Iterating over customers'), FloatProgress(value=0.0, max=4339.0), HTML(value='')))"
      ]
     },
     "metadata": {},
     "output_type": "display_data"
    },
    {
     "name": "stdout",
     "output_type": "stream",
     "text": [
      "\n"
     ]
    },
    {
     "data": {
      "text/plain": [
       "[14527,\n",
       " 16029,\n",
       " 13408,\n",
       " 13694,\n",
       " 14911,\n",
       " 14031,\n",
       " 15299,\n",
       " 16013,\n",
       " 16422,\n",
       " 17450,\n",
       " 15838,\n",
       " 15498,\n",
       " 17340,\n",
       " 16684,\n",
       " 14646,\n",
       " 13137,\n",
       " 17940,\n",
       " 15796,\n",
       " 12901,\n",
       " 16672,\n",
       " 13316,\n",
       " 14912,\n",
       " 12830,\n",
       " 18167]"
      ]
     },
     "execution_count": 34,
     "metadata": {},
     "output_type": "execute_result"
    },
    {
     "name": "stdout",
     "output_type": "stream",
     "text": [
      "\n"
     ]
    },
    {
     "data": {
      "text/plain": [
       "[14527,\n",
       " 16029,\n",
       " 13408,\n",
       " 13694,\n",
       " 14911,\n",
       " 14031,\n",
       " 15299,\n",
       " 16013,\n",
       " 16422,\n",
       " 17450,\n",
       " 15838,\n",
       " 15498,\n",
       " 17340,\n",
       " 16684,\n",
       " 14646,\n",
       " 13137,\n",
       " 17940,\n",
       " 15796,\n",
       " 12901,\n",
       " 16672,\n",
       " 13316,\n",
       " 14912,\n",
       " 12830,\n",
       " 18167]"
      ]
     },
     "execution_count": 34,
     "metadata": {},
     "output_type": "execute_result"
    }
   ],
   "source": [
    "# test block on discount stuff\n",
    "\n",
    "unique_products = []\n",
    "for customer in tqdm(df['CustomerID'].unique(), total=len(data), desc=\"Iterating over customers\"):\n",
    "    # use set ?\n",
    "    #df_temp = (df.loc[(df['CustomerID'] == customer), ['ProdID']].drop_duplicates())\n",
    "    #unique_products.append(df_temp.loc[df_temp['ProdID'] != 'D'].to_numpy())\n",
    "    #unique_products.append(df.loc[(df['CustomerID'] == customer) & (df['ProdID'] != 'D'), ['ProdID']].drop_duplicates())\n",
    "    tmp = (df.loc[(df['CustomerID'] == customer), ['ProdID']].drop_duplicates())\n",
    "    val1 = len(tmp)\n",
    "    val2 = len(tmp.loc[tmp['ProdID'] != 'D'])\n",
    "    if val1 != val2:\n",
    "        custlist.append(customer)\n",
    "custlist"
   ]
  },
  {
   "cell_type": "code",
   "execution_count": 40,
   "metadata": {
    "pycharm": {
     "name": "#%%\n"
    },
    "scrolled": true
   },
   "outputs": [
    {
     "data": {
      "application/vnd.jupyter.widget-view+json": {
       "model_id": "f800987d0c85463ca87631b97e711ae1",
       "version_major": 2,
       "version_minor": 0
      },
      "text/plain": [
       "HBox(children=(HTML(value='Iterating over customers'), FloatProgress(value=0.0, max=4339.0), HTML(value='')))"
      ]
     },
     "metadata": {},
     "output_type": "display_data"
    },
    {
     "data": {
      "application/vnd.jupyter.widget-view+json": {
       "model_id": "f800987d0c85463ca87631b97e711ae1",
       "version_major": 2,
       "version_minor": 0
      },
      "text/plain": [
       "HBox(children=(HTML(value='Iterating over customers'), FloatProgress(value=0.0, max=4339.0), HTML(value='')))"
      ]
     },
     "metadata": {},
     "output_type": "display_data"
    },
    {
     "name": "stdout",
     "output_type": "stream",
     "text": [
      "\n",
      "\n"
     ]
    }
   ],
   "source": [
    "unique_products = []\n",
    "unique_products_ret = []\n",
    "total_products = []\n",
    "total_sale = []\n",
    "total_sale_wret = []\n",
    "total_prod_returned = []\n",
    "min_prod_spent = []\n",
    "max_prod_spent = []\n",
    "total_orders = []\n",
    "mean_prod_sale = []\n",
    "\n",
    "#Discount shouldn't be part of products bought nor returned \n",
    "for customer in tqdm(df['CustomerID'].unique(), total=len(data), desc=\"Iterating over customers\"):\n",
    "    # use set ?\n",
    "    # dividing filters instead of conjuncting them is MUCH FASTER\n",
    "    df_temp = df.loc[df['CustomerID'] == customer, ['ProdID']].drop_duplicates()\n",
    "    unique_products.append(len(df_temp.loc[df_temp['ProdID'] != 'D']))\n",
    "    \n",
    "    df_temp = df.loc[(df['CustomerID'] == customer) & (df['Qta'] < 0), ['ProdID']].drop_duplicates()\n",
    "    unique_products_ret.append(len(df_temp.loc[df_temp['ProdID'] != 'D']))\n",
    "    \n",
    "    \n",
    "    # discount are counted in total orders\n",
    "    total_orders.append(len(df.loc[(df['CustomerID'] == customer) & (df['Qta'] > 0), ['BasketID']].drop_duplicates()))\n",
    "    \n",
    "    \n",
    "    # discount values are useful in meanps and tswr\n",
    "    # discount values are NOT useful in mps, since they would always be the min value\n",
    "    # discount values are useful in ts but have to be avoided in tp (not a real product)\n",
    "    df_aux = df.loc[df['CustomerID'] == customer, ['Qta', 'Sale','ProdID']]\n",
    "    tp = tpr = ts = tswr = 0\n",
    "    mps = []\n",
    "    meanps = []\n",
    "    for _, r in df_aux.iterrows():\n",
    "        cost = r['Qta']*r['Sale']\n",
    "        tp += r['Qta'] if r['ProdID'] != 'D' else 0\n",
    "        ts += cost\n",
    "        if r['Qta'] > 0 or r['ProdID'] == 'D':\n",
    "            tswr += cost\n",
    "            meanps.append(r['Sale'])\n",
    "            if r['Qta'] > 0: # not DISCOUNT\n",
    "                mps.append(cost)\n",
    "        else:\n",
    "            tpr += 1 # or -r['Qta']\n",
    "            \n",
    "    total_products.append(tp)\n",
    "    total_prod_returned.append(tpr)\n",
    "    total_sale.append(ts)\n",
    "    total_sale_wret.append(tswr)\n",
    "    min_prod_spent.append(min(mps))\n",
    "    max_prod_spent.append(max(mps))\n",
    "    mean_prod_sale.append(stat.fmean(meanps)) "
   ]
  },
  {
   "cell_type": "code",
   "execution_count": 39,
   "metadata": {},
   "outputs": [
    {
     "data": {
      "application/vnd.jupyter.widget-view+json": {
       "model_id": "30b9eaae7bd2478fb62a645b885a58a7",
       "version_major": 2,
       "version_minor": 0
      },
      "text/plain": [
       "HBox(children=(HTML(value='Iterating over orders'), FloatProgress(value=0.0, max=21736.0), HTML(value='')))"
      ]
     },
     "metadata": {},
     "output_type": "display_data"
    },
    {
     "data": {
      "application/vnd.jupyter.widget-view+json": {
       "model_id": "30b9eaae7bd2478fb62a645b885a58a7",
       "version_major": 2,
       "version_minor": 0
      },
      "text/plain": [
       "HBox(children=(HTML(value='Iterating over orders'), FloatProgress(value=0.0, max=21736.0), HTML(value='')))"
      ]
     },
     "metadata": {},
     "output_type": "display_data"
    },
    {
     "name": "stdout",
     "output_type": "stream",
     "text": [
      "\n",
      "\n"
     ]
    }
   ],
   "source": [
    "order_stats_per_customer = {} # key = customerID, value = list(max_products_order, min, mean_accum, max_spent_order, min, mean_accum, mean_counter) \n",
    "mean_counter = 0\n",
    "data_about_order = df[['BasketID','CustomerID']].drop_duplicates()\n",
    "\n",
    "######################################################################################################################################\n",
    "#what about discount? no sense reasoning about those records if calculating max/min qta/sale, but reasonable to add them in mean calc#\n",
    "######################################################################################################################################\n",
    "\n",
    "for _, r in tqdm(data_about_order.iterrows(), total=len(data_about_order), desc=\"Iterating over orders\"):\n",
    "    customer = r[\"CustomerID\"]\n",
    "    order = r[\"BasketID\"]\n",
    "    df_aux = df.loc[(df['BasketID'] == order) & (df['CustomerID'] == customer), ['Qta','Sale','ProdID']]  \n",
    "    temp_prod = 0\n",
    "    temp_sale = 0 \n",
    "    \n",
    "    for _, int_r in df_aux.iterrows():\n",
    "        temp_prod += int_r['Qta']\n",
    "        temp_sale += int_r['Qta']*int_r['Sale']\n",
    "        \n",
    "    is_neg = False\n",
    "    if temp_prod < 0 or temp_sale < 0:\n",
    "        is_neg = True  \n",
    "    \n",
    "    if customer not in order_stats_per_customer:\n",
    "        order_stats_per_customer[customer] = [math.inf, math.inf, 0, math.inf, math.inf, 0, 0]\n",
    "        \n",
    "    if not is_neg:\n",
    "        if order_stats_per_customer[customer][0] == math.inf or order_stats_per_customer[customer][0] < temp_prod:\n",
    "            order_stats_per_customer[customer][0] = temp_prod\n",
    "        if order_stats_per_customer[customer][1] == math.inf or order_stats_per_customer[customer][1] > temp_prod:\n",
    "            order_stats_per_customer[customer][1] = temp_prod\n",
    "        if order_stats_per_customer[customer][3] == math.inf or order_stats_per_customer[customer][3] < temp_sale:\n",
    "            order_stats_per_customer[customer][3] = temp_sale\n",
    "        if order_stats_per_customer[customer][4] == math.inf or order_stats_per_customer[customer][4] > temp_sale:\n",
    "            order_stats_per_customer[customer][4] = temp_sale\n",
    "            \n",
    "    order_stats_per_customer[customer][2] += temp_prod\n",
    "    order_stats_per_customer[customer][5] += temp_sale\n",
    "    order_stats_per_customer[customer][6] += 1"
   ]
  },
  {
   "cell_type": "code",
   "execution_count": 41,
   "metadata": {},
   "outputs": [
    {
     "data": {
      "application/vnd.jupyter.widget-view+json": {
       "model_id": "ce52b0d86aaf488394abaabbe76628cf",
       "version_major": 2,
       "version_minor": 0
      },
      "text/plain": [
       "HBox(children=(HTML(value='Iterating over customers'), FloatProgress(value=0.0, max=4339.0), HTML(value='')))"
      ]
     },
     "metadata": {},
     "output_type": "display_data"
    },
    {
     "data": {
      "application/vnd.jupyter.widget-view+json": {
       "model_id": "ce52b0d86aaf488394abaabbe76628cf",
       "version_major": 2,
       "version_minor": 0
      },
      "text/plain": [
       "HBox(children=(HTML(value='Iterating over customers'), FloatProgress(value=0.0, max=4339.0), HTML(value='')))"
      ]
     },
     "metadata": {},
     "output_type": "display_data"
    },
    {
     "name": "stdout",
     "output_type": "stream",
     "text": [
      "\n",
      "\n"
     ]
    }
   ],
   "source": [
    "max_spent_order_wise = []\n",
    "min_spent_order_wise = []\n",
    "mean_spent_order_wise = []\n",
    "max_products_order_wise = []\n",
    "min_products_order_wise = []\n",
    "mean_products_order_wise = []\n",
    "\n",
    "for customer in tqdm(df['CustomerID'].unique(), total=len(data), desc=\"Iterating over customers\"):\n",
    "    max_products_order_wise.append(order_stats_per_customer[customer][0])\n",
    "    min_products_order_wise.append(order_stats_per_customer[customer][1])\n",
    "    mean_products_order_wise.append(order_stats_per_customer[customer][2] / order_stats_per_customer[customer][6])\n",
    "    max_spent_order_wise.append(order_stats_per_customer[customer][3])\n",
    "    min_spent_order_wise.append(order_stats_per_customer[customer][4])\n",
    "    mean_spent_order_wise.append(order_stats_per_customer[customer][5] / order_stats_per_customer[customer][6])"
   ]
  },
  {
   "cell_type": "code",
   "execution_count": 42,
   "metadata": {},
   "outputs": [
    {
     "data": {
      "application/vnd.jupyter.widget-view+json": {
       "model_id": "1ea145a8a7d14d508ab272fa4a25eb0a",
       "version_major": 2,
       "version_minor": 0
      },
      "text/plain": [
       "HBox(children=(HTML(value='Iterating over customers'), FloatProgress(value=0.0, max=4339.0), HTML(value='')))"
      ]
     },
     "metadata": {},
     "output_type": "display_data"
    },
    {
     "data": {
      "application/vnd.jupyter.widget-view+json": {
       "model_id": "1ea145a8a7d14d508ab272fa4a25eb0a",
       "version_major": 2,
       "version_minor": 0
      },
      "text/plain": [
       "HBox(children=(HTML(value='Iterating over customers'), FloatProgress(value=0.0, max=4339.0), HTML(value='')))"
      ]
     },
     "metadata": {},
     "output_type": "display_data"
    },
    {
     "name": "stdout",
     "output_type": "stream",
     "text": [
      "\n",
      "\n"
     ]
    }
   ],
   "source": [
    "mean_order_month = []\n",
    "mean_prod_month = []\n",
    "mean_sale_month = []\n",
    "for customer in tqdm(df['CustomerID'].unique(), total=len(data), desc=\"Iterating over customers\"):\n",
    "    order_per_month = []\n",
    "    prod_per_month = []\n",
    "    sale_per_month = []\n",
    "    df_aux = df.loc[df['CustomerID'] == customer, ['BasketDate', 'BasketID', 'ProdID', 'Sale', 'Qta']]\n",
    "    for month in range(1, 13):\n",
    "        tot = 0\n",
    "        orders = set()\n",
    "        prods = set()\n",
    "        for _, r in df_aux.iterrows():\n",
    "             if r['BasketDate'][3:5] == str(month):\n",
    "                orders.add(r['BasketID'])\n",
    "                prods.add(r['ProdID'])\n",
    "                tot += r['Qta']*r['Sale']\n",
    "        order_per_month.append(len(orders))\n",
    "        prod_per_month.append(len(prods))\n",
    "        sale_per_month.append(tot)\n",
    "    mean_order_month.append(stat.fmean(order_per_month))\n",
    "    mean_prod_month.append(stat.fmean(prod_per_month))\n",
    "    mean_sale_month.append(stat.fmean(sale_per_month))"
   ]
  },
  {
   "cell_type": "code",
   "execution_count": 43,
   "metadata": {},
   "outputs": [],
   "source": [
    "# I: the total number of items purchased by a customer during the period of observation.\n",
    "data['TProd'] = total_products"
   ]
  },
  {
   "cell_type": "code",
   "execution_count": 44,
   "metadata": {},
   "outputs": [],
   "source": [
    "# Iu: the number of distinct items bought by a customer in the period of observation.\n",
    "data['DProd'] = unique_products"
   ]
  },
  {
   "cell_type": "code",
   "execution_count": 45,
   "metadata": {},
   "outputs": [],
   "source": [
    "# Imax: the maximum number of items purchased by a customer during a shopping session\n",
    "data['MaxPO'] = max_products_order_wise"
   ]
  },
  {
   "cell_type": "code",
   "execution_count": 46,
   "metadata": {},
   "outputs": [],
   "source": [
    "# Imin: the minimum number of items purchased by a customer during a shopping session\n",
    "data['MinPO'] = min_products_order_wise"
   ]
  },
  {
   "cell_type": "code",
   "execution_count": null,
   "metadata": {},
   "outputs": [],
   "source": [
    "# E: the Shannon entropy on the purchasing behaviour of the customer"
   ]
  },
  {
   "cell_type": "code",
   "execution_count": 47,
   "metadata": {},
   "outputs": [],
   "source": [
    "# ProdPerOrderMean: mean number of items purchased by a customer during a shopping session\n",
    "data['MeanProdOrder'] = mean_products_order_wise"
   ]
  },
  {
   "cell_type": "code",
   "execution_count": 48,
   "metadata": {},
   "outputs": [],
   "source": [
    "# SaleTot: total amount spent during the period of observation\n",
    "data['TSale'] = total_sale"
   ]
  },
  {
   "cell_type": "code",
   "execution_count": 49,
   "metadata": {},
   "outputs": [],
   "source": [
    "# SaleTotWithoutReturn: total amount spent without negative quantity during the period of observation\n",
    "data['TSaleWRet'] = total_sale_wret"
   ]
  },
  {
   "cell_type": "code",
   "execution_count": 50,
   "metadata": {},
   "outputs": [],
   "source": [
    "# SaleMin: min amount spent for a product during the shopping session\n",
    "data['MinPSale'] = min_prod_spent"
   ]
  },
  {
   "cell_type": "code",
   "execution_count": 51,
   "metadata": {},
   "outputs": [],
   "source": [
    "# SaleMax: max amount spent for a product during the shopping session\n",
    "data['MaxPSale'] = max_prod_spent"
   ]
  },
  {
   "cell_type": "code",
   "execution_count": 52,
   "metadata": {},
   "outputs": [],
   "source": [
    "# SaleMeanPerOrder: mean amount spent for each order during the period of observation\n",
    "data['MeanSaleOrder'] = mean_spent_order_wise"
   ]
  },
  {
   "cell_type": "code",
   "execution_count": 53,
   "metadata": {},
   "outputs": [],
   "source": [
    "# NumRetProd: number of returned products in the period of observation\n",
    "data['TRProd'] = total_prod_returned"
   ]
  },
  {
   "cell_type": "code",
   "execution_count": 54,
   "metadata": {},
   "outputs": [],
   "source": [
    "# NumDistRetProd: number of distinct returned products in the period of observation\n",
    "data['TRDProd'] = unique_products_ret"
   ]
  },
  {
   "cell_type": "code",
   "execution_count": 55,
   "metadata": {},
   "outputs": [],
   "source": [
    "# MeanProdCostInOrder: mean cost of the products in the orders in the period of observation\n",
    "data['MeanPSale'] = mean_prod_sale"
   ]
  },
  {
   "cell_type": "code",
   "execution_count": 56,
   "metadata": {},
   "outputs": [],
   "source": [
    "# NumberOfOrders: total number of orders made by customer\n",
    "data['TOrder'] = total_orders"
   ]
  },
  {
   "cell_type": "code",
   "execution_count": 57,
   "metadata": {},
   "outputs": [],
   "source": [
    "# MeanOrderPerMonth\n",
    "data['OrderMonth'] = mean_order_month"
   ]
  },
  {
   "cell_type": "code",
   "execution_count": 58,
   "metadata": {},
   "outputs": [],
   "source": [
    "# MeanProductPerMonth\n",
    "data['ProdMonth'] = mean_prod_month"
   ]
  },
  {
   "cell_type": "code",
   "execution_count": 59,
   "metadata": {},
   "outputs": [],
   "source": [
    "# MeanAmountSpentPerMonth\n",
    "data['SaleMonth'] = mean_sale_month"
   ]
  },
  {
   "cell_type": "code",
   "execution_count": null,
   "metadata": {},
   "outputs": [],
   "source": [
    "# CustomerCounty : value from original dataframe\n",
    "#data['CustomerCountry'] = ''\n",
    "#data = data.join(pd.core.frame.DataFrame({'CustomerID':df['CustomerID'], 'CustomerCountry':df['CustomerCountry']}).drop_duplicates().set_index('CustomerID'), on='CustomerID')\n",
    "\n",
    "#tmp = pd.core.frame.DataFrame({'CustomerID':df['CustomerID'], 'CustomerCountry':df['CustomerCountry']}).drop_duplicates()\n",
    "#tmp['CustomerID'].value_counts()[0:8]\n",
    "# 4372 distinct customers - 4380 elements in tmp\n",
    "# 8 customers have two different nationalities\n",
    "\n",
    "# Find entries with multiple nationality\n",
    "#counts = tmp['CustomerID'].value_counts().items()\n",
    "#count_dict = {x[0]:x[1] for x in counts}\n",
    "#for _, row in tmp.sort_values(by=['CustomerID']).iterrows():\n",
    "#    if count_dict[row['CustomerID']] > 1:\n",
    "#        print(f\"{row['CustomerID']}-{row['CustomerCountry']}\")"
   ]
  },
  {
   "cell_type": "code",
   "execution_count": 60,
   "metadata": {
    "scrolled": false
   },
   "outputs": [
    {
     "data": {
      "text/html": [
       "<div>\n",
       "<style scoped>\n",
       "    .dataframe tbody tr th:only-of-type {\n",
       "        vertical-align: middle;\n",
       "    }\n",
       "\n",
       "    .dataframe tbody tr th {\n",
       "        vertical-align: top;\n",
       "    }\n",
       "\n",
       "    .dataframe thead th {\n",
       "        text-align: right;\n",
       "    }\n",
       "</style>\n",
       "<table border=\"1\" class=\"dataframe\">\n",
       "  <thead>\n",
       "    <tr style=\"text-align: right;\">\n",
       "      <th></th>\n",
       "      <th>CustomerID</th>\n",
       "      <th>TProd</th>\n",
       "      <th>DProd</th>\n",
       "      <th>MaxPO</th>\n",
       "      <th>MinPO</th>\n",
       "      <th>MeanProdOrder</th>\n",
       "      <th>TSale</th>\n",
       "      <th>TSaleWRet</th>\n",
       "      <th>MinPSale</th>\n",
       "      <th>MaxPSale</th>\n",
       "      <th>MeanSaleOrder</th>\n",
       "      <th>TRProd</th>\n",
       "      <th>TRDProd</th>\n",
       "      <th>MeanPSale</th>\n",
       "      <th>TOrder</th>\n",
       "      <th>OrderMonth</th>\n",
       "      <th>ProdMonth</th>\n",
       "      <th>SaleMonth</th>\n",
       "    </tr>\n",
       "  </thead>\n",
       "  <tbody>\n",
       "    <tr>\n",
       "      <th>0</th>\n",
       "      <td>17850</td>\n",
       "      <td>1702</td>\n",
       "      <td>21</td>\n",
       "      <td>141</td>\n",
       "      <td>12</td>\n",
       "      <td>48.628571</td>\n",
       "      <td>5317.89</td>\n",
       "      <td>5391.21</td>\n",
       "      <td>6.36</td>\n",
       "      <td>107.25</td>\n",
       "      <td>151.939714</td>\n",
       "      <td>8</td>\n",
       "      <td>6</td>\n",
       "      <td>3.960370</td>\n",
       "      <td>34</td>\n",
       "      <td>2.833333</td>\n",
       "      <td>1.750000</td>\n",
       "      <td>449.267500</td>\n",
       "    </tr>\n",
       "    <tr>\n",
       "      <th>1</th>\n",
       "      <td>13047</td>\n",
       "      <td>1356</td>\n",
       "      <td>106</td>\n",
       "      <td>309</td>\n",
       "      <td>1</td>\n",
       "      <td>79.764706</td>\n",
       "      <td>3094.05</td>\n",
       "      <td>3237.54</td>\n",
       "      <td>4.95</td>\n",
       "      <td>68.00</td>\n",
       "      <td>182.002941</td>\n",
       "      <td>23</td>\n",
       "      <td>20</td>\n",
       "      <td>3.932035</td>\n",
       "      <td>10</td>\n",
       "      <td>0.500000</td>\n",
       "      <td>4.083333</td>\n",
       "      <td>75.105000</td>\n",
       "    </tr>\n",
       "    <tr>\n",
       "      <th>2</th>\n",
       "      <td>12583</td>\n",
       "      <td>5009</td>\n",
       "      <td>115</td>\n",
       "      <td>716</td>\n",
       "      <td>101</td>\n",
       "      <td>278.277778</td>\n",
       "      <td>7187.34</td>\n",
       "      <td>7281.38</td>\n",
       "      <td>6.80</td>\n",
       "      <td>132.80</td>\n",
       "      <td>399.296667</td>\n",
       "      <td>4</td>\n",
       "      <td>4</td>\n",
       "      <td>3.103603</td>\n",
       "      <td>15</td>\n",
       "      <td>0.500000</td>\n",
       "      <td>6.500000</td>\n",
       "      <td>248.013333</td>\n",
       "    </tr>\n",
       "    <tr>\n",
       "      <th>3</th>\n",
       "      <td>13748</td>\n",
       "      <td>439</td>\n",
       "      <td>24</td>\n",
       "      <td>208</td>\n",
       "      <td>8</td>\n",
       "      <td>87.800000</td>\n",
       "      <td>948.25</td>\n",
       "      <td>948.25</td>\n",
       "      <td>9.36</td>\n",
       "      <td>204.00</td>\n",
       "      <td>189.650000</td>\n",
       "      <td>0</td>\n",
       "      <td>0</td>\n",
       "      <td>3.996429</td>\n",
       "      <td>5</td>\n",
       "      <td>0.083333</td>\n",
       "      <td>0.083333</td>\n",
       "      <td>17.000000</td>\n",
       "    </tr>\n",
       "    <tr>\n",
       "      <th>4</th>\n",
       "      <td>15100</td>\n",
       "      <td>58</td>\n",
       "      <td>1</td>\n",
       "      <td>32</td>\n",
       "      <td>16</td>\n",
       "      <td>9.666667</td>\n",
       "      <td>635.10</td>\n",
       "      <td>876.00</td>\n",
       "      <td>175.20</td>\n",
       "      <td>350.40</td>\n",
       "      <td>105.850000</td>\n",
       "      <td>3</td>\n",
       "      <td>1</td>\n",
       "      <td>10.950000</td>\n",
       "      <td>3</td>\n",
       "      <td>0.333333</td>\n",
       "      <td>0.083333</td>\n",
       "      <td>41.062500</td>\n",
       "    </tr>\n",
       "    <tr>\n",
       "      <th>...</th>\n",
       "      <td>...</td>\n",
       "      <td>...</td>\n",
       "      <td>...</td>\n",
       "      <td>...</td>\n",
       "      <td>...</td>\n",
       "      <td>...</td>\n",
       "      <td>...</td>\n",
       "      <td>...</td>\n",
       "      <td>...</td>\n",
       "      <td>...</td>\n",
       "      <td>...</td>\n",
       "      <td>...</td>\n",
       "      <td>...</td>\n",
       "      <td>...</td>\n",
       "      <td>...</td>\n",
       "      <td>...</td>\n",
       "      <td>...</td>\n",
       "      <td>...</td>\n",
       "    </tr>\n",
       "    <tr>\n",
       "      <th>4334</th>\n",
       "      <td>13436</td>\n",
       "      <td>76</td>\n",
       "      <td>12</td>\n",
       "      <td>76</td>\n",
       "      <td>76</td>\n",
       "      <td>76.000000</td>\n",
       "      <td>196.89</td>\n",
       "      <td>196.89</td>\n",
       "      <td>10.20</td>\n",
       "      <td>25.50</td>\n",
       "      <td>196.890000</td>\n",
       "      <td>0</td>\n",
       "      <td>0</td>\n",
       "      <td>5.830000</td>\n",
       "      <td>1</td>\n",
       "      <td>0.083333</td>\n",
       "      <td>1.000000</td>\n",
       "      <td>16.407500</td>\n",
       "    </tr>\n",
       "    <tr>\n",
       "      <th>4335</th>\n",
       "      <td>15520</td>\n",
       "      <td>314</td>\n",
       "      <td>18</td>\n",
       "      <td>314</td>\n",
       "      <td>314</td>\n",
       "      <td>314.000000</td>\n",
       "      <td>343.50</td>\n",
       "      <td>343.50</td>\n",
       "      <td>9.48</td>\n",
       "      <td>34.68</td>\n",
       "      <td>343.500000</td>\n",
       "      <td>0</td>\n",
       "      <td>0</td>\n",
       "      <td>1.724444</td>\n",
       "      <td>1</td>\n",
       "      <td>0.083333</td>\n",
       "      <td>1.500000</td>\n",
       "      <td>28.625000</td>\n",
       "    </tr>\n",
       "    <tr>\n",
       "      <th>4336</th>\n",
       "      <td>13298</td>\n",
       "      <td>96</td>\n",
       "      <td>2</td>\n",
       "      <td>96</td>\n",
       "      <td>96</td>\n",
       "      <td>96.000000</td>\n",
       "      <td>360.00</td>\n",
       "      <td>360.00</td>\n",
       "      <td>90.00</td>\n",
       "      <td>270.00</td>\n",
       "      <td>360.000000</td>\n",
       "      <td>0</td>\n",
       "      <td>0</td>\n",
       "      <td>3.750000</td>\n",
       "      <td>1</td>\n",
       "      <td>0.083333</td>\n",
       "      <td>0.166667</td>\n",
       "      <td>30.000000</td>\n",
       "    </tr>\n",
       "    <tr>\n",
       "      <th>4337</th>\n",
       "      <td>14569</td>\n",
       "      <td>79</td>\n",
       "      <td>10</td>\n",
       "      <td>79</td>\n",
       "      <td>79</td>\n",
       "      <td>79.000000</td>\n",
       "      <td>227.39</td>\n",
       "      <td>227.39</td>\n",
       "      <td>1.65</td>\n",
       "      <td>122.40</td>\n",
       "      <td>227.390000</td>\n",
       "      <td>0</td>\n",
       "      <td>0</td>\n",
       "      <td>3.920000</td>\n",
       "      <td>1</td>\n",
       "      <td>0.083333</td>\n",
       "      <td>0.833333</td>\n",
       "      <td>18.949167</td>\n",
       "    </tr>\n",
       "    <tr>\n",
       "      <th>4338</th>\n",
       "      <td>12713</td>\n",
       "      <td>508</td>\n",
       "      <td>38</td>\n",
       "      <td>508</td>\n",
       "      <td>508</td>\n",
       "      <td>508.000000</td>\n",
       "      <td>848.55</td>\n",
       "      <td>848.55</td>\n",
       "      <td>5.04</td>\n",
       "      <td>71.70</td>\n",
       "      <td>848.550000</td>\n",
       "      <td>0</td>\n",
       "      <td>0</td>\n",
       "      <td>2.503421</td>\n",
       "      <td>1</td>\n",
       "      <td>0.083333</td>\n",
       "      <td>3.166667</td>\n",
       "      <td>70.712500</td>\n",
       "    </tr>\n",
       "  </tbody>\n",
       "</table>\n",
       "<p>4339 rows × 18 columns</p>\n",
       "</div>"
      ],
      "text/plain": [
       "      CustomerID  TProd  DProd  MaxPO  MinPO  MeanProdOrder    TSale  \\\n",
       "0          17850   1702     21    141     12      48.628571  5317.89   \n",
       "1          13047   1356    106    309      1      79.764706  3094.05   \n",
       "2          12583   5009    115    716    101     278.277778  7187.34   \n",
       "3          13748    439     24    208      8      87.800000   948.25   \n",
       "4          15100     58      1     32     16       9.666667   635.10   \n",
       "...          ...    ...    ...    ...    ...            ...      ...   \n",
       "4334       13436     76     12     76     76      76.000000   196.89   \n",
       "4335       15520    314     18    314    314     314.000000   343.50   \n",
       "4336       13298     96      2     96     96      96.000000   360.00   \n",
       "4337       14569     79     10     79     79      79.000000   227.39   \n",
       "4338       12713    508     38    508    508     508.000000   848.55   \n",
       "\n",
       "      TSaleWRet  MinPSale  MaxPSale  MeanSaleOrder  TRProd  TRDProd  \\\n",
       "0       5391.21      6.36    107.25     151.939714       8        6   \n",
       "1       3237.54      4.95     68.00     182.002941      23       20   \n",
       "2       7281.38      6.80    132.80     399.296667       4        4   \n",
       "3        948.25      9.36    204.00     189.650000       0        0   \n",
       "4        876.00    175.20    350.40     105.850000       3        1   \n",
       "...         ...       ...       ...            ...     ...      ...   \n",
       "4334     196.89     10.20     25.50     196.890000       0        0   \n",
       "4335     343.50      9.48     34.68     343.500000       0        0   \n",
       "4336     360.00     90.00    270.00     360.000000       0        0   \n",
       "4337     227.39      1.65    122.40     227.390000       0        0   \n",
       "4338     848.55      5.04     71.70     848.550000       0        0   \n",
       "\n",
       "      MeanPSale  TOrder  OrderMonth  ProdMonth   SaleMonth  \n",
       "0      3.960370      34    2.833333   1.750000  449.267500  \n",
       "1      3.932035      10    0.500000   4.083333   75.105000  \n",
       "2      3.103603      15    0.500000   6.500000  248.013333  \n",
       "3      3.996429       5    0.083333   0.083333   17.000000  \n",
       "4     10.950000       3    0.333333   0.083333   41.062500  \n",
       "...         ...     ...         ...        ...         ...  \n",
       "4334   5.830000       1    0.083333   1.000000   16.407500  \n",
       "4335   1.724444       1    0.083333   1.500000   28.625000  \n",
       "4336   3.750000       1    0.083333   0.166667   30.000000  \n",
       "4337   3.920000       1    0.083333   0.833333   18.949167  \n",
       "4338   2.503421       1    0.083333   3.166667   70.712500  \n",
       "\n",
       "[4339 rows x 18 columns]"
      ]
     },
     "execution_count": 60,
     "metadata": {},
     "output_type": "execute_result"
    },
    {
     "data": {
      "text/html": [
       "<div>\n",
       "<style scoped>\n",
       "    .dataframe tbody tr th:only-of-type {\n",
       "        vertical-align: middle;\n",
       "    }\n",
       "\n",
       "    .dataframe tbody tr th {\n",
       "        vertical-align: top;\n",
       "    }\n",
       "\n",
       "    .dataframe thead th {\n",
       "        text-align: right;\n",
       "    }\n",
       "</style>\n",
       "<table border=\"1\" class=\"dataframe\">\n",
       "  <thead>\n",
       "    <tr style=\"text-align: right;\">\n",
       "      <th></th>\n",
       "      <th>CustomerID</th>\n",
       "      <th>TProd</th>\n",
       "      <th>DProd</th>\n",
       "      <th>MaxPO</th>\n",
       "      <th>MinPO</th>\n",
       "      <th>MeanProdOrder</th>\n",
       "      <th>TSale</th>\n",
       "      <th>TSaleWRet</th>\n",
       "      <th>MinPSale</th>\n",
       "      <th>MaxPSale</th>\n",
       "      <th>MeanSaleOrder</th>\n",
       "      <th>TRProd</th>\n",
       "      <th>TRDProd</th>\n",
       "      <th>MeanPSale</th>\n",
       "      <th>TOrder</th>\n",
       "      <th>OrderMonth</th>\n",
       "      <th>ProdMonth</th>\n",
       "      <th>SaleMonth</th>\n",
       "    </tr>\n",
       "  </thead>\n",
       "  <tbody>\n",
       "    <tr>\n",
       "      <th>0</th>\n",
       "      <td>17850</td>\n",
       "      <td>1702</td>\n",
       "      <td>21</td>\n",
       "      <td>141</td>\n",
       "      <td>12</td>\n",
       "      <td>48.628571</td>\n",
       "      <td>5317.89</td>\n",
       "      <td>5391.21</td>\n",
       "      <td>6.36</td>\n",
       "      <td>107.25</td>\n",
       "      <td>151.939714</td>\n",
       "      <td>8</td>\n",
       "      <td>6</td>\n",
       "      <td>3.960370</td>\n",
       "      <td>34</td>\n",
       "      <td>2.833333</td>\n",
       "      <td>1.750000</td>\n",
       "      <td>449.267500</td>\n",
       "    </tr>\n",
       "    <tr>\n",
       "      <th>1</th>\n",
       "      <td>13047</td>\n",
       "      <td>1356</td>\n",
       "      <td>106</td>\n",
       "      <td>309</td>\n",
       "      <td>1</td>\n",
       "      <td>79.764706</td>\n",
       "      <td>3094.05</td>\n",
       "      <td>3237.54</td>\n",
       "      <td>4.95</td>\n",
       "      <td>68.00</td>\n",
       "      <td>182.002941</td>\n",
       "      <td>23</td>\n",
       "      <td>20</td>\n",
       "      <td>3.932035</td>\n",
       "      <td>10</td>\n",
       "      <td>0.500000</td>\n",
       "      <td>4.083333</td>\n",
       "      <td>75.105000</td>\n",
       "    </tr>\n",
       "    <tr>\n",
       "      <th>2</th>\n",
       "      <td>12583</td>\n",
       "      <td>5009</td>\n",
       "      <td>115</td>\n",
       "      <td>716</td>\n",
       "      <td>101</td>\n",
       "      <td>278.277778</td>\n",
       "      <td>7187.34</td>\n",
       "      <td>7281.38</td>\n",
       "      <td>6.80</td>\n",
       "      <td>132.80</td>\n",
       "      <td>399.296667</td>\n",
       "      <td>4</td>\n",
       "      <td>4</td>\n",
       "      <td>3.103603</td>\n",
       "      <td>15</td>\n",
       "      <td>0.500000</td>\n",
       "      <td>6.500000</td>\n",
       "      <td>248.013333</td>\n",
       "    </tr>\n",
       "    <tr>\n",
       "      <th>3</th>\n",
       "      <td>13748</td>\n",
       "      <td>439</td>\n",
       "      <td>24</td>\n",
       "      <td>208</td>\n",
       "      <td>8</td>\n",
       "      <td>87.800000</td>\n",
       "      <td>948.25</td>\n",
       "      <td>948.25</td>\n",
       "      <td>9.36</td>\n",
       "      <td>204.00</td>\n",
       "      <td>189.650000</td>\n",
       "      <td>0</td>\n",
       "      <td>0</td>\n",
       "      <td>3.996429</td>\n",
       "      <td>5</td>\n",
       "      <td>0.083333</td>\n",
       "      <td>0.083333</td>\n",
       "      <td>17.000000</td>\n",
       "    </tr>\n",
       "    <tr>\n",
       "      <th>4</th>\n",
       "      <td>15100</td>\n",
       "      <td>58</td>\n",
       "      <td>1</td>\n",
       "      <td>32</td>\n",
       "      <td>16</td>\n",
       "      <td>9.666667</td>\n",
       "      <td>635.10</td>\n",
       "      <td>876.00</td>\n",
       "      <td>175.20</td>\n",
       "      <td>350.40</td>\n",
       "      <td>105.850000</td>\n",
       "      <td>3</td>\n",
       "      <td>1</td>\n",
       "      <td>10.950000</td>\n",
       "      <td>3</td>\n",
       "      <td>0.333333</td>\n",
       "      <td>0.083333</td>\n",
       "      <td>41.062500</td>\n",
       "    </tr>\n",
       "    <tr>\n",
       "      <th>...</th>\n",
       "      <td>...</td>\n",
       "      <td>...</td>\n",
       "      <td>...</td>\n",
       "      <td>...</td>\n",
       "      <td>...</td>\n",
       "      <td>...</td>\n",
       "      <td>...</td>\n",
       "      <td>...</td>\n",
       "      <td>...</td>\n",
       "      <td>...</td>\n",
       "      <td>...</td>\n",
       "      <td>...</td>\n",
       "      <td>...</td>\n",
       "      <td>...</td>\n",
       "      <td>...</td>\n",
       "      <td>...</td>\n",
       "      <td>...</td>\n",
       "      <td>...</td>\n",
       "    </tr>\n",
       "    <tr>\n",
       "      <th>4334</th>\n",
       "      <td>13436</td>\n",
       "      <td>76</td>\n",
       "      <td>12</td>\n",
       "      <td>76</td>\n",
       "      <td>76</td>\n",
       "      <td>76.000000</td>\n",
       "      <td>196.89</td>\n",
       "      <td>196.89</td>\n",
       "      <td>10.20</td>\n",
       "      <td>25.50</td>\n",
       "      <td>196.890000</td>\n",
       "      <td>0</td>\n",
       "      <td>0</td>\n",
       "      <td>5.830000</td>\n",
       "      <td>1</td>\n",
       "      <td>0.083333</td>\n",
       "      <td>1.000000</td>\n",
       "      <td>16.407500</td>\n",
       "    </tr>\n",
       "    <tr>\n",
       "      <th>4335</th>\n",
       "      <td>15520</td>\n",
       "      <td>314</td>\n",
       "      <td>18</td>\n",
       "      <td>314</td>\n",
       "      <td>314</td>\n",
       "      <td>314.000000</td>\n",
       "      <td>343.50</td>\n",
       "      <td>343.50</td>\n",
       "      <td>9.48</td>\n",
       "      <td>34.68</td>\n",
       "      <td>343.500000</td>\n",
       "      <td>0</td>\n",
       "      <td>0</td>\n",
       "      <td>1.724444</td>\n",
       "      <td>1</td>\n",
       "      <td>0.083333</td>\n",
       "      <td>1.500000</td>\n",
       "      <td>28.625000</td>\n",
       "    </tr>\n",
       "    <tr>\n",
       "      <th>4336</th>\n",
       "      <td>13298</td>\n",
       "      <td>96</td>\n",
       "      <td>2</td>\n",
       "      <td>96</td>\n",
       "      <td>96</td>\n",
       "      <td>96.000000</td>\n",
       "      <td>360.00</td>\n",
       "      <td>360.00</td>\n",
       "      <td>90.00</td>\n",
       "      <td>270.00</td>\n",
       "      <td>360.000000</td>\n",
       "      <td>0</td>\n",
       "      <td>0</td>\n",
       "      <td>3.750000</td>\n",
       "      <td>1</td>\n",
       "      <td>0.083333</td>\n",
       "      <td>0.166667</td>\n",
       "      <td>30.000000</td>\n",
       "    </tr>\n",
       "    <tr>\n",
       "      <th>4337</th>\n",
       "      <td>14569</td>\n",
       "      <td>79</td>\n",
       "      <td>10</td>\n",
       "      <td>79</td>\n",
       "      <td>79</td>\n",
       "      <td>79.000000</td>\n",
       "      <td>227.39</td>\n",
       "      <td>227.39</td>\n",
       "      <td>1.65</td>\n",
       "      <td>122.40</td>\n",
       "      <td>227.390000</td>\n",
       "      <td>0</td>\n",
       "      <td>0</td>\n",
       "      <td>3.920000</td>\n",
       "      <td>1</td>\n",
       "      <td>0.083333</td>\n",
       "      <td>0.833333</td>\n",
       "      <td>18.949167</td>\n",
       "    </tr>\n",
       "    <tr>\n",
       "      <th>4338</th>\n",
       "      <td>12713</td>\n",
       "      <td>508</td>\n",
       "      <td>38</td>\n",
       "      <td>508</td>\n",
       "      <td>508</td>\n",
       "      <td>508.000000</td>\n",
       "      <td>848.55</td>\n",
       "      <td>848.55</td>\n",
       "      <td>5.04</td>\n",
       "      <td>71.70</td>\n",
       "      <td>848.550000</td>\n",
       "      <td>0</td>\n",
       "      <td>0</td>\n",
       "      <td>2.503421</td>\n",
       "      <td>1</td>\n",
       "      <td>0.083333</td>\n",
       "      <td>3.166667</td>\n",
       "      <td>70.712500</td>\n",
       "    </tr>\n",
       "  </tbody>\n",
       "</table>\n",
       "<p>4339 rows × 18 columns</p>\n",
       "</div>"
      ],
      "text/plain": [
       "      CustomerID  TProd  DProd  MaxPO  MinPO  MeanProdOrder    TSale  \\\n",
       "0          17850   1702     21    141     12      48.628571  5317.89   \n",
       "1          13047   1356    106    309      1      79.764706  3094.05   \n",
       "2          12583   5009    115    716    101     278.277778  7187.34   \n",
       "3          13748    439     24    208      8      87.800000   948.25   \n",
       "4          15100     58      1     32     16       9.666667   635.10   \n",
       "...          ...    ...    ...    ...    ...            ...      ...   \n",
       "4334       13436     76     12     76     76      76.000000   196.89   \n",
       "4335       15520    314     18    314    314     314.000000   343.50   \n",
       "4336       13298     96      2     96     96      96.000000   360.00   \n",
       "4337       14569     79     10     79     79      79.000000   227.39   \n",
       "4338       12713    508     38    508    508     508.000000   848.55   \n",
       "\n",
       "      TSaleWRet  MinPSale  MaxPSale  MeanSaleOrder  TRProd  TRDProd  \\\n",
       "0       5391.21      6.36    107.25     151.939714       8        6   \n",
       "1       3237.54      4.95     68.00     182.002941      23       20   \n",
       "2       7281.38      6.80    132.80     399.296667       4        4   \n",
       "3        948.25      9.36    204.00     189.650000       0        0   \n",
       "4        876.00    175.20    350.40     105.850000       3        1   \n",
       "...         ...       ...       ...            ...     ...      ...   \n",
       "4334     196.89     10.20     25.50     196.890000       0        0   \n",
       "4335     343.50      9.48     34.68     343.500000       0        0   \n",
       "4336     360.00     90.00    270.00     360.000000       0        0   \n",
       "4337     227.39      1.65    122.40     227.390000       0        0   \n",
       "4338     848.55      5.04     71.70     848.550000       0        0   \n",
       "\n",
       "      MeanPSale  TOrder  OrderMonth  ProdMonth   SaleMonth  \n",
       "0      3.960370      34    2.833333   1.750000  449.267500  \n",
       "1      3.932035      10    0.500000   4.083333   75.105000  \n",
       "2      3.103603      15    0.500000   6.500000  248.013333  \n",
       "3      3.996429       5    0.083333   0.083333   17.000000  \n",
       "4     10.950000       3    0.333333   0.083333   41.062500  \n",
       "...         ...     ...         ...        ...         ...  \n",
       "4334   5.830000       1    0.083333   1.000000   16.407500  \n",
       "4335   1.724444       1    0.083333   1.500000   28.625000  \n",
       "4336   3.750000       1    0.083333   0.166667   30.000000  \n",
       "4337   3.920000       1    0.083333   0.833333   18.949167  \n",
       "4338   2.503421       1    0.083333   3.166667   70.712500  \n",
       "\n",
       "[4339 rows x 18 columns]"
      ]
     },
     "execution_count": 60,
     "metadata": {},
     "output_type": "execute_result"
    }
   ],
   "source": [
    "data"
   ]
  },
  {
   "cell_type": "code",
   "execution_count": null,
   "metadata": {
    "scrolled": false
   },
   "outputs": [],
   "source": [
    "data.info()"
   ]
  },
  {
   "cell_type": "code",
   "execution_count": null,
   "metadata": {},
   "outputs": [],
   "source": [
    "f, ax = plt.subplots(figsize=(15, 13))\n",
    "correlation = data.corr()\n",
    "sns.heatmap(correlation, cmap=\"coolwarm\", vmin=0, vmax=1, annot=True, mask=np.zeros_like(correlation, dtype=np.bool), square=True, ax=ax, edgecolor='black')\n",
    "plt.xticks(rotation=315)\n",
    "plt.title(\"Correlation matrix\")"
   ]
  }
 ],
 "metadata": {
  "kernelspec": {
   "display_name": "Python 3",
   "language": "python",
   "name": "python3"
  },
  "language_info": {
   "codemirror_mode": {
    "name": "ipython",
    "version": 3
   },
   "file_extension": ".py",
   "mimetype": "text/x-python",
   "name": "python",
   "nbconvert_exporter": "python",
   "pygments_lexer": "ipython3",
   "version": "3.8.3"
  }
 },
 "nbformat": 4,
 "nbformat_minor": 4
}
