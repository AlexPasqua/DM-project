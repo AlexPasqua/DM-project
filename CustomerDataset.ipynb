{
 "cells": [
  {
   "cell_type": "code",
   "execution_count": 1,
   "metadata": {},
   "outputs": [],
   "source": [
    "import math\n",
    "import numpy as np\n",
    "import pandas as pd\n",
    "import scipy.stats as stats\n",
    "import matplotlib.pyplot as plt\n",
    "from tqdm.notebook import tqdm\n",
    "import statistics as stat\n",
    "import seaborn as sns"
   ]
  },
  {
   "cell_type": "code",
   "execution_count": 2,
   "metadata": {},
   "outputs": [],
   "source": [
    "# Starting dataset\n",
    "df = pd.read_csv('cleaned_dataframe.csv', sep='\\t', index_col=0)"
   ]
  },
  {
   "cell_type": "code",
   "execution_count": 3,
   "metadata": {
    "pycharm": {
     "name": "#%%\n"
    }
   },
   "outputs": [
    {
     "data": {
      "text/html": [
       "<div>\n",
       "<style scoped>\n",
       "    .dataframe tbody tr th:only-of-type {\n",
       "        vertical-align: middle;\n",
       "    }\n",
       "\n",
       "    .dataframe tbody tr th {\n",
       "        vertical-align: top;\n",
       "    }\n",
       "\n",
       "    .dataframe thead th {\n",
       "        text-align: right;\n",
       "    }\n",
       "</style>\n",
       "<table border=\"1\" class=\"dataframe\">\n",
       "  <thead>\n",
       "    <tr style=\"text-align: right;\">\n",
       "      <th></th>\n",
       "      <th>BasketID</th>\n",
       "      <th>BasketDate</th>\n",
       "      <th>Sale</th>\n",
       "      <th>CustomerID</th>\n",
       "      <th>CustomerCountry</th>\n",
       "      <th>ProdID</th>\n",
       "      <th>ProdDescr</th>\n",
       "      <th>Qta</th>\n",
       "    </tr>\n",
       "  </thead>\n",
       "  <tbody>\n",
       "    <tr>\n",
       "      <th>0</th>\n",
       "      <td>536365</td>\n",
       "      <td>01/12/10 08:26</td>\n",
       "      <td>2.55</td>\n",
       "      <td>17850</td>\n",
       "      <td>United Kingdom</td>\n",
       "      <td>85123A</td>\n",
       "      <td>WHITE HANGING HEART T-LIGHT HOLDER</td>\n",
       "      <td>6</td>\n",
       "    </tr>\n",
       "    <tr>\n",
       "      <th>1</th>\n",
       "      <td>536365</td>\n",
       "      <td>01/12/10 08:26</td>\n",
       "      <td>3.39</td>\n",
       "      <td>17850</td>\n",
       "      <td>United Kingdom</td>\n",
       "      <td>71053</td>\n",
       "      <td>WHITE METAL LANTERN</td>\n",
       "      <td>6</td>\n",
       "    </tr>\n",
       "    <tr>\n",
       "      <th>2</th>\n",
       "      <td>536365</td>\n",
       "      <td>01/12/10 08:26</td>\n",
       "      <td>2.75</td>\n",
       "      <td>17850</td>\n",
       "      <td>United Kingdom</td>\n",
       "      <td>84406B</td>\n",
       "      <td>CREAM CUPID HEARTS COAT HANGER</td>\n",
       "      <td>8</td>\n",
       "    </tr>\n",
       "    <tr>\n",
       "      <th>3</th>\n",
       "      <td>536365</td>\n",
       "      <td>01/12/10 08:26</td>\n",
       "      <td>3.39</td>\n",
       "      <td>17850</td>\n",
       "      <td>United Kingdom</td>\n",
       "      <td>84029G</td>\n",
       "      <td>KNITTED UNION FLAG HOT WATER BOTTLE</td>\n",
       "      <td>6</td>\n",
       "    </tr>\n",
       "    <tr>\n",
       "      <th>4</th>\n",
       "      <td>536365</td>\n",
       "      <td>01/12/10 08:26</td>\n",
       "      <td>3.39</td>\n",
       "      <td>17850</td>\n",
       "      <td>United Kingdom</td>\n",
       "      <td>84029E</td>\n",
       "      <td>RED WOOLLY HOTTIE WHITE HEART.</td>\n",
       "      <td>6</td>\n",
       "    </tr>\n",
       "  </tbody>\n",
       "</table>\n",
       "</div>"
      ],
      "text/plain": [
       "  BasketID      BasketDate  Sale  CustomerID CustomerCountry  ProdID  \\\n",
       "0   536365  01/12/10 08:26  2.55       17850  United Kingdom  85123A   \n",
       "1   536365  01/12/10 08:26  3.39       17850  United Kingdom   71053   \n",
       "2   536365  01/12/10 08:26  2.75       17850  United Kingdom  84406B   \n",
       "3   536365  01/12/10 08:26  3.39       17850  United Kingdom  84029G   \n",
       "4   536365  01/12/10 08:26  3.39       17850  United Kingdom  84029E   \n",
       "\n",
       "                             ProdDescr  Qta  \n",
       "0   WHITE HANGING HEART T-LIGHT HOLDER    6  \n",
       "1                  WHITE METAL LANTERN    6  \n",
       "2       CREAM CUPID HEARTS COAT HANGER    8  \n",
       "3  KNITTED UNION FLAG HOT WATER BOTTLE    6  \n",
       "4       RED WOOLLY HOTTIE WHITE HEART.    6  "
      ]
     },
     "execution_count": 3,
     "metadata": {},
     "output_type": "execute_result"
    }
   ],
   "source": [
    "df.head()"
   ]
  },
  {
   "cell_type": "code",
   "execution_count": 4,
   "metadata": {
    "scrolled": true
   },
   "outputs": [
    {
     "name": "stdout",
     "output_type": "stream",
     "text": [
      "<class 'pandas.core.frame.DataFrame'>\n",
      "Int64Index: 398767 entries, 0 to 541908\n",
      "Data columns (total 8 columns):\n",
      " #   Column           Non-Null Count   Dtype  \n",
      "---  ------           --------------   -----  \n",
      " 0   BasketID         398767 non-null  object \n",
      " 1   BasketDate       398767 non-null  object \n",
      " 2   Sale             398767 non-null  float64\n",
      " 3   CustomerID       398767 non-null  int64  \n",
      " 4   CustomerCountry  398767 non-null  object \n",
      " 5   ProdID           398767 non-null  object \n",
      " 6   ProdDescr        398767 non-null  object \n",
      " 7   Qta              398767 non-null  int64  \n",
      "dtypes: float64(1), int64(2), object(5)\n",
      "memory usage: 27.4+ MB\n"
     ]
    }
   ],
   "source": [
    "df.info()"
   ]
  },
  {
   "cell_type": "code",
   "execution_count": 5,
   "metadata": {},
   "outputs": [
    {
     "name": "stdout",
     "output_type": "stream",
     "text": [
      "Number of unique customers:  4333\n"
     ]
    }
   ],
   "source": [
    "# Create the dataframe for customers\n",
    "data = pd.core.frame.DataFrame({'CustomerID' : df['CustomerID'].unique()})\n",
    "print(\"Number of unique customers: \", len(data))"
   ]
  },
  {
   "cell_type": "code",
   "execution_count": 6,
   "metadata": {
    "pycharm": {
     "name": "#%%\n"
    },
    "scrolled": true
   },
   "outputs": [
    {
     "data": {
      "application/vnd.jupyter.widget-view+json": {
       "model_id": "254d70a91079476286732159ef463499",
       "version_major": 2,
       "version_minor": 0
      },
      "text/plain": [
       "HBox(children=(HTML(value='Iterating over customers'), FloatProgress(value=0.0, max=4333.0), HTML(value='')))"
      ]
     },
     "metadata": {},
     "output_type": "display_data"
    },
    {
     "name": "stdout",
     "output_type": "stream",
     "text": [
      "\n"
     ]
    }
   ],
   "source": [
    "unique_products = []\n",
    "unique_products_ret = []\n",
    "total_products = []\n",
    "total_sale = []\n",
    "total_sale_wret = []\n",
    "total_prod_returned = []\n",
    "min_prod_spent = []\n",
    "max_prod_spent = []\n",
    "total_orders = []\n",
    "mean_prod_sale = []\n",
    "\n",
    "#Discount shouldn't be part of products bought nor returned \n",
    "for customer in tqdm(df['CustomerID'].unique(), total=len(data), desc=\"Iterating over customers\"):\n",
    "    # use set ?\n",
    "    # dividing filters instead of conjuncting them is MUCH FASTER\n",
    "    df_temp = df.loc[df['CustomerID'] == customer, ['ProdID']].drop_duplicates()\n",
    "    unique_products.append(len(df_temp.loc[df_temp['ProdID'] != 'D']))\n",
    "    \n",
    "    df_temp = df.loc[df['CustomerID'] == customer, ['ProdID', 'Qta']]\n",
    "    df_temp = df_temp.loc[df['Qta'] < 0, ['ProdID']].drop_duplicates()\n",
    "    unique_products_ret.append(len(df_temp.loc[df_temp['ProdID'] != 'D']))\n",
    "    \n",
    "    \n",
    "    # discount are counted in total orders\n",
    "    df_temp = df.loc[df['CustomerID'] == customer, ['BasketID', 'Qta']]\n",
    "    df_temp = df_temp.loc[df['Qta'] > 0, ['BasketID']].drop_duplicates()\n",
    "    total_orders.append(len(df_temp))\n",
    "    \n",
    "    # discount values are useful in meanps and tswr\n",
    "    # discount values are NOT useful in mps, since they would always be the min value\n",
    "    # discount values are useful in ts but have to be avoided in tp (not a real product)\n",
    "    df_aux = df.loc[df['CustomerID'] == customer, ['Qta', 'Sale','ProdID']]\n",
    "    tp = tpr = ts = tswr = 0\n",
    "    mps = []\n",
    "    meanps = []\n",
    "    for _, r in df_aux.iterrows():\n",
    "        cost = r['Qta']*r['Sale']\n",
    "        tp += r['Qta'] if r['ProdID'] != 'D' else 0\n",
    "        ts += cost\n",
    "        if r['Qta'] > 0 or r['ProdID'] == 'D':\n",
    "            tswr += cost\n",
    "            meanps.append(r['Sale'])\n",
    "            if r['Qta'] > 0: # not DISCOUNT\n",
    "                mps.append(cost)\n",
    "        else:\n",
    "            tpr -= r['Qta']\n",
    "            \n",
    "    total_products.append(tp)\n",
    "    total_prod_returned.append(tpr)\n",
    "    total_sale.append(ts)\n",
    "    total_sale_wret.append(tswr)\n",
    "    min_prod_spent.append(min(mps))\n",
    "    max_prod_spent.append(max(mps))\n",
    "    mean_prod_sale.append(stat.fmean(meanps))"
   ]
  },
  {
   "cell_type": "code",
   "execution_count": 7,
   "metadata": {},
   "outputs": [
    {
     "data": {
      "application/vnd.jupyter.widget-view+json": {
       "model_id": "3f50de1c65554309ad6f123a83eb6867",
       "version_major": 2,
       "version_minor": 0
      },
      "text/plain": [
       "HBox(children=(HTML(value='Iterating over orders'), FloatProgress(value=0.0, max=21547.0), HTML(value='')))"
      ]
     },
     "metadata": {},
     "output_type": "display_data"
    },
    {
     "name": "stdout",
     "output_type": "stream",
     "text": [
      "\n"
     ]
    }
   ],
   "source": [
    "order_stats_per_customer = {} # key = customerID, value = list(max_products_order, min, mean_accum, max_spent_order, min, mean_accum, mean_counter) \n",
    "mean_counter = 0\n",
    "data_about_order = df[['BasketID','CustomerID']].drop_duplicates()\n",
    "\n",
    "######################################################################################################################################\n",
    "#what about discount? no sense reasoning about those records if calculating max/min qta/sale, but reasonable to add them in mean calc#\n",
    "######################################################################################################################################\n",
    "\n",
    "for _, r in tqdm(data_about_order.iterrows(), total=len(data_about_order), desc=\"Iterating over orders\"):\n",
    "    customer = r[\"CustomerID\"]\n",
    "    order = r[\"BasketID\"]\n",
    "    df_aux = df.loc[df['BasketID'] == order, ['Qta','Sale','ProdID', 'CustomerID']]\n",
    "    df_aux = df_aux.loc[df['CustomerID'] == customer, ['Qta','Sale','ProdID']]\n",
    "    temp_prod = 0\n",
    "    temp_sale = 0 \n",
    "    \n",
    "    for _, int_r in df_aux.iterrows():\n",
    "        temp_prod += int_r['Qta']\n",
    "        temp_sale += int_r['Qta']*int_r['Sale']\n",
    "        \n",
    "    is_neg = False\n",
    "    if temp_prod < 0 or temp_sale < 0:\n",
    "        is_neg = True  \n",
    "    \n",
    "    if customer not in order_stats_per_customer:\n",
    "        order_stats_per_customer[customer] = [math.inf, math.inf, 0, math.inf, math.inf, 0, 0]\n",
    "        \n",
    "    if not is_neg:\n",
    "        if order_stats_per_customer[customer][0] == math.inf or order_stats_per_customer[customer][0] < temp_prod:\n",
    "            order_stats_per_customer[customer][0] = temp_prod\n",
    "        if order_stats_per_customer[customer][1] == math.inf or order_stats_per_customer[customer][1] > temp_prod:\n",
    "            order_stats_per_customer[customer][1] = temp_prod\n",
    "        if order_stats_per_customer[customer][3] == math.inf or order_stats_per_customer[customer][3] < temp_sale:\n",
    "            order_stats_per_customer[customer][3] = temp_sale\n",
    "        if order_stats_per_customer[customer][4] == math.inf or order_stats_per_customer[customer][4] > temp_sale:\n",
    "            order_stats_per_customer[customer][4] = temp_sale\n",
    "            \n",
    "    order_stats_per_customer[customer][2] += temp_prod\n",
    "    order_stats_per_customer[customer][5] += temp_sale\n",
    "    order_stats_per_customer[customer][6] += 1"
   ]
  },
  {
   "cell_type": "code",
   "execution_count": 8,
   "metadata": {},
   "outputs": [
    {
     "data": {
      "application/vnd.jupyter.widget-view+json": {
       "model_id": "7060e53ee0c44bdc8432e2772aa2088d",
       "version_major": 2,
       "version_minor": 0
      },
      "text/plain": [
       "HBox(children=(HTML(value='Iterating over customers'), FloatProgress(value=0.0, max=4333.0), HTML(value='')))"
      ]
     },
     "metadata": {},
     "output_type": "display_data"
    },
    {
     "name": "stdout",
     "output_type": "stream",
     "text": [
      "\n"
     ]
    }
   ],
   "source": [
    "max_spent_order_wise = []\n",
    "min_spent_order_wise = []\n",
    "mean_spent_order_wise = []\n",
    "max_products_order_wise = []\n",
    "min_products_order_wise = []\n",
    "mean_products_order_wise = []\n",
    "\n",
    "for customer in tqdm(df['CustomerID'].unique(), total=len(data), desc=\"Iterating over customers\"):\n",
    "    max_products_order_wise.append(order_stats_per_customer[customer][0])\n",
    "    min_products_order_wise.append(order_stats_per_customer[customer][1])\n",
    "    mean_products_order_wise.append(order_stats_per_customer[customer][2] / order_stats_per_customer[customer][6])\n",
    "    max_spent_order_wise.append(order_stats_per_customer[customer][3])\n",
    "    min_spent_order_wise.append(order_stats_per_customer[customer][4])\n",
    "    mean_spent_order_wise.append(order_stats_per_customer[customer][5] / order_stats_per_customer[customer][6])"
   ]
  },
  {
   "cell_type": "code",
   "execution_count": null,
   "metadata": {},
   "outputs": [
    {
     "data": {
      "application/vnd.jupyter.widget-view+json": {
       "model_id": "e847658c2c344ec5ba23d19b460d8e64",
       "version_major": 2,
       "version_minor": 0
      },
      "text/plain": [
       "HBox(children=(HTML(value='Iterating over customers'), FloatProgress(value=0.0, max=4333.0), HTML(value='')))"
      ]
     },
     "metadata": {},
     "output_type": "display_data"
    }
   ],
   "source": [
    "mean_order_month = []\n",
    "mean_prod_month = []\n",
    "mean_sale_month = []\n",
    "for customer in tqdm(df['CustomerID'].unique(), total=len(data), desc=\"Iterating over customers\"):\n",
    "    order_per_month = []\n",
    "    prod_per_month = []\n",
    "    sale_per_month = []\n",
    "    df_aux = df.loc[df['CustomerID'] == customer, ['BasketDate', 'BasketID', 'ProdID', 'Sale', 'Qta']]\n",
    "    for month in range(1, 13):\n",
    "        tot = 0\n",
    "        orders = set()\n",
    "        prods = set()\n",
    "        for _, r in df_aux.iterrows():\n",
    "             if r['BasketDate'][3:5] == str(month):\n",
    "                orders.add(r['BasketID'])\n",
    "                prods.add(r['ProdID'])\n",
    "                tot += r['Qta']*r['Sale']\n",
    "        order_per_month.append(len(orders))\n",
    "        prod_per_month.append(len(prods))\n",
    "        sale_per_month.append(tot)\n",
    "    mean_order_month.append(stat.fmean(order_per_month))\n",
    "    mean_prod_month.append(stat.fmean(prod_per_month))\n",
    "    mean_sale_month.append(stat.fmean(sale_per_month))"
   ]
  },
  {
   "cell_type": "code",
   "execution_count": null,
   "metadata": {
    "scrolled": true
   },
   "outputs": [],
   "source": [
    "#indicator on Shannon Entropy about sale*qta values on whole period of observation\n",
    "entropy_saleqta = []\n",
    "\n",
    "for customer in tqdm(df['CustomerID'].unique(), total=len(data), desc=\"Iterating over customers\"):\n",
    "    customer_entropy_counts = []\n",
    "    \n",
    "    df_aux = df.loc[df['CustomerID'] == customer, ['Sale', 'Qta']]\n",
    "    for _, r in df_aux.iterrows():\n",
    "        customer_entropy_counts.append(r['Qta']*r['Sale'])\n",
    "    \n",
    "    customer_entropy_prob = pd.core.frame.DataFrame({'cust_count': customer_entropy_counts}).value_counts(normalize=True)\n",
    "    entropy_saleqta.append(stats.entropy(customer_entropy_prob, base = 2))"
   ]
  },
  {
   "cell_type": "code",
   "execution_count": null,
   "metadata": {},
   "outputs": [],
   "source": [
    "#indicator on Shannon Entropy about sale*qta values on whole period of observation (order based)\n",
    "entropy_saleqta_order = []\n",
    "for customer in tqdm(df['CustomerID'].unique(), total=len(data), desc=\"Iterating over customers\"):\n",
    "    \n",
    "    basket_list = df[df['CustomerID'] == customer]['BasketID'].unique()\n",
    "    customer_entropy_counts = []\n",
    "    \n",
    "    for basket in basket_list:\n",
    "        df_aux = df[df['CustomerID'] == customer]\n",
    "        df_aux = df_aux.loc[df_aux['BasketID'] == basket,['Sale','Qta']]\n",
    "        accum = 0\n",
    "        for _, r in df_aux.iterrows():\n",
    "            accum += r['Qta']*r['Sale']\n",
    "        customer_entropy_counts.append(accum)\n",
    "    \n",
    "    customer_entropy_prob = pd.core.frame.DataFrame({'cust_count': customer_entropy_counts}).value_counts(normalize=True)\n",
    "    entropy_saleqta_order.append(stats.entropy(customer_entropy_prob, base = 2))"
   ]
  },
  {
   "cell_type": "code",
   "execution_count": null,
   "metadata": {},
   "outputs": [],
   "source": [
    "# I: the total number of items purchased by a customer during the period of observation.\n",
    "data['TProd'] = total_products"
   ]
  },
  {
   "cell_type": "code",
   "execution_count": null,
   "metadata": {},
   "outputs": [],
   "source": [
    "# Iu: the number of distinct items bought by a customer in the period of observation.\n",
    "data['DProd'] = unique_products"
   ]
  },
  {
   "cell_type": "code",
   "execution_count": null,
   "metadata": {},
   "outputs": [],
   "source": [
    "# Imax: the maximum number of items purchased by a customer during a shopping session\n",
    "data['MaxPO'] = max_products_order_wise"
   ]
  },
  {
   "cell_type": "code",
   "execution_count": null,
   "metadata": {},
   "outputs": [],
   "source": [
    "# Imin: the minimum number of items purchased by a customer during a shopping session\n",
    "data['MinPO'] = min_products_order_wise"
   ]
  },
  {
   "cell_type": "code",
   "execution_count": null,
   "metadata": {},
   "outputs": [],
   "source": [
    "# ProdPerOrderMean: mean number of items purchased by a customer during a shopping session\n",
    "data['MeanProdOrder'] = mean_products_order_wise"
   ]
  },
  {
   "cell_type": "code",
   "execution_count": null,
   "metadata": {},
   "outputs": [],
   "source": [
    "# SaleTot: total amount spent during the period of observation\n",
    "data['TSale'] = total_sale"
   ]
  },
  {
   "cell_type": "code",
   "execution_count": null,
   "metadata": {},
   "outputs": [],
   "source": [
    "# SaleTotWithoutReturn: total amount spent without negative quantity during the period of observation\n",
    "data['TSaleWRet'] = total_sale_wret"
   ]
  },
  {
   "cell_type": "code",
   "execution_count": null,
   "metadata": {},
   "outputs": [],
   "source": [
    "# SaleMin: min amount spent for a product during the shopping session\n",
    "data['MinPSale'] = min_prod_spent"
   ]
  },
  {
   "cell_type": "code",
   "execution_count": null,
   "metadata": {},
   "outputs": [],
   "source": [
    "# SaleMax: max amount spent for a product during the shopping session\n",
    "data['MaxPSale'] = max_prod_spent"
   ]
  },
  {
   "cell_type": "code",
   "execution_count": null,
   "metadata": {},
   "outputs": [],
   "source": [
    "# SaleMeanPerOrder: mean amount spent for each order during the period of observation\n",
    "data['MeanSaleOrder'] = mean_spent_order_wise"
   ]
  },
  {
   "cell_type": "code",
   "execution_count": null,
   "metadata": {},
   "outputs": [],
   "source": [
    "# NumRetProd: number of returned products in the period of observation\n",
    "data['TRProd'] = total_prod_returned"
   ]
  },
  {
   "cell_type": "code",
   "execution_count": null,
   "metadata": {},
   "outputs": [],
   "source": [
    "# NumDistRetProd: number of distinct returned products in the period of observation\n",
    "data['TRDProd'] = unique_products_ret"
   ]
  },
  {
   "cell_type": "code",
   "execution_count": null,
   "metadata": {},
   "outputs": [],
   "source": [
    "# MeanProdCostInOrder: mean cost of the products in the orders in the period of observation\n",
    "data['MeanPSale'] = mean_prod_sale"
   ]
  },
  {
   "cell_type": "code",
   "execution_count": null,
   "metadata": {},
   "outputs": [],
   "source": [
    "# NumberOfOrders: total number of orders made by customer\n",
    "data['TOrder'] = total_orders"
   ]
  },
  {
   "cell_type": "code",
   "execution_count": null,
   "metadata": {},
   "outputs": [],
   "source": [
    "# MeanOrderPerMonth\n",
    "data['OrderMonth'] = mean_order_month"
   ]
  },
  {
   "cell_type": "code",
   "execution_count": null,
   "metadata": {},
   "outputs": [],
   "source": [
    "# MeanProductPerMonth\n",
    "data['ProdMonth'] = mean_prod_month"
   ]
  },
  {
   "cell_type": "code",
   "execution_count": null,
   "metadata": {},
   "outputs": [],
   "source": [
    "# MeanAmountSpentPerMonth\n",
    "data['SaleMonth'] = mean_sale_month"
   ]
  },
  {
   "cell_type": "code",
   "execution_count": null,
   "metadata": {},
   "outputs": [],
   "source": [
    "# Shannon Entropy Total Sale Qta: calculated on whole period of observation.\n",
    "data['SETSaleQta'] = entropy_saleqta\n",
    "# Shannon Entropy Sale Qta Order wise: calculated on whole period of observation.\n",
    "data['SESaleQtaOrder'] = entropy_saleqta_order"
   ]
  },
  {
   "cell_type": "code",
   "execution_count": null,
   "metadata": {
    "scrolled": false
   },
   "outputs": [],
   "source": [
    "data"
   ]
  },
  {
   "cell_type": "code",
   "execution_count": null,
   "metadata": {
    "scrolled": true
   },
   "outputs": [],
   "source": [
    "data.info()"
   ]
  },
  {
   "cell_type": "markdown",
   "metadata": {},
   "source": [
    "### Correlation analysis "
   ]
  },
  {
   "cell_type": "markdown",
   "metadata": {},
   "source": [
    "**We define CustomerID as index of our customer-driven dataframe**"
   ]
  },
  {
   "cell_type": "code",
   "execution_count": null,
   "metadata": {},
   "outputs": [],
   "source": [
    "data.set_index(\"CustomerID\", inplace = True)"
   ]
  },
  {
   "cell_type": "code",
   "execution_count": null,
   "metadata": {
    "scrolled": false
   },
   "outputs": [],
   "source": [
    "f, ax = plt.subplots(figsize=(15, 13))\n",
    "correlation = data.corr()\n",
    "sns.heatmap(correlation, cmap=\"coolwarm\", vmin=0, vmax=1, annot=True, mask=np.zeros_like(correlation, dtype=np.bool), square=True, ax=ax, edgecolor='black')\n",
    "plt.xticks(rotation=315)\n",
    "plt.title(\"Correlation matrix\")"
   ]
  },
  {
   "cell_type": "code",
   "execution_count": null,
   "metadata": {
    "scrolled": true
   },
   "outputs": [],
   "source": [
    "data.drop(columns = ['OrderMonth', 'ProdMonth', 'SaleMonth', 'TSaleWRet', 'TRDProd'], inplace=True, errors='ignore')"
   ]
  },
  {
   "cell_type": "code",
   "execution_count": null,
   "metadata": {
    "scrolled": false
   },
   "outputs": [],
   "source": [
    "f, ax = plt.subplots(figsize=(15, 13))\n",
    "correlation = data.corr()\n",
    "sns.heatmap(correlation, cmap=\"coolwarm\", vmin=0, vmax=1, annot=True, mask=np.zeros_like(correlation, dtype=np.bool), square=True, ax=ax, edgecolor='black')\n",
    "plt.xticks(rotation=315)\n",
    "plt.title(\"Correlation matrix\")"
   ]
  },
  {
   "cell_type": "markdown",
   "metadata": {},
   "source": [
    "**Saving customer-driven dataframe**"
   ]
  },
  {
   "cell_type": "code",
   "execution_count": null,
   "metadata": {},
   "outputs": [],
   "source": [
    "path = 'customer_dataframe.csv'\n",
    "data.to_csv(path, sep='\\t')\n",
    "print(f\"Customer dataframe saved to '{path}'\")"
   ]
  }
 ],
 "metadata": {
  "kernelspec": {
   "display_name": "Python 3",
   "language": "python",
   "name": "python3"
  },
  "language_info": {
   "codemirror_mode": {
    "name": "ipython",
    "version": 3
   },
   "file_extension": ".py",
   "mimetype": "text/x-python",
   "name": "python",
   "nbconvert_exporter": "python",
   "pygments_lexer": "ipython3",
   "version": "3.8.6"
  }
 },
 "nbformat": 4,
 "nbformat_minor": 4
}