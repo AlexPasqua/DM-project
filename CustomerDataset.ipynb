{
 "cells": [
  {
   "cell_type": "code",
   "execution_count": 1,
   "metadata": {},
   "outputs": [],
   "source": [
    "import math\n",
    "import numpy as np\n",
    "import pandas as pd\n",
    "import scipy.stats as stats\n",
    "import matplotlib.pyplot as plt\n",
    "from tqdm.notebook import tqdm\n",
    "import statistics as stat\n",
    "import seaborn as sns"
   ]
  },
  {
   "cell_type": "code",
   "execution_count": 2,
   "metadata": {},
   "outputs": [],
   "source": [
    "# Starting dataset\n",
    "df = pd.read_csv('cleaned_dataframe.csv', sep='\\t', index_col=0)"
   ]
  },
  {
   "cell_type": "code",
   "execution_count": null,
   "metadata": {
    "pycharm": {
     "name": "#%%\n"
    }
   },
   "outputs": [],
   "source": [
    "df.head()"
   ]
  },
  {
   "cell_type": "code",
   "execution_count": null,
   "metadata": {
    "scrolled": true
   },
   "outputs": [],
   "source": [
    "df.info()"
   ]
  },
  {
   "cell_type": "code",
   "execution_count": 3,
   "metadata": {},
   "outputs": [
    {
     "name": "stdout",
     "output_type": "stream",
     "text": [
      "Number of unique customers:  4339\n"
     ]
    }
   ],
   "source": [
    "# Create the dataframe for customers\n",
    "data = pd.core.frame.DataFrame({'CustomerID' : df['CustomerID'].unique()})\n",
    "print(\"Number of unique customers: \", len(data))"
   ]
  },
  {
   "cell_type": "code",
   "execution_count": 27,
   "metadata": {},
   "outputs": [],
   "source": [
    "# Handle Discount"
   ]
  },
  {
   "cell_type": "code",
   "execution_count": 8,
   "metadata": {
    "pycharm": {
     "name": "#%%\n"
    },
    "scrolled": true
   },
   "outputs": [
    {
     "data": {
      "application/vnd.jupyter.widget-view+json": {
       "model_id": "8105a4ceeb644b14b01e138018d29df5",
       "version_major": 2,
       "version_minor": 0
      },
      "text/plain": [
       "HBox(children=(HTML(value='Iterating over customers'), FloatProgress(value=0.0, max=4339.0), HTML(value='')))"
      ]
     },
     "metadata": {},
     "output_type": "display_data"
    },
    {
     "name": "stdout",
     "output_type": "stream",
     "text": [
      "\n"
     ]
    }
   ],
   "source": [
    "unique_products = []\n",
    "unique_products_ret = []\n",
    "total_products = []\n",
    "total_sale = []\n",
    "total_sale_wret = []\n",
    "total_prod_returned = []\n",
    "min_prod_spent = []\n",
    "max_prod_spent = []\n",
    "total_orders = []\n",
    "mean_prod_sale = []\n",
    "\n",
    "#Discount shouldn't be part of products bought nor returned \n",
    "for customer in tqdm(df['CustomerID'].unique(), total=len(data), desc=\"Iterating over customers\"):\n",
    "    # use set ?\n",
    "    # dividing filters instead of conjuncting them is MUCH FASTER\n",
    "    df_temp = df.loc[df['CustomerID'] == customer, ['ProdID']].drop_duplicates()\n",
    "    unique_products.append(len(df_temp.loc[df_temp['ProdID'] != 'D']))\n",
    "    \n",
    "    df_temp = df.loc[(df['CustomerID'] == customer) & (df['Qta'] < 0), ['ProdID']].drop_duplicates()\n",
    "    unique_products_ret.append(len(df_temp.loc[df_temp['ProdID'] != 'D']))\n",
    "    \n",
    "    \n",
    "    # discount are counted in total orders\n",
    "    total_orders.append(len(df.loc[(df['CustomerID'] == customer) & (df['Qta'] > 0), ['BasketID']].drop_duplicates()))\n",
    "    \n",
    "    \n",
    "    # discount values are useful in meanps and tswr\n",
    "    # discount values are NOT useful in mps, since they would always be the min value\n",
    "    # discount values are useful in ts but have to be avoided in tp (not a real product)\n",
    "    df_aux = df.loc[df['CustomerID'] == customer, ['Qta', 'Sale','ProdID']]\n",
    "    tp = tpr = ts = tswr = 0\n",
    "    mps = []\n",
    "    meanps = []\n",
    "    for _, r in df_aux.iterrows():\n",
    "        cost = r['Qta']*r['Sale']\n",
    "        tp += r['Qta'] if r['ProdID'] != 'D' else 0\n",
    "        ts += cost\n",
    "        if r['Qta'] > 0 or r['ProdID'] == 'D':\n",
    "            tswr += cost\n",
    "            meanps.append(r['Sale'])\n",
    "            if r['Qta'] > 0: # not DISCOUNT\n",
    "                mps.append(cost)\n",
    "        else:\n",
    "            tpr += 1 # or -r['Qta']\n",
    "            \n",
    "    total_products.append(tp)\n",
    "    total_prod_returned.append(tpr)\n",
    "    total_sale.append(ts)\n",
    "    total_sale_wret.append(tswr)\n",
    "    min_prod_spent.append(min(mps))\n",
    "    max_prod_spent.append(max(mps))\n",
    "    mean_prod_sale.append(stat.fmean(meanps)) "
   ]
  },
  {
   "cell_type": "code",
   "execution_count": 6,
   "metadata": {},
   "outputs": [
    {
     "data": {
      "application/vnd.jupyter.widget-view+json": {
       "model_id": "1635e1b68c3c415cbb493d8230854242",
       "version_major": 2,
       "version_minor": 0
      },
      "text/plain": [
       "HBox(children=(HTML(value='Iterating over orders'), FloatProgress(value=0.0, max=21736.0), HTML(value='')))"
      ]
     },
     "metadata": {},
     "output_type": "display_data"
    },
    {
     "name": "stdout",
     "output_type": "stream",
     "text": [
      "\n"
     ]
    }
   ],
   "source": [
    "order_stats_per_customer = {} # key = customerID, value = list(max_products_order, min, mean_accum, max_spent_order, min, mean_accum, mean_counter) \n",
    "mean_counter = 0\n",
    "data_about_order = df[['BasketID','CustomerID']].drop_duplicates()\n",
    "\n",
    "######################################################################################################################################\n",
    "#what about discount? no sense reasoning about those records if calculating max/min qta/sale, but reasonable to add them in mean calc#\n",
    "######################################################################################################################################\n",
    "\n",
    "for _, r in tqdm(data_about_order.iterrows(), total=len(data_about_order), desc=\"Iterating over orders\"):\n",
    "    customer = r[\"CustomerID\"]\n",
    "    order = r[\"BasketID\"]\n",
    "    df_aux = df.loc[(df['BasketID'] == order) & (df['CustomerID'] == customer), ['Qta','Sale','ProdID']]  \n",
    "    temp_prod = 0\n",
    "    temp_sale = 0 \n",
    "    \n",
    "    for _, int_r in df_aux.iterrows():\n",
    "        temp_prod += int_r['Qta']\n",
    "        temp_sale += int_r['Qta']*int_r['Sale']\n",
    "        \n",
    "    is_neg = False\n",
    "    if temp_prod < 0 or temp_sale < 0:\n",
    "        is_neg = True  \n",
    "    \n",
    "    if customer not in order_stats_per_customer:\n",
    "        order_stats_per_customer[customer] = [math.inf, math.inf, 0, math.inf, math.inf, 0, 0]\n",
    "        \n",
    "    if not is_neg:\n",
    "        if order_stats_per_customer[customer][0] == math.inf or order_stats_per_customer[customer][0] < temp_prod:\n",
    "            order_stats_per_customer[customer][0] = temp_prod\n",
    "        if order_stats_per_customer[customer][1] == math.inf or order_stats_per_customer[customer][1] > temp_prod:\n",
    "            order_stats_per_customer[customer][1] = temp_prod\n",
    "        if order_stats_per_customer[customer][3] == math.inf or order_stats_per_customer[customer][3] < temp_sale:\n",
    "            order_stats_per_customer[customer][3] = temp_sale\n",
    "        if order_stats_per_customer[customer][4] == math.inf or order_stats_per_customer[customer][4] > temp_sale:\n",
    "            order_stats_per_customer[customer][4] = temp_sale\n",
    "            \n",
    "    order_stats_per_customer[customer][2] += temp_prod\n",
    "    order_stats_per_customer[customer][5] += temp_sale\n",
    "    order_stats_per_customer[customer][6] += 1"
   ]
  },
  {
   "cell_type": "code",
   "execution_count": 7,
   "metadata": {},
   "outputs": [
    {
     "data": {
      "application/vnd.jupyter.widget-view+json": {
       "model_id": "6bebcead98304a0db292809c8c7c346c",
       "version_major": 2,
       "version_minor": 0
      },
      "text/plain": [
       "HBox(children=(HTML(value='Iterating over customers'), FloatProgress(value=0.0, max=4339.0), HTML(value='')))"
      ]
     },
     "metadata": {},
     "output_type": "display_data"
    },
    {
     "name": "stdout",
     "output_type": "stream",
     "text": [
      "\n"
     ]
    }
   ],
   "source": [
    "max_spent_order_wise = []\n",
    "min_spent_order_wise = []\n",
    "mean_spent_order_wise = []\n",
    "max_products_order_wise = []\n",
    "min_products_order_wise = []\n",
    "mean_products_order_wise = []\n",
    "\n",
    "for customer in tqdm(df['CustomerID'].unique(), total=len(data), desc=\"Iterating over customers\"):\n",
    "    max_products_order_wise.append(order_stats_per_customer[customer][0])\n",
    "    min_products_order_wise.append(order_stats_per_customer[customer][1])\n",
    "    mean_products_order_wise.append(order_stats_per_customer[customer][2] / order_stats_per_customer[customer][6])\n",
    "    max_spent_order_wise.append(order_stats_per_customer[customer][3])\n",
    "    min_spent_order_wise.append(order_stats_per_customer[customer][4])\n",
    "    mean_spent_order_wise.append(order_stats_per_customer[customer][5] / order_stats_per_customer[customer][6])"
   ]
  },
  {
   "cell_type": "code",
   "execution_count": 42,
   "metadata": {},
   "outputs": [
    {
     "data": {
      "application/vnd.jupyter.widget-view+json": {
       "model_id": "1ea145a8a7d14d508ab272fa4a25eb0a",
       "version_major": 2,
       "version_minor": 0
      },
      "text/plain": [
       "HBox(children=(HTML(value='Iterating over customers'), FloatProgress(value=0.0, max=4339.0), HTML(value='')))"
      ]
     },
     "metadata": {},
     "output_type": "display_data"
    },
    {
     "data": {
      "application/vnd.jupyter.widget-view+json": {
       "model_id": "1ea145a8a7d14d508ab272fa4a25eb0a",
       "version_major": 2,
       "version_minor": 0
      },
      "text/plain": [
       "HBox(children=(HTML(value='Iterating over customers'), FloatProgress(value=0.0, max=4339.0), HTML(value='')))"
      ]
     },
     "metadata": {},
     "output_type": "display_data"
    },
    {
     "name": "stdout",
     "output_type": "stream",
     "text": [
      "\n",
      "\n"
     ]
    }
   ],
   "source": [
    "mean_order_month = []\n",
    "mean_prod_month = []\n",
    "mean_sale_month = []\n",
    "for customer in tqdm(df['CustomerID'].unique(), total=len(data), desc=\"Iterating over customers\"):\n",
    "    order_per_month = []\n",
    "    prod_per_month = []\n",
    "    sale_per_month = []\n",
    "    df_aux = df.loc[df['CustomerID'] == customer, ['BasketDate', 'BasketID', 'ProdID', 'Sale', 'Qta']]\n",
    "    for month in range(1, 13):\n",
    "        tot = 0\n",
    "        orders = set()\n",
    "        prods = set()\n",
    "        for _, r in df_aux.iterrows():\n",
    "             if r['BasketDate'][3:5] == str(month):\n",
    "                orders.add(r['BasketID'])\n",
    "                prods.add(r['ProdID'])\n",
    "                tot += r['Qta']*r['Sale']\n",
    "        order_per_month.append(len(orders))\n",
    "        prod_per_month.append(len(prods))\n",
    "        sale_per_month.append(tot)\n",
    "    mean_order_month.append(stat.fmean(order_per_month))\n",
    "    mean_prod_month.append(stat.fmean(prod_per_month))\n",
    "    mean_sale_month.append(stat.fmean(sale_per_month))"
   ]
  },
  {
   "cell_type": "code",
   "execution_count": 9,
   "metadata": {},
   "outputs": [],
   "source": [
    "# I: the total number of items purchased by a customer during the period of observation.\n",
    "data['TProd'] = total_products"
   ]
  },
  {
   "cell_type": "code",
   "execution_count": 10,
   "metadata": {},
   "outputs": [],
   "source": [
    "# Iu: the number of distinct items bought by a customer in the period of observation.\n",
    "data['DProd'] = unique_products"
   ]
  },
  {
   "cell_type": "code",
   "execution_count": 11,
   "metadata": {},
   "outputs": [],
   "source": [
    "# Imax: the maximum number of items purchased by a customer during a shopping session\n",
    "data['MaxPO'] = max_products_order_wise"
   ]
  },
  {
   "cell_type": "code",
   "execution_count": 12,
   "metadata": {},
   "outputs": [],
   "source": [
    "# Imin: the minimum number of items purchased by a customer during a shopping session\n",
    "data['MinPO'] = min_products_order_wise"
   ]
  },
  {
   "cell_type": "code",
   "execution_count": null,
   "metadata": {},
   "outputs": [],
   "source": [
    "# E: the Shannon entropy on the purchasing behaviour of the customer"
   ]
  },
  {
   "cell_type": "code",
   "execution_count": 13,
   "metadata": {},
   "outputs": [],
   "source": [
    "# ProdPerOrderMean: mean number of items purchased by a customer during a shopping session\n",
    "data['MeanProdOrder'] = mean_products_order_wise"
   ]
  },
  {
   "cell_type": "code",
   "execution_count": 14,
   "metadata": {},
   "outputs": [],
   "source": [
    "# SaleTot: total amount spent during the period of observation\n",
    "data['TSale'] = total_sale"
   ]
  },
  {
   "cell_type": "code",
   "execution_count": 15,
   "metadata": {},
   "outputs": [],
   "source": [
    "# SaleTotWithoutReturn: total amount spent without negative quantity during the period of observation\n",
    "data['TSaleWRet'] = total_sale_wret"
   ]
  },
  {
   "cell_type": "code",
   "execution_count": 16,
   "metadata": {},
   "outputs": [],
   "source": [
    "# SaleMin: min amount spent for a product during the shopping session\n",
    "data['MinPSale'] = min_prod_spent"
   ]
  },
  {
   "cell_type": "code",
   "execution_count": 17,
   "metadata": {},
   "outputs": [],
   "source": [
    "# SaleMax: max amount spent for a product during the shopping session\n",
    "data['MaxPSale'] = max_prod_spent"
   ]
  },
  {
   "cell_type": "code",
   "execution_count": 19,
   "metadata": {},
   "outputs": [],
   "source": [
    "# SaleMeanPerOrder: mean amount spent for each order during the period of observation\n",
    "data['MeanSaleOrder'] = mean_spent_order_wise"
   ]
  },
  {
   "cell_type": "code",
   "execution_count": 20,
   "metadata": {},
   "outputs": [],
   "source": [
    "# NumRetProd: number of returned products in the period of observation\n",
    "data['TRProd'] = total_prod_returned"
   ]
  },
  {
   "cell_type": "code",
   "execution_count": 21,
   "metadata": {},
   "outputs": [],
   "source": [
    "# NumDistRetProd: number of distinct returned products in the period of observation\n",
    "data['TRDProd'] = unique_products_ret"
   ]
  },
  {
   "cell_type": "code",
   "execution_count": 22,
   "metadata": {},
   "outputs": [],
   "source": [
    "# MeanProdCostInOrder: mean cost of the products in the orders in the period of observation\n",
    "data['MeanPSale'] = mean_prod_sale"
   ]
  },
  {
   "cell_type": "code",
   "execution_count": 23,
   "metadata": {},
   "outputs": [],
   "source": [
    "# NumberOfOrders: total number of orders made by customer\n",
    "data['TOrder'] = total_orders"
   ]
  },
  {
   "cell_type": "code",
   "execution_count": 57,
   "metadata": {},
   "outputs": [],
   "source": [
    "# MeanOrderPerMonth\n",
    "data['OrderMonth'] = mean_order_month"
   ]
  },
  {
   "cell_type": "code",
   "execution_count": 58,
   "metadata": {},
   "outputs": [],
   "source": [
    "# MeanProductPerMonth\n",
    "data['ProdMonth'] = mean_prod_month"
   ]
  },
  {
   "cell_type": "code",
   "execution_count": 59,
   "metadata": {},
   "outputs": [],
   "source": [
    "# MeanAmountSpentPerMonth\n",
    "data['SaleMonth'] = mean_sale_month"
   ]
  },
  {
   "cell_type": "code",
   "execution_count": null,
   "metadata": {},
   "outputs": [],
   "source": [
    "# CustomerCounty : value from original dataframe\n",
    "#data['CustomerCountry'] = ''\n",
    "#data = data.join(pd.core.frame.DataFrame({'CustomerID':df['CustomerID'], 'CustomerCountry':df['CustomerCountry']}).drop_duplicates().set_index('CustomerID'), on='CustomerID')\n",
    "\n",
    "#tmp = pd.core.frame.DataFrame({'CustomerID':df['CustomerID'], 'CustomerCountry':df['CustomerCountry']}).drop_duplicates()\n",
    "#tmp['CustomerID'].value_counts()[0:8]\n",
    "# 4372 distinct customers - 4380 elements in tmp\n",
    "# 8 customers have two different nationalities\n",
    "\n",
    "# Find entries with multiple nationality\n",
    "#counts = tmp['CustomerID'].value_counts().items()\n",
    "#count_dict = {x[0]:x[1] for x in counts}\n",
    "#for _, row in tmp.sort_values(by=['CustomerID']).iterrows():\n",
    "#    if count_dict[row['CustomerID']] > 1:\n",
    "#        print(f\"{row['CustomerID']}-{row['CustomerCountry']}\")"
   ]
  },
  {
   "cell_type": "code",
   "execution_count": 26,
   "metadata": {
    "scrolled": false
   },
   "outputs": [
    {
     "data": {
      "text/html": [
       "<div>\n",
       "<style scoped>\n",
       "    .dataframe tbody tr th:only-of-type {\n",
       "        vertical-align: middle;\n",
       "    }\n",
       "\n",
       "    .dataframe tbody tr th {\n",
       "        vertical-align: top;\n",
       "    }\n",
       "\n",
       "    .dataframe thead th {\n",
       "        text-align: right;\n",
       "    }\n",
       "</style>\n",
       "<table border=\"1\" class=\"dataframe\">\n",
       "  <thead>\n",
       "    <tr style=\"text-align: right;\">\n",
       "      <th></th>\n",
       "      <th>CustomerID</th>\n",
       "      <th>TProd</th>\n",
       "      <th>DProd</th>\n",
       "      <th>MaxPO</th>\n",
       "      <th>MinPO</th>\n",
       "      <th>MeanProdOrder</th>\n",
       "      <th>TSale</th>\n",
       "      <th>TSaleWRet</th>\n",
       "      <th>MinPSale</th>\n",
       "      <th>MaxPSale</th>\n",
       "      <th>MeanSaleOrder</th>\n",
       "      <th>TRProd</th>\n",
       "      <th>TRDProd</th>\n",
       "      <th>MeanPSale</th>\n",
       "      <th>TOrder</th>\n",
       "    </tr>\n",
       "  </thead>\n",
       "  <tbody>\n",
       "    <tr>\n",
       "      <th>9</th>\n",
       "      <td>14527</td>\n",
       "      <td>2084</td>\n",
       "      <td>330</td>\n",
       "      <td>96</td>\n",
       "      <td>1</td>\n",
       "      <td>24.105882</td>\n",
       "      <td>7789.69</td>\n",
       "      <td>7818.29</td>\n",
       "      <td>0.39</td>\n",
       "      <td>87.6</td>\n",
       "      <td>91.643412</td>\n",
       "      <td>3</td>\n",
       "      <td>3</td>\n",
       "      <td>5.859692</td>\n",
       "      <td>55</td>\n",
       "    </tr>\n",
       "  </tbody>\n",
       "</table>\n",
       "</div>"
      ],
      "text/plain": [
       "   CustomerID  TProd  DProd  MaxPO  MinPO  MeanProdOrder    TSale  TSaleWRet  \\\n",
       "9       14527   2084    330     96      1      24.105882  7789.69    7818.29   \n",
       "\n",
       "   MinPSale  MaxPSale  MeanSaleOrder  TRProd  TRDProd  MeanPSale  TOrder  \n",
       "9      0.39      87.6      91.643412       3        3   5.859692      55  "
      ]
     },
     "execution_count": 26,
     "metadata": {},
     "output_type": "execute_result"
    }
   ],
   "source": [
    "data"
   ]
  },
  {
   "cell_type": "code",
   "execution_count": 25,
   "metadata": {
    "scrolled": false
   },
   "outputs": [
    {
     "name": "stdout",
     "output_type": "stream",
     "text": [
      "<class 'pandas.core.frame.DataFrame'>\n",
      "RangeIndex: 4339 entries, 0 to 4338\n",
      "Data columns (total 15 columns):\n",
      " #   Column         Non-Null Count  Dtype  \n",
      "---  ------         --------------  -----  \n",
      " 0   CustomerID     4339 non-null   int64  \n",
      " 1   TProd          4339 non-null   int64  \n",
      " 2   DProd          4339 non-null   int64  \n",
      " 3   MaxPO          4339 non-null   int64  \n",
      " 4   MinPO          4339 non-null   int64  \n",
      " 5   MeanProdOrder  4339 non-null   float64\n",
      " 6   TSale          4339 non-null   float64\n",
      " 7   TSaleWRet      4339 non-null   float64\n",
      " 8   MinPSale       4339 non-null   float64\n",
      " 9   MaxPSale       4339 non-null   float64\n",
      " 10  MeanSaleOrder  4339 non-null   float64\n",
      " 11  TRProd         4339 non-null   int64  \n",
      " 12  TRDProd        4339 non-null   int64  \n",
      " 13  MeanPSale      4339 non-null   float64\n",
      " 14  TOrder         4339 non-null   int64  \n",
      "dtypes: float64(7), int64(8)\n",
      "memory usage: 508.6 KB\n"
     ]
    }
   ],
   "source": [
    "data.info()"
   ]
  },
  {
   "cell_type": "code",
   "execution_count": null,
   "metadata": {},
   "outputs": [],
   "source": [
    "f, ax = plt.subplots(figsize=(15, 13))\n",
    "correlation = data.corr()\n",
    "sns.heatmap(correlation, cmap=\"coolwarm\", vmin=0, vmax=1, annot=True, mask=np.zeros_like(correlation, dtype=np.bool), square=True, ax=ax, edgecolor='black')\n",
    "plt.xticks(rotation=315)\n",
    "plt.title(\"Correlation matrix\")"
   ]
  }
 ],
 "metadata": {
  "kernelspec": {
   "display_name": "Python 3",
   "language": "python",
   "name": "python3"
  },
  "language_info": {
   "codemirror_mode": {
    "name": "ipython",
    "version": 3
   },
   "file_extension": ".py",
   "mimetype": "text/x-python",
   "name": "python",
   "nbconvert_exporter": "python",
   "pygments_lexer": "ipython3",
   "version": "3.8.3"
  }
 },
 "nbformat": 4,
 "nbformat_minor": 4
}
